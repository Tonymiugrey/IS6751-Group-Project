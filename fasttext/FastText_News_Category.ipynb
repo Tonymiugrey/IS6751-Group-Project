{
 "cells": [
  {
   "cell_type": "markdown",
   "metadata": {},
   "source": [
    "# FastText News Classification"
   ]
  },
  {
   "cell_type": "markdown",
   "metadata": {},
   "source": [
    "## Imports"
   ]
  },
  {
   "cell_type": "code",
   "execution_count": 1,
   "metadata": {},
   "outputs": [
    {
     "name": "stderr",
     "output_type": "stream",
     "text": [
      "[nltk_data] Downloading package stopwords to\n",
      "[nltk_data]     C:\\Users\\miuGrey\\AppData\\Roaming\\nltk_data...\n",
      "[nltk_data]   Package stopwords is already up-to-date!\n",
      "[nltk_data] Downloading package wordnet to\n",
      "[nltk_data]     C:\\Users\\miuGrey\\AppData\\Roaming\\nltk_data...\n",
      "[nltk_data]   Package wordnet is already up-to-date!\n",
      "[nltk_data] Downloading package punkt to\n",
      "[nltk_data]     C:\\Users\\miuGrey\\AppData\\Roaming\\nltk_data...\n",
      "[nltk_data]   Package punkt is already up-to-date!\n",
      "[nltk_data] Downloading package omw-1.4 to\n",
      "[nltk_data]     C:\\Users\\miuGrey\\AppData\\Roaming\\nltk_data...\n",
      "[nltk_data]   Package omw-1.4 is already up-to-date!\n"
     ]
    }
   ],
   "source": [
    "import os\n",
    "from argparse import Namespace\n",
    "from collections import Counter\n",
    "import json\n",
    "import re\n",
    "import string\n",
    "\n",
    "import numpy as np\n",
    "import pandas as pd\n",
    "import torch\n",
    "import torch.nn as nn\n",
    "import torch.nn.functional as F\n",
    "import torch.optim as optim\n",
    "from torch.utils.data import Dataset, DataLoader\n",
    "from tqdm.notebook import tqdm\n",
    "\n",
    "import nltk\n",
    "nltk.download('stopwords')\n",
    "nltk.download('wordnet')\n",
    "nltk.download('punkt')\n",
    "nltk.download('omw-1.4')\n",
    "from nltk.corpus import stopwords # remove stopword\n",
    "from nltk.stem import WordNetLemmatizer\n",
    "from nltk.util import ngrams\n",
    "from nltk import word_tokenize"
   ]
  },
  {
   "cell_type": "markdown",
   "metadata": {},
   "source": [
    "## Data Vectorization classes"
   ]
  },
  {
   "cell_type": "markdown",
   "metadata": {},
   "source": [
    "### The Vocabulary"
   ]
  },
  {
   "cell_type": "code",
   "execution_count": 2,
   "metadata": {},
   "outputs": [],
   "source": [
    "class Vocabulary(object):\n",
    "    \"\"\"Class to process text and extract vocabulary for mapping\"\"\"\n",
    "\n",
    "    def __init__(self, token_to_idx=None):\n",
    "        \"\"\"\n",
    "        Args:\n",
    "            token_to_idx (dict): a pre-existing map of tokens to indices\n",
    "        \"\"\"\n",
    "\n",
    "        # news_vocab._token_to_idx: {'<MASK>': 0, '<UNK>': 1, '<BEGIN>': 2, '<END>': 3, 'jobs': 4, 'tax': 5, 'cuts': 6,  \n",
    "        #                             ......, 'shiite': 3407, 'ghraib': 3408}\n",
    "        # category_vocab._token_to_idx: {'Business': 0, 'Sci/Tech': 1, 'Sports': 2, 'World': 3}\n",
    "        \n",
    "        if token_to_idx is None:\n",
    "            token_to_idx = {}\n",
    "        self._token_to_idx = token_to_idx\n",
    "\n",
    "        self._idx_to_token = {idx: token \n",
    "                              for token, idx in self._token_to_idx.items()}\n",
    "        \n",
    "    def add_token(self, token):\n",
    "        \"\"\"Update mapping dicts based on the token.\n",
    "\n",
    "        Args:\n",
    "            token (str): the item to add into the Vocabulary\n",
    "        Returns:\n",
    "            index (int): the integer corresponding to the token\n",
    "        \"\"\"\n",
    "        if token in self._token_to_idx:\n",
    "            index = self._token_to_idx[token]\n",
    "        else:\n",
    "            index = len(self._token_to_idx)\n",
    "            self._token_to_idx[token] = index\n",
    "            self._idx_to_token[index] = token\n",
    "        return index\n",
    "            \n",
    "    def lookup_token(self, token):\n",
    "        \"\"\"Retrieve the index associated with the token \n",
    "        \n",
    "        Args:\n",
    "            token (str): the token to look up \n",
    "        Returns:\n",
    "            index (int): the index corresponding to the token\n",
    "        \"\"\"\n",
    "        return self._token_to_idx[token]\n",
    "\n",
    "    def lookup_index(self, index):\n",
    "        \"\"\"Return the token associated with the index\n",
    "        \n",
    "        Args: \n",
    "            index (int): the index to look up\n",
    "        Returns:\n",
    "            token (str): the token corresponding to the index\n",
    "        Raises:\n",
    "            KeyError: if the index is not in the Vocabulary\n",
    "        \"\"\"\n",
    "        if index not in self._idx_to_token:\n",
    "            raise KeyError(\"the index (%d) is not in the Vocabulary\" % index)\n",
    "        return self._idx_to_token[index]\n",
    "\n",
    "    def __str__(self):\n",
    "        return \"<Vocabulary(size=%d)>\" % len(self)\n",
    "\n",
    "    def __len__(self):\n",
    "        return len(self._token_to_idx)"
   ]
  },
  {
   "cell_type": "code",
   "execution_count": 3,
   "metadata": {},
   "outputs": [],
   "source": [
    "class SequenceVocabulary(Vocabulary):\n",
    "    def __init__(self, token_to_idx=None, unk_token=\"<UNK>\",\n",
    "                 mask_token=\"<MASK>\", begin_seq_token=\"<BEGIN>\",\n",
    "                 end_seq_token=\"<END>\"):\n",
    "\n",
    "        super(SequenceVocabulary, self).__init__(token_to_idx)\n",
    "\n",
    "        self._mask_token = mask_token             # for paddding, e.g., Wall St. Bears Claw Back Into the Black (Reuters)\n",
    "                                                  #               -> [2, 5, 6, 10, 10, 8, 7, 9, 19, ......., 3, 0, 0, 0, ..., 0]\n",
    "        self._unk_token = unk_token\n",
    "        self._begin_seq_token = begin_seq_token\n",
    "        self._end_seq_token = end_seq_token\n",
    "\n",
    "        self.mask_index = self.add_token(self._mask_token)            # mask_index is 0\n",
    "        self.unk_index = self.add_token(self._unk_token)              # unk_index is 1\n",
    "        self.begin_seq_index = self.add_token(self._begin_seq_token)  # begin_seq_index is 2\n",
    "        self.end_seq_index = self.add_token(self._end_seq_token)      # end_seq_index is 3\n",
    "\n",
    "    def lookup_token(self, token):\n",
    "        \"\"\"Retrieve the index associated with the token \n",
    "          or the UNK index if token isn't present.\n",
    "        \n",
    "        Args:\n",
    "            token (str): the token to look up \n",
    "        Returns:\n",
    "            index (int): the index corresponding to the token\n",
    "        Notes:\n",
    "            `unk_index` needs to be >=0 (having been added into the Vocabulary) \n",
    "              for the UNK functionality \n",
    "        \"\"\"\n",
    "        if self.unk_index >= 0:\n",
    "            return self._token_to_idx.get(token, self.unk_index)\n",
    "        else:\n",
    "            return self._token_to_idx[token]"
   ]
  },
  {
   "cell_type": "markdown",
   "metadata": {},
   "source": [
    "### The Vectorizer"
   ]
  },
  {
   "cell_type": "code",
   "execution_count": 4,
   "metadata": {},
   "outputs": [],
   "source": [
    "class NewsVectorizer(object):\n",
    "    \"\"\" The Vectorizer which coordinates the Vocabularies and puts them to use\"\"\"    \n",
    "    def __init__(self, news_vocab, category_vocab):\n",
    "        self.news_vocab = news_vocab\n",
    "        self.category_vocab = category_vocab\n",
    "\n",
    "    def vectorize(self, text, vector_length=-1):\n",
    "        \"\"\"\n",
    "        Args:\n",
    "            text (str): the string of words separated by a space\n",
    "            vector_length (int): an argument for forcing the length of index vector\n",
    "        Returns:\n",
    "            the vetorized text (numpy.array)\n",
    "        \"\"\"\n",
    "        \"\"\"    \n",
    "        mask_index is 0\n",
    "        unk_index is 1\n",
    "        begin_seq_index is 2\n",
    "        end_seq_index is 3\n",
    "        \n",
    "        When text is \"Wall St. Bears Claw Back Into the Black (Reuters)\"; max vector length is 29 in current dataset \n",
    "        \n",
    "        out_vector = [2, 5, 6, 10, 10, 8, 7, 9, 19, ......., 3, 0, 0, 0, ..., 0]\n",
    "        \n",
    "        \"\"\"\n",
    "        \n",
    "        indices = [self.news_vocab.begin_seq_index]\n",
    "        indices.extend(self.news_vocab.lookup_token(token) \n",
    "                       for token in text.split(\" \"))\n",
    "        indices.append(self.news_vocab.end_seq_index)\n",
    "\n",
    "        if vector_length < 0:\n",
    "            vector_length = len(indices)\n",
    "\n",
    "        out_vector = np.zeros(vector_length, dtype=np.int64)\n",
    "        out_vector[:len(indices)] = indices\n",
    "        out_vector[len(indices):] = self.news_vocab.mask_index\n",
    "\n",
    "        return out_vector\n",
    "\n",
    "    @classmethod\n",
    "    def from_dataframe(cls, news_df, cutoff=25):\n",
    "        \"\"\"Instantiate the vectorizer from the dataset dataframe\n",
    "        \n",
    "        Args:\n",
    "            news_df (pandas.DataFrame): the target dataset\n",
    "            cutoff (int): frequency threshold for including in Vocabulary \n",
    "        Returns:\n",
    "            an instance of the NewsVectorizer\n",
    "        \"\"\"\n",
    "        category_vocab = Vocabulary()        \n",
    "        for category in sorted(set(news_df.category)):\n",
    "            category_vocab.add_token(category)\n",
    "\n",
    "        word_counts = Counter()\n",
    "        for text in news_df.text:\n",
    "            for token in text.split(\" \"):\n",
    "                if token not in string.punctuation:\n",
    "                    word_counts[token] += 1\n",
    "        \n",
    "        news_vocab = SequenceVocabulary()\n",
    "        for word, word_count in word_counts.items():\n",
    "            if word_count >= cutoff:\n",
    "                news_vocab.add_token(word)\n",
    "        \n",
    "        return cls(news_vocab, category_vocab)"
   ]
  },
  {
   "cell_type": "markdown",
   "metadata": {},
   "source": [
    "### The Dataset"
   ]
  },
  {
   "cell_type": "code",
   "execution_count": 5,
   "metadata": {},
   "outputs": [
    {
     "data": {
      "text/plain": [
       "'glaxo settle paxil settle paxil suicide paxil suicide pill suicide pill suit pill suit new suit new york new york reuters york reuters glaxosmithkline reuters glaxosmithkline plc glaxosmithkline plc href plc href target href target stock target stock quickinfo stock quickinfo fullquote quickinfo fullquote l fullquote l agreed l agreed release agreed release clinical release clinical study clinical study drug study drug settle drug settle lawsuit settle lawsuit accused lawsuit accused withholding accused withholding negative withholding negative information negative information antidepressant information antidepressant paxil antidepressant paxil new paxil new york new york attorney york attorney general attorney general office general office said office said thursday'"
      ]
     },
     "execution_count": 5,
     "metadata": {},
     "output_type": "execute_result"
    }
   ],
   "source": [
    "def text_preprocessing(text):\n",
    "    text = text.lower() # case folding\n",
    "    text = re.sub('&\\w*\\;\\w*', '', text)\n",
    "    text = re.sub('https?://\\S+|www\\.\\S+', '', text)\n",
    "    text = re.sub('\\[.*?\\]', '', text)\n",
    "    text = re.sub('<.*?>+', '', text)\n",
    "    text = re.sub('\\n', '', text)\n",
    "    text = re.sub(r\"[^a-z]+\", r\" \", text) # Regulation, remove special charecters\n",
    "    stop_words = set(stopwords.words('english'))\n",
    "    tokens = word_tokenize(text)\n",
    "    lemmatizer=WordNetLemmatizer()\n",
    "    # remove stopwords and lemmatization\n",
    "    result = [lemmatizer.lemmatize(i) for i in tokens if not i in stop_words]\n",
    "    # result = result[:1000]\n",
    "    # bigram\n",
    "    bigram_result = []\n",
    "    bigram_list = ngrams(result, 2)\n",
    "    for word_set in bigram_list:\n",
    "        for word in word_set:\n",
    "            bigram_result.append(word)\n",
    "    return bigram_result\n",
    "\n",
    "test_str_1 = \"This is sentence to test the effect of preprocessing... Yeah~\\nCool!fac  feae ge fe ga 🪣🛀🎀 ☏☢︎⏥␘⍎ (>╹ω╹<)喵\"\n",
    "test_str_2 = \"Glaxo Settles Paxil 'Suicide Pill' Suit.  NEW YORK (Reuters) - GlaxoSmithKline Plc &lt;A HREF=http://www.investor.reuters.com/FullQuote.aspx?ticker=GSK.L target=/stocks/quickinfo/fullquote\"\"&gt;GSK.L&lt;/A&gt; has agreed  to release all clinical studies of its drugs to settle a  lawsuit that accused it of withholding negative information  about the antidepressant Paxil, the New York Attorney General's  office said on Thursday.\"\n",
    "list = text_preprocessing(test_str_2)\n",
    "' '.join(list)"
   ]
  },
  {
   "cell_type": "code",
   "execution_count": 6,
   "metadata": {},
   "outputs": [],
   "source": [
    "class NewsDataset(Dataset):\n",
    "    def __init__(self, news_df, vectorizer):\n",
    "        \"\"\"\n",
    "        Args:\n",
    "            news_df (pandas.DataFrame): the dataset\n",
    "            vectorizer (NewsVectorizer): vectorizer instatiated from dataset\n",
    "        \"\"\"\n",
    "        self.news_df = news_df\n",
    "        self._vectorizer = vectorizer\n",
    "\n",
    "        # +1 if only using begin_seq, +2 if using both begin and end seq tokens\n",
    "        measure_len = lambda context: len(context.split(\" \"))\n",
    "        self._max_seq_length = max(map(measure_len, news_df.text)) + 2\n",
    "        \n",
    "\n",
    "        self.train_df = self.news_df[self.news_df.split=='train']\n",
    "        self.train_size = len(self.train_df)\n",
    "\n",
    "        self.val_df = self.news_df[self.news_df.split=='val']\n",
    "        self.validation_size = len(self.val_df)\n",
    "\n",
    "        self.test_df = self.news_df[self.news_df.split=='test']\n",
    "        self.test_size = len(self.test_df)\n",
    "\n",
    "        self._lookup_dict = {'train': (self.train_df, self.train_size),\n",
    "                             'val': (self.val_df, self.validation_size),\n",
    "                             'test': (self.test_df, self.test_size)}\n",
    "\n",
    "        self.set_split('train')\n",
    "\n",
    "        # Class weights\n",
    "        class_counts = news_df.category.value_counts().to_dict()\n",
    "        def sort_key(item):\n",
    "            return self._vectorizer.category_vocab.lookup_token(item[0])\n",
    "        sorted_counts = sorted(class_counts.items(), key=sort_key)\n",
    "        frequencies = [count for _, count in sorted_counts]\n",
    "        self.class_weights = 1.0 / torch.tensor(frequencies, dtype=torch.float32)\n",
    "        \n",
    "        \n",
    "    @classmethod\n",
    "    def load_dataset_and_make_vectorizer(cls, news_csv):\n",
    "        \"\"\"Load dataset and make a new vectorizer from scratch\n",
    "        \n",
    "        Args:\n",
    "            surname_csv (str): location of the dataset\n",
    "        Returns:\n",
    "            an instance of SurnameDataset\n",
    "        \"\"\"\n",
    "        news_df = pd.read_csv(news_csv)\n",
    "        \n",
    "        for index, text in enumerate(news_df.text):\n",
    "            processed_list = text_preprocessing(text)\n",
    "            news_df.text[index] = ' '.join(processed_list)\n",
    "\n",
    "        train_news_df = news_df[news_df.split=='train']\n",
    "        return cls(news_df, NewsVectorizer.from_dataframe(train_news_df))\n",
    "\n",
    "    def get_vectorizer(self):\n",
    "        \"\"\" returns the vectorizer \"\"\"\n",
    "        return self._vectorizer\n",
    "\n",
    "    def set_split(self, split=\"train\"):\n",
    "        \"\"\" selects the splits in the dataset using a column in the dataframe \"\"\"\n",
    "        self._target_split = split\n",
    "        self._target_df, self._target_size = self._lookup_dict[split]\n",
    "\n",
    "    def __len__(self):\n",
    "        return self._target_size\n",
    "\n",
    "    def __getitem__(self, index):\n",
    "        \"\"\"the primary entry point method for PyTorch datasets\n",
    "        \n",
    "        Args:\n",
    "            index (int): the index to the data point \n",
    "        Returns:\n",
    "            a dictionary holding the data point's features (x_data) and label (y_target)\n",
    "        \"\"\"\n",
    "        row = self._target_df.iloc[index]\n",
    "\n",
    "        news_vector = \\\n",
    "            self._vectorizer.vectorize(row.text, self._max_seq_length)\n",
    "\n",
    "        category_index = \\\n",
    "            self._vectorizer.category_vocab.lookup_token(row.category)\n",
    "\n",
    "        return {'x_data': news_vector,     # e.g., \"Wall St. Bears Claw Back Into the Black (Reuters)\" \n",
    "                                            # -> [2, 5, 6, 10, 10, 8, 7, 9, 19, ......., 3, 0, 0, 0, ..., 0]\n",
    "                'y_target': category_index} # e.g., 2\n",
    "\n",
    "    def get_num_batches(self, batch_size):\n",
    "        \"\"\"Given a batch size, return the number of batches in the dataset\n",
    "        \n",
    "        Args:\n",
    "            batch_size (int)\n",
    "        Returns:\n",
    "            number of batches in the dataset\n",
    "        \"\"\"\n",
    "        return len(self) // batch_size\n",
    "\n",
    "def generate_batches(dataset, batch_size, shuffle=True,\n",
    "                     drop_last=True, device=\"cpu\"): \n",
    "    \"\"\"\n",
    "    A generator function which wraps the PyTorch DataLoader. It will \n",
    "      ensure each tensor is on the write device location.\n",
    "    \"\"\"\n",
    "    dataloader = DataLoader(dataset=dataset, batch_size=batch_size,\n",
    "                            shuffle=shuffle, drop_last=drop_last)\n",
    "\n",
    "    for data_dict in dataloader:\n",
    "        out_data_dict = {}\n",
    "        for name, tensor in data_dict.items():\n",
    "            out_data_dict[name] = data_dict[name].to(device)\n",
    "        yield out_data_dict"
   ]
  },
  {
   "cell_type": "markdown",
   "metadata": {},
   "source": [
    "## The Model: NewsClassifier"
   ]
  },
  {
   "cell_type": "code",
   "execution_count": 7,
   "metadata": {},
   "outputs": [],
   "source": [
    "class NewsClassifier(nn.Module):\n",
    "    def __init__(self, num_embeddings, embedding_dim, output_dim, hidden_dim, pretrained_embeddings=None, emb_freeze=True):\n",
    "        super(NewsClassifier, self).__init__()\n",
    "        #创建embedding\n",
    "        if pretrained_embeddings is None:\n",
    "            self.embedding = nn.Embedding(num_embeddings, embedding_dim)  #embedding初始化，需要两个参数，词典大小、词向量维度大小\n",
    "            self.embedding.weight.requires_grad = True #需要计算梯度，即embedding层需要被训练\n",
    "        else:\n",
    "            pretrained_embeddings = torch.from_numpy(pretrained_embeddings).float()\n",
    "            self.embedding = nn.Embedding.from_pretrained(pretrained_embeddings, freeze=emb_freeze) # when freeze=True (default), \n",
    "                                                                           # the tensor does not get updated in the learning process.\n",
    "        self.fc = nn.Sequential(              #序列函数\n",
    "            nn.Linear(embedding_dim, hidden_dim),  #这里的意思是先经过一个线性转换层\n",
    "            nn.BatchNorm1d(hidden_dim),      #再进入一个BatchNorm1d\n",
    "            nn.ReLU(inplace=True),            #再经过Relu激活函数\n",
    "            nn.Linear(hidden_dim, output_dim)#最后再经过一个线性变换\n",
    "        )\n",
    "        \n",
    "    def forward(self, x):                      \n",
    "        x = self.embedding(x)                     #先将词id转换为对应的词向量\n",
    "        out = self.fc(torch.mean(x, dim=1))   #这使用torch.mean()将向量进行平均\n",
    "        return out"
   ]
  },
  {
   "cell_type": "markdown",
   "metadata": {},
   "source": [
    "## Training Routine"
   ]
  },
  {
   "cell_type": "markdown",
   "metadata": {},
   "source": [
    "### Helper functions"
   ]
  },
  {
   "cell_type": "code",
   "execution_count": 8,
   "metadata": {},
   "outputs": [],
   "source": [
    "def make_train_state(args):\n",
    "    return {'stop_early': False,\n",
    "            'early_stopping_step': 0,\n",
    "            'early_stopping_best_val': 1e8,\n",
    "            'learning_rate': args.learning_rate,\n",
    "            'epoch_index': 0,\n",
    "            'train_loss': [],\n",
    "            'train_acc': [],\n",
    "            'val_loss': [],\n",
    "            'val_acc': [],\n",
    "            'test_loss': -1,\n",
    "            'test_acc': -1,\n",
    "            'model_filename': args.model_state_file}\n",
    "\n",
    "def update_train_state(args, model, train_state):\n",
    "    \"\"\"Handle the training state updates.\n",
    "\n",
    "    Components:\n",
    "     - Early Stopping: Prevent overfitting.\n",
    "     - Model Checkpoint: Model is saved if the model is better\n",
    "\n",
    "    :param args: main arguments\n",
    "    :param model: model to train\n",
    "    :param train_state: a dictionary representing the training state values\n",
    "    :returns:\n",
    "        a new train_state\n",
    "    \"\"\"\n",
    "\n",
    "    # Save one model at least\n",
    "    if train_state['epoch_index'] == 0:\n",
    "        torch.save(model.state_dict(), train_state['model_filename'])\n",
    "        train_state['stop_early'] = False\n",
    "\n",
    "    # Save model if performance improved\n",
    "    elif train_state['epoch_index'] >= 1:\n",
    "        loss_tm1, loss_t = train_state['val_loss'][-2:]\n",
    "\n",
    "        # If loss worsened\n",
    "        if loss_t >= train_state['early_stopping_best_val']:\n",
    "            # Update step\n",
    "            train_state['early_stopping_step'] += 1\n",
    "        # Loss decreased\n",
    "        else:\n",
    "            # Save the best model\n",
    "            if loss_t < train_state['early_stopping_best_val']:\n",
    "                torch.save(model.state_dict(), train_state['model_filename'])\n",
    "                train_state['early_stopping_best_val'] = loss_t  # update 'early_stopping_best_val'\n",
    "\n",
    "            # Reset early stopping step\n",
    "            train_state['early_stopping_step'] = 0\n",
    "\n",
    "        # Stop early ?\n",
    "        train_state['stop_early'] = \\\n",
    "            train_state['early_stopping_step'] >= args.early_stopping_criteria\n",
    "\n",
    "    return train_state\n",
    "\n",
    "def compute_accuracy(y_pred, y_target):\n",
    "    _, y_pred_indices = y_pred.max(dim=1)\n",
    "    n_correct = torch.eq(y_pred_indices, y_target).sum().item()\n",
    "    return n_correct / len(y_pred_indices) * 100"
   ]
  },
  {
   "cell_type": "markdown",
   "metadata": {},
   "source": [
    "#### general utilities"
   ]
  },
  {
   "cell_type": "code",
   "execution_count": 9,
   "metadata": {},
   "outputs": [],
   "source": [
    "def set_seed_everywhere(seed, cuda, mps):\n",
    "    np.random.seed(seed)\n",
    "    torch.manual_seed(seed)\n",
    "    if cuda:\n",
    "        torch.cuda.manual_seed_all(seed)\n",
    "    try:\n",
    "        if mps:\n",
    "            torch.mps.manual_seed(seed)\n",
    "    except:\n",
    "        pass\n",
    "    \n",
    "def handle_dirs(dirpath):\n",
    "    if not os.path.exists(dirpath):\n",
    "        os.makedirs(dirpath)\n",
    "        \n",
    "def load_glove_from_file(glove_filepath):\n",
    "    \"\"\"\n",
    "    Load the GloVe embeddings \n",
    "    \n",
    "    Args:\n",
    "        glove_filepath (str): path to the glove embeddings file \n",
    "    Returns:\n",
    "        word_to_index (dict), embeddings (numpy.ndarary)\n",
    "    \"\"\"\n",
    "\n",
    "    word_to_index = {}\n",
    "    embeddings = []\n",
    "    with open(glove_filepath, \"r\", encoding='utf8') as fp:\n",
    "        for index, line in enumerate(fp):\n",
    "            line = line.split(\" \") # each line: word num1 num2 ...\n",
    "            word_to_index[line[0]] = index # word = line[0] \n",
    "            embedding_i = np.array([float(val) for val in line[1:]])\n",
    "            embeddings.append(embedding_i)\n",
    "    return word_to_index, np.stack(embeddings)\n",
    "\n",
    "def make_embedding_matrix(glove_filepath, words):\n",
    "    \"\"\"\n",
    "    Create embedding matrix for a specific set of words.\n",
    "    \n",
    "    Args:\n",
    "        glove_filepath (str): file path to the glove embeddigns\n",
    "        words (list): list of words in the dataset\n",
    "    \"\"\"\n",
    "    word_to_idx, glove_embeddings = load_glove_from_file(glove_filepath)\n",
    "    embedding_size = glove_embeddings.shape[1]\n",
    "    \n",
    "    final_embeddings = np.zeros((len(words), embedding_size))\n",
    "\n",
    "    for i, word in enumerate(words):\n",
    "        if word in word_to_idx:\n",
    "            final_embeddings[i, :] = glove_embeddings[word_to_idx[word]]\n",
    "        else:\n",
    "            embedding_i = torch.ones(1, embedding_size)\n",
    "            torch.nn.init.xavier_uniform_(embedding_i)\n",
    "            final_embeddings[i, :] = embedding_i\n",
    "\n",
    "    return final_embeddings"
   ]
  },
  {
   "cell_type": "markdown",
   "metadata": {},
   "source": [
    "### Settings and some prep work"
   ]
  },
  {
   "cell_type": "code",
   "execution_count": 10,
   "metadata": {},
   "outputs": [],
   "source": [
    "from argparse import Namespace"
   ]
  },
  {
   "cell_type": "code",
   "execution_count": 11,
   "metadata": {},
   "outputs": [
    {
     "name": "stdout",
     "output_type": "stream",
     "text": [
      "Expanded filepaths: \n",
      "\t../model_storage/News_Category\\model_FastText_News_Category.pth\n",
      "Using CUDA: True\n",
      "Using MPS: False\n"
     ]
    }
   ],
   "source": [
    "args = Namespace(\n",
    "    # Data and Path hyper parameters\n",
    "    news_csv=\"../data/processed/News_Category_Dataset_with_splits.csv\",\n",
    "    model_state_file=\"model_FastText_News_Category.pth\",\n",
    "    save_dir=\"../model_storage/News_Category\",\n",
    "    # Model hyper parameters\n",
    "    glove_filepath='../data/glove/glove.6B.100d.txt', \n",
    "    use_glove=True,\n",
    "    embedding_dim=100, \n",
    "    hidden_dim=128,\n",
    "    output_dim=4,\n",
    "    # Training hyper parameter\n",
    "    seed=1337, \n",
    "    learning_rate=0.001, \n",
    "    batch_size=256,\n",
    "    num_epochs=100, \n",
    "    emb_freeze=True,\n",
    "    early_stopping_criteria=5, \n",
    "    # Runtime option\n",
    "    cuda=True,\n",
    "    mps=True, \n",
    "    catch_keyboard_interrupt=True, \n",
    "    reload_from_files=False,\n",
    "    expand_filepaths_to_save_dir=True\n",
    ") \n",
    "\n",
    "if args.expand_filepaths_to_save_dir:\n",
    "    args.model_state_file = os.path.join(args.save_dir,\n",
    "                                         args.model_state_file)    \n",
    "    print(\"Expanded filepaths: \")\n",
    "    print(\"\\t{}\".format(args.model_state_file))\n",
    "    \n",
    "# Check CUDA for Nvidia\n",
    "if not torch.cuda.is_available():\n",
    "    args.cuda = False\n",
    "\n",
    "# Check MPS for Mac\n",
    "if not torch.backends.mps.is_available():\n",
    "    args.mps = False\n",
    "    \n",
    "args.device = torch.device(\"cuda\" if args.cuda else \"mps\" if args.mps else \"cpu\")\n",
    "print(\"Using CUDA: {}\".format(args.cuda))\n",
    "print(\"Using MPS: {}\".format(args.mps))\n",
    "\n",
    "# Set seed for reproducibility\n",
    "set_seed_everywhere(args.seed, args.cuda, args.mps)\n",
    "\n",
    "# handle dirs\n",
    "handle_dirs(args.save_dir)"
   ]
  },
  {
   "cell_type": "markdown",
   "metadata": {},
   "source": [
    "### Initializations"
   ]
  },
  {
   "cell_type": "code",
   "execution_count": 12,
   "metadata": {},
   "outputs": [
    {
     "name": "stdout",
     "output_type": "stream",
     "text": [
      "Using pre-trained embeddings\n"
     ]
    }
   ],
   "source": [
    "# create dataset and vectorizer\n",
    "dataset = NewsDataset.load_dataset_and_make_vectorizer(args.news_csv)\n",
    "vectorizer = dataset.get_vectorizer()\n",
    "\n",
    "# Use GloVe or randomly initialized embeddings\n",
    "if args.use_glove:\n",
    "    words = vectorizer.news_vocab._token_to_idx.keys()  # 3409 unique words\n",
    "    embeddings = make_embedding_matrix(glove_filepath=args.glove_filepath,     # embeddings: (3409, 100)\n",
    "                                       words=words)\n",
    "    print(\"Using pre-trained embeddings\")\n",
    "else:\n",
    "    print(\"Not using pre-trained embeddings\")\n",
    "    embeddings = None"
   ]
  },
  {
   "cell_type": "code",
   "execution_count": 13,
   "metadata": {},
   "outputs": [
    {
     "name": "stdout",
     "output_type": "stream",
     "text": [
      "{'<MASK>': 0, '<UNK>': 1, '<BEGIN>': 2, '<END>': 3, 'sue': 4, 'drug': 5, 'republican': 6, 'governor': 7, 'bush': 8, 'administration': 9, 'prescription': 10, 'policy': 11, 'federal': 12, 'court': 13, 'yesterday': 14, 'marking': 15, 'first': 16, 'time': 17, 'state': 18, 'chosen': 19, 'legal': 20, 'avenue': 21, 'expanding': 22, 'battle': 23, 'canadian': 24, 'import': 25, 'uk': 26, 'writing': 27, 'poor': 28, 'nation': 29, 'debt': 30, 'gordon': 31, 'brown': 32, 'say': 33, 'write': 34, 'share': 35, 'world': 36, 'country': 37, 'bank': 38, 'two': 39, 'hurricane': 40, 'many': 41, 'orlando': 42, 'area': 43, 'suffered': 44, 'double': 45, 'blow': 46, 'charley': 47, 'france': 48, 'struck': 49, 'quick': 50, 'succession': 51, 'financial': 52, 'one': 53, 'punch': 54, 'insurance': 55, 'exec': 56, 'selling': 57, 'heavily': 58, 'news': 59, 'international': 60, 'inc': 61, 'quote': 62, 'profile': 63, 'research': 64, 'jumped': 65, 'percent': 66, 'since': 67, 'early': 68, 'last': 69, 'week': 70, 'gun': 71, 'maker': 72, 'issued': 73, 'announcement': 74, 'brand': 75, 'offer': 76, 'billion': 77, 'update': 78, 'largest': 79, 'offered': 80, 'cash': 81, 'acquire': 82, 'robert': 83, 'corp': 84, 'lower': 85, 'price': 86, 'wine': 87, 'amp': 88, 'p': 89, 'slide': 90, 'nasdaq': 91, 'dow': 92, 'rise': 93, 'standard': 94, 'stock': 95, 'index': 96, 'slipped': 97, 'three': 98, 'year': 99, 'high': 100, 'dragged': 101, 'energy': 102, 'including': 103, 'crude': 104, 'oil': 105, 'dropped': 106, 'lowest': 107, 'almost': 108, 'month': 109, 'buyer': 110, 'interest': 111, 'irish': 112, 'sydney': 113, 'national': 114, 'australia': 115, 'ltd': 116, 'biggest': 117, 'struggling': 118, 'prepared': 119, 'exit': 120, 'part': 121, 'european': 122, 'market': 123, 'u': 124, 'want': 125, 'named': 126, 'united': 127, 'pension': 128, 'aug': 129, 'ap': 130, 'appointed': 131, 'airline': 132, 'plan': 133, 'company': 134, 'contribution': 135, 'labor': 136, 'department': 137, 'said': 138, 'tuesday': 139, 'air': 140, 'pilot': 141, 'union': 142, 'wage': 143, 'benefit': 144, 'cut': 145, 'leader': 146, 'rebel': 147, 'group': 148, 'airway': 149, 'charged': 150, 'demanding': 151, 'much': 152, 'employee': 153, 'oracle': 154, 'sweet': 155, 'peoplesoft': 156, 'hostile': 157, 'bid': 158, 'rival': 159, 'business': 160, 'software': 161, 'increase': 162, 'aimed': 163, 'resolving': 164, 'long': 165, 'running': 166, 'takeover': 167, 'bitter': 168, 'foe': 169, 'economic': 170, 'declined': 171, 'july': 172, 'watched': 173, 'measure': 174, 'future': 175, 'activity': 176, 'fell': 177, 'second': 178, 'consecutive': 179, 'evidence': 180, 'recovery': 181, 'general': 182, 'motor': 183, 'europe': 184, 'job': 185, 'gm': 186, 'n': 187, 'around': 188, 'fifth': 189, 'workforce': 190, 'american': 191, 'eagle': 192, 'reach': 193, 'deal': 194, 'representing': 195, 'division': 196, 'accepted': 197, 'tentative': 198, 'contract': 199, 'agreement': 200, 'includes': 201, 'pay': 202, 'raise': 203, 'trump': 204, 'agree': 205, 'hotel': 206, 'casino': 207, 'resort': 208, 'brink': 209, 'bankruptcy': 210, 'thursday': 211, 'majority': 212, 'approved': 213, 'dollar': 214, 'drove': 215, 'record': 216, 'low': 217, 'euro': 218, 'currency': 219, 'climbing': 220, 'petroleum': 221, 'natural': 222, 'gas': 223, 'supply': 224, 'data': 225, 'due': 226, 'san': 227, 'francisco': 228, 'cbs': 229, 'mw': 230, 'rally': 231, 'heating': 232, 'fresh': 233, 'gain': 234, 'four': 235, 'session': 236, 'pulled': 237, 'barrel': 238, 'higher': 239, 'wednesday': 240, 'ibm': 241, 'sell': 242, 'pc': 243, 'stake': 244, 'china': 245, 'computer': 246, 'today': 247, 'acquired': 248, 'machine': 249, 'personal': 250, 'chinese': 251, 'overseas': 252, 'acquisition': 253, 'ever': 254, 'campbell': 255, 'pct': 256, 'profit': 257, 'good': 258, 'co': 259, 'monday': 260, 'posted': 261, 'better': 262, 'expected': 263, 'sending': 264, 'near': 265, 'heavy': 266, 'product': 267, 'improvement': 268, 'sale': 269, 'flat': 270, 'retail': 271, 'weigh': 272, 'opened': 273, 'little': 274, 'changed': 275, 'concern': 276, 'corporate': 277, 'weighed': 278, 'investor': 279, 'sentiment': 280, 'dip': 281, 'also': 282, 'income': 283, 'lending': 284, 'take': 285, 'hit': 286, 'family': 287, 'become': 288, 'victim': 289, 'crackdown': 290, 'fannie': 291, 'mae': 292, 'official': 293, 'mission': 294, 'rate': 295, 'pool': 296, 'capital': 297, 'available': 298, 'mortgage': 299, 'loan': 300, 'panel': 301, 'seek': 302, 'greenhouse': 303, 'limit': 304, 'commission': 305, 'industry': 306, 'executive': 307, 'academic': 308, 'issue': 309, 'report': 310, 'call': 311, 'adopt': 312, 'emission': 313, 'linked': 314, 'global': 315, 'warming': 316, 'set': 317, 'fuel': 318, 'economy': 319, 'promote': 320, 'nuclear': 321, 'power': 322, 'delivery': 323, 'protester': 324, 'demonstrated': 325, 'outside': 326, 'milan': 327, 'judge': 328, 'ruled': 329, 'former': 330, 'grant': 331, 'auditor': 332, 'stand': 333, 'trial': 334, 'january': 335, 'collapse': 336, 'italian': 337, 'food': 338, 'parmalat': 339, 'sec': 340, 'charge': 341, 'ex': 342, 'fraud': 343, 'washington': 344, 'reuters': 345, 'security': 346, 'exchange': 347, 'filed': 348, 'civil': 349, 'six': 350, 'senior': 351, 'officer': 352, 'system': 353, 'href': 354, 'target': 355, 'quickinfo': 356, 'fullquote': 357, 'tried': 358, 'cover': 359, 'massive': 360, 'accounting': 361, 'technology': 362, 'fda': 363, 'dangerous': 364, 'vioxx': 365, 'result': 366, 'expert': 367, 'agency': 368, 'study': 369, 'showing': 370, 'potential': 371, 'danger': 372, 'anti': 373, 'credit': 374, 'card': 375, 'tactic': 376, 'keep': 377, 'eye': 378, 'may': 379, 'northwest': 380, 'sabre': 381, 'ticket': 382, 'fee': 383, 'suit': 384, 'travel': 385, 'network': 386, 'district': 387, 'minnesota': 388, 'alleging': 389, 'make': 390, 'difficult': 391, 'carrier': 392, 'worker': 393, 'germany': 394, 'hold': 395, 'major': 396, 'protest': 397, 'ahead': 398, 'talk': 399, 'thousand': 400, 'german': 401, 'car': 402, 'giant': 403, 'held': 404, 'demonstration': 405, 'crucial': 406, 'round': 407, 'work': 408, 'council': 409, 'eu': 410, 'clear': 411, 'water': 412, 'wto': 413, 'row': 414, 'trade': 415, 'chief': 416, 'peter': 417, 'stance': 418, 'threatened': 419, 'action': 420, 'aid': 421, 'airbus': 422, 'spokeswoman': 423, 'friday': 424, 'indicated': 425, 'toshiba': 426, 'image': 427, 'processing': 428, 'chip': 429, 'firm': 430, 'tokyo': 431, 'oct': 432, 'via': 433, 'manufacturing': 434, 'end': 435, 'semiconductor': 436, 'chipmaker': 437, 'expects': 438, 'think': 439, 'entertainment': 440, 'nyse': 441, 'could': 442, 'hoped': 443, 'late': 444, 'operator': 445, 'merger': 446, 'partner': 447, 'social': 448, 'reform': 449, 'fund': 450, 'new': 451, 'york': 452, 'believe': 453, 'president': 454, 'handed': 455, 'mutual': 456, 'fall': 457, 'warns': 458, 'drop': 459, 'quarterly': 460, 'warned': 461, 'top': 462, 'strike': 463, 'southern': 464, 'california': 465, 'hunt': 466, 'hybrid': 467, 'front': 468, 'page': 469, 'article': 470, 'toyota': 471, 'v': 472, 'main': 473, 'reason': 474, 'people': 475, 'quot': 476, 'look': 477, 'million': 478, 'mining': 479, 'resource': 480, 'agreed': 481, 'privately': 482, 'worth': 483, 'insider': 484, 'retailer': 485, 'post': 486, 'holiday': 487, 'liverpool': 488, 'england': 489, 'right': 490, 'test': 491, 'hand': 492, 'face': 493, 'store': 494, 'sunday': 495, 'nov': 496, 'david': 497, 'management': 498, 'television': 499, 'production': 500, 'studio': 501, 'promising': 502, 'greater': 503, 'brewer': 504, 'joint': 505, 'venture': 506, 'limited': 507, 'lion': 508, 'nathan': 509, 'equity': 510, 'value': 511, 'estimated': 512, 'crm': 513, 'congress': 514, 'told': 515, 'failed': 516, 'public': 517, 'oversight': 518, 'merck': 519, 'painkiller': 520, 'withdrawn': 521, 'america': 522, 'another': 523, 'researcher': 524, 'fired': 525, 'bad': 526, 'half': 527, 'forecast': 528, 'fix': 529, 'mistake': 530, 'meet': 531, 'paris': 532, 'discus': 533, 'ipo': 534, 'board': 535, 'meeting': 536, 'consider': 537, 'private': 538, 'ownership': 539, 'remaining': 540, 'independent': 541, 'investment': 542, 'buy': 543, 'google': 544, 'debut': 545, 'seattle': 546, 'made': 547, 'awaited': 548, 'rising': 549, 'sharply': 550, 'initial': 551, 'offering': 552, 'marked': 553, 'die': 554, 'tight': 555, 'delta': 556, 'line': 557, 'latest': 558, 'show': 559, 'dipped': 560, 'point': 561, 'analyst': 562, 'must': 563, 'decide': 564, 'file': 565, 'eisner': 566, 'ovitz': 567, 'daily': 568, 'michael': 569, 'appeared': 570, 'day': 571, 'shareholder': 572, 'lawsuit': 573, 'package': 574, 'granted': 575, 'ask': 576, 'impose': 577, 'emergency': 578, 'reached': 579, 'arthritis': 580, 'would': 581, 'stop': 582, 'found': 583, 'doubled': 584, 'patient': 585, 'risk': 586, 'heart': 587, 'attack': 588, 'stroke': 589, 'probably': 590, 'added': 591, 'september': 592, 'unemployment': 593, 'steady': 594, 'according': 595, 'survey': 596, 'economist': 597, 'still': 598, 'gdp': 599, 'q': 600, 'b': 601, 'boom': 602, 'despite': 603, 'effort': 604, 'cool': 605, 'growth': 606, 'domestic': 607, 'per': 608, 'cent': 609, 'quarter': 610, 'government': 611, 'reported': 612, 'charity': 613, 'bell': 614, 'army': 615, 'kick': 616, 'annual': 617, 'red': 618, 'program': 619, 'growing': 620, 'number': 621, 'best': 622, 'moved': 623, 'trading': 624, 'rose': 625, 'august': 626, 'previous': 627, 'inventory': 628, 'decline': 629, 'bombardier': 630, 'slump': 631, 'ceo': 632, 'leaf': 633, 'troubled': 634, 'aircraft': 635, 'train': 636, 'saw': 637, 'toronto': 638, 'announced': 639, 'paul': 640, 'stepping': 641, 'ford': 642, 'give': 643, 'lift': 644, 'blue': 645, 'advanced': 646, 'raised': 647, 'earnings': 648, 'wireless': 649, 'provider': 650, 'saying': 651, 'review': 652, 'reduce': 653, 'cisco': 654, 'lead': 655, 'tech': 656, 'morgan': 657, 'stanley': 658, 'doubt': 659, 'brokerage': 660, 'downgrade': 661, 'slow': 662, 'next': 663, 'dec': 664, 'bit': 665, 'though': 666, 'condition': 667, 'sound': 668, 'adviser': 669, 'india': 670, 'outsourcing': 671, 'unit': 672, 'electric': 673, 'indian': 674, 'arm': 675, 'chicago': 676, 'wholesale': 677, 'club': 678, 'cost': 679, 'possible': 680, 'dark': 681, 'art': 682, 'war': 683, 'abbey': 684, 'fate': 685, 'along': 686, 'way': 687, 'side': 688, 'producing': 689, 'crop': 690, 'regulator': 691, 'houston': 692, 'plant': 693, 'device': 694, 'spitzer': 695, 'broker': 696, 'shot': 697, 'called': 698, 'investigation': 699, 'widespread': 700, 'corruption': 701, 'richard': 702, 'turned': 703, 'old': 704, 'love': 705, 'truck': 706, 'retired': 707, 'soldier': 708, 'wife': 709, 'decided': 710, 'bring': 711, 'back': 712, 'virginia': 713, 'home': 714, 'jump': 715, 'defense': 716, 'contractor': 717, 'third': 718, 'surged': 719, 'led': 720, 'big': 721, 'rebound': 722, 'aerospace': 723, 'column': 724, 'stay': 725, 'rich': 726, 'reward': 727, 'likely': 728, 'stir': 729, 'demand': 730, 'head': 731, 'philip': 732, 'morris': 733, 'eas': 734, 'discount': 735, 'move': 736, 'recover': 737, 'bankrupt': 738, 'dairy': 739, 'sued': 740, 'seeking': 741, 'money': 742, 'paid': 743, 'book': 744, 'chapter': 745, 'harvard': 746, 'square': 747, 'institution': 748, 'protection': 749, 'owner': 750, 'help': 751, 'compete': 752, 'like': 753, 'amazon': 754, 'com': 755, 'mean': 756, 'change': 757, 'october': 758, 'cellphone': 759, 'start': 760, 'phone': 761, 'pipeline': 762, 'hurdle': 763, 'planning': 764, 'alaska': 765, 'welcomed': 766, 'huge': 767, 'project': 768, 'sanction': 769, 'jan': 770, 'brussels': 771, 'following': 772, 'export': 773, 'tax': 774, 'subsidy': 775, 'net': 776, 'enron': 777, 'holder': 778, 'get': 779, 'full': 780, 'nearly': 781, 'see': 782, 'thanks': 783, 'pressure': 784, 'corporation': 785, 'kodak': 786, 'team': 787, 'sensor': 788, 'camera': 789, 'rating': 790, 'ny': 791, 'jointly': 792, 'develop': 793, 'mass': 794, 'consumer': 795, 'digital': 796, 'kansa': 797, 'begin': 798, 'recent': 799, 'name': 800, 'worldcom': 801, 'ring': 802, 'resident': 803, 'local': 804, 'utility': 805, 'candidate': 806, 'room': 807, 'debate': 808, 'employer': 809, 'stepped': 810, 'hiring': 811, 'payroll': 812, 'circuit': 813, 'electronics': 814, 'manufacturer': 815, 'stronger': 816, 'electronic': 817, 'zealand': 818, 'jones': 819, 'nz': 820, 'slight': 821, 'current': 822, 'hope': 823, 'sprint': 824, 'asset': 825, 'traditional': 826, 'spend': 827, 'le': 828, 'marketing': 829, 'distance': 830, 'service': 831, 'celebrate': 832, 'victory': 833, 'wall': 834, 'street': 835, 'threw': 836, 'driving': 837, 'entire': 838, 'especially': 839, 'even': 840, 'dominant': 841, 'control': 842, 'surge': 843, 'massachusetts': 844, 'picked': 845, 'speed': 846, 'improving': 847, 'strong': 848, 'spending': 849, 'performance': 850, 'paper': 851, 'loses': 852, 'jet': 853, 'lost': 854, 'financing': 855, 'regional': 856, 'key': 857, 'restructuring': 858, 'saturday': 859, 'developing': 860, 'turn': 861, 'decade': 862, 'continue': 863, 'solid': 864, 'expansion': 865, 'predicted': 866, 'beating': 867, 'expectation': 868, 'r': 869, 'van': 870, 'associate': 871, 'manager': 872, 'penalty': 873, 'connection': 874, 'improper': 875, 'singapore': 876, 'surging': 877, 'violence': 878, 'iraq': 879, 'sparked': 880, 'disruption': 881, 'except': 882, 'find': 883, 'longtime': 884, 'county': 885, 'jim': 886, 'remember': 887, 'producer': 888, 'plunge': 889, 'game': 890, 'ago': 891, 'boost': 892, 'processor': 893, 'option': 894, 'open': 895, 'opec': 896, 'iran': 897, 'tehran': 898, 'cutting': 899, 'discussion': 900, 'minister': 901, 'cairo': 902, 'response': 903, 'sharp': 904, 'weaker': 905, 'hired': 906, 'weak': 907, 'final': 908, 'presidential': 909, 'election': 910, 'toy': 911, 'safety': 912, 'bee': 913, 'child': 914, 'received': 915, 'breaking': 916, 'five': 917, 'started': 918, 'broken': 919, 'city': 920, 'used': 921, 'jamaica': 922, 'apartment': 923, 'bought': 924, 'sought': 925, 'advice': 926, 'fellow': 927, 'cheap': 928, 'dog': 929, 'walker': 930, 'park': 931, 'let': 932, 'run': 933, 'without': 934, 'appeal': 935, 'reject': 936, 'asbestos': 937, 'settlement': 938, 'rejected': 939, 'setback': 940, 'swiss': 941, 'swedish': 942, 'engineering': 943, 'win': 944, 'rallied': 945, 'boosted': 946, 'health': 947, 'defence': 948, 'seen': 949, 'george': 950, 'w': 951, 'advance': 952, 'bond': 953, 'th': 954, 'amid': 955, 'fourth': 956, 'related': 957, 'sent': 958, 'highest': 959, 'level': 960, 'go': 961, 'getting': 962, 'every': 963, 'hidden': 964, 'selection': 965, 'settled': 966, 'ready': 967, 'night': 968, 'rest': 969, 'dream': 970, 'britain': 971, 'british': 972, 'began': 973, 'office': 974, 'soar': 975, 'defending': 976, 'soaring': 977, 'imf': 978, 'afp': 979, 'facing': 980, 'factor': 981, 'track': 982, 'withdrawal': 983, 'revenue': 984, 'doctor': 985, 'dozen': 986, 'relief': 987, 'flight': 988, 'schedule': 989, 'february': 990, 'departure': 991, 'charlotte': 992, 'philadelphia': 993, 'hub': 994, 'create': 995, 'mini': 996, 'fort': 997, 'fla': 998, 'lehman': 999, 'settle': 1000, 'sept': 1001, 'banking': 1002, 'brother': 1003, 'holding': 1004, 'trader': 1005, 'source': 1006, 'familiar': 1007, 'case': 1008, 'bhp': 1009, 'announces': 1010, 'australian': 1011, 'billiton': 1012, 'ata': 1013, 'customer': 1014, 'affected': 1015, 'indianapolis': 1016, 'honor': 1017, 'maintain': 1018, 'filing': 1019, 'qantas': 1020, 'alliance': 1021, 'proposed': 1022, 'fan': 1023, 'boston': 1024, 'rule': 1025, 'taking': 1026, 'component': 1027, 'foot': 1028, 'add': 1029, 'adding': 1030, 'slightly': 1031, 'revive': 1032, 'dot': 1033, 'twice': 1034, 'web': 1035, 'search': 1036, 'leading': 1037, 'based': 1038, 'fixed': 1039, 'reportedly': 1040, 'deutsche': 1041, 'thomas': 1042, 'alleged': 1043, 'conflict': 1044, 'sign': 1045, 'housing': 1046, 'cooling': 1047, 'house': 1048, 'wale': 1049, 'property': 1050, 'canada': 1051, 'reporting': 1052, 'looking': 1053, 'whether': 1054, 'rank': 1055, 'patch': 1056, 'decision': 1057, 'information': 1058, 'overall': 1059, 'fcc': 1060, 'mobile': 1061, 'use': 1062, 'although': 1063, 'technical': 1064, 'cell': 1065, 'ban': 1066, 'idc': 1067, 'unclear': 1068, 'remained': 1069, 'place': 1070, 'given': 1071, 'confidence': 1072, 'middle': 1073, 'particularly': 1074, 'ease': 1075, 'remain': 1076, 'volatile': 1077, 'hitting': 1078, 'earlier': 1079, 'eased': 1080, 'quite': 1081, 'increased': 1082, 'fighting': 1083, 'nigeria': 1084, 'forced': 1085, 'several': 1086, 'fiscal': 1087, 'helped': 1088, 'witness': 1089, 'immunity': 1090, 'lawyer': 1091, 'client': 1092, 'scandal': 1093, 'sbc': 1094, 'message': 1095, 'site': 1096, 'staff': 1097, 'writer': 1098, 'headline': 1099, 'release': 1100, 'non': 1101, 'farm': 1102, 'later': 1103, 'direction': 1104, 'g': 1105, 'worry': 1106, 'peace': 1107, 'suggested': 1108, 'thought': 1109, 'knight': 1110, 'warning': 1111, 'operation': 1112, 'short': 1113, 'estimate': 1114, 'advertising': 1115, 'loss': 1116, 'impact': 1117, 'newspaper': 1118, 'florida': 1119, 'georgia': 1120, 'vow': 1121, 'deficit': 1122, 'pledged': 1123, 'budget': 1124, 'step': 1125, 'support': 1126, 'feel': 1127, 'weather': 1128, 'margin': 1129, 'felt': 1130, 'combat': 1131, 'competition': 1132, 'monthly': 1133, 'vehicle': 1134, 'road': 1135, 'auto': 1136, 'f': 1137, 'vulnerable': 1138, 'gold': 1139, 'lifted': 1140, 'london': 1141, 'seven': 1142, 'finance': 1143, 'inflation': 1144, 'fear': 1145, 'close': 1146, 'welcome': 1147, 'black': 1148, 'consortium': 1149, 'concluded': 1150, 'french': 1151, 'disney': 1152, 'tv': 1153, 'los': 1154, 'angeles': 1155, 'walt': 1156, 'espn': 1157, 'movie': 1158, 'basis': 1159, 'stewart': 1160, 'try': 1161, 'base': 1162, 'damage': 1163, 'falling': 1164, 'extends': 1165, 'multiple': 1166, 'completely': 1167, 'class': 1168, 'opening': 1169, 'treatment': 1170, 'disease': 1171, 'blockbuster': 1172, 'developer': 1173, 'bright': 1174, 'mark': 1175, 'spark': 1176, 'speaks': 1177, 'plc': 1178, 'earned': 1179, 'triumph': 1180, 'commerce': 1181, 'sea': 1182, 'dutch': 1183, 'grew': 1184, 'pace': 1185, 'expand': 1186, 'capacity': 1187, 'iraqi': 1188, 'st': 1189, 'tobacco': 1190, 'combination': 1191, 'lg': 1192, 'eight': 1193, 'presence': 1194, 'booming': 1195, 'south': 1196, 'korean': 1197, 'cocoa': 1198, 'metal': 1199, 'sank': 1200, 'exporter': 1201, 'ivory': 1202, 'coast': 1203, 'kept': 1204, 'arrival': 1205, 'outbreak': 1206, 'farmer': 1207, 'edge': 1208, 'goldman': 1209, 'earns': 1210, 'edged': 1211, 'reserve': 1212, 'course': 1213, 'formally': 1214, 'possibility': 1215, 'asking': 1216, 'permission': 1217, 'matter': 1218, 'upcoming': 1219, 'hearing': 1220, 'pact': 1221, 'solve': 1222, 'difference': 1223, 'making': 1224, 'bln': 1225, 'dividend': 1226, 'japan': 1227, 'come': 1228, 'drive': 1229, 'yen': 1230, 'nikkei': 1231, 'japanese': 1232, 'sector': 1233, 'optimism': 1234, 'additional': 1235, 'accord': 1236, 'concession': 1237, 'rocked': 1238, 'e': 1239, 'suspend': 1240, 'march': 1241, 'addition': 1242, 'already': 1243, 'suspension': 1244, 'shortage': 1245, 'narrow': 1246, 'tracking': 1247, 'map': 1248, 'alternative': 1249, 'michigan': 1250, 'allow': 1251, 'voted': 1252, 'communication': 1253, 'competitor': 1254, 'chat': 1255, 'internet': 1256, 'argument': 1257, 'politics': 1258, 'terrorist': 1259, 'plotting': 1260, 'attorney': 1261, 'eliot': 1262, 'l': 1263, 'shook': 1264, 'secret': 1265, 'allowing': 1266, 'jersey': 1267, 'hedge': 1268, 'term': 1269, 'expense': 1270, 'hospital': 1271, 'install': 1272, 'special': 1273, 'mostly': 1274, 'carry': 1275, 'tag': 1276, 'saving': 1277, 'medical': 1278, 'error': 1279, 'ivan': 1280, 'popular': 1281, 'posting': 1282, 'traffic': 1283, 'wake': 1284, 'material': 1285, 'responsible': 1286, 'tear': 1287, 'great': 1288, 'return': 1289, 'always': 1290, 'aol': 1291, 'im': 1292, 'online': 1293, 'accusing': 1294, 'violating': 1295, 'law': 1296, 'known': 1297, 'instant': 1298, 'account': 1299, 'photo': 1300, 'pioneer': 1301, 'film': 1302, 'lab': 1303, 'focus': 1304, 'profitable': 1305, 'order': 1306, 'saudi': 1307, 'dubai': 1308, 'large': 1309, 'pump': 1310, 'lifting': 1311, 'marsh': 1312, 'learning': 1313, 'behavior': 1314, 'mclennan': 1315, 'bidding': 1316, 'pt': 1317, 'agreeing': 1318, 'indonesia': 1319, 'seventh': 1320, 'lender': 1321, 'accused': 1322, 'rigging': 1323, 'insurer': 1324, 'push': 1325, 'airport': 1326, 'vowed': 1327, 'weekend': 1328, 'potentially': 1329, 'collapsed': 1330, 'linux': 1331, 'weighs': 1332, 'shift': 1333, 'camp': 1334, 'tough': 1335, 'microsoft': 1336, 'munich': 1337, 'operating': 1338, 'steve': 1339, 'ballmer': 1340, 'bos': 1341, 'rather': 1342, 'anyone': 1343, 'verizon': 1344, 'nextel': 1345, 'aside': 1346, 'opposition': 1347, 'removing': 1348, 'fixing': 1349, 'stanford': 1350, 'vice': 1351, 'chairman': 1352, 'charles': 1353, 'university': 1354, 'school': 1355, 'launched': 1356, 'desktop': 1357, 'sold': 1358, 'bn': 1359, 'confirmed': 1360, 'hard': 1361, 'kmart': 1362, 'depot': 1363, 'super': 1364, 'chain': 1365, 'acquires': 1366, 'celtic': 1367, 'acquiring': 1368, 'auction': 1369, 'russia': 1370, 'faster': 1371, 'robust': 1372, 'showed': 1373, 'gave': 1374, 'peer': 1375, 'chad': 1376, 'investigate': 1377, 'malaysia': 1378, 'africa': 1379, 'newest': 1380, 'needed': 1381, 'foreign': 1382, 'baltimore': 1383, 'quit': 1384, 'putting': 1385, 'history': 1386, 'listed': 1387, 'delay': 1388, 'branch': 1389, 'commissioner': 1390, 'dispute': 1391, 'boeing': 1392, 'hike': 1393, 'incentive': 1394, 'detroit': 1395, 'model': 1396, 'expressed': 1397, 'disappointment': 1398, 'force': 1399, 'eyed': 1400, 'white': 1401, 'asked': 1402, 'justice': 1403, 'determine': 1404, 'secretary': 1405, 'james': 1406, 'engaged': 1407, 'proposal': 1408, 'generator': 1409, 'approve': 1410, 'backed': 1411, 'rescue': 1412, 'hollinger': 1413, 'deputy': 1414, 'spotlight': 1415, 'pulling': 1416, 'took': 1417, 'eve': 1418, 'advisory': 1419, 'intel': 1420, 'defeat': 1421, 'amd': 1422, 'attempt': 1423, 'persuade': 1424, 'trust': 1425, 'original': 1426, 'schwab': 1427, 'serving': 1428, 'pop': 1429, 'asian': 1430, 'mixed': 1431, 'hong': 1432, 'kong': 1433, 'finished': 1434, 'positive': 1435, 'outlook': 1436, 'elsewhere': 1437, 'daniel': 1438, 'successful': 1439, 'ad': 1440, 'era': 1441, 'plunged': 1442, 'effect': 1443, 'steelmaker': 1444, 'owned': 1445, 'became': 1446, 'enables': 1447, 'newly': 1448, 'steel': 1449, 'continent': 1450, 'halliburton': 1451, 'separate': 1452, 'restructure': 1453, 'shed': 1454, 'continues': 1455, 'behind': 1456, 'play': 1457, 'bill': 1458, 'gate': 1459, 'hoping': 1460, 'fashion': 1461, 'grade': 1462, 'among': 1463, 'style': 1464, 'teen': 1465, 'young': 1466, 'adult': 1467, 'student': 1468, 'parent': 1469, 'keeping': 1470, 'fire': 1471, 'clearing': 1472, 'unexpectedly': 1473, 'craig': 1474, 'engineered': 1475, 'resistance': 1476, 'spanish': 1477, 'buying': 1478, 'nine': 1479, 'santander': 1480, 'central': 1481, 'preliminary': 1482, 'approval': 1483, 'wal': 1484, 'mart': 1485, 'nd': 1486, 'member': 1487, 'build': 1488, 'searching': 1489, 'investigating': 1490, 'traded': 1491, 'jfk': 1492, 'john': 1493, 'kennedy': 1494, 'passenger': 1495, 'warner': 1496, 'medium': 1497, 'inquiry': 1498, 'strategy': 1499, 'strength': 1500, 'broad': 1501, 'portfolio': 1502, 'louis': 1503, 'spike': 1504, 'publisher': 1505, 'arizona': 1506, 'considering': 1507, 'interview': 1508, 'output': 1509, 'au': 1510, 'quickly': 1511, 'link': 1512, 'race': 1513, 'generation': 1514, 'sirius': 1515, 'howard': 1516, 'stern': 1517, 'satellite': 1518, 'radio': 1519, 'shock': 1520, 'worried': 1521, 'shake': 1522, 'tumble': 1523, 'industrial': 1524, 'toward': 1525, 'achieve': 1526, 'looked': 1527, 'yield': 1528, 'advantage': 1529, 'wider': 1530, 'widened': 1531, 'mln': 1532, 'publishing': 1533, 'brazil': 1534, 'brazilian': 1535, 'sa': 1536, 'suspended': 1537, 'pfizer': 1538, 'bextra': 1539, 'skin': 1540, 'professional': 1541, 'cox': 1542, 'increasingly': 1543, 'campaign': 1544, 'director': 1545, 'leaving': 1546, 'alert': 1547, 'cancer': 1548, 'left': 1549, 'surprised': 1550, 'considered': 1551, 'raising': 1552, 'zone': 1553, 'headed': 1554, 'fed': 1555, 'plea': 1556, 'seemed': 1557, 'climb': 1558, 'distributor': 1559, 'southeast': 1560, 'frankfurt': 1561, 'uncertain': 1562, 'prove': 1563, 'locked': 1564, 'multi': 1565, 'morning': 1566, 'position': 1567, 'replacement': 1568, 'criticized': 1569, 'transportation': 1570, 'committee': 1571, 'problem': 1572, 'dig': 1573, 'gov': 1574, 'range': 1575, 'struggle': 1576, 'building': 1577, 'metropolitan': 1578, 'coming': 1579, 'commercial': 1580, 'announce': 1581, 'laid': 1582, 'form': 1583, 'percentage': 1584, 'southwest': 1585, 'korea': 1586, 'preparing': 1587, 'read': 1588, 'analysis': 1589, 'channel': 1590, 'view': 1591, 'delivers': 1592, 'fully': 1593, 'november': 1594, 'belgian': 1595, 'cross': 1596, 'border': 1597, 'confirms': 1598, 'warn': 1599, 'cast': 1600, 'sink': 1601, 'average': 1602, 'away': 1603, 'declared': 1604, 'regular': 1605, 'status': 1606, 'dreamworks': 1607, 'animation': 1608, 'soared': 1609, 'anticipated': 1610, 'sized': 1611, 'czech': 1612, 'nicolas': 1613, 'whose': 1614, 'fine': 1615, 'probe': 1616, 'tell': 1617, 'touched': 1618, 'stuck': 1619, 'continued': 1620, 'speculation': 1621, 'nigerian': 1622, 'threat': 1623, 'evening': 1624, 'starting': 1625, 'counterpart': 1626, 'aim': 1627, 'truce': 1628, 'slip': 1629, 'alan': 1630, 'greenspan': 1631, 'relatively': 1632, 'remark': 1633, 'surprise': 1634, 'pharmaceutical': 1635, 'urge': 1636, 'terror': 1637, 'globe': 1638, 'gathered': 1639, 'guard': 1640, 'fight': 1641, 'video': 1642, 'hot': 1643, 'follow': 1644, 'trend': 1645, 'racing': 1646, 'forbes': 1647, 'driver': 1648, 'arch': 1649, 'spain': 1650, 'yet': 1651, 'engine': 1652, 'afternoon': 1653, 'waiting': 1654, 'flag': 1655, 'field': 1656, 'revealed': 1657, 'gray': 1658, 'sporting': 1659, 'wearing': 1660, 'hat': 1661, 'replaces': 1662, 'cfo': 1663, 'jr': 1664, 'kevin': 1665, 'resignation': 1666, 'june': 1667, 'martha': 1668, 'assistant': 1669, 'emerged': 1670, 'prison': 1671, 'brent': 1672, 'briefly': 1673, 'extending': 1674, 'renewed': 1675, 'gasoline': 1676, 'cable': 1677, 'formed': 1678, 'enterprise': 1679, 'pull': 1680, 'gaining': 1681, 'golden': 1682, 'directory': 1683, 'ireland': 1684, 'rapid': 1685, 'ruling': 1686, 'bernie': 1687, 'losing': 1688, 'formula': 1689, 'reduced': 1690, 'well': 1691, 'lowered': 1692, 'summer': 1693, 'sluggish': 1694, 'shopping': 1695, 'centre': 1696, 'billionaire': 1697, 'pound': 1698, 'ending': 1699, 'meant': 1700, 'mouse': 1701, 'real': 1702, 'might': 1703, 'christmas': 1704, 'tree': 1705, 'reporter': 1706, 'joined': 1707, 'micro': 1708, 'flash': 1709, 'memory': 1710, 'serious': 1711, 'least': 1712, 'tie': 1713, 'situation': 1714, 'glass': 1715, 'plate': 1716, 'cloud': 1717, 'automaker': 1718, 'automotive': 1719, 'closing': 1720, 'put': 1721, 'slash': 1722, 'eliminate': 1723, 'stem': 1724, 'flow': 1725, 'ink': 1726, 'region': 1727, 'note': 1728, 'turkish': 1729, 'progress': 1730, 'membership': 1731, 'turkey': 1732, 'longer': 1733, 'block': 1734, 'tender': 1735, 'ended': 1736, 'urging': 1737, 'fare': 1738, 'storm': 1739, 'cow': 1740, 'mid': 1741, 'bargain': 1742, 'hunting': 1743, 'brought': 1744, 'mainstream': 1745, 'crunch': 1746, 'biotech': 1747, 'moment': 1748, 'finding': 1749, 'dry': 1750, 'bigger': 1751, 'perhaps': 1752, 'antitrust': 1753, 'path': 1754, 'smith': 1755, 'purchase': 1756, 'minority': 1757, 'appearance': 1758, 'steven': 1759, 'worked': 1760, 'figure': 1761, 'salary': 1762, 'expect': 1763, 'usa': 1764, 'aggressive': 1765, 'remains': 1766, 'ag': 1767, 'signed': 1768, 'commitment': 1769, 'development': 1770, 'total': 1771, 'restriction': 1772, 'owns': 1773, 'enough': 1774, 'flagship': 1775, 'increasing': 1776, 'chance': 1777, 'offset': 1778, 'ranking': 1779, 'winning': 1780, 'sears': 1781, 'closed': 1782, 'however': 1783, 'texas': 1784, 'restaurant': 1785, 'pricing': 1786, 'targeted': 1787, 'introduced': 1788, 'introduce': 1789, 'legislation': 1790, 'establish': 1791, 'pitch': 1792, 'provide': 1793, 'turf': 1794, 'freddie': 1795, 'mac': 1796, 'sends': 1797, 'reaching': 1798, 'straight': 1799, 'focused': 1800, 'lack': 1801, 'cold': 1802, 'revised': 1803, 'december': 1804, 'care': 1805, 'johnson': 1806, 'talking': 1807, 'coca': 1808, 'cola': 1809, 'drink': 1810, 'bounce': 1811, 'word': 1812, 'everything': 1813, 'founder': 1814, 'recalled': 1815, 'associated': 1816, 'tivo': 1817, 'widens': 1818, 'subscriber': 1819, 'grow': 1820, 'recorder': 1821, 'vote': 1822, 'appears': 1823, 'declining': 1824, 'son': 1825, 'scale': 1826, 'suisse': 1827, 'promise': 1828, 'political': 1829, 'code': 1830, 'boosting': 1831, 'rock': 1832, 'ark': 1833, 'forward': 1834, 'newratings': 1835, 'negotiation': 1836, 'labour': 1837, 'planned': 1838, 'reduction': 1839, 'period': 1840, 'gear': 1841, 'giving': 1842, 'north': 1843, 'embattled': 1844, 'adopted': 1845, 'sweeping': 1846, 'ability': 1847, 'serve': 1848, 'watchdog': 1849, 'others': 1850, 'handle': 1851, 'lord': 1852, 'taylor': 1853, 'disappointing': 1854, 'tool': 1855, 'factory': 1856, 'slowed': 1857, 'responded': 1858, 'distribution': 1859, 'firing': 1860, 'fail': 1861, 'star': 1862, 'common': 1863, 'partnership': 1864, 'unless': 1865, 'ally': 1866, 'far': 1867, 'struggled': 1868, 'resolve': 1869, 'deep': 1870, 'caution': 1871, 'vienna': 1872, 'turning': 1873, 'rout': 1874, 'bus': 1875, 'improve': 1876, 'creditor': 1877, 'tour': 1878, 'got': 1879, 'version': 1880, 'wi': 1881, 'fi': 1882, 'successor': 1883, 'hype': 1884, 'virtually': 1885, 'praise': 1886, 'emerging': 1887, 'access': 1888, 'putin': 1889, 'russian': 1890, 'vladimir': 1891, 'soviet': 1892, 'grip': 1893, 'sideline': 1894, 'stayed': 1895, 'split': 1896, 'retreat': 1897, 'telephone': 1898, 'learn': 1899, 'ton': 1900, 'sure': 1901, 'cnn': 1902, 'pretty': 1903, 'land': 1904, 'mar': 1905, 'challenge': 1906, 'taste': 1907, 'woman': 1908, 'deadline': 1909, 'pass': 1910, 'free': 1911, 'confident': 1912, 'poised': 1913, 'complete': 1914, 'becomes': 1915, 'currently': 1916, 'table': 1917, 'instead': 1918, 'hour': 1919, 'prospect': 1920, 'season': 1921, 'thanksgiving': 1922, 'asks': 1923, 'send': 1924, 'lawmaker': 1925, 'grand': 1926, 'jury': 1927, 'disclosed': 1928, 'subsidiary': 1929, 'tired': 1930, 'switch': 1931, 'galaxy': 1932, 'abandon': 1933, 'dial': 1934, 'success': 1935, 'produce': 1936, 'controlled': 1937, 'exclusive': 1938, 'derek': 1939, 'life': 1940, 'kraft': 1941, 'authority': 1942, 'citigroup': 1943, 'paying': 1944, 'beer': 1945, 'volume': 1946, 'important': 1947, 'prime': 1948, 'matsushita': 1949, 'plasma': 1950, 'imposed': 1951, 'temporary': 1952, 'display': 1953, 'violated': 1954, 'intellectual': 1955, 'symantec': 1956, 'veritas': 1957, 'storage': 1958, 'merrill': 1959, 'lynch': 1960, 'soon': 1961, 'columbia': 1962, 'employment': 1963, 'calling': 1964, 'wonder': 1965, 'clothing': 1966, 'person': 1967, 'worldwide': 1968, 'designed': 1969, 'counter': 1970, 'green': 1971, 'touch': 1972, 'yellow': 1973, 'wave': 1974, 'easing': 1975, 'tension': 1976, 'going': 1977, 'transaction': 1978, 'awaits': 1979, 'critical': 1980, 'treasury': 1981, 'reading': 1982, 'design': 1983, 'astronaut': 1984, 'moon': 1985, 'beyond': 1986, 'asia': 1987, 'eastern': 1988, 'released': 1989, 'provides': 1990, 'break': 1991, 'small': 1992, 'buyout': 1993, 'telecommunication': 1994, 'list': 1995, 'chrysler': 1996, 'leadership': 1997, 'hk': 1998, 'tourism': 1999, 'shopper': 2000, 'trouble': 2001, 'carolina': 2002, 'edition': 2003, 'citing': 2004, 'yukos': 2005, 'application': 2006, 'montreal': 2007, 'sealed': 2008, 'apple': 2009, 'regulatory': 2010, 'scheme': 2011, 'hundred': 2012, 'equipment': 2013, 'driven': 2014, 'construction': 2015, 'riding': 2016, 'priced': 2017, 'controversy': 2018, 'fidelity': 2019, 'involved': 2020, 'violation': 2021, 'resigned': 2022, 'quiet': 2023, 'avoid': 2024, 'speech': 2025, 'forest': 2026, 'llc': 2027, 'merge': 2028, 'retirement': 2029, 'statement': 2030, 'widely': 2031, 'pledge': 2032, 'phelps': 2033, 'mine': 2034, 'triple': 2035, 'peru': 2036, 'process': 2037, 'allegation': 2038, 'illegally': 2039, 'allowed': 2040, 'certain': 2041, 'recall': 2042, 'withdrew': 2043, 'grocery': 2044, 'shelf': 2045, 'govt': 2046, 'body': 2047, 'organization': 2048, 'kicked': 2049, 'bet': 2050, 'uncertainty': 2051, 'stage': 2052, 'sort': 2053, 'competing': 2054, 'idea': 2055, 'balance': 2056, 'chart': 2057, 'claim': 2058, 'supercomputer': 2059, 'fastest': 2060, 'developed': 2061, 'cingular': 2062, 'completed': 2063, 'integration': 2064, 'prior': 2065, 'hurt': 2066, 'announcing': 2067, 'admitted': 2068, 'controversial': 2069, 'al': 2070, 'programme': 2071, 'played': 2072, 'caused': 2073, 'governing': 2074, 'faced': 2075, 'rocket': 2076, 'science': 2077, 'cause': 2078, 'wide': 2079, 'climbed': 2080, 'arabia': 2081, 'curb': 2082, 'ebay': 2083, 'snap': 2084, 'rent': 2085, 'monetary': 2086, 'woe': 2087, 'psp': 2088, 'managing': 2089, 'recently': 2090, 'sony': 2091, 'playstation': 2092, 'portable': 2093, 'launch': 2094, 'observer': 2095, 'venezuelan': 2096, 'referendum': 2097, 'hugo': 2098, 'chavez': 2099, 'claimed': 2100, 'helping': 2101, 'ground': 2102, 'partial': 2103, 'age': 2104, 'taken': 2105, 'conversion': 2106, 'complex': 2107, 'manage': 2108, 'beat': 2109, 'movement': 2110, 'miller': 2111, 'nice': 2112, 'divided': 2113, 'c': 2114, 'register': 2115, 'created': 2116, 'transport': 2117, 'association': 2118, 'gap': 2119, 'unprecedented': 2120, 'mounted': 2121, 'bay': 2122, 'click': 2123, 'senator': 2124, 'kerry': 2125, 'incumbent': 2126, 'easy': 2127, 'dominate': 2128, 'grab': 2129, 'secured': 2130, 'topped': 2131, 'ranked': 2132, 'sixth': 2133, 'effective': 2134, 'forum': 2135, 'continuing': 2136, 'royal': 2137, 'scotland': 2138, 'winner': 2139, 'lot': 2140, 'voice': 2141, 'telecom': 2142, 'sachs': 2143, 'trio': 2144, 'african': 2145, 'dramatic': 2146, 'sam': 2147, 'tap': 2148, 'warren': 2149, 'legendary': 2150, 'overnight': 2151, 'larry': 2152, 'kenneth': 2153, 'lay': 2154, 'criminal': 2155, 'chase': 2156, 'west': 2157, 'mylan': 2158, 'carl': 2159, 'generic': 2160, 'laboratory': 2161, 'king': 2162, 'nv': 2163, 'shop': 2164, 'universal': 2165, 'spokesman': 2166, 'surgery': 2167, 'maryland': 2168, 'halt': 2169, 'milestone': 2170, 'jose': 2171, 'calif': 2172, 'breakthrough': 2173, 'size': 2174, 'santa': 2175, 'gazprom': 2176, 'came': 2177, 'closer': 2178, 'goal': 2179, 'address': 2180, 'civilian': 2181, 'stripped': 2182, 'battered': 2183, 'belief': 2184, 'pm': 2185, 'relation': 2186, 'urged': 2187, 'letter': 2188, 'withdraw': 2189, 'brace': 2190, 'petition': 2191, 'existing': 2192, 'seems': 2193, 'argentina': 2194, 'cooperation': 2195, 'document': 2196, 'space': 2197, 'education': 2198, 'textile': 2199, 'different': 2200, 'approach': 2201, 'protect': 2202, 'samsung': 2203, 'invest': 2204, 'generate': 2205, 'corner': 2206, 'safe': 2207, 'damaged': 2208, 'pair': 2209, 'signal': 2210, 'chemical': 2211, 'halo': 2212, 'score': 2213, 'broke': 2214, 'versus': 2215, 'discovery': 2216, 'licensing': 2217, 'rushing': 2218, 'regulation': 2219, 'hopeful': 2220, 'dominance': 2221, 'ip': 2222, 'trademark': 2223, 'supreme': 2224, 'notice': 2225, 'prompting': 2226, 'suffers': 2227, 'winter': 2228, 'scene': 2229, 'pharmacy': 2230, 'illness': 2231, 'slashed': 2232, 'ok': 2233, 'save': 2234, 'suggesting': 2235, 'slowing': 2236, 'spread': 2237, 'hardie': 2238, 'waste': 2239, 'picture': 2240, 'optimistic': 2241, 'luck': 2242, 'fish': 2243, 'mile': 2244, 'river': 2245, 'pacific': 2246, 'j': 2247, 'suggests': 2248, 'cp': 2249, 'setting': 2250, 'broadcasting': 2251, 'managed': 2252, 'momentum': 2253, 'spring': 2254, 'hero': 2255, 'watcher': 2256, 'carried': 2257, 'injury': 2258, 'bull': 2259, 'steam': 2260, 'k': 2261, 'formal': 2262, 'detail': 2263, 'replace': 2264, 'plus': 2265, 'retire': 2266, 'surprising': 2267, 'coffee': 2268, 'benchmark': 2269, 'light': 2270, 'recorded': 2271, 'cease': 2272, 'nepal': 2273, 'tourist': 2274, 'kathmandu': 2275, 'considers': 2276, 'self': 2277, 'destruction': 2278, 'deciding': 2279, 'senate': 2280, 'highway': 2281, 'bp': 2282, 'guilty': 2283, 'plead': 2284, 'alexandria': 2285, 'va': 2286, 'combine': 2287, 'switzerland': 2288, 'within': 2289, 'overtime': 2290, 'seal': 2291, 'highly': 2292, 'drama': 2293, 'interim': 2294, 'pre': 2295, 'check': 2296, 'century': 2297, 'act': 2298, 'allows': 2299, 'copy': 2300, 'bar': 2301, 'require': 2302, 'netflix': 2303, 'dvd': 2304, 'rental': 2305, 'together': 2306, 'deliver': 2307, 'wire': 2308, 'bridge': 2309, 'oakland': 2310, 'wright': 2311, 'plane': 2312, 'territory': 2313, 'northern': 2314, 'cartel': 2315, 'troy': 2316, 'mich': 2317, 'lcd': 2318, 'dell': 2319, 'extended': 2320, 'atlantic': 2321, 'donald': 2322, 'retain': 2323, 'sight': 2324, 'suicide': 2325, 'label': 2326, 'suggest': 2327, 'youth': 2328, 'cautious': 2329, 'join': 2330, 'crowd': 2331, 'onto': 2332, 'landing': 2333, 'thing': 2334, 'solution': 2335, 'maintenance': 2336, 'kremlin': 2337, 'grid': 2338, 'town': 2339, 'titan': 2340, 'william': 2341, 'learned': 2342, 'illegal': 2343, 'tying': 2344, 'internal': 2345, 'prevent': 2346, 'practice': 2347, 'terrorism': 2348, 'gained': 2349, 'enters': 2350, 'comment': 2351, 'tomorrow': 2352, 'pending': 2353, 'rail': 2354, 'shipment': 2355, 'poland': 2356, 'stable': 2357, 'negative': 2358, 'threatens': 2359, 'punish': 2360, 'mci': 2361, 'swing': 2362, 'compared': 2363, 'suspected': 2364, 'failing': 2365, 'format': 2366, 'thinking': 2367, 'box': 2368, 'cafe': 2369, 'server': 2370, 'fruit': 2371, 'ball': 2372, 'bowl': 2373, 'ocean': 2374, 'receiving': 2375, 'denies': 2376, 'backing': 2377, 'insisted': 2378, 'intention': 2379, 'brief': 2380, 'jobless': 2381, 'kid': 2382, 'individual': 2383, 'mr': 2384, 'qwest': 2385, 'antivirus': 2386, 'possession': 2387, 'discovered': 2388, 'question': 2389, 'nortel': 2390, 'passing': 2391, 'stood': 2392, 'facility': 2393, 'connecticut': 2394, 'largely': 2395, 'sun': 2396, 'expensive': 2397, 'strongly': 2398, 'claiming': 2399, 'fatal': 2400, 'moscow': 2401, 'bruised': 2402, 'battery': 2403, 'mississippi': 2404, 'man': 2405, 'suing': 2406, 'jaguar': 2407, 'mp': 2408, 'pushing': 2409, 'twin': 2410, 'nintendo': 2411, 'unveil': 2412, 'handheld': 2413, 'upgrade': 2414, 'know': 2415, 'press': 2416, 'conference': 2417, 'user': 2418, 'capitol': 2419, 'testing': 2420, 'spot': 2421, 'medicine': 2422, 'cabinet': 2423, 'instrument': 2424, 'philippine': 2425, 'living': 2426, 'seem': 2427, 'indicted': 2428, 'gulf': 2429, 'mexico': 2430, 'semi': 2431, 'knocked': 2432, 'elect': 2433, 'elected': 2434, 'coal': 2435, 'tip': 2436, 'directly': 2437, 'watch': 2438, 'stephen': 2439, 'hear': 2440, 'launching': 2441, 'extend': 2442, 'antonio': 2443, 'attention': 2444, 'resumed': 2445, 'crashed': 2446, 'pleads': 2447, 'biotechnology': 2448, 'marketwatch': 2449, 'bidder': 2450, 'fast': 2451, 'sugar': 2452, 'spirit': 2453, 'sense': 2454, 'community': 2455, 'walk': 2456, 'mount': 2457, 'leave': 2458, 'fallen': 2459, 'aa': 2460, 'using': 2461, 'negotiator': 2462, 'series': 2463, 'assembly': 2464, 'rolling': 2465, 'western': 2466, 'opinion': 2467, 'edward': 2468, 'nothing': 2469, 'previously': 2470, 'express': 2471, 'crack': 2472, 'shuts': 2473, 'port': 2474, 'shut': 2475, 'alabama': 2476, 'athletic': 2477, 'virgin': 2478, 'melbourne': 2479, 'sir': 2480, 'wish': 2481, 'possibly': 2482, 'bangkok': 2483, 'landed': 2484, 'aboard': 2485, 'inaugural': 2486, 'went': 2487, 'item': 2488, 'heard': 2489, 'beach': 2490, 'provided': 2491, 'ministry': 2492, 'affair': 2493, 'shell': 2494, 'tom': 2495, 'mother': 2496, 'banker': 2497, 'frank': 2498, 'guide': 2499, 'er': 2500, 'delivered': 2501, 'tackle': 2502, 'updated': 2503, 'throughout': 2504, 'lee': 2505, 'meat': 2506, 'safeway': 2507, 'estate': 2508, 'loyal': 2509, 'sub': 2510, 'relationship': 2511, 'sky': 2512, 'station': 2513, 'need': 2514, 'fill': 2515, 'ontario': 2516, 'promised': 2517, 'interior': 2518, 'patent': 2519, 'maverick': 2520, 'overhaul': 2521, 'minimum': 2522, 'fair': 2523, 'creating': 2524, 'dallas': 2525, 'asean': 2526, 'delhi': 2527, 'summit': 2528, 'scottish': 2529, 'jail': 2530, 'human': 2531, 'cancel': 2532, 'apparent': 2533, 'shown': 2534, 'carrying': 2535, 'genetically': 2536, 'scientist': 2537, 'published': 2538, 'verge': 2539, 'striking': 2540, 'walked': 2541, 'surrounding': 2542, 'birthday': 2543, 'metro': 2544, 'approves': 2545, 'fails': 2546, 'disrupt': 2547, 'heavyweight': 2548, 'agrees': 2549, 'verdana': 2550, 'm': 2551, 'sans': 2552, 'serif': 2553, 'arial': 2554, 'helvetica': 2555, 'color': 2556, 'font': 2557, 'prepares': 2558, 'snow': 2559, 'past': 2560, 'feature': 2561, 'competitive': 2562, 'triggered': 2563, 'scientific': 2564, 'death': 2565, 'flu': 2566, 'vaccine': 2567, 'database': 2568, 'normal': 2569, 'rome': 2570, 'italy': 2571, 'tim': 2572, 'negotiating': 2573, 'remove': 2574, 'critic': 2575, 'removed': 2576, 'criticism': 2577, 'traveler': 2578, 'lunch': 2579, 'apparently': 2580, 'miami': 2581, 'route': 2582, 'quits': 2583, 'shape': 2584, 'cite': 2585, 'voting': 2586, 'miss': 2587, 'improved': 2588, 'missed': 2589, 'lover': 2590, 'deeper': 2591, 'pocket': 2592, 'mumbai': 2593, 'cellular': 2594, 'weakness': 2595, 'revenge': 2596, 'present': 2597, 'bolster': 2598, 'classic': 2599, 'pitching': 2600, 'household': 2601, 'iron': 2602, 'ore': 2603, 'suffer': 2604, 'recruit': 2605, 'floor': 2606, 'h': 2607, 'fewer': 2608, 'music': 2609, 'pick': 2610, 'piece': 2611, 'clean': 2612, 'alone': 2613, 'bullish': 2614, 'advocate': 2615, 'amount': 2616, 'journal': 2617, 'networking': 2618, 'ca': 2619, 'prosecutor': 2620, 'siebel': 2621, 'ongoing': 2622, 'luxury': 2623, 'speaker': 2624, 'count': 2625, 'motorola': 2626, 'joining': 2627, 'beijing': 2628, 'arena': 2629, 'draw': 2630, 'similar': 2631, 'soft': 2632, 'resigns': 2633, 'bruce': 2634, 'harmony': 2635, 'trying': 2636, 'supermarket': 2637, 'able': 2638, 'dealing': 2639, 'ordered': 2640, 'mcdonald': 2641, 'core': 2642, 'shore': 2643, 'diego': 2644, 'significant': 2645, 'worst': 2646, 'crisis': 2647, 'answer': 2648, 'poverty': 2649, 'reveal': 2650, 'sharapova': 2651, 'maria': 2652, 'title': 2653, 'bear': 2654, 'suzuki': 2655, 'live': 2656, 'heel': 2657, 'messaging': 2658, 'vendor': 2659, 'outcome': 2660, 'hang': 2661, 'inch': 2662, 'screen': 2663, 'wounded': 2664, 'piracy': 2665, 'sharing': 2666, 'copyright': 2667, 'infringement': 2668, 'event': 2669, 'x': 2670, 'scheduled': 2671, 'center': 2672, 'tower': 2673, 'master': 2674, 'ed': 2675, 'northeast': 2676, 'influence': 2677, 'allegedly': 2678, 'suspect': 2679, 'animal': 2680, 'tested': 2681, 'brings': 2682, 'radical': 2683, 'opportunity': 2684, 'host': 2685, 'bottom': 2686, 'pentagon': 2687, 'choice': 2688, 'weapon': 2689, 'older': 2690, 'hole': 2691, 'beginning': 2692, 'gadget': 2693, 'notebook': 2694, 'maybe': 2695, 'lebanese': 2696, 'delegation': 2697, 'un': 2698, 'annan': 2699, 'mideast': 2700, 'envoy': 2701, 'lebanon': 2702, 'syria': 2703, 'resolution': 2704, 'larger': 2705, 'rice': 2706, 'roundup': 2707, 'jack': 2708, 'audit': 2709, 'committed': 2710, 'conduct': 2711, 'strategic': 2712, 'ensure': 2713, 'denied': 2714, 'perfect': 2715, 'true': 2716, 'never': 2717, 'seller': 2718, 'slowly': 2719, 'story': 2720, 'disappointed': 2721, 'crash': 2722, 'anywhere': 2723, 'else': 2724, 'guerrilla': 2725, 'lowe': 2726, 'hammer': 2727, 'alitalia': 2728, 'request': 2729, 'chris': 2730, 'turnaround': 2731, 'tennessee': 2732, 'cd': 2733, 'vega': 2734, 'la': 2735, 'editor': 2736, 'magazine': 2737, 'agent': 2738, 'norwegian': 2739, 'resume': 2740, 'saks': 2741, 'banned': 2742, 'deadly': 2743, 'avert': 2744, 'included': 2745, 'organisation': 2746, 'date': 2747, 'april': 2748, 'accuses': 2749, 'ten': 2750, 'neck': 2751, 'enter': 2752, 'nobel': 2753, 'dominated': 2754, 'prize': 2755, 'bold': 2756, 'liberty': 2757, 'branson': 2758, 'assurance': 2759, 'resign': 2760, 'compensation': 2761, 'hall': 2762, 'comcast': 2763, 'expands': 2764, 'fleet': 2765, 'lure': 2766, 'knock': 2767, 'ipod': 2768, 'crowded': 2769, 'fake': 2770, 'broadcaster': 2771, 'supplier': 2772, 'broadband': 2773, 'supporter': 2774, 'sentence': 2775, 'investigator': 2776, 'dr': 2777, 'nationwide': 2778, 'unveiled': 2779, 'begun': 2780, 'experience': 2781, 'anxious': 2782, 'usc': 2783, 'gateway': 2784, 'smaller': 2785, 'significantly': 2786, 'completing': 2787, 'everyone': 2788, 'flying': 2789, 'signing': 2790, 'involving': 2791, 'del': 2792, 'recovering': 2793, 'stolen': 2794, 'yahoo': 2795, 'content': 2796, 'audio': 2797, 'killing': 2798, 'killed': 2799, 'carter': 2800, 'visit': 2801, 'pleaded': 2802, 'ran': 2803, 'refused': 2804, 'prominent': 2805, 'feed': 2806, 'troop': 2807, 'kuwait': 2808, 'reverse': 2809, 'involvement': 2810, 'barely': 2811, 'questionable': 2812, 'glazer': 2813, 'utd': 2814, 'malcolm': 2815, 'died': 2816, 'saint': 2817, 'stopped': 2818, 'grows': 2819, 'wait': 2820, 'recording': 2821, 'crime': 2822, 'passed': 2823, 'regarding': 2824, 'smart': 2825, 'compact': 2826, 'initiative': 2827, 'rd': 2828, 'loom': 2829, 'manhattan': 2830, 'laden': 2831, 'east': 2832, 'mode': 2833, 'champion': 2834, 'song': 2835, 'oh': 2836, 'wrap': 2837, 'presented': 2838, 'blood': 2839, 'formerly': 2840, 'across': 2841, 'exactly': 2842, 'dick': 2843, 'defends': 2844, 'defended': 2845, 'citizen': 2846, 'hollywood': 2847, 'leak': 2848, 'worse': 2849, 'tunnel': 2850, 'downtown': 2851, 'acknowledged': 2852, 'feeling': 2853, 'pain': 2854, 'infrastructure': 2855, 'failure': 2856, 'alive': 2857, 'fault': 2858, 'done': 2859, 'urban': 2860, 'realnetworks': 2861, 'download': 2862, 'complaint': 2863, 'providing': 2864, 'stadium': 2865, 'eighth': 2866, 'powerful': 2867, 'fool': 2868, 'bag': 2869, 'cap': 2870, 'appealed': 2871, 'mail': 2872, 'burst': 2873, 'proved': 2874, 'feared': 2875, 'impressive': 2876, 'really': 2877, 'moving': 2878, 'comply': 2879, 'reality': 2880, 'lose': 2881, 'fueled': 2882, 'leap': 2883, 'disputed': 2884, 'ohio': 2885, 'visa': 2886, 'microsystems': 2887, 'java': 2888, 'pushed': 2889, 'abbott': 2890, 'ill': 2891, 'colorado': 2892, 'bomb': 2893, 'returning': 2894, 'military': 2895, 'invasion': 2896, 'jakarta': 2897, 'venezuela': 2898, 'survived': 2899, 'braced': 2900, 'cardinal': 2901, 'lilly': 2902, 'spyware': 2903, 'foundation': 2904, 'type': 2905, 'mary': 2906, 'acted': 2907, 'empty': 2908, 'seat': 2909, 'athens': 2910, 'olympics': 2911, 'unfair': 2912, 'threatening': 2913, 'respond': 2914, 'cargo': 2915, 'caracas': 2916, 'electoral': 2917, 'effectively': 2918, 'independence': 2919, 'blamed': 2920, 'novell': 2921, 'martin': 2922, 'placed': 2923, 'unlikely': 2924, 'fly': 2925, 'fought': 2926, 'pursue': 2927, 'entry': 2928, 'served': 2929, 'often': 2930, 'duty': 2931, 'delayed': 2932, 'releasing': 2933, 'supposed': 2934, 'happen': 2935, 'wind': 2936, 'province': 2937, 'procedure': 2938, 'abuse': 2939, 'unrest': 2940, 'craft': 2941, 'agenda': 2942, 'ben': 2943, 'peak': 2944, 'upon': 2945, 'preview': 2946, 'treo': 2947, 'smartphone': 2948, 'palmone': 2949, 'mb': 2950, 'multimedia': 2951, 'include': 2952, 'built': 2953, 'player': 2954, 'capability': 2955, 'capture': 2956, 'ship': 2957, 'bringing': 2958, 'fox': 2959, 'blu': 2960, 'ray': 2961, 'collect': 2962, 'pa': 2963, 'palestinian': 2964, 'working': 2965, 'colleague': 2966, 'forget': 2967, 'jeanne': 2968, 'evacuation': 2969, 'strengthen': 2970, 'latin': 2971, 'direct': 2972, 'tesco': 2973, 'surface': 2974, 'awarded': 2975, 'caribbean': 2976, 'devastating': 2977, 'offensive': 2978, 'handset': 2979, 'highlight': 2980, 'wrong': 2981, 'believed': 2982, 'something': 2983, 'counting': 2984, 'friend': 2985, 'browser': 2986, 'rossi': 2987, 'najaf': 2988, 'garden': 2989, 'sport': 2990, 'registered': 2991, 'pack': 2992, 'pro': 2993, 'wildcat': 2994, 'immediately': 2995, 'oklahoma': 2996, 'upgrading': 2997, 'hardware': 2998, 'radar': 2999, 'priority': 3000, 'secure': 3001, 'skill': 3002, 'conservative': 3003, 'boycott': 3004, 'cincinnati': 3005, 'example': 3006, 'valley': 3007, 'payment': 3008, 'couple': 3009, 'blair': 3010, 'tony': 3011, 'shared': 3012, 'swapping': 3013, 'plastic': 3014, 'entered': 3015, 'indiana': 3016, 'minor': 3017, 'whole': 3018, 'dead': 3019, 'audience': 3020, 'missing': 3021, 'location': 3022, 'ottawa': 3023, 'wade': 3024, 'flood': 3025, 'insight': 3026, 'clue': 3027, 'creation': 3028, 'dropping': 3029, 'seriously': 3030, 'clock': 3031, 'zurich': 3032, 'freed': 3033, 'opponent': 3034, 'tonight': 3035, 'prediction': 3036, 'hire': 3037, 'breach': 3038, 'refuse': 3039, 'flaw': 3040, 'voter': 3041, 'poll': 3042, 'seeing': 3043, 'veteran': 3044, 'emerge': 3045, 'politician': 3046, 'party': 3047, 'telling': 3048, 'columnist': 3049, 'fortune': 3050, 'defend': 3051, 'myanmar': 3052, 'slam': 3053, 'compromise': 3054, 'broadcast': 3055, 'walking': 3056, 'battling': 3057, 'spur': 3058, 'sustained': 3059, 'single': 3060, 'arrested': 3061, 'college': 3062, 'stick': 3063, 'embargo': 3064, 'democratic': 3065, 'belarus': 3066, 'saddam': 3067, 'hussein': 3068, 'followed': 3069, 'extension': 3070, 'thin': 3071, 'born': 3072, 'immediate': 3073, 'door': 3074, 'jonathan': 3075, 'dad': 3076, 'leaked': 3077, 'briton': 3078, 'illinois': 3079, 'marriage': 3080, 'celebrated': 3081, 'anniversary': 3082, 'favorite': 3083, 'interested': 3084, 'manchester': 3085, 'rush': 3086, 'wrote': 3087, 'ken': 3088, 'charging': 3089, 'blame': 3090, 'writes': 3091, 'shipping': 3092, 'freeze': 3093, 'sponsored': 3094, 'finish': 3095, 'worm': 3096, 'finally': 3097, 'navy': 3098, 'website': 3099, 'davis': 3100, 'happened': 3101, 'easier': 3102, 'batting': 3103, 'actually': 3104, 'earn': 3105, 'spent': 3106, 'band': 3107, 'shanghai': 3108, 'coverage': 3109, 'cleared': 3110, 'swap': 3111, 'mild': 3112, 'premier': 3113, 'federation': 3114, 'appear': 3115, 'fact': 3116, 'certainly': 3117, 'owen': 3118, 'rbi': 3119, 'representative': 3120, 'sexual': 3121, 'sentenced': 3122, 'admits': 3123, 'fm': 3124, 'disc': 3125, 'jockey': 3126, 'drawing': 3127, 'miner': 3128, 'sack': 3129, 'author': 3130, 'streak': 3131, 'pose': 3132, 'survivor': 3133, 'men': 3134, 'oregon': 3135, 'bob': 3136, 'israel': 3137, 'gaza': 3138, 'strip': 3139, 'interfax': 3140, 'returned': 3141, 'kind': 3142, 'society': 3143, 'barring': 3144, 'monitor': 3145, 'modern': 3146, 'democracy': 3147, 'definition': 3148, 'escape': 3149, 'attacked': 3150, 'headquarters': 3151, 'intelligence': 3152, 'police': 3153, 'watching': 3154, 'spreading': 3155, 'environmental': 3156, 'extra': 3157, 'orleans': 3158, 'tribunal': 3159, 'virus': 3160, 'allawi': 3161, 'arrives': 3162, 'ravaged': 3163, 'dual': 3164, 'simple': 3165, 'affect': 3166, 'summary': 3167, 'bangladesh': 3168, 'afc': 3169, 'austria': 3170, 'console': 3171, 'pressed': 3172, 'identity': 3173, 'theft': 3174, 'filled': 3175, 'rapidly': 3176, 'earth': 3177, 'neal': 3178, 'bullet': 3179, 'lockout': 3180, 'mayor': 3181, 'license': 3182, 'accept': 3183, 'intended': 3184, 'window': 3185, 'powerhouse': 3186, 'costa': 3187, 'met': 3188, 'institute': 3189, 'rape': 3190, 'described': 3191, 'spammer': 3192, 'kill': 3193, 'friendly': 3194, 'meyer': 3195, 'israeli': 3196, 'wound': 3197, 'sex': 3198, 'someone': 3199, 'eventually': 3200, 'fierce': 3201, 'willing': 3202, 'trip': 3203, 'clash': 3204, 'usual': 3205, 'crew': 3206, 'tougher': 3207, 'escaped': 3208, 'either': 3209, 'privacy': 3210, 'respect': 3211, 'atmosphere': 3212, 'td': 3213, 'gop': 3214, 'convention': 3215, 'fled': 3216, 'prompted': 3217, 'conclusion': 3218, 'reliever': 3219, 'motion': 3220, 'beef': 3221, 'supporting': 3222, 'fbi': 3223, 'engineer': 3224, 'recognize': 3225, 'roy': 3226, 'unexpected': 3227, 'andrew': 3228, 'dubbed': 3229, 'eclipse': 3230, 'armed': 3231, 'roll': 3232, 'silicon': 3233, 'caught': 3234, 'defeated': 3235, 'de': 3236, 'bow': 3237, 'ryder': 3238, 'telekom': 3239, 'orange': 3240, 'pat': 3241, 'siemens': 3242, 'bbc': 3243, 'backup': 3244, 'congressional': 3245, 'indefinitely': 3246, 'coalition': 3247, 'accusation': 3248, 'sap': 3249, 'jeff': 3250, 'angry': 3251, 'quality': 3252, 'gartner': 3253, 'sen': 3254, 'atop': 3255, 'recovered': 3256, 'eli': 3257, 'pennsylvania': 3258, 'catch': 3259, 'foreigner': 3260, 'powered': 3261, 'joe': 3262, 'us': 3263, 'singer': 3264, 'harry': 3265, 'heat': 3266, 'easily': 3267, 'iranian': 3268, 'sox': 3269, 'franchise': 3270, 'ousted': 3271, 'league': 3272, 'baseball': 3273, 'runner': 3274, 'challenger': 3275, 'role': 3276, 'underground': 3277, 'adam': 3278, 'wood': 3279, 'nec': 3280, 'id': 3281, 'swift': 3282, 'republic': 3283, 'leg': 3284, 'responsibility': 3285, 'atlanta': 3286, 'talent': 3287, 'jean': 3288, 'gary': 3289, 'toll': 3290, 'collection': 3291, 'd': 3292, 'mexican': 3293, 'thai': 3294, 'wanted': 3295, 'threaten': 3296, 'replacing': 3297, 'determined': 3298, 'favor': 3299, 'postponed': 3300, 'reader': 3301, 'officially': 3302, 'hp': 3303, 'hewlett': 3304, 'packard': 3305, 'nfl': 3306, 'offshore': 3307, 'msft': 3308, 'xp': 3309, 'funding': 3310, 'ryan': 3311, 'solaris': 3312, 'ambassador': 3313, 'disaster': 3314, 'heading': 3315, 'cleveland': 3316, 'madison': 3317, 'extraordinary': 3318, 'degree': 3319, 'island': 3320, 'madrid': 3321, 'berlin': 3322, 'manmohan': 3323, 'singh': 3324, 'arrived': 3325, 'hague': 3326, 'hamilton': 3327, 'population': 3328, 'hd': 3329, 'usatoday': 3330, 'rumor': 3331, 'crown': 3332, 'unique': 3333, 'bloc': 3334, 'passport': 3335, 'stamp': 3336, 'clashed': 3337, 'hide': 3338, 'colombia': 3339, 'environment': 3340, 'fat': 3341, 'canceled': 3342, 'par': 3343, 'male': 3344, 'unveils': 3345, 'netherlands': 3346, 'hailed': 3347, 'vietnam': 3348, 'enemy': 3349, 'description': 3350, 'throw': 3351, 'oriented': 3352, 'lesson': 3353, 'gone': 3354, 'dismissed': 3355, 'ace': 3356, 'reveals': 3357, 'prince': 3358, 'sorry': 3359, 'hughes': 3360, 'stalled': 3361, 'voip': 3362, 'nokia': 3363, 'disk': 3364, 'seoul': 3365, 'fun': 3366, 'fined': 3367, 'surfer': 3368, 'sometimes': 3369, 'jeeves': 3370, 'shadow': 3371, 'visitor': 3372, 'ninth': 3373, 'indonesian': 3374, 'career': 3375, 'telephony': 3376, 'reputation': 3377, 'ice': 3378, 'acting': 3379, 'bound': 3380, 'gene': 3381, 'rare': 3382, 'pattern': 3383, 'buffalo': 3384, 'integrated': 3385, 'rover': 3386, 'ii': 3387, 'conducted': 3388, 'lived': 3389, 'quoted': 3390, 'transfer': 3391, 'adobe': 3392, 'acrobat': 3393, 'andy': 3394, 'expo': 3395, 'oriole': 3396, 'taiwan': 3397, 'drew': 3398, 'reopened': 3399, 'standing': 3400, 'inside': 3401, 'compound': 3402, 'idg': 3403, 'journalist': 3404, 'vision': 3405, 'plenty': 3406, 'bundle': 3407, 'invitation': 3408, 'chen': 3409, 'williams': 3410, 'printer': 3411, 'blast': 3412, 'receive': 3413, 'language': 3414, 'treated': 3415, 'northeastern': 3416, 'happy': 3417, 'expanded': 3418, 'shi': 3419, 'ite': 3420, 'militia': 3421, 'franklin': 3422, 'wisconsin': 3423, 'baby': 3424, 'raid': 3425, 'microprocessor': 3426, 'specie': 3427, 'training': 3428, 'reaction': 3429, 'pas': 3430, 'command': 3431, 'commander': 3432, 'award': 3433, 'brain': 3434, 'task': 3435, 'draft': 3436, 'el': 3437, 'historic': 3438, 'superstar': 3439, 'showdown': 3440, 'defensive': 3441, 'keyboard': 3442, 'ripped': 3443, 'towards': 3444, 'explosive': 3445, 'homeland': 3446, 'computing': 3447, 'abu': 3448, 'silvio': 3449, 'berlusconi': 3450, 'scam': 3451, 'fighter': 3452, 'destroyed': 3453, 'calm': 3454, 'becoming': 3455, 'tank': 3456, 'daughter': 3457, 'clinton': 3458, 'climate': 3459, 'olympic': 3460, 'swimming': 3461, 'lineup': 3462, 'democrat': 3463, 'ac': 3464, 'adapter': 3465, 'nasa': 3466, 'spacecraft': 3467, 'wildlife': 3468, 'busy': 3469, 'tropical': 3470, 'suspicion': 3471, 'landmark': 3472, 'skull': 3473, 'trojan': 3474, 'horse': 3475, 'km': 3476, 'southeastern': 3477, 'mph': 3478, 'helen': 3479, 'eruption': 3480, 'earthquake': 3481, 'quest': 3482, 'rebuild': 3483, 'ntt': 3484, 'docomo': 3485, 'custom': 3486, 'obtained': 3487, 'strain': 3488, 'bluetooth': 3489, 'unknown': 3490, 'sql': 3491, 'targeting': 3492, 'shuttle': 3493, 'changing': 3494, 'laptop': 3495, 'greatest': 3496, 'father': 3497, 'layer': 3498, 'evolution': 3499, 'sco': 3500, 'ziff': 3501, 'prepare': 3502, 'explorer': 3503, 'firefox': 3504, 'siliconvalley': 3505, 'workstation': 3506, 'solar': 3507, 'qtype': 3508, 'sym': 3509, 'infotype': 3510, 'info': 3511, 'qcat': 3512, 'techweb': 3513, 'eserver': 3514, 'secretly': 3515, 'washingtonpost': 3516, 'hacker': 3517, 'assassination': 3518, 'theory': 3519, 'jpeg': 3520, 'remote': 3521, 'virtual': 3522, 'greek': 3523, 'dy': 3524, 'ie': 3525, 'exploit': 3526, 'architecture': 3527, 'nvidia': 3528, 'graphic': 3529, 'itunes': 3530, 'downloading': 3531, 'gunman': 3532, 'gb': 3533, 'capable': 3534, 'arctic': 3535, 'hunter': 3536, 'platform': 3537, 'newsfactor': 3538, 'helicopter': 3539, 'captain': 3540, 'maccentral': 3541, 'cup': 3542, 'o': 3543, 'wild': 3544, 'emc': 3545, 'router': 3546, 'saturn': 3547, 'thick': 3548, 'lake': 3549, 'stretch': 3550, 'pornography': 3551, 'itanium': 3552, 'georgian': 3553, 'chechnya': 3554, 'burn': 3555, 'undergo': 3556, 'palmsource': 3557, 'palm': 3558, 'enhanced': 3559, 'bird': 3560, 'violent': 3561, 'administrator': 3562, 'sean': 3563, 'keefe': 3564, 'spam': 3565, 'closest': 3566, 'cassini': 3567, 'protocol': 3568, 'shark': 3569, 'weight': 3570, 'drought': 3571, 'trap': 3572, 'cyber': 3573, 'parliament': 3574, 'msn': 3575, 'interactive': 3576, 'blogger': 3577, 'crater': 3578, 'piston': 3579, 'christian': 3580, 'activist': 3581, 'suffering': 3582, 'arrive': 3583, 'robot': 3584, 'perform': 3585, 'birth': 3586, 'tiger': 3587, 'sp': 3588, 'amsterdam': 3589, 'assault': 3590, 'chicken': 3591, 'genome': 3592, 'dna': 3593, 'jungle': 3594, 'warrior': 3595, 'playing': 3596, 'filmmaker': 3597, 'domain': 3598, 'imac': 3599, 'elephant': 3600, 'counted': 3601, 'demanded': 3602, 'astronomer': 3603, 'artist': 3604, 'soyuz': 3605, 'tiny': 3606, 'tradition': 3607, 'dan': 3608, 'vulnerability': 3609, 'questioned': 3610, 'incoming': 3611, 'pda': 3612, 'teenager': 3613, 'sasser': 3614, 'speak': 3615, 'preparation': 3616, 'basic': 3617, 'misery': 3618, 'verdict': 3619, 'receiver': 3620, 'ambition': 3621, 'availability': 3622, 'email': 3623, 'infected': 3624, 'programmer': 3625, 'i': 3626, 'rfid': 3627, 'gaming': 3628, 'native': 3629, 'computerworld': 3630, 'mozilla': 3631, 'mind': 3632, 'religion': 3633, 'assist': 3634, 'revamped': 3635, 'pentium': 3636, 'buck': 3637, 'cloning': 3638, 'curt': 3639, 'anderson': 3640, 'contender': 3641, 'girl': 3642, 'dawn': 3643, 'button': 3644, 'birmingham': 3645, 'tune': 3646, 'boy': 3647, 'celebrating': 3648, 'ancient': 3649, 'extreme': 3650, 'mystery': 3651, 'planet': 3652, 'fingerprint': 3653, 'scan': 3654, 'beta': 3655, 'strange': 3656, 'appliance': 3657, 'spaceshipone': 3658, 'skype': 3659, 'cub': 3660, 'xinhua': 3661, 'serena': 3662, 'paypal': 3663, 'mike': 3664, 'kofi': 3665, 'minute': 3666, 'amateur': 3667, 'trigger': 3668, 'phase': 3669, 'repair': 3670, 'oxygen': 3671, 'arrest': 3672, 'xbox': 3673, 'volcano': 3674, 'mountain': 3675, 'receives': 3676, 'longhorn': 3677, 'extinction': 3678, 'captive': 3679, 'infoworld': 3680, 'function': 3681, 'bug': 3682, 'lycos': 3683, 'diplomat': 3684, 'athlete': 3685, 'anything': 3686, 'guy': 3687, 'blog': 3688, 'tsunami': 3689, 'ram': 3690, 'orbit': 3691, 'match': 3692, 'bryant': 3693, 'nba': 3694, 'kobe': 3695, 'physical': 3696, 'contact': 3697, 'relay': 3698, 'freedom': 3699, 'rocky': 3700, 'accident': 3701, 'starter': 3702, 'speedway': 3703, 'phishing': 3704, 'trick': 3705, 'define': 3706, 'screensaver': 3707, 'obtaining': 3708, 'erp': 3709, 'thailand': 3710, 'seed': 3711, 'professor': 3712, 'simply': 3713, 'fernando': 3714, 'sender': 3715, 'authentication': 3716, 'silence': 3717, 'napster': 3718, 'spotted': 3719, 'powell': 3720, 'revolution': 3721, 'pnet': 3722, 'ron': 3723, 'devastated': 3724, 'ballot': 3725, 'downloads': 3726, 'stomach': 3727, 'kazaa': 3728, 'capsule': 3729, 'mainframe': 3730, 'rolled': 3731, 'aiming': 3732, 'religious': 3733, 'anger': 3734, 'cape': 3735, 'yankee': 3736, 'fishing': 3737, 'banner': 3738, 'malicious': 3739, 'jupiter': 3740, 'spy': 3741, 'beckham': 3742, 'football': 3743, 'unix': 3744, 'netscape': 3745, 'text': 3746, 'hubble': 3747, 'hill': 3748, 'genesis': 3749, 'scholar': 3750, 'nfc': 3751, 'ride': 3752, 'transistor': 3753, 'marathon': 3754, 'successfully': 3755, 'experiment': 3756, 'treaty': 3757, 'eating': 3758, 'lunar': 3759, 'attacker': 3760, 'andreas': 3761, 'trail': 3762, 'portland': 3763, 'sooner': 3764, 'nato': 3765, 'beslan': 3766, 'siege': 3767, 'zimbabwe': 3768, 'library': 3769, 'utah': 3770, 'incident': 3771, 'rick': 3772, 'baghdad': 3773, 'nearby': 3774, 'blade': 3775, 'trapped': 3776, 'killer': 3777, 'marine': 3778, 'soccer': 3779, 'cheney': 3780, 'contest': 3781, 'tore': 3782, 'rivalry': 3783, 'flower': 3784, 'yard': 3785, 'patrick': 3786, 'substance': 3787, 'allen': 3788, 'arsenal': 3789, 'insurgent': 3790, 'female': 3791, 'holy': 3792, 'print': 3793, 'submarine': 3794, 'shoot': 3795, 'rwanda': 3796, 'genocide': 3797, 'ceremony': 3798, 'achievement': 3799, 'devil': 3800, 'telescope': 3801, 'rom': 3802, 'severe': 3803, 'derby': 3804, 'vijay': 3805, 'gay': 3806, 'sep': 3807, 'medal': 3808, 'atomic': 3809, 'ferrari': 3810, 'anthony': 3811, 'hornet': 3812, 'arkansas': 3813, 'explosion': 3814, 'legend': 3815, 'denver': 3816, 'bronze': 3817, 'accepts': 3818, 'meter': 3819, 'sven': 3820, 'exploded': 3821, 'unable': 3822, 'plot': 3823, 'settler': 3824, 'warm': 3825, 'fame': 3826, 'produced': 3827, 'bobcat': 3828, 'captured': 3829, 'famous': 3830, 'kyoto': 3831, 'autonomy': 3832, 'locust': 3833, 'autumn': 3834, 'english': 3835, 'erupted': 3836, 'whale': 3837, 'dolphin': 3838, 'wing': 3839, 'upset': 3840, 'alex': 3841, 'sweden': 3842, 'miracle': 3843, 'cultural': 3844, 'randy': 3845, 'ferry': 3846, 'desert': 3847, 'smile': 3848, 'tragedy': 3849, 'typhoon': 3850, 'rain': 3851, 'sacked': 3852, 'doping': 3853, 'village': 3854, 'identified': 3855, 'chechen': 3856, 'jacksonville': 3857, 'jordan': 3858, 'museum': 3859, 'scott': 3860, 'congo': 3861, 'zero': 3862, 'cruise': 3863, 'magic': 3864, 'egyptian': 3865, 'remainder': 3866, 'sweep': 3867, 'nuke': 3868, 'fit': 3869, 'tennis': 3870, 'championship': 3871, 'tournament': 3872, 'shawn': 3873, 'spoken': 3874, 'brian': 3875, 'tied': 3876, 'finland': 3877, 'greece': 3878, 'quake': 3879, 'condemned': 3880, 'duel': 3881, 'tape': 3882, 'restore': 3883, 'regime': 3884, 'iowa': 3885, 'golf': 3886, 'clinch': 3887, 'cowboy': 3888, 'boat': 3889, 'eindhoven': 3890, 'aide': 3891, 'matt': 3892, 'bloody': 3893, 'jackson': 3894, 'gang': 3895, 'wizard': 3896, 'darfur': 3897, 'monaco': 3898, 'kent': 3899, 'jailed': 3900, 'costello': 3901, 'relative': 3902, 'squad': 3903, 'overture': 3904, 'libya': 3905, 'theo': 3906, 'gogh': 3907, 'absence': 3908, 'orthodox': 3909, 'church': 3910, 'comeback': 3911, 'shooting': 3912, 'russell': 3913, 'harris': 3914, 'thrown': 3915, 'norway': 3916, 'emotional': 3917, 'eric': 3918, 'pitched': 3919, 'nascar': 3920, 'spectator': 3921, 'knew': 3922, 'venus': 3923, 'belongs': 3924, 'pittsburgh': 3925, 'seized': 3926, 'pole': 3927, 'romanian': 3928, 'chile': 3929, 'colin': 3930, 'kenya': 3931, 'raven': 3932, 'harrington': 3933, 'crush': 3934, 'scored': 3935, 'quarterfinal': 3936, 'hockey': 3937, 'torn': 3938, 'knee': 3939, 'ligament': 3940, 'coach': 3941, 'bc': 3942, 'trophy': 3943, 'bcs': 3944, 'fifa': 3945, 'golfer': 3946, 'pga': 3947, 'basketball': 3948, 'pierce': 3949, 'marlin': 3950, 'inning': 3951, 'phillies': 3952, 'slugger': 3953, 'henry': 3954, 'knicks': 3955, 'coaching': 3956, 'cricket': 3957, 'dale': 3958, 'earnhardt': 3959, 'catcher': 3960, 'anaheim': 3961, 'angel': 3962, 'phoenix': 3963, 'barry': 3964, 'injured': 3965, 'rookie': 3966, 'defender': 3967, 'newcastle': 3968, 'wta': 3969, 'auburn': 3970, 'robinson': 3971, 'inter': 3972, 'serie': 3973, 'nl': 3974, 'pedro': 3975, 'mets': 3976, 'martinez': 3977, 'carlos': 3978, 'milwaukee': 3979, 'yank': 3980, 'barcelona': 3981, 'pitcher': 3982, 'silver': 3983, 'steroid': 3984, 'homer': 3985, 'fenway': 3986, 'opener': 3987, 'middlesbrough': 3988, 'wayne': 3989, 'rooney': 3990, 'astros': 3991, 'postseason': 3992, 'roger': 3993, 'clemens': 3994, 'nhl': 3995, 'quarterback': 3996, 'athletics': 3997, 'shutout': 3998, 'tampa': 3999, 'teammate': 4000, 'shaquille': 4001, 'actor': 4002, 'chelsea': 4003, 'ortiz': 4004, 'jay': 4005, 'patriot': 4006, 'syracuse': 4007, 'coughlin': 4008, 'seeded': 4009, 'lleyton': 4010, 'hewitt': 4011, 'semifinal': 4012, 'highbury': 4013, 'trafford': 4014, 'thatcher': 4015, 'pacer': 4016, 'indie': 4017, 'bmw': 4018, 'montgomerie': 4019, 'manny': 4020, 'ramirez': 4021, 'homered': 4022, 'colt': 4023, 'maurice': 4024, 'striker': 4025, 'premiership': 4026, 'charger': 4027, 'kuznetsova': 4028, 'davenport': 4029, 'lindsay': 4030, 'svetlana': 4031, 'scoring': 4032, 'kim': 4033, 'vick': 4034, 'touchdown': 4035, 'prix': 4036, 'schumacher': 4037, 'shane': 4038, 'safin': 4039, 'darren': 4040, 'notre': 4041, 'dame': 4042, 'offense': 4043, 'wicket': 4044, 'gunner': 4045, 'playoff': 4046, 'clinched': 4047, 'champ': 4048, 'johnny': 4049, 'lap': 4050, 'pointer': 4051, 'apology': 4052, 'battled': 4053, 'matchup': 4054, 'dave': 4055, 'mauresmo': 4056, 'amelie': 4057, 'freshman': 4058, 'skipper': 4059, 'fa': 4060, 'referee': 4061, 'ferguson': 4062, 'ichiro': 4063, 'marion': 4064, 'seahawks': 4065, 'packer': 4066, 'artest': 4067, 'brawl': 4068, 'embassy': 4069, 'mvp': 4070, 'justin': 4071, 'giambi': 4072, 'jason': 4073, 'busch': 4074, 'kurt': 4075, 'bayern': 4076, 'shoulder': 4077, 'hamm': 4078, 'pakistan': 4079, 'midfielder': 4080, 'khan': 4081, 'boxing': 4082, 'unbeaten': 4083, 'ruud': 4084, 'nistelrooy': 4085, 'garcia': 4086, 'bengal': 4087, 'qualifier': 4088, 'racism': 4089, 'ticker': 4090, 'ian': 4091, 'qualifying': 4092, 'mariner': 4093, 'ncaa': 4094, 'doubtful': 4095, 'jacques': 4096, 'ranger': 4097, 'mutu': 4098, 'adrian': 4099, 'rushed': 4100, 'schilling': 4101, 'ankle': 4102, 'gymnastics': 4103, 'yao': 4104, 'preseason': 4105, 'clipper': 4106, 'brett': 4107, 'paralympics': 4108, 'steelers': 4109, 'cavalier': 4110, 'thierry': 4111, 'sprinter': 4112, 'henman': 4113, 'grizzly': 4114, 'memphis': 4115, 'faith': 4116, 'trainer': 4117, 'petersburg': 4118, 'omar': 4119, 'nugget': 4120, 'manning': 4121, 'peyton': 4122, 'casey': 4123, 'bronco': 4124, 'terry': 4125, 'renault': 4126, 'hitter': 4127, 'everton': 4128, 'falcon': 4129, 'cbc': 4130, 'ricky': 4131, 'purdue': 4132, 'rib': 4133, 'uefa': 4134, 'langer': 4135, 'birdie': 4136, 'sheffield': 4137, 'cocaine': 4138, 'graeme': 4139, 'eliminated': 4140, 'ernie': 4141, 'lewis': 4142, 'redskin': 4143, 'brave': 4144, 'glory': 4145, 'bloomfield': 4146, 'dodger': 4147, 'columbus': 4148, 'andre': 4149, 'backman': 4150, 'diamondback': 4151, 'panther': 4152, 'visiting': 4153, 'heisman': 4154, 'federer': 4155, 'agassi': 4156, 'compatriot': 4157, 'icc': 4158, 'lahore': 4159, 'videotape': 4160, 'linebacker': 4161, 'balco': 4162, 'atp': 4163, 'wenger': 4164, 'bolton': 4165, 'souness': 4166, 'egypt': 4167, 'reigning': 4168, 'roddick': 4169, 'stormed': 4170, 'castro': 4171, 'cuba': 4172, 'attend': 4173, 'bobby': 4174, 'mcnair': 4175, 'breeder': 4176, 'louisville': 4177, 'arsene': 4178, 'outfielder': 4179, 'strained': 4180, 'jamal': 4181, 'psv': 4182, 'favourite': 4183, 'arab': 4184, 'raptor': 4185, 'chaos': 4186, 'sao': 4187, 'ukraine': 4188, 'raider': 4189, 'lyon': 4190, 'hander': 4191, 'upper': 4192, 'panama': 4193, 'dillon': 4194, 'reeling': 4195, 'duo': 4196, 'communist': 4197, 'sri': 4198, 'lanka': 4199, 'massacre': 4200, 'jewish': 4201, 'palace': 4202, 'glenn': 4203, 'ailing': 4204, 'aziz': 4205, 'kidnapper': 4206, 'ali': 4207, 'bomber': 4208, 'hostage': 4209, 'islamic': 4210, 'muslim': 4211, 'injures': 4212, 'bali': 4213, 'murder': 4214, 'missile': 4215, 'kiev': 4216, 'nominee': 4217, 'diplomatic': 4218, 'bin': 4219, 'kidnapped': 4220, 'abducted': 4221, 'battleground': 4222, 'margaret': 4223, 'coup': 4224, 'sharon': 4225, 'jerusalem': 4226, 'ariel': 4227, 'pullout': 4228, 'hamas': 4229, 'kabul': 4230, 'afghanistan': 4231, 'beheaded': 4232, 'islamist': 4233, 'afghan': 4234, 'refugee': 4235, 'sudanese': 4236, 'abuja': 4237, 'sudan': 4238, 'uranium': 4239, 'arafat': 4240, 'damascus': 4241, 'yasser': 4242, 'pitcairn': 4243, 'augusto': 4244, 'pinochet': 4245, 'injuring': 4246, 'falluja': 4247, 'bombing': 4248, 'islamabad': 4249, 'shaukat': 4250, 'kidnapping': 4251, 'shrine': 4252, 'warplane': 4253, 'cleric': 4254, 'imam': 4255, 'mosul': 4256, 'uprising': 4257, 'militant': 4258, 'fallujah': 4259, 'ossetia': 4260, 'separatist': 4261, 'zarqawi': 4262, 'deadliest': 4263, 'prisoner': 4264, 'ankara': 4265, 'detained': 4266, 'bambang': 4267, 'yudhoyono': 4268, 'catholic': 4269, 'taliban': 4270, 'ukrainian': 4271, 'norodom': 4272, 'sihanouk': 4273, 'cambodia': 4274, 'hassan': 4275, 'tamil': 4276, 'maoist': 4277, 'chirac': 4278, 'musharraf': 4279, 'pervez': 4280, 'humanitarian': 4281, 'pyongyang': 4282, 'hamid': 4283, 'karzai': 4284, 'sadr': 4285, 'moqtada': 4286, 'mosque': 4287, 'mbeki': 4288, 'checkpoint': 4289, 'wounding': 4290, 'deserter': 4291, 'nairobi': 4292, 'jazeera': 4293, 'bigley': 4294, 'enrichment': 4295, 'qaeda': 4296, 'haiti': 4297, 'peacekeeper': 4298, 'syrian': 4299, 'unity': 4300, 'grave': 4301, 'equatorial': 4302, 'guinea': 4303, 'pakistani': 4304, 'kenyan': 4305, 'musab': 4306, 'qaida': 4307, 'occupied': 4308, 'sunni': 4309, 'landslide': 4310, 'iaea': 4311, 'stronghold': 4312, 'purportedly': 4313, 'osama': 4314, 'dialogue': 4315, 'khartoum': 4316, 'slum': 4317, 'ghraib': 4318, 'gunfire': 4319, 'kashmir': 4320, 'convoy': 4321, 'ballistic': 4322, 'pope': 4323, 'abidjan': 4324, 'samarra': 4325, 'shiite': 4326, 'muqtada': 4327, 'ceasefire': 4328, 'parliamentary': 4329, 'serb': 4330, 'milosevic': 4331, 'yugoslav': 4332, 'slobodan': 4333, 'tribal': 4334}\n"
     ]
    }
   ],
   "source": [
    "print(vectorizer.news_vocab._token_to_idx)"
   ]
  },
  {
   "cell_type": "code",
   "execution_count": 14,
   "metadata": {},
   "outputs": [
    {
     "name": "stdout",
     "output_type": "stream",
     "text": [
      "{'Business': 0, 'Sci/Tech': 1, 'Sports': 2, 'World': 3}\n"
     ]
    }
   ],
   "source": [
    "print(vectorizer.category_vocab._token_to_idx)"
   ]
  },
  {
   "cell_type": "code",
   "execution_count": 15,
   "metadata": {},
   "outputs": [
    {
     "data": {
      "text/plain": [
       "254"
      ]
     },
     "execution_count": 15,
     "metadata": {},
     "output_type": "execute_result"
    }
   ],
   "source": [
    "dataset._max_seq_length"
   ]
  },
  {
   "cell_type": "markdown",
   "metadata": {},
   "source": [
    "### Grid Search"
   ]
  },
  {
   "cell_type": "code",
   "execution_count": null,
   "metadata": {},
   "outputs": [],
   "source": [
    "import time\n",
    "\n",
    "def train_for_fine_tune(embedding_dim, hidden_dim, output_dim, pretrained_embeddings, emb_freeze, batch_size):\n",
    "    set_seed_everywhere(args.seed, args.cuda, args.mps)\n",
    "    \n",
    "    args.batch_size = batch_size\n",
    "    classifier = NewsClassifier(embedding_dim=embedding_dim,         # e.g, 100\n",
    "                                num_embeddings=len(vectorizer.news_vocab),  # e.g., 3409\n",
    "                                output_dim=output_dim,\n",
    "                                hidden_dim=hidden_dim,\n",
    "                                pretrained_embeddings=pretrained_embeddings,\n",
    "                                emb_freeze=emb_freeze)\n",
    "    \n",
    "    if pretrained_embeddings is None:\n",
    "        is_pretrained_embeddings = False\n",
    "    else:\n",
    "        is_pretrained_embeddings = True\n",
    "        \n",
    "    classifier = classifier.to(args.device)\n",
    "    dataset.class_weights = dataset.class_weights.to(args.device)\n",
    "        \n",
    "    loss_func = nn.CrossEntropyLoss(dataset.class_weights)\n",
    "    optimizer = optim.Adam(classifier.parameters(), lr=args.learning_rate)\n",
    "    scheduler = optim.lr_scheduler.ReduceLROnPlateau(optimizer=optimizer, mode='min', factor=0.5, patience=1)\n",
    "\n",
    "    train_state = make_train_state(args)\n",
    "\n",
    "    epoch_bar = tqdm(desc='training routine', total=args.num_epochs, position=0)\n",
    "\n",
    "    dataset.set_split('train')\n",
    "    train_bar = tqdm(desc='split=train', total=dataset.get_num_batches(args.batch_size), position=1, leave=True)\n",
    "\n",
    "    dataset.set_split('val')\n",
    "    val_bar = tqdm(desc='split=val', total=dataset.get_num_batches(args.batch_size), position=1, leave=True)\n",
    "\n",
    "    try:\n",
    "        for epoch_index in range(args.num_epochs):\n",
    "            train_state['epoch_index'] = epoch_index\n",
    "\n",
    "            # Iterate over training dataset\n",
    "\n",
    "            # setup: batch generator, set loss and acc to 0, set train mode on\n",
    "\n",
    "            dataset.set_split('train')\n",
    "            batch_generator = generate_batches(dataset, \n",
    "                                            batch_size=args.batch_size, \n",
    "                                            device=args.device)\n",
    "            running_loss = 0.0\n",
    "            running_acc = 0.0\n",
    "            classifier.train()\n",
    "\n",
    "            for batch_index, batch_dict in enumerate(batch_generator):\n",
    "                # the training routine is these 5 steps:\n",
    "\n",
    "                # --------------------------------------\n",
    "                # step 1. zero the gradients\n",
    "                optimizer.zero_grad()\n",
    "\n",
    "                # step 2. compute the output\n",
    "                y_pred = classifier(batch_dict['x_data']) # (batch, seq_len) -> (batch, num_classes)\n",
    "\n",
    "                # step 3. compute the loss\n",
    "                loss = loss_func(y_pred, batch_dict['y_target'])\n",
    "                loss_t = loss.item()\n",
    "                running_loss += (loss_t - running_loss) / (batch_index + 1)\n",
    "\n",
    "                # step 4. use loss to produce gradients\n",
    "                loss.backward()\n",
    "\n",
    "                # step 5. use optimizer to take gradient step\n",
    "                optimizer.step()\n",
    "                # -----------------------------------------\n",
    "                # compute the accuracy\n",
    "                acc_t = compute_accuracy(y_pred, batch_dict['y_target'])\n",
    "                running_acc += (acc_t - running_acc) / (batch_index + 1)\n",
    "\n",
    "                # update bar\n",
    "                train_bar.set_postfix(loss=running_loss, acc=running_acc, \n",
    "                                   epoch=epoch_index)\n",
    "                train_bar.update()\n",
    "\n",
    "            train_state['train_loss'].append(running_loss)\n",
    "            train_state['train_acc'].append(running_acc)\n",
    "\n",
    "            # Iterate over val dataset\n",
    "\n",
    "            # setup: batch generator, set loss and acc to 0; set eval mode on\n",
    "            dataset.set_split('val')\n",
    "            batch_generator = generate_batches(dataset, \n",
    "                                            batch_size=args.batch_size, \n",
    "                                            device=args.device)\n",
    "            running_loss = 0.\n",
    "            running_acc = 0.\n",
    "            classifier.eval()\n",
    "\n",
    "            for batch_index, batch_dict in enumerate(batch_generator):\n",
    "\n",
    "                # compute the output\n",
    "                y_pred =  classifier(batch_dict['x_data'])\n",
    "\n",
    "                # step 3. compute the loss\n",
    "                loss = loss_func(y_pred, batch_dict['y_target'])\n",
    "                loss_t = loss.item()\n",
    "                running_loss += (loss_t - running_loss) / (batch_index + 1)\n",
    "\n",
    "                # compute the accuracy\n",
    "                acc_t = compute_accuracy(y_pred, batch_dict['y_target'])\n",
    "                running_acc += (acc_t - running_acc) / (batch_index + 1)\n",
    "                val_bar.set_postfix(loss=running_loss, acc=running_acc, \n",
    "                                epoch=epoch_index)\n",
    "                val_bar.update()\n",
    "\n",
    "            train_state['val_loss'].append(running_loss)\n",
    "            train_state['val_acc'].append(running_acc)\n",
    "\n",
    "            train_state = update_train_state(args=args, model=classifier,\n",
    "                                            train_state=train_state)\n",
    "\n",
    "            scheduler.step(train_state['val_loss'][-1])\n",
    "\n",
    "            if train_state['stop_early']:\n",
    "                break\n",
    "\n",
    "            train_bar.n = 0\n",
    "            val_bar.n = 0\n",
    "            epoch_bar.update()\n",
    "            \n",
    "    except KeyboardInterrupt:\n",
    "        print(\"Exiting loop\")\n",
    "\n",
    "    acc = train_state['train_acc']\n",
    "    val_acc = train_state['val_acc']\n",
    "    loss = train_state['train_loss']\n",
    "    val_loss = train_state['val_loss']\n",
    "\n",
    "    epochs = range(1, len(acc) + 1)\n",
    "    \n",
    "    # compute the loss & accuracy on the test set using the best available model\n",
    "\n",
    "    classifier.load_state_dict(torch.load(train_state['model_filename'])) # load the best model\n",
    "\n",
    "    classifier = classifier.to(args.device)\n",
    "    dataset.class_weights = dataset.class_weights.to(args.device)\n",
    "    loss_func = nn.CrossEntropyLoss(dataset.class_weights)\n",
    "\n",
    "    dataset.set_split('test')\n",
    "    batch_generator = generate_batches(dataset, \n",
    "                                    batch_size=args.batch_size, \n",
    "                                    device=args.device)\n",
    "    running_loss = 0.\n",
    "    running_acc = 0.\n",
    "    classifier.eval()\n",
    "\n",
    "    y_pred_list = []         # store predicted values for confusion matrix\n",
    "    y_category_list = []  # ground truth value\n",
    "\n",
    "    for batch_index, batch_dict in enumerate(batch_generator):\n",
    "        # compute the output\n",
    "        y_pred =  classifier(batch_dict['x_data'])\n",
    "        \n",
    "        # store predicted values and ground truth values for calculating confusion matrix\n",
    "        y_pred_list.extend(y_pred.max(dim=1)[1].cpu().numpy())\n",
    "        y_category_list.extend(batch_dict['y_target'].cpu().numpy())\n",
    "        \n",
    "        # compute the loss\n",
    "        loss = loss_func(y_pred, batch_dict['y_target'])\n",
    "        loss_t = loss.item()\n",
    "        running_loss += (loss_t - running_loss) / (batch_index + 1)\n",
    "\n",
    "        # compute the accuracy\n",
    "        acc_t = compute_accuracy(y_pred, batch_dict['y_target'])\n",
    "        running_acc += (acc_t - running_acc) / (batch_index + 1)\n",
    "\n",
    "    train_state['test_loss'] = running_loss\n",
    "    train_state['test_acc'] = running_acc\n",
    "    \n",
    "    return [embedding_dim, hidden_dim, output_dim, is_pretrained_embeddings, emb_freeze, batch_size, train_state['val_loss'][-1], train_state['val_acc'][-1], train_state['test_loss'], train_state['test_acc']]\n",
    "\n",
    "def simple_grid_search(embedding_dim_values, hidden_dim_values, batch_size_values, pretrained_embeddings_values, emb_freeze_values):    \n",
    "    output_dim_value = 4\n",
    "    \n",
    "    print(\"embedding_dim_values:\", embedding_dim_values)\n",
    "    print(\"hidden_dim_values:\", hidden_dim_values)\n",
    "    print(\"batch_size_values: \", batch_size_values)\n",
    "    \n",
    "    best_by_val_loss = []\n",
    "    best_by_val_acc = []\n",
    "    best_by_test_loss = []\n",
    "    best_by_test_acc = []\n",
    "    \n",
    "    log_path = 'Log_FastText_News_Category.txt'\n",
    "    if os.path.exists(log_path):\n",
    "        os.remove(log_path)\n",
    "        \n",
    "    with open(log_path, 'a') as log:\n",
    "        for pretrained_embeddings_value in pretrained_embeddings_values:\n",
    "            if pretrained_embeddings_value is not None:\n",
    "                print(\"------------Use Pretrain------------\")\n",
    "                log.write(\"------------Use Pretrain------------\\n\")\n",
    "                for emb_freeze_value in emb_freeze_values:\n",
    "                    for hidden_dim_value in hidden_dim_values:\n",
    "                        for batch_size_value in batch_size_values:\n",
    "                            print(f\"------args-----\\nhidden_dim: {hidden_dim_value} | batch_size: {batch_size_value} | emb_freeze: {emb_freeze_value}\")\n",
    "                            log.write(f\"------args-----\\nhidden_dim: {hidden_dim_value} | batch_size: {batch_size_value} | emb_freeze: {emb_freeze_value}\\n\")\n",
    "                            start_time = time.time()\n",
    "                            result = train_for_fine_tune(100, hidden_dim_value, output_dim_value, pretrained_embeddings_value, emb_freeze_value, batch_size_value)\n",
    "                            end_time = time.time()\n",
    "                            torch.cuda.empty_cache()\n",
    "                            if best_by_val_loss == [] or best_by_val_loss[6] > result[6]:\n",
    "                                best_by_val_loss = result\n",
    "                            if best_by_val_acc == [] or best_by_val_acc[7] < result[7]:\n",
    "                                best_by_val_acc = result\n",
    "                            if best_by_test_loss == [] or best_by_test_loss[8] > result[8]:\n",
    "                                best_by_test_loss = result\n",
    "                            if best_by_test_acc == [] or best_by_test_acc[9] < result[9]:\n",
    "                                best_by_test_acc = result\n",
    "                            elapsed_time = end_time - start_time\n",
    "                            print(f\"------perf.-----\\nval_loss: {result[6]} | val_acc: {result[7]}\\ntest_loss: {result[8]} | test_acc: {result[9]}\")\n",
    "                            print(f\"took {elapsed_time:.2f} seconds.\\nbest by va_loss: {best_by_val_loss[:6]} | best by va_acc: {best_by_val_acc[:6]}\\nbest by te_loss: {best_by_test_loss[:6]} | best by te_acc: {best_by_test_acc[:6]}\\n\")\n",
    "                            log.write(f\"------perf.-----\\nval_loss: {result[6]} | val_acc: {result[7]}\\ntest_loss: {result[8]} | test_acc: {result[9]}\\n\")\n",
    "                            log.write(f\"took {elapsed_time:.2f} seconds.\\nbest by va_loss: {best_by_val_loss[:6]} | best by va_acc: {best_by_val_acc[:6]}\\nbest by te_loss: {best_by_test_loss[:6]} | best by te_acc: {best_by_test_acc[:6]}\\n\\n\")\n",
    "            else:\n",
    "                print(\"------Not Use Pretrain------\")\n",
    "                log.write(\"------------Not Use Pretrain------------\\n\")\n",
    "                for embedding_dim_value in embedding_dim_values:\n",
    "                    for hidden_dim_value in hidden_dim_values:\n",
    "                        for batch_size_value in batch_size_values:\n",
    "                            print(f\"------args-----\\nembedding_dim: {embedding_dim_value} | hidden_dim: {hidden_dim_value} | batch_size: {batch_size_value}\")\n",
    "                            log.write(f\"------args-----\\nembedding_dim: {embedding_dim_value} | hidden_dim: {hidden_dim_value} | batch_size: {batch_size_value}\\n\")\n",
    "                            start_time = time.time()\n",
    "                            result = train_for_fine_tune(embedding_dim_value, hidden_dim_value, output_dim_value, pretrained_embeddings_value, True, batch_size_value)\n",
    "                            end_time = time.time()\n",
    "                            torch.cuda.empty_cache()\n",
    "                            if best_by_val_loss == [] or best_by_val_loss[6] > result[6]:\n",
    "                                best_by_val_loss = result\n",
    "                            if best_by_val_acc == [] or best_by_val_acc[7] < result[7]:\n",
    "                                best_by_val_acc = result\n",
    "                            if best_by_test_loss == [] or best_by_test_loss[8] > result[8]:\n",
    "                                best_by_test_loss = result\n",
    "                            if best_by_test_acc == [] or best_by_test_acc[9] < result[9]:\n",
    "                                best_by_test_acc = result\n",
    "                            elapsed_time = end_time - start_time\n",
    "                            print(f\"------perf.-----\\nval_loss: {result[6]} | val_acc: {result[7]}\\ntest_loss: {result[8]} | test_acc: {result[9]}\")\n",
    "                            print(f\"took {elapsed_time:.2f} seconds.\\nbest by va_loss: {best_by_val_loss[:6]} | best by va_acc: {best_by_val_acc[:6]}\\nbest by te_loss: {best_by_test_loss[:6]} | best by te_acc: {best_by_test_acc[:6]}\\n\")\n",
    "                            log.write(f\"------perf.-----\\nval_loss: {result[6]} | val_acc: {result[7]}\\ntest_loss: {result[8]} | test_acc: {result[9]}\\n\")\n",
    "                            log.write(f\"took {elapsed_time:.2f} seconds.\\nbest by va_loss: {best_by_val_loss[:6]} | best by va_acc: {best_by_val_acc[:6]}\\nbest by te_loss: {best_by_test_loss[:6]} | best by te_acc: {best_by_test_acc[:6]}\\n\\n\")\n",
    "\n",
    "        print(\"--------------Best Val Loss--------------\")\n",
    "        print(f\"embedding_dim: {best_by_val_loss[0]}\\nhidden_dim: {best_by_val_loss[1]}\\noutput_dim: {best_by_val_loss[2]}\\nis_pretrained_embeddings: {best_by_val_loss[3]}\\nemb_freeze: {best_by_val_loss[4]}\\nbatch_size: {best_by_val_loss[5]}\\n\")\n",
    "        \n",
    "        print(\"--------------Best Val Acc--------------\")\n",
    "        print(f\"embedding_dim: {best_by_val_acc[0]}\\nhidden_dim: {best_by_val_acc[1]}\\noutput_dim: {best_by_val_acc[2]}\\nis_pretrained_embeddings: {best_by_val_acc[3]}\\nemb_freeze: {best_by_val_acc[4]}\\nbatch_size: {best_by_val_acc[5]}\\n\")\n",
    "        \n",
    "        print(\"--------------Best Test Loss--------------\")\n",
    "        print(f\"embedding_dim: {best_by_test_loss[0]}\\nhidden_dim: {best_by_test_loss[1]}\\noutput_dim: {best_by_test_loss[2]}\\nis_pretrained_embeddings: {best_by_test_loss[3]}\\nemb_freeze: {best_by_test_loss[4]}\\nbatch_size: {best_by_test_loss[5]}\\n\")\n",
    "        \n",
    "        print(\"--------------Best Test Acc--------------\")\n",
    "        print(f\"embedding_dim: {best_by_test_acc[0]}\\nhidden_dim: {best_by_test_acc[1]}\\noutput_dim: {best_by_test_acc[2]}\\nis_pretrained_embeddings: {best_by_test_acc[3]}\\nemb_freeze: {best_by_test_acc[4]}\\nbatch_size: {best_by_test_acc[5]}\\n\")\n",
    "\n",
    "        log.write(\"--------------Best Val Loss--------------\\n\")\n",
    "        log.write(f\"embedding_dim: {best_by_val_loss[0]}\\nhidden_dim: {best_by_val_loss[1]}\\noutput_dim: {best_by_val_loss[2]}\\nis_pretrained_embeddings: {best_by_val_loss[3]}\\nemb_freeze: {best_by_val_loss[4]}\\nbatch_size: {best_by_val_loss[5]}\\n\\n\")\n",
    "        \n",
    "        log.write(\"--------------Best Val Acc--------------\\n\")\n",
    "        log.write(f\"embedding_dim: {best_by_val_acc[0]}\\nhidden_dim: {best_by_val_acc[1]}\\noutput_dim: {best_by_val_acc[2]}\\nis_pretrained_embeddings: {best_by_val_acc[3]}\\nemb_freeze: {best_by_val_acc[4]}\\nbatch_size: {best_by_val_acc[5]}\\n\\n\")\n",
    "        \n",
    "        log.write(\"--------------Best Test Loss--------------\\n\")\n",
    "        log.write(f\"embedding_dim: {best_by_test_loss[0]}\\nhidden_dim: {best_by_test_loss[1]}\\noutput_dim: {best_by_test_loss[2]}\\nis_pretrained_embeddings: {best_by_test_loss[3]}\\nemb_freeze: {best_by_test_loss[4]}\\nbatch_size: {best_by_test_loss[5]}\\\\n\")\n",
    "        \n",
    "        log.write(\"--------------Best Test Acc--------------\\n\")\n",
    "        log.write(f\"embedding_dim: {best_by_test_acc[0]}\\nhidden_dim: {best_by_test_acc[1]}\\noutput_dim: {best_by_test_acc[2]}\\nis_pretrained_embeddings: {best_by_test_acc[3]}\\nemb_freeze: {best_by_test_acc[4]}\\nbatch_size: {best_by_test_acc[5]}\\n\\n\")"
   ]
  },
  {
   "cell_type": "markdown",
   "metadata": {},
   "source": [
    "#### Search Range"
   ]
  },
  {
   "cell_type": "code",
   "execution_count": null,
   "metadata": {},
   "outputs": [
    {
     "name": "stdout",
     "output_type": "stream",
     "text": [
      "embedding_dim_values: [100, 200]\n",
      "hidden_dim_values: [64, 128]\n",
      "batch_size_values:  [64, 128]\n",
      "------Not Use Pretrain------\n",
      "------args-----\n",
      "embedding_dim: 100 | hidden_dim: 64 | batch_size: 64\n"
     ]
    },
    {
     "data": {
      "application/vnd.jupyter.widget-view+json": {
       "model_id": "013a52c44af54d909ccdb53c502b63b6",
       "version_major": 2,
       "version_minor": 0
      },
      "text/plain": [
       "training routine:   0%|          | 0/100 [00:00<?, ?it/s]"
      ]
     },
     "metadata": {},
     "output_type": "display_data"
    },
    {
     "data": {
      "application/vnd.jupyter.widget-view+json": {
       "model_id": "fe166e4422bc4c0faa023936706bc36d",
       "version_major": 2,
       "version_minor": 0
      },
      "text/plain": [
       "split=train:   0%|          | 0/181 [00:00<?, ?it/s]"
      ]
     },
     "metadata": {},
     "output_type": "display_data"
    },
    {
     "data": {
      "application/vnd.jupyter.widget-view+json": {
       "model_id": "e19684e6d4e94b1c9795b6368ba4cbbc",
       "version_major": 2,
       "version_minor": 0
      },
      "text/plain": [
       "split=val:   0%|          | 0/38 [00:00<?, ?it/s]"
      ]
     },
     "metadata": {},
     "output_type": "display_data"
    },
    {
     "name": "stdout",
     "output_type": "stream",
     "text": [
      "Exiting loop\n",
      "------perf.-----\n",
      "val_loss: 1.1730762578939138 | val_acc: 64.9671052631579\n",
      "test_loss: 0.48052958046135147 | test_acc: 83.55263157894737\n",
      "took 27.69 seconds.\n",
      "best by va_loss: [100, 64, 4, False, True, 64] | best by va_acc: [100, 64, 4, False, True, 64]\n",
      "best by te_loss: [100, 64, 4, False, True, 64] | best by te_acc: [100, 64, 4, False, True, 64]\n",
      "\n",
      "------args-----\n",
      "embedding_dim: 100 | hidden_dim: 64 | batch_size: 128\n"
     ]
    },
    {
     "data": {
      "application/vnd.jupyter.widget-view+json": {
       "model_id": "370ed170133b4788b3aa35d83f4e34f9",
       "version_major": 2,
       "version_minor": 0
      },
      "text/plain": [
       "training routine:   0%|          | 0/100 [00:00<?, ?it/s]"
      ]
     },
     "metadata": {},
     "output_type": "display_data"
    },
    {
     "data": {
      "application/vnd.jupyter.widget-view+json": {
       "model_id": "daea94db050e4e1eaf2e976845c20001",
       "version_major": 2,
       "version_minor": 0
      },
      "text/plain": [
       "split=train:   0%|          | 0/90 [00:00<?, ?it/s]"
      ]
     },
     "metadata": {},
     "output_type": "display_data"
    },
    {
     "data": {
      "application/vnd.jupyter.widget-view+json": {
       "model_id": "aa1108e3b674450cafdf5a3ba5d8798e",
       "version_major": 2,
       "version_minor": 0
      },
      "text/plain": [
       "split=val:   0%|          | 0/19 [00:00<?, ?it/s]"
      ]
     },
     "metadata": {},
     "output_type": "display_data"
    }
   ],
   "source": [
    "embedding_dim_values = [i for i in range(64, 193, 32)]\n",
    "hidden_dim_values = [i for i in range(64, 513, 64)]\n",
    "batch_size_values = [i for i in range(64, 193, 32)]\n",
    "pretrained_embeddings_values = [None, embeddings]\n",
    "emb_freeze_values = [True, False]\n",
    "\n",
    "simple_grid_search(embedding_dim_values, hidden_dim_values, batch_size_values, pretrained_embeddings_values, emb_freeze_values)"
   ]
  },
  {
   "cell_type": "code",
   "execution_count": null,
   "metadata": {},
   "outputs": [],
   "source": [
    "args.embedding_dim=100\n",
    "args.hidden_dim=128\n",
    "args.output_dim=4\n",
    "args.use_glove=True\n",
    "args.emb_freeze=False\n",
    "args.batch_size=128"
   ]
  },
  {
   "cell_type": "code",
   "execution_count": 16,
   "metadata": {},
   "outputs": [
    {
     "name": "stdout",
     "output_type": "stream",
     "text": [
      "Using pre-trained embeddings\n"
     ]
    }
   ],
   "source": [
    "# Use GloVe or randomly initialized embeddings\n",
    "set_seed_everywhere(args.seed, args.cuda, args.mps)\n",
    "\n",
    "if args.use_glove:\n",
    "    words = vectorizer.news_vocab._token_to_idx.keys()  # 3409 unique words\n",
    "    embeddings = make_embedding_matrix(glove_filepath=args.glove_filepath,     # embeddings: (3409, 100)\n",
    "                                       words=words)\n",
    "    print(\"Using pre-trained embeddings\")\n",
    "else:\n",
    "    print(\"Not using pre-trained embeddings\")\n",
    "    embeddings = None\n",
    "\n",
    "classifier = NewsClassifier(embedding_dim=args.embedding_dim,          # e.g, 100\n",
    "                            num_embeddings=len(vectorizer.news_vocab),  # e.g., 3409\n",
    "                            output_dim=args.output_dim,\n",
    "                            hidden_dim=args.hidden_dim,\n",
    "                            pretrained_embeddings=embeddings,\n",
    "                            emb_freeze=args.emb_freeze)"
   ]
  },
  {
   "cell_type": "markdown",
   "metadata": {},
   "source": [
    "### Training loop"
   ]
  },
  {
   "cell_type": "code",
   "execution_count": 17,
   "metadata": {
    "scrolled": true
   },
   "outputs": [
    {
     "data": {
      "application/vnd.jupyter.widget-view+json": {
       "model_id": "4d1a86bfa7e74a6196bd5d1cd5425e72",
       "version_major": 2,
       "version_minor": 0
      },
      "text/plain": [
       "training routine:   0%|          | 0/100 [00:00<?, ?it/s]"
      ]
     },
     "metadata": {},
     "output_type": "display_data"
    },
    {
     "data": {
      "application/vnd.jupyter.widget-view+json": {
       "model_id": "831910553a944536b810ee1322c32f38",
       "version_major": 2,
       "version_minor": 0
      },
      "text/plain": [
       "split=train:   0%|          | 0/39 [00:00<?, ?it/s]"
      ]
     },
     "metadata": {},
     "output_type": "display_data"
    },
    {
     "data": {
      "application/vnd.jupyter.widget-view+json": {
       "model_id": "ee05bc1417384205884776e3df04b4bc",
       "version_major": 2,
       "version_minor": 0
      },
      "text/plain": [
       "split=val:   0%|          | 0/8 [00:00<?, ?it/s]"
      ]
     },
     "metadata": {},
     "output_type": "display_data"
    },
    {
     "name": "stdout",
     "output_type": "stream",
     "text": [
      "Exiting loop\n"
     ]
    }
   ],
   "source": [
    "set_seed_everywhere(args.seed, args.cuda, args.mps)\n",
    "\n",
    "classifier = classifier.to(args.device)\n",
    "dataset.class_weights = dataset.class_weights.to(args.device)\n",
    "    \n",
    "loss_func = nn.CrossEntropyLoss(dataset.class_weights)\n",
    "optimizer = optim.Adam(classifier.parameters(), lr=args.learning_rate)\n",
    "scheduler = optim.lr_scheduler.ReduceLROnPlateau(optimizer=optimizer, mode='min', factor=0.5, patience=1)\n",
    "\n",
    "train_state = make_train_state(args)\n",
    "\n",
    "epoch_bar = tqdm(desc='training routine', total=args.num_epochs, position=0)\n",
    "\n",
    "dataset.set_split('train')\n",
    "train_bar = tqdm(desc='split=train', total=dataset.get_num_batches(args.batch_size), position=1, leave=True)\n",
    "\n",
    "dataset.set_split('val')\n",
    "val_bar = tqdm(desc='split=val', total=dataset.get_num_batches(args.batch_size), position=1, leave=True)\n",
    "\n",
    "try:\n",
    "    for epoch_index in range(args.num_epochs):\n",
    "        train_state['epoch_index'] = epoch_index\n",
    "\n",
    "        # Iterate over training dataset\n",
    "\n",
    "        # setup: batch generator, set loss and acc to 0, set train mode on\n",
    "\n",
    "        dataset.set_split('train')\n",
    "        batch_generator = generate_batches(dataset, \n",
    "                                           batch_size=args.batch_size, \n",
    "                                           device=args.device)\n",
    "        running_loss = 0.0\n",
    "        running_acc = 0.0\n",
    "        classifier.train()\n",
    "\n",
    "        for batch_index, batch_dict in enumerate(batch_generator):\n",
    "            # the training routine is these 5 steps:\n",
    "\n",
    "            # --------------------------------------\n",
    "            # step 1. zero the gradients\n",
    "            optimizer.zero_grad()\n",
    "\n",
    "            # step 2. compute the output\n",
    "            y_pred = classifier(batch_dict['x_data']) # (batch, seq_len) -> (batch, num_classes)\n",
    "\n",
    "            # step 3. compute the loss\n",
    "            loss = loss_func(y_pred, batch_dict['y_target'])\n",
    "            loss_t = loss.item()\n",
    "            running_loss += (loss_t - running_loss) / (batch_index + 1)\n",
    "\n",
    "            # step 4. use loss to produce gradients\n",
    "            loss.backward()\n",
    "\n",
    "            # step 5. use optimizer to take gradient step\n",
    "            optimizer.step()\n",
    "            # -----------------------------------------\n",
    "            # compute the accuracy\n",
    "            acc_t = compute_accuracy(y_pred, batch_dict['y_target'])\n",
    "            running_acc += (acc_t - running_acc) / (batch_index + 1)\n",
    "\n",
    "            # update bar\n",
    "            train_bar.set_postfix(loss=running_loss, acc=running_acc, \n",
    "                                  epoch=epoch_index)\n",
    "            train_bar.update()\n",
    "\n",
    "        train_state['train_loss'].append(running_loss)\n",
    "        train_state['train_acc'].append(running_acc)\n",
    "\n",
    "        # Iterate over val dataset\n",
    "\n",
    "        # setup: batch generator, set loss and acc to 0; set eval mode on\n",
    "        dataset.set_split('val')\n",
    "        batch_generator = generate_batches(dataset, \n",
    "                                           batch_size=args.batch_size, \n",
    "                                           device=args.device)\n",
    "        running_loss = 0.\n",
    "        running_acc = 0.\n",
    "        classifier.eval()\n",
    "\n",
    "        for batch_index, batch_dict in enumerate(batch_generator):\n",
    "\n",
    "            # compute the output\n",
    "            y_pred =  classifier(batch_dict['x_data'])\n",
    "\n",
    "            # step 3. compute the loss\n",
    "            loss = loss_func(y_pred, batch_dict['y_target'])\n",
    "            loss_t = loss.item()\n",
    "            running_loss += (loss_t - running_loss) / (batch_index + 1)\n",
    "\n",
    "            # compute the accuracy\n",
    "            acc_t = compute_accuracy(y_pred, batch_dict['y_target'])\n",
    "            running_acc += (acc_t - running_acc) / (batch_index + 1)\n",
    "            val_bar.set_postfix(loss=running_loss, acc=running_acc, \n",
    "                            epoch=epoch_index)\n",
    "            val_bar.update()\n",
    "\n",
    "        train_state['val_loss'].append(running_loss)\n",
    "        train_state['val_acc'].append(running_acc)\n",
    "\n",
    "        train_state = update_train_state(args=args, model=classifier,\n",
    "                                         train_state=train_state)\n",
    "\n",
    "        scheduler.step(train_state['val_loss'][-1])\n",
    "\n",
    "        if train_state['stop_early']:\n",
    "            break\n",
    "\n",
    "        train_bar.n = 0\n",
    "        val_bar.n = 0\n",
    "        epoch_bar.update()\n",
    "except KeyboardInterrupt:\n",
    "    print(\"Exiting loop\")\n"
   ]
  },
  {
   "cell_type": "code",
   "execution_count": null,
   "metadata": {},
   "outputs": [
    {
     "data": {
      "image/png": "[encoded data removed]",
      "text/plain": [
       "<Figure size 640x480 with 1 Axes>"
      ]
     },
     "metadata": {},
     "output_type": "display_data"
    }
   ],
   "source": [
    "%matplotlib inline\n",
    "import matplotlib.pyplot as plt\n",
    "\n",
    "acc = train_state['train_acc']\n",
    "val_acc = train_state['val_acc']\n",
    "loss = train_state['train_loss']\n",
    "val_loss = train_state['val_loss']\n",
    "\n",
    "epochs = range(1, len(acc) + 1)\n",
    "\n",
    "# \"bo\" is for \"blue dot\"\n",
    "plt.plot(epochs, loss, 'bo', label='Training loss')\n",
    "# b is for \"solid blue line\"\n",
    "plt.plot(epochs, val_loss, 'b', label='Validation loss')\n",
    "plt.title('Training and validation loss')\n",
    "plt.xlabel('Epochs')\n",
    "plt.ylabel('Loss')\n",
    "plt.legend()\n",
    "\n",
    "plt.show()"
   ]
  },
  {
   "cell_type": "code",
   "execution_count": null,
   "metadata": {},
   "outputs": [
    {
     "data": {
      "image/png": "[encoded data removed]",
      "text/plain": [
       "<Figure size 640x480 with 1 Axes>"
      ]
     },
     "metadata": {},
     "output_type": "display_data"
    }
   ],
   "source": [
    "plt.clf()   # clear figure\n",
    "\n",
    "plt.plot(epochs, acc, 'bo', label='Training acc')\n",
    "plt.plot(epochs, val_acc, 'b', label='Validation acc')\n",
    "plt.title('Training and validation accuracy')\n",
    "plt.xlabel('Epochs')\n",
    "plt.ylabel('Accuracy')\n",
    "plt.legend()\n",
    "\n",
    "plt.show()"
   ]
  },
  {
   "cell_type": "code",
   "execution_count": null,
   "metadata": {},
   "outputs": [],
   "source": [
    "# compute the loss & accuracy on the test set using the best available model\n",
    "set_seed_everywhere(args.seed, args.cuda, args.mps)\n",
    "\n",
    "classifier.load_state_dict(torch.load(train_state['model_filename'])) # load the best model\n",
    "\n",
    "classifier = classifier.to(args.device)\n",
    "dataset.class_weights = dataset.class_weights.to(args.device)\n",
    "loss_func = nn.CrossEntropyLoss(dataset.class_weights)\n",
    "\n",
    "dataset.set_split('test')\n",
    "batch_generator = generate_batches(dataset, \n",
    "                                   batch_size=args.batch_size, \n",
    "                                   device=args.device)\n",
    "running_loss = 0.\n",
    "running_acc = 0.\n",
    "classifier.eval()\n",
    "\n",
    "y_pred_list = []         # store predicted values for confusion matrix\n",
    "y_category_list = []  # ground truth value\n",
    "\n",
    "for batch_index, batch_dict in enumerate(batch_generator):\n",
    "    # compute the output\n",
    "    y_pred =  classifier(batch_dict['x_data'])\n",
    "    \n",
    "    # store predicted values and ground truth values for calculating confusion matrix\n",
    "    y_pred_list.extend(y_pred.max(dim=1)[1].cpu().numpy())\n",
    "    y_category_list.extend(batch_dict['y_target'].cpu().numpy())\n",
    "    \n",
    "    # compute the loss\n",
    "    loss = loss_func(y_pred, batch_dict['y_target'])\n",
    "    loss_t = loss.item()\n",
    "    running_loss += (loss_t - running_loss) / (batch_index + 1)\n",
    "\n",
    "    # compute the accuracy\n",
    "    acc_t = compute_accuracy(y_pred, batch_dict['y_target'])\n",
    "    running_acc += (acc_t - running_acc) / (batch_index + 1)\n",
    "\n",
    "train_state['test_loss'] = running_loss\n",
    "train_state['test_acc'] = running_acc\n"
   ]
  },
  {
   "cell_type": "code",
   "execution_count": null,
   "metadata": {},
   "outputs": [
    {
     "name": "stdout",
     "output_type": "stream",
     "text": [
      "Test loss: 0.3156661027007633;\n",
      "Test Accuracy: 89.27951388888889\n"
     ]
    }
   ],
   "source": [
    "print(\"Test loss: {};\".format(train_state['test_loss']))\n",
    "print(\"Test Accuracy: {}\".format(train_state['test_acc']))"
   ]
  },
  {
   "cell_type": "code",
   "execution_count": null,
   "metadata": {},
   "outputs": [
    {
     "name": "stdout",
     "output_type": "stream",
     "text": [
      "['Business', 'Sci/Tech', 'Sports', 'World']\n"
     ]
    }
   ],
   "source": [
    "classes = []\n",
    "for i in range(len(dataset._vectorizer.category_vocab)):\n",
    "    classes.append(dataset._vectorizer.category_vocab.lookup_index(i))\n",
    "print(classes)"
   ]
  },
  {
   "cell_type": "code",
   "execution_count": null,
   "metadata": {},
   "outputs": [
    {
     "name": "stdout",
     "output_type": "stream",
     "text": [
      "True       Business  Sci/Tech  Sports  World\n",
      "Predicted                                   \n",
      "Business        483        50       8     26\n",
      "Sci/Tech         53       488       5     17\n",
      "Sports            8         3     570     22\n",
      "World            21        25       9    516\n"
     ]
    }
   ],
   "source": [
    "import pandas as pd\n",
    "from sklearn.metrics import classification_report, confusion_matrix, accuracy_score\n",
    "\n",
    "cm = confusion_matrix(y_category_list, y_pred_list)\n",
    "cm_df = pd.DataFrame(cm.T, index=classes, columns=classes)\n",
    "cm_df.index.name = 'Predicted'\n",
    "cm_df.columns.name = 'True'\n",
    "print(cm_df)"
   ]
  },
  {
   "cell_type": "code",
   "execution_count": null,
   "metadata": {},
   "outputs": [
    {
     "name": "stdout",
     "output_type": "stream",
     "text": [
      "              precision    recall  f1-score   support\n",
      "\n",
      "           0       0.85      0.85      0.85       565\n",
      "           1       0.87      0.86      0.86       566\n",
      "           2       0.95      0.96      0.95       592\n",
      "           3       0.90      0.89      0.90       581\n",
      "\n",
      "    accuracy                           0.89      2304\n",
      "   macro avg       0.89      0.89      0.89      2304\n",
      "weighted avg       0.89      0.89      0.89      2304\n",
      "\n"
     ]
    }
   ],
   "source": [
    "print(classification_report(y_category_list, y_pred_list))"
   ]
  },
  {
   "cell_type": "markdown",
   "metadata": {},
   "source": [
    "### Inference"
   ]
  },
  {
   "cell_type": "code",
   "execution_count": null,
   "metadata": {},
   "outputs": [],
   "source": [
    "# Preprocess the reviews\n",
    "def preprocess_text(text):\n",
    "    text = ' '.join(word.lower() for word in text.split(\" \"))\n",
    "    text = re.sub(r\"([.,!?])\", r\" \\1 \", text)\n",
    "    text = re.sub(r\"[^a-zA-Z.,!?]+\", r\" \", text)\n",
    "    return text"
   ]
  },
  {
   "cell_type": "code",
   "execution_count": null,
   "metadata": {},
   "outputs": [],
   "source": [
    "def predict_category(title, classifier, vectorizer, max_length):\n",
    "    \"\"\"Predict a News category for a new title\n",
    "    \n",
    "    Args:\n",
    "        title (str): a raw title string\n",
    "        classifier (NewsClassifier): an instance of the trained classifier\n",
    "        vectorizer (NewsVectorizer): the corresponding vectorizer\n",
    "        max_length (int): the max sequence length\n",
    "            Note: CNNs are sensitive to the input data tensor size. \n",
    "                  This ensures to keep it the same size as the training data\n",
    "    \"\"\"\n",
    "    title = preprocess_text(title)\n",
    "    vectorized_title = \\\n",
    "        torch.tensor(vectorizer.vectorize(title, vector_length=max_length))\n",
    "    result = classifier(vectorized_title.unsqueeze(0))\n",
    "    probability_values, indices = result.max(dim=1)\n",
    "    predicted_category = vectorizer.category_vocab.lookup_index(indices.item())\n",
    "\n",
    "    return {'category': predicted_category, \n",
    "            'probability': probability_values.item()}"
   ]
  },
  {
   "cell_type": "code",
   "execution_count": null,
   "metadata": {},
   "outputs": [],
   "source": [
    "def get_samples():\n",
    "    samples = {}\n",
    "    for cat in dataset.val_df.category.unique():\n",
    "        samples[cat] = dataset.val_df.text[dataset.val_df.category==cat].tolist()[:5]\n",
    "    return samples\n",
    "\n",
    "val_samples = get_samples() # first 5 titles of each category from validation dataset"
   ]
  },
  {
   "cell_type": "code",
   "execution_count": null,
   "metadata": {},
   "outputs": [
    {
     "name": "stdout",
     "output_type": "stream",
     "text": [
      "True Category: Business\n",
      "==============================\n",
      "Prediction: Business (p=4.68)\n",
      "\t + Sample: cash america expands america expands california expands california fort california fort worth fort worth based worth based cash based cash america cash america international america international inc international inc nyse inc nyse pwn nyse pwn said pwn said monday said monday bought monday bought operation bought operation cash operation cash advance cash advance location advance location southern location southern california\n",
      "Prediction: World (p=2.12)\n",
      "\t + Sample: howard stern show stern show air show air uncensored air uncensored satellite uncensored satellite radio satellite radio b radio b howard b howard stern howard stern risqu stern risqu radio risqu radio rhetoric radio rhetoric broadcast rhetoric broadcast listener broadcast listener across listener across country across country uncensored country uncensored ia uncensored ia satellite ia satellite radio satellite radio beginning radio beginning january\n",
      "Prediction: World (p=1.45)\n",
      "\t + Sample: china build tie build tie brazil tie brazil china brazil china president china president hu president hu jintao hu jintao visit jintao visit brazil visit brazil bid brazil bid secure bid secure trade secure trade deal trade deal satisfy deal satisfy country satisfy country burgeoning country burgeoning demand burgeoning demand foreign demand foreign good\n",
      "Prediction: Business (p=2.71)\n",
      "\t + Sample: defense lawyer disney lawyer disney trial disney trial try trial try discredit try discredit witness discredit witness defense witness defense lawyer defense lawyer walt lawyer walt disney walt disney trial disney trial friday trial friday tried friday tried undermine tried undermine credibility undermine credibility witness credibility witness testified witness testified company testified company director company director neglected director neglected oversight\n",
      "Prediction: Business (p=2.89)\n",
      "\t + Sample: samsung plan invest plan invest bn invest bn chip bn chip samsung chip samsung electronics samsung electronics world electronics world second world second largest second largest computer largest computer chip computer chip manufacturer chip manufacturer yesterday manufacturer yesterday said yesterday said would said would invest would invest bn invest bn bn bn bn semiconductor bn semiconductor business semiconductor business generate\n",
      "------------------------------\n",
      "\n",
      "True Category: Sci/Tech\n",
      "==============================\n",
      "Prediction: Sci/Tech (p=2.96)\n",
      "\t + Sample: microsoft delay antitrust delay antitrust compliance antitrust compliance requirement compliance requirement microsoft requirement microsoft behind microsoft behind schedule behind schedule complying schedule complying court complying court order court order document order document proprietary document proprietary communication proprietary communication protocol communication protocol according protocol according u according u authority u authority monitoring authority monitoring behaviour\n",
      "Prediction: Sci/Tech (p=2.28)\n",
      "\t + Sample: testimony end evolution end evolution sticker evolution sticker trial sticker trial atlanta trial atlanta testimony atlanta testimony concluded testimony concluded wednesday concluded wednesday lawsuit wednesday lawsuit cobb lawsuit cobb county cobb county georgia county georgia school georgia school placing school placing disclaimer placing disclaimer sticker disclaimer sticker evolution sticker evolution high evolution high school high school biology school biology text\n",
      "Prediction: Sci/Tech (p=1.24)\n",
      "\t + Sample: dependent specie risk specie risk extinction risk extinction global extinction global extinction global extinction crisis extinction crisis worse crisis worse thought worse thought thousand thought thousand quot thousand quot affiliated quot affiliated quot affiliated quot specie quot specie also specie also risk also risk figure risk figure calculation\n",
      "Prediction: Business (p=2.60)\n",
      "\t + Sample: inhale drug feel drug feel better feel better maker better maker flumist maker flumist said flumist said looking said looking whether looking whether make whether make inhalable make inhalable flu inhalable flu vaccine flu vaccine help vaccine help federal help federal government federal government deal government deal looming deal looming flu looming flu vaccine flu vaccine shortage\n",
      "Prediction: Sci/Tech (p=5.93)\n",
      "\t + Sample: sprint stupid found stupid found via found via boingboing via boingboing morning boingboing morning new morning new treo new treo today treo today long today long time long time fan time fan treo fan treo looking treo looking forward looking forward asked forward asked past asked past one past one everything one everything phone everything phone feature phone feature could feature could want could want one want one device one device without device without compromise without compromise look compromise look like look like palmone like palmone delivered palmone delivered x delivered x screen x screen removable screen removable battery removable battery upgraded battery upgraded o upgraded o better o better camera better camera bluetooth camera bluetooth oops bluetooth oops quite oops quite treocentral quite treocentral reporting treocentral reporting sprint reporting sprint version sprint version treo version treo allow treo allow use allow use bluetooth use bluetooth dial bluetooth dial networking dial networking computer networking computer apparently computer apparently carrier apparently carrier sprint carrier sprint see sprint see sprint see sprint sell sprint sell connection sell connection card connection card pccards card pccards allow pccards allow dial\n",
      "------------------------------\n",
      "\n",
      "True Category: Sports\n",
      "==============================\n",
      "Prediction: Sports (p=2.46)\n",
      "\t + Sample: al notable jason notable jason giambi jason giambi went giambi went walk went walk long walk long drive long drive right drive right field right field warning field warning track warning track first track first start first start yankee start yankee since yankee since july since july recovering july recovering benign recovering benign tumor benign tumor intestinal tumor intestinal parasite intestinal parasite strained parasite strained groin strained groin respiratory groin respiratory infection respiratory infection hitless infection hitless last hitless last bat\n",
      "Prediction: World (p=2.85)\n",
      "\t + Sample: islamic threaten woman threaten woman soccer woman soccer tournament soccer tournament bangladesh tournament bangladesh organizer bangladesh organizer bangladesh organizer bangladesh first bangladesh first woman first woman soccer woman soccer tournament soccer tournament promised tournament promised keep promised keep playing keep playing despite playing despite protest despite protest muslim protest muslim group muslim group called group called event called event quot event quot indecent quot indecent islamic indecent islamic norm islamic norm quot\n",
      "Prediction: Sports (p=3.40)\n",
      "\t + Sample: deacon defeat friar defeat friar justin friar justin gray justin gray lead gray lead wake lead wake forest wake forest point forest point despite point despite suffering despite suffering gashed suffering gashed face gashed face top face top ranked top ranked demon ranked demon deacon demon deacon beat deacon beat providence\n",
      "Prediction: Sports (p=4.45)\n",
      "\t + Sample: attention detail make detail make manning make manning great manning great easy great easy reel easy reel option reel option colt option colt quarterback colt quarterback peyton quarterback peyton manning peyton manning disposal manning disposal soon disposal soon free soon free agent free agent wrs agent wrs marvin wrs marvin harrison marvin harrison brandon harrison brandon stokley brandon stokley rb stokley rb edgerrin rb edgerrin james edgerrin james te james te dallas\n",
      "Prediction: Sports (p=3.79)\n",
      "\t + Sample: mccain optimistic steroid optimistic steroid test steroid test deal test deal ap deal ap ap ap ap sen ap sen john sen john mccain john mccain guardedly mccain guardedly optimistic guardedly optimistic major optimistic major league major league baseball league baseball player baseball player could player could reach could reach agreement reach agreement tougher agreement tougher testing tougher testing steroid\n",
      "------------------------------\n",
      "\n",
      "True Category: World\n",
      "==============================\n",
      "Prediction: World (p=5.67)\n",
      "\t + Sample: dead kashmir violence kashmir violence new violence new delhi new delhi fourteen delhi fourteen people fourteen people killed people killed kashmir killed kashmir increase kashmir increase violence increase violence since violence since visit since visit indian visit indian prime indian prime minister prime minister mid minister mid november\n",
      "Prediction: World (p=6.92)\n",
      "\t + Sample: sharon want speed want speed gaza speed gaza plan gaza plan source plan source jerusalem source jerusalem israel jerusalem israel could israel could begin could begin withdrawing begin withdrawing occupied withdrawing occupied gaza occupied gaza early gaza early next early next year next year accelerated year accelerated timetable accelerated timetable prime timetable prime minister prime minister ariel minister ariel sharon ariel sharon plan sharon plan present plan present lawmaker present lawmaker likud lawmaker likud party likud party tuesday party tuesday political tuesday political source political source said\n",
      "Prediction: World (p=3.29)\n",
      "\t + Sample: northern irish protestant irish protestant group protestant group pledge group pledge end pledge end violence end violence northern violence northern ireland northern ireland main ireland main pro main pro british pro british paramilitary british paramilitary group paramilitary group ulster group ulster defence ulster defence association defence association uda association uda pledged uda pledged end pledged end violence end violence work violence work towards work towards complete towards complete disarmament\n",
      "Prediction: World (p=8.45)\n",
      "\t + Sample: u jet bomb jet bomb insurgent bomb insurgent held insurgent held iraq held iraq city iraq city baghdad city baghdad iraq baghdad iraq u iraq u jet u jet thursday jet thursday pounded thursday pounded rebel pounded rebel stronghold rebel stronghold fallujah stronghold fallujah town fallujah town near town near syrian near syrian border syrian border come border come control come control insurgent control insurgent killing insurgent killing dozen killing dozen people dozen people official people official witness official witness said\n",
      "Prediction: World (p=4.52)\n",
      "\t + Sample: kerry say fighting say fighting mood fighting mood ap mood ap ap ap ap democratic ap democratic sen democratic sen john sen john kerry john kerry said kerry said saturday said saturday fighting saturday fighting mood fighting mood two mood two month two month go month go presidential go presidential ally presidential ally defended ally defended question defended question valor question valor vietnam\n",
      "------------------------------\n",
      "\n"
     ]
    }
   ],
   "source": [
    "#title = input(\"Enter a news title to classify: \")\n",
    "classifier = classifier.to(\"cpu\")\n",
    "\n",
    "for truth, sample_group in val_samples.items():\n",
    "    print(f\"True Category: {truth}\")\n",
    "    print(\"=\"*30)\n",
    "    for sample in sample_group:\n",
    "        prediction = predict_category(sample, classifier, \n",
    "                                      vectorizer, dataset._max_seq_length)\n",
    "        print(\"Prediction: {} (p={:0.2f})\".format(prediction['category'],\n",
    "                                                  prediction['probability']))\n",
    "        print(\"\\t + Sample: {}\".format(sample))\n",
    "    print(\"-\"*30 + \"\\n\")"
   ]
  },
  {
   "cell_type": "markdown",
   "metadata": {},
   "source": [
    "### Excercise:\n",
    "\n",
    "1. Change F.max_pool1d() to F.avg_pool1d().\n",
    "2. Change use_glove=True to use_glove=False.\n",
    "3. Change other hyperparameters.\n"
   ]
  }
 ],
 "metadata": {
  "kernelspec": {
   "display_name": "Python 3 (ipykernel)",
   "language": "python",
   "name": "python3"
  },
  "language_info": {
   "codemirror_mode": {
    "name": "ipython",
    "version": 3
   },
   "file_extension": ".py",
   "mimetype": "text/x-python",
   "name": "python",
   "nbconvert_exporter": "python",
   "pygments_lexer": "ipython3",
   "version": "3.10.12"
  },
  "toc": {
   "colors": {
    "hover_highlight": "#DAA520",
    "running_highlight": "#FF0000",
    "selected_highlight": "#FFD700"
   },
   "moveMenuLeft": true,
   "nav_menu": {
    "height": "138px",
    "width": "252px"
   },
   "navigate_menu": true,
   "number_sections": true,
   "sideBar": true,
   "skip_h1_title": false,
   "threshold": "5",
   "title_cell": "Table of Contents",
   "title_sidebar": "Contents",
   "toc_cell": false,
   "toc_position": {},
   "toc_section_display": "block",
   "toc_window_display": false
  }
 },
 "nbformat": 4,
 "nbformat_minor": 2
}
