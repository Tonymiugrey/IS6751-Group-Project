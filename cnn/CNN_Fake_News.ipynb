{
 "cells": [
  {
   "cell_type": "markdown",
   "metadata": {},
   "source": [
    "# CNN Fake News"
   ]
  },
  {
   "cell_type": "markdown",
   "metadata": {},
   "source": [
    "## Imports"
   ]
  },
  {
   "cell_type": "code",
   "execution_count": 1,
   "metadata": {},
   "outputs": [
    {
     "name": "stderr",
     "output_type": "stream",
     "text": [
      "[nltk_data] Downloading package stopwords to\n",
      "[nltk_data]     C:\\Users\\miuGrey\\AppData\\Roaming\\nltk_data...\n",
      "[nltk_data]   Package stopwords is already up-to-date!\n",
      "[nltk_data] Downloading package wordnet to\n",
      "[nltk_data]     C:\\Users\\miuGrey\\AppData\\Roaming\\nltk_data...\n",
      "[nltk_data]   Package wordnet is already up-to-date!\n",
      "[nltk_data] Downloading package punkt to\n",
      "[nltk_data]     C:\\Users\\miuGrey\\AppData\\Roaming\\nltk_data...\n",
      "[nltk_data]   Package punkt is already up-to-date!\n",
      "[nltk_data] Downloading package omw-1.4 to\n",
      "[nltk_data]     C:\\Users\\miuGrey\\AppData\\Roaming\\nltk_data...\n",
      "[nltk_data]   Package omw-1.4 is already up-to-date!\n"
     ]
    }
   ],
   "source": [
    "import os\n",
    "from argparse import Namespace\n",
    "from collections import Counter\n",
    "import json\n",
    "import re\n",
    "import string\n",
    "\n",
    "import numpy as np\n",
    "import pandas as pd\n",
    "import torch\n",
    "import torch.nn as nn\n",
    "import torch.nn.functional as F\n",
    "import torch.optim as optim\n",
    "from torch.utils.data import Dataset, DataLoader\n",
    "from tqdm.notebook import tqdm\n",
    "\n",
    "import nltk\n",
    "nltk.download('stopwords')\n",
    "nltk.download('wordnet')\n",
    "nltk.download('punkt')\n",
    "nltk.download('omw-1.4')\n",
    "from nltk.corpus import stopwords # remove stopword\n",
    "from nltk.stem import WordNetLemmatizer\n",
    "from nltk.util import ngrams\n",
    "from nltk import word_tokenize"
   ]
  },
  {
   "cell_type": "markdown",
   "metadata": {},
   "source": [
    "## Data Vectorization classes"
   ]
  },
  {
   "cell_type": "markdown",
   "metadata": {},
   "source": [
    "### The Vocabulary"
   ]
  },
  {
   "cell_type": "code",
   "execution_count": 2,
   "metadata": {},
   "outputs": [],
   "source": [
    "class Vocabulary(object):\n",
    "    \"\"\"Class to process text and extract vocabulary for mapping\"\"\"\n",
    "\n",
    "    def __init__(self, token_to_idx=None):\n",
    "        \"\"\"\n",
    "        Args:\n",
    "            token_to_idx (dict): a pre-existing map of tokens to indices\n",
    "        \"\"\"\n",
    "\n",
    "        # news_vocab._token_to_idx: {'<MASK>': 0, '<UNK>': 1, '<BEGIN>': 2, '<END>': 3, 'jobs': 4, 'tax': 5, 'cuts': 6,  \n",
    "        #                             ......, 'shiite': 3407, 'ghraib': 3408}\n",
    "        # category_vocab._token_to_idx: {'Business': 0, 'Sci/Tech': 1, 'Sports': 2, 'World': 3}\n",
    "        \n",
    "        if token_to_idx is None:\n",
    "            token_to_idx = {}\n",
    "        self._token_to_idx = token_to_idx\n",
    "\n",
    "        self._idx_to_token = {idx: token \n",
    "                              for token, idx in self._token_to_idx.items()}\n",
    "        \n",
    "    def add_token(self, token):\n",
    "        \"\"\"Update mapping dicts based on the token.\n",
    "\n",
    "        Args:\n",
    "            token (str): the item to add into the Vocabulary\n",
    "        Returns:\n",
    "            index (int): the integer corresponding to the token\n",
    "        \"\"\"\n",
    "        if token in self._token_to_idx:\n",
    "            index = self._token_to_idx[token]\n",
    "        else:\n",
    "            index = len(self._token_to_idx)\n",
    "            self._token_to_idx[token] = index\n",
    "            self._idx_to_token[index] = token\n",
    "        return index\n",
    "            \n",
    "    def lookup_token(self, token):\n",
    "        \"\"\"Retrieve the index associated with the token \n",
    "        \n",
    "        Args:\n",
    "            token (str): the token to look up \n",
    "        Returns:\n",
    "            index (int): the index corresponding to the token\n",
    "        \"\"\"\n",
    "        return self._token_to_idx[token]\n",
    "\n",
    "    def lookup_index(self, index):\n",
    "        \"\"\"Return the token associated with the index\n",
    "        \n",
    "        Args: \n",
    "            index (int): the index to look up\n",
    "        Returns:\n",
    "            token (str): the token corresponding to the index\n",
    "        Raises:\n",
    "            KeyError: if the index is not in the Vocabulary\n",
    "        \"\"\"\n",
    "        if index not in self._idx_to_token:\n",
    "            raise KeyError(\"the index (%d) is not in the Vocabulary\" % index)\n",
    "        return self._idx_to_token[index]\n",
    "\n",
    "    def __str__(self):\n",
    "        return \"<Vocabulary(size=%d)>\" % len(self)\n",
    "\n",
    "    def __len__(self):\n",
    "        return len(self._token_to_idx)"
   ]
  },
  {
   "cell_type": "code",
   "execution_count": 3,
   "metadata": {},
   "outputs": [],
   "source": [
    "class SequenceVocabulary(Vocabulary):\n",
    "    def __init__(self, token_to_idx=None, unk_token=\"<UNK>\",\n",
    "                 mask_token=\"<MASK>\", begin_seq_token=\"<BEGIN>\",\n",
    "                 end_seq_token=\"<END>\"):\n",
    "\n",
    "        super(SequenceVocabulary, self).__init__(token_to_idx)\n",
    "\n",
    "        self._mask_token = mask_token             # for paddding, e.g., Wall St. Bears Claw Back Into the Black (Reuters)\n",
    "                                                  #               -> [2, 5, 6, 10, 10, 8, 7, 9, 19, ......., 3, 0, 0, 0, ..., 0]\n",
    "        self._unk_token = unk_token\n",
    "        self._begin_seq_token = begin_seq_token\n",
    "        self._end_seq_token = end_seq_token\n",
    "\n",
    "        self.mask_index = self.add_token(self._mask_token)            # mask_index is 0\n",
    "        self.unk_index = self.add_token(self._unk_token)              # unk_index is 1\n",
    "        self.begin_seq_index = self.add_token(self._begin_seq_token)  # begin_seq_index is 2\n",
    "        self.end_seq_index = self.add_token(self._end_seq_token)      # end_seq_index is 3\n",
    "\n",
    "    def lookup_token(self, token):\n",
    "        \"\"\"Retrieve the index associated with the token \n",
    "          or the UNK index if token isn't present.\n",
    "        \n",
    "        Args:\n",
    "            token (str): the token to look up \n",
    "        Returns:\n",
    "            index (int): the index corresponding to the token\n",
    "        Notes:\n",
    "            `unk_index` needs to be >=0 (having been added into the Vocabulary) \n",
    "              for the UNK functionality \n",
    "        \"\"\"\n",
    "        if self.unk_index >= 0:\n",
    "            return self._token_to_idx.get(token, self.unk_index)\n",
    "        else:\n",
    "            return self._token_to_idx[token]"
   ]
  },
  {
   "cell_type": "markdown",
   "metadata": {},
   "source": [
    "### The Vectorizer"
   ]
  },
  {
   "cell_type": "code",
   "execution_count": 4,
   "metadata": {},
   "outputs": [],
   "source": [
    "class NewsVectorizer(object):\n",
    "    \"\"\" The Vectorizer which coordinates the Vocabularies and puts them to use\"\"\"    \n",
    "    def __init__(self, news_vocab, category_vocab):\n",
    "        self.news_vocab = news_vocab\n",
    "        self.category_vocab = category_vocab\n",
    "\n",
    "    def vectorize(self, text, vector_length=-1):\n",
    "        \"\"\"\n",
    "        Args:\n",
    "            text (str): the string of words separated by a space\n",
    "            vector_length (int): an argument for forcing the length of index vector\n",
    "        Returns:\n",
    "            the vetorized text (numpy.array)\n",
    "        \"\"\"\n",
    "        \"\"\"    \n",
    "        mask_index is 0\n",
    "        unk_index is 1\n",
    "        begin_seq_index is 2\n",
    "        end_seq_index is 3\n",
    "        \n",
    "        When text is \"Wall St. Bears Claw Back Into the Black (Reuters)\"; max vector length is 29 in current dataset \n",
    "        \n",
    "        out_vector = [2, 5, 6, 10, 10, 8, 7, 9, 19, ......., 3, 0, 0, 0, ..., 0]\n",
    "        \n",
    "        \"\"\"\n",
    "        \n",
    "        indices = [self.news_vocab.begin_seq_index]\n",
    "        indices.extend(self.news_vocab.lookup_token(token) \n",
    "                       for token in text.split(\" \"))\n",
    "        indices.append(self.news_vocab.end_seq_index)\n",
    "\n",
    "        if vector_length < 0:\n",
    "            vector_length = len(indices)\n",
    "\n",
    "        out_vector = np.zeros(vector_length, dtype=np.int64)\n",
    "        out_vector[:len(indices)] = indices\n",
    "        out_vector[len(indices):] = self.news_vocab.mask_index\n",
    "\n",
    "        return out_vector\n",
    "\n",
    "    @classmethod\n",
    "    def from_dataframe(cls, news_df, cutoff=25):\n",
    "        \"\"\"Instantiate the vectorizer from the dataset dataframe\n",
    "        \n",
    "        Args:\n",
    "            news_df (pandas.DataFrame): the target dataset\n",
    "            cutoff (int): frequency threshold for including in Vocabulary \n",
    "        Returns:\n",
    "            an instance of the NewsVectorizer\n",
    "        \"\"\"\n",
    "        category_vocab = Vocabulary()        \n",
    "        for category in sorted(set(news_df.category)):\n",
    "            category_vocab.add_token(category)\n",
    "\n",
    "        word_counts = Counter()\n",
    "        for text in news_df.text:\n",
    "            for token in text.split(\" \"):\n",
    "                if token not in string.punctuation:\n",
    "                    word_counts[token] += 1\n",
    "        \n",
    "        news_vocab = SequenceVocabulary()\n",
    "        for word, word_count in word_counts.items():\n",
    "            if word_count >= cutoff:\n",
    "                news_vocab.add_token(word)\n",
    "        \n",
    "        return cls(news_vocab, category_vocab)"
   ]
  },
  {
   "cell_type": "markdown",
   "metadata": {},
   "source": [
    "### The Dataset"
   ]
  },
  {
   "cell_type": "code",
   "execution_count": 5,
   "metadata": {},
   "outputs": [
    {
     "data": {
      "text/plain": [
       "'sentence test effect preprocessing yeah cool fac feae ge fe ga'"
      ]
     },
     "execution_count": 5,
     "metadata": {},
     "output_type": "execute_result"
    }
   ],
   "source": [
    "def text_preprocessing(text):\n",
    "    text = text.lower() # case folding\n",
    "    text = re.sub(r\"[^a-z]+\", r\" \", text) # Regulation, remove special charecters\n",
    "    stop_words = set(stopwords.words('english'))\n",
    "    tokens = word_tokenize(text)\n",
    "    lemmatizer=WordNetLemmatizer()\n",
    "    # remove stopwords and lemmatization\n",
    "    result = [lemmatizer.lemmatize(i) for i in tokens if not i in stop_words]\n",
    "    result = result[:1000]\n",
    "    # bigram\n",
    "    '''\n",
    "    bigram_result = []\n",
    "    bigram_list = ngrams(result, 2)\n",
    "    for word_set in bigram_list:\n",
    "        for word in word_set:\n",
    "            bigram_result.append(word)\n",
    "    '''\n",
    "    return result\n",
    "\n",
    "list = text_preprocessing(\"This is sentence to test the effect of preprocessing... Yeah~\\nCool!fac  feae ge fe ga 🪣🛀🎀 ☏☢︎⏥␘⍎ (*╹▽╹*) (>^ω^<)喵\")\n",
    "' '.join(list)"
   ]
  },
  {
   "cell_type": "code",
   "execution_count": 6,
   "metadata": {},
   "outputs": [],
   "source": [
    "class NewsDataset(Dataset):\n",
    "    def __init__(self, news_df, vectorizer):\n",
    "        \"\"\"\n",
    "        Args:\n",
    "            news_df (pandas.DataFrame): the dataset\n",
    "            vectorizer (NewsVectorizer): vectorizer instatiated from dataset\n",
    "        \"\"\"\n",
    "        self.news_df = news_df\n",
    "        self._vectorizer = vectorizer\n",
    "\n",
    "        # +1 if only using begin_seq, +2 if using both begin and end seq tokens\n",
    "        measure_len = lambda context: len(context.split(\" \"))\n",
    "        self._max_seq_length = max(map(measure_len, news_df.text)) + 2\n",
    "        \n",
    "\n",
    "        self.train_df = self.news_df[self.news_df.split=='train']\n",
    "        self.train_size = len(self.train_df)\n",
    "\n",
    "        self.val_df = self.news_df[self.news_df.split=='val']\n",
    "        self.validation_size = len(self.val_df)\n",
    "\n",
    "        self.test_df = self.news_df[self.news_df.split=='test']\n",
    "        self.test_size = len(self.test_df)\n",
    "\n",
    "        self._lookup_dict = {'train': (self.train_df, self.train_size),\n",
    "                             'val': (self.val_df, self.validation_size),\n",
    "                             'test': (self.test_df, self.test_size)}\n",
    "\n",
    "        self.set_split('train')\n",
    "\n",
    "        # Class weights\n",
    "        class_counts = news_df.category.value_counts().to_dict()\n",
    "        def sort_key(item):\n",
    "            return self._vectorizer.category_vocab.lookup_token(item[0])\n",
    "        sorted_counts = sorted(class_counts.items(), key=sort_key)\n",
    "        frequencies = [count for _, count in sorted_counts]\n",
    "        self.class_weights = 1.0 / torch.tensor(frequencies, dtype=torch.float32)\n",
    "        \n",
    "        \n",
    "    @classmethod\n",
    "    def load_dataset_and_make_vectorizer(cls, news_csv):\n",
    "        \"\"\"Load dataset and make a new vectorizer from scratch\n",
    "        \n",
    "        Args:\n",
    "            surname_csv (str): location of the dataset\n",
    "        Returns:\n",
    "            an instance of SurnameDataset\n",
    "        \"\"\"\n",
    "        news_df = pd.read_csv(news_csv)\n",
    "        \n",
    "        for index, text in enumerate(news_df.text):\n",
    "            processed_list = text_preprocessing(text)\n",
    "            news_df.text[index] = ' '.join(processed_list)\n",
    "\n",
    "        train_news_df = news_df[news_df.split=='train']\n",
    "        return cls(news_df, NewsVectorizer.from_dataframe(train_news_df))\n",
    "\n",
    "    def get_vectorizer(self):\n",
    "        \"\"\" returns the vectorizer \"\"\"\n",
    "        return self._vectorizer\n",
    "\n",
    "    def set_split(self, split=\"train\"):\n",
    "        \"\"\" selects the splits in the dataset using a column in the dataframe \"\"\"\n",
    "        self._target_split = split\n",
    "        self._target_df, self._target_size = self._lookup_dict[split]\n",
    "\n",
    "    def __len__(self):\n",
    "        return self._target_size\n",
    "\n",
    "    def __getitem__(self, index):\n",
    "        \"\"\"the primary entry point method for PyTorch datasets\n",
    "        \n",
    "        Args:\n",
    "            index (int): the index to the data point \n",
    "        Returns:\n",
    "            a dictionary holding the data point's features (x_data) and label (y_target)\n",
    "        \"\"\"\n",
    "        row = self._target_df.iloc[index]\n",
    "\n",
    "        news_vector = \\\n",
    "            self._vectorizer.vectorize(row.text, self._max_seq_length)\n",
    "\n",
    "        category_index = \\\n",
    "            self._vectorizer.category_vocab.lookup_token(row.category)\n",
    "\n",
    "        return {'x_data': news_vector,     # e.g., \"Wall St. Bears Claw Back Into the Black (Reuters)\" \n",
    "                                            # -> [2, 5, 6, 10, 10, 8, 7, 9, 19, ......., 3, 0, 0, 0, ..., 0]\n",
    "                'y_target': category_index} # e.g., 2\n",
    "\n",
    "    def get_num_batches(self, batch_size):\n",
    "        \"\"\"Given a batch size, return the number of batches in the dataset\n",
    "        \n",
    "        Args:\n",
    "            batch_size (int)\n",
    "        Returns:\n",
    "            number of batches in the dataset\n",
    "        \"\"\"\n",
    "        return len(self) // batch_size\n",
    "\n",
    "def generate_batches(dataset, batch_size, shuffle=True,\n",
    "                     drop_last=True, device=\"cpu\"): \n",
    "    \"\"\"\n",
    "    A generator function which wraps the PyTorch DataLoader. It will \n",
    "      ensure each tensor is on the write device location.\n",
    "    \"\"\"\n",
    "    dataloader = DataLoader(dataset=dataset, batch_size=batch_size,\n",
    "                            shuffle=shuffle, drop_last=drop_last)\n",
    "\n",
    "    for data_dict in dataloader:\n",
    "        out_data_dict = {}\n",
    "        for name, tensor in data_dict.items():\n",
    "            out_data_dict[name] = data_dict[name].to(device)\n",
    "        yield out_data_dict"
   ]
  },
  {
   "cell_type": "markdown",
   "metadata": {},
   "source": [
    "## The Model: NewsClassifier"
   ]
  },
  {
   "cell_type": "code",
   "execution_count": 7,
   "metadata": {},
   "outputs": [],
   "source": [
    "class NewsClassifier(nn.Module):\n",
    "    def __init__(self, embedding_size, num_embeddings, num_channels, \n",
    "                 hidden_dim, num_classes, dropout_p, \n",
    "                 pretrained_embeddings=None, padding_idx=0):\n",
    "        \"\"\"\n",
    "        Args:\n",
    "            embedding_size (int): size of the embedding vectors\n",
    "            num_embeddings (int): number of embedding vectors\n",
    "            filter_width (int): width of the convolutional kernels\n",
    "            num_channels (int): number of convolutional kernels per layer\n",
    "            hidden_dim (int): the size of the hidden dimension\n",
    "            num_classes (int): the number of classes in classification\n",
    "            dropout_p (float): a dropout parameter \n",
    "            pretrained_embeddings (numpy.array): previously trained word embeddings\n",
    "                default is None. If provided, \n",
    "            padding_idx (int): an index representing a null position\n",
    "        \"\"\"\n",
    "        super(NewsClassifier, self).__init__()\n",
    "\n",
    "        if pretrained_embeddings is None:\n",
    "            self.emb = nn.Embedding(embedding_dim=embedding_size,   # 100\n",
    "                                    num_embeddings=num_embeddings,  # 3409\n",
    "                                    padding_idx=padding_idx)        \n",
    "        else:\n",
    "            pretrained_embeddings = torch.from_numpy(pretrained_embeddings).float()\n",
    "            self.emb = nn.Embedding.from_pretrained(pretrained_embeddings) # when freeze=True (default), \n",
    "                                                                           # the tensor does not get updated in the learning process.\n",
    "               \n",
    "        # in_channels: embedding_size; out_channels: # of filters; kernel_size = n-gram size\n",
    "        # number of parameters: (# of filters, embedding_size, n-gram size), (100, 100, 2) for 2-gram\n",
    "        self.conv1d_4gram = nn.Conv1d(in_channels=embedding_size, out_channels=num_channels, kernel_size=4)       \n",
    "        self.conv1d_3gram = nn.Conv1d(in_channels=embedding_size, out_channels=num_channels, kernel_size=3)                          \n",
    "        self.conv1d_2gram = nn.Conv1d(in_channels=embedding_size, out_channels=num_channels, kernel_size=2)                   \n",
    "\n",
    "        self._dropout_p = dropout_p\n",
    "        self.fc1 = nn.Linear(num_channels*3, hidden_dim) # input:concatination of conv1d_4gram, conv1d_3gram, conv1d_2gram outputs \n",
    "        self.fc2 = nn.Linear(hidden_dim, num_classes)\n",
    "\n",
    "    def forward(self, x_in, apply_softmax=False):\n",
    "        \"\"\"The forward pass of the classifier\n",
    "        \n",
    "        Args:\n",
    "            x_in (torch.Tensor): an input data tensor. \n",
    "                x_in.shape should be (batch, dataset._max_seq_length)\n",
    "            apply_softmax (bool): a flag for the softmax activation\n",
    "                should be false if used with the Cross Entropy losses\n",
    "        Returns:\n",
    "            the resulting tensor. tensor.shape should be (batch, num_classes)\n",
    "        \"\"\"\n",
    "        \n",
    "        # embed and permute so features are channels\n",
    "        x_embedded = self.emb(x_in).permute(0, 2, 1)    # (batch, seq_len) -> (batch, seq_len, features)\n",
    "                                                        # rearange (batch, seq_len, features) to (batch, features, seq_len) \n",
    "                                                        # E.g.,    (128,   29,      100)      to (128,   100,      29)\n",
    "\n",
    "        features = F.elu(self.conv1d_4gram(x_embedded)) # features: (batch, num_channels, ?); e.g., (128, 100, ?)\n",
    "                                                        # activation function similar to leaky RELU(); can use F.relu() instead\n",
    "        # max/average and remove the extra dimension\n",
    "        remaining_size = features.size(dim=2)          # remaining_size: ? in (batch, num_channels, ?)\n",
    "        features_4gram = F.max_pool1d(features, remaining_size).squeeze(dim=2) # features_4gram: (batch, num_channels);kernel_size=remaining_size   \n",
    "        #features_4gram = F.avg_pool1d(features, remaining_size).squeeze(dim=2)   \n",
    "        \n",
    "        features = F.elu(self.conv1d_3gram(x_embedded)) # features: (batch, num_channels, ?); e.g., (128, 100, ?)\n",
    "        remaining_size = features.size(dim=2)          # remaining_size: ? in (batch, num_channels, ?)\n",
    "        features_3gram = F.max_pool1d(features, remaining_size).squeeze(dim=2)    # features_3gram: (batch, num_channels)\n",
    "\n",
    "        features = F.elu(self.conv1d_2gram(x_embedded)) # features: (batch, num_channels, ?); e.g., (128, 100, ?)\n",
    "        remaining_size = features.size(dim=2)          # remaining_size: ? in (batch, num_channels, ?)\n",
    "        features_2gram = F.max_pool1d(features, remaining_size).squeeze(dim=2)    # features_2gram: (batch, num_channels) \n",
    " \n",
    "        features = torch.cat([features_4gram, features_3gram, features_2gram], dim=1)\n",
    "            \n",
    "        features = F.dropout(features, p=self._dropout_p, training=self.training)\n",
    "        \n",
    "        # mlp classifier\n",
    "        intermediate_vector = F.dropout(F.relu(self.fc1(features)), p=self._dropout_p, training=self.training)\n",
    "        prediction_vector = self.fc2(intermediate_vector)  # (batch, num_classes)\n",
    "\n",
    "        if apply_softmax:\n",
    "            prediction_vector = F.softmax(prediction_vector, dim=1)\n",
    "\n",
    "        return prediction_vector"
   ]
  },
  {
   "cell_type": "markdown",
   "metadata": {},
   "source": [
    "## Training Routine"
   ]
  },
  {
   "cell_type": "markdown",
   "metadata": {},
   "source": [
    "### Helper functions"
   ]
  },
  {
   "cell_type": "code",
   "execution_count": 8,
   "metadata": {},
   "outputs": [],
   "source": [
    "def make_train_state(args):\n",
    "    return {'stop_early': False,\n",
    "            'early_stopping_step': 0,\n",
    "            'early_stopping_best_val': 1e8,\n",
    "            'learning_rate': args.learning_rate,\n",
    "            'epoch_index': 0,\n",
    "            'train_loss': [],\n",
    "            'train_acc': [],\n",
    "            'val_loss': [],\n",
    "            'val_acc': [],\n",
    "            'test_loss': -1,\n",
    "            'test_acc': -1,\n",
    "            'model_filename': args.model_state_file}\n",
    "\n",
    "def update_train_state(args, model, train_state):\n",
    "    \"\"\"Handle the training state updates.\n",
    "\n",
    "    Components:\n",
    "     - Early Stopping: Prevent overfitting.\n",
    "     - Model Checkpoint: Model is saved if the model is better\n",
    "\n",
    "    :param args: main arguments\n",
    "    :param model: model to train\n",
    "    :param train_state: a dictionary representing the training state values\n",
    "    :returns:\n",
    "        a new train_state\n",
    "    \"\"\"\n",
    "\n",
    "    # Save one model at least\n",
    "    if train_state['epoch_index'] == 0:\n",
    "        torch.save(model.state_dict(), train_state['model_filename'])\n",
    "        train_state['stop_early'] = False\n",
    "\n",
    "    # Save model if performance improved\n",
    "    elif train_state['epoch_index'] >= 1:\n",
    "        loss_tm1, loss_t = train_state['val_loss'][-2:]\n",
    "\n",
    "        # If loss worsened\n",
    "        if loss_t >= train_state['early_stopping_best_val']:\n",
    "            # Update step\n",
    "            train_state['early_stopping_step'] += 1\n",
    "        # Loss decreased\n",
    "        else:\n",
    "            # Save the best model\n",
    "            if loss_t < train_state['early_stopping_best_val']:\n",
    "                torch.save(model.state_dict(), train_state['model_filename'])\n",
    "                train_state['early_stopping_best_val'] = loss_t  # update 'early_stopping_best_val'\n",
    "\n",
    "            # Reset early stopping step\n",
    "            train_state['early_stopping_step'] = 0\n",
    "\n",
    "        # Stop early ?\n",
    "        train_state['stop_early'] = \\\n",
    "            train_state['early_stopping_step'] >= args.early_stopping_criteria\n",
    "\n",
    "    return train_state\n",
    "\n",
    "def compute_accuracy(y_pred, y_target):\n",
    "    _, y_pred_indices = y_pred.max(dim=1)\n",
    "    n_correct = torch.eq(y_pred_indices, y_target).sum().item()\n",
    "    return n_correct / len(y_pred_indices) * 100"
   ]
  },
  {
   "cell_type": "markdown",
   "metadata": {},
   "source": [
    "#### general utilities"
   ]
  },
  {
   "cell_type": "code",
   "execution_count": 9,
   "metadata": {},
   "outputs": [],
   "source": [
    "def set_seed_everywhere(seed, cuda):\n",
    "    np.random.seed(seed)\n",
    "    torch.manual_seed(seed)\n",
    "    if cuda:\n",
    "        torch.cuda.manual_seed_all(seed)\n",
    "\n",
    "def handle_dirs(dirpath):\n",
    "    if not os.path.exists(dirpath):\n",
    "        os.makedirs(dirpath)\n",
    "        \n",
    "def load_glove_from_file(glove_filepath):\n",
    "    \"\"\"\n",
    "    Load the GloVe embeddings \n",
    "    \n",
    "    Args:\n",
    "        glove_filepath (str): path to the glove embeddings file \n",
    "    Returns:\n",
    "        word_to_index (dict), embeddings (numpy.ndarary)\n",
    "    \"\"\"\n",
    "\n",
    "    word_to_index = {}\n",
    "    embeddings = []\n",
    "    with open(glove_filepath, \"r\", encoding='utf8') as fp:\n",
    "        for index, line in enumerate(fp):\n",
    "            line = line.split(\" \") # each line: word num1 num2 ...\n",
    "            word_to_index[line[0]] = index # word = line[0] \n",
    "            embedding_i = np.array([float(val) for val in line[1:]])\n",
    "            embeddings.append(embedding_i)\n",
    "    return word_to_index, np.stack(embeddings)\n",
    "\n",
    "def make_embedding_matrix(glove_filepath, words):\n",
    "    \"\"\"\n",
    "    Create embedding matrix for a specific set of words.\n",
    "    \n",
    "    Args:\n",
    "        glove_filepath (str): file path to the glove embeddigns\n",
    "        words (list): list of words in the dataset\n",
    "    \"\"\"\n",
    "    word_to_idx, glove_embeddings = load_glove_from_file(glove_filepath)\n",
    "    embedding_size = glove_embeddings.shape[1]\n",
    "    \n",
    "    final_embeddings = np.zeros((len(words), embedding_size))\n",
    "\n",
    "    for i, word in enumerate(words):\n",
    "        if word in word_to_idx:\n",
    "            final_embeddings[i, :] = glove_embeddings[word_to_idx[word]]\n",
    "        else:\n",
    "            embedding_i = torch.ones(1, embedding_size)\n",
    "            torch.nn.init.xavier_uniform_(embedding_i)\n",
    "            final_embeddings[i, :] = embedding_i\n",
    "\n",
    "    return final_embeddings"
   ]
  },
  {
   "cell_type": "markdown",
   "metadata": {},
   "source": [
    "### Settings and some prep work"
   ]
  },
  {
   "cell_type": "code",
   "execution_count": 10,
   "metadata": {},
   "outputs": [],
   "source": [
    "from argparse import Namespace"
   ]
  },
  {
   "cell_type": "code",
   "execution_count": 11,
   "metadata": {},
   "outputs": [
    {
     "name": "stdout",
     "output_type": "stream",
     "text": [
      "Expanded filepaths: \n",
      "\t../model_storage/Fake_News\\model_cnn_Fake_News.pth\n",
      "Using CUDA: True\n",
      "Using MPS: False\n"
     ]
    }
   ],
   "source": [
    "args = Namespace(\n",
    "    # Data and Path hyper parameters\n",
    "    news_csv=\"../data/processed/fake_or_real_news_with_splits.csv\",\n",
    "    model_state_file=\"model_cnn_Fake_News.pth\",\n",
    "    save_dir=\"../model_storage/Fake_News\",\n",
    "    # Model hyper parameters\n",
    "    glove_filepath='../data/glove/glove.6B.100d.txt', \n",
    "    use_glove=True,\n",
    "    embedding_size=100, \n",
    "    hidden_dim=100, \n",
    "    num_channels=100, \n",
    "    # Training hyper parameter\n",
    "    seed=1337, \n",
    "    learning_rate=0.001, \n",
    "    dropout_p=0.1, \n",
    "    batch_size=64, \n",
    "    num_epochs=100, \n",
    "    early_stopping_criteria=5, \n",
    "    # Runtime option\n",
    "    cuda=True,\n",
    "    mps=True, \n",
    "    catch_keyboard_interrupt=True, \n",
    "    reload_from_files=False,\n",
    "    expand_filepaths_to_save_dir=True\n",
    ") \n",
    "\n",
    "if args.expand_filepaths_to_save_dir:\n",
    "    args.model_state_file = os.path.join(args.save_dir,\n",
    "                                         args.model_state_file)    \n",
    "    print(\"Expanded filepaths: \")\n",
    "    print(\"\\t{}\".format(args.model_state_file))\n",
    "    \n",
    "# Check CUDA for Nvidia\n",
    "if not torch.cuda.is_available():\n",
    "    args.cuda = False\n",
    "\n",
    "# Check MPS for Mac\n",
    "try:\n",
    "    if not torch.backends.mps.is_available() and torch.backends.mps.is_built():\n",
    "        args.mps = False\n",
    "except:\n",
    "    args.mps = False\n",
    "\n",
    "args.device = torch.device(\"cuda\" if args.cuda else \"mps\" if args.mps else \"cpu\")\n",
    "print(\"Using CUDA: {}\".format(args.cuda))\n",
    "print(\"Using MPS: {}\".format(args.mps))\n",
    "\n",
    "# Set seed for reproducibility\n",
    "set_seed_everywhere(args.seed, args.cuda)\n",
    "\n",
    "# handle dirs\n",
    "handle_dirs(args.save_dir)"
   ]
  },
  {
   "cell_type": "markdown",
   "metadata": {},
   "source": [
    "### Initializations"
   ]
  },
  {
   "cell_type": "code",
   "execution_count": 12,
   "metadata": {},
   "outputs": [],
   "source": [
    "args.use_glove = True"
   ]
  },
  {
   "cell_type": "code",
   "execution_count": 13,
   "metadata": {},
   "outputs": [
    {
     "name": "stderr",
     "output_type": "stream",
     "text": [
      "C:\\Users\\miuGrey\\AppData\\Local\\Temp\\ipykernel_7552\\1110265742.py:53: SettingWithCopyWarning: \n",
      "A value is trying to be set on a copy of a slice from a DataFrame\n",
      "\n",
      "See the caveats in the documentation: https://pandas.pydata.org/pandas-docs/stable/user_guide/indexing.html#returning-a-view-versus-a-copy\n",
      "  news_df.text[index] = ' '.join(processed_list)\n"
     ]
    },
    {
     "name": "stdout",
     "output_type": "stream",
     "text": [
      "Using pre-trained embeddings\n"
     ]
    }
   ],
   "source": [
    "# create dataset and vectorizer\n",
    "dataset = NewsDataset.load_dataset_and_make_vectorizer(args.news_csv)\n",
    "vectorizer = dataset.get_vectorizer()\n",
    "\n",
    "# Use GloVe or randomly initialized embeddings\n",
    "if args.use_glove:\n",
    "    words = vectorizer.news_vocab._token_to_idx.keys()  # 3409 unique words\n",
    "    embeddings = make_embedding_matrix(glove_filepath=args.glove_filepath,     # embeddings: (3409, 100)\n",
    "                                       words=words)\n",
    "    print(\"Using pre-trained embeddings\")\n",
    "else:\n",
    "    print(\"Not using pre-trained embeddings\")\n",
    "    embeddings = None\n",
    "\n",
    "classifier = NewsClassifier(embedding_size=args.embedding_size,          # e.g, 100\n",
    "                            num_embeddings=len(vectorizer.news_vocab),  # e.g., 3409\n",
    "                            num_channels=args.num_channels,              # e.g., 100\n",
    "                            hidden_dim=args.hidden_dim,                  # e.g., 100\n",
    "                            num_classes=len(vectorizer.category_vocab),  # e.g., 4\n",
    "                            dropout_p=args.dropout_p,                    # e.g., 0.1\n",
    "                            pretrained_embeddings=embeddings,\n",
    "                            padding_idx=0)"
   ]
  },
  {
   "cell_type": "code",
   "execution_count": 14,
   "metadata": {},
   "outputs": [
    {
     "name": "stdout",
     "output_type": "stream",
     "text": [
      "{'<MASK>': 0, '<UNK>': 1, '<BEGIN>': 2, '<END>': 3, 'nothing': 4, 'good': 5, 'come': 6, 'election': 7, 'posted': 8, 'november': 9, 'charles': 10, 'smith': 11, 'overwhelming': 12, 'consensus': 13, 'across': 14, 'political': 15, 'spectrum': 16, 'thing': 17, 'go': 18, 'like': 19, 'country': 20, 'deeply': 21, 'divided': 22, 'every': 23, 'institution': 24, 'two': 25, 'party': 26, 'mainstream': 27, 'medium': 28, 'department': 29, 'justice': 30, 'cover': 31, 'ups': 32, 'collusion': 33, 'worse': 34, 'win': 35, 'enter': 36, 'presidency': 37, 'without': 38, 'mandate': 39, 'nation': 40, 'corruption': 41, 'require': 42, 'hitting': 43, 'bottom': 44, 'drug': 45, 'incapable': 46, 'making': 47, 'truly': 48, 'positive': 49, 'change': 50, 'hit': 51, 'absolute': 52, 'tolerance': 53, 'corrupt': 54, 'system': 55, 'poisoning': 56, 'one': 57, 'injection': 58, 'cash': 59, 'pay': 60, 'play': 61, 'time': 62, 'core': 63, 'politics': 64, 'usual': 65, 'indeed': 66, 'flying': 67, 'cliff': 68, 'complete': 69, 'destruction': 70, 'continue': 71, 'self': 72, 'destructive': 73, 'path': 74, 'aid': 75, 'order': 76, 'expanded': 77, 'insider': 78, 'k': 79, 'street': 80, 'lobbyist': 81, 'army': 82, 'well': 83, 'paid': 84, 'pundit': 85, 'academic': 86, 'organ': 87, 'governance': 88, 'big': 89, 'money': 90, 'private': 91, 'sector': 92, 'capitalist': 93, 'dynasty': 94, 'foundation': 95, 'way': 96, 'anything': 97, 'establishment': 98, 'politico': 99, 'loses': 100, 'mere': 101, 'existence': 102, 'clinton': 103, 'trigger': 104, 'landslide': 105, 'loss': 106, 'tie': 107, 'candidate': 108, 'debate': 109, 'question': 110, 'etc': 111, 'alone': 112, 'cause': 113, 'lose': 114, 'refuse': 115, 'accept': 116, 'donation': 117, 'larger': 118, 'anyone': 119, 'entity': 120, 'beat': 121, 'goldman': 122, 'sachs': 123, 'saudi': 124, 'prince': 125, 'funded': 126, 'fund': 127, 'costly': 128, 'negative': 129, 'tv': 130, 'advertising': 131, 'campaign': 132, 'million': 133, 'contribution': 134, 'et': 135, 'al': 136, 'get': 137, 'point': 138, 'citizen': 139, 'voter': 140, 'stop': 141, 'systemic': 142, 'promise': 143, 'hope': 144, 'blitz': 145, 'easy': 146, 'blame': 147, 'law': 148, 'ultimately': 149, 'responsible': 150, 'enabling': 151, 'financial': 152, 'elite': 153, 'view': 154, 'msm': 155, 'half': 156, 'may': 157, 'actually': 158, 'cast': 159, 'mass': 160, 'rejection': 161, 'highest': 162, 'possible': 163, 'public': 164, 'hand': 165, 'fortune': 166, 'russia': 167, 'syria': 168, 'blamed': 169, 'idlib': 170, 'bombing': 171, 'hoax': 172, 'speaking': 173, 'international': 174, 'discussion': 175, 'club': 176, 'thursday': 177, 'putin': 178, 'said': 179, 'russian': 180, 'patience': 181, 'limit': 182, 'show': 183, 'n': 184, 'restraint': 185, 'far': 186, 'respond': 187, 'ed': 188, 'partner': 189, 'sic': 190, 'manner': 191, 'everything': 192, 'explained': 193, 'waiting': 194, 'given': 195, 'endless': 196, 'u': 197, 'provocation': 198, 'refusing': 199, 'mutual': 200, 'cooperation': 201, 'vital': 202, 'issue': 203, 'rejecting': 204, 'normal': 205, 'relation': 206, 'heading': 207, 'inevitably': 208, 'war': 209, 'unless': 210, 'challenged': 211, 'stopped': 212, 'stupid': 213, 'intelligence': 214, 'capability': 215, 'likely': 216, 'match': 217, 'america': 218, 'know': 219, 'eastern': 220, 'europe': 221, 'elsewhere': 222, 'middle': 223, 'east': 224, 'along': 225, 'virtually': 226, 'everywhere': 227, 'else': 228, 'pretending': 229, 'logic': 230, 'thinking': 231, 'washington': 232, 'day': 233, 'hillary': 234, 'obama': 235, 'virtual': 236, 'certainty': 237, 'fair': 238, 'mean': 239, 'latter': 240, 'theft': 241, 'longstanding': 242, 'tradition': 243, 'showing': 244, 'democracy': 245, 'pure': 246, 'fantasy': 247, 'screaming': 248, 'western': 249, 'headline': 250, 'syrian': 251, 'school': 252, 'province': 253, 'occurred': 254, 'supported': 255, 'terrorist': 256, 'attacked': 257, 'killing': 258, 'least': 259, 'six': 260, 'child': 261, 'many': 262, 'others': 263, 'exclusive': 264, 'rt': 265, 'investigation': 266, 'determined': 267, 'gas': 268, 'mine': 269, 'landed': 270, 'classroom': 271, 'launched': 272, 'controlled': 273, 'aleppo': 274, 'yet': 275, 'ignoring': 276, 'daily': 277, 'civilian': 278, 'government': 279, 'part': 280, 'city': 281, 'long': 282, 'internet': 283, 'access': 284, 'important': 285, 'information': 286, 'reliable': 287, 'independent': 288, 'source': 289, 'social': 290, 'commentator': 291, 'read': 292, 'paper': 293, 'ignorance': 294, 'reporting': 295, 'deplorable': 296, 'today': 297, 'beyond': 298, 'pale': 299, 'hard': 300, 'waste': 301, 'belief': 302, 'television': 303, 'news': 304, 'credible': 305, 'reader': 306, 'viewer': 307, 'listener': 308, 'systematically': 309, 'lied': 310, 'fare': 311, 'fit': 312, 'print': 313, 'broadcast': 314, 'editor': 315, 'reporter': 316, 'scam': 317, 'artist': 318, 'defense': 319, 'ministry': 320, 'spokesman': 321, 'general': 322, 'called': 323, 'video': 324, 'footage': 325, 'incident': 326, 'shown': 327, 'fake': 328, 'ten': 329, 'edited': 330, 'assembled': 331, 'together': 332, 'warplane': 333, 'area': 334, 'attack': 335, 'bomb': 336, 'existed': 337, 'damage': 338, 'inconsistent': 339, 'wall': 340, 'damaged': 341, 'ceiling': 342, 'desk': 343, 'chair': 344, 'blast': 345, 'would': 346, 'destroyed': 347, 'severely': 348, 'building': 349, 'inside': 350, 'swept': 351, 'away': 352, 'see': 353, 'photo': 354, 'drone': 355, 'roof': 356, 'concealed': 357, 'revealed': 358, 'set': 359, 'record': 360, 'straight': 361, 'leadership': 362, 'fell': 363, 'victim': 364, 'new': 365, 'deception': 366, 'qaeda': 367, 'affiliated': 368, 'white': 369, 'helmet': 370, 'perhaps': 371, 'orchestrated': 372, 'happened': 373, 'sinister': 374, 'anti': 375, 'agenda': 376, 'submit': 377, 'review': 378, 'globalization': 379, 'failing': 380, 'strike': 381, 'force': 382, 'jon': 383, 'begin': 384, 'piece': 385, 'three': 386, 'quote': 387, 'work': 388, 'progress': 389, 'underground': 390, 'basic': 391, 'principle': 392, 'state': 393, 'exists': 394, 'becomes': 395, 'twist': 396, 'real': 397, 'reach': 398, 'mind': 399, 'already': 400, 'word': 401, 'tree': 402, 'falling': 403, 'forest': 404, 'make': 405, 'sound': 406, 'user': 407, 'consumer': 408, 'want': 409, 'fall': 410, 'receives': 411, 'audio': 412, 'event': 413, 'dressed': 414, 'thousand': 415, 'different': 416, 'tends': 417, 'quality': 418, 'eventually': 419, 'person': 420, 'problem': 421, 'chronic': 422, 'liar': 423, 'press': 424, 'expose': 425, 'even': 426, 'though': 427, 'take': 428, 'surprisingly': 429, 'small': 430, 'push': 431, 'whole': 432, 'operation': 433, 'happening': 434, 'right': 435, 'front': 436, 'eye': 437, 'basis': 438, 'theater': 439, 'director': 440, 'producer': 441, 'think': 442, 'first': 443, 'rate': 444, 'job': 445, 'sadly': 446, 'gap': 447, 'growing': 448, 'outright': 449, 'non': 450, 'becoming': 451, 'apparent': 452, 'audience': 453, 'fool': 454, 'direct': 455, 'simply': 456, 'people': 457, 'sell': 458, 'soul': 459, 'found': 460, 'buyer': 461, 'transaction': 462, 'contain': 463, 'guarantee': 464, 'shelf': 465, 'life': 466, 'date': 467, 'approaching': 468, 'civilization': 469, 'petty': 470, 'rise': 471, 'nice': 472, 'plan': 473, 'let': 474, 'examine': 475, 'based': 476, 'profiling': 477, 'member': 478, 'analyzed': 479, 'shocking': 480, 'expected': 481, 'untold': 482, 'hour': 483, 'spent': 484, 'several': 485, 'year': 486, 'ago': 487, 'wrote': 488, 'tech': 489, 'begun': 490, 'since': 491, 'jeff': 492, 'ceo': 493, 'amazon': 494, 'bought': 495, 'post': 496, 'fire': 497, 'sale': 498, 'genius': 499, 'success': 500, 'mobile': 501, 'device': 502, 'multiple': 503, 'platform': 504, 'digital': 505, 'taking': 506, 'ad': 507, 'interest': 508, 'story': 509, 'thought': 510, 'irrelevant': 511, 'seen': 512, 'create': 513, 'bubble': 514, 'favorite': 515, 'little': 516, 'separate': 517, 'paradigm': 518, 'giant': 519, 'apple': 520, 'territory': 521, 'app': 522, 'deliver': 523, 'yahoo': 524, 'upcoming': 525, 'operating': 526, 'aim': 527, 'primary': 528, 'iphone': 529, 'say': 530, 'follows': 531, 'topic': 532, 'pull': 533, 'relevant': 534, 'specific': 535, 'journalism': 536, 'lab': 537, 'awesome': 538, 'power': 539, 'default': 540, 'distribution': 541, 'put': 542, 'entirely': 543, 'league': 544, 'hundred': 545, 'within': 546, 'present': 547, 'overall': 548, 'presentation': 549, 'outlet': 550, 'layer': 551, 'control': 552, 'fan': 553, 'prophet': 554, 'neo': 555, 'con': 556, 'rock': 557, 'conservative': 558, 'republican': 559, 'warm': 560, 'heart': 561, 'believe': 562, 'gridlock': 563, 'biggest': 564, 'concern': 565, 'congress': 566, 'done': 567, 'got': 568, 'moon': 569, 'world': 570, 'minute': 571, 'idea': 572, 'convince': 573, 'global': 574, 'delivering': 575, 'host': 576, 'appropriate': 577, 'lie': 578, 'context': 579, 'fringe': 580, 'look': 581, 'food': 582, 'planning': 583, 'produce': 584, 'section': 585, 'cheer': 586, 'declaring': 587, 'temporary': 588, 'ban': 589, 'toxic': 590, 'monsanto': 591, 'dow': 592, 'experiment': 593, 'danger': 594, 'vaccine': 595, 'sorry': 596, 'count': 597, 'recognized': 598, 'demographic': 599, 'boy': 600, 'involved': 601, 'car': 602, 'crash': 603, 'science': 604, 'fiction': 605, 'near': 606, 'future': 607, 'search': 608, 'engine': 609, 'inquiry': 610, 'abc': 611, 'national': 612, 'rating': 613, 'giving': 614, 'spending': 615, 'le': 616, 'business': 617, 'desperately': 618, 'looking': 619, 'treating': 620, 'construct': 621, 'preference': 622, 'answer': 623, 'mr': 624, 'x': 625, 'studied': 626, 'live': 627, 'special': 628, 'brand': 629, 'truth': 630, 'going': 631, 'pitch': 632, 'full': 633, 'obsessed': 634, 'worthy': 635, 'goal': 636, 'profile': 637, 'top': 638, 'find': 639, 'exactly': 640, 'kind': 641, 'punch': 642, 'actual': 643, 'occurring': 644, 'pre': 645, 'robot': 646, 'split': 647, 'bit': 648, 'care': 649, 'really': 650, 'gross': 651, 'error': 652, 'multi': 653, 'tongue': 654, 'simultaneously': 655, 'dozen': 656, 'variation': 657, 'expect': 658, 'reality': 659, 'brother': 660, 'issuing': 661, 'single': 662, 'voice': 663, 'home': 664, 'population': 665, 'old': 666, 'technology': 667, 'achieving': 668, 'unity': 669, 'diversity': 670, 'pr': 671, 'propaganda': 672, 'excuse': 673, 'education': 674, 'however': 675, 'recognize': 676, 'become': 677, 'variety': 678, 'serve': 679, 'outcome': 680, 'technological': 681, 'trust': 682, 'prefer': 683, 'wow': 684, 'coverage': 685, 'border': 686, 'b': 687, 'fantastic': 688, 'exhibit': 689, 'type': 690, 'watched': 691, 'movie': 692, 'aerial': 693, 'combat': 694, 'c': 695, 'great': 696, 'woman': 697, 'made': 698, 'could': 699, 'practically': 700, 'taste': 701, 'drill': 702, 'cop': 703, 'gave': 704, 'demonstration': 705, 'gear': 706, 'shield': 707, 'communication': 708, 'flash': 709, 'auto': 710, 'rifle': 711, 'baton': 712, 'watch': 713, 'love': 714, 'e': 715, 'saw': 716, 'mild': 717, 'week': 718, 'weather': 719, 'channel': 720, 'tune': 721, 'ring': 722, 'need': 723, 'extend': 724, 'globalism': 725, 'priority': 726, 'major': 727, 'whatever': 728, 'everyone': 729, 'alt': 730, 'site': 731, 'wikileaks': 732, 'project': 733, 'veritas': 734, 'exposed': 735, 'crime': 736, 'reflects': 737, 'turning': 738, 'forcing': 739, 'awareness': 740, 'scandal': 741, 'another': 742, 'support': 743, 'isi': 744, 'pro': 745, 'collapse': 746, 'obamacare': 747, 'gmo': 748, 'pesticide': 749, 'result': 750, 'backed': 751, 'corner': 752, 'must': 753, 'defend': 754, 'build': 755, 'creating': 756, 'playing': 757, 'rest': 758, 'quite': 759, 'final': 760, 'note': 761, 'trump': 762, 'created': 763, 'perfect': 764, 'storm': 765, 'unprecedented': 766, 'root': 767, 'never': 768, 'lying': 769, 'sense': 770, 'entitlement': 771, 'desperation': 772, 'working': 773, 'brain': 774, 'cell': 775, 'regardless': 776, 'train': 777, 'left': 778, 'station': 779, 'mega': 780, 'collection': 781, 'outside': 782, 'matrix': 783, 'click': 784, 'author': 785, 'explosive': 786, 'exit': 787, 'congressional': 788, 'seat': 789, 'th': 790, 'district': 791, 'california': 792, 'maintains': 793, 'consulting': 794, 'practice': 795, 'client': 796, 'purpose': 797, 'expansion': 798, 'personal': 799, 'creative': 800, 'nominated': 801, 'prize': 802, 'worked': 803, 'investigative': 804, 'writing': 805, 'article': 806, 'medicine': 807, 'health': 808, 'cbs': 809, 'la': 810, 'weekly': 811, 'spin': 812, 'magazine': 813, 'stern': 814, 'newspaper': 815, 'delivered': 816, 'lecture': 817, 'seminar': 818, 'around': 819, 'sign': 820, 'free': 821, 'email': 822, 'com': 823, 'activist': 824, 'newsletter': 825, 'confidential': 826, 'report': 827, 'survive': 828, 'economic': 829, 'outlook': 830, 'introduce': 831, 'button': 832, 'delete': 833, 'en': 834, 'tuesday': 835, 'announced': 836, 'next': 837, 'version': 838, 'popular': 839, 'software': 840, 'include': 841, 'function': 842, 'quickly': 843, 'computer': 844, 'head': 845, 'product': 846, 'development': 847, 'simon': 848, 'williams': 849, 'fbi': 850, 'investigating': 851, 'quick': 852, 'instantly': 853, 'remove': 854, 'pc': 855, 'useful': 856, 'suddenly': 857, 'exchange': 858, 'girl': 859, 'account': 860, 'felt': 861, 'took': 862, 'grave': 863, 'dismissed': 864, 'sexual': 865, 'harassment': 866, 'everyday': 867, 'sort': 868, 'situation': 869, 'office': 870, 'due': 871, 'released': 872, 'reportedly': 873, 'inspired': 874, 'update': 875, 'continued': 876, 'routinely': 877, 'forget': 878, 'use': 879, 'adding': 880, 'bill': 881, 'close': 882, 'window': 883, 'history': 884, 'protect': 885, 'wife': 886, 'ever': 887, 'knowing': 888, 'monica': 889, 'lewinsky': 890, 'case': 891, 'regular': 892, 'prevent': 893, 'spouse': 894, 'finding': 895, 'return': 896, 'early': 897, 'catch': 898, 'mid': 899, 'pleasure': 900, 'customer': 901, 'icon': 902, 'thereby': 903, 'saving': 904, 'attempting': 905, 'significant': 906, 'approach': 907, 'industry': 908, 'expert': 909, 'expecting': 910, 'high': 911, 'best': 912, 'friday': 913, 'currently': 914, 'remember': 915, 'talk': 916, 'standing': 917, 'donate': 918, 'dan': 919, 'treaty': 920, 'camp': 921, 'confrontation': 922, 'militarized': 923, 'police': 924, 'afternoon': 925, 'adam': 926, 'alexander': 927, 'kelly': 928, 'org': 929, 'indigenous': 930, 'analysis': 931, 'friend': 932, 'shared': 933, 'obviously': 934, 'speak': 935, 'native': 936, 'perspective': 937, 'diverse': 938, 'conviction': 939, 'hold': 940, 'strong': 941, 'pride': 942, 'worry': 943, 'feel': 944, 'might': 945, 'imagine': 946, 'much': 947, 'pretty': 948, 'stay': 949, 'touch': 950, 'asked': 951, 'wanted': 952, 'maintaining': 953, 'limited': 954, 'presence': 955, 'following': 956, 'effort': 957, 'crucial': 958, 'ongoing': 959, 'struggle': 960, 'colonial': 961, 'violence': 962, 'active': 963, 'contact': 964, 'waged': 965, 'condition': 966, 'society': 967, 'gone': 968, 'largely': 969, 'supremacy': 970, 'land': 971, 'pushed': 972, 'consciousness': 973, 'fact': 974, 'killed': 975, 'enforcement': 976, 'group': 977, 'speaks': 978, 'literally': 979, 'numerous': 980, 'perpetrated': 981, 'motif': 982, 'intention': 983, 'example': 984, 'structural': 985, 'whereas': 986, 'matter': 987, 'construction': 988, 'deadly': 989, 'mechanism': 990, 'greed': 991, 'driven': 992, 'regard': 993, 'always': 994, 'die': 995, 'died': 996, 'sake': 997, 'wealth': 998, 'maintenance': 999, 'harm': 1000, 'committed': 1001, 'book': 1002, 'american': 1003, 'exceptionalism': 1004, 'also': 1005, 'sustain': 1006, 'comfort': 1007, 'benefit': 1008, 'kept': 1009, 'sight': 1010, 'easily': 1011, 'forgotten': 1012, 'directly': 1013, 'impacted': 1014, 'clear': 1015, 'rare': 1016, 'moment': 1017, 'bear': 1018, 'witness': 1019, 'obvious': 1020, 'fighting': 1021, 'rarely': 1022, 'acknowledged': 1023, 'freedom': 1024, 'frequently': 1025, 'intersection': 1026, 'bearing': 1027, 'historic': 1028, 'dialogue': 1029, 'extremely': 1030, 'climate': 1031, 'oriented': 1032, 'yes': 1033, 'fight': 1034, 'fully': 1035, 'humanity': 1036, 'risk': 1037, 'whether': 1038, 'realize': 1039, 'focusing': 1040, 'exclusively': 1041, 'respective': 1042, 'sometimes': 1043, 'journey': 1044, 'bound': 1045, 'discussing': 1046, 'started': 1047, 'place': 1048, 'naming': 1049, 'water': 1050, 'natural': 1051, 'community': 1052, 'broad': 1053, 'center': 1054, 'conversation': 1055, 'often': 1056, 'reduced': 1057, 'ground': 1058, 'messaging': 1059, 'ngo': 1060, 'talking': 1061, 'deserve': 1062, 'worth': 1063, 'defending': 1064, 'affect': 1065, 'please': 1066, 'acknowledging': 1067, 'pipeline': 1068, 'impact': 1069, 'remind': 1070, 'struggling': 1071, 'engage': 1072, 'concrete': 1073, 'connection': 1074, 'jumping': 1075, 'discus': 1076, 'ally': 1077, 'accomplice': 1078, 'alongside': 1079, 'value': 1080, 'addition': 1081, 'continent': 1082, 'survived': 1083, 'genocide': 1084, 'born': 1085, 'victory': 1086, 'colonialism': 1087, 'named': 1088, 'centered': 1089, 'courtesy': 1090, 'message': 1091, 'condemnation': 1092, 'ask': 1093, 'asking': 1094, 'help': 1095, 'ensure': 1096, 'policy': 1097, 'happen': 1098, 'enough': 1099, 'fewer': 1100, 'various': 1101, 'form': 1102, 'acting': 1103, 'solidarity': 1104, 'deserved': 1105, 'living': 1106, 'protector': 1107, 'warrior': 1108, 'earned': 1109, 'appreciate': 1110, 'reaching': 1111, 'brave': 1112, 'keep': 1113, 'foremost': 1114, 'liberation': 1115, 'determination': 1116, 'survival': 1117, 'celebrated': 1118, 'thanks': 1119, 'action': 1120, 'co': 1121, 'founder': 1122, 'chicago': 1123, 'light': 1124, 'brigade': 1125, 'collective': 1126, 'lifted': 1127, 'blog': 1128, 'originally': 1129, 'appeared': 1130, 'movement': 1131, 'organizer': 1132, 'robert': 1133, 'dying': 1134, 'cancer': 1135, 'familiar': 1136, 'came': 1137, 'nurse': 1138, 'brought': 1139, 'back': 1140, 'share': 1141, 'twitter': 1142, 'losing': 1143, 'mother': 1144, 'midst': 1145, 'especially': 1146, 'blow': 1147, 'illness': 1148, 'injury': 1149, 'needed': 1150, 'mom': 1151, 'hear': 1152, 'encouraging': 1153, 'give': 1154, 'image': 1155, 'credit': 1156, 'recent': 1157, 'episode': 1158, 'harry': 1159, 'morning': 1160, 'hospital': 1161, 'bone': 1162, 'famously': 1163, 'open': 1164, 'battle': 1165, 'breast': 1166, 'disease': 1167, 'tell': 1168, 'jr': 1169, 'reached': 1170, 'sent': 1171, 'everybody': 1172, 'room': 1173, 'longer': 1174, 'side': 1175, 'soon': 1176, 'closer': 1177, 'realized': 1178, 'hearing': 1179, 'convinced': 1180, 'greatest': 1181, 'isolation': 1182, 'used': 1183, 'call': 1184, 'bond': 1185, 'surprised': 1186, 'cared': 1187, 'emotional': 1188, 'able': 1189, 'thank': 1190, 'countless': 1191, 'loved': 1192, 'french': 1193, 'leader': 1194, 'france': 1195, 'holy': 1196, 'islam': 1197, 'embrace': 1198, 'christianity': 1199, 'religion': 1200, 'satan': 1201, 'october': 1202, 'francois': 1203, 'declared': 1204, 'devastating': 1205, 'violent': 1206, 'solution': 1207, 'prepare': 1208, 'christian': 1209, 'faith': 1210, 'interview': 1211, 'coming': 1212, 'outpost': 1213, 'rescue': 1214, 'organization': 1215, 'muslim': 1216, 'god': 1217, 'tyranny': 1218, 'evil': 1219, 'series': 1220, 'warfare': 1221, 'permission': 1222, 'follow': 1223, 'facebook': 1224, 'spread': 1225, 'sharing': 1226, 'network': 1227, 'gingrich': 1228, 'shame': 1229, 'megyn': 1230, 'field': 1231, 'misogyny': 1232, 'published': 1233, 'min': 1234, 'prospect': 1235, 'surrogate': 1236, 'powerful': 1237, 'man': 1238, 'allegation': 1239, 'predator': 1240, 'sex': 1241, 'female': 1242, 'probably': 1243, 'misogynist': 1244, 'desperate': 1245, 'former': 1246, 'house': 1247, 'speaker': 1248, 'newt': 1249, 'presidential': 1250, 'nominee': 1251, 'donald': 1252, 'sinking': 1253, 'poll': 1254, 'number': 1255, 'accused': 1256, 'fox': 1257, 'mention': 1258, 'began': 1259, 'infamous': 1260, 'hollywood': 1261, 'featuring': 1262, 'proclaimed': 1263, 'sexually': 1264, 'assault': 1265, 'became': 1266, 'nearly': 1267, 'forward': 1268, 'either': 1269, 'assaulted': 1270, 'otherwise': 1271, 'taken': 1272, 'liberty': 1273, 'body': 1274, 'brian': 1275, 'achievement': 1276, 'china': 1277, 'continuation': 1278, 'cold': 1279, 'usa': 1280, 'nato': 1281, 'provoke': 1282, 'superpower': 1283, 'pact': 1284, 'march': 1285, 'although': 1286, 'reason': 1287, 'managed': 1288, 'added': 1289, 'poland': 1290, 'republic': 1291, 'bbc': 1292, 'noted': 1293, 'soviet': 1294, 'bloc': 1295, 'join': 1296, 'alliance': 1297, 'mile': 1298, 'towards': 1299, 'moscow': 1300, 'wondered': 1301, 'earth': 1302, 'military': 1303, 'spite': 1304, 'facing': 1305, 'threat': 1306, 'expand': 1307, 'later': 1308, 'president': 1309, 'observed': 1310, 'italy': 1311, 'expanding': 1312, 'anywhere': 1313, 'infrastructure': 1314, 'including': 1315, 'moving': 1316, 'aggression': 1317, 'hostile': 1318, 'south': 1319, 'sea': 1320, 'end': 1321, 'characteristic': 1322, 'hired': 1323, 'significance': 1324, 'gop': 1325, 'attempted': 1326, 'turkey': 1327, 'crisis': 1328, 'imperialism': 1329, 'expression': 1330, 'certainly': 1331, 'originated': 1332, 'dangerous': 1333, 'menace': 1334, 'appears': 1335, 'posture': 1336, 'explain': 1337, 'silence': 1338, 'led': 1339, 'arabia': 1340, 'yemen': 1341, 'oil': 1342, 'statement': 1343, 'regret': 1344, 'riyadh': 1345, 'royal': 1346, 'dictatorship': 1347, 'cease': 1348, 'yemeni': 1349, 'lack': 1350, 'legal': 1351, 'pervasive': 1352, 'restriction': 1353, 'universal': 1354, 'assembly': 1355, 'association': 1356, 'equal': 1357, 'encourage': 1358, 'monarchy': 1359, 'domestic': 1360, 'united': 1361, 'torture': 1362, 'abuse': 1363, 'arrest': 1364, 'detention': 1365, 'neither': 1366, 'protected': 1367, 'imagined': 1368, 'proper': 1369, 'indicate': 1370, 'disapproval': 1371, 'civil': 1372, 'human': 1373, 'speech': 1374, 'discourage': 1375, 'continuing': 1376, 'murder': 1377, 'innocent': 1378, 'total': 1379, 'neocon': 1380, 'industrial': 1381, 'complex': 1382, 'administration': 1383, 'refugee': 1384, 'regime': 1385, 'pentagon': 1386, 'fleet': 1387, 'bomber': 1388, 'sky': 1389, 'deliberately': 1390, 'brussels': 1391, 'drum': 1392, 'planned': 1393, 'libya': 1394, 'destroy': 1395, 'gaddafi': 1396, 'whose': 1397, 'caused': 1398, 'massive': 1399, 'suffering': 1400, 'opened': 1401, 'band': 1402, 'militant': 1403, 'extremist': 1404, 'islamic': 1405, 'aka': 1406, 'questioned': 1407, 'bombardment': 1408, 'foreign': 1409, 'adviser': 1410, 'jeremy': 1411, 'bash': 1412, 'told': 1413, 'london': 1414, 'telegraph': 1415, 'strategy': 1416, 'key': 1417, 'task': 1418, 'nature': 1419, 'bashar': 1420, 'assad': 1421, 'selected': 1422, 'target': 1423, 'doomed': 1424, 'seemed': 1425, 'greater': 1426, 'emphasis': 1427, 'airstrikes': 1428, 'turmoil': 1429, 'chaos': 1430, 'catastrophe': 1431, 'delivery': 1432, 'arm': 1433, 'weapon': 1434, 'ended': 1435, 'daesh': 1436, 'nusra': 1437, 'turned': 1438, 'european': 1439, 'soil': 1440, 'supply': 1441, 'rebel': 1442, 'absurd': 1443, 'chain': 1444, 'missile': 1445, 'afghanistan': 1446, 'buy': 1447, 'dollar': 1448, 'british': 1449, 'supplied': 1450, 'air': 1451, 'publicity': 1452, 'occasion': 1453, 'serious': 1454, 'explanation': 1455, 'poorly': 1456, 'informed': 1457, 'vastly': 1458, 'expensive': 1459, 'agency': 1460, 'iraq': 1461, 'tony': 1462, 'blair': 1463, 'david': 1464, 'cameron': 1465, 'personality': 1466, 'judged': 1467, 'particular': 1468, 'via': 1469, 'authority': 1470, 'judge': 1471, 'african': 1472, 'criminal': 1473, 'court': 1474, 'try': 1475, 'individual': 1476, 'charged': 1477, 'rome': 1478, 'statute': 1479, 'britain': 1480, 'theory': 1481, 'supportive': 1482, 'doubt': 1483, 'guilty': 1484, 'candidacy': 1485, 'maintained': 1486, 'democrat': 1487, 'prepared': 1488, 'nose': 1489, 'pressing': 1490, 'vote': 1491, 'opinion': 1492, 'according': 1493, 'pretext': 1494, 'nobody': 1495, 'politician': 1496, 'continues': 1497, 'mission': 1498, 'alter': 1499, 'consider': 1500, 'flexibility': 1501, 'dictator': 1502, 'economy': 1503, 'west': 1504, 'permitted': 1505, 'detainee': 1506, 'treat': 1507, 'critic': 1508, 'northern': 1509, 'offensive': 1510, 'coordination': 1511, 'fails': 1512, 'sanctuary': 1513, 'kilometer': 1514, 'experience': 1515, 'diplomatic': 1516, 'resolution': 1517, 'libyan': 1518, 'equation': 1519, 'resolved': 1520, 'militarily': 1521, 'prevail': 1522, 'unlike': 1523, 'regarded': 1524, 'being': 1525, 'entire': 1526, 'received': 1527, 'medical': 1528, 'germany': 1529, 'refused': 1530, 'among': 1531, 'militia': 1532, 'grown': 1533, 'size': 1534, 'influence': 1535, 'accord': 1536, 'secretary': 1537, 'claim': 1538, 'model': 1539, 'intervention': 1540, 'fault': 1541, 'admitted': 1542, 'failure': 1543, 'worst': 1544, 'mistake': 1545, 'last': 1546, 'month': 1547, 'unlikely': 1548, 'invasion': 1549, 'rebuild': 1550, 'supporter': 1551, 'notably': 1552, 'conventional': 1553, 'gang': 1554, 'fail': 1555, 'difficult': 1556, 'predict': 1557, 'effect': 1558, 'peaceful': 1559, 'era': 1560, 'domination': 1561, 'beneficial': 1562, 'emergence': 1563, 'remembered': 1564, 'august': 1565, 'york': 1566, 'participation': 1567, 'coalition': 1568, 'absolutely': 1569, 'believed': 1570, 'agent': 1571, 'accuses': 1572, 'james': 1573, 'comey': 1574, 'rule': 1575, 'sir': 1576, 'regarding': 1577, 'july': 1578, 'informing': 1579, 'closed': 1580, 'referring': 1581, 'federal': 1582, 'grand': 1583, 'jury': 1584, 'attorney': 1585, 'decision': 1586, 'laid': 1587, 'evidence': 1588, 'strongly': 1589, 'uncovered': 1590, 'personally': 1591, 'soft': 1592, 'describing': 1593, 'careless': 1594, 'using': 1595, 'un': 1596, 'secured': 1597, 'server': 1598, 'retired': 1599, 'write': 1600, 'letter': 1601, 'thirty': 1602, 'knowledge': 1603, 'expertise': 1604, 'confront': 1605, 'standard': 1606, 'procedure': 1607, 'judicial': 1608, 'finest': 1609, 'proudly': 1610, 'carry': 1611, 'credential': 1612, 'allowed': 1613, 'silent': 1614, 'm': 1615, 'merely': 1616, 'requires': 1617, 'possession': 1618, 'available': 1619, 'furthermore': 1620, 'owned': 1621, 'leaving': 1622, 'position': 1623, 'nefarious': 1624, 'known': 1625, 'moral': 1626, 'character': 1627, 'cave': 1628, 'pressure': 1629, 'unilaterally': 1630, 'fear': 1631, 'ashamed': 1632, 'precedent': 1633, 'justified': 1634, 'ought': 1635, 'resign': 1636, 'disgrace': 1637, 'reputation': 1638, 'normally': 1639, 'assigned': 1640, 'team': 1641, 'lead': 1642, 'investigator': 1643, 'presented': 1644, 'decides': 1645, 'decline': 1646, 'prosecution': 1647, 'decided': 1648, 'instead': 1649, 'prosecute': 1650, 'provide': 1651, 'wrong': 1652, 'upon': 1653, 'subject': 1654, 'probable': 1655, 'exist': 1656, 'level': 1657, 'probability': 1658, 'proceeding': 1659, 'throughout': 1660, 'fellow': 1661, 'conducting': 1662, 'treated': 1663, 'equally': 1664, 'allow': 1665, 'nasty': 1666, 'threatened': 1667, 'security': 1668, 'short': 1669, 'rico': 1670, 'influenced': 1671, 'recovered': 1672, 'argued': 1673, 'uncomfortable': 1674, 'addressing': 1675, 'conclude': 1676, 'retirement': 1677, 'tour': 1678, 'duty': 1679, 'professional': 1680, 'embedded': 1681, 'counter': 1682, 'terrorism': 1683, 'operated': 1684, 'wire': 1685, 'troop': 1686, 'gathering': 1687, 'bad': 1688, 'guy': 1689, 'reported': 1690, 'secure': 1691, 'commanding': 1692, 'officer': 1693, 'required': 1694, 'occasionally': 1695, 'remote': 1696, 'location': 1697, 'mountain': 1698, 'impossible': 1699, 'fly': 1700, 'base': 1701, 'commander': 1702, 'space': 1703, 'convenient': 1704, 'phone': 1705, 'written': 1706, 'laptop': 1707, 'classified': 1708, 'compromised': 1709, 'relative': 1710, 'low': 1711, 'classification': 1712, 'secret': 1713, 'prosecuted': 1714, 'prison': 1715, 'violation': 1716, 'considered': 1717, 'activity': 1718, 'running': 1719, 'sleep': 1720, 'night': 1721, 'market': 1722, 'projected': 1723, 'pravda': 1724, 'ru': 1725, 'stock': 1726, 'index': 1727, 'declined': 1728, 'electoral': 1729, 'investor': 1730, 'counting': 1731, 'collapsed': 1732, 'earlier': 1733, 'changed': 1734, 'forecast': 1735, 'percent': 1736, 'range': 1737, 'trading': 1738, 'data': 1739, 'showed': 1740, 'jones': 1741, 'p': 1742, 'japan': 1743, 'dropped': 1744, 'chinese': 1745, 'blue': 1746, 'chip': 1747, 'hang': 1748, 'korea': 1749, 'australian': 1750, 'currency': 1751, 'weakened': 1752, 'japanese': 1753, 'euro': 1754, 'price': 1755, 'crude': 1756, 'per': 1757, 'barrel': 1758, 'treasury': 1759, 'dynamic': 1760, 'gold': 1761, 'joe': 1762, 'printed': 1763, 'j': 1764, 'true': 1765, 'still': 1766, 'wound': 1767, 'purchase': 1768, 'lesser': 1769, 'versus': 1770, 'name': 1771, 'egg': 1772, 'returned': 1773, 'fat': 1774, 'toxin': 1775, 'branded': 1776, 'item': 1777, 'four': 1778, 'politically': 1779, 'rather': 1780, 'black': 1781, 'zombie': 1782, 'walmart': 1783, 'oligarchy': 1784, 'circus': 1785, 'philosophy': 1786, 'seem': 1787, 'concept': 1788, 'choice': 1789, 'commit': 1790, 'act': 1791, 'alleged': 1792, 'seems': 1793, 'supporting': 1794, 'card': 1795, 'phrase': 1796, 'possibly': 1797, 'accurate': 1798, 'spend': 1799, 'second': 1800, 'roll': 1801, 'nuclear': 1802, 'holocaust': 1803, 'suppose': 1804, 'face': 1805, 'repeatedly': 1806, 'tried': 1807, 'hostility': 1808, 'armed': 1809, 'decade': 1810, 'certain': 1811, 'dismantle': 1812, 'rich': 1813, 'eu': 1814, 'failed': 1815, 'preferred': 1816, 'organized': 1817, 'r': 1818, 'vladimir': 1819, 'vague': 1820, 'substance': 1821, 'democratic': 1822, 'committee': 1823, 'caught': 1824, 'bloody': 1825, 'handed': 1826, 'stealing': 1827, 'bernie': 1828, 'sander': 1829, 'fraud': 1830, 'response': 1831, 'yeah': 1832, 'sure': 1833, 'repeated': 1834, 'lost': 1835, 'meaning': 1836, 'abroad': 1837, 'slight': 1838, 'pas': 1839, 'unveiled': 1840, 'generation': 1841, 'capable': 1842, 'central': 1843, 'coast': 1844, 'uk': 1845, 'insists': 1846, 'zone': 1847, 'imposed': 1848, 'invading': 1849, 'arming': 1850, 'funding': 1851, 'privately': 1852, 'getting': 1853, 'sophisticated': 1854, 'import': 1855, 'located': 1856, 'standoff': 1857, 'putting': 1858, 'pilot': 1859, 'kill': 1860, 'lot': 1861, 'sudden': 1862, 'involvement': 1863, 'protecting': 1864, 'hrc': 1865, 'personnel': 1866, 'course': 1867, 'represents': 1868, 'dead': 1869, 'tale': 1870, 'historical': 1871, 'corporate': 1872, 'nazi': 1873, 'foreigner': 1874, 'death': 1875, 'rodham': 1876, 'played': 1877, 'role': 1878, 'approximately': 1879, 'third': 1880, 'bother': 1881, 'tally': 1882, 'figure': 1883, 'shock': 1884, 'liberal': 1885, 'thoroughly': 1886, 'senator': 1887, 'voted': 1888, 'illegal': 1889, 'command': 1890, 'responsibility': 1891, 'selling': 1892, 'estimate': 1893, 'iraqi': 1894, 'casualty': 1895, 'peace': 1896, 'attribute': 1897, 'charter': 1898, 'bush': 1899, 'cheney': 1900, 'hypocrisy': 1901, 'condemned': 1902, 'staggering': 1903, 'linked': 1904, 'witnessing': 1905, 'large': 1906, 'council': 1907, 'unacceptable': 1908, 'authorize': 1909, 'attempt': 1910, 'justify': 1911, 'claiming': 1912, 'insufficient': 1913, 'minister': 1914, 'sergey': 1915, 'lavrov': 1916, 'assisted': 1917, 'displayed': 1918, 'onto': 1919, 'current': 1920, 'contrast': 1921, 'highly': 1922, 'described': 1923, 'agreement': 1924, 'erdogan': 1925, 'rat': 1926, 'line': 1927, 'term': 1928, 'qatar': 1929, 'cia': 1930, 'mi': 1931, 'arsenal': 1932, 'benghazi': 1933, 'consulate': 1934, 'official': 1935, 'covert': 1936, 'plot': 1937, 'resulting': 1938, 'overthrow': 1939, 'elected': 1940, 'husband': 1941, 'sanction': 1942, 'component': 1943, 'toll': 1944, 'deemed': 1945, 'clip': 1946, 'modern': 1947, 'age': 1948, 'murderer': 1949, 'openly': 1950, 'haiti': 1951, 'honduras': 1952, 'atrocity': 1953, 'empire': 1954, 'pig': 1955, 'pretend': 1956, 'proven': 1957, 'charge': 1958, 'jill': 1959, 'stein': 1960, 'green': 1961, 'soros': 1962, 'voting': 1963, 'machine': 1964, 'rigged': 1965, 'went': 1966, 'hacked': 1967, 'joseph': 1968, 'company': 1969, 'provided': 1970, 'battleground': 1971, 'florida': 1972, 'arizona': 1973, 'billionaire': 1974, 'leftist': 1975, 'george': 1976, 'coordinated': 1977, 'receiving': 1978, 'player': 1979, 'string': 1980, 'behind': 1981, 'tied': 1982, 'progressive': 1983, 'globalist': 1984, 'surely': 1985, 'leave': 1986, 'mouth': 1987, 'equipment': 1988, 'smartmatic': 1989, 'chairman': 1990, 'mark': 1991, 'brown': 1992, 'sits': 1993, 'board': 1994, 'advisory': 1995, 'executive': 1996, 'founded': 1997, 'built': 1998, 'appointed': 1999, 'vice': 2000, 'quantum': 2001, 'management': 2002, 'institute': 2003, 'miller': 2004, 'firm': 2005, 'associate': 2006, 'senior': 2007, 'advisor': 2008, 'jackson': 2009, 'aide': 2010, 'managing': 2011, 'poor': 2012, 'track': 2013, 'providing': 2014, 'terrifying': 2015, 'astonishing': 2016, 'cable': 2017, 'obtained': 2018, 'reveals': 2019, 'extent': 2020, 'rigging': 2021, 'venezuelan': 2022, 'recall': 2023, 'titled': 2024, 'shadow': 2025, 'memo': 2026, 'stated': 2027, 'corporation': 2028, 'ownership': 2029, 'complicated': 2030, 'contested': 2031, 'venezuela': 2032, 'widely': 2033, 'suspected': 2034, 'opposition': 2035, 'referendum': 2036, 'eight': 2037, 'statistical': 2038, 'performed': 2039, 'study': 2040, 'log': 2041, 'supposedly': 2042, 'proved': 2043, 'suspicion': 2044, 'prove': 2045, 'reject': 2046, 'desire': 2047, 'colorado': 2048, 'dc': 2049, 'illinois': 2050, 'louisiana': 2051, 'michigan': 2052, 'missouri': 2053, 'jersey': 2054, 'nevada': 2055, 'oregon': 2056, 'pennsylvania': 2057, 'virginia': 2058, 'wisconsin': 2059, 'bias': 2060, 'proof': 2061, 'heavily': 2062, 'favor': 2063, 'needle': 2064, 'winner': 2065, 'mess': 2066, 'honesty': 2067, 'sheeple': 2068, 'republish': 2069, 'breaking': 2070, 'detail': 2071, 'contributed': 2072, 'planet': 2073, 'truthful': 2074, 'keeping': 2075, 'andrew': 2076, 'oval': 2077, 'stretching': 2078, 'hoover': 2079, 'learned': 2080, 'sooner': 2081, 'title': 2082, 'chief': 2083, 'bureaucracy': 2084, 'service': 2085, 'succeeded': 2086, 'holding': 2087, 'sin': 2088, 'reactionary': 2089, 'gay': 2090, 'actively': 2091, 'enemy': 2092, 'superior': 2093, 'dig': 2094, 'partisan': 2095, 'richard': 2096, 'nixon': 2097, 'scenario': 2098, 'extraordinary': 2099, 'recognizing': 2100, 'entrenched': 2101, 'struck': 2102, 'leak': 2103, 'deep': 2104, 'throat': 2105, 'deputy': 2106, 'instrument': 2107, 'obscure': 2108, 'nonetheless': 2109, 'potent': 2110, 'universe': 2111, 'thus': 2112, 'signature': 2113, 'iran': 2114, 'uranium': 2115, 'program': 2116, 'branch': 2117, 'asset': 2118, 'hammered': 2119, 'john': 2120, 'kerry': 2121, 'agreed': 2122, 'lifting': 2123, 'array': 2124, 'bank': 2125, 'iranian': 2126, 'savage': 2127, 'penalty': 2128, 'billion': 2129, 'fine': 2130, 'promised': 2131, 'reward': 2132, 'ability': 2133, 'trade': 2134, 'freely': 2135, 'appear': 2136, 'step': 2137, 'remedy': 2138, 'recently': 2139, 'ceremony': 2140, 'negotiating': 2141, 'deal': 2142, 'dealing': 2143, 'plenty': 2144, 'fashion': 2145, 'turn': 2146, 'pop': 2147, 'held': 2148, 'accountable': 2149, 'except': 2150, 'detailed': 2151, 'tyler': 2152, 'specialist': 2153, 'regulation': 2154, 'website': 2155, 'cited': 2156, 'necessarily': 2157, 'sufficient': 2158, 'bos': 2159, 'banking': 2160, 'better': 2161, 'exercise': 2162, 'essentially': 2163, 'neck': 2164, 'consequence': 2165, 'predictable': 2166, 'smart': 2167, 'attention': 2168, 'diplomat': 2169, 'steer': 2170, 'caption': 2171, 'commentary': 2172, 'comment': 2173, 'covered': 2174, 'publishing': 2175, 'produced': 2176, 'feature': 2177, 'film': 2178, 'documentary': 2179, 'casino': 2180, 'latest': 2181, 'henry': 2182, 'holt': 2183, 'severe': 2184, 'hacking': 2185, 'past': 2186, 'considerable': 2187, 'circulation': 2188, 'extreme': 2189, 'caution': 2190, 'publish': 2191, 'box': 2192, 'main': 2193, 'code': 2194, 'immediately': 2195, 'assured': 2196, 'legitimate': 2197, 'wish': 2198, 'send': 2199, 'mail': 2200, 'apologize': 2201, 'bring': 2202, 'subscribe': 2203, 'gain': 2204, 'safe': 2205, 'obligation': 2206, 'loyal': 2207, 'input': 2208, 'necessary': 2209, 'fix': 2210, 'nbc': 2211, 'affiliate': 2212, 'accidentally': 2213, 'confused': 2214, 'bag': 2215, 'dnc': 2216, 'rnc': 2217, 'online': 2218, 'listed': 2219, 'bet': 2220, 'assumption': 2221, 'weiner': 2222, 'ruined': 2223, 'anthony': 2224, 'revelation': 2225, 'surprise': 2226, 'opening': 2227, 'vulnerable': 2228, 'misconduct': 2229, 'hall': 2230, 'alternative': 2231, 'analyst': 2232, 'admit': 2233, 'chance': 2234, 'confusion': 2235, 'reign': 2236, 'supreme': 2237, 'observer': 2238, 'addressed': 2239, 'timing': 2240, 'majority': 2241, 'cycle': 2242, 'compete': 2243, 'pointed': 2244, 'competition': 2245, 'assumed': 2246, 'therefore': 2247, 'tend': 2248, 'agree': 2249, 'disagree': 2250, 'conclusion': 2251, 'primarily': 2252, 'false': 2253, 'pointing': 2254, 'correctly': 2255, 'predicted': 2256, 'brexit': 2257, 'outline': 2258, 'depth': 2259, 'stating': 2260, 'crazy': 2261, 'slated': 2262, 'design': 2263, 'color': 2264, 'surrounding': 2265, 'chosen': 2266, 'studying': 2267, 'behavior': 2268, 'wise': 2269, 'definitely': 2270, 'rig': 2271, 'game': 2272, 'cheat': 2273, 'consent': 2274, 'portion': 2275, 'insane': 2276, 'entirety': 2277, 'balance': 2278, 'sheet': 2279, 'rose': 2280, 'document': 2281, 'apparently': 2282, 'routine': 2283, 'interference': 2284, 'strange': 2285, 'rampant': 2286, 'mishandling': 2287, 'crowd': 2288, 'turnout': 2289, 'rhetoric': 2290, 'assuming': 2291, 'average': 2292, 'speed': 2293, 'ignorant': 2294, 'potential': 2295, 'inspiring': 2296, 'confidence': 2297, 'pick': 2298, 'represent': 2299, 'ride': 2300, 'lame': 2301, 'duck': 2302, 'rebellion': 2303, 'generally': 2304, 'option': 2305, 'breakdown': 2306, 'premise': 2307, 'underlying': 2308, 'ignore': 2309, 'swath': 2310, 'style': 2311, 'opec': 2312, 'production': 2313, 'freeze': 2314, 'ready': 2315, 'apart': 2316, 'reserve': 2317, 'threatening': 2318, 'raise': 2319, 'december': 2320, 'fiscal': 2321, 'structure': 2322, 'occurs': 2323, 'globalists': 2324, 'suggest': 2325, 'reaction': 2326, 'renewed': 2327, 'narrative': 2328, 'blaming': 2329, 'nine': 2330, 'ruin': 2331, 'victor': 2332, 'victorious': 2333, 'dismantling': 2334, 'founding': 2335, 'succeed': 2336, 'proponent': 2337, 'move': 2338, 'prepares': 2339, 'argue': 2340, 'announcement': 2341, 'motivated': 2342, 'motivation': 2343, 'meant': 2344, 'placed': 2345, 'dance': 2346, 'cry': 2347, 'accusing': 2348, 'reid': 2349, 'hiding': 2350, 'supposed': 2351, 'violating': 2352, 'hatch': 2353, 'outrage': 2354, 'waging': 2355, 'install': 2356, 'bizarre': 2357, 'understand': 2358, 'argument': 2359, 'designed': 2360, 'distract': 2361, 'dump': 2362, 'bringing': 2363, 'hoping': 2364, 'distraction': 2365, 'period': 2366, 'announce': 2367, 'stream': 2368, 'steal': 2369, 'traitor': 2370, 'puppet': 2371, 'worried': 2372, 'fulfill': 2373, 'prophecy': 2374, 'franchise': 2375, 'rogue': 2376, 'something': 2377, 'advantage': 2378, 'aware': 2379, 'firestorm': 2380, 'miracle': 2381, 'upset': 2382, 'sovereignty': 2383, 'champion': 2384, 'contrary': 2385, 'honestly': 2386, 'brazil': 2387, 'football': 2388, 'carlos': 2389, 'afp': 2390, 'captain': 2391, 'gathered': 2392, 'de': 2393, 'tribute': 2394, 'cup': 2395, 'winning': 2396, 'buried': 2397, 'carried': 2398, 'wednesday': 2399, 'flag': 2400, 'mostly': 2401, 'fourth': 2402, 'cap': 2403, 'podesta': 2404, 'id': 2405, 'page': 2406, 'registered': 2407, 'trademark': 2408, 'zero': 2409, 'copyright': 2410, 'generated': 2411, 'almost': 2412, 'start': 2413, 'changing': 2414, 'reflection': 2415, 'followed': 2416, 'dream': 2417, 'passion': 2418, 'stress': 2419, 'anger': 2420, 'reflecting': 2421, 'honest': 2422, 'emotion': 2423, 'feeling': 2424, 'decide': 2425, 'happens': 2426, 'empower': 2427, 'observe': 2428, 'kick': 2429, 'helping': 2430, 'choose': 2431, 'eating': 2432, 'habit': 2433, 'vessel': 2434, 'mentally': 2435, 'emotionally': 2436, 'healthy': 2437, 'cut': 2438, 'completely': 2439, 'tiny': 2440, 'scope': 2441, 'totally': 2442, 'pin': 2443, 'achieve': 2444, 'excited': 2445, 'passionate': 2446, 'believing': 2447, 'run': 2448, 'mentality': 2449, 'triggered': 2450, 'journal': 2451, 'someone': 2452, 'table': 2453, 'bigger': 2454, 'picture': 2455, 'challenge': 2456, 'comparing': 2457, 'compare': 2458, 'sad': 2459, 'feed': 2460, 'ego': 2461, 'respect': 2462, 'judging': 2463, 'addiction': 2464, 'conscious': 2465, 'finger': 2466, 'aligned': 2467, 'saying': 2468, 'hurt': 2469, 'worrying': 2470, 'trying': 2471, 'accepted': 2472, 'save': 2473, 'weird': 2474, 'genuine': 2475, 'maintain': 2476, 'forever': 2477, 'obsession': 2478, 'learn': 2479, 'reckless': 2480, 'list': 2481, 'career': 2482, 'explore': 2483, 'koch': 2484, 'helped': 2485, 'incite': 2486, 'impending': 2487, 'pm': 2488, 'lesson': 2489, 'column': 2490, 'verge': 2491, 'bearer': 2492, 'tension': 2493, 'terrified': 2494, 'disregard': 2495, 'minded': 2496, 'loyalist': 2497, 'intent': 2498, 'tea': 2499, 'caucus': 2500, 'boehner': 2501, 'embraced': 2502, 'solely': 2503, 'paul': 2504, 'ryan': 2505, 'energy': 2506, 'eager': 2507, 'wing': 2508, 'eric': 2509, 'issued': 2510, 'warning': 2511, 'huge': 2512, 'marker': 2513, 'criticize': 2514, 'revolt': 2515, 'besides': 2516, 'sticking': 2517, 'heavy': 2518, 'reuters': 2519, 'complained': 2520, 'angry': 2521, 'blood': 2522, 'letting': 2523, 'conflict': 2524, 'experienced': 2525, 'breitbart': 2526, 'stephen': 2527, 'bannon': 2528, 'uber': 2529, 'vision': 2530, 'libertarianism': 2531, 'closely': 2532, 'heritage': 2533, 'pushing': 2534, 'adopt': 2535, 'opportunity': 2536, 'joined': 2537, 'calling': 2538, 'delay': 2539, 'selecting': 2540, 'typically': 2541, 'michael': 2542, 'hell': 2543, 'bend': 2544, 'echoed': 2545, 'sentiment': 2546, 'expressed': 2547, 'dilemma': 2548, 'stability': 2549, 'unleash': 2550, 'outrageous': 2551, 'stump': 2552, 'content': 2553, 'shutting': 2554, 'internal': 2555, 'seize': 2556, 'emerged': 2557, 'scene': 2558, 'budget': 2559, 'confirmed': 2560, 'shop': 2561, 'donna': 2562, 'semi': 2563, 'ironically': 2564, 'frozen': 2565, 'mask': 2566, 'shit': 2567, 'chooses': 2568, 'mobility': 2569, 'odd': 2570, 'class': 2571, 'block': 2572, 'family': 2573, 'pack': 2574, 'teaching': 2575, 'assistant': 2576, 'queen': 2577, 'meat': 2578, 'amazing': 2579, 'physic': 2580, 'spring': 2581, 'arab': 2582, 'persuade': 2583, 'catastrophic': 2584, 'humanitarian': 2585, 'moderate': 2586, 'fighter': 2587, 'maximum': 2588, 'commenting': 2589, 'saved': 2590, 'offering': 2591, 'tear': 2592, 'allegedly': 2593, 'youtube': 2594, 'local': 2595, 'resource': 2596, 'walk': 2597, 'fame': 2598, 'accompanied': 2599, 'happy': 2600, 'dad': 2601, 'airstrike': 2602, 'dealt': 2603, 'shortly': 2604, 'introduced': 2605, 'jpg': 2606, 'staff': 2607, 'shooting': 2608, 'doctor': 2609, 'behave': 2610, 'kid': 2611, 'cleaning': 2612, 'walking': 2613, 'wearing': 2614, 'troubled': 2615, 'thick': 2616, 'dark': 2617, 'staged': 2618, 'creator': 2619, 'tactic': 2620, 'wounded': 2621, 'star': 2622, 'journalist': 2623, 'mode': 2624, 'poster': 2625, 'omar': 2626, 'bird': 2627, 'photograph': 2628, 'confirm': 2629, 'suffer': 2630, 'nov': 2631, 'peer': 2632, 'stake': 2633, 'capital': 2634, 'lifestyle': 2635, 'boat': 2636, 'aspect': 2637, 'define': 2638, 'identity': 2639, 'honor': 2640, 'integrity': 2641, 'morality': 2642, 'connecting': 2643, 'authentic': 2644, 'sold': 2645, 'environment': 2646, 'understanding': 2647, 'referenced': 2648, 'celebrity': 2649, 'bureaucrat': 2650, 'mogul': 2651, 'connected': 2652, 'alike': 2653, 'fuck': 2654, 'entering': 2655, 'persuaded': 2656, 'seriously': 2657, 'labeled': 2658, 'conspiracy': 2659, 'theorist': 2660, 'stand': 2661, 'ensuring': 2662, 'unconscious': 2663, 'blind': 2664, 'ideology': 2665, 'status': 2666, 'quo': 2667, 'weak': 2668, 'existential': 2669, 'tide': 2670, 'awakening': 2671, 'ultimate': 2672, 'sham': 2673, 'organize': 2674, 'degree': 2675, 'evolution': 2676, 'culture': 2677, 'beacon': 2678, 'research': 2679, 'magic': 2680, 'connect': 2681, 'darkness': 2682, 'angle': 2683, 'north': 2684, 'australia': 2685, 'guest': 2686, 'visit': 2687, 'indicted': 2688, 'responds': 2689, 'scramble': 2690, 'infowars': 2691, 'alex': 2692, 'break': 2693, 'reopening': 2694, 'surface': 2695, 'huma': 2696, 'abedin': 2697, 'bureau': 2698, 'lawmaker': 2699, 'previous': 2700, 'testimony': 2701, 'referred': 2702, 'completed': 2703, 'supplement': 2704, 'unrelated': 2705, 'pertinent': 2706, 'inform': 2707, 'briefed': 2708, 'yesterday': 2709, 'determine': 2710, 'ass': 2711, 'importance': 2712, 'undoubtedly': 2713, 'spell': 2714, 'trouble': 2715, 'vowed': 2716, 'investigate': 2717, 'crew': 2718, 'related': 2719, 'focus': 2720, 'worker': 2721, 'guardian': 2722, 'rapid': 2723, 'damaging': 2724, 'serving': 2725, 'leaking': 2726, 'manafort': 2727, 'manager': 2728, 'preliminary': 2729, 'denied': 2730, 'wrongdoing': 2731, 'moreover': 2732, 'claimed': 2733, 'previously': 2734, 'tenure': 2735, 'belonging': 2736, 'estranged': 2737, 'eddie': 2738, 'file': 2739, 'marked': 2740, 'insurance': 2741, 'leaked': 2742, 'newly': 2743, 'discovered': 2744, 'switch': 2745, 'ordered': 2746, 'meanwhile': 2747, 'trail': 2748, 'weekend': 2749, 'warrant': 2750, 'initial': 2751, 'request': 2752, 'pumpkin': 2753, 'recipe': 2754, 'organic': 2755, 'traditional': 2756, 'coconut': 2757, 'sugar': 2758, 'interpretation': 2759, 'original': 2760, 'holiday': 2761, 'ahead': 2762, 'seed': 2763, 'balanced': 2764, 'juice': 2765, 'amount': 2766, 'add': 2767, 'similar': 2768, 'squash': 2769, 'iron': 2770, 'vitamin': 2771, 'fiber': 2772, 'substitute': 2773, 'wide': 2774, 'shape': 2775, 'round': 2776, 'skip': 2777, 'route': 2778, 'twenty': 2779, 'fill': 2780, 'smaller': 2781, 'recommend': 2782, 'pan': 2783, 'cool': 2784, 'correct': 2785, 'trader': 2786, 'century': 2787, 'asia': 2788, 'specie': 2789, 'monster': 2790, 'cooking': 2791, 'cousin': 2792, 'sweet': 2793, 'crossed': 2794, 'potato': 2795, 'skin': 2796, 'slightly': 2797, 'brilliant': 2798, 'orange': 2799, 'store': 2800, 'prep': 2801, 'filling': 2802, 'f': 2803, 'overnight': 2804, 'sharp': 2805, 'raw': 2806, 'strained': 2807, 'bean': 2808, 'extract': 2809, 'plus': 2810, 'extra': 2811, 'crystal': 2812, 'salt': 2813, 'instruction': 2814, 'preparing': 2815, 'drain': 2816, 'excess': 2817, 'combine': 2818, 'remaining': 2819, 'mix': 2820, 'ingredient': 2821, 'suit': 2822, 'remain': 2823, 'knife': 2824, 'crown': 2825, 'couple': 2826, 'inch': 2827, 'stem': 2828, 'circle': 2829, 'aside': 2830, 'slowly': 2831, 'replace': 2832, 'cook': 2833, 'flat': 2834, 'filled': 2835, 'eat': 2836, 'check': 2837, 'tip': 2838, 'hole': 2839, 'transfer': 2840, 'plate': 2841, 'glass': 2842, 'bowl': 2843, 'thin': 2844, 'slice': 2845, 'enjoy': 2846, 'difference': 2847, 'genetic': 2848, 'sink': 2849, 'wonder': 2850, 'ice': 2851, 'despair': 2852, 'usually': 2853, 'winter': 2854, 'officially': 2855, 'eaten': 2856, 'fda': 2857, 'deciding': 2858, 'reference': 2859, 'web': 2860, 'oct': 2861, 'reply': 2862, 'frank': 2863, 'draw': 2864, 'surprising': 2865, 'reading': 2866, 'mad': 2867, 'nearby': 2868, 'naturally': 2869, 'illusion': 2870, 'alert': 2871, 'identifying': 2872, 'spiritual': 2873, 'seeker': 2874, 'outraged': 2875, 'captive': 2876, 'declare': 2877, 'beautiful': 2878, 'landscape': 2879, 'art': 2880, 'music': 2881, 'identification': 2882, 'instant': 2883, 'depend': 2884, 'realistic': 2885, 'identify': 2886, 'deeper': 2887, 'isolated': 2888, 'common': 2889, 'method': 2890, 'alarm': 2891, 'objective': 2892, 'ideal': 2893, 'ambition': 2894, 'confirms': 2895, 'rooted': 2896, 'sleeping': 2897, 'dimension': 2898, 'identified': 2899, 'ocean': 2900, 'missing': 2901, 'generate': 2902, 'safely': 2903, 'emerges': 2904, 'remembers': 2905, 'origin': 2906, 'memory': 2907, 'ancient': 2908, 'quiet': 2909, 'recognition': 2910, 'insisting': 2911, 'independence': 2912, 'intensity': 2913, 'sf': 2914, 'jim': 2915, 'willie': 2916, 'download': 2917, 'broken': 2918, 'edition': 2919, 'silver': 2920, 'dr': 2921, 'miss': 2922, 'pakistan': 2923, 'khan': 2924, 'ap': 2925, 'youth': 2926, 'convention': 2927, 'protest': 2928, 'uniform': 2929, 'beating': 2930, 'leading': 2931, 'detained': 2932, 'bus': 2933, 'arrived': 2934, 'quoted': 2935, 'spokeswoman': 2936, 'raid': 2937, 'enforcing': 2938, 'administrator': 2939, 'five': 2940, 'banned': 2941, 'prime': 2942, 'wave': 2943, 'rally': 2944, 'summer': 2945, 'parliament': 2946, 'insisted': 2947, 'offer': 2948, 'shady': 2949, 'included': 2950, 'tax': 2951, 'offshore': 2952, 'estate': 2953, 'property': 2954, 'denies': 2955, 'income': 2956, 'loading': 2957, 'fort': 2958, 'translated': 2959, 'welcomed': 2960, 'despite': 2961, 'process': 2962, 'federation': 2963, 'interfering': 2964, 'crimea': 2965, 'differently': 2966, 'polling': 2967, 'prevented': 2968, 'formation': 2969, 'radically': 2970, 'remarked': 2971, 'anxiety': 2972, 'kiev': 2973, 'cautious': 2974, 'optimistic': 2975, 'resist': 2976, 'suggested': 2977, 'signal': 2978, 'attitude': 2979, 'ukrainian': 2980, 'fatally': 2981, 'shot': 2982, 'sputnik': 2983, 'impeachment': 2984, 'violated': 2985, 'stage': 2986, 'parliamentary': 2987, 'coup': 2988, 'gunshot': 2989, 'tended': 2990, 'los': 2991, 'clinic': 2992, 'el': 2993, 'initiated': 2994, 'scale': 2995, 'protester': 2996, 'http': 2997, 'increased': 2998, 'autism': 2999, 'infant': 3000, 'prevention': 3001, 'cdc': 3002, 'html': 3003, 'conducted': 3004, 'male': 3005, 'sample': 3006, 'fraudulent': 3007, 'nonprofit': 3008, 'raising': 3009, 'broke': 3010, 'whistleblower': 3011, 'anonymity': 3012, 'william': 3013, 'thompson': 3014, 'father': 3015, 'induced': 3016, 'dating': 3017, 'treatment': 3018, 'men': 3019, 'reviewed': 3020, 'intentionally': 3021, 'significantly': 3022, 'increase': 3023, 'particularly': 3024, 'lowest': 3025, 'bold': 3026, 'engaged': 3027, 'falsely': 3028, 'scientific': 3029, 'exact': 3030, 'opposite': 3031, 'explains': 3032, 'seeking': 3033, 'scott': 3034, 'hypothesis': 3035, 'receive': 3036, 'infection': 3037, 'measles': 3038, 'safety': 3039, 'scientist': 3040, 'knew': 3041, 'younger': 3042, 'exposure': 3043, 'associated': 3044, 'jonathan': 3045, 'jail': 3046, 'migrant': 3047, 'dumped': 3048, 'baby': 3049, 'road': 3050, 'norm': 3051, 'raped': 3052, 'asylum': 3053, 'furious': 3054, 'thrown': 3055, 'centre': 3056, 'grabbed': 3057, 'busy': 3058, 'suspended': 3059, 'sentence': 3060, 'vienna': 3061, 'drunk': 3062, 'beer': 3063, 'flew': 3064, 'rage': 3065, 'daughter': 3066, 'ran': 3067, 'traffic': 3068, 'lane': 3069, 'lawyer': 3070, 'heard': 3071, 'necessity': 3072, 'discussed': 3073, 'assert': 3074, 'weight': 3075, 'employee': 3076, 'closure': 3077, 'concerned': 3078, 'prosecutor': 3079, 'stunning': 3080, 'shocked': 3081, 'criminality': 3082, 'assange': 3083, 'represented': 3084, 'julian': 3085, 'suicide': 3086, 'jumped': 3087, 'possibility': 3088, 'suspicious': 3089, 'whistle': 3090, 'mystery': 3091, 'sued': 3092, 'sitting': 3093, 'w': 3094, 'terrible': 3095, 'trial': 3096, 'aaron': 3097, 'klein': 3098, 'demonstrated': 3099, 'sending': 3100, 'travel': 3101, 'ambassador': 3102, 'stevens': 3103, 'prior': 3104, 'dave': 3105, 'somebody': 3106, 'congressman': 3107, 'counsel': 3108, 'kenneth': 3109, 'scared': 3110, 'vince': 3111, 'foster': 3112, 'mentioned': 3113, 'affair': 3114, 'sexting': 3115, 'inappropriate': 3116, 'nail': 3117, 'indicated': 3118, 'concerning': 3119, 'damning': 3120, 'nypd': 3121, 'intense': 3122, 'avoid': 3123, 'airplane': 3124, 'immediate': 3125, 'laughing': 3126, 'mirror': 3127, 'lease': 3128, 'storage': 3129, 'hodges': 3130, 'satisfied': 3131, 'wait': 3132, 'late': 3133, 'censorship': 3134, 'spying': 3135, 'donor': 3136, 'barack': 3137, 'hussein': 3138, 'focused': 3139, 'patriot': 3140, 'indicating': 3141, 'region': 3142, 'accuse': 3143, 'isil': 3144, 'radical': 3145, 'sunni': 3146, 'citing': 3147, 'arguing': 3148, 'differ': 3149, 'argues': 3150, 'largest': 3151, 'coincidence': 3152, 'correspondence': 3153, 'meeting': 3154, 'birthday': 3155, 'occupying': 3156, 'peninsula': 3157, 'welcome': 3158, 'suggestion': 3159, 'investment': 3160, 'dot': 3161, 'generous': 3162, 'bolster': 3163, 'blowing': 3164, 'allows': 3165, 'profit': 3166, 'choosing': 3167, 'eliminating': 3168, 'arrested': 3169, 'praise': 3170, 'allah': 3171, 'volume': 3172, 'emergency': 3173, 'considers': 3174, 'darling': 3175, 'seized': 3176, 'disclose': 3177, 'golden': 3178, 'considering': 3179, 'telling': 3180, 'doj': 3181, 'saturday': 3182, 'wake': 3183, 'dramatic': 3184, 'bombshell': 3185, 'breathe': 3186, 'sought': 3187, 'announcing': 3188, 'probe': 3189, 'oversight': 3190, 'jason': 3191, 'chaffetz': 3192, 'utah': 3193, 'recess': 3194, 'briefing': 3195, 'raised': 3196, 'sen': 3197, 'ron': 3198, 'johnson': 3199, 'wi': 3200, 'senate': 3201, 'homeland': 3202, 'pray': 3203, 'firework': 3204, 'indictment': 3205, 'wind': 3206, 'tim': 3207, 'kaine': 3208, 'slide': 3209, 'bull': 3210, 'dog': 3211, 'faced': 3212, 'lifetime': 3213, 'hamilton': 3214, 'owns': 3215, 'net': 3216, 'constitutional': 3217, 'oliver': 3218, 'increasingly': 3219, 'tonight': 3220, 'encouraged': 3221, 'seeing': 3222, 'swing': 3223, 'mitt': 3224, 'romney': 3225, 'carolina': 3226, 'tomorrow': 3227, 'ballot': 3228, 'fortunately': 3229, 'casting': 3230, 'sunday': 3231, 'sheer': 3232, 'tougher': 3233, 'absentee': 3234, 'percentage': 3235, 'roughly': 3236, 'enjoyed': 3237, 'monday': 3238, 'updated': 3239, 'smiling': 3240, 'hispanic': 3241, 'compared': 3242, 'fueled': 3243, 'dislike': 3244, 'miami': 3245, 'university': 3246, 'professor': 3247, 'sat': 3248, 'sideline': 3249, 'map': 3250, 'expectation': 3251, 'reveal': 3252, 'unfortunately': 3253, 'denver': 3254, 'robust': 3255, 'red': 3256, 'shifted': 3257, 'direction': 3258, 'requested': 3259, 'crossing': 3260, 'enormous': 3261, 'enthusiastic': 3262, 'height': 3263, 'pic': 3264, 'strategist': 3265, 'cnn': 3266, 'longtime': 3267, 'weaver': 3268, 'unpopular': 3269, 'publicly': 3270, 'canceled': 3271, 'pivotal': 3272, 'mercy': 3273, 'tag': 3274, 'debt': 3275, 'pain': 3276, 'category': 3277, 'lower': 3278, 'yield': 3279, 'gm': 3280, 'mustard': 3281, 'india': 3282, 'genetically': 3283, 'modified': 3284, 'crop': 3285, 'hide': 3286, 'background': 3287, 'hybrid': 3288, 'developer': 3289, 'chemical': 3290, 'manufacturer': 3291, 'horse': 3292, 'advised': 3293, 'allowing': 3294, 'constitutes': 3295, 'regulatory': 3296, 'compliance': 3297, 'forced': 3298, 'agriculture': 3299, 'farm': 3300, 'contribute': 3301, 'agricultural': 3302, 'diet': 3303, 'safeguard': 3304, 'hidden': 3305, 'release': 3306, 'opposes': 3307, 'filed': 3308, 'union': 3309, 'organisation': 3310, 'contained': 3311, 'admission': 3312, 'engineering': 3313, 'submitted': 3314, 'clearly': 3315, 'recorded': 3316, 'includes': 3317, 'tested': 3318, 'essential': 3319, 'assessment': 3320, 'protocol': 3321, 'reduce': 3322, 'implicit': 3323, 'farmer': 3324, 'overcome': 3325, 'palm': 3326, 'tariff': 3327, 'influx': 3328, 'cheap': 3329, 'deliberate': 3330, 'effectively': 3331, 'devastated': 3332, 'served': 3333, 'commodity': 3334, 'indian': 3335, 'twisted': 3336, 'introduction': 3337, 'constitute': 3338, 'cynical': 3339, 'entry': 3340, 'comparison': 3341, 'respectively': 3342, 'technically': 3343, 'regulator': 3344, 'grass': 3345, 'foot': 3346, 'implication': 3347, 'trait': 3348, 'bar': 3349, 'gene': 3350, 'specifically': 3351, 'testing': 3352, 'ii': 3353, 'rape': 3354, 'mo': 3355, 'spokesperson': 3356, 'careful': 3357, 'labor': 3358, 'liability': 3359, 'strict': 3360, 'destroying': 3361, 'altogether': 3362, 'tent': 3363, 'bargain': 3364, 'glen': 3365, 'ford': 3366, 'woo': 3367, 'loose': 3368, 'gather': 3369, 'ruling': 3370, 'banner': 3371, 'achieved': 3372, 'aisle': 3373, 'exodus': 3374, 'transformed': 3375, 'ball': 3376, 'unexpected': 3377, 'gore': 3378, 'relentless': 3379, 'southern': 3380, 'steady': 3381, 'rev': 3382, 'jesse': 3383, 'strengthening': 3384, 'calculation': 3385, 'moved': 3386, 'narrow': 3387, 'ideological': 3388, 'duopoly': 3389, 'ronald': 3390, 'reagan': 3391, 'welfare': 3392, 'incarceration': 3393, 'nafta': 3394, 'objection': 3395, 'engineered': 3396, 'removed': 3397, 'arranged': 3398, 'deployment': 3399, 'jihadist': 3400, 'doctrine': 3401, 'partially': 3402, 'socialist': 3403, 'operational': 3404, 'africa': 3405, 'setting': 3406, 'membership': 3407, 'backing': 3408, 'january': 3409, 'oath': 3410, 'editorial': 3411, 'medicare': 3412, 'cutting': 3413, 'legacy': 3414, 'scheme': 3415, 'adopted': 3416, 'bob': 3417, 'dole': 3418, 'massachusetts': 3419, 'governor': 3420, 'affordable': 3421, 'constructed': 3422, 'mortgage': 3423, 'begging': 3424, 'mood': 3425, 'maneuver': 3426, 'targeted': 3427, 'trap': 3428, 'alan': 3429, 'simpson': 3430, 'commission': 3431, 'deficit': 3432, 'reduction': 3433, 'recommended': 3434, 'trillion': 3435, 'endorse': 3436, 'recommendation': 3437, 'formula': 3438, 'hoped': 3439, 'bipartisan': 3440, 'minority': 3441, 'massacre': 3442, 'emanuel': 3443, 'kansa': 3444, 'sandwich': 3445, 'pursue': 3446, 'marriage': 3447, 'reelection': 3448, 'clock': 3449, 'halt': 3450, 'spectacle': 3451, 'facto': 3452, 'super': 3453, 'quest': 3454, 'distinction': 3455, 'sequestration': 3456, 'austerity': 3457, 'institutional': 3458, 'crafted': 3459, 'importantly': 3460, 'organizing': 3461, 'hug': 3462, 'racism': 3463, 'banker': 3464, 'morgan': 3465, 'stanley': 3466, 'debacle': 3467, 'framework': 3468, 'element': 3469, 'deplorables': 3470, 'reluctance': 3471, 'inherent': 3472, 'dependent': 3473, 'inherently': 3474, 'unstable': 3475, 'arrangement': 3476, 'season': 3477, 'govern': 3478, 'folk': 3479, 'abused': 3480, 'cat': 3481, 'constituency': 3482, 'interim': 3483, 'unique': 3484, 'wage': 3485, 'suspect': 3486, 'inclusive': 3487, 'session': 3488, 'contacted': 3489, 'plant': 3490, 'young': 3491, 'seemingly': 3492, 'walked': 3493, 'unable': 3494, 'laughter': 3495, 'okay': 3496, 'camera': 3497, 'dea': 3498, 'prescription': 3499, 'drop': 3500, 'protects': 3501, 'pharma': 3502, 'fuel': 3503, 'opioid': 3504, 'claire': 3505, 'pharmaceutical': 3506, 'preventing': 3507, 'medication': 3508, 'legislator': 3509, 'protection': 3510, 'listen': 3511, 'motive': 3512, 'legislative': 3513, 'guideline': 3514, 'reducing': 3515, 'heroin': 3516, 'discipline': 3517, 'unusually': 3518, 'criticized': 3519, 'double': 3520, 'vowing': 3521, 'epidemic': 3522, 'behalf': 3523, 'insight': 3524, 'tasked': 3525, 'inspection': 3526, 'threshold': 3527, 'legislation': 3528, 'comprehensive': 3529, 'recovery': 3530, 'controversy': 3531, 'erupted': 3532, 'patch': 3533, 'sharply': 3534, 'empty': 3535, 'aggressive': 3536, 'rein': 3537, 'pill': 3538, 'mill': 3539, 'headed': 3540, 'filing': 3541, 'lawsuit': 3542, 'proliferation': 3543, 'disproportionately': 3544, 'fearing': 3545, 'fought': 3546, 'unnamed': 3547, 'patient': 3548, 'effective': 3549, 'healthcare': 3550, 'representing': 3551, 'lobbying': 3552, 'staffer': 3553, 'conference': 3554, 'recalled': 3555, 'pass': 3556, 'suspension': 3557, 'stunned': 3558, 'successful': 3559, 'bite': 3560, 'estimated': 3561, 'gift': 3562, 'passed': 3563, 'uncertain': 3564, 'regulate': 3565, 'overwhelmingly': 3566, 'extends': 3567, 'simple': 3568, 'coordinating': 3569, 'tool': 3570, 'limiting': 3571, 'burwell': 3572, 'panel': 3573, 'asserted': 3574, 'greatly': 3575, 'influential': 3576, 'conscience': 3577, 'talked': 3578, 'anybody': 3579, 'horrible': 3580, 'tragedy': 3581, 'sit': 3582, 'parent': 3583, 'illicit': 3584, 'marketplace': 3585, 'google': 3586, 'fate': 3587, 'somewhere': 3588, 'disgusting': 3589, 'notice': 3590, 'rep': 3591, 'attractive': 3592, 'accessible': 3593, 'door': 3594, 'fast': 3595, 'shareholder': 3596, 'demand': 3597, 'www': 3598, 'eventual': 3599, 'demise': 3600, 'cost': 3601, 'disturbing': 3602, 'chose': 3603, 'scream': 3604, 'assertion': 3605, 'maybe': 3606, 'uploads': 3607, 'canadian': 3608, 'expense': 3609, 'canada': 3610, 'stewart': 3611, 'finally': 3612, 'lewd': 3613, 'locker': 3614, 'billy': 3615, 'pacific': 3616, 'asian': 3617, 'arctic': 3618, 'established': 3619, 'develop': 3620, 'preserve': 3621, 'initially': 3622, 'denmark': 3623, 'norway': 3624, 'sweden': 3625, 'granted': 3626, 'capacity': 3627, 'vast': 3628, 'marine': 3629, 'render': 3630, 'valuable': 3631, 'assistance': 3632, 'lately': 3633, 'transport': 3634, 'corridor': 3635, 'address': 3636, 'stone': 3637, 'growth': 3638, 'broader': 3639, 'atlantic': 3640, 'ship': 3641, 'cargo': 3642, 'pirate': 3643, 'shipping': 3644, 'doubled': 3645, 'tense': 3646, 'territorial': 3647, 'dispute': 3648, 'retain': 3649, 'navigation': 3650, 'relatively': 3651, 'passage': 3652, 'mentioning': 3653, 'circumstance': 3654, 'participate': 3655, 'employ': 3656, 'us': 3657, 'manufactured': 3658, 'port': 3659, 'engagement': 3660, 'willing': 3661, 'beginning': 3662, 'curious': 3663, 'delivers': 3664, 'monitoring': 3665, 'developing': 3666, 'rival': 3667, 'netherlands': 3668, 'remains': 3669, 'adequate': 3670, 'terminal': 3671, 'accommodate': 3672, 'hopeful': 3673, 'prospective': 3674, 'participating': 3675, 'strategic': 3676, 'concentration': 3677, 'facility': 3678, 'transportation': 3679, 'hub': 3680, 'signed': 3681, 'contract': 3682, 'island': 3683, 'anticipated': 3684, 'exceed': 3685, 'ton': 3686, 'profound': 3687, 'invest': 3688, 'joint': 3689, 'enterprise': 3690, 'paying': 3691, 'ruble': 3692, 'interested': 3693, 'gaining': 3694, 'placing': 3695, 'attract': 3696, 'accuracy': 3697, 'taylor': 3698, 'assure': 3699, 'describes': 3700, 'latin': 3701, 'mexico': 3702, 'student': 3703, 'concentrate': 3704, 'offered': 3705, 'college': 3706, 'admits': 3707, 'surplus': 3708, 'requiring': 3709, 'bailout': 3710, 'bail': 3711, 'loan': 3712, 'monetary': 3713, 'creation': 3714, 'involving': 3715, 'june': 3716, 'summit': 3717, 'integrated': 3718, 'annually': 3719, 'establish': 3720, 'concert': 3721, 'regional': 3722, 'annual': 3723, 'colombian': 3724, 'communist': 3725, 'colombia': 3726, 'implement': 3727, 'sustainable': 3728, 'representative': 3729, 'approval': 3730, 'interestingly': 3731, 'disclosure': 3732, 'consultant': 3733, 'catholic': 3734, 'georgetown': 3735, 'pope': 3736, 'francis': 3737, 'jesuit': 3738, 'picked': 3739, 'globe': 3740, 'partnership': 3741, 'poverty': 3742, 'transform': 3743, 'patrick': 3744, 'wood': 3745, 'rising': 3746, 'transformation': 3747, 'replacement': 3748, 'capitalism': 3749, 'revenue': 3750, 'link': 3751, 'electronic': 3752, 'object': 3753, 'accomplish': 3754, 'understood': 3755, 'perfectly': 3756, 'database': 3757, 'monitor': 3758, 'slavery': 3759, 'warns': 3760, 'archive': 3761, 'palestinian': 3762, 'writer': 3763, 'drama': 3764, 'greek': 3765, 'myth': 3766, 'mixed': 3767, 'actor': 3768, 'performance': 3769, 'classic': 3770, 'text': 3771, 'language': 3772, 'village': 3773, 'brings': 3774, 'edge': 3775, 'occupation': 3776, 'teen': 3777, 'atmosphere': 3778, 'saddam': 3779, 'square': 3780, 'baghdad': 3781, 'israel': 3782, 'dylan': 3783, 'drive': 3784, 'israeli': 3785, 'fundamental': 3786, 'strength': 3787, 'beaten': 3788, 'drawn': 3789, 'speculation': 3790, 'laura': 3791, 'pizza': 3792, 'rescued': 3793, 'reddit': 3794, 'convicted': 3795, 'refuge': 3796, 'trafficking': 3797, 'cross': 3798, 'freed': 3799, 'king': 3800, 'harvard': 3801, 'placement': 3802, 'disrupt': 3803, 'sentenced': 3804, 'alien': 3805, 'jeffrey': 3806, 'epstein': 3807, 'mike': 3808, 'till': 3809, 'application': 3810, 'grew': 3811, 'stranger': 3812, 'h': 3813, 'anonymous': 3814, 'sick': 3815, 'hawaii': 3816, 'l': 3817, 'handled': 3818, 'instinct': 3819, 'dealer': 3820, 'minor': 3821, 'jet': 3822, 'express': 3823, 'inner': 3824, 'deserves': 3825, 'scrutiny': 3826, 'trip': 3827, 'confirmation': 3828, 'monopoly': 3829, 'warner': 3830, 'feared': 3831, 'merger': 3832, 'competitor': 3833, 'crushing': 3834, 'demonstrates': 3835, 'takeover': 3836, 'promote': 3837, 'removing': 3838, 'launch': 3839, 'cartel': 3840, 'dominated': 3841, 'operate': 3842, 'radio': 3843, 'obtain': 3844, 'fee': 3845, 'similarly': 3846, 'comply': 3847, 'shut': 3848, 'anxious': 3849, 'afford': 3850, 'hire': 3851, 'strengthened': 3852, 'brick': 3853, 'retailer': 3854, 'acquisition': 3855, 'famous': 3856, 'fed': 3857, 'enable': 3858, 'higher': 3859, 'tilt': 3860, 'crony': 3861, 'excessive': 3862, 'boom': 3863, 'bust': 3864, 'ending': 3865, 'seek': 3866, 'abandon': 3867, 'korean': 3868, 'test': 3869, 'satellite': 3870, 'fifth': 3871, 'defiance': 3872, 'lone': 3873, 'involve': 3874, 'resume': 3875, 'sensitive': 3876, 'clapper': 3877, 'signing': 3878, 'amid': 3879, 'ruler': 3880, 'plagued': 3881, 'landmark': 3882, 'resolve': 3883, 'trunews': 3884, 'rick': 3885, 'monthly': 3886, 'provides': 3887, 'worldwide': 3888, 'church': 3889, 'bigotry': 3890, 'ta': 3891, 'proposal': 3892, 'aboard': 3893, 'expects': 3894, 'rational': 3895, 'unit': 3896, 'intended': 3897, 'outer': 3898, 'segment': 3899, 'bid': 3900, 'approved': 3901, 'flight': 3902, 'contractor': 3903, 'forum': 3904, 'display': 3905, 'powered': 3906, 'slogan': 3907, 'constant': 3908, 'retreat': 3909, 'rand': 3910, 'seven': 3911, 'town': 3912, 'clothes': 3913, 'hurricane': 3914, 'matthew': 3915, 'debating': 3916, 'undecided': 3917, 'dissent': 3918, 'racist': 3919, 'sexist': 3920, 'patriotic': 3921, 'mandatory': 3922, 'capture': 3923, 'visiting': 3924, 'hiroshima': 3925, 'friendly': 3926, 'flop': 3927, 'son': 3928, 'orlando': 3929, 'transcript': 3930, 'shooter': 3931, 'pledged': 3932, 'allegiance': 3933, 'nra': 3934, 'promotes': 3935, 'threatens': 3936, 'parenthood': 3937, 'aclu': 3938, 'select': 3939, 'airline': 3940, 'tsa': 3941, 'transition': 3942, 'kasich': 3943, 'bathroom': 3944, 'foxnews': 3945, 'sponsored': 3946, 'pledge': 3947, 'suggests': 3948, 'delegate': 3949, 'wyoming': 3950, 'ted': 3951, 'cruz': 3952, 'basement': 3953, 'vow': 3954, 'replaced': 3955, 'gun': 3956, 'airport': 3957, 'cuba': 3958, 'communism': 3959, 'proposes': 3960, 'execute': 3961, 'susan': 3962, 'hampshire': 3963, 'martin': 3964, 'malley': 3965, 'race': 3966, 'iowa': 3967, 'dumb': 3968, 'accusation': 3969, 'smoking': 3970, 'firing': 3971, 'realizing': 3972, 'difficulty': 3973, 'wild': 3974, 'jihad': 3975, 'urge': 3976, 'owner': 3977, 'firearm': 3978, 'horror': 3979, 'charlie': 3980, 'christmas': 3981, 'mohammed': 3982, 'cartoon': 3983, 'burn': 3984, 'trend': 3985, 'paris': 3986, 'researcher': 3987, 'cultural': 3988, 'appropriation': 3989, 'quit': 3990, 'discovery': 3991, 'discover': 3992, 'immigration': 3993, 'screening': 3994, 'subsidy': 3995, 'electricity': 3996, 'improve': 3997, 'replacing': 3998, 'nasa': 3999, 'sexism': 4000, 'inequality': 4001, 'suffers': 4002, 'gender': 4003, 'squad': 4004, 'humor': 4005, 'chart': 4006, 'joke': 4007, 'laughed': 4008, 'depressed': 4009, 'county': 4010, 'teacher': 4011, 'asks': 4012, 'arabic': 4013, 'wear': 4014, 'spontaneous': 4015, 'classmate': 4016, 'lunch': 4017, 'regain': 4018, 'impressed': 4019, 'tough': 4020, 'socialism': 4021, 'accepts': 4022, 'award': 4023, 'surveillance': 4024, 'horizon': 4025, 'acquire': 4026, 'prof': 4027, 'particle': 4028, 'buck': 4029, 'ordinary': 4030, 'negotiator': 4031, 'leg': 4032, 'negotiation': 4033, 'junior': 4034, 'ramadi': 4035, 'advance': 4036, 'pool': 4037, 'ny': 4038, 'mayor': 4039, 'cowboy': 4040, 'diplomacy': 4041, 'shaped': 4042, 'intellectual': 4043, 'copy': 4044, 'slave': 4045, 'met': 4046, 'prompt': 4047, 'hashtag': 4048, 'reset': 4049, 'hebdo': 4050, 'sends': 4051, 'convenience': 4052, 'racial': 4053, 'sue': 4054, 'demanding': 4055, 'protesting': 4056, 'normalization': 4057, 'tourist': 4058, 'cuban': 4059, 'outspoken': 4060, 'learning': 4061, 'dirty': 4062, 'dallas': 4063, 'basketball': 4064, 'threw': 4065, 'arena': 4066, 'row': 4067, 'broadcaster': 4068, 'rumor': 4069, 'stance': 4070, 'ticket': 4071, 'penny': 4072, 'buying': 4073, 'gon': 4074, 'na': 4075, 'adult': 4076, 'gotten': 4077, 'viewpoint': 4078, 'sport': 4079, 'typical': 4080, 'hatred': 4081, 'daniel': 4082, 'unfavorable': 4083, 'plague': 4084, 'osama': 4085, 'bin': 4086, 'laden': 4087, 'feminist': 4088, 'awkward': 4089, 'badly': 4090, 'joy': 4091, 'stalin': 4092, 'truck': 4093, 'oh': 4094, 'stepped': 4095, 'lady': 4096, 'arkansas': 4097, 'offended': 4098, 'theme': 4099, 'deny': 4100, 'label': 4101, 'stuck': 4102, 'politifact': 4103, 'respected': 4104, 'certified': 4105, 'shouted': 4106, 'unclear': 4107, 'invoked': 4108, 'handling': 4109, 'material': 4110, 'blackberry': 4111, 'proportion': 4112, 'opponent': 4113, 'oxygen': 4114, 'tone': 4115, 'wrapped': 4116, 'frustrated': 4117, 'complexity': 4118, 'hedge': 4119, 'homicide': 4120, 'slow': 4121, 'recording': 4122, 'tribune': 4123, 'spike': 4124, 'memorial': 4125, 'webster': 4126, 'grade': 4127, 'principal': 4128, 'recruited': 4129, 'naacp': 4130, 'twin': 4131, 'edward': 4132, 'responding': 4133, 'gunfire': 4134, 'sidewalk': 4135, 'avenue': 4136, 'documented': 4137, 'affiliation': 4138, 'guard': 4139, 'deployed': 4140, 'neighborhood': 4141, 'repeat': 4142, 'offender': 4143, 'cub': 4144, 'shift': 4145, 'confident': 4146, 'occur': 4147, 'privacy': 4148, 'watchdog': 4149, 'kirby': 4150, 'hacker': 4151, 'insist': 4152, 'tackle': 4153, 'interior': 4154, 'collect': 4155, 'exempt': 4156, 'colour': 4157, 'administrative': 4158, 'register': 4159, 'jean': 4160, 'kurd': 4161, 'kurdish': 4162, 'ypg': 4163, 'turkish': 4164, 'raqqa': 4165, 'toward': 4166, 'river': 4167, 'laying': 4168, 'clash': 4169, 'allied': 4170, 'turk': 4171, 'religious': 4172, 'insurgency': 4173, 'intends': 4174, 'physically': 4175, 'unite': 4176, 'warned': 4177, 'northeast': 4178, 'feud': 4179, 'grow': 4180, 'confusing': 4181, 'somewhat': 4182, 'knocking': 4183, 'palace': 4184, 'wherever': 4185, 'gained': 4186, 'tracking': 4187, 'shrinking': 4188, 'libertarian': 4189, 'gary': 4190, 'survey': 4191, 'v': 4192, 'contest': 4193, 'leaning': 4194, 'boost': 4195, 'margin': 4196, 'consistent': 4197, 'meet': 4198, 'headquarters': 4199, 'september': 4200, 'switzerland': 4201, 'mediterranean': 4202, 'lake': 4203, 'geneva': 4204, 'envoy': 4205, 'cyprus': 4206, 'outstanding': 4207, 'phase': 4208, 'commitment': 4209, 'settlement': 4210, 'unify': 4211, 'greece': 4212, 'ankara': 4213, 'soldier': 4214, 'enjoys': 4215, 'halloween': 4216, 'witch': 4217, 'celebrate': 4218, 'st': 4219, 'dress': 4220, 'costume': 4221, 'sacrifice': 4222, 'animal': 4223, 'shelter': 4224, 'adoption': 4225, 'trick': 4226, 'jack': 4227, 'festival': 4228, 'retail': 4229, 'analytics': 4230, 'celebration': 4231, 'tremendous': 4232, 'lord': 4233, 'spirit': 4234, 'escape': 4235, 'sun': 4236, 'calendar': 4237, 'wheel': 4238, 'subsequently': 4239, 'pronounced': 4240, 'sam': 4241, 'temporarily': 4242, 'communicating': 4243, 'ancestor': 4244, 'aged': 4245, 'practitioner': 4246, 'lit': 4247, 'guide': 4248, 'protective': 4249, 'pulling': 4250, 'traveling': 4251, 'ghost': 4252, 'wore': 4253, 'straw': 4254, 'paragraph': 4255, 'evolved': 4256, 'fastest': 4257, 'conduct': 4258, 'ritual': 4259, 'wikipedia': 4260, 'sacred': 4261, 'physical': 4262, 'healing': 4263, 'describe': 4264, 'instance': 4265, 'hair': 4266, 'wisdom': 4267, 'angeles': 4268, 'nelson': 4269, 'ex': 4270, 'mormon': 4271, 'worship': 4272, 'barely': 4273, 'grace': 4274, 'jesus': 4275, 'christ': 4276, 'smile': 4277, 'brief': 4278, 'ranging': 4279, 'tribe': 4280, 'shake': 4281, 'examining': 4282, 'eve': 4283, 'bible': 4284, 'pastor': 4285, 'invite': 4286, 'neighbor': 4287, 'judgment': 4288, 'attendance': 4289, 'gospel': 4290, 'celebrating': 4291, 'warn': 4292, 'revolution': 4293, 'electorate': 4294, 'resounding': 4295, 'bay': 4296, 'capitol': 4297, 'belong': 4298, 'roger': 4299, 'riot': 4300, 'compromise': 4301, 'whatsoever': 4302, 'stronger': 4303, 'rough': 4304, 'driver': 4305, 'depending': 4306, 'lived': 4307, 'flame': 4308, 'nut': 4309, 'hero': 4310, 'timothy': 4311, 'loaded': 4312, 'oklahoma': 4313, 'featured': 4314, 'pb': 4315, 'atlanta': 4316, 'literature': 4317, 'info': 4318, 'cellphone': 4319, 'household': 4320, 'purely': 4321, 'metadata': 4322, 'incredibly': 4323, 'enabled': 4324, 'nsa': 4325, 'collecting': 4326, 'coordinate': 4327, 'unusual': 4328, 'communicate': 4329, 'leaf': 4330, 'revealing': 4331, 'snowden': 4332, 'employer': 4333, 'cyber': 4334, 'division': 4335, 'enacted': 4336, 'flee': 4337, 'transparency': 4338, 'census': 4339, 'perpetrator': 4340, 'slaughtered': 4341, 'collaboration': 4342, 'dedicated': 4343, 'interesting': 4344, 'childhood': 4345, 'spy': 4346, 'graduated': 4347, 'german': 4348, 'friendship': 4349, 'married': 4350, 'mary': 4351, 'goat': 4352, 'master': 4353, 'ussr': 4354, 'coach': 4355, 'devoted': 4356, 'practical': 4357, 'training': 4358, 'defeat': 4359, 'illuminati': 4360, 'afraid': 4361, 'notorious': 4362, 'prosperity': 4363, 'jacob': 4364, 'alive': 4365, 'oligarch': 4366, 'mafia': 4367, 'realm': 4368, 'lay': 4369, 'garden': 4370, 'unemployed': 4371, 'punishment': 4372, 'hanging': 4373, 'tribal': 4374, 'depends': 4375, 'lung': 4376, 'resident': 4377, 'strip': 4378, 'license': 4379, 'exploit': 4380, 'neighboring': 4381, 'blocked': 4382, 'demanded': 4383, 'satisfy': 4384, 'extending': 4385, 'responded': 4386, 'santa': 4387, 'jungle': 4388, 'clearing': 4389, 'april': 4390, 'landing': 4391, 'acre': 4392, 'export': 4393, 'juan': 4394, 'authored': 4395, 'highlight': 4396, 'ethnicity': 4397, 'rural': 4398, 'subsequent': 4399, 'coffee': 4400, 'barred': 4401, 'permit': 4402, 'negotiate': 4403, 'implemented': 4404, 'governmental': 4405, 'displaced': 4406, 'negotiated': 4407, 'disappointed': 4408, 'proposed': 4409, 'purchasing': 4410, 'contaminated': 4411, 'precious': 4412, 'decrease': 4413, 'solar': 4414, 'marched': 4415, 'rob': 4416, 'blocking': 4417, 'listening': 4418, 'concede': 4419, 'passing': 4420, 'conceded': 4421, 'tower': 4422, 'idaho': 4423, 'nervous': 4424, 'watching': 4425, 'damn': 4426, 'chris': 4427, 'christie': 4428, 'jeb': 4429, 'spoke': 4430, 'thrilled': 4431, 'notify': 4432, 'proceed': 4433, 'solve': 4434, 'math': 4435, 'doom': 4436, 'twice': 4437, 'weld': 4438, 'counted': 4439, 'checked': 4440, 'teach': 4441, 'spanish': 4442, 'caller': 4443, 'attending': 4444, 'repeal': 4445, 'requirement': 4446, 'english': 4447, 'proposition': 4448, 'measure': 4449, 'immigrant': 4450, 'poised': 4451, 'reverse': 4452, 'competitive': 4453, 'returning': 4454, 'favorable': 4455, 'emphasize': 4456, 'thrust': 4457, 'easier': 4458, 'taught': 4459, 'truthfeed': 4460, 'amy': 4461, 'moreno': 4462, 'biased': 4463, 'smell': 4464, 'loretta': 4465, 'lynch': 4466, 'outsider': 4467, 'resistance': 4468, 'lover': 4469, 'throne': 4470, 'posed': 4471, 'gordon': 4472, 'bilateral': 4473, 'ballistic': 4474, 'patrol': 4475, 'beijing': 4476, 'rapidly': 4477, 'evolving': 4478, 'persistent': 4479, 'potentially': 4480, 'driving': 4481, 'incredible': 4482, 'fruit': 4483, 'shed': 4484, 'contains': 4485, 'compound': 4486, 'laboratory': 4487, 'tumor': 4488, 'derived': 4489, 'clean': 4490, 'forming': 4491, 'activation': 4492, 'immune': 4493, 'developed': 4494, 'ethical': 4495, 'clinical': 4496, 'chemotherapy': 4497, 'elderly': 4498, 'northeastern': 4499, 'wondering': 4500, 'greenhouse': 4501, 'spot': 4502, 'diagnosed': 4503, 'disappear': 4504, 'reacted': 4505, 'removal': 4506, 'surgery': 4507, 'radiation': 4508, 'dire': 4509, 'hack': 4510, 'fec': 4511, 'installed': 4512, 'vulnerability': 4513, 'mathematically': 4514, 'snyder': 4515, 'february': 4516, 'increasing': 4517, 'taxpayer': 4518, 'functioning': 4519, 'printing': 4520, 'bunch': 4521, 'belongs': 4522, 'whenever': 4523, 'owe': 4524, 'starting': 4525, 'deposit': 4526, 'checking': 4527, 'certificate': 4528, 'anymore': 4529, 'fraction': 4530, 'writes': 4531, 'basically': 4532, 'apply': 4533, 'dramatically': 4534, 'borrowing': 4535, 'restoring': 4536, 'constitution': 4537, 'fundamentally': 4538, 'complaining': 4539, 'technical': 4540, 'purchased': 4541, 'figured': 4542, 'assume': 4543, 'payment': 4544, 'gdp': 4545, 'hook': 4546, 'accounting': 4547, 'threaten': 4548, 'hitler': 4549, 'ridiculous': 4550, 'equity': 4551, 'inclusion': 4552, 'aftermath': 4553, 'contentious': 4554, 'faculty': 4555, 'responsive': 4556, 'gerald': 4557, 'campus': 4558, 'ward': 4559, 'ethnic': 4560, 'psychological': 4561, 'governed': 4562, 'preserving': 4563, 'enrich': 4564, 'welcoming': 4565, 'elect': 4566, 'lucky': 4567, 'fury': 4568, 'deport': 4569, 'prompting': 4570, 'fallout': 4571, 'widespread': 4572, 'emerging': 4573, 'deported': 4574, 'rip': 4575, 'parking': 4576, 'deportation': 4577, 'mexican': 4578, 'minimum': 4579, 'rapist': 4580, 'dry': 4581, 'cheating': 4582, 'weigh': 4583, 'transgender': 4584, 'g': 4585, 'plain': 4586, 'petition': 4587, 'birth': 4588, 'ruled': 4589, 'relying': 4590, 'shower': 4591, 'comparable': 4592, 'appeal': 4593, 'circuit': 4594, 'reversed': 4595, 'relied': 4596, 'denying': 4597, 'dignity': 4598, 'lgbt': 4599, 'attacking': 4600, 'behaviour': 4601, 'declining': 4602, 'beneath': 4603, 'cake': 4604, 'fray': 4605, 'blunt': 4606, 'texas': 4607, 'commissioner': 4608, 'exposing': 4609, 'proud': 4610, 'namely': 4611, 'texan': 4612, 'drove': 4613, 'surge': 4614, 'hardest': 4615, 'painting': 4616, 'employed': 4617, 'stirred': 4618, 'hate': 4619, 'counterpart': 4620, 'enact': 4621, 'serial': 4622, 'doe': 4623, 'jane': 4624, 'attend': 4625, 'perform': 4626, 'oral': 4627, 'maria': 4628, 'encounter': 4629, 'witnessed': 4630, 'defendant': 4631, 'plaintiff': 4632, 'ken': 4633, 'fun': 4634, 'testified': 4635, 'registration': 4636, 'recruit': 4637, 'instructed': 4638, 'paint': 4639, 'grows': 4640, 'disparity': 4641, 'keith': 4642, 'pattern': 4643, 'nationwide': 4644, 'statewide': 4645, 'hill': 4646, 'median': 4647, 'nationally': 4648, 'older': 4649, 'advancing': 4650, 'economically': 4651, 'obtaining': 4652, 'equality': 4653, 'uninsured': 4654, 'medicaid': 4655, 'unnecessary': 4656, 'charlotte': 4657, 'backlash': 4658, 'brutality': 4659, 'factor': 4660, 'consequential': 4661, 'unfair': 4662, 'outlined': 4663, 'bragging': 4664, 'suppression': 4665, 'pac': 4666, 'admitting': 4667, 'targeting': 4668, 'cleveland': 4669, 'heat': 4670, 'frankly': 4671, 'suburban': 4672, 'stuff': 4673, 'operative': 4674, 'busted': 4675, 'undercover': 4676, 'dare': 4677, 'exercising': 4678, 'closing': 4679, 'waving': 4680, 'punish': 4681, 'juror': 4682, 'seizing': 4683, 'wildlife': 4684, 'formerly': 4685, 'deliberation': 4686, 'ammon': 4687, 'bundy': 4688, 'motion': 4689, 'dismiss': 4690, 'remark': 4691, 'marcus': 4692, 'mumford': 4693, 'questioning': 4694, 'interviewed': 4695, 'determining': 4696, 'opposed': 4697, 'additional': 4698, 'sarah': 4699, 'posse': 4700, 'dropping': 4701, 'electing': 4702, 'troubling': 4703, 'kremlin': 4704, 'gentleman': 4705, 'dear': 4706, 'violate': 4707, 'releasing': 4708, 'critical': 4709, 'rushed': 4710, 'explicit': 4711, 'guidance': 4712, 'examined': 4713, 'prohibited': 4714, 'directed': 4715, 'nomination': 4716, 'delayed': 4717, 'principled': 4718, 'servant': 4719, 'stick': 4720, 'panic': 4721, 'guess': 4722, 'tired': 4723, 'webb': 4724, 'agreeing': 4725, 'cheryl': 4726, 'immunity': 4727, 'kingdom': 4728, 'swipe': 4729, 'wonderful': 4730, 'maryland': 4731, 'switched': 4732, 'noting': 4733, 'concluded': 4734, 'complaint': 4735, 'properly': 4736, 'stormed': 4737, 'parker': 4738, 'pinterest': 4739, 'pocket': 4740, 'unhappy': 4741, 'attended': 4742, 'mob': 4743, 'amendment': 4744, 'fanatic': 4745, 'yelled': 4746, 'courage': 4747, 'assassination': 4748, 'roosevelt': 4749, 'bullet': 4750, 'chest': 4751, 'tweet': 4752, 'gray': 4753, 'precisely': 4754, 'carrying': 4755, 'scary': 4756, 'follower': 4757, 'urged': 4758, 'educated': 4759, 'initiative': 4760, 'sheriff': 4761, 'economist': 4762, 'setback': 4763, 'honored': 4764, 'boast': 4765, 'improvement': 4766, 'incentive': 4767, 'breakthrough': 4768, 'mobilize': 4769, 'pension': 4770, 'earnings': 4771, 'rely': 4772, 'processing': 4773, 'forefront': 4774, 'colin': 4775, 'oppression': 4776, 'ca': 4777, 'earning': 4778, 'burning': 4779, 'anthem': 4780, 'san': 4781, 'francisco': 4782, 'er': 4783, 'educate': 4784, 'hosted': 4785, 'latino': 4786, 'attendee': 4787, 'policing': 4788, 'skill': 4789, 'distrust': 4790, 'stunt': 4791, 'courageous': 4792, 'exciting': 4793, 'homeless': 4794, 'kit': 4795, 'trace': 4796, 'athlete': 4797, 'appearance': 4798, 'breakout': 4799, 'carefully': 4800, 'denial': 4801, 'handle': 4802, 'trailer': 4803, 'park': 4804, 'trash': 4805, 'hater': 4806, 'scare': 4807, 'exploded': 4808, 'anyway': 4809, 'tape': 4810, 'comeback': 4811, 'watergate': 4812, 'defender': 4813, 'ignored': 4814, 'flower': 4815, 'promotion': 4816, 'urging': 4817, 'trooper': 4818, 'readiness': 4819, 'rejected': 4820, 'verbal': 4821, 'sunk': 4822, 'guilt': 4823, 'essay': 4824, 'manufacturing': 4825, 'pot': 4826, 'finish': 4827, 'invitation': 4828, 'solid': 4829, 'sandoval': 4830, 'ease': 4831, 'barbara': 4832, 'austin': 4833, 'paycheck': 4834, 'lynn': 4835, 'earn': 4836, 'hunt': 4837, 'md': 4838, 'oppose': 4839, 'alcohol': 4840, 'carter': 4841, 'disastrous': 4842, 'hostage': 4843, 'unknown': 4844, 'proceeded': 4845, 'marijuana': 4846, 'herb': 4847, 'tom': 4848, 'contempt': 4849, 'jake': 4850, 'physician': 4851, 'maine': 4852, 'mental': 4853, 'phil': 4854, 'heel': 4855, 'closest': 4856, 'suggesting': 4857, 'intimate': 4858, 'explicitly': 4859, 'stored': 4860, 'disgraced': 4861, 'plane': 4862, 'beck': 4863, 'timeline': 4864, 'trove': 4865, 'tpp': 4866, 'ttip': 4867, 'trans': 4868, 'protested': 4869, 'dent': 4870, 'muscle': 4871, 'voiced': 4872, 'workforce': 4873, 'suffered': 4874, 'bloomberg': 4875, 'pause': 4876, 'eliminated': 4877, 'angela': 4878, 'merkel': 4879, 'secrecy': 4880, 'transparent': 4881, 'jump': 4882, 'restricted': 4883, 'quake': 4884, 'substantial': 4885, 'magnitude': 4886, 'earthquake': 4887, 'shattered': 4888, 'pile': 4889, 'debris': 4890, 'evening': 4891, 'downtown': 4892, 'shutdown': 4893, 'gawker': 4894, 'evacuated': 4895, 'steve': 4896, 'highway': 4897, 'bridge': 4898, 'shaking': 4899, 'loud': 4900, 'awful': 4901, 'tank': 4902, 'gov': 4903, 'tweeted': 4904, 'gillespie': 4905, 'mcdonald': 4906, 'stood': 4907, 'shook': 4908, 'alarmed': 4909, 'operator': 4910, 'sept': 4911, 'afterward': 4912, 'sway': 4913, 'clown': 4914, 'helicopter': 4915, 'mccarthy': 4916, 'noise': 4917, 'bed': 4918, 'challenging': 4919, 'pose': 4920, 'performing': 4921, 'meaningful': 4922, 'defect': 4923, 'hunting': 4924, 'cattle': 4925, 'laugh': 4926, 'entertaining': 4927, 'unpredictable': 4928, 'colleague': 4929, 'relationship': 4930, 'imperative': 4931, 'defeated': 4932, 'punished': 4933, 'brotherhood': 4934, 'touted': 4935, 'egypt': 4936, 'sparking': 4937, 'brokered': 4938, 'ceasefire': 4939, 'hamas': 4940, 'jordan': 4941, 'warhead': 4942, 'battleship': 4943, 'disaster': 4944, 'predicting': 4945, 'tight': 4946, 'pollster': 4947, 'reasonably': 4948, 'viewed': 4949, 'indicator': 4950, 'momentum': 4951, 'offense': 4952, 'fresh': 4953, 'vacuum': 4954, 'sum': 4955, 'upside': 4956, 'interfere': 4957, 'vt': 4958, 'em': 4959, 'volunteer': 4960, 'brennan': 4961, 'bitter': 4962, 'naval': 4963, 'admiral': 4964, 'historian': 4965, 'accident': 4966, 'implementing': 4967, 'imperial': 4968, 'navy': 4969, 'underway': 4970, 'lacked': 4971, 'aimed': 4972, 'formed': 4973, 'outbreak': 4974, 'matched': 4975, 'christopher': 4976, 'spotted': 4977, 'reinforce': 4978, 'harbor': 4979, 'runner': 4980, 'roman': 4981, 'vi': 4982, 'invaded': 4983, 'belgium': 4984, 'betrayed': 4985, 'pound': 4986, 'jerry': 4987, 'flow': 4988, 'submarine': 4989, 'battery': 4990, 'limitation': 4991, 'dishonest': 4992, 'sub': 4993, 'artificial': 4994, 'excellent': 4995, 'prop': 4996, 'armored': 4997, 'weakness': 4998, 'fatal': 4999, 'warship': 5000, 'sister': 5001, 'aircraft': 5002, 'italian': 5003, 'carrier': 5004, 'designated': 5005, 'veteran': 5006, 'ohio': 5007, 'custom': 5008, 'shipment': 5009, 'labeling': 5010, 'environmental': 5011, 'pollution': 5012, 'metal': 5013, 'ill': 5014, 'vegetable': 5015, 'yellow': 5016, 'producing': 5017, 'academy': 5018, 'farming': 5019, 'fish': 5020, 'chicken': 5021, 'flu': 5022, 'rice': 5023, 'processed': 5024, 'dinner': 5025, 'pepper': 5026, 'vendor': 5027, 'phony': 5028, 'questionable': 5029, 'indonesia': 5030, 'stark': 5031, 'strain': 5032, 'wsj': 5033, 'blasphemy': 5034, 'calm': 5035, 'prominent': 5036, 'elevated': 5037, 'liner': 5038, 'angered': 5039, 'apologized': 5040, 'cooperate': 5041, 'steam': 5042, 'conservatism': 5043, 'nonviolent': 5044, 'macy': 5045, 'radar': 5046, 'kuwait': 5047, 'assist': 5048, 'martha': 5049, 'grim': 5050, 'torn': 5051, 'repair': 5052, 'foe': 5053, 'pleaded': 5054, 'lawful': 5055, 'successfully': 5056, 'ukraine': 5057, 'stable': 5058, 'alarming': 5059, 'enters': 5060, 'preferable': 5061, 'automatically': 5062, 'spam': 5063, 'refer': 5064, 'mistakenly': 5065, 'italic': 5066, 'emphasized': 5067, 'q': 5068, 'cite': 5069, 'quoting': 5070, 'span': 5071, 'appropriately': 5072, 'separated': 5073, 'preview': 5074, 'drinking': 5075, 'advocate': 5076, 'boycott': 5077, 'mate': 5078, 'joining': 5079, 'crook': 5080, 'knock': 5081, 'length': 5082, 'mount': 5083, 'throw': 5084, 'drink': 5085, 'wine': 5086, 'marching': 5087, 'embassy': 5088, 'telephone': 5089, 'argentina': 5090, 'scroll': 5091, 'ecuador': 5092, 'sympathetic': 5093, 'affected': 5094, 'definition': 5095, 'faster': 5096, 'convincing': 5097, 'thesis': 5098, 'correctness': 5099, 'polarization': 5100, 'hart': 5101, 'dakota': 5102, 'carol': 5103, 'surrounded': 5104, 'demonstrator': 5105, 'controversial': 5106, 'spray': 5107, 'demonstrating': 5108, 'occupied': 5109, 'sioux': 5110, 'reservation': 5111, 'drawing': 5112, 'reconsider': 5113, 'dapl': 5114, 'reprinted': 5115, 'presenting': 5116, 'void': 5117, 'intercept': 5118, 'prayer': 5119, 'van': 5120, 'approached': 5121, 'dragged': 5122, 'slammed': 5123, 'pregnant': 5124, 'advertisement': 5125, 'jailed': 5126, 'searched': 5127, 'committing': 5128, 'criticism': 5129, 'advocating': 5130, 'rubble': 5131, 'measured': 5132, 'km': 5133, 'fled': 5134, 'columnist': 5135, 'margaret': 5136, 'repeating': 5137, 'bragged': 5138, 'urgent': 5139, 'engaging': 5140, 'injustice': 5141, 'ferguson': 5142, 'palestine': 5143, 'neoliberal': 5144, 'onslaught': 5145, 'flint': 5146, 'moore': 5147, 'convert': 5148, 'lock': 5149, 'killer': 5150, 'angel': 5151, 'thread': 5152, 'rush': 5153, 'anniversary': 5154, 'resulted': 5155, 'accountability': 5156, 'financially': 5157, 'skeptical': 5158, 'winger': 5159, 'earnest': 5160, 'douglas': 5161, 'advice': 5162, 'rationale': 5163, 'recipient': 5164, 'acceptance': 5165, 'advanced': 5166, 'forgive': 5167, 'sounding': 5168, 'intend': 5169, 'bell': 5170, 'amnesty': 5171, 'pen': 5172, 'instagram': 5173, 'matt': 5174, 'lucas': 5175, 'posing': 5176, 'jay': 5177, 'z': 5178, 'riding': 5179, 'ufo': 5180, 'valley': 5181, 'iii': 5182, 'consume': 5183, 'crush': 5184, 'declares': 5185, 'mali': 5186, 'contradiction': 5187, 'resort': 5188, 'foolish': 5189, 'approve': 5190, 'settle': 5191, 'boot': 5192, 'cluster': 5193, 'random': 5194, 'atomic': 5195, 'rocket': 5196, 'zionist': 5197, 'missed': 5198, 'triumph': 5199, 'intervene': 5200, 'pissed': 5201, 'interrupted': 5202, 'successor': 5203, 'noticed': 5204, 'campaigning': 5205, 'salary': 5206, 'spends': 5207, 'insulting': 5208, 'kwn': 5209, 'looked': 5210, 'doug': 5211, 'sprott': 5212, 'ounce': 5213, 'accelerated': 5214, 'score': 5215, 'fixed': 5216, 'miner': 5217, 'hawkish': 5218, 'hike': 5219, 'extension': 5220, 'bonus': 5221, 'incorrect': 5222, 'accomplished': 5223, 'fascinating': 5224, 'remarkable': 5225, 'reserved': 5226, 'linking': 5227, 'gate': 5228, 'morocco': 5229, 'spain': 5230, 'bare': 5231, 'naked': 5232, 'gmail': 5233, 'invention': 5234, 'patent': 5235, 'justification': 5236, 'scholar': 5237, 'phenomenon': 5238, 'legally': 5239, 'entrepreneur': 5240, 'commonly': 5241, 'examiner': 5242, 'applicant': 5243, 'compelled': 5244, 'surfaced': 5245, 'ross': 5246, 'frequency': 5247, 'unaware': 5248, 'restrict': 5249, 'publication': 5250, 'harmful': 5251, 'ironic': 5252, 'steven': 5253, 'indicates': 5254, 'efficient': 5255, 'conversion': 5256, 'likewise': 5257, 'none': 5258, 'existing': 5259, 'remained': 5260, 'dana': 5261, 'priest': 5262, 'lasted': 5263, 'evidently': 5264, 'eisenhower': 5265, 'persist': 5266, 'combination': 5267, 'domain': 5268, 'suing': 5269, 'marc': 5270, 'desired': 5271, 'precise': 5272, 'reminder': 5273, 'awaiting': 5274, 'shall': 5275, 'payroll': 5276, 'employment': 5277, 'coupled': 5278, 'privilege': 5279, 'compensation': 5280, 'departure': 5281, 'contributing': 5282, 'independently': 5283, 'wealthy': 5284, 'arrive': 5285, 'illegals': 5286, 'genuinely': 5287, 'slur': 5288, 'unemployment': 5289, 'housing': 5290, 'workplace': 5291, 'permanent': 5292, 'combined': 5293, 'citizenry': 5294, 'swedish': 5295, 'exception': 5296, 'avoided': 5297, 'hardly': 5298, 'murdered': 5299, 'caring': 5300, 'elder': 5301, 'partial': 5302, 'abortion': 5303, 'causing': 5304, 'occupy': 5305, 'acceptable': 5306, 'remarkably': 5307, 'prediction': 5308, 'striking': 5309, 'sniper': 5310, 'sabotage': 5311, 'unrest': 5312, 'cent': 5313, 'sworn': 5314, 'existent': 5315, 'irs': 5316, 'grant': 5317, 'stolen': 5318, 'additionally': 5319, 'temperature': 5320, 'pace': 5321, 'flickr': 5322, 'undermining': 5323, 'nick': 5324, 'shrink': 5325, 'lacking': 5326, 'considerably': 5327, 'warming': 5328, 'upheaval': 5329, 'incumbent': 5330, 'correspondent': 5331, 'architect': 5332, 'brutally': 5333, 'slaughter': 5334, 'sparked': 5335, 'collar': 5336, 'grievance': 5337, 'consuming': 5338, 'temple': 5339, 'regularly': 5340, 'cage': 5341, 'burned': 5342, 'graphic': 5343, 'pit': 5344, 'baseball': 5345, 'kevin': 5346, 'biden': 5347, 'dominating': 5348, 'nationalism': 5349, 'lobby': 5350, 'smarter': 5351, 'semitic': 5352, 'jewish': 5353, 'jew': 5354, 'polite': 5355, 'seal': 5356, 'citizenship': 5357, 'throwing': 5358, 'monkey': 5359, 'nevertrump': 5360, 'appointment': 5361, 'gut': 5362, 'treason': 5363, 'highlighted': 5364, 'chamber': 5365, 'commerce': 5366, 'populist': 5367, 'unified': 5368, 'neoconservative': 5369, 'bigot': 5370, 'loser': 5371, 'commented': 5372, 'hated': 5373, 'tube': 5374, 'bright': 5375, 'navigate': 5376, 'mosul': 5377, 'accordance': 5378, 'fleeing': 5379, 'meantime': 5380, 'mankind': 5381, 'damascus': 5382, 'credibility': 5383, 'smear': 5384, 'battling': 5385, 'elaborate': 5386, 'lewis': 5387, 'cancel': 5388, 'quietly': 5389, 'scheduled': 5390, 'deleted': 5391, 'epic': 5392, 'mocking': 5393, 'realdonaldtrump': 5394, 'rolling': 5395, 'tampering': 5396, 'notion': 5397, 'answering': 5398, 'cheering': 5399, 'tendency': 5400, 'insurer': 5401, 'stephanie': 5402, 'depression': 5403, 'complication': 5404, 'barrier': 5405, 'manage': 5406, 'experiencing': 5407, 'equivalent': 5408, 'reflect': 5409, 'absence': 5410, 'maker': 5411, 'economics': 5412, 'finance': 5413, 'reasonable': 5414, 'misdemeanor': 5415, 'ramp': 5416, 'upward': 5417, 'strongest': 5418, 'ultra': 5419, 'klan': 5420, 'holder': 5421, 'yellen': 5422, 'substantive': 5423, 'unlimited': 5424, 'payer': 5425, 'torch': 5426, 'pressed': 5427, 'stomach': 5428, 'waited': 5429, 'oscar': 5430, 'singer': 5431, 'filmmaker': 5432, 'entertainment': 5433, 'allen': 5434, 'mitchell': 5435, 'library': 5436, 'anchor': 5437, 'toy': 5438, 'marketing': 5439, 'startup': 5440, 'awarded': 5441, 'evan': 5442, 'huffington': 5443, 'financing': 5444, 'clearance': 5445, 'graduate': 5446, 'governing': 5447, 'tragic': 5448, 'unfortunate': 5449, 'spoken': 5450, 'devil': 5451, 'pursuit': 5452, 'carbon': 5453, 'emission': 5454, 'spur': 5455, 'renewal': 5456, 'pending': 5457, 'nancy': 5458, 'pathway': 5459, 'pant': 5460, 'viral': 5461, 'fundraiser': 5462, 'lisa': 5463, 'charleston': 5464, 'inability': 5465, 'viewing': 5466, 'syndrome': 5467, 'disorder': 5468, 'cognitive': 5469, 'trauma': 5470, 'upper': 5471, 'painted': 5472, 'improved': 5473, 'detect': 5474, 'detected': 5475, 'electrical': 5476, 'restore': 5477, 'banana': 5478, 'nowhere': 5479, 'chapter': 5480, 'houston': 5481, 'mysterious': 5482, 'acquired': 5483, 'utterly': 5484, 'undermine': 5485, 'skepticism': 5486, 'fabric': 5487, 'wallace': 5488, 'verified': 5489, 'accurately': 5490, 'verify': 5491, 'sean': 5492, 'hannity': 5493, 'switching': 5494, 'shoulder': 5495, 'harris': 5496, 'entitled': 5497, 'invited': 5498, 'stanford': 5499, 'burden': 5500, 'cabal': 5501, 'brien': 5502, 'activism': 5503, 'appearing': 5504, 'gasoline': 5505, 'wreckage': 5506, 'recover': 5507, 'manages': 5508, 'locked': 5509, 'endorsement': 5510, 'ugly': 5511, 'utter': 5512, 'magnesium': 5513, 'calcium': 5514, 'diabetes': 5515, 'diagnosis': 5516, 'deficiency': 5517, 'hormone': 5518, 'traumatic': 5519, 'stressed': 5520, 'dean': 5521, 'symptom': 5522, 'tissue': 5523, 'inbox': 5524, 'ineffective': 5525, 'technique': 5526, 'contraceptive': 5527, 'nutrient': 5528, 'consumed': 5529, 'drag': 5530, 'plastic': 5531, 'cannabis': 5532, 'cleansing': 5533, 'consistently': 5534, 'varying': 5535, 'clicking': 5536, 'survivor': 5537, 'hopefully': 5538, 'endeavor': 5539, 'bret': 5540, 'baier': 5541, 'highlighting': 5542, 'barring': 5543, 'obstruction': 5544, 'beast': 5545, 'emerge': 5546, 'warmonger': 5547, 'hammer': 5548, 'appointee': 5549, 'peter': 5550, 'kadzik': 5551, 'thwart': 5552, 'divide': 5553, 'rank': 5554, 'interpreted': 5555, 'debated': 5556, 'subpoena': 5557, 'voluntary': 5558, 'litigation': 5559, 'formally': 5560, 'blown': 5561, 'authorization': 5562, 'overt': 5563, 'disagreement': 5564, 'confronted': 5565, 'willingness': 5566, 'rightly': 5567, 'perception': 5568, 'permanently': 5569, 'donated': 5570, 'deed': 5571, 'advocacy': 5572, 'implying': 5573, 'exploited': 5574, 'flood': 5575, 'finished': 5576, 'contra': 5577, 'beltway': 5578, 'ripped': 5579, 'portfolio': 5580, 'lee': 5581, 'thinker': 5582, 'dated': 5583, 'sullivan': 5584, 'columbia': 5585, 'sentencing': 5586, 'impressive': 5587, 'somehow': 5588, 'automatic': 5589, 'deutsche': 5590, 'lean': 5591, 'manipulation': 5592, 'heightened': 5593, 'troll': 5594, 'blatant': 5595, 'brooklyn': 5596, 'neutral': 5597, 'philadelphia': 5598, 'whopping': 5599, 'insurgent': 5600, 'solidly': 5601, 'booth': 5602, 'defence': 5603, 'ambitious': 5604, 'forty': 5605, 'pipe': 5606, 'phoenix': 5607, 'output': 5608, 'adversary': 5609, 'embarrassing': 5610, 'briefly': 5611, 'contributor': 5612, 'imf': 5613, 'aiding': 5614, 'relating': 5615, 'leap': 5616, 'filter': 5617, 'basket': 5618, 'kicked': 5619, 'hot': 5620, 'blumenthal': 5621, 'ear': 5622, 'scrap': 5623, 'luck': 5624, 'applied': 5625, 'positioned': 5626, 'qualified': 5627, 'pursued': 5628, 'ray': 5629, 'southeast': 5630, 'disclosed': 5631, 'batch': 5632, 'advising': 5633, 'disappointment': 5634, 'glad': 5635, 'upheld': 5636, 'hint': 5637, 'explaining': 5638, 'reluctant': 5639, 'grab': 5640, 'craig': 5641, 'presstitutes': 5642, 'funny': 5643, 'duke': 5644, 'fascist': 5645, 'handful': 5646, 'goodman': 5647, 'ben': 5648, 'decency': 5649, 'nightmare': 5650, 'painful': 5651, 'inflicted': 5652, 'prefers': 5653, 'imposing': 5654, 'hysteria': 5655, 'ceta': 5656, 'multinational': 5657, 'geopolitical': 5658, 'axis': 5659, 'installation': 5660, 'baltic': 5661, 'hence': 5662, 'migration': 5663, 'chant': 5664, 'suburb': 5665, 'complain': 5666, 'sufficiently': 5667, 'equipped': 5668, 'waking': 5669, 'funeral': 5670, 'hollande': 5671, 'impose': 5672, 'dissident': 5673, 'denounced': 5674, 'defended': 5675, 'imminent': 5676, 'terror': 5677, 'benjamin': 5678, 'netanyahu': 5679, 'forgiveness': 5680, 'manipulated': 5681, 'ireland': 5682, 'extended': 5683, 'legitimacy': 5684, 'risen': 5685, 'fallen': 5686, 'swiss': 5687, 'abraham': 5688, 'isaac': 5689, 'loudly': 5690, 'believer': 5691, 'nyt': 5692, 'grip': 5693, 'characterized': 5694, 'tweeting': 5695, 'snl': 5696, 'unfit': 5697, 'spotlight': 5698, 'drew': 5699, 'pulled': 5700, 'distance': 5701, 'accordingly': 5702, 'abandoned': 5703, 'positioning': 5704, 'electric': 5705, 'secretly': 5706, 'covering': 5707, 'vietnam': 5708, 'vietnamese': 5709, 'attached': 5710, 'submission': 5711, 'plunged': 5712, 'cruise': 5713, 'fired': 5714, 'brutal': 5715, 'defined': 5716, 'nuanced': 5717, 'ideologically': 5718, 'sustained': 5719, 'aided': 5720, 'trained': 5721, 'kissinger': 5722, 'decent': 5723, 'trickle': 5724, 'spreading': 5725, 'murphy': 5726, 'quarter': 5727, 'crowded': 5728, 'aggressively': 5729, 'interventionist': 5730, 'whoever': 5731, 'predecessor': 5732, 'houthis': 5733, 'wanting': 5734, 'sovereign': 5735, 'cooperating': 5736, 'hegemony': 5737, 'mp': 5738, 'imperialist': 5739, 'frustration': 5740, 'raging': 5741, 'teenager': 5742, 'financed': 5743, 'stir': 5744, 'karl': 5745, 'oppressed': 5746, 'nonsense': 5747, 'fade': 5748, 'wedding': 5749, 'homosexual': 5750, 'bullshit': 5751, 'opposing': 5752, 'totalitarian': 5753, 'silly': 5754, 'grassroots': 5755, 'constantly': 5756, 'knight': 5757, 'boston': 5758, 'hat': 5759, 'snip': 5760, 'drought': 5761, 'arguably': 5762, 'peak': 5763, 'hey': 5764, 'popularity': 5765, 'ok': 5766, 'nyc': 5767, 'lengthy': 5768, 'blew': 5769, 'frightening': 5770, 'shoot': 5771, 'enforced': 5772, 'caliber': 5773, 'pistol': 5774, 'chelsea': 5775, 'enforce': 5776, 'reviewing': 5777, 'manhattan': 5778, 'drilling': 5779, 'uprising': 5780, 'imprisoned': 5781, 'ammunition': 5782, 'overseas': 5783, 'weaponry': 5784, 'vehicle': 5785, 'inevitable': 5786, 'prisoner': 5787, 'lethal': 5788, 'blueprint': 5789, 'involves': 5790, 'biological': 5791, 'refers': 5792, 'upholding': 5793, 'distributed': 5794, 'intelligent': 5795, 'broadcasting': 5796, 'eligibility': 5797, 'marxist': 5798, 'potus': 5799, 'presumed': 5800, 'dhs': 5801, 'trajectory': 5802, 'mainly': 5803, 'stretch': 5804, 'illegally': 5805, 'propose': 5806, 'sermon': 5807, 'wnd': 5808, 'midwest': 5809, 'photographer': 5810, 'walsh': 5811, 'georgia': 5812, 'investigated': 5813, 'charging': 5814, 'discrimination': 5815, 'seventh': 5816, 'lesbian': 5817, 'limbaugh': 5818, 'withdrew': 5819, 'sweeping': 5820, 'luther': 5821, 'discriminate': 5822, 'clearer': 5823, 'joked': 5824, 'captured': 5825, 'hung': 5826, 'thc': 5827, 'valid': 5828, 'relief': 5829, 'ing': 5830, 'trending': 5831, 'yves': 5832, 'publisher': 5833, 'wolf': 5834, 'reform': 5835, 'decree': 5836, 'collected': 5837, 'facial': 5838, 'nicholas': 5839, 'ga': 5840, 'rhetorical': 5841, 'establishing': 5842, 'extensive': 5843, 'rolled': 5844, 'visa': 5845, 'external': 5846, 'hungry': 5847, 'schedule': 5848, 'eurozone': 5849, 'consumption': 5850, 'mississippi': 5851, 'ellison': 5852, 'respondent': 5853, 'steadily': 5854, 'occasional': 5855, 'adjustment': 5856, 'wider': 5857, 'answered': 5858, 'agrees': 5859, 'inflation': 5860, 'problematic': 5861, 'partly': 5862, 'calif': 5863, 'wildly': 5864, 'violates': 5865, 'plausible': 5866, 'compelling': 5867, 'affecting': 5868, 'historically': 5869, 'minnesota': 5870, 'ethic': 5871, 'merit': 5872, 'pursuing': 5873, 'provision': 5874, 'deadline': 5875, 'injured': 5876, 'anytime': 5877, 'disruption': 5878, 'protestors': 5879, 'manipulate': 5880, 'martial': 5881, 'sponsor': 5882, 'acted': 5883, 'escalating': 5884, 'siege': 5885, 'moveon': 5886, 'dictate': 5887, 'evident': 5888, 'portray': 5889, 'echo': 5890, 'rockefeller': 5891, 'rent': 5892, 'thug': 5893, 'banning': 5894, 'inc': 5895, 'revenge': 5896, 'justin': 5897, 'separately': 5898, 'chancellor': 5899, 'gem': 5900, 'teneo': 5901, 'leverage': 5902, 'charity': 5903, 'donating': 5904, 'hotel': 5905, 'tapped': 5906, 'thanked': 5907, 'golf': 5908, 'championed': 5909, 'revolutionary': 5910, 'glyphosate': 5911, 'floor': 5912, 'cocaine': 5913, 'disappeared': 5914, 'resistant': 5915, 'havana': 5916, 'faction': 5917, 'boss': 5918, 'concession': 5919, 'appealed': 5920, 'trapped': 5921, 'venture': 5922, 'janet': 5923, 'reno': 5924, 'npr': 5925, 'accomplishment': 5926, 'cabinet': 5927, 'waco': 5928, 'authorized': 5929, 'walter': 5930, 'eli': 5931, 'uncle': 5932, 'barry': 5933, 'tall': 5934, 'testify': 5935, 'legislature': 5936, 'solving': 5937, 'dubbed': 5938, 'inclined': 5939, 'steel': 5940, 'gubernatorial': 5941, 'fla': 5942, 'decisive': 5943, 'enduring': 5944, 'solicitor': 5945, 'frequent': 5946, 'separation': 5947, 'evaluation': 5948, 'replied': 5949, 'comedian': 5950, 'glory': 5951, 'onion': 5952, 'react': 5953, 'clue': 5954, 'apology': 5955, 'ku': 5956, 'klux': 5957, 'supremacist': 5958, 'observation': 5959, 'description': 5960, 'contention': 5961, 'notable': 5962, 'clarity': 5963, 'straightforward': 5964, 'elementary': 5965, 'faithful': 5966, 'rd': 5967, 'dna': 5968, 'samuel': 5969, 'demonstrate': 5970, 'wade': 5971, 'fifty': 5972, 'england': 5973, 'nickname': 5974, 'temperament': 5975, 'ideologue': 5976, 'implementation': 5977, 'takeaway': 5978, 'illustrates': 5979, 'accommodation': 5980, 'avoiding': 5981, 'clothing': 5982, 'escalate': 5983, 'greg': 5984, 'dominate': 5985, 'hunter': 5986, 'poured': 5987, 'criterion': 5988, 'manning': 5989, 'prevents': 5990, 'advertiser': 5991, 'glenn': 5992, 'tolerate': 5993, 'inaccurate': 5994, 'endured': 5995, 'systematic': 5996, 'msnbc': 5997, 'consideration': 5998, 'blogger': 5999, 'racially': 6000, 'kirk': 6001, 'challenger': 6002, 'tammy': 6003, 'duckworth': 6004, 'vet': 6005, 'descent': 6006, 'franklin': 6007, 'bow': 6008, 'detailing': 6009, 'tier': 6010, 'amongst': 6011, 'relentlessly': 6012, 'productive': 6013, 'restored': 6014, 'restoration': 6015, 'realization': 6016, 'glimpse': 6017, 'fairly': 6018, 'heated': 6019, 'peddling': 6020, 'disagreed': 6021, 'mccabe': 6022, 'mcauliffe': 6023, 'participant': 6024, 'formal': 6025, 'aug': 6026, 'reiterated': 6027, 'shopping': 6028, 'reopened': 6029, 'constructive': 6030, 'hyper': 6031, 'pardon': 6032, 'aired': 6033, 'testament': 6034, 'ivanka': 6035, 'proving': 6036, 'script': 6037, 'tomb': 6038, 'cbn': 6039, 'geographic': 6040, 'residence': 6041, 'profoundly': 6042, 'examination': 6043, 'engineer': 6044, 'backer': 6045, 'abdullah': 6046, 'monument': 6047, 'ft': 6048, 'lawrence': 6049, 'knee': 6050, 'michelle': 6051, 'idiot': 6052, 'ann': 6053, 'crushed': 6054, 'liked': 6055, 'tap': 6056, 'flip': 6057, 'sec': 6058, 'murray': 6059, 'kuznetsov': 6060, 'autonomous': 6061, 'shore': 6062, 'harsh': 6063, 'dutch': 6064, 'hillaryclinton': 6065, 'emily': 6066, 'philippine': 6067, 'obesity': 6068, 'corn': 6069, 'horrific': 6070, 'thomas': 6071, 'endorsed': 6072, 'explosion': 6073, 'firefighter': 6074, 'enrollment': 6075, 'selection': 6076, 'as': 6077, 'bullying': 6078, 'burst': 6079, 'attribution': 6080, 'odds': 6081, 'contend': 6082, 'prejudice': 6083, 'resentment': 6084, 'authoritarian': 6085, 'isolationist': 6086, 'proxy': 6087, 'understands': 6088, 'shortage': 6089, 'reopen': 6090, 'meddling': 6091, 'virtue': 6092, 'modest': 6093, 'chairwoman': 6094, 'debbie': 6095, 'wasserman': 6096, 'schultz': 6097, 'partisanship': 6098, 'airspace': 6099, 'advocated': 6100, 'tehran': 6101, 'trusted': 6102, 'garner': 6103, 'eligible': 6104, 'fueling': 6105, 'malaysia': 6106, 'withdrawal': 6107, 'dysfunctional': 6108, 'wrongly': 6109, 'readily': 6110, 'apparatus': 6111, 'suppress': 6112, 'fearful': 6113, 'ramification': 6114, 'flaw': 6115, 'lasting': 6116, 'logical': 6117, 'promising': 6118, 'loving': 6119, 'profitable': 6120, 'coward': 6121, 'wash': 6122, 'op': 6123, 'heaven': 6124, 'frontrunner': 6125, 'invented': 6126, 'cigarette': 6127, 'parade': 6128, 'ruth': 6129, 'invisible': 6130, 'beheading': 6131, 'essence': 6132, 'powell': 6133, 'punishing': 6134, 'surrender': 6135, 'bombed': 6136, 'dirt': 6137, 'cheered': 6138, 'intimidation': 6139, 'victoria': 6140, 'nuland': 6141, 'circulating': 6142, 'transferred': 6143, 'chase': 6144, 'mansion': 6145, 'defensive': 6146, 'strengthen': 6147, 'stalled': 6148, 'improving': 6149, 'deploy': 6150, 'fallon': 6151, 'projection': 6152, 'preparation': 6153, 'unbelievable': 6154, 'campaigned': 6155, 'praised': 6156, 'visited': 6157, 'staying': 6158, 'buzzfeed': 6159, 'oldest': 6160, 'vocal': 6161, 'anderson': 6162, 'expressing': 6163, 'virus': 6164, 'acid': 6165, 'protein': 6166, 'elizabeth': 6167, 'milk': 6168, 'statistic': 6169, 'participated': 6170, 'urban': 6171, 'lesion': 6172, 'exaggerated': 6173, 'heal': 6174, 'stepping': 6175, 'castro': 6176, 'clark': 6177, 'terry': 6178, 'whitewater': 6179, 'accepting': 6180, 'uphold': 6181, 'ranking': 6182, 'gladly': 6183, 'goldwater': 6184, 'pat': 6185, 'buchanan': 6186, 'dems': 6187, 'tapper': 6188, 'comedy': 6189, 'grabbing': 6190, 'musket': 6191, 'vicious': 6192, 'demagogue': 6193, 'elephant': 6194, 'deck': 6195, 'interaction': 6196, 'hosting': 6197, 'favored': 6198, 'rubber': 6199, 'blasted': 6200, 'cannon': 6201, 'judiciary': 6202, 'unarmed': 6203, 'unconstitutional': 6204, 'pair': 6205, 'compassion': 6206, 'fairness': 6207, 'reminds': 6208, 'serf': 6209, 'extremism': 6210, 'containing': 6211, 'crack': 6212, 'intensify': 6213, 'smoke': 6214, 'belgian': 6215, 'declaration': 6216, 'binding': 6217, 'touched': 6218, 'dec': 6219, 'commercial': 6220, 'disturbed': 6221, 'endorses': 6222, 'promoting': 6223, 'crusade': 6224, 'taxi': 6225, 'cheaper': 6226, 'ratio': 6227, 'nevertheless': 6228, 'applies': 6229, 'invested': 6230, 'premium': 6231, 'passenger': 6232, 'yorker': 6233, 'swamp': 6234, 'representation': 6235, 'cure': 6236, 'inflammatory': 6237, 'stopping': 6238, 'cholesterol': 6239, 'signaling': 6240, 'saint': 6241, 'endtime': 6242, 'biblical': 6243, 'jerusalem': 6244, 'sizable': 6245, 'promoted': 6246, 'attracted': 6247, 'fascism': 6248, 'bind': 6249, 'rid': 6250, 'tel': 6251, 'aviv': 6252, 'provocative': 6253, 'gradually': 6254, 'likud': 6255, 'philosopher': 6256, 'withdraw': 6257, 'settler': 6258, 'disdain': 6259, 'secular': 6260, 'song': 6261, 'ottoman': 6262, 'sphere': 6263, 'attributed': 6264, 'davis': 6265, 'shaping': 6266, 'democratically': 6267, 'forthcoming': 6268, 'kicking': 6269, 'egyptian': 6270, 'launching': 6271, 'kennedy': 6272, 'gulf': 6273, 'apartment': 6274, 'absent': 6275, 'bataclan': 6276, 'arrival': 6277, 'portrayed': 6278, 'melania': 6279, 'shorter': 6280, 'milwaukee': 6281, 'crooked': 6282, 'kenya': 6283, 'shouting': 6284, 'thumb': 6285, 'rain': 6286, 'chanted': 6287, 'bobby': 6288, 'undocumented': 6289, 'resignation': 6290, 'clarified': 6291, 'mindset': 6292, 'creates': 6293, 'inspire': 6294, 'lined': 6295, 'proposing': 6296, 'looming': 6297, 'swift': 6298, 'disgust': 6299, 'eliminate': 6300, 'ranked': 6301, 'indication': 6302, 'investing': 6303, 'businessman': 6304, 'audit': 6305, 'bigoted': 6306, 'echoing': 6307, 'defiant': 6308, 'retake': 6309, 'liberate': 6310, 'broadly': 6311, 'criticizing': 6312, 'parameter': 6313, 'wp': 6314, 'widget': 6315, 'thorough': 6316, 'sword': 6317, 'reminded': 6318, 'selma': 6319, 'alabama': 6320, 'definitive': 6321, 'mook': 6322, 'creamer': 6323, 'keefe': 6324, 'emphasizing': 6325, 'felon': 6326, 'graham': 6327, 'suck': 6328, 'lining': 6329, 'chemtrails': 6330, 'mercury': 6331, 'meal': 6332, 'frame': 6333, 'wellness': 6334, 'iodine': 6335, 'forth': 6336, 'positively': 6337, 'lazy': 6338, 'recession': 6339, 'dysfunction': 6340, 'dos': 6341, 'reproductive': 6342, 'nerve': 6343, 'renewable': 6344, 'cult': 6345, 'divine': 6346, 'poison': 6347, 'symbol': 6348, 'format': 6349, 'bottle': 6350, 'beauty': 6351, 'divorce': 6352, 'obstacle': 6353, 'manifest': 6354, 'sole': 6355, 'beneficiary': 6356, 'vatican': 6357, 'mocked': 6358, 'boasted': 6359, 'dolly': 6360, 'kyle': 6361, 'accuser': 6362, 'encourages': 6363, 'strictly': 6364, 'hadi': 6365, 'mandated': 6366, 'resigned': 6367, 'ali': 6368, 'lawn': 6369, 'felony': 6370, 'yard': 6371, 'unhinged': 6372, 'knocked': 6373, 'yelling': 6374, 'larry': 6375, 'kentucky': 6376, 'profession': 6377, 'birkenfeld': 6378, 'irony': 6379, 'minus': 6380, 'deferred': 6381, 'correctional': 6382, 'recount': 6383, 'bennett': 6384, 'settling': 6385, 'custody': 6386, 'keen': 6387, 'sarmat': 6388, 'utm': 6389, 'howard': 6390, 'utility': 6391, 'ditch': 6392, 'madison': 6393, 'discouraged': 6394, 'slipped': 6395, 'condemn': 6396, 'carl': 6397, 'jimmy': 6398, 'fargo': 6399, 'sixth': 6400, 'vp': 6401, 'entered': 6402, 'horrified': 6403, 'identical': 6404, 'rope': 6405, 'boring': 6406, 'entrance': 6407, 'vermont': 6408, 'irresponsible': 6409, 'vigilant': 6410, 'operates': 6411, 'sided': 6412, 'bulk': 6413, 'opted': 6414, 'tanden': 6415, 'jordanian': 6416, 'hezbollah': 6417, 'lebanon': 6418, 'reasoning': 6419, 'hurting': 6420, 'beach': 6421, 'hateful': 6422, 'presumably': 6423, 'legion': 6424, 'slate': 6425, 'vox': 6426, 'singing': 6427, 'cohen': 6428, 'executed': 6429, 'denouncing': 6430, 'underscore': 6431, 'inciting': 6432, 'sand': 6433, 'nationalist': 6434, 'kagan': 6435, 'creature': 6436, 'fashioned': 6437, 'whip': 6438, 'berlin': 6439, 'millennials': 6440, 'philip': 6441, 'escaped': 6442, 'skilled': 6443, 'compassionate': 6444, 'disabled': 6445, 'acknowledge': 6446, 'refusal': 6447, 'textbook': 6448, 'distinct': 6449, 'ho': 6450, 'arrogance': 6451, 'kellyanne': 6452, 'conway': 6453, 'blitzer': 6454, 'endure': 6455, 'messy': 6456, 'misleading': 6457, 'insult': 6458, 'boo': 6459, 'rubio': 6460, 'marco': 6461, 'rebuke': 6462, 'rudy': 6463, 'giuliani': 6464, 'firewall': 6465, 'peril': 6466, 'feeding': 6467, 'longest': 6468, 'meter': 6469, 'duterte': 6470, 'framed': 6471, 'hometown': 6472, 'abu': 6473, 'delegation': 6474, 'draft': 6475, 's': 6476, 'continental': 6477, 'pole': 6478, 'slip': 6479, 'bully': 6480, 'boeing': 6481, 'lockheed': 6482, 'princeton': 6483, 'berkeley': 6484, 'recruiting': 6485, 'diego': 6486, 'boundary': 6487, 'wmw': 6488, 'admin': 6489, 'chilling': 6490, 'bernstein': 6491, 'racket': 6492, 'plea': 6493, 'prohibition': 6494, 'polled': 6495, 'powder': 6496, 'tobacco': 6497, 'packed': 6498, 'corp': 6499, 'shout': 6500, 'jose': 6501, 'chanting': 6502, 'orbit': 6503, 'reflected': 6504, 'hindu': 6505, 'midnight': 6506, 'overwhelmed': 6507, 'discourse': 6508, 'traditionally': 6509, 'polarizing': 6510, 'jan': 6511, 'shia': 6512, 'slowed': 6513, 'impression': 6514, 'psychologist': 6515, 'katie': 6516, 'perry': 6517, 'cooper': 6518, 'cleared': 6519, 'rallied': 6520, 'load': 6521, 'guided': 6522, 'aviation': 6523, 'tactical': 6524, 'tracked': 6525, 'cairo': 6526, 'crackdown': 6527, 'disputed': 6528, 'safer': 6529, 'rail': 6530, 'authenticity': 6531, 'tiger': 6532, 'weighing': 6533, 'cow': 6534, 'distant': 6535, 'fossil': 6536, 'hpv': 6537, 'museum': 6538, 'mounting': 6539, 'firmly': 6540, 'accounted': 6541, 'pew': 6542, 'gen': 6543, 'lt': 6544, 'refrain': 6545, 'kashmir': 6546, 'afghan': 6547, 'package': 6548, 'defeating': 6549, 'jihadi': 6550, 'gravity': 6551, 'cautioned': 6552, 'posting': 6553, 'recruitment': 6554, 'wasted': 6555, 'fence': 6556, 'nd': 6557, 'taliban': 6558, 'muhammad': 6559, 'excerpt': 6560, 'evangelicals': 6561, 'stockpile': 6562, 'qualification': 6563, 'calculated': 6564, 'comfortable': 6565, 'nobel': 6566, 'brink': 6567, 'likelihood': 6568, 'exceptional': 6569, 'unthinkable': 6570, 'brookings': 6571, 'lift': 6572, 'reminding': 6573, 'stereotype': 6574, 'dawn': 6575, 'chomsky': 6576, 'verdict': 6577, 'defining': 6578, 'arson': 6579, 'overreach': 6580, 'marshal': 6581, 'endangered': 6582, 'guaranteed': 6583, 'charitable': 6584, 'divisive': 6585, 'breach': 6586, 'listing': 6587, 'flown': 6588, 'jennifer': 6589, 'indiana': 6590, 'enthusiasm': 6591, 'intimidate': 6592, 'trailing': 6593, 'realclearpolitics': 6594, 'perceived': 6595, 'dispatch': 6596, 'concentrated': 6597, 'helpful': 6598, 'condemning': 6599, 'villain': 6600, 'cuomo': 6601, 'gesture': 6602, 'journalistic': 6603, 'critique': 6604, 'pussy': 6605, 'loom': 6606, 'dogged': 6607, 'galacticconnection': 6608, 'unauthorized': 6609, 'discount': 6610, 'coordinator': 6611, 'peacefully': 6612, 'sweat': 6613, 'unleashed': 6614, 'expire': 6615, 'fundraising': 6616, 'brazile': 6617, 'populism': 6618, 'meme': 6619, 'dominant': 6620, 'flawed': 6621, 'bankruptcy': 6622, 'marginal': 6623, 'stoltenberg': 6624, 'inauguration': 6625, 'lincoln': 6626, 'concludes': 6627, 'pledging': 6628, 'praying': 6629, 'aristocracy': 6630, 'inspector': 6631, 'pump': 6632, 'warren': 6633, 'meltdown': 6634, 'competing': 6635, 'talent': 6636, 'sympathy': 6637, 'dominance': 6638, 'ranger': 6639, 'sheikh': 6640, 'dubious': 6641, 'colony': 6642, 'pakistani': 6643, 'procedural': 6644, 'spill': 6645, 'notified': 6646, 'louis': 6647, 'overseeing': 6648, 'uncertainty': 6649, 'richest': 6650, 'internationally': 6651, 'jab': 6652, 'filibuster': 6653, 'aca': 6654, 'vaccination': 6655, 'exemption': 6656, 'policeman': 6657, 'signaled': 6658, 'memorable': 6659, 'brock': 6660, 'shifting': 6661, 'outreach': 6662, 'policymakers': 6663, 'espionage': 6664, 'marking': 6665, 'sectarian': 6666, 'ayatollah': 6667, 'yale': 6668, 'derail': 6669, 'puerto': 6670, 'adventure': 6671, 'battlefield': 6672, 'lyndon': 6673, 'ala': 6674, 'sweep': 6675, 'somalia': 6676, 'assurance': 6677, 'dick': 6678, 'unfolding': 6679, 'settled': 6680, 'albeit': 6681, 'substantially': 6682, 'arnaldo': 6683, 'rodgers': 6684, 'lopez': 6685, 'vnn': 6686, 'technician': 6687, 'criminally': 6688, 'karen': 6689, 'belonged': 6690, 'bruce': 6691, 'mccain': 6692, 'appoint': 6693, 'blessing': 6694, 'shirt': 6695, 'gowdy': 6696, 'groundwork': 6697, 'sting': 6698, 'unwilling': 6699, 'looting': 6700, 'visible': 6701, 'retaliation': 6702, 'optimism': 6703, 'dunford': 6704, 'chuck': 6705, 'todd': 6706, 'headlined': 6707, 'indispensable': 6708, 'herman': 6709, 'escalation': 6710, 'observatory': 6711, 'reconciliation': 6712, 'amounted': 6713, 'islamist': 6714, 'moderator': 6715, 'arrives': 6716, 'va': 6717, 'vega': 6718, 'showdown': 6719, 'prohibit': 6720, 'hypothetical': 6721, 'farther': 6722, 'securing': 6723, 'courtroom': 6724, 'portland': 6725, 'badge': 6726, 'tightening': 6727, 'bent': 6728, 'peshmerga': 6729, 'booker': 6730, 'toss': 6731, 'stole': 6732, 'cloud': 6733, 'pa': 6734, 'dennis': 6735, 'hawk': 6736, 'caliphate': 6737, 'petraeus': 6738, 'prompted': 6739, 'cruel': 6740, 'execution': 6741, 'beloved': 6742, 'inmate': 6743, 'wrestling': 6744, 'dust': 6745, 'craft': 6746, 'urgency': 6747, 'undercut': 6748, 'harder': 6749, 'snap': 6750, 'extraterrestrial': 6751, 'mar': 6752, 'integration': 6753, 'milestone': 6754, 'maidan': 6755, 'cnbc': 6756, 'brad': 6757, 'nightly': 6758, 'spark': 6759, 'visitor': 6760, 'flowing': 6761, 'subtle': 6762, 'grasp': 6763, 'venue': 6764, 'mentor': 6765, 'connecticut': 6766, 'formidable': 6767, 'taxation': 6768, 'traveled': 6769, 'geo': 6770, 'millionaire': 6771, 'lgbtq': 6772, 'stadium': 6773, 'invade': 6774, 'cincinnati': 6775, 'factory': 6776, 'disliked': 6777, 'shoe': 6778, 'align': 6779, 'touting': 6780, 'scored': 6781, 'clarify': 6782, 'mouse': 6783, 'romantic': 6784, 'earliest': 6785, 'wary': 6786, 'zarif': 6787, 'educational': 6788, 'curb': 6789, 'walker': 6790, 'rated': 6791, 'algorithm': 6792, 'reversal': 6793, 'wayne': 6794, 'catching': 6795, 'huffpost': 6796, 'lending': 6797, 'wilson': 6798, 'catherine': 6799, 'veto': 6800, 'rant': 6801, 'terrain': 6802, 'keystone': 6803, 'xl': 6804, 'container': 6805, 'offset': 6806, 'nominate': 6807, 'elector': 6808, 'dividing': 6809, 'protestant': 6810, 'temper': 6811, 'scorpio': 6812, 'hemisphere': 6813, 'collectively': 6814, 'ash': 6815, 'chaotic': 6816, 'nebraska': 6817, 'blessed': 6818, 'grateful': 6819, 'searching': 6820, 'cyrus': 6821, 'mistry': 6822, 'tata': 6823, 'mock': 6824, 'jurisdiction': 6825, 'screen': 6826, 'symbolic': 6827, 'emailed': 6828, 'civic': 6829, 'mantra': 6830, 'viable': 6831, 'diminished': 6832, 'loyalty': 6833, 'stamp': 6834, 'lieutenant': 6835, 'pregnancy': 6836, 'provider': 6837, 'correction': 6838, 'orientation': 6839, 'desert': 6840, 'acknowledges': 6841, 'excluded': 6842, 'skeptic': 6843, 'rallying': 6844, 'cotton': 6845, 'jenner': 6846, 'outgoing': 6847, 'pivot': 6848, 'confronting': 6849, 'persona': 6850, 'stronghold': 6851, 'endorsing': 6852, 'slim': 6853, 'collins': 6854, 'harshly': 6855, 'favorably': 6856, 'zealand': 6857, 'vanished': 6858, 'injunction': 6859, 'fierce': 6860, 'controlling': 6861, 'parallel': 6862, 'contemporary': 6863, 'silicon': 6864, 'insecurity': 6865, 'sandler': 6866, 'sketch': 6867, 'picking': 6868, 'deduction': 6869, 'courthouse': 6870, 'overtime': 6871, 'taser': 6872, 'entrusted': 6873, 'botched': 6874, 'juvenile': 6875, 'tout': 6876, 'morris': 6877, 'robby': 6878, 'josh': 6879, 'jasta': 6880, 'salman': 6881, 'confederate': 6882, 'appealing': 6883, 'persian': 6884, 'conservation': 6885, 'apprentice': 6886, 'punched': 6887, 'kim': 6888, 'detroit': 6889, 'surveyed': 6890, 'mining': 6891, 'fracking': 6892, 'restaurant': 6893, 'arriving': 6894, 'morally': 6895, 'metaphor': 6896, 'boosting': 6897, 'empathy': 6898, 'attacker': 6899, 'exclude': 6900, 'nestle': 6901, 'gallon': 6902, 'loophole': 6903, 'hiring': 6904, 'feb': 6905, 'dem': 6906, 'astronomer': 6907, 'exploring': 6908, 'luxury': 6909, 'hurdle': 6910, 'newcomer': 6911, 'strategically': 6912, 'shy': 6913, 'scalia': 6914, 'ginsburg': 6915, 'disappointing': 6916, 'unfairly': 6917, 'moines': 6918, 'slain': 6919, 'ernst': 6920, 'haley': 6921, 'mortality': 6922, 'guantanamo': 6923, 'intensified': 6924, 'reed': 6925, 'announces': 6926, 'vibration': 6927, 'tai': 6928, 'fivethirtyeight': 6929, 'teleprompter': 6930, 'millennial': 6931, 'checker': 6932, 'bishop': 6933, 'altered': 6934, 'gallup': 6935, 'mcmullin': 6936, 'stayed': 6937, 'wireless': 6938, 'tb': 6939, 'praising': 6940, 'risky': 6941, 'sudan': 6942, 'insistence': 6943, 'buzz': 6944, 'hail': 6945, 'exhausted': 6946, 'alaska': 6947, 'tennessee': 6948, 'aging': 6949, 'slot': 6950, 'merrill': 6951, 'supervisor': 6952, 'zika': 6953, 'mosquito': 6954, 'infected': 6955, 'microcephaly': 6956, 'toxicity': 6957, 'grief': 6958, 'spiral': 6959, 'unesco': 6960, 'haram': 6961, 'mosque': 6962, 'pleased': 6963, 'russell': 6964, 'unilateral': 6965, 'benefited': 6966, 'grid': 6967, 'breath': 6968, 'tail': 6969, 'clerk': 6970, 'neural': 6971, 'shell': 6972, 'bargaining': 6973, 'greeted': 6974, 'volatile': 6975, 'contingent': 6976, 'marshall': 6977, 'encountered': 6978, 'pragmatic': 6979, 'disadvantage': 6980, 'thanksgiving': 6981, 'socially': 6982, 'acronym': 6983, 'pelosi': 6984, 'legalizing': 6985, 'neil': 6986, 'narrowly': 6987, 'innovation': 6988, 'discretion': 6989, 'corrected': 6990, 'sandy': 6991, 'rift': 6992, 'spectacular': 6993, 'unfavorably': 6994, 'gaffe': 6995, 'disability': 6996, 'intact': 6997, 'slam': 6998, 'contender': 6999, 'nightclub': 7000, 'escalated': 7001, 'effectiveness': 7002, 'sampling': 7003, 'kunduz': 7004, 'kabul': 7005, 'danish': 7006, 'counterterrorism': 7007, 'orthodoxy': 7008, 'provoked': 7009, 'yanukovych': 7010, 'ebola': 7011, 'polarized': 7012, 'plotting': 7013, 'supercharge': 7014, 'brainforce': 7015, 'infowarsstore': 7016, 'ims': 7017, 'tzrwu': 7018, 'weighed': 7019, 'retire': 7020, 'repealing': 7021, 'veiled': 7022, 'sailor': 7023, 'dangerously': 7024, 'hype': 7025, 'seeming': 7026, 'baltimore': 7027, 'imagination': 7028, 'epa': 7029, 'recognizes': 7030, 'mattered': 7031, 'crap': 7032, 'crashed': 7033, 'precinct': 7034, 'fetus': 7035, 'mall': 7036, 'converted': 7037, 'dotcom': 7038, 'understandable': 7039, 'globally': 7040, 'handing': 7041, 'reactor': 7042, 'incompetent': 7043, 'calais': 7044, 'worldview': 7045, 'scripted': 7046, 'embracing': 7047, 'disaffected': 7048, 'opt': 7049, 'schumer': 7050, 'embattled': 7051, 'startling': 7052, 'napolitano': 7053, 'enrolled': 7054, 'playbook': 7055, 'noble': 7056, 'ailes': 7057, 'struggled': 7058, 'climb': 7059, 'matchup': 7060, 'envelope': 7061, 'shiite': 7062, 'clashed': 7063, 'montana': 7064, 'jefferson': 7065, 'pageant': 7066, 'disciplined': 7067, 'baker': 7068, 'uphill': 7069, 'rachel': 7070, 'podium': 7071, 'perez': 7072, 'univision': 7073, 'suspend': 7074, 'myriad': 7075, 'handgun': 7076, 'televised': 7077, 'trustworthy': 7078, 'suv': 7079, 'psaki': 7080, 'forcefully': 7081, 'evangelical': 7082, 'frey': 7083, 'reformer': 7084, 'freshman': 7085, 'mitch': 7086, 'mcconnell': 7087, 'ethiopia': 7088, 'lesley': 7089, 'stahl': 7090, 'evolve': 7091, 'grocery': 7092, 'unlawful': 7093, 'woe': 7094, 'reince': 7095, 'priebus': 7096, 'superdelegates': 7097, 'circulated': 7098, 'affirmative': 7099, 'yougov': 7100, 'delaware': 7101, 'bernardino': 7102, 'fred': 7103, 'gavin': 7104, 'macfadyen': 7105, 'alleging': 7106, 'birther': 7107, 'vetting': 7108, 'carson': 7109, 'monte': 7110, 'hiv': 7111, 'drafted': 7112, 'beau': 7113, 'wiped': 7114, 'mammogram': 7115, 'digit': 7116, 'unsuccessful': 7117, 'blasting': 7118, 'adjusted': 7119, 'sounded': 7120, 'destination': 7121, 'emirate': 7122, 'sometime': 7123, 'seattle': 7124, 'coal': 7125, 'kratom': 7126, 'nonpartisan': 7127, 'exam': 7128, 'mohammad': 7129, 'ptsd': 7130, 'denis': 7131, 'modi': 7132, 'sinai': 7133, 'orleans': 7134, 'adelson': 7135, 'baghdadi': 7136, 'bench': 7137, 'adapt': 7138, 'lapse': 7139, 'watcher': 7140, 'talented': 7141, 'tibet': 7142, 'tuition': 7143, 'gunman': 7144, 'manchester': 7145, 'bracket': 7146, 'neurosurgeon': 7147, 'akin': 7148, 'methane': 7149, 'foreclosure': 7150, 'surging': 7151, 'hogan': 7152, 'ayotte': 7153, 'portman': 7154, 'rhode': 7155, 'defund': 7156, 'duncan': 7157, 'centrifuge': 7158, 'qualify': 7159, 'malik': 7160, 'quinnipiac': 7161, 'generic': 7162, 'heartland': 7163, 'belt': 7164, 'constituent': 7165, 'coin': 7166, 'zulu': 7167, 'slager': 7168, 'underscored': 7169, 'overhaul': 7170, 'sinjar': 7171, 'rust': 7172, 'nod': 7173, 'martian': 7174, 'override': 7175, 'bump': 7176, 'centrist': 7177, 'in': 7178, 'abandoning': 7179, 'favorability': 7180, 'kurtz': 7181, 'robbery': 7182, 'midterm': 7183, 'thiel': 7184, 'abadi': 7185, 'microphone': 7186, 'toughest': 7187, 'iarc': 7188, 'huckabee': 7189, 'baptist': 7190, 'vacancy': 7191, 'ariz': 7192, 'boer': 7193, 'breakfast': 7194, 'marry': 7195, 'applause': 7196, 'saakashvili': 7197, 'georgian': 7198, 'embargo': 7199, 'ky': 7200, 'reilly': 7201, 'dolezal': 7202, 'sotomayor': 7203, 'brook': 7204, 'machado': 7205, 'garland': 7206, 'presumptive': 7207, 'antonin': 7208, 'palmer': 7209, 'splc': 7210, 'mateen': 7211, 'farook': 7212, 'abdulazeez': 7213, 'indianapolis': 7214, 'schiff': 7215, 'tex': 7216, 'chattanooga': 7217, 'saponin': 7218, 'kouachi': 7219, 'freddie': 7220, 'camden': 7221, 'manhunt': 7222, 'nominating': 7223, 'contraception': 7224, 'forceful': 7225, 'condolence': 7226, 'haul': 7227, 'chafee': 7228, 'clinch': 7229, 'gavel': 7230, 'corker': 7231, 'evenly': 7232, 'marathon': 7233, 'curiel': 7234, 'coulibaly': 7235, 'orc': 7236, 'fnc': 7237, 'kobani': 7238, 'palin': 7239, 'jindal': 7240, 'lindsey': 7241, 'santorum': 7242, 'carly': 7243, 'fiorina': 7244, 'grassley': 7245, 'hewlett': 7246, 'packard': 7247, 'mediabuzz': 7248, 'flanagan': 7249, 'stephanopoulos': 7250, 'mullah': 7251, 'aumf': 7252, 'corey': 7253, 'lewandowski': 7254, 'nepal': 7255, 'mullen': 7256, 'pataki': 7257, 'durst': 7258, 'marquez': 7259, 'menendez': 7260, 'abdeslam': 7261, 'pagliano': 7262, 'egyptair': 7263, 'abaaoud': 7264, 'bevin': 7265, 'mosby': 7266, 'ame': 7267, 'nemtsov': 7268, 'bergdahl': 7269, 'dapa': 7270}\n"
     ]
    }
   ],
   "source": [
    "print(vectorizer.news_vocab._token_to_idx)"
   ]
  },
  {
   "cell_type": "code",
   "execution_count": 15,
   "metadata": {},
   "outputs": [
    {
     "name": "stdout",
     "output_type": "stream",
     "text": [
      "{'FAKE': 0, 'REAL': 1}\n"
     ]
    }
   ],
   "source": [
    "print(vectorizer.category_vocab._token_to_idx)"
   ]
  },
  {
   "cell_type": "code",
   "execution_count": 16,
   "metadata": {},
   "outputs": [
    {
     "data": {
      "text/plain": [
       "1002"
      ]
     },
     "execution_count": 16,
     "metadata": {},
     "output_type": "execute_result"
    }
   ],
   "source": [
    "dataset._max_seq_length"
   ]
  },
  {
   "cell_type": "markdown",
   "metadata": {},
   "source": [
    "### Training loop"
   ]
  },
  {
   "cell_type": "code",
   "execution_count": 17,
   "metadata": {
    "scrolled": true
   },
   "outputs": [
    {
     "data": {
      "application/vnd.jupyter.widget-view+json": {
       "model_id": "d83f2e9b72644579a1c7daa2b20e4a66",
       "version_major": 2,
       "version_minor": 0
      },
      "text/plain": [
       "training routine:   0%|          | 0/100 [00:00<?, ?it/s]"
      ]
     },
     "metadata": {},
     "output_type": "display_data"
    },
    {
     "data": {
      "application/vnd.jupyter.widget-view+json": {
       "model_id": "6e96cb90194b4804b61bdd19b9e83105",
       "version_major": 2,
       "version_minor": 0
      },
      "text/plain": [
       "split=train:   0%|          | 0/69 [00:00<?, ?it/s]"
      ]
     },
     "metadata": {},
     "output_type": "display_data"
    },
    {
     "data": {
      "application/vnd.jupyter.widget-view+json": {
       "model_id": "7518222f2bde4b5294439a96ffd45575",
       "version_major": 2,
       "version_minor": 0
      },
      "text/plain": [
       "split=val:   0%|          | 0/14 [00:00<?, ?it/s]"
      ]
     },
     "metadata": {},
     "output_type": "display_data"
    }
   ],
   "source": [
    "classifier = classifier.to(args.device)\n",
    "dataset.class_weights = dataset.class_weights.to(args.device)\n",
    "    \n",
    "loss_func = nn.CrossEntropyLoss(dataset.class_weights)\n",
    "optimizer = optim.Adam(classifier.parameters(), lr=args.learning_rate)\n",
    "scheduler = optim.lr_scheduler.ReduceLROnPlateau(optimizer=optimizer, mode='min', factor=0.5, patience=1)\n",
    "\n",
    "train_state = make_train_state(args)\n",
    "\n",
    "epoch_bar = tqdm(desc='training routine', total=args.num_epochs, position=0)\n",
    "\n",
    "dataset.set_split('train')\n",
    "train_bar = tqdm(desc='split=train', total=dataset.get_num_batches(args.batch_size), position=1, leave=True)\n",
    "\n",
    "dataset.set_split('val')\n",
    "val_bar = tqdm(desc='split=val', total=dataset.get_num_batches(args.batch_size), position=1, leave=True)\n",
    "\n",
    "try:\n",
    "    for epoch_index in range(args.num_epochs):\n",
    "        train_state['epoch_index'] = epoch_index\n",
    "\n",
    "        # Iterate over training dataset\n",
    "\n",
    "        # setup: batch generator, set loss and acc to 0, set train mode on\n",
    "\n",
    "        dataset.set_split('train')\n",
    "        batch_generator = generate_batches(dataset, \n",
    "                                           batch_size=args.batch_size, \n",
    "                                           device=args.device)\n",
    "        running_loss = 0.0\n",
    "        running_acc = 0.0\n",
    "        classifier.train()\n",
    "\n",
    "        for batch_index, batch_dict in enumerate(batch_generator):\n",
    "            # the training routine is these 5 steps:\n",
    "\n",
    "            # --------------------------------------\n",
    "            # step 1. zero the gradients\n",
    "            optimizer.zero_grad()\n",
    "\n",
    "            # step 2. compute the output\n",
    "            y_pred = classifier(batch_dict['x_data']) # (batch, seq_len) -> (batch, num_classes)\n",
    "\n",
    "            # step 3. compute the loss\n",
    "            loss = loss_func(y_pred, batch_dict['y_target'])\n",
    "            loss_t = loss.item()\n",
    "            running_loss += (loss_t - running_loss) / (batch_index + 1)\n",
    "\n",
    "            # step 4. use loss to produce gradients\n",
    "            loss.backward()\n",
    "\n",
    "            # step 5. use optimizer to take gradient step\n",
    "            optimizer.step()\n",
    "            # -----------------------------------------\n",
    "            # compute the accuracy\n",
    "            acc_t = compute_accuracy(y_pred, batch_dict['y_target'])\n",
    "            running_acc += (acc_t - running_acc) / (batch_index + 1)\n",
    "\n",
    "            # update bar\n",
    "            train_bar.set_postfix(loss=running_loss, acc=running_acc, \n",
    "                                  epoch=epoch_index)\n",
    "            train_bar.update()\n",
    "\n",
    "        train_state['train_loss'].append(running_loss)\n",
    "        train_state['train_acc'].append(running_acc)\n",
    "\n",
    "        # Iterate over val dataset\n",
    "\n",
    "        # setup: batch generator, set loss and acc to 0; set eval mode on\n",
    "        dataset.set_split('val')\n",
    "        batch_generator = generate_batches(dataset, \n",
    "                                           batch_size=args.batch_size, \n",
    "                                           device=args.device)\n",
    "        running_loss = 0.\n",
    "        running_acc = 0.\n",
    "        classifier.eval()\n",
    "\n",
    "        for batch_index, batch_dict in enumerate(batch_generator):\n",
    "\n",
    "            # compute the output\n",
    "            y_pred =  classifier(batch_dict['x_data'])\n",
    "\n",
    "            # step 3. compute the loss\n",
    "            loss = loss_func(y_pred, batch_dict['y_target'])\n",
    "            loss_t = loss.item()\n",
    "            running_loss += (loss_t - running_loss) / (batch_index + 1)\n",
    "\n",
    "            # compute the accuracy\n",
    "            acc_t = compute_accuracy(y_pred, batch_dict['y_target'])\n",
    "            running_acc += (acc_t - running_acc) / (batch_index + 1)\n",
    "            val_bar.set_postfix(loss=running_loss, acc=running_acc, \n",
    "                            epoch=epoch_index)\n",
    "            val_bar.update()\n",
    "\n",
    "        train_state['val_loss'].append(running_loss)\n",
    "        train_state['val_acc'].append(running_acc)\n",
    "\n",
    "        train_state = update_train_state(args=args, model=classifier,\n",
    "                                         train_state=train_state)\n",
    "\n",
    "        scheduler.step(train_state['val_loss'][-1])\n",
    "\n",
    "        if train_state['stop_early']:\n",
    "            break\n",
    "\n",
    "        train_bar.n = 0\n",
    "        val_bar.n = 0\n",
    "        epoch_bar.update()\n",
    "except KeyboardInterrupt:\n",
    "    print(\"Exiting loop\")\n"
   ]
  },
  {
   "cell_type": "code",
   "execution_count": 18,
   "metadata": {},
   "outputs": [
    {
     "data": {
      "image/png": "[encoded data removed]",
      "text/plain": [
       "<Figure size 640x480 with 1 Axes>"
      ]
     },
     "metadata": {},
     "output_type": "display_data"
    }
   ],
   "source": [
    "%matplotlib inline\n",
    "import matplotlib.pyplot as plt\n",
    "\n",
    "acc = train_state['train_acc']\n",
    "val_acc = train_state['val_acc']\n",
    "loss = train_state['train_loss']\n",
    "val_loss = train_state['val_loss']\n",
    "\n",
    "epochs = range(1, len(acc) + 1)\n",
    "\n",
    "# \"bo\" is for \"blue dot\"\n",
    "plt.plot(epochs, loss, 'bo', label='Training loss')\n",
    "# b is for \"solid blue line\"\n",
    "plt.plot(epochs, val_loss, 'b', label='Validation loss')\n",
    "plt.title('Training and validation loss')\n",
    "plt.xlabel('Epochs')\n",
    "plt.ylabel('Loss')\n",
    "plt.legend()\n",
    "\n",
    "plt.show()"
   ]
  },
  {
   "cell_type": "code",
   "execution_count": 19,
   "metadata": {},
   "outputs": [
    {
     "data": {
      "image/png": "[encoded data removed]",
      "text/plain": [
       "<Figure size 640x480 with 1 Axes>"
      ]
     },
     "metadata": {},
     "output_type": "display_data"
    }
   ],
   "source": [
    "plt.clf()   # clear figure\n",
    "\n",
    "plt.plot(epochs, acc, 'bo', label='Training acc')\n",
    "plt.plot(epochs, val_acc, 'b', label='Validation acc')\n",
    "plt.title('Training and validation accuracy')\n",
    "plt.xlabel('Epochs')\n",
    "plt.ylabel('Accuracy')\n",
    "plt.legend()\n",
    "\n",
    "plt.show()"
   ]
  },
  {
   "cell_type": "code",
   "execution_count": 20,
   "metadata": {},
   "outputs": [],
   "source": [
    "# compute the loss & accuracy on the test set using the best available model\n",
    "\n",
    "classifier.load_state_dict(torch.load(train_state['model_filename'])) # load the best model\n",
    "\n",
    "classifier = classifier.to(args.device)\n",
    "dataset.class_weights = dataset.class_weights.to(args.device)\n",
    "loss_func = nn.CrossEntropyLoss(dataset.class_weights)\n",
    "\n",
    "dataset.set_split('test')\n",
    "batch_generator = generate_batches(dataset, \n",
    "                                   batch_size=args.batch_size, \n",
    "                                   device=args.device)\n",
    "running_loss = 0.\n",
    "running_acc = 0.\n",
    "classifier.eval()\n",
    "\n",
    "y_pred_list = []         # store predicted values for confusion matrix\n",
    "y_category_list = []  # ground truth value\n",
    "\n",
    "for batch_index, batch_dict in enumerate(batch_generator):\n",
    "    # compute the output\n",
    "    y_pred =  classifier(batch_dict['x_data'])\n",
    "    \n",
    "    # store predicted values and ground truth values for calculating confusion matrix\n",
    "    y_pred_list.extend(y_pred.max(dim=1)[1].cpu().numpy())\n",
    "    y_category_list.extend(batch_dict['y_target'].cpu().numpy())\n",
    "    \n",
    "    # compute the loss\n",
    "    loss = loss_func(y_pred, batch_dict['y_target'])\n",
    "    loss_t = loss.item()\n",
    "    running_loss += (loss_t - running_loss) / (batch_index + 1)\n",
    "\n",
    "    # compute the accuracy\n",
    "    acc_t = compute_accuracy(y_pred, batch_dict['y_target'])\n",
    "    running_acc += (acc_t - running_acc) / (batch_index + 1)\n",
    "\n",
    "train_state['test_loss'] = running_loss\n",
    "train_state['test_acc'] = running_acc\n"
   ]
  },
  {
   "cell_type": "code",
   "execution_count": 21,
   "metadata": {},
   "outputs": [
    {
     "name": "stdout",
     "output_type": "stream",
     "text": [
      "Test loss: 0.25435134608830723;\n",
      "Test Accuracy: 91.40625\n"
     ]
    }
   ],
   "source": [
    "print(\"Test loss: {};\".format(train_state['test_loss']))\n",
    "print(\"Test Accuracy: {}\".format(train_state['test_acc']))"
   ]
  },
  {
   "cell_type": "code",
   "execution_count": 22,
   "metadata": {},
   "outputs": [
    {
     "name": "stdout",
     "output_type": "stream",
     "text": [
      "['FAKE', 'REAL']\n"
     ]
    }
   ],
   "source": [
    "classes = []\n",
    "for i in range(len(dataset._vectorizer.category_vocab)):\n",
    "    classes.append(dataset._vectorizer.category_vocab.lookup_index(i))\n",
    "print(classes)"
   ]
  },
  {
   "cell_type": "code",
   "execution_count": 23,
   "metadata": {},
   "outputs": [
    {
     "name": "stdout",
     "output_type": "stream",
     "text": [
      "True       FAKE  REAL\n",
      "Predicted            \n",
      "FAKE        403    38\n",
      "REAL         39   416\n"
     ]
    }
   ],
   "source": [
    "import pandas as pd\n",
    "from sklearn.metrics import classification_report, confusion_matrix, accuracy_score\n",
    "\n",
    "cm = confusion_matrix(y_category_list, y_pred_list)\n",
    "cm_df = pd.DataFrame(cm.T, index=classes, columns=classes)\n",
    "cm_df.index.name = 'Predicted'\n",
    "cm_df.columns.name = 'True'\n",
    "print(cm_df)"
   ]
  },
  {
   "cell_type": "code",
   "execution_count": 24,
   "metadata": {},
   "outputs": [
    {
     "name": "stdout",
     "output_type": "stream",
     "text": [
      "              precision    recall  f1-score   support\n",
      "\n",
      "           0       0.91      0.91      0.91       442\n",
      "           1       0.91      0.92      0.92       454\n",
      "\n",
      "    accuracy                           0.91       896\n",
      "   macro avg       0.91      0.91      0.91       896\n",
      "weighted avg       0.91      0.91      0.91       896\n",
      "\n"
     ]
    }
   ],
   "source": [
    "print(classification_report(y_category_list, y_pred_list))"
   ]
  },
  {
   "cell_type": "markdown",
   "metadata": {},
   "source": [
    "### Inference"
   ]
  },
  {
   "cell_type": "code",
   "execution_count": 25,
   "metadata": {},
   "outputs": [],
   "source": [
    "# Preprocess the reviews\n",
    "def preprocess_text(text):\n",
    "    text = ' '.join(word.lower() for word in text.split(\" \"))\n",
    "    text = re.sub(r\"([.,!?])\", r\" \\1 \", text)\n",
    "    text = re.sub(r\"[^a-zA-Z.,!?]+\", r\" \", text)\n",
    "    return text"
   ]
  },
  {
   "cell_type": "code",
   "execution_count": 26,
   "metadata": {},
   "outputs": [],
   "source": [
    "def predict_category(title, classifier, vectorizer, max_length):\n",
    "    \"\"\"Predict a News category for a new title\n",
    "    \n",
    "    Args:\n",
    "        title (str): a raw title string\n",
    "        classifier (NewsClassifier): an instance of the trained classifier\n",
    "        vectorizer (NewsVectorizer): the corresponding vectorizer\n",
    "        max_length (int): the max sequence length\n",
    "            Note: CNNs are sensitive to the input data tensor size. \n",
    "                  This ensures to keep it the same size as the training data\n",
    "    \"\"\"\n",
    "    title = preprocess_text(title)\n",
    "    vectorized_title = \\\n",
    "        torch.tensor(vectorizer.vectorize(title, vector_length=max_length))\n",
    "    result = classifier(vectorized_title.unsqueeze(0), apply_softmax=True)\n",
    "    probability_values, indices = result.max(dim=1)\n",
    "    predicted_category = vectorizer.category_vocab.lookup_index(indices.item())\n",
    "\n",
    "    return {'category': predicted_category, \n",
    "            'probability': probability_values.item()}"
   ]
  },
  {
   "cell_type": "code",
   "execution_count": 27,
   "metadata": {},
   "outputs": [],
   "source": [
    "def get_samples():\n",
    "    samples = {}\n",
    "    for cat in dataset.val_df.category.unique():\n",
    "        samples[cat] = dataset.val_df.text[dataset.val_df.category==cat].tolist()[:5]\n",
    "    return samples\n",
    "\n",
    "val_samples = get_samples() # first 5 titles of each category from validation dataset"
   ]
  },
  {
   "cell_type": "code",
   "execution_count": 28,
   "metadata": {},
   "outputs": [
    {
     "name": "stdout",
     "output_type": "stream",
     "text": [
      "True Category: FAKE\n",
      "==============================\n",
      "Prediction: FAKE (p=1.00)\n",
      "\t + Sample: hillary clinton postapocalyptic hellscape plan hillary clinton postapocalyptic hellscape plan important avoid age peace hillary clinton postapocalyptic hellscape plan b look email even com wrong comdingdangaramaramaflimflam mail question comment site godlike production glp registered trademark zero point ltd godlike website design copyright godlikeproductions com page generated query\n",
      "Prediction: FAKE (p=1.00)\n",
      "\t + Sample: russophobia war party propaganda information russophobia war party propaganda world reactionary regime head chopping terror sponsoring saudi arabian kleptocracy awarded chair un human right council russia kicked travesty engineered superpower lie punish moscow resisting u led war sectarian massacre regime change syria war party march cheer corporate medium hillary even elected yet margaret kimberley attempt stop fighting rejected u nato sealed fate syrian people november information clearing house bar russia invade iraq kill one million people russia greater percentage population behind bar country world russia occupy haiti kidnapping president russian police allowed shoot child death without fear repercussion russia entering th year terror war people somalia crime take place direction united state yet full force propaganda influence world opinion directed russia whatever shortcoming hold candle america violating human right danger presented hillary clinton presidency overstated war party steadily working towards goal defies logic risk life earth regime change modus operandi hope make reality russia nearly every claim russian evil lie ruse meant put american fighting mood lose fear nuclear conflagration clear clinton rest would warrior actually realize risking mushroom cloud perhaps believe vladimir putin easily pushed around evidence point contrary unproven allegation interference presidential election casting blame russia sole cause suffering syria meant desensitize public age old ploy make war acceptable deemed necessity usual suspect helping eagerly corporate medium led newspaper like new york time washington post front center pushing tale russian villainy human right watch organization care nothing abuse committed united state ally also playing usual role choosing next regime change victim russia lost seat united nation human right council part american pressure public relation assistance human right industrial complex unhrc chaired saudi arabia saudi arabia absolute monarchy fund jihadist terrorist group caused syrian death saudi causing dislocation death starvation yemen american ally little opposition misdeed openly bigoted donald trump perfect foil hillary clinton rest democratic party leadership preferred rival made case discredited lesser evilism argument sensible statement avoiding enmity russia made even useful united state ally cause syria destruction effort overthrow president assad created humanitarian disaster complete isi al nusra fighter love chop head entertainment far cause catastrophe russia left ally fight alone four year even made overture negotiate assad fate united state attempt stop fighting rejected u nato sealed fate syrian people people east aleppo shelled american ally one know reading pass journalism newspaper television american role slaughter barely mentioned excused effort protect civilian population bloodshed made u could end government wanted anti russian propaganda effort worked perfection nato massing troop russia border clear provocation yet putin labeled bad guy said menacing country join threatening nation united state make phony claim russian war crime despite blood hand latest human right watch canard prosecuting assad come straight white house state department nothing concern syrian living fifth year hell lesser evil hillary clinton donald trump fully supported war party desire muscular foreign policy bizarre term mean death starvation million people clinton win landslide must denied victory magnitude opportunity claim mandate peace loving people must give vote green party ticket jill stein ajamu baraka alone rejecting premise imperialist country endless war united state dangerous country world reckless war loving president threat becomes existential prospect face hillary clinton presidency role villain cast world stage star show margaret kimberley freedom rider column appears weekly bar widely reprinted elsewhere maintains frequently updated blog well http freedomrider blogspot com m kimberley life new york city reached via e mail margaret kimberley blackagendareport com russia kill civilian u promotes democracy washington mantra domestic consumption\n",
      "Prediction: FAKE (p=0.99)\n",
      "\t + Sample: world champion boxer manny pacquiao build home poor filipino earning million fighting floyd mayweather boxer politician used portion earnings construct home poor family hometown manny pacquiao world class athlete filipino politician compassionate activist paid home built help underprivileged family hometown via anonews earlier year pacquiao proclaimed good deed facebook happy giving house free constituent sarangani province pocket thousand family beneficiary star report born christian inspired help poor family duking floyd mayweather though lost boxing match still earned million dollar fight century felt duty give back wrote faithful steward god grace various form use whatever gift received serve others still building always believe bible say offer hospitality one another without grumbling act compassion could nothing calculated political move nonetheless family secure living space thanks senator generosity believe worth celebrating\n",
      "Prediction: REAL (p=0.90)\n",
      "\t + Sample: hillary era coming worry photo veni cc trust one noticed rural area economically distressed neighborhood town city lawn sign donald trump everywhere hillary sign rarer tesla maseratis think understand trump sign cry defiance hillary supporter harder figure suspect would soon advertise intention november even think way stop trump understand voting hillary embarrassing lawn sign apart evidence trump kaput overwhelming seems finally done campaign extent even diehard anti trump fear monger concede inevitability clinton return white house trump campaign life support week pussy grabbing tape surfaced followed seemingly endless stream woman dozen already accusing donald groping worse third debate trump announced would wait see accepting legitimacy clinton victory seems final straw bona fide deplorables writing wall hillary win surely sun rise tomorrow well quite almost reason rejoice victory trump defeat even obvious seems hillary probably lesser evil thing considered trump likely le dangerous two man adolescent septuagenarian body tendency act least russophobe neocon humanitarian intervener intent regime change country resist american domination would include usual victim country incapable harming united state militarily russia china well relevant supposed lesser evil committed neoliberal wall street toady trump crooked hillary taunt hit target often consideration others like cause concern fine lesser evil voting general think threshold beneath lesser evil consideration apply need agonize issue however case trump became republican nominee lesser evil argument became moot would still case even voter quite willfully blind danger inherent clinton determination maintain american world domination mean necessary fondness military solution lesser evil consideration irrelevant trump always bound lose democrat even pressing point corollary anti trump hysteria distraction day one recently month ago hardly anyone agreed dollar every time taken task seeing parallel trump phenomenon rise nazism final year weimar republic would rich man today recognized trump chance becoming president practical purpose nil one pressing line day used limb longer would natural take pleasure turn event would fact trump defeat implies clinton victory prospect best slightly le nightmarish worse seem matter flagrant worrywart finally concede never president trump liberal centrist even foolish leftist still going hillary dead center soft left consensus view still time boost knock hillary campaign especially dozen state electoral college outcome could determined year ago absolute certainty remarkable many people let anti trump hysteria go focused trump misogyny temperamental instability narcissistic blather see thing need fear trump concerned speak fear however hillary case really something fear become commander chief lethal military force history world point supporter denial even people know better support sake remain determined waste vote adding total apparently think way send message trumpian fascism shall pas much better would would use vote build alternative neoliberal perpetual war regime hillary bill co thinker helped fashion best chance point jill stein campaign green party ticket stein win course vote protest vote nothing wrong hillary need know mandate end world know one many way convey message pundit claim otherwise dead wrong pile hillary wasting vote protest vote aimed hillary wasted would imagine least trump voter thinking along similar line racism nativism islamophobia candidate tarnish message vote convey therefore register real clarity message protest vote stein convey hand clear distinct garner least five percent total vote cast green access federal funding future election much easier time gaining ballot access fifty state would make much political revolution even bernie sander highly attenuated sense term would make future election le mind numbing degrading could ultimately lead far reaching transformation political scene trump killed gop duopoly party system jeopardy kind political realignments last become feasible contrarian went limb trump chance confidence way based inference polling data statistical extrapolation let blogosphere political junky corporate medium talking head knock useful entertaining people care horse race aspect presidential election distressing many american indulge spectator sport essentially apolitical confident right trump chance knew people tell pollster election seems far basically irrelevant predicting election outcome information people like voted past relevant much especially true case disdain one candidate dispositive factor many voter mind also fairly sure rightly wrongly people fear loathe trump fear loathe hillary outset would long trump certain undermine much dirt donald sleazy connection moral turpitude even god fearing republican capable believing almost nonsense bound eventually repulsed suspected trump never really wanted president got race promote brand egotist publicity hound trump hate lose however especially like hillary point must decided give campaign even meant bringing trump brand come shed crocodile tear brood ivanka especially worthwhile thing month ahead would work make happen everything possible assure damage done thing trump irreversible delightful irony would plenty hillary hater donald base hate hillary consider embodiment coercive goody goodyism think disdainful people like people deplorables demographic think leftwing idea leftwing nonsense course nearly leftwing enough anyone would think otherwise testament medium ability shape public perception degree political ignorance rampant quarter american electorate vast rightwing conspiracy hillary hater spot right rest two three bad even better reason dread prospect clinton presidency service hillary done go miscreant control commanding height america world capitalist order untrammeled ideologically driven bellicosity hillary know game system bill know benefit vaunted experience clueless world although fan boast pragmatism woman seriously inept undertakes ill conceived nearly turn badly short lesser evil great evil indeed take long move back white house start putting stamp empire depredation scale fall eye gullible supporter even sure trump defeat take even le joy proved right lie ahead hillary control horrible contemplate join debate facebook andrew levine senior scholar institute policy study author recently american ideology routledge political key word blackwell well many book article political philosophy recent book bad faith wrong opium people professor philosophy university wisconsin madison research professor philosophy university maryland college park contributor hopeless barack obama politics illusion ak press\n",
      "Prediction: FAKE (p=1.00)\n",
      "\t + Sample: connect series webinar oct financial market news cover dominating theme market share pattern analysis perspective empower member make better investment decision\n",
      "------------------------------\n",
      "\n",
      "True Category: REAL\n",
      "==============================\n",
      "Prediction: FAKE (p=0.59)\n",
      "\t + Sample: common core quietly war argentine president mauricio macri office rebutting report argentinian journalist set wave american medium\n",
      "Prediction: REAL (p=1.00)\n",
      "\t + Sample: u face call walk away iran talk leading republican critic iranian nuclear talk calling u walk away table negotiator missed key deadline lawmaker joined voicing concern iran could extract critical final hour concession scramble salvage agreement negotiation resumed switzerland wednesday almost immediately beset competing claim hour diplomat abandoned march deadline reach outline deal agreed press latest round hit week mark three six foreign minister involved left talk prospect agreement remaining uncertain amid confusion sen tom cotton r ark told fox news concerned framework deal could allow iran keep uranium stockpile continue enrich uranium underground bunker willing walk away table reapply leverage iran cotton said fact willing still sitting switzerland negotiating three negotiating partner already left demonstrates iran continue demand dangerous concession west speaking msnbc former democratic presidential candidate howard dean seemed agree said president obama right seek deal might time step away table make clear u backing key position including iran uranium stockpile pace sanction relief worried dean said rep martha mcsally r ariz also told fox news potentially legitimizing nuclear infrastructure added know exactly behind closed door despite side agreeing blow deadline pursuit rough agreement even white house threatened abandon talk iran budge unwilling make kind commitment give u assurance u mean united state mean international community walk away negotiating table consider option may available u certainly possibility could happen white house press secretary josh earnest said tuesday earnest indicated wednesday still option called scenario hypothetical talk making progress said talk continue productive yet received specific tangible commitment international community require tuesday negotiator trying agree simply joint statement could justify talk continuing final june deadline iran deputy foreign minister abbas araghchi told reporter side make progress text joint statement could issued end day suggested statement would contain specific senior western official quickly pushed back saying nothing statement decided iran negotiating partner would accept document contained detail german foreign ministry tweeted nothing agreed although progress visible araghchi named difference sanction relief country one dispute along dispute iran uranium enrichment related research development definitely research development program high end centrifuge continue told iranian television u negotiating partner want crimp iranian effort improve performance centrifuge enrich uranium advancing technology could let iran produce material could used arm nuclear weapon much quickly present exchange reflected significant gap side came shortly end first post deadline meeting u secretary state john kerry british german counterpart iranian foreign minister mohammed javad zarif swiss town lausanne team continuing marathon effort bridge still significant gap hammer framework accord would serve basis final agreement end june eager avoid collapse discussion united state others claimed late tuesday enough progress made warrant extension six day intense bartering foreign minister china france russia departed lausanne overnight although significance absence clear kerry postponed planned tuesday departure stay lausanne iranian negotiator said team would stay long necessary clear remaining hurdle official say intention produce joint statement outlining general political commitment resolving concern iran nuclear program exchange sanction relief addition trying fashion document would lay detail step must take june meet goal additional document would allow side make case next round talk simply continuation negotiation already twice extended since interim agreement iran united state russia china britain france germany concluded november obama leader including iran said interested third extension party agree broad framework leaf key detail unresolved obama expect stiff opposition home member congress want move forward new stiffer iran sanction lawmaker agreed hold measure march party negotiated white house say new sanction would scuttle diplomatic effort contain iran nuclear work possibly lead israel act threat use military force accomplish goal israeli prime minister benjamin netanyahu continued question course talk wednesday said iran view israel destruction non negotiable evidently giving iran murderous regime clear path bomb negotiable unconscionable said time iran accelerating campaign terror subjugation conquest throughout region recently yemen netanyahu said better deal would significantly roll back iran nuclear infrastructure link lifting restriction nuclear program change iran behavior associated press contributed report\n",
      "Prediction: REAL (p=0.75)\n",
      "\t + Sample: gun control becomes litmus test democratic primary move would make easier trump administration demolish exchange\n",
      "Prediction: REAL (p=1.00)\n",
      "\t + Sample: house gop budget gimmick six men green tie took stage house television studio tuesday house budget committee chairman tom price slight leprechaun man silver hair dark eyebrow approached microphone good mor top mornin ya price announced happy st patrick day altogether fitting republican rolled budget festival inebriation honor man magically apocryphally banished snake ireland republican done budget le fantastic employed lucky charm mystical pot gold make appear sober balancing budget actually rely gimmick creative accounting trick balance budget house republican say introduction fiscal budget true budget rely gimmick budget gimmick pretend keep strict limit defense spending called sequestration pump ten billion extra dollar slush fund called overseas contingency operation mean fund count emergency spending part pentagon budget assumes current tax cut allowed expire scheduled would amount billion tax increase nobody belief would allowed go effect proposes repeal obamacare count revenue saving obamacare law remained effect claim save trillion year fine print budget plan instruction committee asks identify billion saving time assumes trillion cut category known mandatory program specify cut would relies billion additional revenue dynamic scoring generous accounting method account billion plan negotiated increase doctor payment medicare extend child health care program difficulty concealing sleight hand might explain price hurry leave news conference tuesday predecessor rep paul ryan r wi liked give lengthy seminar conservative budgeting theory price took question six minute aide hollered last question chairman gone minute later reporter gave chase leprechaun budget pas one asked think price said locating confidence sure absolutely latest instance republican discovering difficult govern unified control congress past four year budget debut academic exercise would never agreement republican house democratic senate budget might actually mean something firebrand elected past three election need show would handle country finance turn govern much like came legislative smoke mirror rep rob woodall r ga one stage observed folk playing opportunity first time short congressional career actually bring budget united state playing good verb occasion price georgia republican ran conservative republican study committee delivered long statement imparting assurance believe america least three time held page budget camera minute preamble questioning quickly got tricky price ask committee come billion saving floor ceiling price said adding something opportunity provide positive solution american people desire andy taylor associated press asked billion tax increase obamacare revenue assumed budget believe american people believe growth replied price predicting higher expected economic growth would boost tax revenue jonathan weisman new york time asked price would detail trillion mandatory cut budget identify take peek balanced budget stronger america price replied holding budget camera looking weisman said specify sort trick republican longer get away charge read dana milbank archive follow twitter subscribe update facebook\n",
      "Prediction: REAL (p=0.97)\n",
      "\t + Sample: identity isi terrorist known jihadi john reportedly revealed true identity isi terrorist known jihadi john appeared several video showing beheading hostage reportedly revealed washington post first reported thursday citing friend human right worker familiar case man real name mohammed emwazi west london man detained counterterror official britain least two u government source spoke reuters thursday said investigator believe man emwazi according washington post bbc emwazi born kuwait studied computer programming university westminster university confirmed student name graduated allegation true shocked sickened news university said statement emwazi also thought traveled syria sometime around bbc reported british intelligence previously identified man chosen disclose name operational reason commander richard walton london metropolitan police counter terrorism command released statement saying previously asked medium outlet speculate detail investigation basis life risk going confirm identity anyone stage give update progress live counter terrorism investigation london based cage work muslim conflict british intelligence service said thursday research director asim qureshi saw strong similarity emwazi jihadi john hood worn militant way could percent certain center study radicalization political violence king college london closely track fighter syria also said believed identification correct masked hooded terrorist achieved instant notoriety appeared video released isi last august showed beheading american journalist james foley time many commentator analyst remarked man distinct london accent man believed appeared video showed beheading hostage including american journalist steven sotloff british aid worker david haines british taxi driver alan henning american aid worker peter kassig known abdul rahman apparent conversion islam captivity man recent appearance came last month video japanese hostage kenji goto haruna yukawa men also killed terror group terrorist given nickname jihadi john interview former isi hostage revealed part group british jihadist guarded hostage dubbed beatles bbc reported emwazi believed associate known terror suspect traveled somalia allegedly linked funding network somali based militant group al shabaab cage said contact emwazi two year accused british intelligence service harassing said alleged british spy preventing traveling country birth kuwait planned marry one answered door brick row house west london emwazi family alleged lived neighbor surrounding area public housing project either declined comment said know family neighbor janine kintenda said lived area year shocked news oh god told associated press lifting hand mouth bad bad shiraz maher king college radicalization center said investigating whether emwazi among group young west londoner traveled syria many dead including mohammad el araj ibrahim al mazwagi choukri ellekhlifi killed said emwazi background similar british jihadis disproved idea guy impoverished coming deprived background large upwardly mobile people well educated said associated press contributed report\n",
      "------------------------------\n",
      "\n"
     ]
    }
   ],
   "source": [
    "#title = input(\"Enter a news title to classify: \")\n",
    "classifier = classifier.to(\"cpu\")\n",
    "\n",
    "for truth, sample_group in val_samples.items():\n",
    "    print(f\"True Category: {truth}\")\n",
    "    print(\"=\"*30)\n",
    "    for sample in sample_group:\n",
    "        prediction = predict_category(sample, classifier, \n",
    "                                      vectorizer, dataset._max_seq_length)\n",
    "        print(\"Prediction: {} (p={:0.2f})\".format(prediction['category'],\n",
    "                                                  prediction['probability']))\n",
    "        print(\"\\t + Sample: {}\".format(sample))\n",
    "    print(\"-\"*30 + \"\\n\")"
   ]
  },
  {
   "cell_type": "markdown",
   "metadata": {},
   "source": [
    "### Excercise:\n",
    "\n",
    "1. Change F.max_pool1d() to F.avg_pool1d().\n",
    "2. Change use_glove=True to use_glove=False.\n",
    "3. Change other hyperparameters.\n"
   ]
  }
 ],
 "metadata": {
  "kernelspec": {
   "display_name": "Python 3 (ipykernel)",
   "language": "python",
   "name": "python3"
  },
  "language_info": {
   "codemirror_mode": {
    "name": "ipython",
    "version": 3
   },
   "file_extension": ".py",
   "mimetype": "text/x-python",
   "name": "python",
   "nbconvert_exporter": "python",
   "pygments_lexer": "ipython3",
   "version": "3.9.13"
  },
  "toc": {
   "colors": {
    "hover_highlight": "#DAA520",
    "running_highlight": "#FF0000",
    "selected_highlight": "#FFD700"
   },
   "moveMenuLeft": true,
   "nav_menu": {
    "height": "138px",
    "width": "252px"
   },
   "navigate_menu": true,
   "number_sections": true,
   "sideBar": true,
   "skip_h1_title": false,
   "threshold": "5",
   "title_cell": "Table of Contents",
   "title_sidebar": "Contents",
   "toc_cell": false,
   "toc_position": {},
   "toc_section_display": "block",
   "toc_window_display": false
  }
 },
 "nbformat": 4,
 "nbformat_minor": 2
}
