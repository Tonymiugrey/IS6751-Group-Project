{
 "cells": [
  {
   "cell_type": "markdown",
   "metadata": {},
   "source": [
    "# CNN Fake News"
   ]
  },
  {
   "cell_type": "markdown",
   "metadata": {},
   "source": [
    "## Imports"
   ]
  },
  {
   "cell_type": "code",
   "execution_count": 2,
   "metadata": {},
   "outputs": [
    {
     "name": "stderr",
     "output_type": "stream",
     "text": [
      "/Users/miugrey/opt/anaconda3/lib/python3.9/site-packages/scipy/__init__.py:155: UserWarning: A NumPy version >=1.18.5 and <1.25.0 is required for this version of SciPy (detected version 1.25.2\n",
      "  warnings.warn(f\"A NumPy version >={np_minversion} and <{np_maxversion}\"\n",
      "[nltk_data] Downloading package stopwords to\n",
      "[nltk_data]     /Users/miugrey/nltk_data...\n",
      "[nltk_data]   Package stopwords is already up-to-date!\n",
      "[nltk_data] Downloading package wordnet to /Users/miugrey/nltk_data...\n",
      "[nltk_data]   Package wordnet is already up-to-date!\n",
      "[nltk_data] Downloading package punkt to /Users/miugrey/nltk_data...\n",
      "[nltk_data]   Package punkt is already up-to-date!\n",
      "[nltk_data] Downloading package omw-1.4 to /Users/miugrey/nltk_data...\n",
      "[nltk_data]   Package omw-1.4 is already up-to-date!\n"
     ]
    }
   ],
   "source": [
    "import os\n",
    "from argparse import Namespace\n",
    "from collections import Counter\n",
    "import json\n",
    "import re\n",
    "import string\n",
    "\n",
    "import numpy as np\n",
    "import pandas as pd\n",
    "import torch\n",
    "import torch.nn as nn\n",
    "import torch.nn.functional as F\n",
    "import torch.optim as optim\n",
    "from torch.utils.data import Dataset, DataLoader\n",
    "from tqdm.notebook import tqdm\n",
    "\n",
    "import nltk\n",
    "nltk.download('stopwords')\n",
    "nltk.download('wordnet')\n",
    "nltk.download('punkt')\n",
    "nltk.download('omw-1.4')\n",
    "from nltk.corpus import stopwords # remove stopword\n",
    "from nltk.stem import WordNetLemmatizer\n",
    "from nltk.util import ngrams\n",
    "from nltk import word_tokenize"
   ]
  },
  {
   "cell_type": "markdown",
   "metadata": {},
   "source": [
    "## Data Vectorization classes"
   ]
  },
  {
   "cell_type": "markdown",
   "metadata": {},
   "source": [
    "### The Vocabulary"
   ]
  },
  {
   "cell_type": "code",
   "execution_count": 3,
   "metadata": {},
   "outputs": [],
   "source": [
    "class Vocabulary(object):\n",
    "    \"\"\"Class to process text and extract vocabulary for mapping\"\"\"\n",
    "\n",
    "    def __init__(self, token_to_idx=None):\n",
    "        \"\"\"\n",
    "        Args:\n",
    "            token_to_idx (dict): a pre-existing map of tokens to indices\n",
    "        \"\"\"\n",
    "\n",
    "        # news_vocab._token_to_idx: {'<MASK>': 0, '<UNK>': 1, '<BEGIN>': 2, '<END>': 3, 'jobs': 4, 'tax': 5, 'cuts': 6,  \n",
    "        #                             ......, 'shiite': 3407, 'ghraib': 3408}\n",
    "        # category_vocab._token_to_idx: {'Business': 0, 'Sci/Tech': 1, 'Sports': 2, 'World': 3}\n",
    "        \n",
    "        if token_to_idx is None:\n",
    "            token_to_idx = {}\n",
    "        self._token_to_idx = token_to_idx\n",
    "\n",
    "        self._idx_to_token = {idx: token \n",
    "                              for token, idx in self._token_to_idx.items()}\n",
    "        \n",
    "    def add_token(self, token):\n",
    "        \"\"\"Update mapping dicts based on the token.\n",
    "\n",
    "        Args:\n",
    "            token (str): the item to add into the Vocabulary\n",
    "        Returns:\n",
    "            index (int): the integer corresponding to the token\n",
    "        \"\"\"\n",
    "        if token in self._token_to_idx:\n",
    "            index = self._token_to_idx[token]\n",
    "        else:\n",
    "            index = len(self._token_to_idx)\n",
    "            self._token_to_idx[token] = index\n",
    "            self._idx_to_token[index] = token\n",
    "        return index\n",
    "            \n",
    "    def lookup_token(self, token):\n",
    "        \"\"\"Retrieve the index associated with the token \n",
    "        \n",
    "        Args:\n",
    "            token (str): the token to look up \n",
    "        Returns:\n",
    "            index (int): the index corresponding to the token\n",
    "        \"\"\"\n",
    "        return self._token_to_idx[token]\n",
    "\n",
    "    def lookup_index(self, index):\n",
    "        \"\"\"Return the token associated with the index\n",
    "        \n",
    "        Args: \n",
    "            index (int): the index to look up\n",
    "        Returns:\n",
    "            token (str): the token corresponding to the index\n",
    "        Raises:\n",
    "            KeyError: if the index is not in the Vocabulary\n",
    "        \"\"\"\n",
    "        if index not in self._idx_to_token:\n",
    "            raise KeyError(\"the index (%d) is not in the Vocabulary\" % index)\n",
    "        return self._idx_to_token[index]\n",
    "\n",
    "    def __str__(self):\n",
    "        return \"<Vocabulary(size=%d)>\" % len(self)\n",
    "\n",
    "    def __len__(self):\n",
    "        return len(self._token_to_idx)"
   ]
  },
  {
   "cell_type": "code",
   "execution_count": 4,
   "metadata": {},
   "outputs": [],
   "source": [
    "class SequenceVocabulary(Vocabulary):\n",
    "    def __init__(self, token_to_idx=None, unk_token=\"<UNK>\",\n",
    "                 mask_token=\"<MASK>\", begin_seq_token=\"<BEGIN>\",\n",
    "                 end_seq_token=\"<END>\"):\n",
    "\n",
    "        super(SequenceVocabulary, self).__init__(token_to_idx)\n",
    "\n",
    "        self._mask_token = mask_token             # for paddding, e.g., Wall St. Bears Claw Back Into the Black (Reuters)\n",
    "                                                  #               -> [2, 5, 6, 10, 10, 8, 7, 9, 19, ......., 3, 0, 0, 0, ..., 0]\n",
    "        self._unk_token = unk_token\n",
    "        self._begin_seq_token = begin_seq_token\n",
    "        self._end_seq_token = end_seq_token\n",
    "\n",
    "        self.mask_index = self.add_token(self._mask_token)            # mask_index is 0\n",
    "        self.unk_index = self.add_token(self._unk_token)              # unk_index is 1\n",
    "        self.begin_seq_index = self.add_token(self._begin_seq_token)  # begin_seq_index is 2\n",
    "        self.end_seq_index = self.add_token(self._end_seq_token)      # end_seq_index is 3\n",
    "\n",
    "    def lookup_token(self, token):\n",
    "        \"\"\"Retrieve the index associated with the token \n",
    "          or the UNK index if token isn't present.\n",
    "        \n",
    "        Args:\n",
    "            token (str): the token to look up \n",
    "        Returns:\n",
    "            index (int): the index corresponding to the token\n",
    "        Notes:\n",
    "            `unk_index` needs to be >=0 (having been added into the Vocabulary) \n",
    "              for the UNK functionality \n",
    "        \"\"\"\n",
    "        if self.unk_index >= 0:\n",
    "            return self._token_to_idx.get(token, self.unk_index)\n",
    "        else:\n",
    "            return self._token_to_idx[token]"
   ]
  },
  {
   "cell_type": "markdown",
   "metadata": {},
   "source": [
    "### The Vectorizer"
   ]
  },
  {
   "cell_type": "code",
   "execution_count": 5,
   "metadata": {},
   "outputs": [],
   "source": [
    "class NewsVectorizer(object):\n",
    "    \"\"\" The Vectorizer which coordinates the Vocabularies and puts them to use\"\"\"    \n",
    "    def __init__(self, news_vocab, category_vocab):\n",
    "        self.news_vocab = news_vocab\n",
    "        self.category_vocab = category_vocab\n",
    "\n",
    "    def vectorize(self, text, vector_length=-1):\n",
    "        \"\"\"\n",
    "        Args:\n",
    "            text (str): the string of words separated by a space\n",
    "            vector_length (int): an argument for forcing the length of index vector\n",
    "        Returns:\n",
    "            the vetorized text (numpy.array)\n",
    "        \"\"\"\n",
    "        \"\"\"    \n",
    "        mask_index is 0\n",
    "        unk_index is 1\n",
    "        begin_seq_index is 2\n",
    "        end_seq_index is 3\n",
    "        \n",
    "        When text is \"Wall St. Bears Claw Back Into the Black (Reuters)\"; max vector length is 29 in current dataset \n",
    "        \n",
    "        out_vector = [2, 5, 6, 10, 10, 8, 7, 9, 19, ......., 3, 0, 0, 0, ..., 0]\n",
    "        \n",
    "        \"\"\"\n",
    "        \n",
    "        indices = [self.news_vocab.begin_seq_index]\n",
    "        indices.extend(self.news_vocab.lookup_token(token) \n",
    "                       for token in text.split(\" \"))\n",
    "        indices.append(self.news_vocab.end_seq_index)\n",
    "\n",
    "        if vector_length < 0:\n",
    "            vector_length = len(indices)\n",
    "\n",
    "        out_vector = np.zeros(vector_length, dtype=np.int64)\n",
    "        out_vector[:len(indices)] = indices\n",
    "        out_vector[len(indices):] = self.news_vocab.mask_index\n",
    "\n",
    "        return out_vector\n",
    "\n",
    "    @classmethod\n",
    "    def from_dataframe(cls, news_df, cutoff=25):\n",
    "        \"\"\"Instantiate the vectorizer from the dataset dataframe\n",
    "        \n",
    "        Args:\n",
    "            news_df (pandas.DataFrame): the target dataset\n",
    "            cutoff (int): frequency threshold for including in Vocabulary \n",
    "        Returns:\n",
    "            an instance of the NewsVectorizer\n",
    "        \"\"\"\n",
    "        category_vocab = Vocabulary()        \n",
    "        for category in sorted(set(news_df.category)):\n",
    "            category_vocab.add_token(category)\n",
    "\n",
    "        word_counts = Counter()\n",
    "        for text in news_df.text:\n",
    "            for token in text.split(\" \"):\n",
    "                if token not in string.punctuation:\n",
    "                    word_counts[token] += 1\n",
    "        \n",
    "        news_vocab = SequenceVocabulary()\n",
    "        for word, word_count in word_counts.items():\n",
    "            if word_count >= cutoff:\n",
    "                news_vocab.add_token(word)\n",
    "        \n",
    "        return cls(news_vocab, category_vocab)"
   ]
  },
  {
   "cell_type": "markdown",
   "metadata": {},
   "source": [
    "### The Dataset"
   ]
  },
  {
   "cell_type": "code",
   "execution_count": 6,
   "metadata": {},
   "outputs": [
    {
     "data": {
      "text/plain": [
       "'glaxo settle paxil suicide pill suit new york reuters glaxosmithkline plc href target stock quickinfo fullquote l agreed release clinical study drug settle lawsuit accused withholding negative information antidepressant paxil new york attorney general office said thursday'"
      ]
     },
     "execution_count": 6,
     "metadata": {},
     "output_type": "execute_result"
    }
   ],
   "source": [
    "def text_preprocessing(text):\n",
    "    text = text.lower() # case folding\n",
    "    text = re.sub('&\\w*\\;\\w*', '', text)\n",
    "    text = re.sub('https?://\\S+|www\\.\\S+', '', text)\n",
    "    text = re.sub('\\[.*?\\]', '', text)\n",
    "    text = re.sub('<.*?>+', '', text)\n",
    "    text = re.sub('\\n', '', text)\n",
    "    text = re.sub(r\"[^a-z]+\", r\" \", text) # Regulation, remove special charecters\n",
    "    stop_words = set(stopwords.words('english'))\n",
    "    tokens = word_tokenize(text)\n",
    "    lemmatizer=WordNetLemmatizer()\n",
    "    # remove stopwords and lemmatization\n",
    "    result = [lemmatizer.lemmatize(i) for i in tokens if not i in stop_words]\n",
    "    result = result[:1000]\n",
    "    '''\n",
    "    # bigram\n",
    "    bigram_result = []\n",
    "    bigram_list = ngrams(result, 3)\n",
    "    for word_set in bigram_list:\n",
    "        for word in word_set:\n",
    "            bigram_result.append(word)\n",
    "    '''\n",
    "    return result\n",
    "\n",
    "test_str_1 = \"This is sentence to test the effect of preprocessing... Yeah~\\nCool!fac  feae ge fe ga 🪣🛀🎀 ☏☢︎⏥␘⍎ (>╹ω╹<)喵\"\n",
    "test_str_2 = \"Glaxo Settles Paxil 'Suicide Pill' Suit.  NEW YORK (Reuters) - GlaxoSmithKline Plc &lt;A HREF=http://www.investor.reuters.com/FullQuote.aspx?ticker=GSK.L target=/stocks/quickinfo/fullquote\"\"&gt;GSK.L&lt;/A&gt; has agreed  to release all clinical studies of its drugs to settle a  lawsuit that accused it of withholding negative information  about the antidepressant Paxil, the New York Attorney General's  office said on Thursday.\"\n",
    "list = text_preprocessing(test_str_2)\n",
    "' '.join(list)"
   ]
  },
  {
   "cell_type": "code",
   "execution_count": 7,
   "metadata": {},
   "outputs": [],
   "source": [
    "class NewsDataset(Dataset):\n",
    "    def __init__(self, news_df, vectorizer):\n",
    "        \"\"\"\n",
    "        Args:\n",
    "            news_df (pandas.DataFrame): the dataset\n",
    "            vectorizer (NewsVectorizer): vectorizer instatiated from dataset\n",
    "        \"\"\"\n",
    "        self.news_df = news_df\n",
    "        self._vectorizer = vectorizer\n",
    "\n",
    "        # +1 if only using begin_seq, +2 if using both begin and end seq tokens\n",
    "        measure_len = lambda context: len(context.split(\" \"))\n",
    "        self._max_seq_length = max(map(measure_len, news_df.text)) + 2\n",
    "        \n",
    "\n",
    "        self.train_df = self.news_df[self.news_df.split=='train']\n",
    "        self.train_size = len(self.train_df)\n",
    "\n",
    "        self.val_df = self.news_df[self.news_df.split=='val']\n",
    "        self.validation_size = len(self.val_df)\n",
    "\n",
    "        self.test_df = self.news_df[self.news_df.split=='test']\n",
    "        self.test_size = len(self.test_df)\n",
    "\n",
    "        self._lookup_dict = {'train': (self.train_df, self.train_size),\n",
    "                             'val': (self.val_df, self.validation_size),\n",
    "                             'test': (self.test_df, self.test_size)}\n",
    "\n",
    "        self.set_split('train')\n",
    "\n",
    "        # Class weights\n",
    "        class_counts = news_df.category.value_counts().to_dict()\n",
    "        def sort_key(item):\n",
    "            return self._vectorizer.category_vocab.lookup_token(item[0])\n",
    "        sorted_counts = sorted(class_counts.items(), key=sort_key)\n",
    "        frequencies = [count for _, count in sorted_counts]\n",
    "        self.class_weights = 1.0 / torch.tensor(frequencies, dtype=torch.float32)\n",
    "        \n",
    "        \n",
    "    @classmethod\n",
    "    def load_dataset_and_make_vectorizer(cls, news_csv):\n",
    "        \"\"\"Load dataset and make a new vectorizer from scratch\n",
    "        \n",
    "        Args:\n",
    "            surname_csv (str): location of the dataset\n",
    "        Returns:\n",
    "            an instance of SurnameDataset\n",
    "        \"\"\"\n",
    "        news_df = pd.read_csv(news_csv)\n",
    "        \n",
    "        for index, text in enumerate(news_df.text):\n",
    "            processed_list = text_preprocessing(text)\n",
    "            news_df.text[index] = ' '.join(processed_list)\n",
    "\n",
    "        train_news_df = news_df[news_df.split=='train']\n",
    "        return cls(news_df, NewsVectorizer.from_dataframe(train_news_df))\n",
    "\n",
    "    def get_vectorizer(self):\n",
    "        \"\"\" returns the vectorizer \"\"\"\n",
    "        return self._vectorizer\n",
    "\n",
    "    def set_split(self, split=\"train\"):\n",
    "        \"\"\" selects the splits in the dataset using a column in the dataframe \"\"\"\n",
    "        self._target_split = split\n",
    "        self._target_df, self._target_size = self._lookup_dict[split]\n",
    "\n",
    "    def __len__(self):\n",
    "        return self._target_size\n",
    "\n",
    "    def __getitem__(self, index):\n",
    "        \"\"\"the primary entry point method for PyTorch datasets\n",
    "        \n",
    "        Args:\n",
    "            index (int): the index to the data point \n",
    "        Returns:\n",
    "            a dictionary holding the data point's features (x_data) and label (y_target)\n",
    "        \"\"\"\n",
    "        row = self._target_df.iloc[index]\n",
    "\n",
    "        news_vector = \\\n",
    "            self._vectorizer.vectorize(row.text, self._max_seq_length)\n",
    "\n",
    "        category_index = \\\n",
    "            self._vectorizer.category_vocab.lookup_token(row.category)\n",
    "\n",
    "        return {'x_data': news_vector,     # e.g., \"Wall St. Bears Claw Back Into the Black (Reuters)\" \n",
    "                                            # -> [2, 5, 6, 10, 10, 8, 7, 9, 19, ......., 3, 0, 0, 0, ..., 0]\n",
    "                'y_target': category_index} # e.g., 2\n",
    "\n",
    "    def get_num_batches(self, batch_size):\n",
    "        \"\"\"Given a batch size, return the number of batches in the dataset\n",
    "        \n",
    "        Args:\n",
    "            batch_size (int)\n",
    "        Returns:\n",
    "            number of batches in the dataset\n",
    "        \"\"\"\n",
    "        return len(self) // batch_size\n",
    "\n",
    "def generate_batches(dataset, batch_size, shuffle=True,\n",
    "                     drop_last=True, device=\"cpu\"): \n",
    "    \"\"\"\n",
    "    A generator function which wraps the PyTorch DataLoader. It will \n",
    "      ensure each tensor is on the write device location.\n",
    "    \"\"\"\n",
    "    dataloader = DataLoader(dataset=dataset, batch_size=batch_size,\n",
    "                            shuffle=shuffle, drop_last=drop_last)\n",
    "\n",
    "    for data_dict in dataloader:\n",
    "        out_data_dict = {}\n",
    "        for name, tensor in data_dict.items():\n",
    "            out_data_dict[name] = data_dict[name].to(device)\n",
    "        yield out_data_dict"
   ]
  },
  {
   "cell_type": "markdown",
   "metadata": {},
   "source": [
    "## The Model: NewsClassifier"
   ]
  },
  {
   "cell_type": "code",
   "execution_count": 8,
   "metadata": {},
   "outputs": [],
   "source": [
    "class NewsClassifier(nn.Module):\n",
    "    def __init__(self, embedding_size, num_embeddings, num_channels, \n",
    "                 hidden_dim, num_classes, dropout_p, \n",
    "                 pretrained_embeddings=None, padding_idx=0):\n",
    "        \"\"\"\n",
    "        Args:\n",
    "            embedding_size (int): size of the embedding vectors\n",
    "            num_embeddings (int): number of embedding vectors\n",
    "            filter_width (int): width of the convolutional kernels\n",
    "            num_channels (int): number of convolutional kernels per layer\n",
    "            hidden_dim (int): the size of the hidden dimension\n",
    "            num_classes (int): the number of classes in classification\n",
    "            dropout_p (float): a dropout parameter \n",
    "            pretrained_embeddings (numpy.array): previously trained word embeddings\n",
    "                default is None. If provided, \n",
    "            padding_idx (int): an index representing a null position\n",
    "        \"\"\"\n",
    "        super(NewsClassifier, self).__init__()\n",
    "\n",
    "        if pretrained_embeddings is None:\n",
    "            self.emb = nn.Embedding(embedding_dim=embedding_size,   # 100\n",
    "                                    num_embeddings=num_embeddings,  # 3409\n",
    "                                    padding_idx=padding_idx)        \n",
    "        else:\n",
    "            pretrained_embeddings = torch.from_numpy(pretrained_embeddings).float()\n",
    "            self.emb = nn.Embedding.from_pretrained(pretrained_embeddings, freeze=True) # when freeze=True (default), \n",
    "                                                                           # the tensor does not get updated in the learning process.\n",
    "               \n",
    "        # in_channels: embedding_size; out_channels: # of filters; kernel_size = n-gram size\n",
    "        # number of parameters: (# of filters, embedding_size, n-gram size), (100, 100, 2) for 2-gram\n",
    "        self.conv1d_4gram = nn.Conv1d(in_channels=embedding_size, out_channels=num_channels, kernel_size=4)       \n",
    "        self.conv1d_3gram = nn.Conv1d(in_channels=embedding_size, out_channels=num_channels, kernel_size=3)                          \n",
    "        self.conv1d_2gram = nn.Conv1d(in_channels=embedding_size, out_channels=num_channels, kernel_size=2)                   \n",
    "\n",
    "        self._dropout_p = dropout_p\n",
    "        self.fc1 = nn.Linear(num_channels*3, hidden_dim) # input:concatination of conv1d_4gram, conv1d_3gram, conv1d_2gram outputs \n",
    "        self.fc2 = nn.Linear(hidden_dim, num_classes)\n",
    "\n",
    "    def forward(self, x_in, apply_softmax=False):\n",
    "        \"\"\"The forward pass of the classifier\n",
    "        \n",
    "        Args:\n",
    "            x_in (torch.Tensor): an input data tensor. \n",
    "                x_in.shape should be (batch, dataset._max_seq_length)\n",
    "            apply_softmax (bool): a flag for the softmax activation\n",
    "                should be false if used with the Cross Entropy losses\n",
    "        Returns:\n",
    "            the resulting tensor. tensor.shape should be (batch, num_classes)\n",
    "        \"\"\"\n",
    "        \n",
    "        # embed and permute so features are channels\n",
    "        x_embedded = self.emb(x_in).permute(0, 2, 1)    # (batch, seq_len) -> (batch, seq_len, features)\n",
    "                                                        # rearange (batch, seq_len, features) to (batch, features, seq_len) \n",
    "                                                        # E.g.,    (128,   29,      100)      to (128,   100,      29)\n",
    "\n",
    "        features = F.elu(self.conv1d_4gram(x_embedded)) # features: (batch, num_channels, ?); e.g., (128, 100, ?)\n",
    "                                                        # activation function similar to leaky RELU(); can use F.relu() instead\n",
    "        # max/average and remove the extra dimension\n",
    "        remaining_size = features.size(dim=2)          # remaining_size: ? in (batch, num_channels, ?)\n",
    "        features_4gram = F.max_pool1d(features, remaining_size).squeeze(dim=2) # features_4gram: (batch, num_channels);kernel_size=remaining_size   \n",
    "        #features_4gram = F.avg_pool1d(features, remaining_size).squeeze(dim=2)   \n",
    "        \n",
    "        features = F.elu(self.conv1d_3gram(x_embedded)) # features: (batch, num_channels, ?); e.g., (128, 100, ?)\n",
    "        remaining_size = features.size(dim=2)          # remaining_size: ? in (batch, num_channels, ?)\n",
    "        features_3gram = F.max_pool1d(features, remaining_size).squeeze(dim=2)    # features_3gram: (batch, num_channels)\n",
    "\n",
    "        features = F.elu(self.conv1d_2gram(x_embedded)) # features: (batch, num_channels, ?); e.g., (128, 100, ?)\n",
    "        remaining_size = features.size(dim=2)          # remaining_size: ? in (batch, num_channels, ?)\n",
    "        features_2gram = F.max_pool1d(features, remaining_size).squeeze(dim=2)    # features_2gram: (batch, num_channels) \n",
    " \n",
    "        features = torch.cat([features_4gram, features_3gram, features_2gram], dim=1)\n",
    "            \n",
    "        features = F.dropout(features, p=self._dropout_p, training=self.training)\n",
    "        \n",
    "        # mlp classifier\n",
    "        intermediate_vector = F.dropout(F.relu(self.fc1(features)), p=self._dropout_p, training=self.training)\n",
    "        prediction_vector = self.fc2(intermediate_vector)  # (batch, num_classes)\n",
    "\n",
    "        if apply_softmax:\n",
    "            prediction_vector = F.softmax(prediction_vector, dim=1)\n",
    "\n",
    "        return prediction_vector"
   ]
  },
  {
   "cell_type": "markdown",
   "metadata": {},
   "source": [
    "## Training Routine"
   ]
  },
  {
   "cell_type": "markdown",
   "metadata": {},
   "source": [
    "### Helper functions"
   ]
  },
  {
   "cell_type": "code",
   "execution_count": 9,
   "metadata": {},
   "outputs": [],
   "source": [
    "def make_train_state(args):\n",
    "    return {'stop_early': False,\n",
    "            'early_stopping_step': 0,\n",
    "            'early_stopping_best_val': 1e8,\n",
    "            'learning_rate': args.learning_rate,\n",
    "            'epoch_index': 0,\n",
    "            'train_loss': [],\n",
    "            'train_acc': [],\n",
    "            'val_loss': [],\n",
    "            'val_acc': [],\n",
    "            'test_loss': -1,\n",
    "            'test_acc': -1,\n",
    "            'model_filename': args.model_state_file}\n",
    "\n",
    "def update_train_state(args, model, train_state):\n",
    "    \"\"\"Handle the training state updates.\n",
    "\n",
    "    Components:\n",
    "     - Early Stopping: Prevent overfitting.\n",
    "     - Model Checkpoint: Model is saved if the model is better\n",
    "\n",
    "    :param args: main arguments\n",
    "    :param model: model to train\n",
    "    :param train_state: a dictionary representing the training state values\n",
    "    :returns:\n",
    "        a new train_state\n",
    "    \"\"\"\n",
    "\n",
    "    # Save one model at least\n",
    "    if train_state['epoch_index'] == 0:\n",
    "        torch.save(model.state_dict(), train_state['model_filename'])\n",
    "        train_state['stop_early'] = False\n",
    "\n",
    "    # Save model if performance improved\n",
    "    elif train_state['epoch_index'] >= 1:\n",
    "        loss_tm1, loss_t = train_state['val_loss'][-2:]\n",
    "\n",
    "        # If loss worsened\n",
    "        if loss_t >= train_state['early_stopping_best_val']:\n",
    "            # Update step\n",
    "            train_state['early_stopping_step'] += 1\n",
    "        # Loss decreased\n",
    "        else:\n",
    "            # Save the best model\n",
    "            if loss_t < train_state['early_stopping_best_val']:\n",
    "                torch.save(model.state_dict(), train_state['model_filename'])\n",
    "                train_state['early_stopping_best_val'] = loss_t  # update 'early_stopping_best_val'\n",
    "\n",
    "            # Reset early stopping step\n",
    "            train_state['early_stopping_step'] = 0\n",
    "\n",
    "        # Stop early ?\n",
    "        train_state['stop_early'] = \\\n",
    "            train_state['early_stopping_step'] >= args.early_stopping_criteria\n",
    "\n",
    "    return train_state\n",
    "\n",
    "def compute_accuracy(y_pred, y_target):\n",
    "    _, y_pred_indices = y_pred.max(dim=1)\n",
    "    n_correct = torch.eq(y_pred_indices, y_target).sum().item()\n",
    "    return n_correct / len(y_pred_indices) * 100"
   ]
  },
  {
   "cell_type": "markdown",
   "metadata": {},
   "source": [
    "#### general utilities"
   ]
  },
  {
   "cell_type": "code",
   "execution_count": 10,
   "metadata": {},
   "outputs": [],
   "source": [
    "def set_seed_everywhere(seed, cuda, mps):\n",
    "    np.random.seed(seed)\n",
    "    torch.manual_seed(seed)\n",
    "    if cuda:\n",
    "        print(\"cuda manual seed\", seed)\n",
    "        torch.cuda.manual_seed_all(seed)\n",
    "    try:\n",
    "        if mps:\n",
    "            print(\"mps manual seed\", seed)\n",
    "            torch.mps.manual_seed(seed)\n",
    "    except:\n",
    "        pass\n",
    "\n",
    "def handle_dirs(dirpath):\n",
    "    if not os.path.exists(dirpath):\n",
    "        os.makedirs(dirpath)\n",
    "        \n",
    "def load_glove_from_file(glove_filepath):\n",
    "    \"\"\"\n",
    "    Load the GloVe embeddings \n",
    "    \n",
    "    Args:\n",
    "        glove_filepath (str): path to the glove embeddings file \n",
    "    Returns:\n",
    "        word_to_index (dict), embeddings (numpy.ndarary)\n",
    "    \"\"\"\n",
    "\n",
    "    word_to_index = {}\n",
    "    embeddings = []\n",
    "    with open(glove_filepath, \"r\", encoding='utf8') as fp:\n",
    "        for index, line in enumerate(fp):\n",
    "            line = line.split(\" \") # each line: word num1 num2 ...\n",
    "            word_to_index[line[0]] = index # word = line[0] \n",
    "            embedding_i = np.array([float(val) for val in line[1:]])\n",
    "            embeddings.append(embedding_i)\n",
    "    return word_to_index, np.stack(embeddings)\n",
    "\n",
    "def make_embedding_matrix(glove_filepath, words):\n",
    "    \"\"\"\n",
    "    Create embedding matrix for a specific set of words.\n",
    "    \n",
    "    Args:\n",
    "        glove_filepath (str): file path to the glove embeddigns\n",
    "        words (list): list of words in the dataset\n",
    "    \"\"\"\n",
    "    word_to_idx, glove_embeddings = load_glove_from_file(glove_filepath)\n",
    "    embedding_size = glove_embeddings.shape[1]\n",
    "    \n",
    "    final_embeddings = np.zeros((len(words), embedding_size))\n",
    "\n",
    "    for i, word in enumerate(words):\n",
    "        if word in word_to_idx:\n",
    "            final_embeddings[i, :] = glove_embeddings[word_to_idx[word]]\n",
    "        else:\n",
    "            embedding_i = torch.ones(1, embedding_size)\n",
    "            torch.nn.init.xavier_uniform_(embedding_i)\n",
    "            final_embeddings[i, :] = embedding_i\n",
    "\n",
    "    return final_embeddings"
   ]
  },
  {
   "cell_type": "markdown",
   "metadata": {},
   "source": [
    "### Settings and some prep work"
   ]
  },
  {
   "cell_type": "code",
   "execution_count": 11,
   "metadata": {},
   "outputs": [],
   "source": [
    "from argparse import Namespace"
   ]
  },
  {
   "cell_type": "code",
   "execution_count": 12,
   "metadata": {},
   "outputs": [
    {
     "name": "stdout",
     "output_type": "stream",
     "text": [
      "Expanded filepaths: \n",
      "\t../model_storage/Fake_News/model_cnn_Fake_News.pth\n",
      "Using CUDA: False\n",
      "Using MPS: True\n"
     ]
    }
   ],
   "source": [
    "args = Namespace(\n",
    "    # Data and Path hyper parameters\n",
    "    news_csv=\"../data/processed/fake_or_real_news_with_splits.csv\",\n",
    "    model_state_file=\"model_cnn_Fake_News.pth\",\n",
    "    save_dir=\"../model_storage/Fake_News\",\n",
    "    # Model hyper parameters\n",
    "    glove_filepath='../data/glove/glove.6B.100d.txt', \n",
    "    use_glove=True,\n",
    "    embedding_size=100, \n",
    "    hidden_dim=100, \n",
    "    num_channels=100, \n",
    "    # Training hyper parameter\n",
    "    seed=1337, \n",
    "    learning_rate=0.001, \n",
    "    dropout_p=0.1, \n",
    "    batch_size=64, \n",
    "    num_epochs=100, \n",
    "    early_stopping_criteria=5, \n",
    "    # Runtime option\n",
    "    cuda=True,\n",
    "    mps=True, \n",
    "    catch_keyboard_interrupt=True, \n",
    "    reload_from_files=False,\n",
    "    expand_filepaths_to_save_dir=True\n",
    ") \n",
    "\n",
    "if args.expand_filepaths_to_save_dir:\n",
    "    args.model_state_file = os.path.join(args.save_dir,\n",
    "                                         args.model_state_file)    \n",
    "    print(\"Expanded filepaths: \")\n",
    "    print(\"\\t{}\".format(args.model_state_file))\n",
    "    \n",
    "# Check CUDA for Nvidia\n",
    "if not torch.cuda.is_available():\n",
    "    args.cuda = False\n",
    "\n",
    "# Check MPS for Mac\n",
    "try:\n",
    "    if not torch.backends.mps.is_available():\n",
    "        args.mps = False\n",
    "except:\n",
    "    args.mps = False\n",
    "\n",
    "args.device = torch.device(\"cuda\" if args.cuda else \"mps\" if args.mps else \"cpu\")\n",
    "print(\"Using CUDA: {}\".format(args.cuda))\n",
    "print(\"Using MPS: {}\".format(args.mps))\n",
    "\n",
    "# Set seed for reproducibility\n",
    "set_seed_everywhere(args.seed, args.cuda, args.mps)\n",
    "\n",
    "# handle dirs\n",
    "handle_dirs(args.save_dir)"
   ]
  },
  {
   "cell_type": "markdown",
   "metadata": {},
   "source": [
    "### Initializations"
   ]
  },
  {
   "cell_type": "code",
   "execution_count": 13,
   "metadata": {},
   "outputs": [],
   "source": [
    "args.use_glove = True"
   ]
  },
  {
   "cell_type": "code",
   "execution_count": 14,
   "metadata": {},
   "outputs": [
    {
     "name": "stderr",
     "output_type": "stream",
     "text": [
      "/var/folders/y6/0hjv9wlx27vdxvr5_jkhr_sr0000gn/T/ipykernel_8044/1110265742.py:53: SettingWithCopyWarning: \n",
      "A value is trying to be set on a copy of a slice from a DataFrame\n",
      "\n",
      "See the caveats in the documentation: https://pandas.pydata.org/pandas-docs/stable/user_guide/indexing.html#returning-a-view-versus-a-copy\n",
      "  news_df.text[index] = ' '.join(processed_list)\n"
     ]
    },
    {
     "name": "stdout",
     "output_type": "stream",
     "text": [
      "Using pre-trained embeddings\n"
     ]
    }
   ],
   "source": [
    "# create dataset and vectorizer\n",
    "dataset = NewsDataset.load_dataset_and_make_vectorizer(args.news_csv)\n",
    "vectorizer = dataset.get_vectorizer()\n",
    "\n",
    "# Use GloVe or randomly initialized embeddings\n",
    "if args.use_glove:\n",
    "    words = vectorizer.news_vocab._token_to_idx.keys()  # 3409 unique words\n",
    "    embeddings = make_embedding_matrix(glove_filepath=args.glove_filepath,     # embeddings: (3409, 100)\n",
    "                                       words=words)\n",
    "    print(\"Using pre-trained embeddings\")\n",
    "else:\n",
    "    print(\"Not using pre-trained embeddings\")\n",
    "    embeddings = None\n",
    "\n",
    "classifier = NewsClassifier(embedding_size=args.embedding_size,          # e.g, 100\n",
    "                            num_embeddings=len(vectorizer.news_vocab),  # e.g., 3409\n",
    "                            num_channels=args.num_channels,              # e.g., 100\n",
    "                            hidden_dim=args.hidden_dim,                  # e.g., 100\n",
    "                            num_classes=len(vectorizer.category_vocab),  # e.g., 4\n",
    "                            dropout_p=args.dropout_p,                    # e.g., 0.1\n",
    "                            pretrained_embeddings=embeddings,\n",
    "                            padding_idx=0)"
   ]
  },
  {
   "cell_type": "code",
   "execution_count": 15,
   "metadata": {},
   "outputs": [
    {
     "name": "stdout",
     "output_type": "stream",
     "text": [
      "{'<MASK>': 0, '<UNK>': 1, '<BEGIN>': 2, '<END>': 3, 'nothing': 4, 'good': 5, 'come': 6, 'election': 7, 'posted': 8, 'november': 9, 'charles': 10, 'smith': 11, 'overwhelming': 12, 'consensus': 13, 'across': 14, 'political': 15, 'spectrum': 16, 'thing': 17, 'go': 18, 'like': 19, 'country': 20, 'deeply': 21, 'divided': 22, 'every': 23, 'institution': 24, 'two': 25, 'party': 26, 'mainstream': 27, 'medium': 28, 'department': 29, 'justice': 30, 'cover': 31, 'ups': 32, 'collusion': 33, 'worse': 34, 'win': 35, 'enter': 36, 'presidency': 37, 'without': 38, 'mandate': 39, 'nation': 40, 'corruption': 41, 'require': 42, 'hitting': 43, 'bottom': 44, 'drug': 45, 'incapable': 46, 'making': 47, 'truly': 48, 'positive': 49, 'change': 50, 'hit': 51, 'absolute': 52, 'tolerance': 53, 'corrupt': 54, 'system': 55, 'poisoning': 56, 'one': 57, 'injection': 58, 'cash': 59, 'pay': 60, 'play': 61, 'time': 62, 'core': 63, 'politics': 64, 'usual': 65, 'indeed': 66, 'flying': 67, 'cliff': 68, 'complete': 69, 'destruction': 70, 'continue': 71, 'self': 72, 'destructive': 73, 'path': 74, 'aid': 75, 'order': 76, 'expanded': 77, 'insider': 78, 'k': 79, 'street': 80, 'lobbyist': 81, 'army': 82, 'well': 83, 'paid': 84, 'pundit': 85, 'academic': 86, 'organ': 87, 'governance': 88, 'big': 89, 'money': 90, 'private': 91, 'sector': 92, 'capitalist': 93, 'dynasty': 94, 'foundation': 95, 'way': 96, 'anything': 97, 'establishment': 98, 'politico': 99, 'loses': 100, 'mere': 101, 'existence': 102, 'clinton': 103, 'trigger': 104, 'landslide': 105, 'loss': 106, 'tie': 107, 'candidate': 108, 'debate': 109, 'question': 110, 'etc': 111, 'alone': 112, 'cause': 113, 'lose': 114, 'refuse': 115, 'accept': 116, 'donation': 117, 'larger': 118, 'anyone': 119, 'entity': 120, 'beat': 121, 'goldman': 122, 'sachs': 123, 'saudi': 124, 'prince': 125, 'funded': 126, 'fund': 127, 'costly': 128, 'negative': 129, 'tv': 130, 'advertising': 131, 'campaign': 132, 'million': 133, 'contribution': 134, 'et': 135, 'al': 136, 'get': 137, 'point': 138, 'citizen': 139, 'voter': 140, 'stop': 141, 'systemic': 142, 'promise': 143, 'hope': 144, 'blitz': 145, 'easy': 146, 'blame': 147, 'law': 148, 'ultimately': 149, 'responsible': 150, 'enabling': 151, 'financial': 152, 'elite': 153, 'view': 154, 'msm': 155, 'half': 156, 'may': 157, 'actually': 158, 'cast': 159, 'mass': 160, 'rejection': 161, 'highest': 162, 'possible': 163, 'public': 164, 'hand': 165, 'fortune': 166, 'russia': 167, 'syria': 168, 'blamed': 169, 'idlib': 170, 'bombing': 171, 'hoax': 172, 'speaking': 173, 'international': 174, 'discussion': 175, 'club': 176, 'thursday': 177, 'putin': 178, 'said': 179, 'russian': 180, 'patience': 181, 'limit': 182, 'show': 183, 'n': 184, 'restraint': 185, 'far': 186, 'respond': 187, 'ed': 188, 'partner': 189, 'manner': 190, 'everything': 191, 'explained': 192, 'waiting': 193, 'given': 194, 'endless': 195, 'u': 196, 'provocation': 197, 'refusing': 198, 'mutual': 199, 'cooperation': 200, 'vital': 201, 'issue': 202, 'rejecting': 203, 'normal': 204, 'relation': 205, 'heading': 206, 'inevitably': 207, 'war': 208, 'unless': 209, 'challenged': 210, 'stopped': 211, 'stupid': 212, 'intelligence': 213, 'capability': 214, 'likely': 215, 'match': 216, 'america': 217, 'know': 218, 'eastern': 219, 'europe': 220, 'elsewhere': 221, 'middle': 222, 'east': 223, 'along': 224, 'virtually': 225, 'everywhere': 226, 'else': 227, 'pretending': 228, 'logic': 229, 'thinking': 230, 'washington': 231, 'day': 232, 'hillary': 233, 'obama': 234, 'virtual': 235, 'certainty': 236, 'fair': 237, 'mean': 238, 'latter': 239, 'theft': 240, 'longstanding': 241, 'tradition': 242, 'showing': 243, 'democracy': 244, 'pure': 245, 'fantasy': 246, 'screaming': 247, 'western': 248, 'headline': 249, 'syrian': 250, 'school': 251, 'province': 252, 'occurred': 253, 'supported': 254, 'terrorist': 255, 'attacked': 256, 'killing': 257, 'least': 258, 'six': 259, 'child': 260, 'many': 261, 'others': 262, 'exclusive': 263, 'rt': 264, 'investigation': 265, 'determined': 266, 'gas': 267, 'mine': 268, 'landed': 269, 'classroom': 270, 'launched': 271, 'controlled': 272, 'aleppo': 273, 'yet': 274, 'ignoring': 275, 'daily': 276, 'civilian': 277, 'government': 278, 'part': 279, 'city': 280, 'long': 281, 'internet': 282, 'access': 283, 'important': 284, 'information': 285, 'reliable': 286, 'independent': 287, 'source': 288, 'social': 289, 'commentator': 290, 'read': 291, 'paper': 292, 'ignorance': 293, 'reporting': 294, 'deplorable': 295, 'today': 296, 'beyond': 297, 'pale': 298, 'hard': 299, 'waste': 300, 'belief': 301, 'television': 302, 'news': 303, 'credible': 304, 'reader': 305, 'viewer': 306, 'listener': 307, 'systematically': 308, 'lied': 309, 'fare': 310, 'fit': 311, 'print': 312, 'broadcast': 313, 'editor': 314, 'reporter': 315, 'scam': 316, 'artist': 317, 'defense': 318, 'ministry': 319, 'spokesman': 320, 'general': 321, 'called': 322, 'video': 323, 'footage': 324, 'incident': 325, 'shown': 326, 'fake': 327, 'ten': 328, 'edited': 329, 'assembled': 330, 'together': 331, 'warplane': 332, 'area': 333, 'attack': 334, 'bomb': 335, 'existed': 336, 'damage': 337, 'inconsistent': 338, 'wall': 339, 'damaged': 340, 'ceiling': 341, 'desk': 342, 'chair': 343, 'blast': 344, 'would': 345, 'destroyed': 346, 'severely': 347, 'building': 348, 'inside': 349, 'swept': 350, 'away': 351, 'see': 352, 'photo': 353, 'drone': 354, 'roof': 355, 'concealed': 356, 'revealed': 357, 'set': 358, 'record': 359, 'straight': 360, 'leadership': 361, 'fell': 362, 'victim': 363, 'new': 364, 'deception': 365, 'qaeda': 366, 'affiliated': 367, 'white': 368, 'helmet': 369, 'perhaps': 370, 'orchestrated': 371, 'happened': 372, 'sinister': 373, 'anti': 374, 'agenda': 375, 'submit': 376, 'review': 377, 'globalization': 378, 'failing': 379, 'strike': 380, 'force': 381, 'jon': 382, 'begin': 383, 'piece': 384, 'three': 385, 'quote': 386, 'work': 387, 'progress': 388, 'underground': 389, 'basic': 390, 'principle': 391, 'state': 392, 'exists': 393, 'becomes': 394, 'twist': 395, 'real': 396, 'reach': 397, 'mind': 398, 'already': 399, 'word': 400, 'tree': 401, 'falling': 402, 'forest': 403, 'make': 404, 'sound': 405, 'user': 406, 'consumer': 407, 'want': 408, 'fall': 409, 'receives': 410, 'audio': 411, 'event': 412, 'dressed': 413, 'thousand': 414, 'different': 415, 'tends': 416, 'quality': 417, 'eventually': 418, 'person': 419, 'problem': 420, 'chronic': 421, 'liar': 422, 'press': 423, 'expose': 424, 'even': 425, 'though': 426, 'take': 427, 'surprisingly': 428, 'small': 429, 'push': 430, 'whole': 431, 'operation': 432, 'happening': 433, 'right': 434, 'front': 435, 'eye': 436, 'basis': 437, 'theater': 438, 'director': 439, 'producer': 440, 'think': 441, 'first': 442, 'rate': 443, 'job': 444, 'sadly': 445, 'gap': 446, 'growing': 447, 'outright': 448, 'non': 449, 'becoming': 450, 'apparent': 451, 'audience': 452, 'fool': 453, 'direct': 454, 'simply': 455, 'people': 456, 'sell': 457, 'soul': 458, 'found': 459, 'buyer': 460, 'transaction': 461, 'contain': 462, 'guarantee': 463, 'shelf': 464, 'life': 465, 'date': 466, 'approaching': 467, 'civilization': 468, 'petty': 469, 'rise': 470, 'nice': 471, 'plan': 472, 'let': 473, 'examine': 474, 'based': 475, 'profiling': 476, 'member': 477, 'analyzed': 478, 'shocking': 479, 'expected': 480, 'untold': 481, 'hour': 482, 'spent': 483, 'several': 484, 'year': 485, 'ago': 486, 'wrote': 487, 'tech': 488, 'begun': 489, 'since': 490, 'jeff': 491, 'ceo': 492, 'amazon': 493, 'bought': 494, 'post': 495, 'fire': 496, 'sale': 497, 'genius': 498, 'success': 499, 'mobile': 500, 'device': 501, 'multiple': 502, 'platform': 503, 'digital': 504, 'taking': 505, 'ad': 506, 'interest': 507, 'story': 508, 'thought': 509, 'irrelevant': 510, 'seen': 511, 'create': 512, 'bubble': 513, 'favorite': 514, 'little': 515, 'separate': 516, 'paradigm': 517, 'giant': 518, 'apple': 519, 'territory': 520, 'app': 521, 'deliver': 522, 'yahoo': 523, 'upcoming': 524, 'operating': 525, 'aim': 526, 'primary': 527, 'iphone': 528, 'say': 529, 'follows': 530, 'topic': 531, 'pull': 532, 'relevant': 533, 'specific': 534, 'journalism': 535, 'lab': 536, 'awesome': 537, 'power': 538, 'default': 539, 'distribution': 540, 'put': 541, 'entirely': 542, 'league': 543, 'hundred': 544, 'within': 545, 'present': 546, 'overall': 547, 'presentation': 548, 'outlet': 549, 'layer': 550, 'control': 551, 'fan': 552, 'prophet': 553, 'neo': 554, 'con': 555, 'rock': 556, 'conservative': 557, 'republican': 558, 'warm': 559, 'heart': 560, 'believe': 561, 'gridlock': 562, 'biggest': 563, 'concern': 564, 'congress': 565, 'done': 566, 'got': 567, 'moon': 568, 'tuned': 569, 'world': 570, 'minute': 571, 'idea': 572, 'convince': 573, 'global': 574, 'delivering': 575, 'host': 576, 'appropriate': 577, 'lie': 578, 'context': 579, 'fringe': 580, 'look': 581, 'food': 582, 'planning': 583, 'produce': 584, 'section': 585, 'cheer': 586, 'declaring': 587, 'temporary': 588, 'ban': 589, 'toxic': 590, 'monsanto': 591, 'dow': 592, 'experiment': 593, 'danger': 594, 'vaccine': 595, 'sorry': 596, 'count': 597, 'recognized': 598, 'demographic': 599, 'boy': 600, 'involved': 601, 'car': 602, 'crash': 603, 'science': 604, 'fiction': 605, 'near': 606, 'future': 607, 'search': 608, 'engine': 609, 'inquiry': 610, 'abc': 611, 'national': 612, 'rating': 613, 'giving': 614, 'spending': 615, 'le': 616, 'business': 617, 'desperately': 618, 'looking': 619, 'treating': 620, 'construct': 621, 'preference': 622, 'answer': 623, 'mr': 624, 'x': 625, 'studied': 626, 'live': 627, 'special': 628, 'brand': 629, 'truth': 630, 'going': 631, 'pitch': 632, 'full': 633, 'obsessed': 634, 'worthy': 635, 'goal': 636, 'profile': 637, 'top': 638, 'find': 639, 'exactly': 640, 'kind': 641, 'punch': 642, 'actual': 643, 'occurring': 644, 'pre': 645, 'robot': 646, 'split': 647, 'bit': 648, 'care': 649, 'really': 650, 'gross': 651, 'error': 652, 'multi': 653, 'tongue': 654, 'simultaneously': 655, 'dozen': 656, 'variation': 657, 'expect': 658, 'reality': 659, 'brother': 660, 'issuing': 661, 'single': 662, 'voice': 663, 'home': 664, 'population': 665, 'old': 666, 'technology': 667, 'achieving': 668, 'unity': 669, 'diversity': 670, 'pr': 671, 'propaganda': 672, 'excuse': 673, 'education': 674, 'however': 675, 'recognize': 676, 'become': 677, 'variety': 678, 'serve': 679, 'outcome': 680, 'technological': 681, 'trust': 682, 'prefer': 683, 'wow': 684, 'coverage': 685, 'border': 686, 'b': 687, 'fantastic': 688, 'exhibit': 689, 'type': 690, 'watched': 691, 'movie': 692, 'aerial': 693, 'combat': 694, 'c': 695, 'great': 696, 'woman': 697, 'made': 698, 'could': 699, 'practically': 700, 'taste': 701, 'drill': 702, 'cop': 703, 'gave': 704, 'demonstration': 705, 'gear': 706, 'shield': 707, 'communication': 708, 'flash': 709, 'auto': 710, 'rifle': 711, 'baton': 712, 'watch': 713, 'love': 714, 'e': 715, 'saw': 716, 'mild': 717, 'week': 718, 'weather': 719, 'channel': 720, 'tune': 721, 'ring': 722, 'need': 723, 'extend': 724, 'globalism': 725, 'priority': 726, 'major': 727, 'whatever': 728, 'everyone': 729, 'alt': 730, 'site': 731, 'wikileaks': 732, 'project': 733, 'veritas': 734, 'exposed': 735, 'crime': 736, 'reflects': 737, 'turning': 738, 'forcing': 739, 'awareness': 740, 'scandal': 741, 'another': 742, 'support': 743, 'isi': 744, 'pro': 745, 'collapse': 746, 'obamacare': 747, 'gmo': 748, 'pesticide': 749, 'result': 750, 'backed': 751, 'corner': 752, 'must': 753, 'defend': 754, 'build': 755, 'creating': 756, 'playing': 757, 'rest': 758, 'quite': 759, 'final': 760, 'note': 761, 'trump': 762, 'created': 763, 'perfect': 764, 'storm': 765, 'unprecedented': 766, 'root': 767, 'never': 768, 'lying': 769, 'sense': 770, 'entitlement': 771, 'desperation': 772, 'working': 773, 'brain': 774, 'cell': 775, 'regardless': 776, 'train': 777, 'left': 778, 'station': 779, 'mega': 780, 'collection': 781, 'outside': 782, 'matrix': 783, 'click': 784, 'author': 785, 'explosive': 786, 'exit': 787, 'congressional': 788, 'seat': 789, 'th': 790, 'district': 791, 'california': 792, 'maintains': 793, 'consulting': 794, 'practice': 795, 'client': 796, 'purpose': 797, 'expansion': 798, 'personal': 799, 'creative': 800, 'nominated': 801, 'prize': 802, 'worked': 803, 'investigative': 804, 'writing': 805, 'article': 806, 'medicine': 807, 'health': 808, 'cbs': 809, 'la': 810, 'weekly': 811, 'spin': 812, 'magazine': 813, 'stern': 814, 'newspaper': 815, 'delivered': 816, 'lecture': 817, 'seminar': 818, 'around': 819, 'sign': 820, 'free': 821, 'email': 822, 'com': 823, 'activist': 824, 'newsletter': 825, 'confidential': 826, 'report': 827, 'survive': 828, 'economic': 829, 'outlook': 830, 'introduce': 831, 'button': 832, 'delete': 833, 'en': 834, 'tuesday': 835, 'announced': 836, 'next': 837, 'version': 838, 'popular': 839, 'software': 840, 'include': 841, 'function': 842, 'quickly': 843, 'computer': 844, 'head': 845, 'product': 846, 'development': 847, 'simon': 848, 'williams': 849, 'fbi': 850, 'investigating': 851, 'quick': 852, 'instantly': 853, 'remove': 854, 'pc': 855, 'useful': 856, 'suddenly': 857, 'exchange': 858, 'girl': 859, 'account': 860, 'felt': 861, 'took': 862, 'grave': 863, 'dismissed': 864, 'sexual': 865, 'harassment': 866, 'everyday': 867, 'sort': 868, 'situation': 869, 'office': 870, 'due': 871, 'released': 872, 'reportedly': 873, 'inspired': 874, 'update': 875, 'continued': 876, 'routinely': 877, 'forget': 878, 'use': 879, 'adding': 880, 'bill': 881, 'close': 882, 'window': 883, 'history': 884, 'protect': 885, 'wife': 886, 'ever': 887, 'knowing': 888, 'monica': 889, 'lewinsky': 890, 'case': 891, 'regular': 892, 'prevent': 893, 'spouse': 894, 'finding': 895, 'return': 896, 'early': 897, 'catch': 898, 'mid': 899, 'pleasure': 900, 'customer': 901, 'icon': 902, 'thereby': 903, 'saving': 904, 'attempting': 905, 'significant': 906, 'approach': 907, 'industry': 908, 'expert': 909, 'expecting': 910, 'high': 911, 'best': 912, 'friday': 913, 'currently': 914, 'remember': 915, 'talk': 916, 'standing': 917, 'donate': 918, 'dan': 919, 'treaty': 920, 'camp': 921, 'confrontation': 922, 'militarized': 923, 'police': 924, 'afternoon': 925, 'adam': 926, 'alexander': 927, 'kelly': 928, 'org': 929, 'indigenous': 930, 'analysis': 931, 'friend': 932, 'shared': 933, 'obviously': 934, 'speak': 935, 'native': 936, 'perspective': 937, 'diverse': 938, 'conviction': 939, 'hold': 940, 'strong': 941, 'pride': 942, 'worry': 943, 'feel': 944, 'might': 945, 'imagine': 946, 'much': 947, 'pretty': 948, 'stay': 949, 'touch': 950, 'asked': 951, 'wanted': 952, 'maintaining': 953, 'limited': 954, 'presence': 955, 'following': 956, 'effort': 957, 'crucial': 958, 'ongoing': 959, 'struggle': 960, 'colonial': 961, 'violence': 962, 'active': 963, 'contact': 964, 'waged': 965, 'condition': 966, 'society': 967, 'gone': 968, 'largely': 969, 'supremacy': 970, 'land': 971, 'pushed': 972, 'consciousness': 973, 'fact': 974, 'killed': 975, 'enforcement': 976, 'group': 977, 'speaks': 978, 'literally': 979, 'numerous': 980, 'perpetrated': 981, 'motif': 982, 'intention': 983, 'example': 984, 'structural': 985, 'whereas': 986, 'matter': 987, 'construction': 988, 'deadly': 989, 'mechanism': 990, 'greed': 991, 'driven': 992, 'regard': 993, 'always': 994, 'die': 995, 'died': 996, 'sake': 997, 'wealth': 998, 'maintenance': 999, 'harm': 1000, 'committed': 1001, 'book': 1002, 'american': 1003, 'exceptionalism': 1004, 'also': 1005, 'sustain': 1006, 'comfort': 1007, 'benefit': 1008, 'kept': 1009, 'sight': 1010, 'easily': 1011, 'forgotten': 1012, 'directly': 1013, 'impacted': 1014, 'clear': 1015, 'rare': 1016, 'moment': 1017, 'bear': 1018, 'witness': 1019, 'obvious': 1020, 'fighting': 1021, 'rarely': 1022, 'acknowledged': 1023, 'freedom': 1024, 'frequently': 1025, 'intersection': 1026, 'bearing': 1027, 'historic': 1028, 'dialogue': 1029, 'extremely': 1030, 'climate': 1031, 'oriented': 1032, 'yes': 1033, 'fight': 1034, 'fully': 1035, 'humanity': 1036, 'risk': 1037, 'whether': 1038, 'realize': 1039, 'focusing': 1040, 'exclusively': 1041, 'respective': 1042, 'sometimes': 1043, 'journey': 1044, 'bound': 1045, 'discussing': 1046, 'started': 1047, 'place': 1048, 'naming': 1049, 'water': 1050, 'natural': 1051, 'community': 1052, 'broad': 1053, 'center': 1054, 'conversation': 1055, 'often': 1056, 'reduced': 1057, 'ground': 1058, 'messaging': 1059, 'ngo': 1060, 'talking': 1061, 'deserve': 1062, 'worth': 1063, 'defending': 1064, 'affect': 1065, 'please': 1066, 'acknowledging': 1067, 'pipeline': 1068, 'impact': 1069, 'remind': 1070, 'struggling': 1071, 'engage': 1072, 'concrete': 1073, 'connection': 1074, 'jumping': 1075, 'discus': 1076, 'ally': 1077, 'accomplice': 1078, 'alongside': 1079, 'value': 1080, 'addition': 1081, 'continent': 1082, 'survived': 1083, 'genocide': 1084, 'born': 1085, 'victory': 1086, 'colonialism': 1087, 'named': 1088, 'centered': 1089, 'courtesy': 1090, 'message': 1091, 'condemnation': 1092, 'ask': 1093, 'asking': 1094, 'help': 1095, 'ensure': 1096, 'policy': 1097, 'happen': 1098, 'enough': 1099, 'fewer': 1100, 'various': 1101, 'form': 1102, 'acting': 1103, 'solidarity': 1104, 'deserved': 1105, 'living': 1106, 'protector': 1107, 'warrior': 1108, 'earned': 1109, 'appreciate': 1110, 'reaching': 1111, 'brave': 1112, 'keep': 1113, 'foremost': 1114, 'liberation': 1115, 'determination': 1116, 'survival': 1117, 'celebrated': 1118, 'thanks': 1119, 'action': 1120, 'co': 1121, 'founder': 1122, 'chicago': 1123, 'light': 1124, 'brigade': 1125, 'collective': 1126, 'lifted': 1127, 'blog': 1128, 'originally': 1129, 'appeared': 1130, 'movement': 1131, 'organizer': 1132, 'robert': 1133, 'dying': 1134, 'cancer': 1135, 'familiar': 1136, 'came': 1137, 'nurse': 1138, 'brought': 1139, 'back': 1140, 'share': 1141, 'twitter': 1142, 'losing': 1143, 'mother': 1144, 'midst': 1145, 'especially': 1146, 'blow': 1147, 'illness': 1148, 'injury': 1149, 'needed': 1150, 'mom': 1151, 'hear': 1152, 'encouraging': 1153, 'give': 1154, 'image': 1155, 'credit': 1156, 'recent': 1157, 'episode': 1158, 'harry': 1159, 'morning': 1160, 'hospital': 1161, 'bone': 1162, 'famously': 1163, 'open': 1164, 'battle': 1165, 'breast': 1166, 'disease': 1167, 'tell': 1168, 'jr': 1169, 'reached': 1170, 'sent': 1171, 'everybody': 1172, 'room': 1173, 'longer': 1174, 'side': 1175, 'soon': 1176, 'closer': 1177, 'realized': 1178, 'hearing': 1179, 'convinced': 1180, 'greatest': 1181, 'isolation': 1182, 'used': 1183, 'call': 1184, 'bond': 1185, 'surprised': 1186, 'cared': 1187, 'emotional': 1188, 'able': 1189, 'thank': 1190, 'countless': 1191, 'loved': 1192, 'french': 1193, 'leader': 1194, 'france': 1195, 'holy': 1196, 'islam': 1197, 'embrace': 1198, 'christianity': 1199, 'religion': 1200, 'satan': 1201, 'october': 1202, 'francois': 1203, 'declared': 1204, 'devastating': 1205, 'violent': 1206, 'solution': 1207, 'prepare': 1208, 'christian': 1209, 'faith': 1210, 'interview': 1211, 'coming': 1212, 'outpost': 1213, 'rescue': 1214, 'organization': 1215, 'muslim': 1216, 'god': 1217, 'tyranny': 1218, 'evil': 1219, 'series': 1220, 'warfare': 1221, 'permission': 1222, 'follow': 1223, 'facebook': 1224, 'spread': 1225, 'sharing': 1226, 'network': 1227, 'gingrich': 1228, 'shame': 1229, 'megyn': 1230, 'field': 1231, 'misogyny': 1232, 'published': 1233, 'min': 1234, 'prospect': 1235, 'surrogate': 1236, 'powerful': 1237, 'man': 1238, 'allegation': 1239, 'predator': 1240, 'sex': 1241, 'female': 1242, 'probably': 1243, 'misogynist': 1244, 'desperate': 1245, 'former': 1246, 'house': 1247, 'speaker': 1248, 'newt': 1249, 'presidential': 1250, 'nominee': 1251, 'donald': 1252, 'sinking': 1253, 'poll': 1254, 'number': 1255, 'accused': 1256, 'fox': 1257, 'mention': 1258, 'began': 1259, 'infamous': 1260, 'hollywood': 1261, 'featuring': 1262, 'proclaimed': 1263, 'sexually': 1264, 'assault': 1265, 'became': 1266, 'nearly': 1267, 'forward': 1268, 'either': 1269, 'assaulted': 1270, 'otherwise': 1271, 'taken': 1272, 'liberty': 1273, 'body': 1274, 'brian': 1275, 'achievement': 1276, 'china': 1277, 'continuation': 1278, 'cold': 1279, 'usa': 1280, 'nato': 1281, 'provoke': 1282, 'superpower': 1283, 'pact': 1284, 'march': 1285, 'although': 1286, 'reason': 1287, 'managed': 1288, 'added': 1289, 'poland': 1290, 'republic': 1291, 'bbc': 1292, 'noted': 1293, 'soviet': 1294, 'bloc': 1295, 'join': 1296, 'alliance': 1297, 'mile': 1298, 'towards': 1299, 'moscow': 1300, 'wondered': 1301, 'earth': 1302, 'military': 1303, 'spite': 1304, 'facing': 1305, 'threat': 1306, 'expand': 1307, 'later': 1308, 'president': 1309, 'observed': 1310, 'italy': 1311, 'expanding': 1312, 'anywhere': 1313, 'infrastructure': 1314, 'including': 1315, 'moving': 1316, 'aggression': 1317, 'hostile': 1318, 'south': 1319, 'sea': 1320, 'end': 1321, 'characteristic': 1322, 'hired': 1323, 'significance': 1324, 'gop': 1325, 'attempted': 1326, 'turkey': 1327, 'crisis': 1328, 'imperialism': 1329, 'expression': 1330, 'certainly': 1331, 'originated': 1332, 'dangerous': 1333, 'menace': 1334, 'appears': 1335, 'posture': 1336, 'explain': 1337, 'silence': 1338, 'led': 1339, 'arabia': 1340, 'yemen': 1341, 'oil': 1342, 'statement': 1343, 'regret': 1344, 'riyadh': 1345, 'royal': 1346, 'dictatorship': 1347, 'cease': 1348, 'yemeni': 1349, 'lack': 1350, 'legal': 1351, 'pervasive': 1352, 'restriction': 1353, 'universal': 1354, 'assembly': 1355, 'association': 1356, 'equal': 1357, 'encourage': 1358, 'monarchy': 1359, 'domestic': 1360, 'united': 1361, 'torture': 1362, 'abuse': 1363, 'arrest': 1364, 'detention': 1365, 'neither': 1366, 'protected': 1367, 'imagined': 1368, 'proper': 1369, 'indicate': 1370, 'disapproval': 1371, 'civil': 1372, 'human': 1373, 'speech': 1374, 'discourage': 1375, 'continuing': 1376, 'murder': 1377, 'innocent': 1378, 'total': 1379, 'neocon': 1380, 'industrial': 1381, 'complex': 1382, 'administration': 1383, 'refugee': 1384, 'regime': 1385, 'pentagon': 1386, 'fleet': 1387, 'bomber': 1388, 'sky': 1389, 'deliberately': 1390, 'brussels': 1391, 'drum': 1392, 'planned': 1393, 'libya': 1394, 'destroy': 1395, 'gaddafi': 1396, 'whose': 1397, 'caused': 1398, 'massive': 1399, 'suffering': 1400, 'opened': 1401, 'band': 1402, 'militant': 1403, 'extremist': 1404, 'islamic': 1405, 'questioned': 1406, 'bombardment': 1407, 'foreign': 1408, 'adviser': 1409, 'jeremy': 1410, 'bash': 1411, 'told': 1412, 'london': 1413, 'telegraph': 1414, 'strategy': 1415, 'key': 1416, 'task': 1417, 'nature': 1418, 'bashar': 1419, 'assad': 1420, 'selected': 1421, 'target': 1422, 'doomed': 1423, 'seemed': 1424, 'greater': 1425, 'emphasis': 1426, 'airstrikes': 1427, 'turmoil': 1428, 'chaos': 1429, 'catastrophe': 1430, 'delivery': 1431, 'arm': 1432, 'weapon': 1433, 'ended': 1434, 'daesh': 1435, 'nusra': 1436, 'turned': 1437, 'european': 1438, 'soil': 1439, 'supply': 1440, 'rebel': 1441, 'absurd': 1442, 'chain': 1443, 'missile': 1444, 'afghanistan': 1445, 'buy': 1446, 'dollar': 1447, 'british': 1448, 'supplied': 1449, 'air': 1450, 'publicity': 1451, 'occasion': 1452, 'serious': 1453, 'explanation': 1454, 'poorly': 1455, 'informed': 1456, 'vastly': 1457, 'expensive': 1458, 'agency': 1459, 'iraq': 1460, 'tony': 1461, 'blair': 1462, 'david': 1463, 'cameron': 1464, 'personality': 1465, 'judged': 1466, 'particular': 1467, 'via': 1468, 'authority': 1469, 'judge': 1470, 'african': 1471, 'criminal': 1472, 'court': 1473, 'try': 1474, 'individual': 1475, 'charged': 1476, 'rome': 1477, 'statute': 1478, 'britain': 1479, 'theory': 1480, 'supportive': 1481, 'doubt': 1482, 'guilty': 1483, 'candidacy': 1484, 'maintained': 1485, 'democrat': 1486, 'prepared': 1487, 'nose': 1488, 'pressing': 1489, 'vote': 1490, 'opinion': 1491, 'according': 1492, 'pretext': 1493, 'nobody': 1494, 'politician': 1495, 'continues': 1496, 'mission': 1497, 'alter': 1498, 'consider': 1499, 'flexibility': 1500, 'dictator': 1501, 'economy': 1502, 'west': 1503, 'permitted': 1504, 'detainee': 1505, 'treat': 1506, 'critic': 1507, 'northern': 1508, 'offensive': 1509, 'coordination': 1510, 'fails': 1511, 'sanctuary': 1512, 'kilometer': 1513, 'experience': 1514, 'diplomatic': 1515, 'resolution': 1516, 'libyan': 1517, 'equation': 1518, 'resolved': 1519, 'militarily': 1520, 'prevail': 1521, 'unlike': 1522, 'regarded': 1523, 'being': 1524, 'entire': 1525, 'received': 1526, 'medical': 1527, 'germany': 1528, 'refused': 1529, 'among': 1530, 'militia': 1531, 'grown': 1532, 'size': 1533, 'influence': 1534, 'accord': 1535, 'secretary': 1536, 'claim': 1537, 'model': 1538, 'intervention': 1539, 'fault': 1540, 'admitted': 1541, 'failure': 1542, 'worst': 1543, 'mistake': 1544, 'last': 1545, 'month': 1546, 'unlikely': 1547, 'invasion': 1548, 'rebuild': 1549, 'supporter': 1550, 'notably': 1551, 'conventional': 1552, 'gang': 1553, 'fail': 1554, 'difficult': 1555, 'predict': 1556, 'effect': 1557, 'peaceful': 1558, 'era': 1559, 'domination': 1560, 'beneficial': 1561, 'emergence': 1562, 'remembered': 1563, 'august': 1564, 'york': 1565, 'participation': 1566, 'coalition': 1567, 'absolutely': 1568, 'believed': 1569, 'name': 1570, 'game': 1571, 'indispensable': 1572, 'agent': 1573, 'accuses': 1574, 'james': 1575, 'comey': 1576, 'rule': 1577, 'sir': 1578, 'regarding': 1579, 'july': 1580, 'informing': 1581, 'closed': 1582, 'referring': 1583, 'federal': 1584, 'grand': 1585, 'jury': 1586, 'attorney': 1587, 'decision': 1588, 'laid': 1589, 'evidence': 1590, 'strongly': 1591, 'uncovered': 1592, 'personally': 1593, 'soft': 1594, 'describing': 1595, 'careless': 1596, 'using': 1597, 'un': 1598, 'secured': 1599, 'server': 1600, 'retired': 1601, 'write': 1602, 'letter': 1603, 'thirty': 1604, 'knowledge': 1605, 'expertise': 1606, 'confront': 1607, 'standard': 1608, 'procedure': 1609, 'judicial': 1610, 'finest': 1611, 'proudly': 1612, 'carry': 1613, 'credential': 1614, 'allowed': 1615, 'silent': 1616, 'm': 1617, 'merely': 1618, 'requires': 1619, 'possession': 1620, 'available': 1621, 'furthermore': 1622, 'owned': 1623, 'leaving': 1624, 'position': 1625, 'nefarious': 1626, 'known': 1627, 'moral': 1628, 'character': 1629, 'cave': 1630, 'pressure': 1631, 'unilaterally': 1632, 'fear': 1633, 'ashamed': 1634, 'precedent': 1635, 'justified': 1636, 'ought': 1637, 'resign': 1638, 'disgrace': 1639, 'reputation': 1640, 'normally': 1641, 'assigned': 1642, 'team': 1643, 'lead': 1644, 'investigator': 1645, 'presented': 1646, 'decides': 1647, 'decline': 1648, 'prosecution': 1649, 'decided': 1650, 'instead': 1651, 'prosecute': 1652, 'provide': 1653, 'wrong': 1654, 'upon': 1655, 'subject': 1656, 'probable': 1657, 'exist': 1658, 'level': 1659, 'probability': 1660, 'proceeding': 1661, 'throughout': 1662, 'fellow': 1663, 'conducting': 1664, 'treated': 1665, 'equally': 1666, 'allow': 1667, 'nasty': 1668, 'threatened': 1669, 'security': 1670, 'short': 1671, 'rico': 1672, 'influenced': 1673, 'recovered': 1674, 'argued': 1675, 'uncomfortable': 1676, 'addressing': 1677, 'conclude': 1678, 'retirement': 1679, 'tour': 1680, 'duty': 1681, 'professional': 1682, 'embedded': 1683, 'counter': 1684, 'terrorism': 1685, 'operated': 1686, 'wire': 1687, 'troop': 1688, 'gathering': 1689, 'bad': 1690, 'guy': 1691, 'reported': 1692, 'secure': 1693, 'commanding': 1694, 'officer': 1695, 'required': 1696, 'occasionally': 1697, 'remote': 1698, 'location': 1699, 'mountain': 1700, 'impossible': 1701, 'fly': 1702, 'base': 1703, 'commander': 1704, 'space': 1705, 'convenient': 1706, 'phone': 1707, 'written': 1708, 'laptop': 1709, 'classified': 1710, 'compromised': 1711, 'relative': 1712, 'low': 1713, 'classification': 1714, 'secret': 1715, 'prosecuted': 1716, 'prison': 1717, 'violation': 1718, 'considered': 1719, 'activity': 1720, 'running': 1721, 'sleep': 1722, 'night': 1723, 'market': 1724, 'projected': 1725, 'pravda': 1726, 'ru': 1727, 'stock': 1728, 'index': 1729, 'declined': 1730, 'electoral': 1731, 'investor': 1732, 'counting': 1733, 'collapsed': 1734, 'earlier': 1735, 'changed': 1736, 'forecast': 1737, 'percent': 1738, 'range': 1739, 'trading': 1740, 'data': 1741, 'showed': 1742, 'jones': 1743, 'p': 1744, 'japan': 1745, 'dropped': 1746, 'chinese': 1747, 'blue': 1748, 'chip': 1749, 'hang': 1750, 'korea': 1751, 'australian': 1752, 'currency': 1753, 'weakened': 1754, 'japanese': 1755, 'euro': 1756, 'price': 1757, 'crude': 1758, 'per': 1759, 'barrel': 1760, 'treasury': 1761, 'dynamic': 1762, 'gold': 1763, 'joe': 1764, 'printed': 1765, 'j': 1766, 'true': 1767, 'still': 1768, 'wound': 1769, 'purchase': 1770, 'lesser': 1771, 'versus': 1772, 'egg': 1773, 'returned': 1774, 'fat': 1775, 'toxin': 1776, 'branded': 1777, 'item': 1778, 'four': 1779, 'politically': 1780, 'rather': 1781, 'black': 1782, 'zombie': 1783, 'walmart': 1784, 'oligarchy': 1785, 'circus': 1786, 'philosophy': 1787, 'seem': 1788, 'concept': 1789, 'choice': 1790, 'commit': 1791, 'act': 1792, 'alleged': 1793, 'seems': 1794, 'supporting': 1795, 'card': 1796, 'phrase': 1797, 'possibly': 1798, 'accurate': 1799, 'spend': 1800, 'second': 1801, 'roll': 1802, 'nuclear': 1803, 'holocaust': 1804, 'suppose': 1805, 'face': 1806, 'repeatedly': 1807, 'tried': 1808, 'hostility': 1809, 'armed': 1810, 'decade': 1811, 'certain': 1812, 'dismantle': 1813, 'rich': 1814, 'eu': 1815, 'failed': 1816, 'preferred': 1817, 'organized': 1818, 'r': 1819, 'vladimir': 1820, 'vague': 1821, 'substance': 1822, 'democratic': 1823, 'committee': 1824, 'caught': 1825, 'bloody': 1826, 'handed': 1827, 'stealing': 1828, 'bernie': 1829, 'sander': 1830, 'fraud': 1831, 'response': 1832, 'yeah': 1833, 'sure': 1834, 'repeated': 1835, 'lost': 1836, 'meaning': 1837, 'abroad': 1838, 'slight': 1839, 'pas': 1840, 'unveiled': 1841, 'generation': 1842, 'capable': 1843, 'central': 1844, 'coast': 1845, 'uk': 1846, 'insists': 1847, 'zone': 1848, 'imposed': 1849, 'invading': 1850, 'arming': 1851, 'funding': 1852, 'privately': 1853, 'getting': 1854, 'sophisticated': 1855, 'import': 1856, 'located': 1857, 'standoff': 1858, 'putting': 1859, 'pilot': 1860, 'kill': 1861, 'lot': 1862, 'sudden': 1863, 'involvement': 1864, 'protecting': 1865, 'hrc': 1866, 'personnel': 1867, 'course': 1868, 'represents': 1869, 'dead': 1870, 'tale': 1871, 'historical': 1872, 'corporate': 1873, 'nazi': 1874, 'foreigner': 1875, 'death': 1876, 'rodham': 1877, 'played': 1878, 'role': 1879, 'approximately': 1880, 'third': 1881, 'bother': 1882, 'tally': 1883, 'figure': 1884, 'shock': 1885, 'liberal': 1886, 'thoroughly': 1887, 'senator': 1888, 'voted': 1889, 'illegal': 1890, 'command': 1891, 'responsibility': 1892, 'selling': 1893, 'estimate': 1894, 'iraqi': 1895, 'casualty': 1896, 'peace': 1897, 'attribute': 1898, 'charter': 1899, 'bush': 1900, 'cheney': 1901, 'hypocrisy': 1902, 'condemned': 1903, 'staggering': 1904, 'linked': 1905, 'witnessing': 1906, 'large': 1907, 'council': 1908, 'unacceptable': 1909, 'authorize': 1910, 'attempt': 1911, 'justify': 1912, 'claiming': 1913, 'insufficient': 1914, 'minister': 1915, 'sergey': 1916, 'lavrov': 1917, 'assisted': 1918, 'displayed': 1919, 'onto': 1920, 'current': 1921, 'contrast': 1922, 'highly': 1923, 'described': 1924, 'agreement': 1925, 'erdogan': 1926, 'rat': 1927, 'line': 1928, 'term': 1929, 'qatar': 1930, 'cia': 1931, 'mi': 1932, 'arsenal': 1933, 'benghazi': 1934, 'consulate': 1935, 'official': 1936, 'covert': 1937, 'plot': 1938, 'resulting': 1939, 'overthrow': 1940, 'elected': 1941, 'husband': 1942, 'sanction': 1943, 'component': 1944, 'toll': 1945, 'deemed': 1946, 'clip': 1947, 'modern': 1948, 'age': 1949, 'murderer': 1950, 'openly': 1951, 'haiti': 1952, 'honduras': 1953, 'atrocity': 1954, 'empire': 1955, 'pig': 1956, 'pretend': 1957, 'proven': 1958, 'charge': 1959, 'jill': 1960, 'stein': 1961, 'green': 1962, 'soros': 1963, 'voting': 1964, 'machine': 1965, 'rigged': 1966, 'went': 1967, 'hacked': 1968, 'joseph': 1969, 'company': 1970, 'provided': 1971, 'battleground': 1972, 'florida': 1973, 'arizona': 1974, 'billionaire': 1975, 'leftist': 1976, 'george': 1977, 'coordinated': 1978, 'receiving': 1979, 'player': 1980, 'string': 1981, 'behind': 1982, 'tied': 1983, 'progressive': 1984, 'globalist': 1985, 'surely': 1986, 'leave': 1987, 'mouth': 1988, 'equipment': 1989, 'smartmatic': 1990, 'chairman': 1991, 'mark': 1992, 'brown': 1993, 'sits': 1994, 'board': 1995, 'advisory': 1996, 'executive': 1997, 'founded': 1998, 'built': 1999, 'appointed': 2000, 'vice': 2001, 'quantum': 2002, 'management': 2003, 'institute': 2004, 'miller': 2005, 'firm': 2006, 'associate': 2007, 'senior': 2008, 'advisor': 2009, 'jackson': 2010, 'aide': 2011, 'managing': 2012, 'poor': 2013, 'track': 2014, 'providing': 2015, 'terrifying': 2016, 'astonishing': 2017, 'cable': 2018, 'obtained': 2019, 'reveals': 2020, 'extent': 2021, 'rigging': 2022, 'venezuelan': 2023, 'recall': 2024, 'titled': 2025, 'shadow': 2026, 'memo': 2027, 'stated': 2028, 'corporation': 2029, 'ownership': 2030, 'complicated': 2031, 'contested': 2032, 'venezuela': 2033, 'widely': 2034, 'suspected': 2035, 'opposition': 2036, 'referendum': 2037, 'eight': 2038, 'statistical': 2039, 'performed': 2040, 'study': 2041, 'log': 2042, 'supposedly': 2043, 'proved': 2044, 'suspicion': 2045, 'prove': 2046, 'reject': 2047, 'desire': 2048, 'colorado': 2049, 'dc': 2050, 'illinois': 2051, 'louisiana': 2052, 'michigan': 2053, 'missouri': 2054, 'jersey': 2055, 'nevada': 2056, 'oregon': 2057, 'pennsylvania': 2058, 'virginia': 2059, 'wisconsin': 2060, 'bias': 2061, 'proof': 2062, 'heavily': 2063, 'favor': 2064, 'needle': 2065, 'winner': 2066, 'mess': 2067, 'honesty': 2068, 'sheeple': 2069, 'republish': 2070, 'breaking': 2071, 'detail': 2072, 'contributed': 2073, 'planet': 2074, 'truthful': 2075, 'keeping': 2076, 'andrew': 2077, 'oval': 2078, 'stretching': 2079, 'hoover': 2080, 'learned': 2081, 'sooner': 2082, 'title': 2083, 'chief': 2084, 'bureaucracy': 2085, 'service': 2086, 'succeeded': 2087, 'holding': 2088, 'sin': 2089, 'reactionary': 2090, 'gay': 2091, 'actively': 2092, 'enemy': 2093, 'superior': 2094, 'dig': 2095, 'partisan': 2096, 'richard': 2097, 'nixon': 2098, 'scenario': 2099, 'extraordinary': 2100, 'recognizing': 2101, 'entrenched': 2102, 'struck': 2103, 'leak': 2104, 'deep': 2105, 'throat': 2106, 'deputy': 2107, 'instrument': 2108, 'obscure': 2109, 'nonetheless': 2110, 'potent': 2111, 'universe': 2112, 'thus': 2113, 'signature': 2114, 'iran': 2115, 'uranium': 2116, 'program': 2117, 'branch': 2118, 'asset': 2119, 'hammered': 2120, 'john': 2121, 'kerry': 2122, 'agreed': 2123, 'lifting': 2124, 'array': 2125, 'bank': 2126, 'iranian': 2127, 'savage': 2128, 'penalty': 2129, 'billion': 2130, 'fine': 2131, 'promised': 2132, 'reward': 2133, 'ability': 2134, 'trade': 2135, 'freely': 2136, 'appear': 2137, 'step': 2138, 'remedy': 2139, 'recently': 2140, 'ceremony': 2141, 'negotiating': 2142, 'deal': 2143, 'dealing': 2144, 'plenty': 2145, 'fashion': 2146, 'turn': 2147, 'pop': 2148, 'held': 2149, 'accountable': 2150, 'except': 2151, 'detailed': 2152, 'tyler': 2153, 'specialist': 2154, 'regulation': 2155, 'website': 2156, 'cited': 2157, 'necessarily': 2158, 'sufficient': 2159, 'bos': 2160, 'banking': 2161, 'better': 2162, 'exercise': 2163, 'essentially': 2164, 'neck': 2165, 'consequence': 2166, 'predictable': 2167, 'smart': 2168, 'attention': 2169, 'diplomat': 2170, 'steer': 2171, 'caption': 2172, 'commentary': 2173, 'comment': 2174, 'covered': 2175, 'publishing': 2176, 'produced': 2177, 'feature': 2178, 'film': 2179, 'documentary': 2180, 'casino': 2181, 'latest': 2182, 'henry': 2183, 'holt': 2184, 'severe': 2185, 'hacking': 2186, 'past': 2187, 'considerable': 2188, 'circulation': 2189, 'extreme': 2190, 'caution': 2191, 'publish': 2192, 'box': 2193, 'main': 2194, 'code': 2195, 'immediately': 2196, 'assured': 2197, 'legitimate': 2198, 'wish': 2199, 'send': 2200, 'mail': 2201, 'apologize': 2202, 'bring': 2203, 'subscribe': 2204, 'gain': 2205, 'safe': 2206, 'obligation': 2207, 'loyal': 2208, 'input': 2209, 'necessary': 2210, 'fix': 2211, 'nbc': 2212, 'affiliate': 2213, 'accidentally': 2214, 'confused': 2215, 'bag': 2216, 'dnc': 2217, 'rnc': 2218, 'online': 2219, 'listed': 2220, 'bet': 2221, 'assumption': 2222, 'weiner': 2223, 'ruined': 2224, 'anthony': 2225, 'revelation': 2226, 'surprise': 2227, 'opening': 2228, 'vulnerable': 2229, 'misconduct': 2230, 'hall': 2231, 'alternative': 2232, 'analyst': 2233, 'admit': 2234, 'chance': 2235, 'confusion': 2236, 'reign': 2237, 'supreme': 2238, 'observer': 2239, 'addressed': 2240, 'timing': 2241, 'majority': 2242, 'cycle': 2243, 'compete': 2244, 'pointed': 2245, 'competition': 2246, 'assumed': 2247, 'therefore': 2248, 'tend': 2249, 'agree': 2250, 'disagree': 2251, 'conclusion': 2252, 'primarily': 2253, 'false': 2254, 'pointing': 2255, 'correctly': 2256, 'predicted': 2257, 'brexit': 2258, 'outline': 2259, 'depth': 2260, 'stating': 2261, 'crazy': 2262, 'slated': 2263, 'design': 2264, 'color': 2265, 'surrounding': 2266, 'chosen': 2267, 'studying': 2268, 'behavior': 2269, 'wise': 2270, 'definitely': 2271, 'rig': 2272, 'cheat': 2273, 'consent': 2274, 'portion': 2275, 'insane': 2276, 'entirety': 2277, 'balance': 2278, 'sheet': 2279, 'rose': 2280, 'document': 2281, 'apparently': 2282, 'routine': 2283, 'interference': 2284, 'strange': 2285, 'rampant': 2286, 'mishandling': 2287, 'crowd': 2288, 'turnout': 2289, 'rhetoric': 2290, 'assuming': 2291, 'average': 2292, 'speed': 2293, 'ignorant': 2294, 'potential': 2295, 'inspiring': 2296, 'confidence': 2297, 'pick': 2298, 'represent': 2299, 'ride': 2300, 'lame': 2301, 'duck': 2302, 'rebellion': 2303, 'generally': 2304, 'option': 2305, 'breakdown': 2306, 'premise': 2307, 'underlying': 2308, 'ignore': 2309, 'swath': 2310, 'style': 2311, 'opec': 2312, 'production': 2313, 'freeze': 2314, 'ready': 2315, 'apart': 2316, 'reserve': 2317, 'threatening': 2318, 'raise': 2319, 'december': 2320, 'fiscal': 2321, 'structure': 2322, 'occurs': 2323, 'globalists': 2324, 'suggest': 2325, 'reaction': 2326, 'renewed': 2327, 'narrative': 2328, 'blaming': 2329, 'nine': 2330, 'ruin': 2331, 'victor': 2332, 'victorious': 2333, 'dismantling': 2334, 'founding': 2335, 'succeed': 2336, 'proponent': 2337, 'move': 2338, 'prepares': 2339, 'argue': 2340, 'announcement': 2341, 'motivated': 2342, 'motivation': 2343, 'meant': 2344, 'placed': 2345, 'dance': 2346, 'cry': 2347, 'accusing': 2348, 'reid': 2349, 'hiding': 2350, 'supposed': 2351, 'violating': 2352, 'hatch': 2353, 'outrage': 2354, 'waging': 2355, 'install': 2356, 'bizarre': 2357, 'understand': 2358, 'argument': 2359, 'designed': 2360, 'distract': 2361, 'dump': 2362, 'bringing': 2363, 'hoping': 2364, 'distraction': 2365, 'period': 2366, 'announce': 2367, 'stream': 2368, 'steal': 2369, 'traitor': 2370, 'puppet': 2371, 'worried': 2372, 'fulfill': 2373, 'prophecy': 2374, 'franchise': 2375, 'rogue': 2376, 'something': 2377, 'advantage': 2378, 'aware': 2379, 'firestorm': 2380, 'miracle': 2381, 'upset': 2382, 'sovereignty': 2383, 'champion': 2384, 'contrary': 2385, 'honestly': 2386, 'brazil': 2387, 'football': 2388, 'carlos': 2389, 'afp': 2390, 'captain': 2391, 'gathered': 2392, 'de': 2393, 'tribute': 2394, 'cup': 2395, 'winning': 2396, 'buried': 2397, 'carried': 2398, 'wednesday': 2399, 'flag': 2400, 'mostly': 2401, 'fourth': 2402, 'cap': 2403, 'podesta': 2404, 'id': 2405, 'page': 2406, 'registered': 2407, 'trademark': 2408, 'zero': 2409, 'copyright': 2410, 'generated': 2411, 'almost': 2412, 'start': 2413, 'changing': 2414, 'reflection': 2415, 'followed': 2416, 'dream': 2417, 'passion': 2418, 'stress': 2419, 'anger': 2420, 'reflecting': 2421, 'honest': 2422, 'emotion': 2423, 'feeling': 2424, 'decide': 2425, 'happens': 2426, 'empower': 2427, 'observe': 2428, 'kick': 2429, 'helping': 2430, 'choose': 2431, 'eating': 2432, 'habit': 2433, 'vessel': 2434, 'mentally': 2435, 'emotionally': 2436, 'healthy': 2437, 'cut': 2438, 'completely': 2439, 'tiny': 2440, 'scope': 2441, 'totally': 2442, 'pin': 2443, 'achieve': 2444, 'excited': 2445, 'passionate': 2446, 'believing': 2447, 'run': 2448, 'mentality': 2449, 'triggered': 2450, 'journal': 2451, 'someone': 2452, 'table': 2453, 'bigger': 2454, 'picture': 2455, 'challenge': 2456, 'comparing': 2457, 'compare': 2458, 'sad': 2459, 'feed': 2460, 'ego': 2461, 'respect': 2462, 'judging': 2463, 'addiction': 2464, 'conscious': 2465, 'finger': 2466, 'aligned': 2467, 'saying': 2468, 'hurt': 2469, 'worrying': 2470, 'trying': 2471, 'accepted': 2472, 'save': 2473, 'weird': 2474, 'genuine': 2475, 'maintain': 2476, 'forever': 2477, 'obsession': 2478, 'learn': 2479, 'reckless': 2480, 'list': 2481, 'career': 2482, 'explore': 2483, 'koch': 2484, 'helped': 2485, 'incite': 2486, 'impending': 2487, 'pm': 2488, 'lesson': 2489, 'column': 2490, 'verge': 2491, 'bearer': 2492, 'tension': 2493, 'terrified': 2494, 'disregard': 2495, 'minded': 2496, 'loyalist': 2497, 'intent': 2498, 'tea': 2499, 'caucus': 2500, 'boehner': 2501, 'embraced': 2502, 'solely': 2503, 'paul': 2504, 'ryan': 2505, 'energy': 2506, 'eager': 2507, 'wing': 2508, 'eric': 2509, 'issued': 2510, 'warning': 2511, 'huge': 2512, 'marker': 2513, 'criticize': 2514, 'revolt': 2515, 'besides': 2516, 'sticking': 2517, 'heavy': 2518, 'reuters': 2519, 'complained': 2520, 'angry': 2521, 'blood': 2522, 'letting': 2523, 'conflict': 2524, 'experienced': 2525, 'breitbart': 2526, 'stephen': 2527, 'bannon': 2528, 'uber': 2529, 'vision': 2530, 'libertarianism': 2531, 'closely': 2532, 'heritage': 2533, 'pushing': 2534, 'adopt': 2535, 'opportunity': 2536, 'joined': 2537, 'calling': 2538, 'delay': 2539, 'selecting': 2540, 'typically': 2541, 'michael': 2542, 'hell': 2543, 'bend': 2544, 'echoed': 2545, 'sentiment': 2546, 'expressed': 2547, 'dilemma': 2548, 'stability': 2549, 'unleash': 2550, 'outrageous': 2551, 'stump': 2552, 'content': 2553, 'shutting': 2554, 'internal': 2555, 'seize': 2556, 'emerged': 2557, 'scene': 2558, 'budget': 2559, 'confirmed': 2560, 'shop': 2561, 'donna': 2562, 'semi': 2563, 'ironically': 2564, 'frozen': 2565, 'mask': 2566, 'shit': 2567, 'chooses': 2568, 'mobility': 2569, 'odd': 2570, 'class': 2571, 'block': 2572, 'family': 2573, 'pack': 2574, 'teaching': 2575, 'assistant': 2576, 'queen': 2577, 'meat': 2578, 'amazing': 2579, 'physic': 2580, 'spring': 2581, 'arab': 2582, 'persuade': 2583, 'catastrophic': 2584, 'humanitarian': 2585, 'moderate': 2586, 'fighter': 2587, 'maximum': 2588, 'commenting': 2589, 'saved': 2590, 'offering': 2591, 'tear': 2592, 'allegedly': 2593, 'youtube': 2594, 'local': 2595, 'resource': 2596, 'walk': 2597, 'fame': 2598, 'accompanied': 2599, 'happy': 2600, 'dad': 2601, 'airstrike': 2602, 'dealt': 2603, 'shortly': 2604, 'introduced': 2605, 'staff': 2606, 'shooting': 2607, 'doctor': 2608, 'behave': 2609, 'kid': 2610, 'cleaning': 2611, 'walking': 2612, 'wearing': 2613, 'troubled': 2614, 'thick': 2615, 'dark': 2616, 'staged': 2617, 'creator': 2618, 'tactic': 2619, 'wounded': 2620, 'star': 2621, 'journalist': 2622, 'mode': 2623, 'poster': 2624, 'omar': 2625, 'bird': 2626, 'photograph': 2627, 'confirm': 2628, 'suffer': 2629, 'nov': 2630, 'peer': 2631, 'stake': 2632, 'capital': 2633, 'lifestyle': 2634, 'boat': 2635, 'aspect': 2636, 'define': 2637, 'identity': 2638, 'honor': 2639, 'integrity': 2640, 'morality': 2641, 'connecting': 2642, 'authentic': 2643, 'sold': 2644, 'environment': 2645, 'understanding': 2646, 'referenced': 2647, 'celebrity': 2648, 'bureaucrat': 2649, 'mogul': 2650, 'connected': 2651, 'alike': 2652, 'fuck': 2653, 'entering': 2654, 'persuaded': 2655, 'seriously': 2656, 'labeled': 2657, 'conspiracy': 2658, 'theorist': 2659, 'stand': 2660, 'ensuring': 2661, 'unconscious': 2662, 'blind': 2663, 'ideology': 2664, 'status': 2665, 'quo': 2666, 'weak': 2667, 'existential': 2668, 'tide': 2669, 'awakening': 2670, 'ultimate': 2671, 'sham': 2672, 'organize': 2673, 'degree': 2674, 'evolution': 2675, 'culture': 2676, 'beacon': 2677, 'research': 2678, 'magic': 2679, 'connect': 2680, 'darkness': 2681, 'angle': 2682, 'north': 2683, 'australia': 2684, 'guest': 2685, 'visit': 2686, 'indicted': 2687, 'responds': 2688, 'scramble': 2689, 'infowars': 2690, 'alex': 2691, 'break': 2692, 'reopening': 2693, 'surface': 2694, 'huma': 2695, 'abedin': 2696, 'bureau': 2697, 'lawmaker': 2698, 'previous': 2699, 'testimony': 2700, 'referred': 2701, 'completed': 2702, 'supplement': 2703, 'unrelated': 2704, 'pertinent': 2705, 'inform': 2706, 'briefed': 2707, 'yesterday': 2708, 'determine': 2709, 'ass': 2710, 'importance': 2711, 'undoubtedly': 2712, 'spell': 2713, 'trouble': 2714, 'vowed': 2715, 'investigate': 2716, 'crew': 2717, 'related': 2718, 'focus': 2719, 'worker': 2720, 'guardian': 2721, 'rapid': 2722, 'damaging': 2723, 'serving': 2724, 'leaking': 2725, 'manafort': 2726, 'manager': 2727, 'preliminary': 2728, 'denied': 2729, 'wrongdoing': 2730, 'moreover': 2731, 'claimed': 2732, 'previously': 2733, 'tenure': 2734, 'belonging': 2735, 'estranged': 2736, 'eddie': 2737, 'file': 2738, 'marked': 2739, 'insurance': 2740, 'leaked': 2741, 'newly': 2742, 'discovered': 2743, 'switch': 2744, 'ordered': 2745, 'meanwhile': 2746, 'trail': 2747, 'weekend': 2748, 'warrant': 2749, 'initial': 2750, 'request': 2751, 'pumpkin': 2752, 'recipe': 2753, 'organic': 2754, 'traditional': 2755, 'coconut': 2756, 'sugar': 2757, 'interpretation': 2758, 'original': 2759, 'holiday': 2760, 'ahead': 2761, 'seed': 2762, 'balanced': 2763, 'juice': 2764, 'amount': 2765, 'add': 2766, 'similar': 2767, 'squash': 2768, 'iron': 2769, 'vitamin': 2770, 'fiber': 2771, 'substitute': 2772, 'wide': 2773, 'shape': 2774, 'round': 2775, 'skip': 2776, 'route': 2777, 'twenty': 2778, 'fill': 2779, 'smaller': 2780, 'recommend': 2781, 'pan': 2782, 'cool': 2783, 'correct': 2784, 'trader': 2785, 'century': 2786, 'asia': 2787, 'specie': 2788, 'monster': 2789, 'cooking': 2790, 'cousin': 2791, 'sweet': 2792, 'crossed': 2793, 'potato': 2794, 'skin': 2795, 'slightly': 2796, 'brilliant': 2797, 'orange': 2798, 'store': 2799, 'prep': 2800, 'filling': 2801, 'f': 2802, 'overnight': 2803, 'sharp': 2804, 'raw': 2805, 'strained': 2806, 'bean': 2807, 'extract': 2808, 'plus': 2809, 'extra': 2810, 'crystal': 2811, 'salt': 2812, 'instruction': 2813, 'preparing': 2814, 'drain': 2815, 'excess': 2816, 'combine': 2817, 'remaining': 2818, 'mix': 2819, 'ingredient': 2820, 'suit': 2821, 'remain': 2822, 'knife': 2823, 'crown': 2824, 'couple': 2825, 'inch': 2826, 'stem': 2827, 'circle': 2828, 'aside': 2829, 'slowly': 2830, 'replace': 2831, 'cook': 2832, 'flat': 2833, 'filled': 2834, 'eat': 2835, 'check': 2836, 'tip': 2837, 'hole': 2838, 'transfer': 2839, 'plate': 2840, 'glass': 2841, 'bowl': 2842, 'thin': 2843, 'slice': 2844, 'enjoy': 2845, 'difference': 2846, 'genetic': 2847, 'sink': 2848, 'wonder': 2849, 'ice': 2850, 'despair': 2851, 'usually': 2852, 'winter': 2853, 'officially': 2854, 'eaten': 2855, 'fda': 2856, 'deciding': 2857, 'reference': 2858, 'web': 2859, 'oct': 2860, 'reply': 2861, 'frank': 2862, 'draw': 2863, 'surprising': 2864, 'reading': 2865, 'mad': 2866, 'nearby': 2867, 'naturally': 2868, 'illusion': 2869, 'alert': 2870, 'identifying': 2871, 'spiritual': 2872, 'seeker': 2873, 'outraged': 2874, 'captive': 2875, 'declare': 2876, 'beautiful': 2877, 'landscape': 2878, 'art': 2879, 'music': 2880, 'identification': 2881, 'instant': 2882, 'depend': 2883, 'realistic': 2884, 'identify': 2885, 'deeper': 2886, 'isolated': 2887, 'common': 2888, 'method': 2889, 'alarm': 2890, 'objective': 2891, 'ideal': 2892, 'ambition': 2893, 'confirms': 2894, 'rooted': 2895, 'sleeping': 2896, 'dimension': 2897, 'identified': 2898, 'ocean': 2899, 'missing': 2900, 'generate': 2901, 'safely': 2902, 'emerges': 2903, 'remembers': 2904, 'origin': 2905, 'memory': 2906, 'ancient': 2907, 'quiet': 2908, 'recognition': 2909, 'insisting': 2910, 'independence': 2911, 'intensity': 2912, 'sf': 2913, 'jim': 2914, 'download': 2915, 'broken': 2916, 'edition': 2917, 'silver': 2918, 'dr': 2919, 'miss': 2920, 'pakistan': 2921, 'khan': 2922, 'ap': 2923, 'youth': 2924, 'convention': 2925, 'protest': 2926, 'uniform': 2927, 'beating': 2928, 'leading': 2929, 'detained': 2930, 'bus': 2931, 'arrived': 2932, 'quoted': 2933, 'spokeswoman': 2934, 'raid': 2935, 'enforcing': 2936, 'administrator': 2937, 'five': 2938, 'banned': 2939, 'prime': 2940, 'wave': 2941, 'rally': 2942, 'summer': 2943, 'parliament': 2944, 'insisted': 2945, 'offer': 2946, 'shady': 2947, 'included': 2948, 'tax': 2949, 'offshore': 2950, 'estate': 2951, 'property': 2952, 'denies': 2953, 'income': 2954, 'loading': 2955, 'fort': 2956, 'translated': 2957, 'welcomed': 2958, 'despite': 2959, 'process': 2960, 'federation': 2961, 'interfering': 2962, 'crimea': 2963, 'differently': 2964, 'polling': 2965, 'prevented': 2966, 'formation': 2967, 'radically': 2968, 'remarked': 2969, 'anxiety': 2970, 'kiev': 2971, 'cautious': 2972, 'optimistic': 2973, 'resist': 2974, 'suggested': 2975, 'signal': 2976, 'attitude': 2977, 'ukrainian': 2978, 'fatally': 2979, 'shot': 2980, 'sputnik': 2981, 'impeachment': 2982, 'violated': 2983, 'stage': 2984, 'parliamentary': 2985, 'coup': 2986, 'gunshot': 2987, 'tended': 2988, 'los': 2989, 'clinic': 2990, 'el': 2991, 'initiated': 2992, 'scale': 2993, 'protester': 2994, 'increased': 2995, 'autism': 2996, 'infant': 2997, 'prevention': 2998, 'cdc': 2999, 'conducted': 3000, 'male': 3001, 'sample': 3002, 'fraudulent': 3003, 'nonprofit': 3004, 'raising': 3005, 'broke': 3006, 'whistleblower': 3007, 'anonymity': 3008, 'william': 3009, 'thompson': 3010, 'father': 3011, 'induced': 3012, 'dating': 3013, 'treatment': 3014, 'men': 3015, 'reviewed': 3016, 'intentionally': 3017, 'significantly': 3018, 'increase': 3019, 'particularly': 3020, 'lowest': 3021, 'bold': 3022, 'engaged': 3023, 'falsely': 3024, 'scientific': 3025, 'exact': 3026, 'opposite': 3027, 'explains': 3028, 'seeking': 3029, 'scott': 3030, 'hypothesis': 3031, 'receive': 3032, 'infection': 3033, 'measles': 3034, 'safety': 3035, 'scientist': 3036, 'knew': 3037, 'younger': 3038, 'exposure': 3039, 'associated': 3040, 'jonathan': 3041, 'jail': 3042, 'migrant': 3043, 'dumped': 3044, 'baby': 3045, 'road': 3046, 'norm': 3047, 'raped': 3048, 'asylum': 3049, 'furious': 3050, 'thrown': 3051, 'centre': 3052, 'grabbed': 3053, 'busy': 3054, 'suspended': 3055, 'sentence': 3056, 'vienna': 3057, 'drunk': 3058, 'beer': 3059, 'flew': 3060, 'rage': 3061, 'daughter': 3062, 'ran': 3063, 'traffic': 3064, 'lane': 3065, 'lawyer': 3066, 'heard': 3067, 'necessity': 3068, 'discussed': 3069, 'assert': 3070, 'weight': 3071, 'employee': 3072, 'closure': 3073, 'concerned': 3074, 'prosecutor': 3075, 'stunning': 3076, 'shocked': 3077, 'criminality': 3078, 'assange': 3079, 'represented': 3080, 'julian': 3081, 'suicide': 3082, 'jumped': 3083, 'possibility': 3084, 'suspicious': 3085, 'whistle': 3086, 'mystery': 3087, 'sued': 3088, 'sitting': 3089, 'w': 3090, 'terrible': 3091, 'trial': 3092, 'aaron': 3093, 'klein': 3094, 'demonstrated': 3095, 'sending': 3096, 'travel': 3097, 'ambassador': 3098, 'stevens': 3099, 'prior': 3100, 'dave': 3101, 'somebody': 3102, 'scared': 3103, 'vince': 3104, 'foster': 3105, 'mentioned': 3106, 'affair': 3107, 'congressman': 3108, 'sexting': 3109, 'inappropriate': 3110, 'indicated': 3111, 'concerning': 3112, 'damning': 3113, 'nypd': 3114, 'intense': 3115, 'avoid': 3116, 'airplane': 3117, 'immediate': 3118, 'laughing': 3119, 'mirror': 3120, 'lease': 3121, 'storage': 3122, 'hodges': 3123, 'satisfied': 3124, 'wait': 3125, 'late': 3126, 'censorship': 3127, 'spying': 3128, 'donor': 3129, 'barack': 3130, 'hussein': 3131, 'focused': 3132, 'patriot': 3133, 'indicating': 3134, 'region': 3135, 'accuse': 3136, 'isil': 3137, 'radical': 3138, 'sunni': 3139, 'citing': 3140, 'arguing': 3141, 'differ': 3142, 'argues': 3143, 'largest': 3144, 'coincidence': 3145, 'correspondence': 3146, 'meeting': 3147, 'birthday': 3148, 'occupying': 3149, 'peninsula': 3150, 'welcome': 3151, 'suggestion': 3152, 'investment': 3153, 'dot': 3154, 'generous': 3155, 'bolster': 3156, 'blowing': 3157, 'allows': 3158, 'profit': 3159, 'choosing': 3160, 'eliminating': 3161, 'arrested': 3162, 'praise': 3163, 'allah': 3164, 'volume': 3165, 'emergency': 3166, 'considers': 3167, 'darling': 3168, 'seized': 3169, 'disclose': 3170, 'golden': 3171, 'considering': 3172, 'telling': 3173, 'doj': 3174, 'saturday': 3175, 'wake': 3176, 'dramatic': 3177, 'bombshell': 3178, 'breathe': 3179, 'sought': 3180, 'announcing': 3181, 'probe': 3182, 'oversight': 3183, 'jason': 3184, 'chaffetz': 3185, 'utah': 3186, 'recess': 3187, 'briefing': 3188, 'raised': 3189, 'sen': 3190, 'ron': 3191, 'johnson': 3192, 'wi': 3193, 'senate': 3194, 'homeland': 3195, 'pray': 3196, 'firework': 3197, 'indictment': 3198, 'wind': 3199, 'tim': 3200, 'kaine': 3201, 'slide': 3202, 'bull': 3203, 'dog': 3204, 'faced': 3205, 'lifetime': 3206, 'hamilton': 3207, 'owns': 3208, 'net': 3209, 'constitutional': 3210, 'oliver': 3211, 'increasingly': 3212, 'tonight': 3213, 'encouraged': 3214, 'seeing': 3215, 'swing': 3216, 'mitt': 3217, 'romney': 3218, 'carolina': 3219, 'tomorrow': 3220, 'ballot': 3221, 'fortunately': 3222, 'casting': 3223, 'sunday': 3224, 'sheer': 3225, 'tougher': 3226, 'absentee': 3227, 'percentage': 3228, 'roughly': 3229, 'enjoyed': 3230, 'monday': 3231, 'updated': 3232, 'smiling': 3233, 'hispanic': 3234, 'compared': 3235, 'fueled': 3236, 'dislike': 3237, 'miami': 3238, 'university': 3239, 'professor': 3240, 'sat': 3241, 'sideline': 3242, 'map': 3243, 'expectation': 3244, 'reveal': 3245, 'unfortunately': 3246, 'denver': 3247, 'robust': 3248, 'red': 3249, 'shifted': 3250, 'direction': 3251, 'requested': 3252, 'crossing': 3253, 'enormous': 3254, 'enthusiastic': 3255, 'height': 3256, 'pic': 3257, 'strategist': 3258, 'cnn': 3259, 'longtime': 3260, 'weaver': 3261, 'unpopular': 3262, 'publicly': 3263, 'canceled': 3264, 'pivotal': 3265, 'mercy': 3266, 'tag': 3267, 'debt': 3268, 'pain': 3269, 'category': 3270, 'lower': 3271, 'yield': 3272, 'gm': 3273, 'mustard': 3274, 'india': 3275, 'genetically': 3276, 'modified': 3277, 'crop': 3278, 'hide': 3279, 'background': 3280, 'hybrid': 3281, 'developer': 3282, 'chemical': 3283, 'manufacturer': 3284, 'horse': 3285, 'advised': 3286, 'allowing': 3287, 'constitutes': 3288, 'regulatory': 3289, 'compliance': 3290, 'forced': 3291, 'agriculture': 3292, 'farm': 3293, 'contribute': 3294, 'agricultural': 3295, 'diet': 3296, 'safeguard': 3297, 'hidden': 3298, 'release': 3299, 'opposes': 3300, 'filed': 3301, 'union': 3302, 'organisation': 3303, 'contained': 3304, 'admission': 3305, 'engineering': 3306, 'submitted': 3307, 'clearly': 3308, 'recorded': 3309, 'includes': 3310, 'tested': 3311, 'essential': 3312, 'assessment': 3313, 'protocol': 3314, 'reduce': 3315, 'implicit': 3316, 'farmer': 3317, 'overcome': 3318, 'palm': 3319, 'tariff': 3320, 'influx': 3321, 'cheap': 3322, 'deliberate': 3323, 'effectively': 3324, 'devastated': 3325, 'served': 3326, 'commodity': 3327, 'indian': 3328, 'twisted': 3329, 'introduction': 3330, 'constitute': 3331, 'cynical': 3332, 'entry': 3333, 'comparison': 3334, 'respectively': 3335, 'technically': 3336, 'regulator': 3337, 'grass': 3338, 'foot': 3339, 'implication': 3340, 'trait': 3341, 'bar': 3342, 'gene': 3343, 'specifically': 3344, 'testing': 3345, 'ii': 3346, 'rape': 3347, 'mo': 3348, 'spokesperson': 3349, 'careful': 3350, 'labor': 3351, 'liability': 3352, 'strict': 3353, 'destroying': 3354, 'altogether': 3355, 'tent': 3356, 'bargain': 3357, 'glen': 3358, 'ford': 3359, 'woo': 3360, 'loose': 3361, 'gather': 3362, 'ruling': 3363, 'banner': 3364, 'achieved': 3365, 'aisle': 3366, 'exodus': 3367, 'transformed': 3368, 'ball': 3369, 'unexpected': 3370, 'gore': 3371, 'relentless': 3372, 'southern': 3373, 'steady': 3374, 'rev': 3375, 'jesse': 3376, 'strengthening': 3377, 'calculation': 3378, 'moved': 3379, 'narrow': 3380, 'ideological': 3381, 'duopoly': 3382, 'ronald': 3383, 'reagan': 3384, 'welfare': 3385, 'incarceration': 3386, 'nafta': 3387, 'objection': 3388, 'engineered': 3389, 'removed': 3390, 'arranged': 3391, 'deployment': 3392, 'jihadist': 3393, 'doctrine': 3394, 'partially': 3395, 'socialist': 3396, 'operational': 3397, 'africa': 3398, 'setting': 3399, 'membership': 3400, 'backing': 3401, 'january': 3402, 'oath': 3403, 'editorial': 3404, 'medicare': 3405, 'cutting': 3406, 'legacy': 3407, 'scheme': 3408, 'adopted': 3409, 'bob': 3410, 'dole': 3411, 'massachusetts': 3412, 'governor': 3413, 'affordable': 3414, 'constructed': 3415, 'mortgage': 3416, 'begging': 3417, 'mood': 3418, 'maneuver': 3419, 'targeted': 3420, 'trap': 3421, 'alan': 3422, 'simpson': 3423, 'commission': 3424, 'deficit': 3425, 'reduction': 3426, 'recommended': 3427, 'trillion': 3428, 'endorse': 3429, 'recommendation': 3430, 'formula': 3431, 'hoped': 3432, 'bipartisan': 3433, 'minority': 3434, 'massacre': 3435, 'emanuel': 3436, 'kansa': 3437, 'sandwich': 3438, 'pursue': 3439, 'marriage': 3440, 'reelection': 3441, 'clock': 3442, 'halt': 3443, 'spectacle': 3444, 'facto': 3445, 'super': 3446, 'quest': 3447, 'distinction': 3448, 'sequestration': 3449, 'austerity': 3450, 'institutional': 3451, 'crafted': 3452, 'importantly': 3453, 'organizing': 3454, 'hug': 3455, 'racism': 3456, 'banker': 3457, 'morgan': 3458, 'stanley': 3459, 'debacle': 3460, 'framework': 3461, 'element': 3462, 'deplorables': 3463, 'reluctance': 3464, 'inherent': 3465, 'dependent': 3466, 'inherently': 3467, 'unstable': 3468, 'arrangement': 3469, 'season': 3470, 'govern': 3471, 'folk': 3472, 'abused': 3473, 'cat': 3474, 'constituency': 3475, 'interim': 3476, 'unique': 3477, 'wage': 3478, 'suspect': 3479, 'inclusive': 3480, 'session': 3481, 'contacted': 3482, 'plant': 3483, 'young': 3484, 'seemingly': 3485, 'walked': 3486, 'unable': 3487, 'laughter': 3488, 'okay': 3489, 'camera': 3490, 'dea': 3491, 'prescription': 3492, 'drop': 3493, 'protects': 3494, 'pharma': 3495, 'fuel': 3496, 'opioid': 3497, 'claire': 3498, 'pharmaceutical': 3499, 'preventing': 3500, 'medication': 3501, 'legislator': 3502, 'protection': 3503, 'listen': 3504, 'motive': 3505, 'legislative': 3506, 'guideline': 3507, 'reducing': 3508, 'heroin': 3509, 'discipline': 3510, 'unusually': 3511, 'criticized': 3512, 'double': 3513, 'vowing': 3514, 'epidemic': 3515, 'behalf': 3516, 'insight': 3517, 'tasked': 3518, 'inspection': 3519, 'threshold': 3520, 'legislation': 3521, 'comprehensive': 3522, 'recovery': 3523, 'controversy': 3524, 'erupted': 3525, 'patch': 3526, 'sharply': 3527, 'empty': 3528, 'aggressive': 3529, 'rein': 3530, 'pill': 3531, 'mill': 3532, 'headed': 3533, 'filing': 3534, 'lawsuit': 3535, 'proliferation': 3536, 'disproportionately': 3537, 'fearing': 3538, 'fought': 3539, 'unnamed': 3540, 'patient': 3541, 'effective': 3542, 'healthcare': 3543, 'representing': 3544, 'lobbying': 3545, 'staffer': 3546, 'conference': 3547, 'recalled': 3548, 'pass': 3549, 'suspension': 3550, 'stunned': 3551, 'successful': 3552, 'bite': 3553, 'estimated': 3554, 'gift': 3555, 'passed': 3556, 'uncertain': 3557, 'regulate': 3558, 'overwhelmingly': 3559, 'extends': 3560, 'simple': 3561, 'coordinating': 3562, 'tool': 3563, 'limiting': 3564, 'burwell': 3565, 'panel': 3566, 'asserted': 3567, 'greatly': 3568, 'influential': 3569, 'conscience': 3570, 'talked': 3571, 'anybody': 3572, 'horrible': 3573, 'tragedy': 3574, 'sit': 3575, 'parent': 3576, 'illicit': 3577, 'marketplace': 3578, 'google': 3579, 'fate': 3580, 'somewhere': 3581, 'disgusting': 3582, 'notice': 3583, 'rep': 3584, 'attractive': 3585, 'accessible': 3586, 'door': 3587, 'fast': 3588, 'shareholder': 3589, 'demand': 3590, 'eventual': 3591, 'demise': 3592, 'cost': 3593, 'disturbing': 3594, 'chose': 3595, 'scream': 3596, 'assertion': 3597, 'maybe': 3598, 'canadian': 3599, 'expense': 3600, 'canada': 3601, 'stewart': 3602, 'finally': 3603, 'lewd': 3604, 'locker': 3605, 'billy': 3606, 'pacific': 3607, 'asian': 3608, 'arctic': 3609, 'established': 3610, 'develop': 3611, 'preserve': 3612, 'initially': 3613, 'denmark': 3614, 'norway': 3615, 'sweden': 3616, 'granted': 3617, 'capacity': 3618, 'vast': 3619, 'marine': 3620, 'render': 3621, 'valuable': 3622, 'assistance': 3623, 'lately': 3624, 'transport': 3625, 'corridor': 3626, 'address': 3627, 'stone': 3628, 'growth': 3629, 'broader': 3630, 'atlantic': 3631, 'ship': 3632, 'cargo': 3633, 'pirate': 3634, 'shipping': 3635, 'doubled': 3636, 'tense': 3637, 'territorial': 3638, 'dispute': 3639, 'retain': 3640, 'navigation': 3641, 'relatively': 3642, 'passage': 3643, 'mentioning': 3644, 'circumstance': 3645, 'participate': 3646, 'employ': 3647, 'us': 3648, 'manufactured': 3649, 'port': 3650, 'engagement': 3651, 'willing': 3652, 'beginning': 3653, 'curious': 3654, 'delivers': 3655, 'monitoring': 3656, 'developing': 3657, 'rival': 3658, 'netherlands': 3659, 'remains': 3660, 'adequate': 3661, 'terminal': 3662, 'accommodate': 3663, 'hopeful': 3664, 'prospective': 3665, 'participating': 3666, 'strategic': 3667, 'concentration': 3668, 'facility': 3669, 'transportation': 3670, 'hub': 3671, 'signed': 3672, 'contract': 3673, 'island': 3674, 'anticipated': 3675, 'exceed': 3676, 'ton': 3677, 'profound': 3678, 'invest': 3679, 'joint': 3680, 'enterprise': 3681, 'paying': 3682, 'ruble': 3683, 'interested': 3684, 'gaining': 3685, 'placing': 3686, 'attract': 3687, 'accuracy': 3688, 'taylor': 3689, 'assure': 3690, 'describes': 3691, 'latin': 3692, 'mexico': 3693, 'student': 3694, 'concentrate': 3695, 'offered': 3696, 'college': 3697, 'admits': 3698, 'surplus': 3699, 'requiring': 3700, 'bailout': 3701, 'bail': 3702, 'loan': 3703, 'monetary': 3704, 'creation': 3705, 'involving': 3706, 'june': 3707, 'summit': 3708, 'integrated': 3709, 'annually': 3710, 'establish': 3711, 'concert': 3712, 'regional': 3713, 'annual': 3714, 'communist': 3715, 'colombia': 3716, 'implement': 3717, 'sustainable': 3718, 'representative': 3719, 'approval': 3720, 'interestingly': 3721, 'disclosure': 3722, 'consultant': 3723, 'catholic': 3724, 'georgetown': 3725, 'pope': 3726, 'francis': 3727, 'jesuit': 3728, 'picked': 3729, 'globe': 3730, 'partnership': 3731, 'poverty': 3732, 'transform': 3733, 'patrick': 3734, 'wood': 3735, 'rising': 3736, 'transformation': 3737, 'replacement': 3738, 'capitalism': 3739, 'revenue': 3740, 'link': 3741, 'electronic': 3742, 'object': 3743, 'accomplish': 3744, 'understood': 3745, 'perfectly': 3746, 'database': 3747, 'monitor': 3748, 'slavery': 3749, 'warns': 3750, 'archive': 3751, 'palestinian': 3752, 'writer': 3753, 'drama': 3754, 'greek': 3755, 'myth': 3756, 'mixed': 3757, 'actor': 3758, 'performance': 3759, 'classic': 3760, 'text': 3761, 'language': 3762, 'village': 3763, 'brings': 3764, 'edge': 3765, 'occupation': 3766, 'teen': 3767, 'atmosphere': 3768, 'saddam': 3769, 'square': 3770, 'baghdad': 3771, 'israel': 3772, 'dylan': 3773, 'drive': 3774, 'israeli': 3775, 'fundamental': 3776, 'strength': 3777, 'beaten': 3778, 'drawn': 3779, 'speculation': 3780, 'laura': 3781, 'pizza': 3782, 'rescued': 3783, 'reddit': 3784, 'convicted': 3785, 'refuge': 3786, 'trafficking': 3787, 'cross': 3788, 'freed': 3789, 'king': 3790, 'harvard': 3791, 'disrupt': 3792, 'sentenced': 3793, 'alien': 3794, 'jeffrey': 3795, 'epstein': 3796, 'mike': 3797, 'till': 3798, 'application': 3799, 'grew': 3800, 'stranger': 3801, 'h': 3802, 'anonymous': 3803, 'sick': 3804, 'hawaii': 3805, 'l': 3806, 'handled': 3807, 'instinct': 3808, 'dealer': 3809, 'minor': 3810, 'jet': 3811, 'express': 3812, 'inner': 3813, 'deserves': 3814, 'scrutiny': 3815, 'trip': 3816, 'confirmation': 3817, 'monopoly': 3818, 'warner': 3819, 'feared': 3820, 'merger': 3821, 'competitor': 3822, 'crushing': 3823, 'demonstrates': 3824, 'takeover': 3825, 'promote': 3826, 'removing': 3827, 'launch': 3828, 'cartel': 3829, 'dominated': 3830, 'operate': 3831, 'radio': 3832, 'obtain': 3833, 'fee': 3834, 'similarly': 3835, 'comply': 3836, 'shut': 3837, 'anxious': 3838, 'afford': 3839, 'hire': 3840, 'strengthened': 3841, 'brick': 3842, 'retailer': 3843, 'acquisition': 3844, 'famous': 3845, 'fed': 3846, 'enable': 3847, 'higher': 3848, 'tilt': 3849, 'crony': 3850, 'excessive': 3851, 'boom': 3852, 'bust': 3853, 'ending': 3854, 'seek': 3855, 'abandon': 3856, 'korean': 3857, 'test': 3858, 'satellite': 3859, 'fifth': 3860, 'defiance': 3861, 'lone': 3862, 'involve': 3863, 'resume': 3864, 'sensitive': 3865, 'clapper': 3866, 'signing': 3867, 'amid': 3868, 'ruler': 3869, 'plagued': 3870, 'landmark': 3871, 'resolve': 3872, 'trunews': 3873, 'rick': 3874, 'monthly': 3875, 'provides': 3876, 'worldwide': 3877, 'church': 3878, 'bigotry': 3879, 'ta': 3880, 'proposal': 3881, 'aboard': 3882, 'expects': 3883, 'rational': 3884, 'unit': 3885, 'intended': 3886, 'outer': 3887, 'segment': 3888, 'bid': 3889, 'approved': 3890, 'flight': 3891, 'contractor': 3892, 'forum': 3893, 'display': 3894, 'powered': 3895, 'slogan': 3896, 'constant': 3897, 'retreat': 3898, 'rand': 3899, 'seven': 3900, 'town': 3901, 'clothes': 3902, 'hurricane': 3903, 'matthew': 3904, 'debating': 3905, 'undecided': 3906, 'dissent': 3907, 'racist': 3908, 'sexist': 3909, 'patriotic': 3910, 'mandatory': 3911, 'capture': 3912, 'visiting': 3913, 'hiroshima': 3914, 'friendly': 3915, 'flop': 3916, 'son': 3917, 'orlando': 3918, 'transcript': 3919, 'shooter': 3920, 'pledged': 3921, 'allegiance': 3922, 'nra': 3923, 'promotes': 3924, 'threatens': 3925, 'parenthood': 3926, 'aclu': 3927, 'select': 3928, 'airline': 3929, 'tsa': 3930, 'transition': 3931, 'kasich': 3932, 'bathroom': 3933, 'foxnews': 3934, 'sponsored': 3935, 'pledge': 3936, 'suggests': 3937, 'delegate': 3938, 'wyoming': 3939, 'ted': 3940, 'cruz': 3941, 'basement': 3942, 'vow': 3943, 'replaced': 3944, 'gun': 3945, 'airport': 3946, 'cuba': 3947, 'communism': 3948, 'proposes': 3949, 'execute': 3950, 'susan': 3951, 'hampshire': 3952, 'martin': 3953, 'malley': 3954, 'race': 3955, 'iowa': 3956, 'dumb': 3957, 'accusation': 3958, 'smoking': 3959, 'firing': 3960, 'realizing': 3961, 'difficulty': 3962, 'wild': 3963, 'jihad': 3964, 'urge': 3965, 'owner': 3966, 'firearm': 3967, 'horror': 3968, 'charlie': 3969, 'christmas': 3970, 'mohammed': 3971, 'cartoon': 3972, 'burn': 3973, 'trend': 3974, 'paris': 3975, 'researcher': 3976, 'cultural': 3977, 'appropriation': 3978, 'quit': 3979, 'discovery': 3980, 'discover': 3981, 'immigration': 3982, 'screening': 3983, 'subsidy': 3984, 'electricity': 3985, 'improve': 3986, 'replacing': 3987, 'nasa': 3988, 'sexism': 3989, 'inequality': 3990, 'suffers': 3991, 'gender': 3992, 'squad': 3993, 'humor': 3994, 'chart': 3995, 'joke': 3996, 'laughed': 3997, 'depressed': 3998, 'county': 3999, 'teacher': 4000, 'asks': 4001, 'arabic': 4002, 'wear': 4003, 'spontaneous': 4004, 'classmate': 4005, 'lunch': 4006, 'regain': 4007, 'impressed': 4008, 'tough': 4009, 'socialism': 4010, 'accepts': 4011, 'award': 4012, 'surveillance': 4013, 'horizon': 4014, 'acquire': 4015, 'prof': 4016, 'particle': 4017, 'buck': 4018, 'ordinary': 4019, 'negotiator': 4020, 'leg': 4021, 'negotiation': 4022, 'junior': 4023, 'ramadi': 4024, 'advance': 4025, 'pool': 4026, 'ny': 4027, 'mayor': 4028, 'cowboy': 4029, 'diplomacy': 4030, 'shaped': 4031, 'intellectual': 4032, 'copy': 4033, 'slave': 4034, 'met': 4035, 'prompt': 4036, 'hashtag': 4037, 'reset': 4038, 'hebdo': 4039, 'sends': 4040, 'convenience': 4041, 'racial': 4042, 'sue': 4043, 'demanding': 4044, 'protesting': 4045, 'normalization': 4046, 'tourist': 4047, 'cuban': 4048, 'outspoken': 4049, 'learning': 4050, 'dirty': 4051, 'dallas': 4052, 'threw': 4053, 'arena': 4054, 'row': 4055, 'broadcaster': 4056, 'rumor': 4057, 'stance': 4058, 'ticket': 4059, 'penny': 4060, 'buying': 4061, 'gon': 4062, 'na': 4063, 'adult': 4064, 'gotten': 4065, 'viewpoint': 4066, 'sport': 4067, 'typical': 4068, 'hatred': 4069, 'daniel': 4070, 'unfavorable': 4071, 'plague': 4072, 'osama': 4073, 'bin': 4074, 'laden': 4075, 'feminist': 4076, 'awkward': 4077, 'badly': 4078, 'joy': 4079, 'stalin': 4080, 'truck': 4081, 'oh': 4082, 'stepped': 4083, 'lady': 4084, 'arkansas': 4085, 'offended': 4086, 'theme': 4087, 'deny': 4088, 'label': 4089, 'stuck': 4090, 'politifact': 4091, 'respected': 4092, 'certified': 4093, 'shouted': 4094, 'unclear': 4095, 'invoked': 4096, 'handling': 4097, 'material': 4098, 'blackberry': 4099, 'proportion': 4100, 'opponent': 4101, 'oxygen': 4102, 'tone': 4103, 'wrapped': 4104, 'frustrated': 4105, 'complexity': 4106, 'hedge': 4107, 'homicide': 4108, 'slow': 4109, 'recording': 4110, 'tribune': 4111, 'spike': 4112, 'memorial': 4113, 'webster': 4114, 'grade': 4115, 'principal': 4116, 'recruited': 4117, 'naacp': 4118, 'twin': 4119, 'edward': 4120, 'responding': 4121, 'gunfire': 4122, 'sidewalk': 4123, 'avenue': 4124, 'documented': 4125, 'affiliation': 4126, 'guard': 4127, 'deployed': 4128, 'neighborhood': 4129, 'repeat': 4130, 'offender': 4131, 'cub': 4132, 'shift': 4133, 'confident': 4134, 'occur': 4135, 'privacy': 4136, 'watchdog': 4137, 'kirby': 4138, 'hacker': 4139, 'insist': 4140, 'tackle': 4141, 'interior': 4142, 'collect': 4143, 'exempt': 4144, 'colour': 4145, 'administrative': 4146, 'register': 4147, 'jean': 4148, 'kurd': 4149, 'kurdish': 4150, 'turkish': 4151, 'raqqa': 4152, 'toward': 4153, 'river': 4154, 'laying': 4155, 'clash': 4156, 'allied': 4157, 'turk': 4158, 'religious': 4159, 'insurgency': 4160, 'intends': 4161, 'physically': 4162, 'unite': 4163, 'warned': 4164, 'northeast': 4165, 'feud': 4166, 'grow': 4167, 'confusing': 4168, 'somewhat': 4169, 'knocking': 4170, 'palace': 4171, 'wherever': 4172, 'gained': 4173, 'tracking': 4174, 'shrinking': 4175, 'libertarian': 4176, 'gary': 4177, 'survey': 4178, 'v': 4179, 'contest': 4180, 'leaning': 4181, 'boost': 4182, 'margin': 4183, 'consistent': 4184, 'meet': 4185, 'headquarters': 4186, 'september': 4187, 'switzerland': 4188, 'mediterranean': 4189, 'lake': 4190, 'geneva': 4191, 'envoy': 4192, 'cyprus': 4193, 'outstanding': 4194, 'phase': 4195, 'commitment': 4196, 'settlement': 4197, 'unify': 4198, 'greece': 4199, 'ankara': 4200, 'soldier': 4201, 'enjoys': 4202, 'halloween': 4203, 'witch': 4204, 'celebrate': 4205, 'st': 4206, 'dress': 4207, 'costume': 4208, 'sacrifice': 4209, 'animal': 4210, 'shelter': 4211, 'adoption': 4212, 'trick': 4213, 'jack': 4214, 'festival': 4215, 'retail': 4216, 'analytics': 4217, 'celebration': 4218, 'tremendous': 4219, 'lord': 4220, 'spirit': 4221, 'escape': 4222, 'sun': 4223, 'calendar': 4224, 'wheel': 4225, 'subsequently': 4226, 'pronounced': 4227, 'sam': 4228, 'temporarily': 4229, 'communicating': 4230, 'ancestor': 4231, 'aged': 4232, 'practitioner': 4233, 'lit': 4234, 'guide': 4235, 'protective': 4236, 'pulling': 4237, 'traveling': 4238, 'ghost': 4239, 'wore': 4240, 'straw': 4241, 'paragraph': 4242, 'evolved': 4243, 'fastest': 4244, 'conduct': 4245, 'ritual': 4246, 'wikipedia': 4247, 'sacred': 4248, 'physical': 4249, 'healing': 4250, 'describe': 4251, 'instance': 4252, 'hair': 4253, 'wisdom': 4254, 'angeles': 4255, 'nelson': 4256, 'ex': 4257, 'mormon': 4258, 'worship': 4259, 'barely': 4260, 'grace': 4261, 'jesus': 4262, 'christ': 4263, 'smile': 4264, 'brief': 4265, 'ranging': 4266, 'tribe': 4267, 'shake': 4268, 'examining': 4269, 'eve': 4270, 'bible': 4271, 'pastor': 4272, 'invite': 4273, 'neighbor': 4274, 'judgment': 4275, 'attendance': 4276, 'gospel': 4277, 'celebrating': 4278, 'warn': 4279, 'revolution': 4280, 'electorate': 4281, 'resounding': 4282, 'bay': 4283, 'capitol': 4284, 'belong': 4285, 'roger': 4286, 'riot': 4287, 'compromise': 4288, 'whatsoever': 4289, 'stronger': 4290, 'rough': 4291, 'driver': 4292, 'depending': 4293, 'lived': 4294, 'flame': 4295, 'nut': 4296, 'hero': 4297, 'timothy': 4298, 'loaded': 4299, 'oklahoma': 4300, 'featured': 4301, 'pb': 4302, 'atlanta': 4303, 'literature': 4304, 'info': 4305, 'cellphone': 4306, 'household': 4307, 'purely': 4308, 'metadata': 4309, 'incredibly': 4310, 'enabled': 4311, 'nsa': 4312, 'collecting': 4313, 'coordinate': 4314, 'unusual': 4315, 'communicate': 4316, 'leaf': 4317, 'revealing': 4318, 'snowden': 4319, 'employer': 4320, 'cyber': 4321, 'division': 4322, 'enacted': 4323, 'flee': 4324, 'transparency': 4325, 'census': 4326, 'perpetrator': 4327, 'slaughtered': 4328, 'collaboration': 4329, 'dedicated': 4330, 'interesting': 4331, 'childhood': 4332, 'spy': 4333, 'graduated': 4334, 'german': 4335, 'friendship': 4336, 'married': 4337, 'mary': 4338, 'goat': 4339, 'master': 4340, 'ussr': 4341, 'coach': 4342, 'devoted': 4343, 'practical': 4344, 'training': 4345, 'defeat': 4346, 'illuminati': 4347, 'afraid': 4348, 'notorious': 4349, 'prosperity': 4350, 'jacob': 4351, 'alive': 4352, 'oligarch': 4353, 'mafia': 4354, 'realm': 4355, 'lay': 4356, 'borrowed': 4357, 'garden': 4358, 'unemployed': 4359, 'punishment': 4360, 'hanging': 4361, 'tribal': 4362, 'depends': 4363, 'lung': 4364, 'resident': 4365, 'strip': 4366, 'license': 4367, 'exploit': 4368, 'neighboring': 4369, 'blocked': 4370, 'demanded': 4371, 'satisfy': 4372, 'extending': 4373, 'responded': 4374, 'santa': 4375, 'jungle': 4376, 'clearing': 4377, 'april': 4378, 'landing': 4379, 'acre': 4380, 'export': 4381, 'juan': 4382, 'authored': 4383, 'highlight': 4384, 'ethnicity': 4385, 'rural': 4386, 'subsequent': 4387, 'coffee': 4388, 'barred': 4389, 'permit': 4390, 'negotiate': 4391, 'implemented': 4392, 'governmental': 4393, 'displaced': 4394, 'negotiated': 4395, 'disappointed': 4396, 'proposed': 4397, 'purchasing': 4398, 'contaminated': 4399, 'precious': 4400, 'decrease': 4401, 'solar': 4402, 'marched': 4403, 'rob': 4404, 'blocking': 4405, 'arrive': 4406, 'z': 4407, 'listening': 4408, 'concede': 4409, 'passing': 4410, 'conceded': 4411, 'tower': 4412, 'idaho': 4413, 'nervous': 4414, 'watching': 4415, 'damn': 4416, 'chris': 4417, 'christie': 4418, 'jeb': 4419, 'spoke': 4420, 'thrilled': 4421, 'notify': 4422, 'proceed': 4423, 'solve': 4424, 'math': 4425, 'doom': 4426, 'twice': 4427, 'weld': 4428, 'counted': 4429, 'checked': 4430, 'teach': 4431, 'spanish': 4432, 'caller': 4433, 'attending': 4434, 'repeal': 4435, 'requirement': 4436, 'english': 4437, 'proposition': 4438, 'measure': 4439, 'immigrant': 4440, 'poised': 4441, 'reverse': 4442, 'competitive': 4443, 'returning': 4444, 'favorable': 4445, 'emphasize': 4446, 'thrust': 4447, 'easier': 4448, 'taught': 4449, 'truthfeed': 4450, 'amy': 4451, 'moreno': 4452, 'biased': 4453, 'smell': 4454, 'loretta': 4455, 'lynch': 4456, 'outsider': 4457, 'resistance': 4458, 'lover': 4459, 'throne': 4460, 'posed': 4461, 'gordon': 4462, 'bilateral': 4463, 'ballistic': 4464, 'patrol': 4465, 'beijing': 4466, 'rapidly': 4467, 'evolving': 4468, 'persistent': 4469, 'potentially': 4470, 'driving': 4471, 'incredible': 4472, 'fruit': 4473, 'shed': 4474, 'contains': 4475, 'compound': 4476, 'laboratory': 4477, 'tumor': 4478, 'derived': 4479, 'clean': 4480, 'forming': 4481, 'activation': 4482, 'immune': 4483, 'developed': 4484, 'ethical': 4485, 'clinical': 4486, 'chemotherapy': 4487, 'elderly': 4488, 'northeastern': 4489, 'wondering': 4490, 'greenhouse': 4491, 'spot': 4492, 'diagnosed': 4493, 'disappear': 4494, 'reacted': 4495, 'removal': 4496, 'surgery': 4497, 'radiation': 4498, 'dire': 4499, 'hack': 4500, 'fec': 4501, 'installed': 4502, 'vulnerability': 4503, 'mathematically': 4504, 'snyder': 4505, 'february': 4506, 'increasing': 4507, 'taxpayer': 4508, 'functioning': 4509, 'printing': 4510, 'bunch': 4511, 'belongs': 4512, 'whenever': 4513, 'owe': 4514, 'starting': 4515, 'deposit': 4516, 'checking': 4517, 'certificate': 4518, 'anymore': 4519, 'fraction': 4520, 'writes': 4521, 'basically': 4522, 'apply': 4523, 'dramatically': 4524, 'borrowing': 4525, 'restoring': 4526, 'constitution': 4527, 'fundamentally': 4528, 'complaining': 4529, 'technical': 4530, 'purchased': 4531, 'figured': 4532, 'assume': 4533, 'payment': 4534, 'gdp': 4535, 'hook': 4536, 'accounting': 4537, 'threaten': 4538, 'hitler': 4539, 'ridiculous': 4540, 'equity': 4541, 'inclusion': 4542, 'aftermath': 4543, 'contentious': 4544, 'faculty': 4545, 'responsive': 4546, 'gerald': 4547, 'campus': 4548, 'ward': 4549, 'ethnic': 4550, 'psychological': 4551, 'governed': 4552, 'preserving': 4553, 'enrich': 4554, 'welcoming': 4555, 'elect': 4556, 'lucky': 4557, 'fury': 4558, 'deport': 4559, 'prompting': 4560, 'fallout': 4561, 'widespread': 4562, 'emerging': 4563, 'deported': 4564, 'rip': 4565, 'parking': 4566, 'deportation': 4567, 'mexican': 4568, 'minimum': 4569, 'rapist': 4570, 'dry': 4571, 'cheating': 4572, 'weigh': 4573, 'transgender': 4574, 'g': 4575, 'plain': 4576, 'petition': 4577, 'birth': 4578, 'ruled': 4579, 'relying': 4580, 'shower': 4581, 'comparable': 4582, 'appeal': 4583, 'circuit': 4584, 'reversed': 4585, 'relied': 4586, 'denying': 4587, 'dignity': 4588, 'lgbt': 4589, 'attacking': 4590, 'behaviour': 4591, 'declining': 4592, 'beneath': 4593, 'cake': 4594, 'fray': 4595, 'blunt': 4596, 'texas': 4597, 'commissioner': 4598, 'exposing': 4599, 'proud': 4600, 'namely': 4601, 'texan': 4602, 'drove': 4603, 'surge': 4604, 'hardest': 4605, 'painting': 4606, 'employed': 4607, 'stirred': 4608, 'hate': 4609, 'counterpart': 4610, 'enact': 4611, 'serial': 4612, 'doe': 4613, 'jane': 4614, 'attend': 4615, 'perform': 4616, 'oral': 4617, 'maria': 4618, 'encounter': 4619, 'witnessed': 4620, 'defendant': 4621, 'plaintiff': 4622, 'ken': 4623, 'fun': 4624, 'testified': 4625, 'registration': 4626, 'recruit': 4627, 'instructed': 4628, 'paint': 4629, 'grows': 4630, 'disparity': 4631, 'keith': 4632, 'pattern': 4633, 'nationwide': 4634, 'statewide': 4635, 'hill': 4636, 'median': 4637, 'nationally': 4638, 'older': 4639, 'advancing': 4640, 'economically': 4641, 'obtaining': 4642, 'equality': 4643, 'uninsured': 4644, 'medicaid': 4645, 'unnecessary': 4646, 'charlotte': 4647, 'backlash': 4648, 'brutality': 4649, 'factor': 4650, 'consequential': 4651, 'unfair': 4652, 'outlined': 4653, 'bragging': 4654, 'suppression': 4655, 'pac': 4656, 'admitting': 4657, 'targeting': 4658, 'cleveland': 4659, 'heat': 4660, 'frankly': 4661, 'suburban': 4662, 'stuff': 4663, 'operative': 4664, 'busted': 4665, 'undercover': 4666, 'dare': 4667, 'exercising': 4668, 'closing': 4669, 'waving': 4670, 'punish': 4671, 'juror': 4672, 'seizing': 4673, 'wildlife': 4674, 'formerly': 4675, 'deliberation': 4676, 'ammon': 4677, 'bundy': 4678, 'motion': 4679, 'dismiss': 4680, 'remark': 4681, 'marcus': 4682, 'mumford': 4683, 'questioning': 4684, 'interviewed': 4685, 'determining': 4686, 'opposed': 4687, 'additional': 4688, 'sarah': 4689, 'posse': 4690, 'dropping': 4691, 'electing': 4692, 'troubling': 4693, 'kremlin': 4694, 'gentleman': 4695, 'dear': 4696, 'violate': 4697, 'releasing': 4698, 'critical': 4699, 'rushed': 4700, 'explicit': 4701, 'guidance': 4702, 'examined': 4703, 'prohibited': 4704, 'directed': 4705, 'nomination': 4706, 'delayed': 4707, 'principled': 4708, 'servant': 4709, 'deepest': 4710, 'stick': 4711, 'panic': 4712, 'guess': 4713, 'tired': 4714, 'webb': 4715, 'agreeing': 4716, 'cheryl': 4717, 'immunity': 4718, 'kingdom': 4719, 'swipe': 4720, 'wonderful': 4721, 'maryland': 4722, 'switched': 4723, 'noting': 4724, 'concluded': 4725, 'complaint': 4726, 'properly': 4727, 'stormed': 4728, 'parker': 4729, 'pinterest': 4730, 'pocket': 4731, 'unhappy': 4732, 'attended': 4733, 'mob': 4734, 'amendment': 4735, 'fanatic': 4736, 'yelled': 4737, 'courage': 4738, 'assassination': 4739, 'roosevelt': 4740, 'bullet': 4741, 'chest': 4742, 'tweet': 4743, 'gray': 4744, 'precisely': 4745, 'carrying': 4746, 'scary': 4747, 'follower': 4748, 'urged': 4749, 'educated': 4750, 'initiative': 4751, 'sheriff': 4752, 'economist': 4753, 'setback': 4754, 'honored': 4755, 'boast': 4756, 'improvement': 4757, 'incentive': 4758, 'breakthrough': 4759, 'mobilize': 4760, 'pension': 4761, 'earnings': 4762, 'rely': 4763, 'processing': 4764, 'forefront': 4765, 'colin': 4766, 'oppression': 4767, 'ca': 4768, 'earning': 4769, 'burning': 4770, 'anthem': 4771, 'san': 4772, 'francisco': 4773, 'er': 4774, 'educate': 4775, 'hosted': 4776, 'latino': 4777, 'attendee': 4778, 'policing': 4779, 'skill': 4780, 'distrust': 4781, 'stunt': 4782, 'courageous': 4783, 'exciting': 4784, 'homeless': 4785, 'kit': 4786, 'trace': 4787, 'athlete': 4788, 'appearance': 4789, 'breakout': 4790, 'carefully': 4791, 'denial': 4792, 'handle': 4793, 'trailer': 4794, 'park': 4795, 'trash': 4796, 'hater': 4797, 'scare': 4798, 'exploded': 4799, 'anyway': 4800, 'tape': 4801, 'comeback': 4802, 'watergate': 4803, 'defender': 4804, 'ignored': 4805, 'flower': 4806, 'promotion': 4807, 'urging': 4808, 'trooper': 4809, 'readiness': 4810, 'rejected': 4811, 'verbal': 4812, 'sunk': 4813, 'guilt': 4814, 'essay': 4815, 'manufacturing': 4816, 'pot': 4817, 'finish': 4818, 'invitation': 4819, 'solid': 4820, 'sandoval': 4821, 'ease': 4822, 'barbara': 4823, 'austin': 4824, 'paycheck': 4825, 'earn': 4826, 'hunt': 4827, 'md': 4828, 'oppose': 4829, 'alcohol': 4830, 'carter': 4831, 'disastrous': 4832, 'hostage': 4833, 'unknown': 4834, 'proceeded': 4835, 'marijuana': 4836, 'herb': 4837, 'tom': 4838, 'contempt': 4839, 'jake': 4840, 'physician': 4841, 'maine': 4842, 'mental': 4843, 'heel': 4844, 'closest': 4845, 'suggesting': 4846, 'intimate': 4847, 'explicitly': 4848, 'stored': 4849, 'disgraced': 4850, 'plane': 4851, 'beck': 4852, 'timeline': 4853, 'trove': 4854, 'tpp': 4855, 'ttip': 4856, 'trans': 4857, 'protested': 4858, 'dent': 4859, 'muscle': 4860, 'voiced': 4861, 'workforce': 4862, 'suffered': 4863, 'bloomberg': 4864, 'pause': 4865, 'eliminated': 4866, 'angela': 4867, 'merkel': 4868, 'secrecy': 4869, 'transparent': 4870, 'jump': 4871, 'restricted': 4872, 'quake': 4873, 'substantial': 4874, 'magnitude': 4875, 'earthquake': 4876, 'shattered': 4877, 'pile': 4878, 'debris': 4879, 'evening': 4880, 'downtown': 4881, 'shutdown': 4882, 'gawker': 4883, 'evacuated': 4884, 'steve': 4885, 'highway': 4886, 'bridge': 4887, 'shaking': 4888, 'loud': 4889, 'awful': 4890, 'tank': 4891, 'gov': 4892, 'tweeted': 4893, 'gillespie': 4894, 'mcdonald': 4895, 'stood': 4896, 'shook': 4897, 'alarmed': 4898, 'operator': 4899, 'sept': 4900, 'afterward': 4901, 'sway': 4902, 'clown': 4903, 'helicopter': 4904, 'mccarthy': 4905, 'noise': 4906, 'bed': 4907, 'challenging': 4908, 'pose': 4909, 'performing': 4910, 'meaningful': 4911, 'defect': 4912, 'hunting': 4913, 'cattle': 4914, 'laugh': 4915, 'entertaining': 4916, 'unpredictable': 4917, 'colleague': 4918, 'relationship': 4919, 'imperative': 4920, 'defeated': 4921, 'punished': 4922, 'brotherhood': 4923, 'touted': 4924, 'egypt': 4925, 'sparking': 4926, 'brokered': 4927, 'ceasefire': 4928, 'hamas': 4929, 'jordan': 4930, 'warhead': 4931, 'battleship': 4932, 'disaster': 4933, 'predicting': 4934, 'tight': 4935, 'pollster': 4936, 'reasonably': 4937, 'viewed': 4938, 'indicator': 4939, 'momentum': 4940, 'offense': 4941, 'fresh': 4942, 'vacuum': 4943, 'sum': 4944, 'upside': 4945, 'interfere': 4946, 'vt': 4947, 'em': 4948, 'volunteer': 4949, 'brennan': 4950, 'bitter': 4951, 'naval': 4952, 'admiral': 4953, 'historian': 4954, 'accident': 4955, 'implementing': 4956, 'imperial': 4957, 'navy': 4958, 'underway': 4959, 'lacked': 4960, 'aimed': 4961, 'formed': 4962, 'outbreak': 4963, 'matched': 4964, 'christopher': 4965, 'spotted': 4966, 'reinforce': 4967, 'harbor': 4968, 'runner': 4969, 'roman': 4970, 'vi': 4971, 'invaded': 4972, 'belgium': 4973, 'betrayed': 4974, 'pound': 4975, 'jerry': 4976, 'flow': 4977, 'submarine': 4978, 'battery': 4979, 'limitation': 4980, 'dishonest': 4981, 'sub': 4982, 'artificial': 4983, 'excellent': 4984, 'prop': 4985, 'armored': 4986, 'weakness': 4987, 'fatal': 4988, 'warship': 4989, 'sister': 4990, 'aircraft': 4991, 'italian': 4992, 'carrier': 4993, 'designated': 4994, 'veteran': 4995, 'ohio': 4996, 'custom': 4997, 'shipment': 4998, 'labeling': 4999, 'environmental': 5000, 'pollution': 5001, 'metal': 5002, 'ill': 5003, 'vegetable': 5004, 'yellow': 5005, 'producing': 5006, 'academy': 5007, 'farming': 5008, 'fish': 5009, 'chicken': 5010, 'flu': 5011, 'rice': 5012, 'processed': 5013, 'dinner': 5014, 'pepper': 5015, 'vendor': 5016, 'phony': 5017, 'questionable': 5018, 'indonesia': 5019, 'stark': 5020, 'strain': 5021, 'wsj': 5022, 'blasphemy': 5023, 'calm': 5024, 'prominent': 5025, 'elevated': 5026, 'liner': 5027, 'angered': 5028, 'apologized': 5029, 'cooperate': 5030, 'steam': 5031, 'conservatism': 5032, 'nonviolent': 5033, 'macy': 5034, 'radar': 5035, 'kuwait': 5036, 'assist': 5037, 'martha': 5038, 'grim': 5039, 'torn': 5040, 'repair': 5041, 'foe': 5042, 'pleaded': 5043, 'lawful': 5044, 'successfully': 5045, 'ukraine': 5046, 'stable': 5047, 'alarming': 5048, 'enters': 5049, 'preferable': 5050, 'automatically': 5051, 'spam': 5052, 'refer': 5053, 'mistakenly': 5054, 'italic': 5055, 'emphasized': 5056, 'quoting': 5057, 'span': 5058, 'appropriately': 5059, 'separated': 5060, 'preview': 5061, 'drinking': 5062, 'advocate': 5063, 'boycott': 5064, 'mate': 5065, 'joining': 5066, 'crook': 5067, 'knock': 5068, 'length': 5069, 'mount': 5070, 'throw': 5071, 'drink': 5072, 'wine': 5073, 'marching': 5074, 'embassy': 5075, 'telephone': 5076, 'scroll': 5077, 'ecuador': 5078, 'sympathetic': 5079, 'affected': 5080, 'definition': 5081, 'faster': 5082, 'convincing': 5083, 'thesis': 5084, 'polarization': 5085, 'hart': 5086, 'dakota': 5087, 'carol': 5088, 'surrounded': 5089, 'demonstrator': 5090, 'controversial': 5091, 'spray': 5092, 'demonstrating': 5093, 'occupied': 5094, 'sioux': 5095, 'reservation': 5096, 'drawing': 5097, 'reconsider': 5098, 'dapl': 5099, 'reprinted': 5100, 'presenting': 5101, 'void': 5102, 'intercept': 5103, 'prayer': 5104, 'van': 5105, 'approached': 5106, 'dragged': 5107, 'slammed': 5108, 'pregnant': 5109, 'advertisement': 5110, 'jailed': 5111, 'searched': 5112, 'committing': 5113, 'criticism': 5114, 'advocating': 5115, 'rubble': 5116, 'measured': 5117, 'km': 5118, 'fled': 5119, 'columnist': 5120, 'margaret': 5121, 'repeating': 5122, 'bragged': 5123, 'urgent': 5124, 'engaging': 5125, 'injustice': 5126, 'ferguson': 5127, 'palestine': 5128, 'neoliberal': 5129, 'onslaught': 5130, 'flint': 5131, 'moore': 5132, 'convert': 5133, 'lock': 5134, 'killer': 5135, 'angel': 5136, 'thread': 5137, 'rush': 5138, 'anniversary': 5139, 'resulted': 5140, 'accountability': 5141, 'financially': 5142, 'skeptical': 5143, 'winger': 5144, 'earnest': 5145, 'douglas': 5146, 'advice': 5147, 'rationale': 5148, 'recipient': 5149, 'acceptance': 5150, 'advanced': 5151, 'forgive': 5152, 'sounding': 5153, 'intend': 5154, 'bell': 5155, 'amnesty': 5156, 'pen': 5157, 'instagram': 5158, 'matt': 5159, 'lucas': 5160, 'posing': 5161, 'jay': 5162, 'riding': 5163, 'ufo': 5164, 'valley': 5165, 'iii': 5166, 'consume': 5167, 'crush': 5168, 'declares': 5169, 'mali': 5170, 'contradiction': 5171, 'resort': 5172, 'foolish': 5173, 'approve': 5174, 'settle': 5175, 'boot': 5176, 'cluster': 5177, 'random': 5178, 'atomic': 5179, 'rocket': 5180, 'zionist': 5181, 'missed': 5182, 'triumph': 5183, 'intervene': 5184, 'pissed': 5185, 'interrupted': 5186, 'successor': 5187, 'noticed': 5188, 'campaigning': 5189, 'salary': 5190, 'spends': 5191, 'insulting': 5192, 'kwn': 5193, 'looked': 5194, 'doug': 5195, 'sprott': 5196, 'ounce': 5197, 'accelerated': 5198, 'score': 5199, 'fixed': 5200, 'miner': 5201, 'hawkish': 5202, 'hike': 5203, 'extension': 5204, 'q': 5205, 'bonus': 5206, 'incorrect': 5207, 'accomplished': 5208, 'fascinating': 5209, 'remarkable': 5210, 'reserved': 5211, 'linking': 5212, 'gate': 5213, 'morocco': 5214, 'spain': 5215, 'bare': 5216, 'naked': 5217, 'gmail': 5218, 'invention': 5219, 'patent': 5220, 'justification': 5221, 'scholar': 5222, 'phenomenon': 5223, 'legally': 5224, 'entrepreneur': 5225, 'commonly': 5226, 'examiner': 5227, 'applicant': 5228, 'compelled': 5229, 'surfaced': 5230, 'ross': 5231, 'frequency': 5232, 'unaware': 5233, 'restrict': 5234, 'publication': 5235, 'harmful': 5236, 'ironic': 5237, 'steven': 5238, 'indicates': 5239, 'efficient': 5240, 'conversion': 5241, 'likewise': 5242, 'none': 5243, 'existing': 5244, 'remained': 5245, 'dana': 5246, 'priest': 5247, 'lasted': 5248, 'evidently': 5249, 'eisenhower': 5250, 'persist': 5251, 'combination': 5252, 'domain': 5253, 'suing': 5254, 'marc': 5255, 'counsel': 5256, 'desired': 5257, 'precise': 5258, 'reminder': 5259, 'awaiting': 5260, 'shall': 5261, 'payroll': 5262, 'employment': 5263, 'coupled': 5264, 'privilege': 5265, 'compensation': 5266, 'departure': 5267, 'contributing': 5268, 'independently': 5269, 'wealthy': 5270, 'illegals': 5271, 'genuinely': 5272, 'slur': 5273, 'unemployment': 5274, 'housing': 5275, 'workplace': 5276, 'permanent': 5277, 'combined': 5278, 'citizenry': 5279, 'swedish': 5280, 'exception': 5281, 'avoided': 5282, 'hardly': 5283, 'murdered': 5284, 'caring': 5285, 'elder': 5286, 'partial': 5287, 'abortion': 5288, 'causing': 5289, 'occupy': 5290, 'acceptable': 5291, 'remarkably': 5292, 'prediction': 5293, 'striking': 5294, 'sniper': 5295, 'sabotage': 5296, 'unrest': 5297, 'cent': 5298, 'sworn': 5299, 'existent': 5300, 'irs': 5301, 'grant': 5302, 'stolen': 5303, 'additionally': 5304, 'temperature': 5305, 'pace': 5306, 'flickr': 5307, 'undermining': 5308, 'nick': 5309, 'shrink': 5310, 'lacking': 5311, 'considerably': 5312, 'warming': 5313, 'upheaval': 5314, 'incumbent': 5315, 'correspondent': 5316, 'architect': 5317, 'brutally': 5318, 'slaughter': 5319, 'sparked': 5320, 'collar': 5321, 'grievance': 5322, 'consuming': 5323, 'temple': 5324, 'regularly': 5325, 'cage': 5326, 'burned': 5327, 'graphic': 5328, 'pit': 5329, 'baseball': 5330, 'kevin': 5331, 'biden': 5332, 'dominating': 5333, 'nationalism': 5334, 'correctness': 5335, 'lobby': 5336, 'smarter': 5337, 'semitic': 5338, 'jewish': 5339, 'jew': 5340, 'polite': 5341, 'seal': 5342, 'citizenship': 5343, 'throwing': 5344, 'monkey': 5345, 'nevertrump': 5346, 'appointment': 5347, 'gut': 5348, 'treason': 5349, 'highlighted': 5350, 'chamber': 5351, 'commerce': 5352, 'populist': 5353, 'unified': 5354, 'neoconservative': 5355, 'bigot': 5356, 'loser': 5357, 'commented': 5358, 'hated': 5359, 'tube': 5360, 'bright': 5361, 'navigate': 5362, 'mosul': 5363, 'accordance': 5364, 'fleeing': 5365, 'meantime': 5366, 'mankind': 5367, 'damascus': 5368, 'credibility': 5369, 'smear': 5370, 'battling': 5371, 'elaborate': 5372, 'lewis': 5373, 'cancel': 5374, 'quietly': 5375, 'scheduled': 5376, 'deleted': 5377, 'epic': 5378, 'mocking': 5379, 'realdonaldtrump': 5380, 'rolling': 5381, 'tampering': 5382, 'notion': 5383, 'answering': 5384, 'tendency': 5385, 'insurer': 5386, 'stephanie': 5387, 'depression': 5388, 'complication': 5389, 'barrier': 5390, 'manage': 5391, 'experiencing': 5392, 'equivalent': 5393, 'reflect': 5394, 'absence': 5395, 'maker': 5396, 'economics': 5397, 'finance': 5398, 'reasonable': 5399, 'misdemeanor': 5400, 'ramp': 5401, 'upward': 5402, 'strongest': 5403, 'ultra': 5404, 'klan': 5405, 'holder': 5406, 'yellen': 5407, 'substantive': 5408, 'unlimited': 5409, 'payer': 5410, 'torch': 5411, 'pressed': 5412, 'stomach': 5413, 'kenneth': 5414, 'waited': 5415, 'oscar': 5416, 'singer': 5417, 'filmmaker': 5418, 'entertainment': 5419, 'allen': 5420, 'mitchell': 5421, 'library': 5422, 'anchor': 5423, 'toy': 5424, 'marketing': 5425, 'startup': 5426, 'awarded': 5427, 'evan': 5428, 'huffington': 5429, 'financing': 5430, 'clearance': 5431, 'graduate': 5432, 'governing': 5433, 'tragic': 5434, 'unfortunate': 5435, 'spoken': 5436, 'devil': 5437, 'pursuit': 5438, 'carbon': 5439, 'emission': 5440, 'spur': 5441, 'renewal': 5442, 'pending': 5443, 'nancy': 5444, 'pathway': 5445, 'pant': 5446, 'viral': 5447, 'fundraiser': 5448, 'lisa': 5449, 'charleston': 5450, 'inability': 5451, 'viewing': 5452, 'syndrome': 5453, 'disorder': 5454, 'cognitive': 5455, 'trauma': 5456, 'upper': 5457, 'painted': 5458, 'improved': 5459, 'detect': 5460, 'detected': 5461, 'electrical': 5462, 'restore': 5463, 'banana': 5464, 'nowhere': 5465, 'chapter': 5466, 'houston': 5467, 'mysterious': 5468, 'acquired': 5469, 'utterly': 5470, 'undermine': 5471, 'skepticism': 5472, 'fabric': 5473, 'wallace': 5474, 'verified': 5475, 'accurately': 5476, 'verify': 5477, 'sean': 5478, 'hannity': 5479, 'switching': 5480, 'shoulder': 5481, 'harris': 5482, 'entitled': 5483, 'invited': 5484, 'stanford': 5485, 'burden': 5486, 'cabal': 5487, 'brien': 5488, 'activism': 5489, 'appearing': 5490, 'gasoline': 5491, 'wreckage': 5492, 'recover': 5493, 'manages': 5494, 'locked': 5495, 'endorsement': 5496, 'ugly': 5497, 'utter': 5498, 'magnesium': 5499, 'calcium': 5500, 'diabetes': 5501, 'diagnosis': 5502, 'deficiency': 5503, 'hormone': 5504, 'traumatic': 5505, 'stressed': 5506, 'dean': 5507, 'symptom': 5508, 'tissue': 5509, 'inbox': 5510, 'ineffective': 5511, 'technique': 5512, 'contraceptive': 5513, 'nutrient': 5514, 'consumed': 5515, 'drag': 5516, 'plastic': 5517, 'cannabis': 5518, 'cleansing': 5519, 'consistently': 5520, 'varying': 5521, 'clicking': 5522, 'survivor': 5523, 'hopefully': 5524, 'endeavor': 5525, 'bret': 5526, 'baier': 5527, 'highlighting': 5528, 'barring': 5529, 'obstruction': 5530, 'beast': 5531, 'emerge': 5532, 'warmonger': 5533, 'hammer': 5534, 'appointee': 5535, 'peter': 5536, 'kadzik': 5537, 'thwart': 5538, 'divide': 5539, 'rank': 5540, 'interpreted': 5541, 'debated': 5542, 'subpoena': 5543, 'voluntary': 5544, 'litigation': 5545, 'formally': 5546, 'blown': 5547, 'authorization': 5548, 'overt': 5549, 'disagreement': 5550, 'confronted': 5551, 'willingness': 5552, 'rightly': 5553, 'perception': 5554, 'permanently': 5555, 'donated': 5556, 'deed': 5557, 'advocacy': 5558, 'implying': 5559, 'exploited': 5560, 'flood': 5561, 'finished': 5562, 'contra': 5563, 'beltway': 5564, 'ripped': 5565, 'portfolio': 5566, 'lee': 5567, 'thinker': 5568, 'dated': 5569, 'sullivan': 5570, 'columbia': 5571, 'sentencing': 5572, 'impressive': 5573, 'somehow': 5574, 'automatic': 5575, 'deutsche': 5576, 'lean': 5577, 'manipulation': 5578, 'heightened': 5579, 'troll': 5580, 'blatant': 5581, 'brooklyn': 5582, 'neutral': 5583, 'philadelphia': 5584, 'whopping': 5585, 'insurgent': 5586, 'solidly': 5587, 'booth': 5588, 'defence': 5589, 'ambitious': 5590, 'forty': 5591, 'pipe': 5592, 'phoenix': 5593, 'output': 5594, 'adversary': 5595, 'embarrassing': 5596, 'briefly': 5597, 'contributor': 5598, 'imf': 5599, 'aiding': 5600, 'relating': 5601, 'leap': 5602, 'filter': 5603, 'basket': 5604, 'kicked': 5605, 'hot': 5606, 'blumenthal': 5607, 'ear': 5608, 'scrap': 5609, 'luck': 5610, 'applied': 5611, 'positioned': 5612, 'qualified': 5613, 'pursued': 5614, 'ray': 5615, 'southeast': 5616, 'disclosed': 5617, 'batch': 5618, 'advising': 5619, 'disappointment': 5620, 'glad': 5621, 'upheld': 5622, 'hint': 5623, 'explaining': 5624, 'reluctant': 5625, 'grab': 5626, 'craig': 5627, 'presstitutes': 5628, 'funny': 5629, 'duke': 5630, 'fascist': 5631, 'handful': 5632, 'goodman': 5633, 'ben': 5634, 'decency': 5635, 'nightmare': 5636, 'painful': 5637, 'inflicted': 5638, 'prefers': 5639, 'imposing': 5640, 'hysteria': 5641, 'ceta': 5642, 'multinational': 5643, 'geopolitical': 5644, 'axis': 5645, 'installation': 5646, 'baltic': 5647, 'hence': 5648, 'migration': 5649, 'chant': 5650, 'suburb': 5651, 'complain': 5652, 'sufficiently': 5653, 'equipped': 5654, 'waking': 5655, 'funeral': 5656, 'hollande': 5657, 'impose': 5658, 'dissident': 5659, 'denounced': 5660, 'defended': 5661, 'imminent': 5662, 'terror': 5663, 'benjamin': 5664, 'netanyahu': 5665, 'forgiveness': 5666, 'manipulated': 5667, 'ireland': 5668, 'extended': 5669, 'legitimacy': 5670, 'risen': 5671, 'fallen': 5672, 'abraham': 5673, 'loudly': 5674, 'believer': 5675, 'nyt': 5676, 'grip': 5677, 'characterized': 5678, 'tweeting': 5679, 'snl': 5680, 'unfit': 5681, 'spotlight': 5682, 'drew': 5683, 'pulled': 5684, 'distance': 5685, 'accordingly': 5686, 'abandoned': 5687, 'positioning': 5688, 'electric': 5689, 'secretly': 5690, 'covering': 5691, 'vietnam': 5692, 'vietnamese': 5693, 'attached': 5694, 'submission': 5695, 'plunged': 5696, 'cruise': 5697, 'fired': 5698, 'brutal': 5699, 'defined': 5700, 'nuanced': 5701, 'ideologically': 5702, 'sustained': 5703, 'aided': 5704, 'trained': 5705, 'kissinger': 5706, 'decent': 5707, 'trickle': 5708, 'spreading': 5709, 'murphy': 5710, 'quarter': 5711, 'crowded': 5712, 'aggressively': 5713, 'interventionist': 5714, 'whoever': 5715, 'predecessor': 5716, 'houthis': 5717, 'wanting': 5718, 'sovereign': 5719, 'cooperating': 5720, 'hegemony': 5721, 'mp': 5722, 'imperialist': 5723, 'frustration': 5724, 'raging': 5725, 'teenager': 5726, 'financed': 5727, 'stir': 5728, 'karl': 5729, 'oppressed': 5730, 'nonsense': 5731, 'fade': 5732, 'wedding': 5733, 'homosexual': 5734, 'bullshit': 5735, 'opposing': 5736, 'totalitarian': 5737, 'silly': 5738, 'grassroots': 5739, 'constantly': 5740, 'knight': 5741, 'boston': 5742, 'hat': 5743, 'snip': 5744, 'drought': 5745, 'arguably': 5746, 'peak': 5747, 'hey': 5748, 'popularity': 5749, 'ok': 5750, 'nyc': 5751, 'lengthy': 5752, 'blew': 5753, 'frightening': 5754, 'shoot': 5755, 'enforced': 5756, 'caliber': 5757, 'pistol': 5758, 'chelsea': 5759, 'enforce': 5760, 'reviewing': 5761, 'manhattan': 5762, 'drilling': 5763, 'uprising': 5764, 'imprisoned': 5765, 'ammunition': 5766, 'overseas': 5767, 'weaponry': 5768, 'vehicle': 5769, 'inevitable': 5770, 'prisoner': 5771, 'lethal': 5772, 'blueprint': 5773, 'involves': 5774, 'biological': 5775, 'refers': 5776, 'upholding': 5777, 'distributed': 5778, 'intelligent': 5779, 'broadcasting': 5780, 'eligibility': 5781, 'marxist': 5782, 'potus': 5783, 'presumed': 5784, 'dhs': 5785, 'trajectory': 5786, 'mainly': 5787, 'stretch': 5788, 'illegally': 5789, 'propose': 5790, 'sermon': 5791, 'wnd': 5792, 'midwest': 5793, 'photographer': 5794, 'walsh': 5795, 'georgia': 5796, 'investigated': 5797, 'charging': 5798, 'discrimination': 5799, 'seventh': 5800, 'lesbian': 5801, 'limbaugh': 5802, 'withdrew': 5803, 'sweeping': 5804, 'luther': 5805, 'discriminate': 5806, 'clearer': 5807, 'joked': 5808, 'captured': 5809, 'hung': 5810, 'thc': 5811, 'valid': 5812, 'relief': 5813, 'ing': 5814, 'trending': 5815, 'yves': 5816, 'publisher': 5817, 'wolf': 5818, 'reform': 5819, 'decree': 5820, 'collected': 5821, 'facial': 5822, 'nicholas': 5823, 'ga': 5824, 'establishing': 5825, 'extensive': 5826, 'rolled': 5827, 'visa': 5828, 'external': 5829, 'hungry': 5830, 'schedule': 5831, 'eurozone': 5832, 'consumption': 5833, 'mississippi': 5834, 'ellison': 5835, 'respondent': 5836, 'steadily': 5837, 'occasional': 5838, 'adjustment': 5839, 'wider': 5840, 'answered': 5841, 'agrees': 5842, 'inflation': 5843, 'problematic': 5844, 'partly': 5845, 'calif': 5846, 'wildly': 5847, 'violates': 5848, 'plausible': 5849, 'compelling': 5850, 'affecting': 5851, 'historically': 5852, 'minnesota': 5853, 'ethic': 5854, 'merit': 5855, 'pursuing': 5856, 'provision': 5857, 'deadline': 5858, 'injured': 5859, 'anytime': 5860, 'disruption': 5861, 'protestors': 5862, 'manipulate': 5863, 'martial': 5864, 'sponsor': 5865, 'acted': 5866, 'escalating': 5867, 'siege': 5868, 'moveon': 5869, 'dictate': 5870, 'evident': 5871, 'portray': 5872, 'echo': 5873, 'rockefeller': 5874, 'rent': 5875, 'thug': 5876, 'banning': 5877, 'inc': 5878, 'revenge': 5879, 'justin': 5880, 'separately': 5881, 'chancellor': 5882, 'teneo': 5883, 'leverage': 5884, 'charity': 5885, 'donating': 5886, 'hotel': 5887, 'tapped': 5888, 'thanked': 5889, 'golf': 5890, 'colombian': 5891, 'championed': 5892, 'revolutionary': 5893, 'glyphosate': 5894, 'floor': 5895, 'cocaine': 5896, 'disappeared': 5897, 'resistant': 5898, 'havana': 5899, 'faction': 5900, 'boss': 5901, 'concession': 5902, 'appealed': 5903, 'trapped': 5904, 'venture': 5905, 'janet': 5906, 'reno': 5907, 'npr': 5908, 'accomplishment': 5909, 'cabinet': 5910, 'waco': 5911, 'authorized': 5912, 'walter': 5913, 'eli': 5914, 'uncle': 5915, 'barry': 5916, 'tall': 5917, 'testify': 5918, 'legislature': 5919, 'solving': 5920, 'dubbed': 5921, 'inclined': 5922, 'aka': 5923, 'steel': 5924, 'gubernatorial': 5925, 'fla': 5926, 'decisive': 5927, 'enduring': 5928, 'solicitor': 5929, 'frequent': 5930, 'separation': 5931, 'evaluation': 5932, 'replied': 5933, 'comedian': 5934, 'glory': 5935, 'onion': 5936, 'react': 5937, 'clue': 5938, 'apology': 5939, 'ku': 5940, 'klux': 5941, 'supremacist': 5942, 'observation': 5943, 'description': 5944, 'contention': 5945, 'notable': 5946, 'clarity': 5947, 'straightforward': 5948, 'elementary': 5949, 'faithful': 5950, 'rd': 5951, 'dna': 5952, 'samuel': 5953, 'demonstrate': 5954, 'fifty': 5955, 'england': 5956, 'nickname': 5957, 'temperament': 5958, 'ideologue': 5959, 'implementation': 5960, 'takeaway': 5961, 'illustrates': 5962, 'accommodation': 5963, 'avoiding': 5964, 'clothing': 5965, 'escalate': 5966, 'greg': 5967, 'dominate': 5968, 'poured': 5969, 'criterion': 5970, 'manning': 5971, 'prevents': 5972, 'advertiser': 5973, 'glenn': 5974, 'tolerate': 5975, 'inaccurate': 5976, 'endured': 5977, 'systematic': 5978, 'msnbc': 5979, 'consideration': 5980, 'blogger': 5981, 'racially': 5982, 'kirk': 5983, 'challenger': 5984, 'tammy': 5985, 'duckworth': 5986, 'vet': 5987, 'descent': 5988, 'franklin': 5989, 'bow': 5990, 'detailing': 5991, 'tier': 5992, 'amongst': 5993, 'relentlessly': 5994, 'productive': 5995, 'restored': 5996, 'restoration': 5997, 'realization': 5998, 'glimpse': 5999, 'fairly': 6000, 'heated': 6001, 'peddling': 6002, 'disagreed': 6003, 'mccabe': 6004, 'mcauliffe': 6005, 'participant': 6006, 'formal': 6007, 'aug': 6008, 'reiterated': 6009, 'shopping': 6010, 'reopened': 6011, 'constructive': 6012, 'hyper': 6013, 'pardon': 6014, 'aired': 6015, 'testament': 6016, 'ivanka': 6017, 'proving': 6018, 'script': 6019, 'tomb': 6020, 'cbn': 6021, 'geographic': 6022, 'residence': 6023, 'profoundly': 6024, 'examination': 6025, 'engineer': 6026, 'backer': 6027, 'abdullah': 6028, 'monument': 6029, 'ft': 6030, 'lawrence': 6031, 'knee': 6032, 'michelle': 6033, 'idiot': 6034, 'ann': 6035, 'crushed': 6036, 'liked': 6037, 'tap': 6038, 'flip': 6039, 'sec': 6040, 'murray': 6041, 'kuznetsov': 6042, 'autonomous': 6043, 'shore': 6044, 'harsh': 6045, 'dutch': 6046, 'hillaryclinton': 6047, 'emily': 6048, 'hunter': 6049, 'philippine': 6050, 'obesity': 6051, 'corn': 6052, 'horrific': 6053, 'thomas': 6054, 'endorsed': 6055, 'explosion': 6056, 'firefighter': 6057, 'enrollment': 6058, 'selection': 6059, 'as': 6060, 'bullying': 6061, 'burst': 6062, 'attribution': 6063, 'odds': 6064, 'contend': 6065, 'prejudice': 6066, 'resentment': 6067, 'authoritarian': 6068, 'isolationist': 6069, 'proxy': 6070, 'understands': 6071, 'shortage': 6072, 'reopen': 6073, 'meddling': 6074, 'virtue': 6075, 'modest': 6076, 'chairwoman': 6077, 'debbie': 6078, 'wasserman': 6079, 'schultz': 6080, 'partisanship': 6081, 'airspace': 6082, 'advocated': 6083, 'tehran': 6084, 'trusted': 6085, 'garner': 6086, 'eligible': 6087, 'fueling': 6088, 'malaysia': 6089, 'withdrawal': 6090, 'dysfunctional': 6091, 'wrongly': 6092, 'readily': 6093, 'apparatus': 6094, 'suppress': 6095, 'fearful': 6096, 'ramification': 6097, 'flaw': 6098, 'lasting': 6099, 'logical': 6100, 'promising': 6101, 'loving': 6102, 'profitable': 6103, 'coward': 6104, 'wash': 6105, 'op': 6106, 'heaven': 6107, 'frontrunner': 6108, 'invented': 6109, 'cigarette': 6110, 'parade': 6111, 'ruth': 6112, 'invisible': 6113, 'beheading': 6114, 'essence': 6115, 'powell': 6116, 'punishing': 6117, 'surrender': 6118, 'bombed': 6119, 'dirt': 6120, 'cheered': 6121, 'intimidation': 6122, 'victoria': 6123, 'nuland': 6124, 'circulating': 6125, 'transferred': 6126, 'chase': 6127, 'mansion': 6128, 'defensive': 6129, 'strengthen': 6130, 'stalled': 6131, 'improving': 6132, 'deploy': 6133, 'fallon': 6134, 'projection': 6135, 'preparation': 6136, 'unbelievable': 6137, 'campaigned': 6138, 'praised': 6139, 'visited': 6140, 'staying': 6141, 'buzzfeed': 6142, 'oldest': 6143, 'vocal': 6144, 'anderson': 6145, 'expressing': 6146, 'virus': 6147, 'acid': 6148, 'protein': 6149, 'elizabeth': 6150, 'milk': 6151, 'statistic': 6152, 'participated': 6153, 'urban': 6154, 'lesion': 6155, 'exaggerated': 6156, 'heal': 6157, 'stepping': 6158, 'castro': 6159, 'clark': 6160, 'terry': 6161, 'whitewater': 6162, 'accepting': 6163, 'uphold': 6164, 'ranking': 6165, 'gladly': 6166, 'goldwater': 6167, 'pat': 6168, 'buchanan': 6169, 'dems': 6170, 'tapper': 6171, 'comedy': 6172, 'grabbing': 6173, 'musket': 6174, 'vicious': 6175, 'demagogue': 6176, 'elephant': 6177, 'deck': 6178, 'interaction': 6179, 'hosting': 6180, 'favored': 6181, 'rubber': 6182, 'blasted': 6183, 'cannon': 6184, 'judiciary': 6185, 'unarmed': 6186, 'unconstitutional': 6187, 'pair': 6188, 'fairness': 6189, 'reminds': 6190, 'serf': 6191, 'extremism': 6192, 'containing': 6193, 'crack': 6194, 'intensify': 6195, 'smoke': 6196, 'belgian': 6197, 'declaration': 6198, 'binding': 6199, 'touched': 6200, 'dec': 6201, 'commercial': 6202, 'disturbed': 6203, 'endorses': 6204, 'promoting': 6205, 'crusade': 6206, 'taxi': 6207, 'cheaper': 6208, 'ratio': 6209, 'nevertheless': 6210, 'applies': 6211, 'invested': 6212, 'premium': 6213, 'passenger': 6214, 'yorker': 6215, 'swamp': 6216, 'representation': 6217, 'cure': 6218, 'inflammatory': 6219, 'stopping': 6220, 'cholesterol': 6221, 'signaling': 6222, 'saint': 6223, 'endtime': 6224, 'biblical': 6225, 'jerusalem': 6226, 'sizable': 6227, 'promoted': 6228, 'attracted': 6229, 'fascism': 6230, 'bind': 6231, 'rid': 6232, 'tel': 6233, 'aviv': 6234, 'provocative': 6235, 'gradually': 6236, 'likud': 6237, 'philosopher': 6238, 'withdraw': 6239, 'settler': 6240, 'disdain': 6241, 'secular': 6242, 'song': 6243, 'ottoman': 6244, 'sphere': 6245, 'attributed': 6246, 'davis': 6247, 'shaping': 6248, 'democratically': 6249, 'forthcoming': 6250, 'kicking': 6251, 'egyptian': 6252, 'launching': 6253, 'kennedy': 6254, 'gulf': 6255, 'apartment': 6256, 'absent': 6257, 'bataclan': 6258, 'arrival': 6259, 'portrayed': 6260, 'melania': 6261, 'shorter': 6262, 'milwaukee': 6263, 'crooked': 6264, 'kenya': 6265, 'shouting': 6266, 'thumb': 6267, 'rain': 6268, 'chanted': 6269, 'bobby': 6270, 'undocumented': 6271, 'resignation': 6272, 'clarified': 6273, 'mindset': 6274, 'creates': 6275, 'inspire': 6276, 'lined': 6277, 'proposing': 6278, 'looming': 6279, 'swift': 6280, 'disgust': 6281, 'eliminate': 6282, 'ranked': 6283, 'indication': 6284, 'investing': 6285, 'businessman': 6286, 'audit': 6287, 'bigoted': 6288, 'echoing': 6289, 'defiant': 6290, 'retake': 6291, 'liberate': 6292, 'broadly': 6293, 'criticizing': 6294, 'parameter': 6295, 'thorough': 6296, 'sword': 6297, 'reminded': 6298, 'selma': 6299, 'alabama': 6300, 'definitive': 6301, 'mook': 6302, 'creamer': 6303, 'keefe': 6304, 'emphasizing': 6305, 'felon': 6306, 'graham': 6307, 'suck': 6308, 'lining': 6309, 'chemtrails': 6310, 'mercury': 6311, 'meal': 6312, 'frame': 6313, 'iodine': 6314, 'forth': 6315, 'positively': 6316, 'lazy': 6317, 'recession': 6318, 'dysfunction': 6319, 'dos': 6320, 'reproductive': 6321, 'nerve': 6322, 'renewable': 6323, 'cult': 6324, 'divine': 6325, 'poison': 6326, 'symbol': 6327, 'format': 6328, 'bottle': 6329, 'beauty': 6330, 'divorce': 6331, 'obstacle': 6332, 'manifest': 6333, 'sole': 6334, 'beneficiary': 6335, 'vatican': 6336, 'cite': 6337, 'mocked': 6338, 'boasted': 6339, 'dolly': 6340, 'kyle': 6341, 'encourages': 6342, 'strictly': 6343, 'hadi': 6344, 'mandated': 6345, 'resigned': 6346, 'ali': 6347, 'lawn': 6348, 'felony': 6349, 'yard': 6350, 'unhinged': 6351, 'knocked': 6352, 'yelling': 6353, 'larry': 6354, 'kentucky': 6355, 'profession': 6356, 'birkenfeld': 6357, 'irony': 6358, 'minus': 6359, 'deferred': 6360, 'correctional': 6361, 'recount': 6362, 'bennett': 6363, 'settling': 6364, 'custody': 6365, 'keen': 6366, 'howard': 6367, 'utility': 6368, 'ditch': 6369, 'madison': 6370, 'discouraged': 6371, 'slipped': 6372, 'condemn': 6373, 'carl': 6374, 'jimmy': 6375, 'fargo': 6376, 'sixth': 6377, 'vp': 6378, 'entered': 6379, 'horrified': 6380, 'identical': 6381, 'rope': 6382, 'boring': 6383, 'entrance': 6384, 'vermont': 6385, 'irresponsible': 6386, 'vigilant': 6387, 'operates': 6388, 'sided': 6389, 'bulk': 6390, 'opted': 6391, 'tanden': 6392, 'jordanian': 6393, 'hezbollah': 6394, 'lebanon': 6395, 'reasoning': 6396, 'hurting': 6397, 'beach': 6398, 'hateful': 6399, 'presumably': 6400, 'legion': 6401, 'slate': 6402, 'vox': 6403, 'singing': 6404, 'cohen': 6405, 'executed': 6406, 'denouncing': 6407, 'underscore': 6408, 'inciting': 6409, 'sand': 6410, 'nationalist': 6411, 'kagan': 6412, 'creature': 6413, 'fashioned': 6414, 'whip': 6415, 'berlin': 6416, 'millennials': 6417, 'philip': 6418, 'escaped': 6419, 'skilled': 6420, 'compassionate': 6421, 'disabled': 6422, 'acknowledge': 6423, 'refusal': 6424, 'textbook': 6425, 'distinct': 6426, 'ho': 6427, 'arrogance': 6428, 'kellyanne': 6429, 'conway': 6430, 'blitzer': 6431, 'endure': 6432, 'messy': 6433, 'misleading': 6434, 'insult': 6435, 'boo': 6436, 'rubio': 6437, 'marco': 6438, 'rebuke': 6439, 'rudy': 6440, 'giuliani': 6441, 'firewall': 6442, 'feeding': 6443, 'longest': 6444, 'meter': 6445, 'duterte': 6446, 'framed': 6447, 'hometown': 6448, 'abu': 6449, 'delegation': 6450, 'belt': 6451, 'nd': 6452, 'peril': 6453, 'destination': 6454, 'draft': 6455, 's': 6456, 'continental': 6457, 'pole': 6458, 'slip': 6459, 'bully': 6460, 'boeing': 6461, 'lockheed': 6462, 'princeton': 6463, 'berkeley': 6464, 'recruiting': 6465, 'diego': 6466, 'boundary': 6467, 'wmw': 6468, 'admin': 6469, 'chilling': 6470, 'bernstein': 6471, 'racket': 6472, 'plea': 6473, 'prohibition': 6474, 'polled': 6475, 'powder': 6476, 'tobacco': 6477, 'packed': 6478, 'corp': 6479, 'shout': 6480, 'jose': 6481, 'chanting': 6482, 'orbit': 6483, 'reflected': 6484, 'hindu': 6485, 'midnight': 6486, 'overwhelmed': 6487, 'discourse': 6488, 'traditionally': 6489, 'polarizing': 6490, 'jan': 6491, 'shia': 6492, 'slowed': 6493, 'impression': 6494, 'psychologist': 6495, 'katie': 6496, 'perry': 6497, 'cooper': 6498, 'cleared': 6499, 'rallied': 6500, 'load': 6501, 'guided': 6502, 'aviation': 6503, 'tactical': 6504, 'tracked': 6505, 'cairo': 6506, 'crackdown': 6507, 'disputed': 6508, 'safer': 6509, 'rail': 6510, 'authenticity': 6511, 'tiger': 6512, 'weighing': 6513, 'cow': 6514, 'distant': 6515, 'fossil': 6516, 'hpv': 6517, 'museum': 6518, 'mounting': 6519, 'firmly': 6520, 'accounted': 6521, 'pew': 6522, 'gen': 6523, 'lt': 6524, 'refrain': 6525, 'kashmir': 6526, 'afghan': 6527, 'package': 6528, 'defeating': 6529, 'jihadi': 6530, 'gravity': 6531, 'cautioned': 6532, 'posting': 6533, 'recruitment': 6534, 'wasted': 6535, 'fence': 6536, 'taliban': 6537, 'muhammad': 6538, 'excerpt': 6539, 'evangelicals': 6540, 'stockpile': 6541, 'qualification': 6542, 'calculated': 6543, 'comfortable': 6544, 'nobel': 6545, 'brink': 6546, 'likelihood': 6547, 'exceptional': 6548, 'unthinkable': 6549, 'brookings': 6550, 'lift': 6551, 'reminding': 6552, 'stereotype': 6553, 'dawn': 6554, 'chomsky': 6555, 'verdict': 6556, 'defining': 6557, 'arson': 6558, 'overreach': 6559, 'marshal': 6560, 'endangered': 6561, 'guaranteed': 6562, 'charitable': 6563, 'divisive': 6564, 'breach': 6565, 'listing': 6566, 'flown': 6567, 'jennifer': 6568, 'indiana': 6569, 'enthusiasm': 6570, 'intimidate': 6571, 'trailing': 6572, 'realclearpolitics': 6573, 'perceived': 6574, 'dispatch': 6575, 'concentrated': 6576, 'helpful': 6577, 'condemning': 6578, 'villain': 6579, 'cuomo': 6580, 'gesture': 6581, 'journalistic': 6582, 'critique': 6583, 'pussy': 6584, 'dogged': 6585, 'unauthorized': 6586, 'discount': 6587, 'coordinator': 6588, 'peacefully': 6589, 'sweat': 6590, 'unleashed': 6591, 'expire': 6592, 'fundraising': 6593, 'brazile': 6594, 'populism': 6595, 'meme': 6596, 'dominant': 6597, 'flawed': 6598, 'bankruptcy': 6599, 'rhetorical': 6600, 'marginal': 6601, 'stoltenberg': 6602, 'inauguration': 6603, 'lincoln': 6604, 'concludes': 6605, 'pledging': 6606, 'praying': 6607, 'aristocracy': 6608, 'inspector': 6609, 'pump': 6610, 'warren': 6611, 'meltdown': 6612, 'competing': 6613, 'talent': 6614, 'sympathy': 6615, 'dominance': 6616, 'sheikh': 6617, 'dubious': 6618, 'colony': 6619, 'pakistani': 6620, 'procedural': 6621, 'spill': 6622, 'notified': 6623, 'louis': 6624, 'overseeing': 6625, 'uncertainty': 6626, 'richest': 6627, 'internationally': 6628, 'jab': 6629, 'filibuster': 6630, 'aca': 6631, 'vaccination': 6632, 'exemption': 6633, 'policeman': 6634, 'signaled': 6635, 'memorable': 6636, 'brock': 6637, 'shifting': 6638, 'outreach': 6639, 'policymakers': 6640, 'espionage': 6641, 'marking': 6642, 'sectarian': 6643, 'ayatollah': 6644, 'yale': 6645, 'derail': 6646, 'puerto': 6647, 'adventure': 6648, 'battlefield': 6649, 'lyndon': 6650, 'ala': 6651, 'sweep': 6652, 'somalia': 6653, 'assurance': 6654, 'dick': 6655, 'unfolding': 6656, 'settled': 6657, 'albeit': 6658, 'substantially': 6659, 'arnaldo': 6660, 'rodgers': 6661, 'lopez': 6662, 'vnn': 6663, 'technician': 6664, 'criminally': 6665, 'karen': 6666, 'belonged': 6667, 'bruce': 6668, 'mccain': 6669, 'appoint': 6670, 'blessing': 6671, 'shirt': 6672, 'gowdy': 6673, 'groundwork': 6674, 'sting': 6675, 'unwilling': 6676, 'looting': 6677, 'visible': 6678, 'retaliation': 6679, 'optimism': 6680, 'dunford': 6681, 'chuck': 6682, 'todd': 6683, 'headlined': 6684, 'herman': 6685, 'escalation': 6686, 'observatory': 6687, 'reconciliation': 6688, 'amounted': 6689, 'islamist': 6690, 'moderator': 6691, 'arrives': 6692, 'va': 6693, 'vega': 6694, 'showdown': 6695, 'prohibit': 6696, 'hypothetical': 6697, 'farther': 6698, 'securing': 6699, 'courtroom': 6700, 'portland': 6701, 'badge': 6702, 'tightening': 6703, 'bent': 6704, 'peshmerga': 6705, 'booker': 6706, 'toss': 6707, 'stole': 6708, 'cloud': 6709, 'pa': 6710, 'dennis': 6711, 'hawk': 6712, 'caliphate': 6713, 'petraeus': 6714, 'prompted': 6715, 'cruel': 6716, 'execution': 6717, 'beloved': 6718, 'inmate': 6719, 'wrestling': 6720, 'dust': 6721, 'craft': 6722, 'urgency': 6723, 'undercut': 6724, 'harder': 6725, 'snap': 6726, 'extraterrestrial': 6727, 'mar': 6728, 'integration': 6729, 'milestone': 6730, 'maidan': 6731, 'cnbc': 6732, 'brad': 6733, 'nightly': 6734, 'spark': 6735, 'visitor': 6736, 'subtle': 6737, 'grasp': 6738, 'venue': 6739, 'mentor': 6740, 'connecticut': 6741, 'formidable': 6742, 'taxation': 6743, 'traveled': 6744, 'geo': 6745, 'millionaire': 6746, 'lgbtq': 6747, 'stadium': 6748, 'invade': 6749, 'cincinnati': 6750, 'factory': 6751, 'disliked': 6752, 'shoe': 6753, 'align': 6754, 'touting': 6755, 'scored': 6756, 'clarify': 6757, 'mouse': 6758, 'romantic': 6759, 'earliest': 6760, 'wary': 6761, 'zarif': 6762, 'educational': 6763, 'curb': 6764, 'walker': 6765, 'rated': 6766, 'algorithm': 6767, 'reversal': 6768, 'wayne': 6769, 'catching': 6770, 'huffpost': 6771, 'lending': 6772, 'wilson': 6773, 'catherine': 6774, 'veto': 6775, 'rant': 6776, 'terrain': 6777, 'keystone': 6778, 'xl': 6779, 'container': 6780, 'offset': 6781, 'nominate': 6782, 'elector': 6783, 'dividing': 6784, 'protestant': 6785, 'temper': 6786, 'scorpio': 6787, 'hemisphere': 6788, 'collectively': 6789, 'ash': 6790, 'chaotic': 6791, 'nebraska': 6792, 'blessed': 6793, 'grateful': 6794, 'searching': 6795, 'cheering': 6796, 'cyrus': 6797, 'mistry': 6798, 'tata': 6799, 'mock': 6800, 'jurisdiction': 6801, 'screen': 6802, 'symbolic': 6803, 'emailed': 6804, 'civic': 6805, 'mantra': 6806, 'viable': 6807, 'diminished': 6808, 'loyalty': 6809, 'stamp': 6810, 'lieutenant': 6811, 'pregnancy': 6812, 'provider': 6813, 'correction': 6814, 'orientation': 6815, 'desert': 6816, 'acknowledges': 6817, 'excluded': 6818, 'skeptic': 6819, 'rallying': 6820, 'cotton': 6821, 'jenner': 6822, 'outgoing': 6823, 'pivot': 6824, 'confronting': 6825, 'persona': 6826, 'stronghold': 6827, 'endorsing': 6828, 'slim': 6829, 'collins': 6830, 'harshly': 6831, 'favorably': 6832, 'zealand': 6833, 'vanished': 6834, 'injunction': 6835, 'fierce': 6836, 'controlling': 6837, 'parallel': 6838, 'contemporary': 6839, 'silicon': 6840, 'insecurity': 6841, 'sandler': 6842, 'sketch': 6843, 'picking': 6844, 'deduction': 6845, 'courthouse': 6846, 'overtime': 6847, 'taser': 6848, 'entrusted': 6849, 'botched': 6850, 'juvenile': 6851, 'tout': 6852, 'morris': 6853, 'robby': 6854, 'josh': 6855, 'jasta': 6856, 'salman': 6857, 'confederate': 6858, 'appealing': 6859, 'persian': 6860, 'conservation': 6861, 'apprentice': 6862, 'punched': 6863, 'kim': 6864, 'detroit': 6865, 'surveyed': 6866, 'mining': 6867, 'fracking': 6868, 'restaurant': 6869, 'arriving': 6870, 'morally': 6871, 'metaphor': 6872, 'boosting': 6873, 'empathy': 6874, 'attacker': 6875, 'exclude': 6876, 'nestle': 6877, 'gallon': 6878, 'loophole': 6879, 'hiring': 6880, 'feb': 6881, 'astronomer': 6882, 'exploring': 6883, 'luxury': 6884, 'hurdle': 6885, 'newcomer': 6886, 'strategically': 6887, 'shy': 6888, 'scalia': 6889, 'ginsburg': 6890, 'disappointing': 6891, 'unfairly': 6892, 'moines': 6893, 'slain': 6894, 'ernst': 6895, 'haley': 6896, 'mortality': 6897, 'guantanamo': 6898, 'intensified': 6899, 'reed': 6900, 'announces': 6901, 'vibration': 6902, 'tai': 6903, 'fivethirtyeight': 6904, 'teleprompter': 6905, 'millennial': 6906, 'checker': 6907, 'bishop': 6908, 'altered': 6909, 'gallup': 6910, 'mcmullin': 6911, 'stayed': 6912, 'wireless': 6913, 'tb': 6914, 'praising': 6915, 'risky': 6916, 'sudan': 6917, 'insistence': 6918, 'buzz': 6919, 'hail': 6920, 'exhausted': 6921, 'alaska': 6922, 'tennessee': 6923, 'aging': 6924, 'slot': 6925, 'merrill': 6926, 'supervisor': 6927, 'zika': 6928, 'mosquito': 6929, 'infected': 6930, 'microcephaly': 6931, 'toxicity': 6932, 'grief': 6933, 'spiral': 6934, 'unesco': 6935, 'haram': 6936, 'mosque': 6937, 'pleased': 6938, 'russell': 6939, 'unilateral': 6940, 'benefited': 6941, 'grid': 6942, 'breath': 6943, 'tail': 6944, 'clerk': 6945, 'neural': 6946, 'shell': 6947, 'bargaining': 6948, 'greeted': 6949, 'volatile': 6950, 'contingent': 6951, 'marshall': 6952, 'encountered': 6953, 'pragmatic': 6954, 'disadvantage': 6955, 'thanksgiving': 6956, 'socially': 6957, 'acronym': 6958, 'pelosi': 6959, 'legalizing': 6960, 'neil': 6961, 'narrowly': 6962, 'innovation': 6963, 'discretion': 6964, 'corrected': 6965, 'sandy': 6966, 'rift': 6967, 'spectacular': 6968, 'unfavorably': 6969, 'gaffe': 6970, 'disability': 6971, 'intact': 6972, 'slam': 6973, 'contender': 6974, 'nightclub': 6975, 'escalated': 6976, 'effectiveness': 6977, 'sampling': 6978, 'kunduz': 6979, 'kabul': 6980, 'danish': 6981, 'counterterrorism': 6982, 'orthodoxy': 6983, 'provoked': 6984, 'yanukovych': 6985, 'ebola': 6986, 'polarized': 6987, 'plotting': 6988, 'supercharge': 6989, 'weighed': 6990, 'retire': 6991, 'repealing': 6992, 'veiled': 6993, 'sailor': 6994, 'dangerously': 6995, 'hype': 6996, 'seeming': 6997, 'baltimore': 6998, 'imagination': 6999, 'epa': 7000, 'recognizes': 7001, 'mattered': 7002, 'crap': 7003, 'crashed': 7004, 'precinct': 7005, 'fetus': 7006, 'mall': 7007, 'converted': 7008, 'dotcom': 7009, 'understandable': 7010, 'globally': 7011, 'handing': 7012, 'reactor': 7013, 'incompetent': 7014, 'calais': 7015, 'worldview': 7016, 'scripted': 7017, 'embracing': 7018, 'disaffected': 7019, 'opt': 7020, 'schumer': 7021, 'embattled': 7022, 'startling': 7023, 'napolitano': 7024, 'enrolled': 7025, 'playbook': 7026, 'noble': 7027, 'ailes': 7028, 'struggled': 7029, 'climb': 7030, 'matchup': 7031, 'envelope': 7032, 'shiite': 7033, 'clashed': 7034, 'montana': 7035, 'jefferson': 7036, 'pageant': 7037, 'disciplined': 7038, 'baker': 7039, 'uphill': 7040, 'rachel': 7041, 'podium': 7042, 'perez': 7043, 'univision': 7044, 'suspend': 7045, 'myriad': 7046, 'handgun': 7047, 'televised': 7048, 'trustworthy': 7049, 'suv': 7050, 'psaki': 7051, 'forcefully': 7052, 'evangelical': 7053, 'frey': 7054, 'reformer': 7055, 'freshman': 7056, 'mitch': 7057, 'mcconnell': 7058, 'ethiopia': 7059, 'stahl': 7060, 'lesley': 7061, 'evolve': 7062, 'grocery': 7063, 'unlawful': 7064, 'woe': 7065, 'reince': 7066, 'priebus': 7067, 'superdelegates': 7068, 'circulated': 7069, 'affirmative': 7070, 'delaware': 7071, 'bernardino': 7072, 'fred': 7073, 'gavin': 7074, 'macfadyen': 7075, 'alleging': 7076, 'birther': 7077, 'vetting': 7078, 'carson': 7079, 'monte': 7080, 'hiv': 7081, 'drafted': 7082, 'beau': 7083, 'wiped': 7084, 'mammogram': 7085, 'digit': 7086, 'unsuccessful': 7087, 'blasting': 7088, 'adjusted': 7089, 'sounded': 7090, 'emirate': 7091, 'sometime': 7092, 'seattle': 7093, 'coal': 7094, 'kratom': 7095, 'nonpartisan': 7096, 'exam': 7097, 'mohammad': 7098, 'ptsd': 7099, 'denis': 7100, 'modi': 7101, 'sinai': 7102, 'orleans': 7103, 'adelson': 7104, 'baghdadi': 7105, 'bench': 7106, 'adapt': 7107, 'lapse': 7108, 'watcher': 7109, 'talented': 7110, 'tibet': 7111, 'tuition': 7112, 'gunman': 7113, 'manchester': 7114, 'bracket': 7115, 'neurosurgeon': 7116, 'akin': 7117, 'methane': 7118, 'foreclosure': 7119, 'surging': 7120, 'hogan': 7121, 'ayotte': 7122, 'portman': 7123, 'rhode': 7124, 'defund': 7125, 'duncan': 7126, 'centrifuge': 7127, 'qualify': 7128, 'malik': 7129, 'quinnipiac': 7130, 'generic': 7131, 'heartland': 7132, 'constituent': 7133, 'coin': 7134, 'zulu': 7135, 'slager': 7136, 'underscored': 7137, 'overhaul': 7138, 'sinjar': 7139, 'rust': 7140, 'nod': 7141, 'martian': 7142, 'override': 7143, 'bump': 7144, 'centrist': 7145, 'in': 7146, 'abandoning': 7147, 'favorability': 7148, 'kurtz': 7149, 'robbery': 7150, 'midterm': 7151, 'thiel': 7152, 'abadi': 7153, 'microphone': 7154, 'toughest': 7155, 'iarc': 7156, 'huckabee': 7157, 'baptist': 7158, 'vacancy': 7159, 'ariz': 7160, 'boer': 7161, 'breakfast': 7162, 'marry': 7163, 'applause': 7164, 'saakashvili': 7165, 'georgian': 7166, 'embargo': 7167, 'ky': 7168, 'reilly': 7169, 'dolezal': 7170, 'sotomayor': 7171, 'brook': 7172, 'machado': 7173, 'garland': 7174, 'presumptive': 7175, 'antonin': 7176, 'splc': 7177, 'mateen': 7178, 'farook': 7179, 'abdulazeez': 7180, 'indianapolis': 7181, 'schiff': 7182, 'tex': 7183, 'chattanooga': 7184, 'saponin': 7185, 'kouachi': 7186, 'freddie': 7187, 'camden': 7188, 'manhunt': 7189, 'nominating': 7190, 'contraception': 7191, 'forceful': 7192, 'condolence': 7193, 'haul': 7194, 'chafee': 7195, 'clinch': 7196, 'gavel': 7197, 'corker': 7198, 'evenly': 7199, 'marathon': 7200, 'curiel': 7201, 'coulibaly': 7202, 'orc': 7203, 'fnc': 7204, 'kobani': 7205, 'palin': 7206, 'jindal': 7207, 'lindsey': 7208, 'santorum': 7209, 'carly': 7210, 'fiorina': 7211, 'grassley': 7212, 'hewlett': 7213, 'packard': 7214, 'mediabuzz': 7215, 'flanagan': 7216, 'stephanopoulos': 7217, 'mullah': 7218, 'aumf': 7219, 'corey': 7220, 'lewandowski': 7221, 'nepal': 7222, 'mullen': 7223, 'pataki': 7224, 'durst': 7225, 'marquez': 7226, 'menendez': 7227, 'abdeslam': 7228, 'pagliano': 7229, 'egyptair': 7230, 'abaaoud': 7231, 'bevin': 7232, 'mosby': 7233, 'ame': 7234, 'nemtsov': 7235, 'bergdahl': 7236, 'dapa': 7237}\n"
     ]
    }
   ],
   "source": [
    "print(vectorizer.news_vocab._token_to_idx)"
   ]
  },
  {
   "cell_type": "code",
   "execution_count": 16,
   "metadata": {},
   "outputs": [
    {
     "name": "stdout",
     "output_type": "stream",
     "text": [
      "{'FAKE': 0, 'REAL': 1}\n"
     ]
    }
   ],
   "source": [
    "print(vectorizer.category_vocab._token_to_idx)"
   ]
  },
  {
   "cell_type": "code",
   "execution_count": 17,
   "metadata": {},
   "outputs": [
    {
     "data": {
      "text/plain": [
       "1002"
      ]
     },
     "execution_count": 17,
     "metadata": {},
     "output_type": "execute_result"
    }
   ],
   "source": [
    "dataset._max_seq_length"
   ]
  },
  {
   "cell_type": "markdown",
   "metadata": {},
   "source": [
    "### Training loop"
   ]
  },
  {
   "cell_type": "code",
   "execution_count": 18,
   "metadata": {
    "scrolled": true
   },
   "outputs": [
    {
     "data": {
      "application/vnd.jupyter.widget-view+json": {
       "model_id": "7aa0ab35aced43649791bfb5f7f054a8",
       "version_major": 2,
       "version_minor": 0
      },
      "text/plain": [
       "training routine:   0%|          | 0/100 [00:00<?, ?it/s]"
      ]
     },
     "metadata": {},
     "output_type": "display_data"
    },
    {
     "data": {
      "application/vnd.jupyter.widget-view+json": {
       "model_id": "72ba48adb1e946adbff918dd07cd634f",
       "version_major": 2,
       "version_minor": 0
      },
      "text/plain": [
       "split=train:   0%|          | 0/69 [00:00<?, ?it/s]"
      ]
     },
     "metadata": {},
     "output_type": "display_data"
    },
    {
     "data": {
      "application/vnd.jupyter.widget-view+json": {
       "model_id": "fa7abd35f8a74a7f99ace3eb110e3cc4",
       "version_major": 2,
       "version_minor": 0
      },
      "text/plain": [
       "split=val:   0%|          | 0/14 [00:00<?, ?it/s]"
      ]
     },
     "metadata": {},
     "output_type": "display_data"
    },
    {
     "name": "stdout",
     "output_type": "stream",
     "text": [
      "Exiting loop\n"
     ]
    }
   ],
   "source": [
    "classifier = classifier.to(args.device)\n",
    "dataset.class_weights = dataset.class_weights.to(args.device)\n",
    "    \n",
    "loss_func = nn.CrossEntropyLoss(dataset.class_weights)\n",
    "optimizer = optim.Adam(classifier.parameters(), lr=args.learning_rate)\n",
    "scheduler = optim.lr_scheduler.ReduceLROnPlateau(optimizer=optimizer, mode='min', factor=0.5, patience=1)\n",
    "\n",
    "train_state = make_train_state(args)\n",
    "\n",
    "epoch_bar = tqdm(desc='training routine', total=args.num_epochs, position=0)\n",
    "\n",
    "dataset.set_split('train')\n",
    "train_bar = tqdm(desc='split=train', total=dataset.get_num_batches(args.batch_size), position=1, leave=True)\n",
    "\n",
    "dataset.set_split('val')\n",
    "val_bar = tqdm(desc='split=val', total=dataset.get_num_batches(args.batch_size), position=1, leave=True)\n",
    "\n",
    "try:\n",
    "    for epoch_index in range(args.num_epochs):\n",
    "        train_state['epoch_index'] = epoch_index\n",
    "\n",
    "        # Iterate over training dataset\n",
    "\n",
    "        # setup: batch generator, set loss and acc to 0, set train mode on\n",
    "\n",
    "        dataset.set_split('train')\n",
    "        batch_generator = generate_batches(dataset, \n",
    "                                           batch_size=args.batch_size, \n",
    "                                           device=args.device)\n",
    "        running_loss = 0.0\n",
    "        running_acc = 0.0\n",
    "        classifier.train()\n",
    "\n",
    "        for batch_index, batch_dict in enumerate(batch_generator):\n",
    "            # the training routine is these 5 steps:\n",
    "\n",
    "            # --------------------------------------\n",
    "            # step 1. zero the gradients\n",
    "            optimizer.zero_grad()\n",
    "\n",
    "            # step 2. compute the output\n",
    "            y_pred = classifier(batch_dict['x_data']) # (batch, seq_len) -> (batch, num_classes)\n",
    "\n",
    "            # step 3. compute the loss\n",
    "            loss = loss_func(y_pred, batch_dict['y_target'])\n",
    "            loss_t = loss.item()\n",
    "            running_loss += (loss_t - running_loss) / (batch_index + 1)\n",
    "\n",
    "            # step 4. use loss to produce gradients\n",
    "            loss.backward()\n",
    "\n",
    "            # step 5. use optimizer to take gradient step\n",
    "            optimizer.step()\n",
    "            # -----------------------------------------\n",
    "            # compute the accuracy\n",
    "            acc_t = compute_accuracy(y_pred, batch_dict['y_target'])\n",
    "            running_acc += (acc_t - running_acc) / (batch_index + 1)\n",
    "\n",
    "            # update bar\n",
    "            train_bar.set_postfix(loss=running_loss, acc=running_acc, \n",
    "                                  epoch=epoch_index)\n",
    "            train_bar.update()\n",
    "\n",
    "        train_state['train_loss'].append(running_loss)\n",
    "        train_state['train_acc'].append(running_acc)\n",
    "\n",
    "        # Iterate over val dataset\n",
    "\n",
    "        # setup: batch generator, set loss and acc to 0; set eval mode on\n",
    "        dataset.set_split('val')\n",
    "        batch_generator = generate_batches(dataset, \n",
    "                                           batch_size=args.batch_size, \n",
    "                                           device=args.device)\n",
    "        running_loss = 0.\n",
    "        running_acc = 0.\n",
    "        classifier.eval()\n",
    "\n",
    "        for batch_index, batch_dict in enumerate(batch_generator):\n",
    "\n",
    "            # compute the output\n",
    "            y_pred =  classifier(batch_dict['x_data'])\n",
    "\n",
    "            # step 3. compute the loss\n",
    "            loss = loss_func(y_pred, batch_dict['y_target'])\n",
    "            loss_t = loss.item()\n",
    "            running_loss += (loss_t - running_loss) / (batch_index + 1)\n",
    "\n",
    "            # compute the accuracy\n",
    "            acc_t = compute_accuracy(y_pred, batch_dict['y_target'])\n",
    "            running_acc += (acc_t - running_acc) / (batch_index + 1)\n",
    "            val_bar.set_postfix(loss=running_loss, acc=running_acc, \n",
    "                            epoch=epoch_index)\n",
    "            val_bar.update()\n",
    "\n",
    "        train_state['val_loss'].append(running_loss)\n",
    "        train_state['val_acc'].append(running_acc)\n",
    "\n",
    "        train_state = update_train_state(args=args, model=classifier,\n",
    "                                         train_state=train_state)\n",
    "\n",
    "        scheduler.step(train_state['val_loss'][-1])\n",
    "\n",
    "        if train_state['stop_early']:\n",
    "            break\n",
    "\n",
    "        train_bar.n = 0\n",
    "        val_bar.n = 0\n",
    "        epoch_bar.update()\n",
    "except KeyboardInterrupt:\n",
    "    print(\"Exiting loop\")\n"
   ]
  },
  {
   "cell_type": "code",
   "execution_count": null,
   "metadata": {},
   "outputs": [
    {
     "data": {
      "image/png": "[encoded data removed]",
      "text/plain": [
       "<Figure size 640x480 with 1 Axes>"
      ]
     },
     "metadata": {},
     "output_type": "display_data"
    }
   ],
   "source": [
    "%matplotlib inline\n",
    "import matplotlib.pyplot as plt\n",
    "\n",
    "acc = train_state['train_acc']\n",
    "val_acc = train_state['val_acc']\n",
    "loss = train_state['train_loss']\n",
    "val_loss = train_state['val_loss']\n",
    "\n",
    "epochs = range(1, len(acc) + 1)\n",
    "\n",
    "# \"bo\" is for \"blue dot\"\n",
    "plt.plot(epochs, loss, 'bo', label='Training loss')\n",
    "# b is for \"solid blue line\"\n",
    "plt.plot(epochs, val_loss, 'b', label='Validation loss')\n",
    "plt.title('Training and validation loss')\n",
    "plt.xlabel('Epochs')\n",
    "plt.ylabel('Loss')\n",
    "plt.legend()\n",
    "\n",
    "plt.show()"
   ]
  },
  {
   "cell_type": "code",
   "execution_count": null,
   "metadata": {},
   "outputs": [
    {
     "data": {
      "image/png": "[encoded data removed]",
      "text/plain": [
       "<Figure size 640x480 with 1 Axes>"
      ]
     },
     "metadata": {},
     "output_type": "display_data"
    }
   ],
   "source": [
    "plt.clf()   # clear figure\n",
    "\n",
    "plt.plot(epochs, acc, 'bo', label='Training acc')\n",
    "plt.plot(epochs, val_acc, 'b', label='Validation acc')\n",
    "plt.title('Training and validation accuracy')\n",
    "plt.xlabel('Epochs')\n",
    "plt.ylabel('Accuracy')\n",
    "plt.legend()\n",
    "\n",
    "plt.show()"
   ]
  },
  {
   "cell_type": "code",
   "execution_count": null,
   "metadata": {},
   "outputs": [],
   "source": [
    "# compute the loss & accuracy on the test set using the best available model\n",
    "\n",
    "classifier.load_state_dict(torch.load(train_state['model_filename'])) # load the best model\n",
    "\n",
    "classifier = classifier.to(args.device)\n",
    "dataset.class_weights = dataset.class_weights.to(args.device)\n",
    "loss_func = nn.CrossEntropyLoss(dataset.class_weights)\n",
    "\n",
    "dataset.set_split('test')\n",
    "batch_generator = generate_batches(dataset, \n",
    "                                   batch_size=args.batch_size, \n",
    "                                   device=args.device)\n",
    "running_loss = 0.\n",
    "running_acc = 0.\n",
    "classifier.eval()\n",
    "\n",
    "y_pred_list = []         # store predicted values for confusion matrix\n",
    "y_category_list = []  # ground truth value\n",
    "\n",
    "for batch_index, batch_dict in enumerate(batch_generator):\n",
    "    # compute the output\n",
    "    y_pred =  classifier(batch_dict['x_data'])\n",
    "    \n",
    "    # store predicted values and ground truth values for calculating confusion matrix\n",
    "    y_pred_list.extend(y_pred.max(dim=1)[1].cpu().numpy())\n",
    "    y_category_list.extend(batch_dict['y_target'].cpu().numpy())\n",
    "    \n",
    "    # compute the loss\n",
    "    loss = loss_func(y_pred, batch_dict['y_target'])\n",
    "    loss_t = loss.item()\n",
    "    running_loss += (loss_t - running_loss) / (batch_index + 1)\n",
    "\n",
    "    # compute the accuracy\n",
    "    acc_t = compute_accuracy(y_pred, batch_dict['y_target'])\n",
    "    running_acc += (acc_t - running_acc) / (batch_index + 1)\n",
    "\n",
    "train_state['test_loss'] = running_loss\n",
    "train_state['test_acc'] = running_acc\n"
   ]
  },
  {
   "cell_type": "code",
   "execution_count": null,
   "metadata": {},
   "outputs": [
    {
     "name": "stdout",
     "output_type": "stream",
     "text": [
      "Test loss: 0.23581110845719064;\n",
      "Test Accuracy: 92.07589285714285\n"
     ]
    }
   ],
   "source": [
    "print(\"Test loss: {};\".format(train_state['test_loss']))\n",
    "print(\"Test Accuracy: {}\".format(train_state['test_acc']))"
   ]
  },
  {
   "cell_type": "code",
   "execution_count": null,
   "metadata": {},
   "outputs": [
    {
     "name": "stdout",
     "output_type": "stream",
     "text": [
      "['FAKE', 'REAL']\n"
     ]
    }
   ],
   "source": [
    "classes = []\n",
    "for i in range(len(dataset._vectorizer.category_vocab)):\n",
    "    classes.append(dataset._vectorizer.category_vocab.lookup_index(i))\n",
    "print(classes)"
   ]
  },
  {
   "cell_type": "code",
   "execution_count": null,
   "metadata": {},
   "outputs": [
    {
     "name": "stdout",
     "output_type": "stream",
     "text": [
      "True       FAKE  REAL\n",
      "Predicted            \n",
      "FAKE        422    44\n",
      "REAL         27   403\n"
     ]
    }
   ],
   "source": [
    "import pandas as pd\n",
    "from sklearn.metrics import classification_report, confusion_matrix, accuracy_score\n",
    "\n",
    "cm = confusion_matrix(y_category_list, y_pred_list)\n",
    "cm_df = pd.DataFrame(cm.T, index=classes, columns=classes)\n",
    "cm_df.index.name = 'Predicted'\n",
    "cm_df.columns.name = 'True'\n",
    "print(cm_df)"
   ]
  },
  {
   "cell_type": "code",
   "execution_count": null,
   "metadata": {},
   "outputs": [
    {
     "name": "stdout",
     "output_type": "stream",
     "text": [
      "              precision    recall  f1-score   support\n",
      "\n",
      "           0       0.91      0.94      0.92       449\n",
      "           1       0.94      0.90      0.92       447\n",
      "\n",
      "    accuracy                           0.92       896\n",
      "   macro avg       0.92      0.92      0.92       896\n",
      "weighted avg       0.92      0.92      0.92       896\n",
      "\n"
     ]
    }
   ],
   "source": [
    "print(classification_report(y_category_list, y_pred_list))"
   ]
  },
  {
   "cell_type": "markdown",
   "metadata": {},
   "source": [
    "### Inference"
   ]
  },
  {
   "cell_type": "code",
   "execution_count": null,
   "metadata": {},
   "outputs": [],
   "source": [
    "# Preprocess the reviews\n",
    "def preprocess_text(text):\n",
    "    text = ' '.join(word.lower() for word in text.split(\" \"))\n",
    "    text = re.sub(r\"([.,!?])\", r\" \\1 \", text)\n",
    "    text = re.sub(r\"[^a-zA-Z.,!?]+\", r\" \", text)\n",
    "    return text"
   ]
  },
  {
   "cell_type": "code",
   "execution_count": null,
   "metadata": {},
   "outputs": [],
   "source": [
    "def predict_category(title, classifier, vectorizer, max_length):\n",
    "    \"\"\"Predict a News category for a new title\n",
    "    \n",
    "    Args:\n",
    "        title (str): a raw title string\n",
    "        classifier (NewsClassifier): an instance of the trained classifier\n",
    "        vectorizer (NewsVectorizer): the corresponding vectorizer\n",
    "        max_length (int): the max sequence length\n",
    "            Note: CNNs are sensitive to the input data tensor size. \n",
    "                  This ensures to keep it the same size as the training data\n",
    "    \"\"\"\n",
    "    title = preprocess_text(title)\n",
    "    vectorized_title = \\\n",
    "        torch.tensor(vectorizer.vectorize(title, vector_length=max_length))\n",
    "    result = classifier(vectorized_title.unsqueeze(0), apply_softmax=True)\n",
    "    probability_values, indices = result.max(dim=1)\n",
    "    predicted_category = vectorizer.category_vocab.lookup_index(indices.item())\n",
    "\n",
    "    return {'category': predicted_category, \n",
    "            'probability': probability_values.item()}"
   ]
  },
  {
   "cell_type": "code",
   "execution_count": null,
   "metadata": {},
   "outputs": [],
   "source": [
    "def get_samples():\n",
    "    samples = {}\n",
    "    for cat in dataset.val_df.category.unique():\n",
    "        samples[cat] = dataset.val_df.text[dataset.val_df.category==cat].tolist()[:5]\n",
    "    return samples\n",
    "\n",
    "val_samples = get_samples() # first 5 titles of each category from validation dataset"
   ]
  },
  {
   "cell_type": "code",
   "execution_count": null,
   "metadata": {},
   "outputs": [
    {
     "name": "stdout",
     "output_type": "stream",
     "text": [
      "True Category: FAKE\n",
      "==============================\n",
      "Prediction: FAKE (p=1.00)\n",
      "\t + Sample: hillary clinton postapocalyptic hellscape plan hillary clinton postapocalyptic hellscape plan important avoid age peace hillary clinton postapocalyptic hellscape plan b look email even com wrong comdingdangaramaramaflimflam mail question comment site godlike production glp registered trademark zero point ltd godlike website design copyright godlikeproductions com page generated query\n",
      "Prediction: FAKE (p=1.00)\n",
      "\t + Sample: russophobia war party propaganda information russophobia war party propagandathe world reactionary regime head chopping terror sponsoring saudi arabian kleptocracy awarded chair un human right council russia kicked travesty engineered superpower lie punish moscow resisting u led war sectarian massacre regime change syria war party march cheer corporate medium hillary even elected yet margaret kimberley attempt stop fighting rejected u nato sealed fate syrian people november information clearing house bar russia invade iraq kill one million people russia greater percentage population behind bar country world russia occupy haiti kidnapping president russian police allowed shoot child death without fear repercussion russia entering th year terror war people somalia crime take place direction united state yet full force propaganda influence world opinion directed russia whatever shortcoming hold candle america violating human right danger presented hillary clinton presidency overstated war party steadily working towards goal defies logic risk life earth regime change modus operandi hope make reality russia nearly every claim russian evil lie ruse meant put american fighting mood lose fear nuclear conflagration clear clinton rest would warrior actually realize risking mushroom cloud perhaps believe vladimir putin easily pushed around evidence point contrary unproven allegation interference presidential election casting blame russia sole cause suffering syria meant desensitize public age old ploy make war acceptable deemed necessity usual suspect helping eagerly corporate medium led newspaper like new york time washington post front center pushing tale russian villainy human right watch organization care nothing abuse committed united state ally also playing usual role choosing next regime change victim russia lost seat united nation human right council part american pressure public relation assistance human right industrial complex unhrc chaired saudi arabia saudi arabia absolute monarchy fund jihadist terrorist group caused syrian death saudi causing dislocation death starvation yemen american ally little opposition misdeed openly bigoted donald trump perfect foil hillary clinton rest democratic party leadership preferred rival made case discredited lesser evilism argument sensible statement avoiding enmity russia made even useful united state ally cause syria destruction effort overthrow president assad created humanitarian disaster complete isi al nusra fighter love chop head entertainment far cause catastrophe russia left ally fight alone four year even made overture negotiate assad fate united state attempt stop fighting rejected u nato sealed fate syrian people people east aleppo shelled american ally one know reading pass journalism newspaper television american role slaughter barely mentioned excused effort protect civilian population bloodshed made u could end government wanted anti russian propaganda effort worked perfection nato massing troop russia border clear provocation yet putin labeled bad guy said menacing country join threatening nation united state make phony claim russian war crime despite blood hand latest human right watch canard prosecuting assad come straight white house state department nothing concern syrian living fifth year hell lesser evil hillary clinton donald trump fully supported war party desire muscular foreign policy bizarre term mean death starvation million people clinton win landslide must denied victory magnitude opportunity claim mandate peace loving people must give vote green party ticket jill stein ajamu baraka alone rejecting premise imperialist country endless war united state dangerous country world reckless war loving president threat becomes existential prospect face hillary clinton presidency role villain cast world stage star show margaret kimberley freedom rider column appears weekly bar widely reprinted elsewhere maintains frequently updated blog well m kimberley life new york city reached via e mail margaret kimberley blackagendareport com russia kill civilian u promotes democracy washington mantra domestic consumption\n",
      "Prediction: FAKE (p=0.99)\n",
      "\t + Sample: world champion boxer manny pacquiao build home poor filipino earning million fighting floyd mayweather boxer politician used portion earnings construct home poor family hometown manny pacquiao world class athlete filipino politician compassionate activist paid home built help underprivileged family hometown via anonews earlier year pacquiao proclaimed good deed facebook happy giving house free constituent sarangani province pocket thousand family beneficiary star report born christian inspired help poor family duking floyd mayweather though lost boxing match still earned million dollar fight century felt duty give back wrote faithful steward god grace various form use whatever gift received serve others still building always believe bible say offer hospitality one another without grumbling act compassion could nothing calculated political move nonetheless family secure living space thanks senator generosity believe worth celebrating\n",
      "Prediction: REAL (p=0.62)\n",
      "\t + Sample: hillary era coming worry photo veni cc trust one noticed rural area economically distressed neighborhood town city lawn sign donald trump everywhere hillary sign rarer tesla maseratis think understand trump sign cry defiance hillary supporter harder figure suspect would soon advertise intention november even think way stop trump understand voting hillary embarrassing lawn sign apart evidence trump kaput overwhelming seems finally done campaign extent even diehard anti trump fear monger concede inevitability clinton return white house trump campaign life support week pussy grabbing tape surfaced followed seemingly endless stream woman dozen already accusing donald groping worse third debate trump announced would wait see accepting legitimacy clinton victory seems final straw bona fide deplorables writing wall hillary win surely sun rise tomorrow well quite almost reason rejoice victory trump defeat even obvious seems hillary probably lesser evil thing considered trump likely le dangerous two man adolescent septuagenarian body tendency act least russophobe neocon humanitarian intervener intent regime change country resist american domination would include usual victim country incapable harming united state militarily russia china well relevant supposed lesser evil committed neoliberal wall street toady trump crooked hillary taunt hit target often consideration others like cause concern fine lesser evil voting general think threshold beneath lesser evil consideration apply need agonize issue however case trump became republican nominee lesser evil argument became moot would still case even voter quite willfully blind danger inherent clinton determination maintain american world domination mean necessary fondness military solution lesser evil consideration irrelevant trump always bound lose democrat even pressing point corollary anti trump hysteria distraction day one recently month ago hardly anyone agreed dollar every time taken task seeing parallel trump phenomenon rise nazism final year weimar republic would rich man today recognized trump chance becoming president practical purpose nil one pressing line day used limb longer would natural take pleasure turn event would fact trump defeat implies clinton victory prospect best slightly le nightmarish worse seem matter flagrant worrywart finally concede never president trump liberal centrist even foolish leftist still going hillary dead center soft left consensus view still time boost knock hillary campaign especially dozen state electoral college outcome could determined year ago absolute certainty remarkable many people let anti trump hysteria go focused trump misogyny temperamental instability narcissistic blather see thing need fear trump concerned speak fear however hillary case really something fear become commander chief lethal military force history world point supporter denial even people know better support sake remain determined waste vote adding total apparently think way send message trumpian fascism shall pas much better would would use vote build alternative neoliberal perpetual war regime hillary bill co thinker helped fashion best chance point jill stein campaign green party ticket stein win course vote protest vote nothing wrong hillary need know mandate end world know one many way convey message pundit claim otherwise dead wrong pile hillary wasting vote protest vote aimed hillary wasted would imagine least trump voter thinking along similar line racism nativism islamophobia candidate tarnish message vote convey therefore register real clarity message protest vote stein convey hand clear distinct garner least five percent total vote cast green access federal funding future election much easier time gaining ballot access fifty state would make much political revolution even bernie sander highly attenuated sense term would make future election le mind numbing degrading could ultimately lead far reaching transformation political scene trump killed gop duopoly party system jeopardy kind political realignments last become feasible contrarian went limb trump chance confidence way based inference polling data statistical extrapolation let blogosphere political junky corporate medium talking head knock useful entertaining people care horse race aspect presidential election distressing many american indulge spectator sport essentially apolitical confident right trump chance knew people tell pollster election seems far basically irrelevant predicting election outcome information people like voted past relevant much especially true case disdain one candidate dispositive factor many voter mind also fairly sure rightly wrongly people fear loathe trump fear loathe hillary outset would long trump certain undermine much dirt donald sleazy connection moral turpitude even god fearing republican capable believing almost nonsense bound eventually repulsed suspected trump never really wanted president got race promote brand egotist publicity hound trump hate lose however especially like hillary point must decided give campaign even meant bringing trump brand come shed crocodile tear brood ivanka especially worthwhile thing month ahead would work make happen everything possible assure damage done thing trump irreversible delightful irony would plenty hillary hater donald base hate hillary consider embodiment coercive goody goodyism think disdainful people like people deplorables demographic think leftwing idea leftwing nonsense course nearly leftwing enough anyone would think otherwise testament medium ability shape public perception degree political ignorance rampant quarter american electorate vast rightwing conspiracy hillary hater spot right rest two three bad even better reason dread prospect clinton presidency service hillary done go miscreant control commanding height america world capitalist order untrammeled ideologically driven bellicosity hillary know game system bill know benefit vaunted experience clueless world although fan boast pragmatism woman seriously inept undertakes ill conceived nearly turn badly short lesser evil great evil indeed take long move back white house start putting stamp empire depredation scale fall eye gullible supporter even sure trump defeat take even le joy proved right lie ahead hillary control horrible contemplate join debate facebook andrew levine senior scholar institute policy study author recently american ideology routledge political key word blackwell well many book article political philosophy recent book bad faith wrong opium people professor philosophy university wisconsin madison research professor philosophy university maryland college park contributor hopeless barack obama politics illusion ak press\n",
      "Prediction: FAKE (p=1.00)\n",
      "\t + Sample: connect series webinar oct financial market news cover dominating theme market share pattern analysis perspective empower member make better investment decision\n",
      "------------------------------\n",
      "\n",
      "True Category: REAL\n",
      "==============================\n",
      "Prediction: FAKE (p=0.88)\n",
      "\t + Sample: common core quietly war argentine president mauricio macri office rebutting report argentinian journalist set wave american medium\n",
      "Prediction: REAL (p=1.00)\n",
      "\t + Sample: u face call walk away iran talk leading republican critic iranian nuclear talk calling u walk away table negotiator missed key deadline lawmaker joined voicing concern iran could extract critical final hour concession scramble salvage agreement negotiation resumed switzerland wednesday almost immediately beset competing claim hour diplomat abandoned march deadline reach outline deal agreed press latest round hit week mark three six foreign minister involved left talk prospect agreement remaining uncertain amid confusion sen tom cotton r ark told fox news concerned framework deal could allow iran keep uranium stockpile continue enrich uranium underground bunker willing walk away table reapply leverage iran cotton said fact willing still sitting switzerland negotiating three negotiating partner already left demonstrates iran continue demand dangerous concession west speaking msnbc former democratic presidential candidate howard dean seemed agree said president obama right seek deal might time step away table make clear u backing key position including iran uranium stockpile pace sanction relief worried dean said rep martha mcsally r ariz also told fox news potentially nuclear infrastructure added know exactly behind closed door despite side agreeing blow deadline pursuit rough agreement even white house threatened abandon talk iran budge unwilling make kind commitment give u assurance u mean united state mean international community walk away negotiating table consider option may available u certainly possibility could happen white house press secretary josh earnest said tuesday earnest indicated wednesday still option called scenario hypothetical talk making progress said talk continue productive yet received specific tangible commitment international community require tuesday negotiator trying agree simply joint statement could justify talk continuing final june deadline iran deputy foreign minister abbas araghchi told reporter side make progress text joint statement could issued end day suggested statement would contain specific senior western official quickly pushed back saying nothing statement decided iran negotiating partner would accept document contained detail german foreign ministry tweeted nothing agreed although progress visible araghchi named difference sanction relief country one dispute along dispute iran uranium enrichment related research development definitely research development program high end centrifuge continue told iranian television u negotiating partner want crimp iranian effort improve performance centrifuge enrich uranium advancing technology could let iran produce material could used arm nuclear weapon much quickly present exchange reflected significant gap side came shortly end first post deadline meeting u secretary state john kerry british german counterpart iranian foreign minister mohammed javad zarif swiss town lausanne team continuing marathon effort bridge still significant gap hammer framework accord would serve basis final agreement end june eager avoid collapse discussion united state others claimed late tuesday enough progress made warrant extension six day intense bartering foreign minister china france russia departed lausanne overnight although significance absence clear kerry postponed planned tuesday departure stay lausanne iranian negotiator said team would stay long necessary clear remaining hurdle official say intention produce joint statement outlining general political commitment resolving concern iran nuclear program exchange sanction relief addition trying fashion document would lay detail step must take june meet goal additional document would allow side make case next round talk simply continuation negotiation already twice extended since interim agreement iran united state russia china britain france germany concluded november obama leader including iran said interested third extension party agree broad framework leaf key detail unresolved obama expect stiff opposition home member congress want move forward new stiffer iran sanction lawmaker agreed hold measure march party negotiated white house say new sanction would scuttle diplomatic effort contain iran nuclear work possibly lead israel act threat use military force accomplish goal israeli prime minister benjamin netanyahu continued question course talk wednesday said iran view israel destruction non negotiable evidently giving iran murderous regime clear path bomb negotiable unconscionable said time iran accelerating campaign terror subjugation conquest throughout region recently yemen netanyahu said better deal would significantly roll back iran nuclear infrastructure link lifting restriction nuclear program change iran behavior associated press contributed report\n",
      "Prediction: FAKE (p=0.51)\n",
      "\t + Sample: gun control becomes litmus test democratic primary move would make easier trump administration demolish exchange\n",
      "Prediction: REAL (p=0.99)\n",
      "\t + Sample: house gop budget gimmick six men green tie took stage house television studio tuesday house budget committee chairman tom price slight leprechaun man silver hair dark eyebrow approached microphone good mor top mornin ya price announced happy st patrick day altogether fitting republican rolled budget festival inebriation honor man magically apocryphally banished snake ireland republican done budget le fantastic employed lucky charm mystical pot gold make appear sober balancing budget actually rely gimmick creative accounting trick balance budget house republican say introduction fiscal budget true budget rely gimmick budget gimmick pretend keep strict limit defense spending called sequestration pump ten billion extra dollar slush fund called overseas contingency operation mean fund count emergency spending part pentagon budget assumes current tax cut allowed expire scheduled would amount billion tax increase nobody belief would allowed go effect proposes repeal obamacare count revenue saving obamacare law remained effect claim save trillion year fine print budget plan instruction committee asks identify billion saving time assumes trillion cut category known mandatory program specify cut would relies billion additional revenue dynamic scoring generous accounting method account billion plan negotiated increase doctor payment medicare extend child health care program difficulty concealing sleight hand might explain price hurry leave news conference tuesday predecessor rep paul ryan r wi liked give lengthy seminar conservative budgeting theory price took question six minute aide hollered last question chairman gone minute later reporter gave chase leprechaun budget pas one asked think price said locating confidence sure absolutely latest instance republican discovering difficult govern unified control congress past four year budget debut academic exercise would never agreement republican house democratic senate budget might actually mean something firebrand elected past three election need show would handle country finance turn govern much like came legislative smoke mirror rep rob woodall r ga one stage observed folk playing opportunity first time short congressional career actually bring budget united state playing good verb occasion price georgia republican ran conservative republican study committee delivered long statement imparting assurance believe america least three time held page budget camera minute preamble questioning quickly got tricky price ask committee come billion saving floor ceiling price said adding something opportunity provide positive solution american people desire andy taylor associated press asked billion tax increase obamacare revenue assumed budget believe american people believe growth replied price predicting higher expected economic growth would boost tax revenue jonathan weisman new york time asked price would detail trillion mandatory cut budget identify take peek balanced budget stronger america price replied holding budget camera looking weisman said specify sort trick republican longer get away charge read dana milbank archive follow twitter subscribe update facebook\n",
      "Prediction: REAL (p=0.95)\n",
      "\t + Sample: identity isi terrorist known jihadi john reportedly revealed true identity isi terrorist known jihadi john appeared several video showing beheading hostage reportedly revealed washington post first reported thursday citing friend human right worker familiar case man real name mohammed emwazi west london man detained counterterror official britain least two u government source spoke reuters thursday said investigator believe man emwazi according washington post bbc emwazi born kuwait studied computer programming university westminster university confirmed student name graduated allegation true shocked sickened news university said statement emwazi also thought traveled syria sometime around bbc reported british intelligence previously identified man chosen disclose name operational reason commander richard walton london metropolitan police counter terrorism command released statement saying previously asked medium outlet speculate detail investigation basis life risk going confirm identity anyone stage give update progress live counter terrorism investigation london based cage work muslim conflict british intelligence service said thursday research director asim qureshi saw strong similarity emwazi jihadi john hood worn militant way could percent certain center study radicalization political violence king college london closely track fighter syria also said believed identification correct masked hooded terrorist achieved instant notoriety appeared video released isi last august showed beheading american journalist james foley time many commentator analyst remarked man distinct london accent man believed appeared video showed beheading hostage including american journalist steven sotloff british aid worker david haines british taxi driver alan henning american aid worker peter kassig known abdul rahman apparent conversion islam captivity man recent appearance came last month video japanese hostage kenji goto haruna yukawa men also killed terror group terrorist given nickname jihadi john interview former isi hostage revealed part group british jihadist guarded hostage dubbed beatles bbc reported emwazi believed associate known terror suspect traveled somalia allegedly linked funding network somali based militant group al shabaab cage said contact emwazi two year accused british intelligence service harassing said alleged british spy preventing traveling country birth kuwait planned marry one answered door brick row house west london emwazi family alleged lived neighbor surrounding area public housing project either declined comment said know family neighbor janine kintenda said lived area year shocked news oh god told associated press lifting hand mouth bad bad shiraz maher king college radicalization center said investigating whether emwazi among group young west londoner traveled syria many dead including mohammad el araj ibrahim al mazwagi choukri ellekhlifi killed said emwazi background similar british jihadis disproved idea guy impoverished coming deprived background large upwardly mobile people well educated said associated press contributed report\n",
      "------------------------------\n",
      "\n"
     ]
    }
   ],
   "source": [
    "#title = input(\"Enter a news title to classify: \")\n",
    "classifier = classifier.to(\"cpu\")\n",
    "\n",
    "for truth, sample_group in val_samples.items():\n",
    "    print(f\"True Category: {truth}\")\n",
    "    print(\"=\"*30)\n",
    "    for sample in sample_group:\n",
    "        prediction = predict_category(sample, classifier, \n",
    "                                      vectorizer, dataset._max_seq_length)\n",
    "        print(\"Prediction: {} (p={:0.2f})\".format(prediction['category'],\n",
    "                                                  prediction['probability']))\n",
    "        print(\"\\t + Sample: {}\".format(sample))\n",
    "    print(\"-\"*30 + \"\\n\")"
   ]
  },
  {
   "cell_type": "markdown",
   "metadata": {},
   "source": [
    "### Excercise:\n",
    "\n",
    "1. Change F.max_pool1d() to F.avg_pool1d().\n",
    "2. Change use_glove=True to use_glove=False.\n",
    "3. Change other hyperparameters.\n"
   ]
  }
 ],
 "metadata": {
  "kernelspec": {
   "display_name": "Python 3 (ipykernel)",
   "language": "python",
   "name": "python3"
  },
  "language_info": {
   "codemirror_mode": {
    "name": "ipython",
    "version": 3
   },
   "file_extension": ".py",
   "mimetype": "text/x-python",
   "name": "python",
   "nbconvert_exporter": "python",
   "pygments_lexer": "ipython3",
   "version": "3.9.13"
  },
  "toc": {
   "colors": {
    "hover_highlight": "#DAA520",
    "running_highlight": "#FF0000",
    "selected_highlight": "#FFD700"
   },
   "moveMenuLeft": true,
   "nav_menu": {
    "height": "138px",
    "width": "252px"
   },
   "navigate_menu": true,
   "number_sections": true,
   "sideBar": true,
   "skip_h1_title": false,
   "threshold": "5",
   "title_cell": "Table of Contents",
   "title_sidebar": "Contents",
   "toc_cell": false,
   "toc_position": {},
   "toc_section_display": "block",
   "toc_window_display": false
  }
 },
 "nbformat": 4,
 "nbformat_minor": 2
}
