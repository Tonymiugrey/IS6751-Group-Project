{
 "cells": [
  {
   "cell_type": "markdown",
   "metadata": {},
   "source": [
    "# CNN Fake News"
   ]
  },
  {
   "cell_type": "markdown",
   "metadata": {},
   "source": [
    "## Imports"
   ]
  },
  {
   "cell_type": "code",
   "execution_count": 1,
   "metadata": {},
   "outputs": [
    {
     "name": "stderr",
     "output_type": "stream",
     "text": [
      "[nltk_data] Downloading package stopwords to\n",
      "[nltk_data]     C:\\Users\\ieie\\AppData\\Roaming\\nltk_data...\n",
      "[nltk_data]   Package stopwords is already up-to-date!\n",
      "[nltk_data] Downloading package wordnet to\n",
      "[nltk_data]     C:\\Users\\ieie\\AppData\\Roaming\\nltk_data...\n",
      "[nltk_data]   Package wordnet is already up-to-date!\n",
      "[nltk_data] Downloading package punkt to\n",
      "[nltk_data]     C:\\Users\\ieie\\AppData\\Roaming\\nltk_data...\n",
      "[nltk_data]   Package punkt is already up-to-date!\n",
      "[nltk_data] Downloading package omw-1.4 to\n",
      "[nltk_data]     C:\\Users\\ieie\\AppData\\Roaming\\nltk_data...\n",
      "[nltk_data]   Package omw-1.4 is already up-to-date!\n"
     ]
    }
   ],
   "source": [
    "import os\n",
    "from argparse import Namespace\n",
    "from collections import Counter\n",
    "import json\n",
    "import re\n",
    "import string\n",
    "\n",
    "import numpy as np\n",
    "import pandas as pd\n",
    "import torch\n",
    "import torch.nn as nn\n",
    "import torch.nn.functional as F\n",
    "import torch.optim as optim\n",
    "from torch.utils.data import Dataset, DataLoader\n",
    "from tqdm.notebook import tqdm\n",
    "\n",
    "import nltk\n",
    "nltk.download('stopwords')\n",
    "nltk.download('wordnet')\n",
    "nltk.download('punkt')\n",
    "nltk.download('omw-1.4')\n",
    "from nltk.corpus import stopwords # remove stopword\n",
    "from nltk.stem import WordNetLemmatizer\n",
    "from nltk.util import ngrams\n",
    "from nltk import word_tokenize"
   ]
  },
  {
   "cell_type": "markdown",
   "metadata": {},
   "source": [
    "## Data Vectorization classes"
   ]
  },
  {
   "cell_type": "markdown",
   "metadata": {},
   "source": [
    "### The Vocabulary"
   ]
  },
  {
   "cell_type": "code",
   "execution_count": 2,
   "metadata": {},
   "outputs": [],
   "source": [
    "class Vocabulary(object):\n",
    "    \"\"\"Class to process text and extract vocabulary for mapping\"\"\"\n",
    "\n",
    "    def __init__(self, token_to_idx=None):\n",
    "        \"\"\"\n",
    "        Args:\n",
    "            token_to_idx (dict): a pre-existing map of tokens to indices\n",
    "        \"\"\"\n",
    "\n",
    "        # news_vocab._token_to_idx: {'<MASK>': 0, '<UNK>': 1, '<BEGIN>': 2, '<END>': 3, 'jobs': 4, 'tax': 5, 'cuts': 6,  \n",
    "        #                             ......, 'shiite': 3407, 'ghraib': 3408}\n",
    "        # category_vocab._token_to_idx: {'Business': 0, 'Sci/Tech': 1, 'Sports': 2, 'World': 3}\n",
    "        \n",
    "        if token_to_idx is None:\n",
    "            token_to_idx = {}\n",
    "        self._token_to_idx = token_to_idx\n",
    "\n",
    "        self._idx_to_token = {idx: token \n",
    "                              for token, idx in self._token_to_idx.items()}\n",
    "        \n",
    "    def add_token(self, token):\n",
    "        \"\"\"Update mapping dicts based on the token.\n",
    "\n",
    "        Args:\n",
    "            token (str): the item to add into the Vocabulary\n",
    "        Returns:\n",
    "            index (int): the integer corresponding to the token\n",
    "        \"\"\"\n",
    "        if token in self._token_to_idx:\n",
    "            index = self._token_to_idx[token]\n",
    "        else:\n",
    "            index = len(self._token_to_idx)\n",
    "            self._token_to_idx[token] = index\n",
    "            self._idx_to_token[index] = token\n",
    "        return index\n",
    "            \n",
    "    def lookup_token(self, token):\n",
    "        \"\"\"Retrieve the index associated with the token \n",
    "        \n",
    "        Args:\n",
    "            token (str): the token to look up \n",
    "        Returns:\n",
    "            index (int): the index corresponding to the token\n",
    "        \"\"\"\n",
    "        return self._token_to_idx[token]\n",
    "\n",
    "    def lookup_index(self, index):\n",
    "        \"\"\"Return the token associated with the index\n",
    "        \n",
    "        Args: \n",
    "            index (int): the index to look up\n",
    "        Returns:\n",
    "            token (str): the token corresponding to the index\n",
    "        Raises:\n",
    "            KeyError: if the index is not in the Vocabulary\n",
    "        \"\"\"\n",
    "        if index not in self._idx_to_token:\n",
    "            raise KeyError(\"the index (%d) is not in the Vocabulary\" % index)\n",
    "        return self._idx_to_token[index]\n",
    "\n",
    "    def __str__(self):\n",
    "        return \"<Vocabulary(size=%d)>\" % len(self)\n",
    "\n",
    "    def __len__(self):\n",
    "        return len(self._token_to_idx)"
   ]
  },
  {
   "cell_type": "code",
   "execution_count": 3,
   "metadata": {},
   "outputs": [],
   "source": [
    "class SequenceVocabulary(Vocabulary):\n",
    "    def __init__(self, token_to_idx=None, unk_token=\"<UNK>\",\n",
    "                 mask_token=\"<MASK>\", begin_seq_token=\"<BEGIN>\",\n",
    "                 end_seq_token=\"<END>\"):\n",
    "\n",
    "        super(SequenceVocabulary, self).__init__(token_to_idx)\n",
    "\n",
    "        self._mask_token = mask_token             # for paddding, e.g., Wall St. Bears Claw Back Into the Black (Reuters)\n",
    "                                                  #               -> [2, 5, 6, 10, 10, 8, 7, 9, 19, ......., 3, 0, 0, 0, ..., 0]\n",
    "        self._unk_token = unk_token\n",
    "        self._begin_seq_token = begin_seq_token\n",
    "        self._end_seq_token = end_seq_token\n",
    "\n",
    "        self.mask_index = self.add_token(self._mask_token)            # mask_index is 0\n",
    "        self.unk_index = self.add_token(self._unk_token)              # unk_index is 1\n",
    "        self.begin_seq_index = self.add_token(self._begin_seq_token)  # begin_seq_index is 2\n",
    "        self.end_seq_index = self.add_token(self._end_seq_token)      # end_seq_index is 3\n",
    "\n",
    "    def lookup_token(self, token):\n",
    "        \"\"\"Retrieve the index associated with the token \n",
    "          or the UNK index if token isn't present.\n",
    "        \n",
    "        Args:\n",
    "            token (str): the token to look up \n",
    "        Returns:\n",
    "            index (int): the index corresponding to the token\n",
    "        Notes:\n",
    "            `unk_index` needs to be >=0 (having been added into the Vocabulary) \n",
    "              for the UNK functionality \n",
    "        \"\"\"\n",
    "        if self.unk_index >= 0:\n",
    "            return self._token_to_idx.get(token, self.unk_index)\n",
    "        else:\n",
    "            return self._token_to_idx[token]"
   ]
  },
  {
   "cell_type": "markdown",
   "metadata": {},
   "source": [
    "### The Vectorizer"
   ]
  },
  {
   "cell_type": "code",
   "execution_count": 4,
   "metadata": {},
   "outputs": [],
   "source": [
    "class NewsVectorizer(object):\n",
    "    \"\"\" The Vectorizer which coordinates the Vocabularies and puts them to use\"\"\"    \n",
    "    def __init__(self, news_vocab, category_vocab):\n",
    "        self.news_vocab = news_vocab\n",
    "        self.category_vocab = category_vocab\n",
    "\n",
    "    def vectorize(self, text, vector_length=-1):\n",
    "        \"\"\"\n",
    "        Args:\n",
    "            text (str): the string of words separated by a space\n",
    "            vector_length (int): an argument for forcing the length of index vector\n",
    "        Returns:\n",
    "            the vetorized text (numpy.array)\n",
    "        \"\"\"\n",
    "        \"\"\"    \n",
    "        mask_index is 0\n",
    "        unk_index is 1\n",
    "        begin_seq_index is 2\n",
    "        end_seq_index is 3\n",
    "        \n",
    "        When text is \"Wall St. Bears Claw Back Into the Black (Reuters)\"; max vector length is 29 in current dataset \n",
    "        \n",
    "        out_vector = [2, 5, 6, 10, 10, 8, 7, 9, 19, ......., 3, 0, 0, 0, ..., 0]\n",
    "        \n",
    "        \"\"\"\n",
    "        \n",
    "        indices = [self.news_vocab.begin_seq_index]\n",
    "        indices.extend(self.news_vocab.lookup_token(token) \n",
    "                       for token in text.split(\" \"))\n",
    "        indices.append(self.news_vocab.end_seq_index)\n",
    "\n",
    "        if vector_length < 0:\n",
    "            vector_length = len(indices)\n",
    "\n",
    "        out_vector = np.zeros(vector_length, dtype=np.int64)\n",
    "        out_vector[:len(indices)] = indices\n",
    "        out_vector[len(indices):] = self.news_vocab.mask_index\n",
    "\n",
    "        return out_vector\n",
    "\n",
    "    @classmethod\n",
    "    def from_dataframe(cls, news_df, cutoff=25):\n",
    "        \"\"\"Instantiate the vectorizer from the dataset dataframe\n",
    "        \n",
    "        Args:\n",
    "            news_df (pandas.DataFrame): the target dataset\n",
    "            cutoff (int): frequency threshold for including in Vocabulary \n",
    "        Returns:\n",
    "            an instance of the NewsVectorizer\n",
    "        \"\"\"\n",
    "        category_vocab = Vocabulary()        \n",
    "        for category in sorted(set(news_df.category)):\n",
    "            category_vocab.add_token(category)\n",
    "\n",
    "        word_counts = Counter()\n",
    "        for text in news_df.text:\n",
    "            for token in text.split(\" \"):\n",
    "                if token not in string.punctuation:\n",
    "                    word_counts[token] += 1\n",
    "        \n",
    "        news_vocab = SequenceVocabulary()\n",
    "        for word, word_count in word_counts.items():\n",
    "            if word_count >= cutoff:\n",
    "                news_vocab.add_token(word)\n",
    "        \n",
    "        return cls(news_vocab, category_vocab)"
   ]
  },
  {
   "cell_type": "markdown",
   "metadata": {},
   "source": [
    "### The Dataset"
   ]
  },
  {
   "cell_type": "code",
   "execution_count": 5,
   "metadata": {},
   "outputs": [
    {
     "data": {
      "text/plain": [
       "'glaxo settle paxil suicide pill suit new york reuters glaxosmithkline plc href target stock quickinfo fullquote l agreed release clinical study drug settle lawsuit accused withholding negative information antidepressant paxil new york attorney general office said thursday'"
      ]
     },
     "execution_count": 5,
     "metadata": {},
     "output_type": "execute_result"
    }
   ],
   "source": [
    "def text_preprocessing(text):\n",
    "    text = text.lower() # case folding\n",
    "    text = re.sub('&\\w*\\;\\w*', '', text)\n",
    "    text = re.sub('https?://\\S+|www\\.\\S+', '', text)\n",
    "    text = re.sub('\\[.*?\\]', '', text)\n",
    "    text = re.sub('<.*?>+', '', text)\n",
    "    text = re.sub('\\n', '', text)\n",
    "    text = re.sub(r\"[^a-z]+\", r\" \", text) # Regulation, remove special charecters\n",
    "    stop_words = set(stopwords.words('english'))\n",
    "    tokens = word_tokenize(text)\n",
    "    lemmatizer=WordNetLemmatizer()\n",
    "    # remove stopwords and lemmatization\n",
    "    result = [lemmatizer.lemmatize(i) for i in tokens if not i in stop_words]\n",
    "    result = result[:1000]\n",
    "    '''\n",
    "    # bigram\n",
    "    bigram_result = []\n",
    "    bigram_list = ngrams(result,2)\n",
    "    for word_set in bigram_list:\n",
    "        for word in word_set:\n",
    "            bigram_result.append(word)\n",
    "    '''\n",
    "    return result\n",
    "\n",
    "test_str_1 = \"This is sentence to test the effect of preprocessing... Yeah~\\nCool!fac  feae ge fe ga 🪣🛀🎀 ☏☢︎⏥␘⍎ (>╹ω╹<)喵\"\n",
    "test_str_2 = \"Glaxo Settles Paxil 'Suicide Pill' Suit.  NEW YORK (Reuters) - GlaxoSmithKline Plc &lt;A HREF=http://www.investor.reuters.com/FullQuote.aspx?ticker=GSK.L target=/stocks/quickinfo/fullquote\"\"&gt;GSK.L&lt;/A&gt; has agreed  to release all clinical studies of its drugs to settle a  lawsuit that accused it of withholding negative information  about the antidepressant Paxil, the New York Attorney General's  office said on Thursday.\"\n",
    "list = text_preprocessing(test_str_2)\n",
    "' '.join(list)"
   ]
  },
  {
   "cell_type": "code",
   "execution_count": 6,
   "metadata": {},
   "outputs": [],
   "source": [
    "class NewsDataset(Dataset):\n",
    "    def __init__(self, news_df, vectorizer):\n",
    "        \"\"\"\n",
    "        Args:\n",
    "            news_df (pandas.DataFrame): the dataset\n",
    "            vectorizer (NewsVectorizer): vectorizer instatiated from dataset\n",
    "        \"\"\"\n",
    "        self.news_df = news_df\n",
    "        self._vectorizer = vectorizer\n",
    "\n",
    "        # +1 if only using begin_seq, +2 if using both begin and end seq tokens\n",
    "        measure_len = lambda context: len(context.split(\" \"))\n",
    "        self._max_seq_length = max(map(measure_len, news_df.text)) + 2\n",
    "        \n",
    "\n",
    "        self.train_df = self.news_df[self.news_df.split=='train']\n",
    "        self.train_size = len(self.train_df)\n",
    "\n",
    "        self.val_df = self.news_df[self.news_df.split=='val']\n",
    "        self.validation_size = len(self.val_df)\n",
    "\n",
    "        self.test_df = self.news_df[self.news_df.split=='test']\n",
    "        self.test_size = len(self.test_df)\n",
    "\n",
    "        self._lookup_dict = {'train': (self.train_df, self.train_size),\n",
    "                             'val': (self.val_df, self.validation_size),\n",
    "                             'test': (self.test_df, self.test_size)}\n",
    "\n",
    "        self.set_split('train')\n",
    "\n",
    "        # Class weights\n",
    "        class_counts = news_df.category.value_counts().to_dict()\n",
    "        def sort_key(item):\n",
    "            return self._vectorizer.category_vocab.lookup_token(item[0])\n",
    "        sorted_counts = sorted(class_counts.items(), key=sort_key)\n",
    "        frequencies = [count for _, count in sorted_counts]\n",
    "        self.class_weights = 1.0 / torch.tensor(frequencies, dtype=torch.float32)\n",
    "        \n",
    "        \n",
    "    @classmethod\n",
    "    def load_dataset_and_make_vectorizer(cls, news_csv):\n",
    "        \"\"\"Load dataset and make a new vectorizer from scratch\n",
    "        \n",
    "        Args:\n",
    "            surname_csv (str): location of the dataset\n",
    "        Returns:\n",
    "            an instance of SurnameDataset\n",
    "        \"\"\"\n",
    "        news_df = pd.read_csv(news_csv)\n",
    "        \n",
    "        for index, text in enumerate(news_df.text):\n",
    "            processed_list = text_preprocessing(text)\n",
    "            news_df.text[index] = ' '.join(processed_list)\n",
    "\n",
    "        train_news_df = news_df[news_df.split=='train']\n",
    "        return cls(news_df, NewsVectorizer.from_dataframe(train_news_df))\n",
    "\n",
    "    def get_vectorizer(self):\n",
    "        \"\"\" returns the vectorizer \"\"\"\n",
    "        return self._vectorizer\n",
    "\n",
    "    def set_split(self, split=\"train\"):\n",
    "        \"\"\" selects the splits in the dataset using a column in the dataframe \"\"\"\n",
    "        self._target_split = split\n",
    "        self._target_df, self._target_size = self._lookup_dict[split]\n",
    "\n",
    "    def __len__(self):\n",
    "        return self._target_size\n",
    "\n",
    "    def __getitem__(self, index):\n",
    "        \"\"\"the primary entry point method for PyTorch datasets\n",
    "        \n",
    "        Args:\n",
    "            index (int): the index to the data point \n",
    "        Returns:\n",
    "            a dictionary holding the data point's features (x_data) and label (y_target)\n",
    "        \"\"\"\n",
    "        row = self._target_df.iloc[index]\n",
    "\n",
    "        news_vector = \\\n",
    "            self._vectorizer.vectorize(row.text, self._max_seq_length)\n",
    "\n",
    "        category_index = \\\n",
    "            self._vectorizer.category_vocab.lookup_token(row.category)\n",
    "\n",
    "        return {'x_data': news_vector,     # e.g., \"Wall St. Bears Claw Back Into the Black (Reuters)\" \n",
    "                                            # -> [2, 5, 6, 10, 10, 8, 7, 9, 19, ......., 3, 0, 0, 0, ..., 0]\n",
    "                'y_target': category_index} # e.g., 2\n",
    "\n",
    "    def get_num_batches(self, batch_size):\n",
    "        \"\"\"Given a batch size, return the number of batches in the dataset\n",
    "        \n",
    "        Args:\n",
    "            batch_size (int)\n",
    "        Returns:\n",
    "            number of batches in the dataset\n",
    "        \"\"\"\n",
    "        return len(self) // batch_size\n",
    "\n",
    "def generate_batches(dataset, batch_size, shuffle=True,\n",
    "                     drop_last=True, device=\"cpu\"): \n",
    "    \"\"\"\n",
    "    A generator function which wraps the PyTorch DataLoader. It will \n",
    "      ensure each tensor is on the write device location.\n",
    "    \"\"\"\n",
    "    dataloader = DataLoader(dataset=dataset, batch_size=batch_size,\n",
    "                            shuffle=shuffle, drop_last=drop_last)\n",
    "\n",
    "    for data_dict in dataloader:\n",
    "        out_data_dict = {}\n",
    "        for name, tensor in data_dict.items():\n",
    "            out_data_dict[name] = data_dict[name].to(device)\n",
    "        yield out_data_dict"
   ]
  },
  {
   "cell_type": "markdown",
   "metadata": {},
   "source": [
    "## The Model: NewsClassifier"
   ]
  },
  {
   "cell_type": "code",
   "execution_count": 7,
   "metadata": {},
   "outputs": [],
   "source": [
    "class NewsClassifier(nn.Module):\n",
    "    def __init__(self, embedding_size, num_embeddings, num_channels, \n",
    "                 hidden_dim, num_classes, dropout_p, \n",
    "                 pretrained_embeddings=None, padding_idx=0):\n",
    "        \"\"\"\n",
    "        Args:\n",
    "            embedding_size (int): size of the embedding vectors\n",
    "            num_embeddings (int): number of embedding vectors\n",
    "            filter_width (int): width of the convolutional kernels\n",
    "            num_channels (int): number of convolutional kernels per layer\n",
    "            hidden_dim (int): the size of the hidden dimension\n",
    "            num_classes (int): the number of classes in classification\n",
    "            dropout_p (float): a dropout parameter \n",
    "            pretrained_embeddings (numpy.array): previously trained word embeddings\n",
    "                default is None. If provided, \n",
    "            padding_idx (int): an index representing a null position\n",
    "        \"\"\"\n",
    "        super(NewsClassifier, self).__init__()\n",
    "\n",
    "        if pretrained_embeddings is None:\n",
    "            self.emb = nn.Embedding(embedding_dim=embedding_size,   # 100\n",
    "                                    num_embeddings=num_embeddings,  # 3409\n",
    "                                    padding_idx=padding_idx)        \n",
    "        else:\n",
    "            pretrained_embeddings = torch.from_numpy(pretrained_embeddings).float()\n",
    "            self.emb = nn.Embedding.from_pretrained(pretrained_embeddings, freeze=True) # when freeze=True (default), \n",
    "                                                                           # the tensor does not get updated in the learning process.\n",
    "               \n",
    "        # in_channels: embedding_size; out_channels: # of filters; kernel_size = n-gram size\n",
    "        # number of parameters: (# of filters, embedding_size, n-gram size), (100, 100, 2) for 2-gram\n",
    "        self.conv1d_4gram = nn.Conv1d(in_channels=embedding_size, out_channels=num_channels, kernel_size=4)       \n",
    "        self.conv1d_3gram = nn.Conv1d(in_channels=embedding_size, out_channels=num_channels, kernel_size=3)                          \n",
    "        self.conv1d_2gram = nn.Conv1d(in_channels=embedding_size, out_channels=num_channels, kernel_size=2)                   \n",
    "\n",
    "        self._dropout_p = dropout_p\n",
    "        self.fc1 = nn.Linear(num_channels*3, hidden_dim) # input:concatination of conv1d_4gram, conv1d_3gram, conv1d_2gram outputs \n",
    "        self.fc2 = nn.Linear(hidden_dim, num_classes)\n",
    "\n",
    "    def forward(self, x_in, apply_softmax=False):\n",
    "        \"\"\"The forward pass of the classifier\n",
    "        \n",
    "        Args:\n",
    "            x_in (torch.Tensor): an input data tensor. \n",
    "                x_in.shape should be (batch, dataset._max_seq_length)\n",
    "            apply_softmax (bool): a flag for the softmax activation\n",
    "                should be false if used with the Cross Entropy losses\n",
    "        Returns:\n",
    "            the resulting tensor. tensor.shape should be (batch, num_classes)\n",
    "        \"\"\"\n",
    "        \n",
    "        # embed and permute so features are channels\n",
    "        x_embedded = self.emb(x_in).permute(0, 2, 1)    # (batch, seq_len) -> (batch, seq_len, features)\n",
    "                                                        # rearange (batch, seq_len, features) to (batch, features, seq_len) \n",
    "                                                        # E.g.,    (128,   29,      100)      to (128,   100,      29)\n",
    "\n",
    "        features = F.elu(self.conv1d_4gram(x_embedded)) # features: (batch, num_channels, ?); e.g., (128, 100, ?)\n",
    "                                                        # activation function similar to leaky RELU(); can use F.relu() instead\n",
    "        # max/average and remove the extra dimension\n",
    "        remaining_size = features.size(dim=2)          # remaining_size: ? in (batch, num_channels, ?)\n",
    "        features_4gram = F.max_pool1d(features, remaining_size).squeeze(dim=2) # features_4gram: (batch, num_channels);kernel_size=remaining_size   \n",
    "        #features_4gram = F.avg_pool1d(features, remaining_size).squeeze(dim=2)   \n",
    "        \n",
    "        features = F.elu(self.conv1d_3gram(x_embedded)) # features: (batch, num_channels, ?); e.g., (128, 100, ?)\n",
    "        remaining_size = features.size(dim=2)          # remaining_size: ? in (batch, num_channels, ?)\n",
    "        features_3gram = F.max_pool1d(features, remaining_size).squeeze(dim=2)    # features_3gram: (batch, num_channels)\n",
    "\n",
    "        features = F.elu(self.conv1d_2gram(x_embedded)) # features: (batch, num_channels, ?); e.g., (128, 100, ?)\n",
    "        remaining_size = features.size(dim=2)          # remaining_size: ? in (batch, num_channels, ?)\n",
    "        features_2gram = F.max_pool1d(features, remaining_size).squeeze(dim=2)    # features_2gram: (batch, num_channels) \n",
    " \n",
    "        features = torch.cat([features_4gram, features_3gram, features_2gram], dim=1)\n",
    "            \n",
    "        features = F.dropout(features, p=self._dropout_p, training=self.training)\n",
    "        \n",
    "        # mlp classifier\n",
    "        intermediate_vector = F.dropout(F.relu(self.fc1(features)), p=self._dropout_p, training=self.training)\n",
    "        prediction_vector = self.fc2(intermediate_vector)  # (batch, num_classes)\n",
    "\n",
    "        if apply_softmax:\n",
    "            prediction_vector = F.softmax(prediction_vector, dim=1)\n",
    "\n",
    "        return prediction_vector"
   ]
  },
  {
   "cell_type": "markdown",
   "metadata": {},
   "source": [
    "## Training Routine"
   ]
  },
  {
   "cell_type": "markdown",
   "metadata": {},
   "source": [
    "### Helper functions"
   ]
  },
  {
   "cell_type": "code",
   "execution_count": 8,
   "metadata": {},
   "outputs": [],
   "source": [
    "def make_train_state(args):\n",
    "    return {'stop_early': False,\n",
    "            'early_stopping_step': 0,\n",
    "            'early_stopping_best_val': 1e8,\n",
    "            'learning_rate': args.learning_rate,\n",
    "            'epoch_index': 0,\n",
    "            'train_loss': [],\n",
    "            'train_acc': [],\n",
    "            'val_loss': [],\n",
    "            'val_acc': [],\n",
    "            'test_loss': -1,\n",
    "            'test_acc': -1,\n",
    "            'model_filename': args.model_state_file}\n",
    "\n",
    "def update_train_state(args, model, train_state):\n",
    "    \"\"\"Handle the training state updates.\n",
    "\n",
    "    Components:\n",
    "     - Early Stopping: Prevent overfitting.\n",
    "     - Model Checkpoint: Model is saved if the model is better\n",
    "\n",
    "    :param args: main arguments\n",
    "    :param model: model to train\n",
    "    :param train_state: a dictionary representing the training state values\n",
    "    :returns:\n",
    "        a new train_state\n",
    "    \"\"\"\n",
    "\n",
    "    # Save one model at least\n",
    "    if train_state['epoch_index'] == 0:\n",
    "        torch.save(model.state_dict(), train_state['model_filename'])\n",
    "        train_state['stop_early'] = False\n",
    "\n",
    "    # Save model if performance improved\n",
    "    elif train_state['epoch_index'] >= 1:\n",
    "        loss_tm1, loss_t = train_state['val_loss'][-2:]\n",
    "\n",
    "        # If loss worsened\n",
    "        if loss_t >= train_state['early_stopping_best_val']:\n",
    "            # Update step\n",
    "            train_state['early_stopping_step'] += 1\n",
    "        # Loss decreased\n",
    "        else:\n",
    "            # Save the best model\n",
    "            if loss_t < train_state['early_stopping_best_val']:\n",
    "                torch.save(model.state_dict(), train_state['model_filename'])\n",
    "                train_state['early_stopping_best_val'] = loss_t  # update 'early_stopping_best_val'\n",
    "\n",
    "            # Reset early stopping step\n",
    "            train_state['early_stopping_step'] = 0\n",
    "\n",
    "        # Stop early ?\n",
    "        train_state['stop_early'] = \\\n",
    "            train_state['early_stopping_step'] >= args.early_stopping_criteria\n",
    "\n",
    "    return train_state\n",
    "\n",
    "def compute_accuracy(y_pred, y_target):\n",
    "    _, y_pred_indices = y_pred.max(dim=1)\n",
    "    n_correct = torch.eq(y_pred_indices, y_target).sum().item()\n",
    "    return n_correct / len(y_pred_indices) * 100"
   ]
  },
  {
   "cell_type": "markdown",
   "metadata": {},
   "source": [
    "#### general utilities"
   ]
  },
  {
   "cell_type": "code",
   "execution_count": 9,
   "metadata": {},
   "outputs": [],
   "source": [
    "def set_seed_everywhere(seed, cuda, mps):\n",
    "    np.random.seed(seed)\n",
    "    torch.manual_seed(seed)\n",
    "    if cuda:\n",
    "        print(\"cuda manual seed\", seed)\n",
    "        torch.cuda.manual_seed_all(seed)\n",
    "    try:\n",
    "        if mps:\n",
    "            print(\"mps manual seed\", seed)\n",
    "            torch.mps.manual_seed(seed)\n",
    "    except:\n",
    "        pass\n",
    "\n",
    "def handle_dirs(dirpath):\n",
    "    if not os.path.exists(dirpath):\n",
    "        os.makedirs(dirpath)\n",
    "        \n",
    "def load_glove_from_file(glove_filepath):\n",
    "    \"\"\"\n",
    "    Load the GloVe embeddings \n",
    "    \n",
    "    Args:\n",
    "        glove_filepath (str): path to the glove embeddings file \n",
    "    Returns:\n",
    "        word_to_index (dict), embeddings (numpy.ndarary)\n",
    "    \"\"\"\n",
    "\n",
    "    word_to_index = {}\n",
    "    embeddings = []\n",
    "    with open(glove_filepath, \"r\", encoding='utf8') as fp:\n",
    "        for index, line in enumerate(fp):\n",
    "            line = line.split(\" \") # each line: word num1 num2 ...\n",
    "            word_to_index[line[0]] = index # word = line[0] \n",
    "            embedding_i = np.array([float(val) for val in line[1:]])\n",
    "            embeddings.append(embedding_i)\n",
    "    return word_to_index, np.stack(embeddings)\n",
    "\n",
    "def make_embedding_matrix(glove_filepath, words):\n",
    "    \"\"\"\n",
    "    Create embedding matrix for a specific set of words.\n",
    "    \n",
    "    Args:\n",
    "        glove_filepath (str): file path to the glove embeddigns\n",
    "        words (list): list of words in the dataset\n",
    "    \"\"\"\n",
    "    word_to_idx, glove_embeddings = load_glove_from_file(glove_filepath)\n",
    "    embedding_size = glove_embeddings.shape[1]\n",
    "    \n",
    "    final_embeddings = np.zeros((len(words), embedding_size))\n",
    "\n",
    "    for i, word in enumerate(words):\n",
    "        if word in word_to_idx:\n",
    "            final_embeddings[i, :] = glove_embeddings[word_to_idx[word]]\n",
    "        else:\n",
    "            embedding_i = torch.ones(1, embedding_size)\n",
    "            torch.nn.init.xavier_uniform_(embedding_i)\n",
    "            final_embeddings[i, :] = embedding_i\n",
    "\n",
    "    return final_embeddings"
   ]
  },
  {
   "cell_type": "markdown",
   "metadata": {},
   "source": [
    "### Settings and some prep work"
   ]
  },
  {
   "cell_type": "code",
   "execution_count": 10,
   "metadata": {},
   "outputs": [],
   "source": [
    "from argparse import Namespace"
   ]
  },
  {
   "cell_type": "code",
   "execution_count": 11,
   "metadata": {},
   "outputs": [
    {
     "name": "stdout",
     "output_type": "stream",
     "text": [
      "Expanded filepaths: \n",
      "\t../model_storage/Fake_News\\model_cnn_Fake_News.pth\n",
      "Using CUDA: True\n",
      "Using MPS: False\n",
      "cuda manual seed 1337\n"
     ]
    }
   ],
   "source": [
    "args = Namespace(\n",
    "    # Data and Path hyper parameters\n",
    "    news_csv=\"../data/processed/fake_or_real_news_with_splits.csv\",\n",
    "    model_state_file=\"model_cnn_Fake_News.pth\",\n",
    "    save_dir=\"../model_storage/Fake_News\",\n",
    "    # Model hyper parameters\n",
    "    glove_filepath='../data/glove/glove.6B.100d.txt', \n",
    "    use_glove=True,\n",
    "    embedding_size=100, \n",
    "    hidden_dim=100, \n",
    "    num_channels=100, \n",
    "    # Training hyper parameter\n",
    "    seed=1337, \n",
    "    learning_rate=0.001, \n",
    "    dropout_p=0.1, \n",
    "    batch_size=64, \n",
    "    num_epochs=100, \n",
    "    early_stopping_criteria=5, \n",
    "    # Runtime option\n",
    "    cuda=True,\n",
    "    mps=True, \n",
    "    catch_keyboard_interrupt=True, \n",
    "    reload_from_files=False,\n",
    "    expand_filepaths_to_save_dir=True\n",
    ") \n",
    "\n",
    "if args.expand_filepaths_to_save_dir:\n",
    "    args.model_state_file = os.path.join(args.save_dir,\n",
    "                                         args.model_state_file)    \n",
    "    print(\"Expanded filepaths: \")\n",
    "    print(\"\\t{}\".format(args.model_state_file))\n",
    "    \n",
    "# Check CUDA for Nvidia\n",
    "if not torch.cuda.is_available():\n",
    "    args.cuda = False\n",
    "\n",
    "# Check MPS for Mac\n",
    "try:\n",
    "    if not torch.backends.mps.is_available():\n",
    "        args.mps = False\n",
    "except:\n",
    "    args.mps = False\n",
    "\n",
    "args.device = torch.device(\"cuda\" if args.cuda else \"mps\" if args.mps else \"cpu\")\n",
    "print(\"Using CUDA: {}\".format(args.cuda))\n",
    "print(\"Using MPS: {}\".format(args.mps))\n",
    "\n",
    "# Set seed for reproducibility\n",
    "set_seed_everywhere(args.seed, args.cuda, args.mps)\n",
    "\n",
    "# handle dirs\n",
    "handle_dirs(args.save_dir)"
   ]
  },
  {
   "cell_type": "markdown",
   "metadata": {},
   "source": [
    "### Initializations"
   ]
  },
  {
   "cell_type": "code",
   "execution_count": 12,
   "metadata": {},
   "outputs": [],
   "source": [
    "args.use_glove = True"
   ]
  },
  {
   "cell_type": "code",
   "execution_count": 13,
   "metadata": {},
   "outputs": [
    {
     "name": "stderr",
     "output_type": "stream",
     "text": [
      "C:\\Users\\ieie\\AppData\\Local\\Temp\\ipykernel_22452\\1110265742.py:53: SettingWithCopyWarning: \n",
      "A value is trying to be set on a copy of a slice from a DataFrame\n",
      "\n",
      "See the caveats in the documentation: https://pandas.pydata.org/pandas-docs/stable/user_guide/indexing.html#returning-a-view-versus-a-copy\n",
      "  news_df.text[index] = ' '.join(processed_list)\n"
     ]
    },
    {
     "name": "stdout",
     "output_type": "stream",
     "text": [
      "Using pre-trained embeddings\n"
     ]
    }
   ],
   "source": [
    "# create dataset and vectorizer\n",
    "dataset = NewsDataset.load_dataset_and_make_vectorizer(args.news_csv)\n",
    "vectorizer = dataset.get_vectorizer()\n",
    "\n",
    "# Use GloVe or randomly initialized embeddings\n",
    "if args.use_glove:\n",
    "    words = vectorizer.news_vocab._token_to_idx.keys()  # 3409 unique words\n",
    "    embeddings = make_embedding_matrix(glove_filepath=args.glove_filepath,     # embeddings: (3409, 100)\n",
    "                                       words=words)\n",
    "    print(\"Using pre-trained embeddings\")\n",
    "else:\n",
    "    print(\"Not using pre-trained embeddings\")\n",
    "    embeddings = None\n",
    "\n",
    "classifier = NewsClassifier(embedding_size=args.embedding_size,          # e.g, 100\n",
    "                            num_embeddings=len(vectorizer.news_vocab),  # e.g., 3409\n",
    "                            num_channels=args.num_channels,              # e.g., 100\n",
    "                            hidden_dim=args.hidden_dim,                  # e.g., 100\n",
    "                            num_classes=len(vectorizer.category_vocab),  # e.g., 4\n",
    "                            dropout_p=args.dropout_p,                    # e.g., 0.1\n",
    "                            pretrained_embeddings=embeddings,\n",
    "                            padding_idx=0)"
   ]
  },
  {
   "cell_type": "code",
   "execution_count": 14,
   "metadata": {},
   "outputs": [
    {
     "name": "stdout",
     "output_type": "stream",
     "text": [
      "{'<MASK>': 0, '<UNK>': 1, '<BEGIN>': 2, '<END>': 3, 'nothing': 4, 'good': 5, 'come': 6, 'election': 7, 'posted': 8, 'november': 9, 'charles': 10, 'smith': 11, 'overwhelming': 12, 'consensus': 13, 'across': 14, 'political': 15, 'spectrum': 16, 'thing': 17, 'go': 18, 'like': 19, 'country': 20, 'deeply': 21, 'divided': 22, 'every': 23, 'institution': 24, 'two': 25, 'party': 26, 'mainstream': 27, 'medium': 28, 'department': 29, 'justice': 30, 'cover': 31, 'ups': 32, 'collusion': 33, 'worse': 34, 'win': 35, 'enter': 36, 'presidency': 37, 'without': 38, 'mandate': 39, 'nation': 40, 'corruption': 41, 'require': 42, 'hitting': 43, 'bottom': 44, 'drug': 45, 'incapable': 46, 'making': 47, 'truly': 48, 'positive': 49, 'change': 50, 'hit': 51, 'absolute': 52, 'tolerance': 53, 'corrupt': 54, 'system': 55, 'poisoning': 56, 'one': 57, 'injection': 58, 'cash': 59, 'pay': 60, 'play': 61, 'time': 62, 'core': 63, 'politics': 64, 'usual': 65, 'indeed': 66, 'flying': 67, 'cliff': 68, 'complete': 69, 'destruction': 70, 'continue': 71, 'self': 72, 'destructive': 73, 'path': 74, 'aid': 75, 'order': 76, 'expanded': 77, 'insider': 78, 'k': 79, 'street': 80, 'lobbyist': 81, 'army': 82, 'well': 83, 'paid': 84, 'pundit': 85, 'academic': 86, 'organ': 87, 'governance': 88, 'big': 89, 'money': 90, 'private': 91, 'sector': 92, 'capitalist': 93, 'dynasty': 94, 'foundation': 95, 'way': 96, 'anything': 97, 'establishment': 98, 'politico': 99, 'loses': 100, 'mere': 101, 'existence': 102, 'clinton': 103, 'trigger': 104, 'landslide': 105, 'loss': 106, 'tie': 107, 'candidate': 108, 'debate': 109, 'question': 110, 'etc': 111, 'alone': 112, 'cause': 113, 'lose': 114, 'refuse': 115, 'accept': 116, 'donation': 117, 'larger': 118, 'anyone': 119, 'entity': 120, 'beat': 121, 'goldman': 122, 'sachs': 123, 'saudi': 124, 'prince': 125, 'funded': 126, 'fund': 127, 'costly': 128, 'negative': 129, 'tv': 130, 'advertising': 131, 'campaign': 132, 'million': 133, 'contribution': 134, 'et': 135, 'al': 136, 'get': 137, 'point': 138, 'citizen': 139, 'voter': 140, 'stop': 141, 'systemic': 142, 'promise': 143, 'hope': 144, 'blitz': 145, 'easy': 146, 'blame': 147, 'law': 148, 'ultimately': 149, 'responsible': 150, 'enabling': 151, 'financial': 152, 'elite': 153, 'view': 154, 'msm': 155, 'half': 156, 'may': 157, 'actually': 158, 'cast': 159, 'mass': 160, 'rejection': 161, 'highest': 162, 'possible': 163, 'public': 164, 'hand': 165, 'fortune': 166, 'russia': 167, 'syria': 168, 'blamed': 169, 'idlib': 170, 'bombing': 171, 'hoax': 172, 'speaking': 173, 'international': 174, 'discussion': 175, 'club': 176, 'thursday': 177, 'putin': 178, 'said': 179, 'russian': 180, 'patience': 181, 'limit': 182, 'show': 183, 'n': 184, 'restraint': 185, 'far': 186, 'respond': 187, 'ed': 188, 'partner': 189, 'manner': 190, 'everything': 191, 'explained': 192, 'waiting': 193, 'given': 194, 'endless': 195, 'u': 196, 'provocation': 197, 'refusing': 198, 'mutual': 199, 'cooperation': 200, 'vital': 201, 'issue': 202, 'rejecting': 203, 'normal': 204, 'relation': 205, 'heading': 206, 'inevitably': 207, 'war': 208, 'unless': 209, 'challenged': 210, 'stopped': 211, 'stupid': 212, 'intelligence': 213, 'capability': 214, 'likely': 215, 'match': 216, 'america': 217, 'know': 218, 'eastern': 219, 'europe': 220, 'elsewhere': 221, 'middle': 222, 'east': 223, 'along': 224, 'virtually': 225, 'everywhere': 226, 'else': 227, 'pretending': 228, 'logic': 229, 'thinking': 230, 'washington': 231, 'day': 232, 'hillary': 233, 'obama': 234, 'virtual': 235, 'certainty': 236, 'fair': 237, 'mean': 238, 'latter': 239, 'theft': 240, 'longstanding': 241, 'tradition': 242, 'showing': 243, 'democracy': 244, 'pure': 245, 'fantasy': 246, 'screaming': 247, 'western': 248, 'headline': 249, 'syrian': 250, 'school': 251, 'province': 252, 'occurred': 253, 'supported': 254, 'terrorist': 255, 'attacked': 256, 'killing': 257, 'least': 258, 'six': 259, 'child': 260, 'many': 261, 'others': 262, 'exclusive': 263, 'rt': 264, 'investigation': 265, 'determined': 266, 'gas': 267, 'mine': 268, 'landed': 269, 'classroom': 270, 'launched': 271, 'controlled': 272, 'aleppo': 273, 'yet': 274, 'ignoring': 275, 'daily': 276, 'civilian': 277, 'government': 278, 'part': 279, 'city': 280, 'long': 281, 'internet': 282, 'access': 283, 'important': 284, 'information': 285, 'reliable': 286, 'independent': 287, 'source': 288, 'social': 289, 'commentator': 290, 'read': 291, 'paper': 292, 'ignorance': 293, 'reporting': 294, 'deplorable': 295, 'today': 296, 'beyond': 297, 'pale': 298, 'hard': 299, 'waste': 300, 'belief': 301, 'television': 302, 'news': 303, 'credible': 304, 'reader': 305, 'viewer': 306, 'listener': 307, 'systematically': 308, 'lied': 309, 'fare': 310, 'fit': 311, 'print': 312, 'broadcast': 313, 'editor': 314, 'reporter': 315, 'scam': 316, 'artist': 317, 'defense': 318, 'ministry': 319, 'spokesman': 320, 'general': 321, 'called': 322, 'video': 323, 'footage': 324, 'incident': 325, 'shown': 326, 'fake': 327, 'ten': 328, 'edited': 329, 'assembled': 330, 'together': 331, 'warplane': 332, 'area': 333, 'attack': 334, 'bomb': 335, 'existed': 336, 'damage': 337, 'inconsistent': 338, 'wall': 339, 'damaged': 340, 'ceiling': 341, 'desk': 342, 'chair': 343, 'blast': 344, 'would': 345, 'destroyed': 346, 'severely': 347, 'building': 348, 'inside': 349, 'swept': 350, 'away': 351, 'see': 352, 'photo': 353, 'drone': 354, 'roof': 355, 'concealed': 356, 'revealed': 357, 'set': 358, 'record': 359, 'straight': 360, 'leadership': 361, 'fell': 362, 'victim': 363, 'new': 364, 'deception': 365, 'qaeda': 366, 'affiliated': 367, 'white': 368, 'helmet': 369, 'perhaps': 370, 'orchestrated': 371, 'happened': 372, 'sinister': 373, 'anti': 374, 'agenda': 375, 'submit': 376, 'review': 377, 'globalization': 378, 'failing': 379, 'strike': 380, 'force': 381, 'jon': 382, 'begin': 383, 'piece': 384, 'three': 385, 'quote': 386, 'work': 387, 'progress': 388, 'underground': 389, 'basic': 390, 'principle': 391, 'state': 392, 'exists': 393, 'becomes': 394, 'twist': 395, 'real': 396, 'reach': 397, 'mind': 398, 'already': 399, 'word': 400, 'tree': 401, 'falling': 402, 'forest': 403, 'make': 404, 'sound': 405, 'user': 406, 'consumer': 407, 'want': 408, 'fall': 409, 'receives': 410, 'audio': 411, 'event': 412, 'dressed': 413, 'thousand': 414, 'different': 415, 'tends': 416, 'quality': 417, 'eventually': 418, 'person': 419, 'problem': 420, 'chronic': 421, 'liar': 422, 'press': 423, 'expose': 424, 'even': 425, 'though': 426, 'take': 427, 'surprisingly': 428, 'small': 429, 'push': 430, 'whole': 431, 'operation': 432, 'happening': 433, 'right': 434, 'front': 435, 'eye': 436, 'basis': 437, 'theater': 438, 'director': 439, 'producer': 440, 'think': 441, 'first': 442, 'rate': 443, 'job': 444, 'sadly': 445, 'gap': 446, 'growing': 447, 'outright': 448, 'non': 449, 'becoming': 450, 'apparent': 451, 'audience': 452, 'fool': 453, 'direct': 454, 'simply': 455, 'people': 456, 'sell': 457, 'soul': 458, 'found': 459, 'buyer': 460, 'transaction': 461, 'contain': 462, 'guarantee': 463, 'shelf': 464, 'life': 465, 'date': 466, 'approaching': 467, 'civilization': 468, 'petty': 469, 'rise': 470, 'nice': 471, 'plan': 472, 'let': 473, 'examine': 474, 'based': 475, 'profiling': 476, 'member': 477, 'analyzed': 478, 'shocking': 479, 'expected': 480, 'untold': 481, 'hour': 482, 'spent': 483, 'several': 484, 'year': 485, 'ago': 486, 'wrote': 487, 'tech': 488, 'begun': 489, 'since': 490, 'jeff': 491, 'ceo': 492, 'amazon': 493, 'bought': 494, 'post': 495, 'fire': 496, 'sale': 497, 'genius': 498, 'success': 499, 'mobile': 500, 'device': 501, 'multiple': 502, 'platform': 503, 'digital': 504, 'taking': 505, 'ad': 506, 'interest': 507, 'story': 508, 'thought': 509, 'irrelevant': 510, 'seen': 511, 'create': 512, 'bubble': 513, 'favorite': 514, 'little': 515, 'separate': 516, 'paradigm': 517, 'giant': 518, 'apple': 519, 'territory': 520, 'app': 521, 'deliver': 522, 'yahoo': 523, 'upcoming': 524, 'operating': 525, 'aim': 526, 'primary': 527, 'iphone': 528, 'say': 529, 'follows': 530, 'topic': 531, 'pull': 532, 'relevant': 533, 'specific': 534, 'journalism': 535, 'lab': 536, 'awesome': 537, 'power': 538, 'default': 539, 'distribution': 540, 'put': 541, 'entirely': 542, 'league': 543, 'hundred': 544, 'within': 545, 'present': 546, 'overall': 547, 'presentation': 548, 'outlet': 549, 'layer': 550, 'control': 551, 'fan': 552, 'prophet': 553, 'neo': 554, 'con': 555, 'rock': 556, 'conservative': 557, 'republican': 558, 'warm': 559, 'heart': 560, 'believe': 561, 'gridlock': 562, 'biggest': 563, 'concern': 564, 'congress': 565, 'done': 566, 'got': 567, 'moon': 568, 'tuned': 569, 'world': 570, 'minute': 571, 'idea': 572, 'convince': 573, 'global': 574, 'delivering': 575, 'host': 576, 'appropriate': 577, 'lie': 578, 'context': 579, 'fringe': 580, 'look': 581, 'food': 582, 'planning': 583, 'produce': 584, 'section': 585, 'cheer': 586, 'declaring': 587, 'temporary': 588, 'ban': 589, 'toxic': 590, 'monsanto': 591, 'dow': 592, 'experiment': 593, 'danger': 594, 'vaccine': 595, 'sorry': 596, 'count': 597, 'recognized': 598, 'demographic': 599, 'boy': 600, 'involved': 601, 'car': 602, 'crash': 603, 'science': 604, 'fiction': 605, 'near': 606, 'future': 607, 'search': 608, 'engine': 609, 'inquiry': 610, 'abc': 611, 'national': 612, 'rating': 613, 'giving': 614, 'spending': 615, 'le': 616, 'business': 617, 'desperately': 618, 'looking': 619, 'treating': 620, 'construct': 621, 'preference': 622, 'answer': 623, 'mr': 624, 'x': 625, 'studied': 626, 'live': 627, 'special': 628, 'brand': 629, 'truth': 630, 'going': 631, 'pitch': 632, 'full': 633, 'obsessed': 634, 'worthy': 635, 'goal': 636, 'profile': 637, 'top': 638, 'find': 639, 'exactly': 640, 'kind': 641, 'punch': 642, 'actual': 643, 'occurring': 644, 'pre': 645, 'robot': 646, 'split': 647, 'bit': 648, 'care': 649, 'really': 650, 'gross': 651, 'error': 652, 'multi': 653, 'tongue': 654, 'simultaneously': 655, 'dozen': 656, 'variation': 657, 'expect': 658, 'reality': 659, 'brother': 660, 'issuing': 661, 'single': 662, 'voice': 663, 'home': 664, 'population': 665, 'old': 666, 'technology': 667, 'achieving': 668, 'unity': 669, 'diversity': 670, 'pr': 671, 'propaganda': 672, 'excuse': 673, 'education': 674, 'however': 675, 'recognize': 676, 'become': 677, 'variety': 678, 'serve': 679, 'outcome': 680, 'technological': 681, 'trust': 682, 'prefer': 683, 'wow': 684, 'coverage': 685, 'border': 686, 'b': 687, 'fantastic': 688, 'exhibit': 689, 'type': 690, 'watched': 691, 'movie': 692, 'aerial': 693, 'combat': 694, 'c': 695, 'great': 696, 'woman': 697, 'made': 698, 'could': 699, 'practically': 700, 'taste': 701, 'drill': 702, 'cop': 703, 'gave': 704, 'demonstration': 705, 'gear': 706, 'shield': 707, 'communication': 708, 'flash': 709, 'auto': 710, 'rifle': 711, 'baton': 712, 'watch': 713, 'love': 714, 'e': 715, 'saw': 716, 'mild': 717, 'week': 718, 'weather': 719, 'channel': 720, 'tune': 721, 'ring': 722, 'need': 723, 'extend': 724, 'globalism': 725, 'priority': 726, 'major': 727, 'whatever': 728, 'everyone': 729, 'alt': 730, 'site': 731, 'wikileaks': 732, 'project': 733, 'veritas': 734, 'exposed': 735, 'crime': 736, 'reflects': 737, 'turning': 738, 'forcing': 739, 'awareness': 740, 'scandal': 741, 'another': 742, 'support': 743, 'isi': 744, 'pro': 745, 'collapse': 746, 'obamacare': 747, 'gmo': 748, 'pesticide': 749, 'result': 750, 'backed': 751, 'corner': 752, 'must': 753, 'defend': 754, 'build': 755, 'creating': 756, 'playing': 757, 'rest': 758, 'quite': 759, 'final': 760, 'note': 761, 'trump': 762, 'created': 763, 'perfect': 764, 'storm': 765, 'unprecedented': 766, 'root': 767, 'never': 768, 'lying': 769, 'sense': 770, 'entitlement': 771, 'desperation': 772, 'working': 773, 'brain': 774, 'cell': 775, 'regardless': 776, 'train': 777, 'left': 778, 'station': 779, 'mega': 780, 'collection': 781, 'outside': 782, 'matrix': 783, 'click': 784, 'author': 785, 'explosive': 786, 'exit': 787, 'congressional': 788, 'seat': 789, 'th': 790, 'district': 791, 'california': 792, 'maintains': 793, 'consulting': 794, 'practice': 795, 'client': 796, 'purpose': 797, 'expansion': 798, 'personal': 799, 'creative': 800, 'nominated': 801, 'prize': 802, 'worked': 803, 'investigative': 804, 'writing': 805, 'article': 806, 'medicine': 807, 'health': 808, 'cbs': 809, 'la': 810, 'weekly': 811, 'spin': 812, 'magazine': 813, 'stern': 814, 'newspaper': 815, 'delivered': 816, 'lecture': 817, 'seminar': 818, 'around': 819, 'sign': 820, 'free': 821, 'email': 822, 'com': 823, 'activist': 824, 'newsletter': 825, 'confidential': 826, 'report': 827, 'survive': 828, 'economic': 829, 'outlook': 830, 'introduce': 831, 'button': 832, 'delete': 833, 'en': 834, 'tuesday': 835, 'announced': 836, 'next': 837, 'version': 838, 'popular': 839, 'software': 840, 'include': 841, 'function': 842, 'quickly': 843, 'computer': 844, 'head': 845, 'product': 846, 'development': 847, 'simon': 848, 'williams': 849, 'fbi': 850, 'investigating': 851, 'quick': 852, 'instantly': 853, 'remove': 854, 'pc': 855, 'useful': 856, 'suddenly': 857, 'exchange': 858, 'girl': 859, 'account': 860, 'felt': 861, 'took': 862, 'grave': 863, 'dismissed': 864, 'sexual': 865, 'harassment': 866, 'everyday': 867, 'sort': 868, 'situation': 869, 'office': 870, 'due': 871, 'released': 872, 'reportedly': 873, 'inspired': 874, 'update': 875, 'continued': 876, 'routinely': 877, 'forget': 878, 'use': 879, 'adding': 880, 'bill': 881, 'close': 882, 'window': 883, 'history': 884, 'protect': 885, 'wife': 886, 'ever': 887, 'knowing': 888, 'monica': 889, 'lewinsky': 890, 'case': 891, 'regular': 892, 'prevent': 893, 'spouse': 894, 'finding': 895, 'return': 896, 'early': 897, 'catch': 898, 'mid': 899, 'pleasure': 900, 'customer': 901, 'icon': 902, 'thereby': 903, 'saving': 904, 'attempting': 905, 'significant': 906, 'approach': 907, 'industry': 908, 'expert': 909, 'expecting': 910, 'high': 911, 'best': 912, 'friday': 913, 'currently': 914, 'remember': 915, 'talk': 916, 'standing': 917, 'donate': 918, 'dan': 919, 'treaty': 920, 'camp': 921, 'confrontation': 922, 'militarized': 923, 'police': 924, 'afternoon': 925, 'adam': 926, 'alexander': 927, 'kelly': 928, 'org': 929, 'indigenous': 930, 'analysis': 931, 'friend': 932, 'shared': 933, 'obviously': 934, 'speak': 935, 'native': 936, 'perspective': 937, 'diverse': 938, 'conviction': 939, 'hold': 940, 'strong': 941, 'pride': 942, 'worry': 943, 'feel': 944, 'might': 945, 'imagine': 946, 'much': 947, 'pretty': 948, 'stay': 949, 'touch': 950, 'asked': 951, 'wanted': 952, 'maintaining': 953, 'limited': 954, 'presence': 955, 'following': 956, 'effort': 957, 'crucial': 958, 'ongoing': 959, 'struggle': 960, 'colonial': 961, 'violence': 962, 'active': 963, 'contact': 964, 'waged': 965, 'condition': 966, 'society': 967, 'gone': 968, 'largely': 969, 'supremacy': 970, 'land': 971, 'pushed': 972, 'consciousness': 973, 'fact': 974, 'killed': 975, 'enforcement': 976, 'group': 977, 'speaks': 978, 'literally': 979, 'numerous': 980, 'perpetrated': 981, 'motif': 982, 'intention': 983, 'example': 984, 'structural': 985, 'whereas': 986, 'matter': 987, 'construction': 988, 'deadly': 989, 'mechanism': 990, 'greed': 991, 'driven': 992, 'regard': 993, 'always': 994, 'die': 995, 'died': 996, 'sake': 997, 'wealth': 998, 'maintenance': 999, 'harm': 1000, 'committed': 1001, 'book': 1002, 'american': 1003, 'exceptionalism': 1004, 'also': 1005, 'sustain': 1006, 'comfort': 1007, 'benefit': 1008, 'kept': 1009, 'sight': 1010, 'easily': 1011, 'forgotten': 1012, 'directly': 1013, 'impacted': 1014, 'clear': 1015, 'rare': 1016, 'moment': 1017, 'bear': 1018, 'witness': 1019, 'obvious': 1020, 'fighting': 1021, 'rarely': 1022, 'acknowledged': 1023, 'freedom': 1024, 'frequently': 1025, 'intersection': 1026, 'bearing': 1027, 'historic': 1028, 'dialogue': 1029, 'extremely': 1030, 'climate': 1031, 'oriented': 1032, 'yes': 1033, 'fight': 1034, 'fully': 1035, 'humanity': 1036, 'risk': 1037, 'whether': 1038, 'realize': 1039, 'focusing': 1040, 'exclusively': 1041, 'respective': 1042, 'sometimes': 1043, 'journey': 1044, 'bound': 1045, 'discussing': 1046, 'started': 1047, 'place': 1048, 'naming': 1049, 'water': 1050, 'natural': 1051, 'community': 1052, 'broad': 1053, 'center': 1054, 'conversation': 1055, 'often': 1056, 'reduced': 1057, 'ground': 1058, 'messaging': 1059, 'ngo': 1060, 'talking': 1061, 'deserve': 1062, 'worth': 1063, 'defending': 1064, 'affect': 1065, 'please': 1066, 'acknowledging': 1067, 'pipeline': 1068, 'impact': 1069, 'remind': 1070, 'struggling': 1071, 'engage': 1072, 'concrete': 1073, 'connection': 1074, 'jumping': 1075, 'discus': 1076, 'ally': 1077, 'accomplice': 1078, 'alongside': 1079, 'value': 1080, 'addition': 1081, 'continent': 1082, 'survived': 1083, 'genocide': 1084, 'born': 1085, 'victory': 1086, 'colonialism': 1087, 'named': 1088, 'centered': 1089, 'courtesy': 1090, 'message': 1091, 'condemnation': 1092, 'ask': 1093, 'asking': 1094, 'help': 1095, 'ensure': 1096, 'policy': 1097, 'happen': 1098, 'enough': 1099, 'fewer': 1100, 'various': 1101, 'form': 1102, 'acting': 1103, 'solidarity': 1104, 'deserved': 1105, 'living': 1106, 'protector': 1107, 'warrior': 1108, 'earned': 1109, 'appreciate': 1110, 'reaching': 1111, 'brave': 1112, 'keep': 1113, 'foremost': 1114, 'liberation': 1115, 'determination': 1116, 'survival': 1117, 'celebrated': 1118, 'thanks': 1119, 'action': 1120, 'co': 1121, 'founder': 1122, 'chicago': 1123, 'light': 1124, 'brigade': 1125, 'collective': 1126, 'lifted': 1127, 'blog': 1128, 'originally': 1129, 'appeared': 1130, 'movement': 1131, 'organizer': 1132, 'robert': 1133, 'dying': 1134, 'cancer': 1135, 'familiar': 1136, 'came': 1137, 'nurse': 1138, 'brought': 1139, 'back': 1140, 'share': 1141, 'twitter': 1142, 'losing': 1143, 'mother': 1144, 'midst': 1145, 'especially': 1146, 'blow': 1147, 'illness': 1148, 'injury': 1149, 'needed': 1150, 'mom': 1151, 'hear': 1152, 'encouraging': 1153, 'give': 1154, 'image': 1155, 'credit': 1156, 'recent': 1157, 'episode': 1158, 'harry': 1159, 'morning': 1160, 'hospital': 1161, 'bone': 1162, 'famously': 1163, 'open': 1164, 'battle': 1165, 'breast': 1166, 'disease': 1167, 'tell': 1168, 'jr': 1169, 'reached': 1170, 'sent': 1171, 'everybody': 1172, 'room': 1173, 'longer': 1174, 'side': 1175, 'soon': 1176, 'closer': 1177, 'realized': 1178, 'hearing': 1179, 'convinced': 1180, 'greatest': 1181, 'isolation': 1182, 'used': 1183, 'call': 1184, 'bond': 1185, 'surprised': 1186, 'cared': 1187, 'emotional': 1188, 'able': 1189, 'thank': 1190, 'countless': 1191, 'loved': 1192, 'french': 1193, 'leader': 1194, 'france': 1195, 'holy': 1196, 'islam': 1197, 'embrace': 1198, 'christianity': 1199, 'religion': 1200, 'satan': 1201, 'october': 1202, 'francois': 1203, 'declared': 1204, 'devastating': 1205, 'violent': 1206, 'solution': 1207, 'prepare': 1208, 'christian': 1209, 'faith': 1210, 'interview': 1211, 'coming': 1212, 'outpost': 1213, 'rescue': 1214, 'organization': 1215, 'muslim': 1216, 'god': 1217, 'tyranny': 1218, 'evil': 1219, 'series': 1220, 'warfare': 1221, 'permission': 1222, 'follow': 1223, 'facebook': 1224, 'spread': 1225, 'sharing': 1226, 'network': 1227, 'gingrich': 1228, 'shame': 1229, 'megyn': 1230, 'field': 1231, 'misogyny': 1232, 'published': 1233, 'min': 1234, 'prospect': 1235, 'surrogate': 1236, 'powerful': 1237, 'man': 1238, 'allegation': 1239, 'predator': 1240, 'sex': 1241, 'female': 1242, 'probably': 1243, 'misogynist': 1244, 'desperate': 1245, 'former': 1246, 'house': 1247, 'speaker': 1248, 'newt': 1249, 'presidential': 1250, 'nominee': 1251, 'donald': 1252, 'sinking': 1253, 'poll': 1254, 'number': 1255, 'accused': 1256, 'fox': 1257, 'mention': 1258, 'began': 1259, 'infamous': 1260, 'hollywood': 1261, 'featuring': 1262, 'proclaimed': 1263, 'sexually': 1264, 'assault': 1265, 'became': 1266, 'nearly': 1267, 'forward': 1268, 'either': 1269, 'assaulted': 1270, 'otherwise': 1271, 'taken': 1272, 'liberty': 1273, 'body': 1274, 'brian': 1275, 'achievement': 1276, 'china': 1277, 'continuation': 1278, 'cold': 1279, 'usa': 1280, 'nato': 1281, 'provoke': 1282, 'superpower': 1283, 'pact': 1284, 'march': 1285, 'although': 1286, 'reason': 1287, 'managed': 1288, 'added': 1289, 'poland': 1290, 'republic': 1291, 'bbc': 1292, 'noted': 1293, 'soviet': 1294, 'bloc': 1295, 'join': 1296, 'alliance': 1297, 'mile': 1298, 'towards': 1299, 'moscow': 1300, 'wondered': 1301, 'earth': 1302, 'military': 1303, 'spite': 1304, 'facing': 1305, 'threat': 1306, 'expand': 1307, 'later': 1308, 'president': 1309, 'observed': 1310, 'italy': 1311, 'expanding': 1312, 'anywhere': 1313, 'infrastructure': 1314, 'including': 1315, 'moving': 1316, 'aggression': 1317, 'hostile': 1318, 'south': 1319, 'sea': 1320, 'end': 1321, 'characteristic': 1322, 'hired': 1323, 'significance': 1324, 'gop': 1325, 'attempted': 1326, 'turkey': 1327, 'crisis': 1328, 'imperialism': 1329, 'expression': 1330, 'certainly': 1331, 'originated': 1332, 'dangerous': 1333, 'menace': 1334, 'appears': 1335, 'posture': 1336, 'explain': 1337, 'silence': 1338, 'led': 1339, 'arabia': 1340, 'yemen': 1341, 'oil': 1342, 'statement': 1343, 'regret': 1344, 'riyadh': 1345, 'royal': 1346, 'dictatorship': 1347, 'cease': 1348, 'yemeni': 1349, 'lack': 1350, 'legal': 1351, 'pervasive': 1352, 'restriction': 1353, 'universal': 1354, 'assembly': 1355, 'association': 1356, 'equal': 1357, 'encourage': 1358, 'monarchy': 1359, 'domestic': 1360, 'united': 1361, 'torture': 1362, 'abuse': 1363, 'arrest': 1364, 'detention': 1365, 'neither': 1366, 'protected': 1367, 'imagined': 1368, 'proper': 1369, 'indicate': 1370, 'disapproval': 1371, 'civil': 1372, 'human': 1373, 'speech': 1374, 'discourage': 1375, 'continuing': 1376, 'murder': 1377, 'innocent': 1378, 'total': 1379, 'neocon': 1380, 'industrial': 1381, 'complex': 1382, 'administration': 1383, 'refugee': 1384, 'regime': 1385, 'pentagon': 1386, 'fleet': 1387, 'bomber': 1388, 'sky': 1389, 'deliberately': 1390, 'brussels': 1391, 'drum': 1392, 'planned': 1393, 'libya': 1394, 'destroy': 1395, 'gaddafi': 1396, 'whose': 1397, 'caused': 1398, 'massive': 1399, 'suffering': 1400, 'opened': 1401, 'band': 1402, 'militant': 1403, 'extremist': 1404, 'islamic': 1405, 'questioned': 1406, 'bombardment': 1407, 'foreign': 1408, 'adviser': 1409, 'jeremy': 1410, 'bash': 1411, 'told': 1412, 'london': 1413, 'telegraph': 1414, 'strategy': 1415, 'key': 1416, 'task': 1417, 'nature': 1418, 'bashar': 1419, 'assad': 1420, 'selected': 1421, 'target': 1422, 'doomed': 1423, 'seemed': 1424, 'greater': 1425, 'emphasis': 1426, 'airstrikes': 1427, 'turmoil': 1428, 'chaos': 1429, 'catastrophe': 1430, 'delivery': 1431, 'arm': 1432, 'weapon': 1433, 'ended': 1434, 'daesh': 1435, 'nusra': 1436, 'turned': 1437, 'european': 1438, 'soil': 1439, 'supply': 1440, 'rebel': 1441, 'absurd': 1442, 'chain': 1443, 'missile': 1444, 'afghanistan': 1445, 'buy': 1446, 'dollar': 1447, 'british': 1448, 'supplied': 1449, 'air': 1450, 'publicity': 1451, 'occasion': 1452, 'serious': 1453, 'explanation': 1454, 'poorly': 1455, 'informed': 1456, 'vastly': 1457, 'expensive': 1458, 'agency': 1459, 'iraq': 1460, 'tony': 1461, 'blair': 1462, 'david': 1463, 'cameron': 1464, 'personality': 1465, 'judged': 1466, 'particular': 1467, 'via': 1468, 'authority': 1469, 'judge': 1470, 'african': 1471, 'criminal': 1472, 'court': 1473, 'try': 1474, 'individual': 1475, 'charged': 1476, 'rome': 1477, 'statute': 1478, 'britain': 1479, 'theory': 1480, 'supportive': 1481, 'doubt': 1482, 'guilty': 1483, 'candidacy': 1484, 'maintained': 1485, 'democrat': 1486, 'prepared': 1487, 'nose': 1488, 'pressing': 1489, 'vote': 1490, 'opinion': 1491, 'according': 1492, 'pretext': 1493, 'nobody': 1494, 'politician': 1495, 'continues': 1496, 'mission': 1497, 'alter': 1498, 'consider': 1499, 'flexibility': 1500, 'dictator': 1501, 'economy': 1502, 'west': 1503, 'permitted': 1504, 'detainee': 1505, 'treat': 1506, 'critic': 1507, 'northern': 1508, 'offensive': 1509, 'coordination': 1510, 'fails': 1511, 'sanctuary': 1512, 'kilometer': 1513, 'experience': 1514, 'diplomatic': 1515, 'resolution': 1516, 'libyan': 1517, 'equation': 1518, 'resolved': 1519, 'militarily': 1520, 'prevail': 1521, 'unlike': 1522, 'regarded': 1523, 'being': 1524, 'entire': 1525, 'received': 1526, 'medical': 1527, 'germany': 1528, 'refused': 1529, 'among': 1530, 'militia': 1531, 'grown': 1532, 'size': 1533, 'influence': 1534, 'accord': 1535, 'secretary': 1536, 'claim': 1537, 'model': 1538, 'intervention': 1539, 'fault': 1540, 'admitted': 1541, 'failure': 1542, 'worst': 1543, 'mistake': 1544, 'last': 1545, 'month': 1546, 'unlikely': 1547, 'invasion': 1548, 'rebuild': 1549, 'supporter': 1550, 'notably': 1551, 'conventional': 1552, 'gang': 1553, 'fail': 1554, 'difficult': 1555, 'predict': 1556, 'effect': 1557, 'peaceful': 1558, 'era': 1559, 'domination': 1560, 'beneficial': 1561, 'emergence': 1562, 'remembered': 1563, 'august': 1564, 'york': 1565, 'participation': 1566, 'coalition': 1567, 'absolutely': 1568, 'believed': 1569, 'name': 1570, 'game': 1571, 'indispensable': 1572, 'agent': 1573, 'accuses': 1574, 'james': 1575, 'comey': 1576, 'rule': 1577, 'sir': 1578, 'regarding': 1579, 'july': 1580, 'informing': 1581, 'closed': 1582, 'referring': 1583, 'federal': 1584, 'grand': 1585, 'jury': 1586, 'attorney': 1587, 'decision': 1588, 'laid': 1589, 'evidence': 1590, 'strongly': 1591, 'uncovered': 1592, 'personally': 1593, 'soft': 1594, 'describing': 1595, 'careless': 1596, 'using': 1597, 'un': 1598, 'secured': 1599, 'server': 1600, 'retired': 1601, 'write': 1602, 'letter': 1603, 'thirty': 1604, 'knowledge': 1605, 'expertise': 1606, 'confront': 1607, 'standard': 1608, 'procedure': 1609, 'judicial': 1610, 'finest': 1611, 'proudly': 1612, 'carry': 1613, 'credential': 1614, 'allowed': 1615, 'silent': 1616, 'm': 1617, 'merely': 1618, 'requires': 1619, 'possession': 1620, 'available': 1621, 'furthermore': 1622, 'owned': 1623, 'leaving': 1624, 'position': 1625, 'nefarious': 1626, 'known': 1627, 'moral': 1628, 'character': 1629, 'cave': 1630, 'pressure': 1631, 'unilaterally': 1632, 'fear': 1633, 'ashamed': 1634, 'precedent': 1635, 'justified': 1636, 'ought': 1637, 'resign': 1638, 'disgrace': 1639, 'reputation': 1640, 'normally': 1641, 'assigned': 1642, 'team': 1643, 'lead': 1644, 'investigator': 1645, 'presented': 1646, 'decides': 1647, 'decline': 1648, 'prosecution': 1649, 'decided': 1650, 'instead': 1651, 'prosecute': 1652, 'provide': 1653, 'wrong': 1654, 'upon': 1655, 'subject': 1656, 'probable': 1657, 'exist': 1658, 'level': 1659, 'probability': 1660, 'proceeding': 1661, 'throughout': 1662, 'fellow': 1663, 'conducting': 1664, 'treated': 1665, 'equally': 1666, 'allow': 1667, 'nasty': 1668, 'threatened': 1669, 'security': 1670, 'short': 1671, 'rico': 1672, 'influenced': 1673, 'recovered': 1674, 'argued': 1675, 'uncomfortable': 1676, 'addressing': 1677, 'conclude': 1678, 'retirement': 1679, 'tour': 1680, 'duty': 1681, 'professional': 1682, 'embedded': 1683, 'counter': 1684, 'terrorism': 1685, 'operated': 1686, 'wire': 1687, 'troop': 1688, 'gathering': 1689, 'bad': 1690, 'guy': 1691, 'reported': 1692, 'secure': 1693, 'commanding': 1694, 'officer': 1695, 'required': 1696, 'occasionally': 1697, 'remote': 1698, 'location': 1699, 'mountain': 1700, 'impossible': 1701, 'fly': 1702, 'base': 1703, 'commander': 1704, 'space': 1705, 'convenient': 1706, 'phone': 1707, 'written': 1708, 'laptop': 1709, 'classified': 1710, 'compromised': 1711, 'relative': 1712, 'low': 1713, 'classification': 1714, 'secret': 1715, 'prosecuted': 1716, 'prison': 1717, 'violation': 1718, 'considered': 1719, 'activity': 1720, 'running': 1721, 'sleep': 1722, 'night': 1723, 'market': 1724, 'projected': 1725, 'pravda': 1726, 'ru': 1727, 'stock': 1728, 'index': 1729, 'declined': 1730, 'electoral': 1731, 'investor': 1732, 'counting': 1733, 'collapsed': 1734, 'earlier': 1735, 'changed': 1736, 'forecast': 1737, 'percent': 1738, 'range': 1739, 'trading': 1740, 'data': 1741, 'showed': 1742, 'jones': 1743, 'p': 1744, 'japan': 1745, 'dropped': 1746, 'chinese': 1747, 'blue': 1748, 'chip': 1749, 'hang': 1750, 'korea': 1751, 'australian': 1752, 'currency': 1753, 'weakened': 1754, 'japanese': 1755, 'euro': 1756, 'price': 1757, 'crude': 1758, 'per': 1759, 'barrel': 1760, 'treasury': 1761, 'dynamic': 1762, 'gold': 1763, 'joe': 1764, 'printed': 1765, 'j': 1766, 'true': 1767, 'still': 1768, 'wound': 1769, 'purchase': 1770, 'lesser': 1771, 'versus': 1772, 'egg': 1773, 'returned': 1774, 'fat': 1775, 'toxin': 1776, 'branded': 1777, 'item': 1778, 'four': 1779, 'politically': 1780, 'rather': 1781, 'black': 1782, 'zombie': 1783, 'walmart': 1784, 'oligarchy': 1785, 'circus': 1786, 'philosophy': 1787, 'seem': 1788, 'concept': 1789, 'choice': 1790, 'commit': 1791, 'act': 1792, 'alleged': 1793, 'seems': 1794, 'supporting': 1795, 'card': 1796, 'phrase': 1797, 'possibly': 1798, 'accurate': 1799, 'spend': 1800, 'second': 1801, 'roll': 1802, 'nuclear': 1803, 'holocaust': 1804, 'suppose': 1805, 'face': 1806, 'repeatedly': 1807, 'tried': 1808, 'hostility': 1809, 'armed': 1810, 'decade': 1811, 'certain': 1812, 'dismantle': 1813, 'rich': 1814, 'eu': 1815, 'failed': 1816, 'preferred': 1817, 'organized': 1818, 'r': 1819, 'vladimir': 1820, 'vague': 1821, 'substance': 1822, 'democratic': 1823, 'committee': 1824, 'caught': 1825, 'bloody': 1826, 'handed': 1827, 'stealing': 1828, 'bernie': 1829, 'sander': 1830, 'fraud': 1831, 'response': 1832, 'yeah': 1833, 'sure': 1834, 'repeated': 1835, 'lost': 1836, 'meaning': 1837, 'abroad': 1838, 'slight': 1839, 'pas': 1840, 'unveiled': 1841, 'generation': 1842, 'capable': 1843, 'central': 1844, 'coast': 1845, 'uk': 1846, 'insists': 1847, 'zone': 1848, 'imposed': 1849, 'invading': 1850, 'arming': 1851, 'funding': 1852, 'privately': 1853, 'getting': 1854, 'sophisticated': 1855, 'import': 1856, 'located': 1857, 'standoff': 1858, 'putting': 1859, 'pilot': 1860, 'kill': 1861, 'lot': 1862, 'sudden': 1863, 'involvement': 1864, 'protecting': 1865, 'hrc': 1866, 'personnel': 1867, 'course': 1868, 'represents': 1869, 'dead': 1870, 'tale': 1871, 'historical': 1872, 'corporate': 1873, 'nazi': 1874, 'foreigner': 1875, 'death': 1876, 'rodham': 1877, 'played': 1878, 'role': 1879, 'approximately': 1880, 'third': 1881, 'bother': 1882, 'tally': 1883, 'figure': 1884, 'shock': 1885, 'liberal': 1886, 'thoroughly': 1887, 'senator': 1888, 'voted': 1889, 'illegal': 1890, 'command': 1891, 'responsibility': 1892, 'selling': 1893, 'estimate': 1894, 'iraqi': 1895, 'casualty': 1896, 'peace': 1897, 'attribute': 1898, 'charter': 1899, 'bush': 1900, 'cheney': 1901, 'hypocrisy': 1902, 'condemned': 1903, 'staggering': 1904, 'linked': 1905, 'witnessing': 1906, 'large': 1907, 'council': 1908, 'unacceptable': 1909, 'authorize': 1910, 'attempt': 1911, 'justify': 1912, 'claiming': 1913, 'insufficient': 1914, 'minister': 1915, 'sergey': 1916, 'lavrov': 1917, 'assisted': 1918, 'displayed': 1919, 'onto': 1920, 'current': 1921, 'contrast': 1922, 'highly': 1923, 'described': 1924, 'agreement': 1925, 'erdogan': 1926, 'rat': 1927, 'line': 1928, 'term': 1929, 'qatar': 1930, 'cia': 1931, 'mi': 1932, 'arsenal': 1933, 'benghazi': 1934, 'consulate': 1935, 'official': 1936, 'covert': 1937, 'plot': 1938, 'resulting': 1939, 'overthrow': 1940, 'elected': 1941, 'husband': 1942, 'sanction': 1943, 'component': 1944, 'toll': 1945, 'deemed': 1946, 'clip': 1947, 'modern': 1948, 'age': 1949, 'murderer': 1950, 'openly': 1951, 'haiti': 1952, 'honduras': 1953, 'atrocity': 1954, 'empire': 1955, 'pig': 1956, 'pretend': 1957, 'proven': 1958, 'charge': 1959, 'jill': 1960, 'stein': 1961, 'green': 1962, 'soros': 1963, 'voting': 1964, 'machine': 1965, 'rigged': 1966, 'went': 1967, 'hacked': 1968, 'joseph': 1969, 'company': 1970, 'provided': 1971, 'battleground': 1972, 'florida': 1973, 'arizona': 1974, 'billionaire': 1975, 'leftist': 1976, 'george': 1977, 'coordinated': 1978, 'receiving': 1979, 'player': 1980, 'string': 1981, 'behind': 1982, 'tied': 1983, 'progressive': 1984, 'globalist': 1985, 'surely': 1986, 'leave': 1987, 'mouth': 1988, 'equipment': 1989, 'smartmatic': 1990, 'chairman': 1991, 'mark': 1992, 'brown': 1993, 'sits': 1994, 'board': 1995, 'advisory': 1996, 'executive': 1997, 'founded': 1998, 'built': 1999, 'appointed': 2000, 'vice': 2001, 'quantum': 2002, 'management': 2003, 'institute': 2004, 'miller': 2005, 'firm': 2006, 'associate': 2007, 'senior': 2008, 'advisor': 2009, 'jackson': 2010, 'aide': 2011, 'managing': 2012, 'poor': 2013, 'track': 2014, 'providing': 2015, 'terrifying': 2016, 'astonishing': 2017, 'cable': 2018, 'obtained': 2019, 'reveals': 2020, 'extent': 2021, 'rigging': 2022, 'venezuelan': 2023, 'recall': 2024, 'titled': 2025, 'shadow': 2026, 'memo': 2027, 'stated': 2028, 'corporation': 2029, 'ownership': 2030, 'complicated': 2031, 'contested': 2032, 'venezuela': 2033, 'widely': 2034, 'suspected': 2035, 'opposition': 2036, 'referendum': 2037, 'eight': 2038, 'statistical': 2039, 'performed': 2040, 'study': 2041, 'log': 2042, 'supposedly': 2043, 'proved': 2044, 'suspicion': 2045, 'prove': 2046, 'reject': 2047, 'desire': 2048, 'colorado': 2049, 'dc': 2050, 'illinois': 2051, 'louisiana': 2052, 'michigan': 2053, 'missouri': 2054, 'jersey': 2055, 'nevada': 2056, 'oregon': 2057, 'pennsylvania': 2058, 'virginia': 2059, 'wisconsin': 2060, 'bias': 2061, 'proof': 2062, 'heavily': 2063, 'favor': 2064, 'needle': 2065, 'winner': 2066, 'mess': 2067, 'honesty': 2068, 'sheeple': 2069, 'republish': 2070, 'breaking': 2071, 'detail': 2072, 'contributed': 2073, 'planet': 2074, 'truthful': 2075, 'keeping': 2076, 'andrew': 2077, 'oval': 2078, 'stretching': 2079, 'hoover': 2080, 'learned': 2081, 'sooner': 2082, 'title': 2083, 'chief': 2084, 'bureaucracy': 2085, 'service': 2086, 'succeeded': 2087, 'holding': 2088, 'sin': 2089, 'reactionary': 2090, 'gay': 2091, 'actively': 2092, 'enemy': 2093, 'superior': 2094, 'dig': 2095, 'partisan': 2096, 'richard': 2097, 'nixon': 2098, 'scenario': 2099, 'extraordinary': 2100, 'recognizing': 2101, 'entrenched': 2102, 'struck': 2103, 'leak': 2104, 'deep': 2105, 'throat': 2106, 'deputy': 2107, 'instrument': 2108, 'obscure': 2109, 'nonetheless': 2110, 'potent': 2111, 'universe': 2112, 'thus': 2113, 'signature': 2114, 'iran': 2115, 'uranium': 2116, 'program': 2117, 'branch': 2118, 'asset': 2119, 'hammered': 2120, 'john': 2121, 'kerry': 2122, 'agreed': 2123, 'lifting': 2124, 'array': 2125, 'bank': 2126, 'iranian': 2127, 'savage': 2128, 'penalty': 2129, 'billion': 2130, 'fine': 2131, 'promised': 2132, 'reward': 2133, 'ability': 2134, 'trade': 2135, 'freely': 2136, 'appear': 2137, 'step': 2138, 'remedy': 2139, 'recently': 2140, 'ceremony': 2141, 'negotiating': 2142, 'deal': 2143, 'dealing': 2144, 'plenty': 2145, 'fashion': 2146, 'turn': 2147, 'pop': 2148, 'held': 2149, 'accountable': 2150, 'except': 2151, 'detailed': 2152, 'tyler': 2153, 'specialist': 2154, 'regulation': 2155, 'website': 2156, 'cited': 2157, 'necessarily': 2158, 'sufficient': 2159, 'bos': 2160, 'banking': 2161, 'better': 2162, 'exercise': 2163, 'essentially': 2164, 'neck': 2165, 'consequence': 2166, 'predictable': 2167, 'smart': 2168, 'attention': 2169, 'diplomat': 2170, 'steer': 2171, 'caption': 2172, 'commentary': 2173, 'comment': 2174, 'covered': 2175, 'publishing': 2176, 'produced': 2177, 'feature': 2178, 'film': 2179, 'documentary': 2180, 'casino': 2181, 'latest': 2182, 'henry': 2183, 'holt': 2184, 'severe': 2185, 'hacking': 2186, 'past': 2187, 'considerable': 2188, 'circulation': 2189, 'extreme': 2190, 'caution': 2191, 'publish': 2192, 'box': 2193, 'main': 2194, 'code': 2195, 'immediately': 2196, 'assured': 2197, 'legitimate': 2198, 'wish': 2199, 'send': 2200, 'mail': 2201, 'apologize': 2202, 'bring': 2203, 'subscribe': 2204, 'gain': 2205, 'safe': 2206, 'obligation': 2207, 'loyal': 2208, 'input': 2209, 'necessary': 2210, 'fix': 2211, 'nbc': 2212, 'affiliate': 2213, 'accidentally': 2214, 'confused': 2215, 'bag': 2216, 'dnc': 2217, 'rnc': 2218, 'online': 2219, 'listed': 2220, 'bet': 2221, 'assumption': 2222, 'weiner': 2223, 'ruined': 2224, 'anthony': 2225, 'revelation': 2226, 'surprise': 2227, 'opening': 2228, 'vulnerable': 2229, 'misconduct': 2230, 'hall': 2231, 'alternative': 2232, 'analyst': 2233, 'admit': 2234, 'chance': 2235, 'confusion': 2236, 'reign': 2237, 'supreme': 2238, 'observer': 2239, 'addressed': 2240, 'timing': 2241, 'majority': 2242, 'cycle': 2243, 'compete': 2244, 'pointed': 2245, 'competition': 2246, 'assumed': 2247, 'therefore': 2248, 'tend': 2249, 'agree': 2250, 'disagree': 2251, 'conclusion': 2252, 'primarily': 2253, 'false': 2254, 'pointing': 2255, 'correctly': 2256, 'predicted': 2257, 'brexit': 2258, 'outline': 2259, 'depth': 2260, 'stating': 2261, 'crazy': 2262, 'slated': 2263, 'design': 2264, 'color': 2265, 'surrounding': 2266, 'chosen': 2267, 'studying': 2268, 'behavior': 2269, 'wise': 2270, 'definitely': 2271, 'rig': 2272, 'cheat': 2273, 'consent': 2274, 'portion': 2275, 'insane': 2276, 'entirety': 2277, 'balance': 2278, 'sheet': 2279, 'rose': 2280, 'document': 2281, 'apparently': 2282, 'routine': 2283, 'interference': 2284, 'strange': 2285, 'rampant': 2286, 'mishandling': 2287, 'crowd': 2288, 'turnout': 2289, 'rhetoric': 2290, 'assuming': 2291, 'average': 2292, 'speed': 2293, 'ignorant': 2294, 'potential': 2295, 'inspiring': 2296, 'confidence': 2297, 'pick': 2298, 'represent': 2299, 'ride': 2300, 'lame': 2301, 'duck': 2302, 'rebellion': 2303, 'generally': 2304, 'option': 2305, 'breakdown': 2306, 'premise': 2307, 'underlying': 2308, 'ignore': 2309, 'swath': 2310, 'style': 2311, 'opec': 2312, 'production': 2313, 'freeze': 2314, 'ready': 2315, 'apart': 2316, 'reserve': 2317, 'threatening': 2318, 'raise': 2319, 'december': 2320, 'fiscal': 2321, 'structure': 2322, 'occurs': 2323, 'globalists': 2324, 'suggest': 2325, 'reaction': 2326, 'renewed': 2327, 'narrative': 2328, 'blaming': 2329, 'nine': 2330, 'ruin': 2331, 'victor': 2332, 'victorious': 2333, 'dismantling': 2334, 'founding': 2335, 'succeed': 2336, 'proponent': 2337, 'move': 2338, 'prepares': 2339, 'argue': 2340, 'announcement': 2341, 'motivated': 2342, 'motivation': 2343, 'meant': 2344, 'placed': 2345, 'dance': 2346, 'cry': 2347, 'accusing': 2348, 'reid': 2349, 'hiding': 2350, 'supposed': 2351, 'violating': 2352, 'hatch': 2353, 'outrage': 2354, 'waging': 2355, 'install': 2356, 'bizarre': 2357, 'understand': 2358, 'argument': 2359, 'designed': 2360, 'distract': 2361, 'dump': 2362, 'bringing': 2363, 'hoping': 2364, 'distraction': 2365, 'period': 2366, 'announce': 2367, 'stream': 2368, 'steal': 2369, 'traitor': 2370, 'puppet': 2371, 'worried': 2372, 'fulfill': 2373, 'prophecy': 2374, 'franchise': 2375, 'rogue': 2376, 'something': 2377, 'advantage': 2378, 'aware': 2379, 'firestorm': 2380, 'miracle': 2381, 'upset': 2382, 'sovereignty': 2383, 'champion': 2384, 'contrary': 2385, 'honestly': 2386, 'brazil': 2387, 'football': 2388, 'carlos': 2389, 'afp': 2390, 'captain': 2391, 'gathered': 2392, 'de': 2393, 'tribute': 2394, 'cup': 2395, 'winning': 2396, 'buried': 2397, 'carried': 2398, 'wednesday': 2399, 'flag': 2400, 'mostly': 2401, 'fourth': 2402, 'cap': 2403, 'podesta': 2404, 'id': 2405, 'page': 2406, 'registered': 2407, 'trademark': 2408, 'zero': 2409, 'copyright': 2410, 'generated': 2411, 'almost': 2412, 'start': 2413, 'changing': 2414, 'reflection': 2415, 'followed': 2416, 'dream': 2417, 'passion': 2418, 'stress': 2419, 'anger': 2420, 'reflecting': 2421, 'honest': 2422, 'emotion': 2423, 'feeling': 2424, 'decide': 2425, 'happens': 2426, 'empower': 2427, 'observe': 2428, 'kick': 2429, 'helping': 2430, 'choose': 2431, 'eating': 2432, 'habit': 2433, 'vessel': 2434, 'mentally': 2435, 'emotionally': 2436, 'healthy': 2437, 'cut': 2438, 'completely': 2439, 'tiny': 2440, 'scope': 2441, 'totally': 2442, 'pin': 2443, 'achieve': 2444, 'excited': 2445, 'passionate': 2446, 'believing': 2447, 'run': 2448, 'mentality': 2449, 'triggered': 2450, 'journal': 2451, 'someone': 2452, 'table': 2453, 'bigger': 2454, 'picture': 2455, 'challenge': 2456, 'comparing': 2457, 'compare': 2458, 'sad': 2459, 'feed': 2460, 'ego': 2461, 'respect': 2462, 'judging': 2463, 'addiction': 2464, 'conscious': 2465, 'finger': 2466, 'aligned': 2467, 'saying': 2468, 'hurt': 2469, 'worrying': 2470, 'trying': 2471, 'accepted': 2472, 'save': 2473, 'weird': 2474, 'genuine': 2475, 'maintain': 2476, 'forever': 2477, 'obsession': 2478, 'learn': 2479, 'reckless': 2480, 'list': 2481, 'career': 2482, 'explore': 2483, 'koch': 2484, 'helped': 2485, 'incite': 2486, 'impending': 2487, 'pm': 2488, 'lesson': 2489, 'column': 2490, 'verge': 2491, 'bearer': 2492, 'tension': 2493, 'terrified': 2494, 'disregard': 2495, 'minded': 2496, 'loyalist': 2497, 'intent': 2498, 'tea': 2499, 'caucus': 2500, 'boehner': 2501, 'embraced': 2502, 'solely': 2503, 'paul': 2504, 'ryan': 2505, 'energy': 2506, 'eager': 2507, 'wing': 2508, 'eric': 2509, 'issued': 2510, 'warning': 2511, 'huge': 2512, 'marker': 2513, 'criticize': 2514, 'revolt': 2515, 'besides': 2516, 'sticking': 2517, 'heavy': 2518, 'reuters': 2519, 'complained': 2520, 'angry': 2521, 'blood': 2522, 'letting': 2523, 'conflict': 2524, 'experienced': 2525, 'breitbart': 2526, 'stephen': 2527, 'bannon': 2528, 'uber': 2529, 'vision': 2530, 'libertarianism': 2531, 'closely': 2532, 'heritage': 2533, 'pushing': 2534, 'adopt': 2535, 'opportunity': 2536, 'joined': 2537, 'calling': 2538, 'delay': 2539, 'selecting': 2540, 'typically': 2541, 'michael': 2542, 'hell': 2543, 'bend': 2544, 'echoed': 2545, 'sentiment': 2546, 'expressed': 2547, 'dilemma': 2548, 'stability': 2549, 'unleash': 2550, 'outrageous': 2551, 'stump': 2552, 'content': 2553, 'shutting': 2554, 'internal': 2555, 'seize': 2556, 'emerged': 2557, 'scene': 2558, 'budget': 2559, 'confirmed': 2560, 'shop': 2561, 'donna': 2562, 'semi': 2563, 'ironically': 2564, 'frozen': 2565, 'mask': 2566, 'shit': 2567, 'chooses': 2568, 'mobility': 2569, 'odd': 2570, 'class': 2571, 'block': 2572, 'family': 2573, 'pack': 2574, 'teaching': 2575, 'assistant': 2576, 'queen': 2577, 'meat': 2578, 'amazing': 2579, 'physic': 2580, 'spring': 2581, 'arab': 2582, 'persuade': 2583, 'catastrophic': 2584, 'humanitarian': 2585, 'moderate': 2586, 'fighter': 2587, 'maximum': 2588, 'commenting': 2589, 'saved': 2590, 'offering': 2591, 'tear': 2592, 'allegedly': 2593, 'youtube': 2594, 'local': 2595, 'resource': 2596, 'walk': 2597, 'fame': 2598, 'accompanied': 2599, 'happy': 2600, 'dad': 2601, 'airstrike': 2602, 'dealt': 2603, 'shortly': 2604, 'introduced': 2605, 'staff': 2606, 'shooting': 2607, 'doctor': 2608, 'behave': 2609, 'kid': 2610, 'cleaning': 2611, 'walking': 2612, 'wearing': 2613, 'troubled': 2614, 'thick': 2615, 'dark': 2616, 'staged': 2617, 'creator': 2618, 'tactic': 2619, 'wounded': 2620, 'star': 2621, 'journalist': 2622, 'mode': 2623, 'poster': 2624, 'omar': 2625, 'bird': 2626, 'photograph': 2627, 'confirm': 2628, 'suffer': 2629, 'nov': 2630, 'peer': 2631, 'stake': 2632, 'capital': 2633, 'lifestyle': 2634, 'boat': 2635, 'aspect': 2636, 'define': 2637, 'identity': 2638, 'honor': 2639, 'integrity': 2640, 'morality': 2641, 'connecting': 2642, 'authentic': 2643, 'sold': 2644, 'environment': 2645, 'understanding': 2646, 'referenced': 2647, 'celebrity': 2648, 'bureaucrat': 2649, 'mogul': 2650, 'connected': 2651, 'alike': 2652, 'fuck': 2653, 'entering': 2654, 'persuaded': 2655, 'seriously': 2656, 'labeled': 2657, 'conspiracy': 2658, 'theorist': 2659, 'stand': 2660, 'ensuring': 2661, 'unconscious': 2662, 'blind': 2663, 'ideology': 2664, 'status': 2665, 'quo': 2666, 'weak': 2667, 'existential': 2668, 'tide': 2669, 'awakening': 2670, 'ultimate': 2671, 'sham': 2672, 'organize': 2673, 'degree': 2674, 'evolution': 2675, 'culture': 2676, 'beacon': 2677, 'research': 2678, 'magic': 2679, 'connect': 2680, 'darkness': 2681, 'angle': 2682, 'north': 2683, 'australia': 2684, 'guest': 2685, 'visit': 2686, 'indicted': 2687, 'responds': 2688, 'scramble': 2689, 'infowars': 2690, 'alex': 2691, 'break': 2692, 'reopening': 2693, 'surface': 2694, 'huma': 2695, 'abedin': 2696, 'bureau': 2697, 'lawmaker': 2698, 'previous': 2699, 'testimony': 2700, 'referred': 2701, 'completed': 2702, 'supplement': 2703, 'unrelated': 2704, 'pertinent': 2705, 'inform': 2706, 'briefed': 2707, 'yesterday': 2708, 'determine': 2709, 'ass': 2710, 'importance': 2711, 'undoubtedly': 2712, 'spell': 2713, 'trouble': 2714, 'vowed': 2715, 'investigate': 2716, 'crew': 2717, 'related': 2718, 'focus': 2719, 'worker': 2720, 'guardian': 2721, 'rapid': 2722, 'damaging': 2723, 'serving': 2724, 'leaking': 2725, 'manafort': 2726, 'manager': 2727, 'preliminary': 2728, 'denied': 2729, 'wrongdoing': 2730, 'moreover': 2731, 'claimed': 2732, 'previously': 2733, 'tenure': 2734, 'belonging': 2735, 'estranged': 2736, 'eddie': 2737, 'file': 2738, 'marked': 2739, 'insurance': 2740, 'leaked': 2741, 'newly': 2742, 'discovered': 2743, 'switch': 2744, 'ordered': 2745, 'meanwhile': 2746, 'trail': 2747, 'weekend': 2748, 'warrant': 2749, 'initial': 2750, 'request': 2751, 'pumpkin': 2752, 'recipe': 2753, 'organic': 2754, 'traditional': 2755, 'coconut': 2756, 'sugar': 2757, 'interpretation': 2758, 'original': 2759, 'holiday': 2760, 'ahead': 2761, 'seed': 2762, 'balanced': 2763, 'juice': 2764, 'amount': 2765, 'add': 2766, 'similar': 2767, 'squash': 2768, 'iron': 2769, 'vitamin': 2770, 'fiber': 2771, 'substitute': 2772, 'wide': 2773, 'shape': 2774, 'round': 2775, 'skip': 2776, 'route': 2777, 'twenty': 2778, 'fill': 2779, 'smaller': 2780, 'recommend': 2781, 'pan': 2782, 'cool': 2783, 'correct': 2784, 'trader': 2785, 'century': 2786, 'asia': 2787, 'specie': 2788, 'monster': 2789, 'cooking': 2790, 'cousin': 2791, 'sweet': 2792, 'crossed': 2793, 'potato': 2794, 'skin': 2795, 'slightly': 2796, 'brilliant': 2797, 'orange': 2798, 'store': 2799, 'prep': 2800, 'filling': 2801, 'f': 2802, 'overnight': 2803, 'sharp': 2804, 'raw': 2805, 'strained': 2806, 'bean': 2807, 'extract': 2808, 'plus': 2809, 'extra': 2810, 'crystal': 2811, 'salt': 2812, 'instruction': 2813, 'preparing': 2814, 'drain': 2815, 'excess': 2816, 'combine': 2817, 'remaining': 2818, 'mix': 2819, 'ingredient': 2820, 'suit': 2821, 'remain': 2822, 'knife': 2823, 'crown': 2824, 'couple': 2825, 'inch': 2826, 'stem': 2827, 'circle': 2828, 'aside': 2829, 'slowly': 2830, 'replace': 2831, 'cook': 2832, 'flat': 2833, 'filled': 2834, 'eat': 2835, 'check': 2836, 'tip': 2837, 'hole': 2838, 'transfer': 2839, 'plate': 2840, 'glass': 2841, 'bowl': 2842, 'thin': 2843, 'slice': 2844, 'enjoy': 2845, 'difference': 2846, 'genetic': 2847, 'sink': 2848, 'wonder': 2849, 'ice': 2850, 'despair': 2851, 'usually': 2852, 'winter': 2853, 'officially': 2854, 'eaten': 2855, 'fda': 2856, 'deciding': 2857, 'reference': 2858, 'web': 2859, 'oct': 2860, 'reply': 2861, 'frank': 2862, 'draw': 2863, 'surprising': 2864, 'reading': 2865, 'mad': 2866, 'nearby': 2867, 'naturally': 2868, 'illusion': 2869, 'alert': 2870, 'identifying': 2871, 'spiritual': 2872, 'seeker': 2873, 'outraged': 2874, 'captive': 2875, 'declare': 2876, 'beautiful': 2877, 'landscape': 2878, 'art': 2879, 'music': 2880, 'identification': 2881, 'instant': 2882, 'depend': 2883, 'realistic': 2884, 'identify': 2885, 'deeper': 2886, 'isolated': 2887, 'common': 2888, 'method': 2889, 'alarm': 2890, 'objective': 2891, 'ideal': 2892, 'ambition': 2893, 'confirms': 2894, 'rooted': 2895, 'sleeping': 2896, 'dimension': 2897, 'identified': 2898, 'ocean': 2899, 'missing': 2900, 'generate': 2901, 'safely': 2902, 'emerges': 2903, 'remembers': 2904, 'origin': 2905, 'memory': 2906, 'ancient': 2907, 'quiet': 2908, 'recognition': 2909, 'insisting': 2910, 'independence': 2911, 'intensity': 2912, 'sf': 2913, 'jim': 2914, 'willie': 2915, 'download': 2916, 'broken': 2917, 'edition': 2918, 'silver': 2919, 'dr': 2920, 'miss': 2921, 'pakistan': 2922, 'khan': 2923, 'ap': 2924, 'youth': 2925, 'convention': 2926, 'protest': 2927, 'uniform': 2928, 'beating': 2929, 'leading': 2930, 'detained': 2931, 'bus': 2932, 'arrived': 2933, 'quoted': 2934, 'spokeswoman': 2935, 'raid': 2936, 'enforcing': 2937, 'administrator': 2938, 'five': 2939, 'banned': 2940, 'prime': 2941, 'wave': 2942, 'rally': 2943, 'summer': 2944, 'parliament': 2945, 'insisted': 2946, 'offer': 2947, 'shady': 2948, 'included': 2949, 'tax': 2950, 'offshore': 2951, 'estate': 2952, 'property': 2953, 'denies': 2954, 'income': 2955, 'loading': 2956, 'fort': 2957, 'translated': 2958, 'welcomed': 2959, 'despite': 2960, 'process': 2961, 'federation': 2962, 'interfering': 2963, 'crimea': 2964, 'differently': 2965, 'polling': 2966, 'prevented': 2967, 'formation': 2968, 'radically': 2969, 'remarked': 2970, 'anxiety': 2971, 'kiev': 2972, 'cautious': 2973, 'optimistic': 2974, 'resist': 2975, 'suggested': 2976, 'signal': 2977, 'attitude': 2978, 'ukrainian': 2979, 'fatally': 2980, 'shot': 2981, 'sputnik': 2982, 'impeachment': 2983, 'violated': 2984, 'stage': 2985, 'parliamentary': 2986, 'coup': 2987, 'gunshot': 2988, 'tended': 2989, 'los': 2990, 'clinic': 2991, 'el': 2992, 'initiated': 2993, 'scale': 2994, 'protester': 2995, 'increased': 2996, 'autism': 2997, 'infant': 2998, 'prevention': 2999, 'cdc': 3000, 'conducted': 3001, 'male': 3002, 'sample': 3003, 'fraudulent': 3004, 'nonprofit': 3005, 'raising': 3006, 'broke': 3007, 'whistleblower': 3008, 'anonymity': 3009, 'william': 3010, 'thompson': 3011, 'father': 3012, 'induced': 3013, 'dating': 3014, 'treatment': 3015, 'men': 3016, 'reviewed': 3017, 'intentionally': 3018, 'significantly': 3019, 'increase': 3020, 'particularly': 3021, 'lowest': 3022, 'bold': 3023, 'engaged': 3024, 'falsely': 3025, 'scientific': 3026, 'exact': 3027, 'opposite': 3028, 'explains': 3029, 'seeking': 3030, 'scott': 3031, 'hypothesis': 3032, 'receive': 3033, 'infection': 3034, 'measles': 3035, 'safety': 3036, 'scientist': 3037, 'knew': 3038, 'younger': 3039, 'exposure': 3040, 'associated': 3041, 'jonathan': 3042, 'jail': 3043, 'migrant': 3044, 'dumped': 3045, 'baby': 3046, 'road': 3047, 'norm': 3048, 'raped': 3049, 'asylum': 3050, 'furious': 3051, 'thrown': 3052, 'centre': 3053, 'grabbed': 3054, 'busy': 3055, 'suspended': 3056, 'sentence': 3057, 'vienna': 3058, 'drunk': 3059, 'beer': 3060, 'flew': 3061, 'rage': 3062, 'daughter': 3063, 'ran': 3064, 'traffic': 3065, 'lane': 3066, 'lawyer': 3067, 'heard': 3068, 'necessity': 3069, 'discussed': 3070, 'assert': 3071, 'weight': 3072, 'employee': 3073, 'closure': 3074, 'concerned': 3075, 'prosecutor': 3076, 'stunning': 3077, 'shocked': 3078, 'criminality': 3079, 'assange': 3080, 'represented': 3081, 'julian': 3082, 'suicide': 3083, 'jumped': 3084, 'possibility': 3085, 'suspicious': 3086, 'whistle': 3087, 'mystery': 3088, 'sued': 3089, 'sitting': 3090, 'w': 3091, 'terrible': 3092, 'trial': 3093, 'aaron': 3094, 'klein': 3095, 'demonstrated': 3096, 'sending': 3097, 'travel': 3098, 'ambassador': 3099, 'stevens': 3100, 'prior': 3101, 'dave': 3102, 'somebody': 3103, 'scared': 3104, 'vince': 3105, 'foster': 3106, 'mentioned': 3107, 'affair': 3108, 'congressman': 3109, 'sexting': 3110, 'inappropriate': 3111, 'indicated': 3112, 'concerning': 3113, 'damning': 3114, 'nypd': 3115, 'intense': 3116, 'avoid': 3117, 'airplane': 3118, 'immediate': 3119, 'laughing': 3120, 'mirror': 3121, 'lease': 3122, 'storage': 3123, 'hodges': 3124, 'satisfied': 3125, 'wait': 3126, 'late': 3127, 'censorship': 3128, 'spying': 3129, 'donor': 3130, 'barack': 3131, 'hussein': 3132, 'focused': 3133, 'patriot': 3134, 'indicating': 3135, 'region': 3136, 'accuse': 3137, 'isil': 3138, 'radical': 3139, 'sunni': 3140, 'citing': 3141, 'arguing': 3142, 'differ': 3143, 'argues': 3144, 'largest': 3145, 'coincidence': 3146, 'correspondence': 3147, 'meeting': 3148, 'birthday': 3149, 'occupying': 3150, 'peninsula': 3151, 'welcome': 3152, 'suggestion': 3153, 'investment': 3154, 'dot': 3155, 'generous': 3156, 'bolster': 3157, 'blowing': 3158, 'allows': 3159, 'profit': 3160, 'choosing': 3161, 'eliminating': 3162, 'arrested': 3163, 'praise': 3164, 'allah': 3165, 'volume': 3166, 'emergency': 3167, 'considers': 3168, 'darling': 3169, 'seized': 3170, 'disclose': 3171, 'golden': 3172, 'considering': 3173, 'telling': 3174, 'doj': 3175, 'saturday': 3176, 'wake': 3177, 'dramatic': 3178, 'bombshell': 3179, 'breathe': 3180, 'sought': 3181, 'announcing': 3182, 'probe': 3183, 'oversight': 3184, 'jason': 3185, 'chaffetz': 3186, 'utah': 3187, 'recess': 3188, 'briefing': 3189, 'raised': 3190, 'sen': 3191, 'ron': 3192, 'johnson': 3193, 'wi': 3194, 'senate': 3195, 'homeland': 3196, 'pray': 3197, 'firework': 3198, 'indictment': 3199, 'wind': 3200, 'tim': 3201, 'kaine': 3202, 'slide': 3203, 'bull': 3204, 'dog': 3205, 'faced': 3206, 'lifetime': 3207, 'hamilton': 3208, 'owns': 3209, 'net': 3210, 'constitutional': 3211, 'oliver': 3212, 'increasingly': 3213, 'tonight': 3214, 'encouraged': 3215, 'seeing': 3216, 'swing': 3217, 'mitt': 3218, 'romney': 3219, 'carolina': 3220, 'tomorrow': 3221, 'ballot': 3222, 'fortunately': 3223, 'casting': 3224, 'sunday': 3225, 'sheer': 3226, 'tougher': 3227, 'absentee': 3228, 'percentage': 3229, 'roughly': 3230, 'enjoyed': 3231, 'monday': 3232, 'updated': 3233, 'smiling': 3234, 'hispanic': 3235, 'compared': 3236, 'fueled': 3237, 'dislike': 3238, 'miami': 3239, 'university': 3240, 'professor': 3241, 'sat': 3242, 'sideline': 3243, 'map': 3244, 'expectation': 3245, 'reveal': 3246, 'unfortunately': 3247, 'denver': 3248, 'robust': 3249, 'red': 3250, 'shifted': 3251, 'direction': 3252, 'requested': 3253, 'crossing': 3254, 'enormous': 3255, 'enthusiastic': 3256, 'height': 3257, 'pic': 3258, 'strategist': 3259, 'cnn': 3260, 'longtime': 3261, 'weaver': 3262, 'unpopular': 3263, 'publicly': 3264, 'canceled': 3265, 'pivotal': 3266, 'mercy': 3267, 'tag': 3268, 'debt': 3269, 'pain': 3270, 'category': 3271, 'lower': 3272, 'yield': 3273, 'gm': 3274, 'mustard': 3275, 'india': 3276, 'genetically': 3277, 'modified': 3278, 'crop': 3279, 'hide': 3280, 'background': 3281, 'hybrid': 3282, 'developer': 3283, 'chemical': 3284, 'manufacturer': 3285, 'horse': 3286, 'advised': 3287, 'allowing': 3288, 'constitutes': 3289, 'regulatory': 3290, 'compliance': 3291, 'forced': 3292, 'agriculture': 3293, 'farm': 3294, 'contribute': 3295, 'agricultural': 3296, 'diet': 3297, 'safeguard': 3298, 'hidden': 3299, 'release': 3300, 'opposes': 3301, 'filed': 3302, 'union': 3303, 'organisation': 3304, 'contained': 3305, 'admission': 3306, 'engineering': 3307, 'submitted': 3308, 'clearly': 3309, 'recorded': 3310, 'includes': 3311, 'tested': 3312, 'essential': 3313, 'assessment': 3314, 'protocol': 3315, 'reduce': 3316, 'implicit': 3317, 'farmer': 3318, 'overcome': 3319, 'palm': 3320, 'tariff': 3321, 'influx': 3322, 'cheap': 3323, 'deliberate': 3324, 'effectively': 3325, 'devastated': 3326, 'served': 3327, 'commodity': 3328, 'indian': 3329, 'twisted': 3330, 'introduction': 3331, 'constitute': 3332, 'cynical': 3333, 'entry': 3334, 'comparison': 3335, 'respectively': 3336, 'technically': 3337, 'regulator': 3338, 'grass': 3339, 'foot': 3340, 'implication': 3341, 'trait': 3342, 'bar': 3343, 'gene': 3344, 'specifically': 3345, 'testing': 3346, 'ii': 3347, 'rape': 3348, 'mo': 3349, 'spokesperson': 3350, 'careful': 3351, 'labor': 3352, 'liability': 3353, 'strict': 3354, 'destroying': 3355, 'altogether': 3356, 'tent': 3357, 'bargain': 3358, 'glen': 3359, 'ford': 3360, 'woo': 3361, 'loose': 3362, 'gather': 3363, 'ruling': 3364, 'banner': 3365, 'achieved': 3366, 'aisle': 3367, 'exodus': 3368, 'transformed': 3369, 'ball': 3370, 'unexpected': 3371, 'gore': 3372, 'relentless': 3373, 'southern': 3374, 'steady': 3375, 'rev': 3376, 'jesse': 3377, 'strengthening': 3378, 'calculation': 3379, 'moved': 3380, 'narrow': 3381, 'ideological': 3382, 'duopoly': 3383, 'ronald': 3384, 'reagan': 3385, 'welfare': 3386, 'incarceration': 3387, 'nafta': 3388, 'objection': 3389, 'engineered': 3390, 'removed': 3391, 'arranged': 3392, 'deployment': 3393, 'jihadist': 3394, 'doctrine': 3395, 'partially': 3396, 'socialist': 3397, 'operational': 3398, 'africa': 3399, 'setting': 3400, 'membership': 3401, 'backing': 3402, 'january': 3403, 'oath': 3404, 'editorial': 3405, 'medicare': 3406, 'cutting': 3407, 'legacy': 3408, 'scheme': 3409, 'adopted': 3410, 'bob': 3411, 'dole': 3412, 'massachusetts': 3413, 'governor': 3414, 'affordable': 3415, 'constructed': 3416, 'mortgage': 3417, 'begging': 3418, 'mood': 3419, 'maneuver': 3420, 'targeted': 3421, 'trap': 3422, 'alan': 3423, 'simpson': 3424, 'commission': 3425, 'deficit': 3426, 'reduction': 3427, 'recommended': 3428, 'trillion': 3429, 'endorse': 3430, 'recommendation': 3431, 'formula': 3432, 'hoped': 3433, 'bipartisan': 3434, 'minority': 3435, 'massacre': 3436, 'emanuel': 3437, 'kansa': 3438, 'sandwich': 3439, 'pursue': 3440, 'marriage': 3441, 'reelection': 3442, 'clock': 3443, 'halt': 3444, 'spectacle': 3445, 'facto': 3446, 'super': 3447, 'quest': 3448, 'distinction': 3449, 'sequestration': 3450, 'austerity': 3451, 'institutional': 3452, 'crafted': 3453, 'importantly': 3454, 'organizing': 3455, 'hug': 3456, 'racism': 3457, 'banker': 3458, 'morgan': 3459, 'stanley': 3460, 'debacle': 3461, 'framework': 3462, 'element': 3463, 'deplorables': 3464, 'reluctance': 3465, 'inherent': 3466, 'dependent': 3467, 'inherently': 3468, 'unstable': 3469, 'arrangement': 3470, 'season': 3471, 'govern': 3472, 'folk': 3473, 'abused': 3474, 'cat': 3475, 'constituency': 3476, 'interim': 3477, 'unique': 3478, 'wage': 3479, 'suspect': 3480, 'inclusive': 3481, 'session': 3482, 'contacted': 3483, 'plant': 3484, 'young': 3485, 'seemingly': 3486, 'walked': 3487, 'unable': 3488, 'laughter': 3489, 'okay': 3490, 'camera': 3491, 'dea': 3492, 'prescription': 3493, 'drop': 3494, 'protects': 3495, 'pharma': 3496, 'fuel': 3497, 'opioid': 3498, 'claire': 3499, 'pharmaceutical': 3500, 'preventing': 3501, 'medication': 3502, 'legislator': 3503, 'protection': 3504, 'listen': 3505, 'motive': 3506, 'legislative': 3507, 'guideline': 3508, 'reducing': 3509, 'heroin': 3510, 'discipline': 3511, 'unusually': 3512, 'criticized': 3513, 'double': 3514, 'vowing': 3515, 'epidemic': 3516, 'behalf': 3517, 'insight': 3518, 'tasked': 3519, 'inspection': 3520, 'threshold': 3521, 'legislation': 3522, 'comprehensive': 3523, 'recovery': 3524, 'controversy': 3525, 'erupted': 3526, 'patch': 3527, 'sharply': 3528, 'empty': 3529, 'aggressive': 3530, 'rein': 3531, 'pill': 3532, 'mill': 3533, 'headed': 3534, 'filing': 3535, 'lawsuit': 3536, 'proliferation': 3537, 'disproportionately': 3538, 'fearing': 3539, 'fought': 3540, 'unnamed': 3541, 'patient': 3542, 'effective': 3543, 'healthcare': 3544, 'representing': 3545, 'lobbying': 3546, 'staffer': 3547, 'conference': 3548, 'recalled': 3549, 'pass': 3550, 'suspension': 3551, 'stunned': 3552, 'successful': 3553, 'bite': 3554, 'estimated': 3555, 'gift': 3556, 'passed': 3557, 'uncertain': 3558, 'regulate': 3559, 'overwhelmingly': 3560, 'extends': 3561, 'simple': 3562, 'coordinating': 3563, 'tool': 3564, 'limiting': 3565, 'burwell': 3566, 'panel': 3567, 'asserted': 3568, 'greatly': 3569, 'influential': 3570, 'conscience': 3571, 'talked': 3572, 'anybody': 3573, 'horrible': 3574, 'tragedy': 3575, 'sit': 3576, 'parent': 3577, 'illicit': 3578, 'marketplace': 3579, 'google': 3580, 'fate': 3581, 'somewhere': 3582, 'disgusting': 3583, 'notice': 3584, 'rep': 3585, 'attractive': 3586, 'accessible': 3587, 'door': 3588, 'fast': 3589, 'shareholder': 3590, 'demand': 3591, 'eventual': 3592, 'demise': 3593, 'cost': 3594, 'disturbing': 3595, 'chose': 3596, 'scream': 3597, 'assertion': 3598, 'maybe': 3599, 'canadian': 3600, 'expense': 3601, 'canada': 3602, 'stewart': 3603, 'finally': 3604, 'lewd': 3605, 'locker': 3606, 'billy': 3607, 'pacific': 3608, 'asian': 3609, 'arctic': 3610, 'established': 3611, 'develop': 3612, 'preserve': 3613, 'initially': 3614, 'denmark': 3615, 'norway': 3616, 'sweden': 3617, 'granted': 3618, 'capacity': 3619, 'vast': 3620, 'marine': 3621, 'render': 3622, 'valuable': 3623, 'assistance': 3624, 'lately': 3625, 'transport': 3626, 'corridor': 3627, 'address': 3628, 'stone': 3629, 'growth': 3630, 'broader': 3631, 'atlantic': 3632, 'ship': 3633, 'cargo': 3634, 'pirate': 3635, 'shipping': 3636, 'doubled': 3637, 'tense': 3638, 'territorial': 3639, 'dispute': 3640, 'retain': 3641, 'navigation': 3642, 'relatively': 3643, 'passage': 3644, 'mentioning': 3645, 'circumstance': 3646, 'participate': 3647, 'employ': 3648, 'us': 3649, 'manufactured': 3650, 'port': 3651, 'engagement': 3652, 'willing': 3653, 'beginning': 3654, 'curious': 3655, 'delivers': 3656, 'monitoring': 3657, 'developing': 3658, 'rival': 3659, 'netherlands': 3660, 'remains': 3661, 'adequate': 3662, 'terminal': 3663, 'accommodate': 3664, 'hopeful': 3665, 'prospective': 3666, 'participating': 3667, 'strategic': 3668, 'concentration': 3669, 'facility': 3670, 'transportation': 3671, 'hub': 3672, 'signed': 3673, 'contract': 3674, 'island': 3675, 'anticipated': 3676, 'exceed': 3677, 'ton': 3678, 'profound': 3679, 'invest': 3680, 'joint': 3681, 'enterprise': 3682, 'paying': 3683, 'ruble': 3684, 'interested': 3685, 'gaining': 3686, 'placing': 3687, 'attract': 3688, 'accuracy': 3689, 'taylor': 3690, 'assure': 3691, 'describes': 3692, 'latin': 3693, 'mexico': 3694, 'student': 3695, 'concentrate': 3696, 'offered': 3697, 'college': 3698, 'admits': 3699, 'surplus': 3700, 'requiring': 3701, 'bailout': 3702, 'bail': 3703, 'loan': 3704, 'monetary': 3705, 'creation': 3706, 'involving': 3707, 'june': 3708, 'summit': 3709, 'integrated': 3710, 'annually': 3711, 'establish': 3712, 'concert': 3713, 'regional': 3714, 'annual': 3715, 'communist': 3716, 'colombia': 3717, 'implement': 3718, 'sustainable': 3719, 'representative': 3720, 'approval': 3721, 'interestingly': 3722, 'disclosure': 3723, 'consultant': 3724, 'catholic': 3725, 'georgetown': 3726, 'pope': 3727, 'francis': 3728, 'jesuit': 3729, 'picked': 3730, 'globe': 3731, 'partnership': 3732, 'poverty': 3733, 'transform': 3734, 'patrick': 3735, 'wood': 3736, 'rising': 3737, 'transformation': 3738, 'replacement': 3739, 'capitalism': 3740, 'revenue': 3741, 'link': 3742, 'electronic': 3743, 'object': 3744, 'accomplish': 3745, 'understood': 3746, 'perfectly': 3747, 'database': 3748, 'monitor': 3749, 'slavery': 3750, 'warns': 3751, 'archive': 3752, 'palestinian': 3753, 'writer': 3754, 'drama': 3755, 'greek': 3756, 'myth': 3757, 'mixed': 3758, 'actor': 3759, 'performance': 3760, 'classic': 3761, 'text': 3762, 'language': 3763, 'village': 3764, 'brings': 3765, 'edge': 3766, 'occupation': 3767, 'teen': 3768, 'atmosphere': 3769, 'saddam': 3770, 'square': 3771, 'baghdad': 3772, 'israel': 3773, 'dylan': 3774, 'drive': 3775, 'israeli': 3776, 'fundamental': 3777, 'strength': 3778, 'beaten': 3779, 'drawn': 3780, 'speculation': 3781, 'laura': 3782, 'pizza': 3783, 'rescued': 3784, 'reddit': 3785, 'convicted': 3786, 'refuge': 3787, 'trafficking': 3788, 'cross': 3789, 'freed': 3790, 'king': 3791, 'harvard': 3792, 'disrupt': 3793, 'sentenced': 3794, 'alien': 3795, 'jeffrey': 3796, 'epstein': 3797, 'mike': 3798, 'till': 3799, 'application': 3800, 'grew': 3801, 'stranger': 3802, 'h': 3803, 'anonymous': 3804, 'sick': 3805, 'hawaii': 3806, 'l': 3807, 'handled': 3808, 'instinct': 3809, 'dealer': 3810, 'minor': 3811, 'jet': 3812, 'express': 3813, 'inner': 3814, 'deserves': 3815, 'scrutiny': 3816, 'trip': 3817, 'confirmation': 3818, 'monopoly': 3819, 'warner': 3820, 'feared': 3821, 'merger': 3822, 'competitor': 3823, 'crushing': 3824, 'demonstrates': 3825, 'takeover': 3826, 'promote': 3827, 'removing': 3828, 'launch': 3829, 'cartel': 3830, 'dominated': 3831, 'operate': 3832, 'radio': 3833, 'obtain': 3834, 'fee': 3835, 'similarly': 3836, 'comply': 3837, 'shut': 3838, 'anxious': 3839, 'afford': 3840, 'hire': 3841, 'strengthened': 3842, 'brick': 3843, 'retailer': 3844, 'acquisition': 3845, 'famous': 3846, 'fed': 3847, 'enable': 3848, 'higher': 3849, 'tilt': 3850, 'crony': 3851, 'excessive': 3852, 'boom': 3853, 'bust': 3854, 'ending': 3855, 'seek': 3856, 'abandon': 3857, 'korean': 3858, 'test': 3859, 'satellite': 3860, 'fifth': 3861, 'defiance': 3862, 'lone': 3863, 'involve': 3864, 'resume': 3865, 'sensitive': 3866, 'clapper': 3867, 'signing': 3868, 'amid': 3869, 'ruler': 3870, 'plagued': 3871, 'landmark': 3872, 'resolve': 3873, 'trunews': 3874, 'rick': 3875, 'monthly': 3876, 'provides': 3877, 'worldwide': 3878, 'church': 3879, 'bigotry': 3880, 'ta': 3881, 'proposal': 3882, 'aboard': 3883, 'expects': 3884, 'rational': 3885, 'unit': 3886, 'intended': 3887, 'outer': 3888, 'segment': 3889, 'bid': 3890, 'approved': 3891, 'flight': 3892, 'contractor': 3893, 'forum': 3894, 'display': 3895, 'powered': 3896, 'slogan': 3897, 'constant': 3898, 'retreat': 3899, 'rand': 3900, 'seven': 3901, 'town': 3902, 'clothes': 3903, 'hurricane': 3904, 'matthew': 3905, 'debating': 3906, 'undecided': 3907, 'dissent': 3908, 'racist': 3909, 'sexist': 3910, 'patriotic': 3911, 'mandatory': 3912, 'capture': 3913, 'visiting': 3914, 'hiroshima': 3915, 'friendly': 3916, 'flop': 3917, 'son': 3918, 'orlando': 3919, 'transcript': 3920, 'shooter': 3921, 'pledged': 3922, 'allegiance': 3923, 'nra': 3924, 'promotes': 3925, 'threatens': 3926, 'parenthood': 3927, 'aclu': 3928, 'select': 3929, 'airline': 3930, 'tsa': 3931, 'transition': 3932, 'kasich': 3933, 'bathroom': 3934, 'foxnews': 3935, 'sponsored': 3936, 'pledge': 3937, 'suggests': 3938, 'delegate': 3939, 'wyoming': 3940, 'ted': 3941, 'cruz': 3942, 'basement': 3943, 'vow': 3944, 'replaced': 3945, 'gun': 3946, 'airport': 3947, 'cuba': 3948, 'communism': 3949, 'proposes': 3950, 'execute': 3951, 'susan': 3952, 'hampshire': 3953, 'martin': 3954, 'malley': 3955, 'race': 3956, 'iowa': 3957, 'dumb': 3958, 'accusation': 3959, 'smoking': 3960, 'firing': 3961, 'realizing': 3962, 'difficulty': 3963, 'wild': 3964, 'jihad': 3965, 'urge': 3966, 'owner': 3967, 'firearm': 3968, 'horror': 3969, 'charlie': 3970, 'christmas': 3971, 'mohammed': 3972, 'cartoon': 3973, 'burn': 3974, 'trend': 3975, 'paris': 3976, 'researcher': 3977, 'cultural': 3978, 'appropriation': 3979, 'quit': 3980, 'discovery': 3981, 'discover': 3982, 'immigration': 3983, 'screening': 3984, 'subsidy': 3985, 'electricity': 3986, 'improve': 3987, 'replacing': 3988, 'nasa': 3989, 'sexism': 3990, 'inequality': 3991, 'suffers': 3992, 'gender': 3993, 'squad': 3994, 'humor': 3995, 'chart': 3996, 'joke': 3997, 'laughed': 3998, 'depressed': 3999, 'county': 4000, 'teacher': 4001, 'asks': 4002, 'arabic': 4003, 'wear': 4004, 'spontaneous': 4005, 'classmate': 4006, 'lunch': 4007, 'regain': 4008, 'impressed': 4009, 'tough': 4010, 'socialism': 4011, 'accepts': 4012, 'award': 4013, 'surveillance': 4014, 'horizon': 4015, 'acquire': 4016, 'prof': 4017, 'particle': 4018, 'buck': 4019, 'ordinary': 4020, 'negotiator': 4021, 'leg': 4022, 'negotiation': 4023, 'junior': 4024, 'ramadi': 4025, 'advance': 4026, 'pool': 4027, 'ny': 4028, 'mayor': 4029, 'cowboy': 4030, 'diplomacy': 4031, 'shaped': 4032, 'intellectual': 4033, 'copy': 4034, 'slave': 4035, 'met': 4036, 'prompt': 4037, 'hashtag': 4038, 'reset': 4039, 'hebdo': 4040, 'sends': 4041, 'convenience': 4042, 'racial': 4043, 'sue': 4044, 'demanding': 4045, 'protesting': 4046, 'normalization': 4047, 'tourist': 4048, 'cuban': 4049, 'outspoken': 4050, 'learning': 4051, 'dirty': 4052, 'dallas': 4053, 'threw': 4054, 'arena': 4055, 'row': 4056, 'broadcaster': 4057, 'rumor': 4058, 'stance': 4059, 'ticket': 4060, 'penny': 4061, 'buying': 4062, 'gon': 4063, 'na': 4064, 'adult': 4065, 'gotten': 4066, 'viewpoint': 4067, 'sport': 4068, 'typical': 4069, 'hatred': 4070, 'daniel': 4071, 'unfavorable': 4072, 'plague': 4073, 'osama': 4074, 'bin': 4075, 'laden': 4076, 'feminist': 4077, 'awkward': 4078, 'badly': 4079, 'joy': 4080, 'stalin': 4081, 'truck': 4082, 'oh': 4083, 'stepped': 4084, 'lady': 4085, 'arkansas': 4086, 'offended': 4087, 'theme': 4088, 'deny': 4089, 'label': 4090, 'stuck': 4091, 'politifact': 4092, 'respected': 4093, 'certified': 4094, 'shouted': 4095, 'unclear': 4096, 'invoked': 4097, 'handling': 4098, 'material': 4099, 'blackberry': 4100, 'proportion': 4101, 'opponent': 4102, 'oxygen': 4103, 'tone': 4104, 'wrapped': 4105, 'frustrated': 4106, 'complexity': 4107, 'hedge': 4108, 'homicide': 4109, 'slow': 4110, 'recording': 4111, 'tribune': 4112, 'spike': 4113, 'memorial': 4114, 'webster': 4115, 'grade': 4116, 'principal': 4117, 'recruited': 4118, 'naacp': 4119, 'twin': 4120, 'edward': 4121, 'responding': 4122, 'gunfire': 4123, 'sidewalk': 4124, 'avenue': 4125, 'documented': 4126, 'affiliation': 4127, 'guard': 4128, 'deployed': 4129, 'neighborhood': 4130, 'repeat': 4131, 'offender': 4132, 'cub': 4133, 'shift': 4134, 'confident': 4135, 'occur': 4136, 'privacy': 4137, 'watchdog': 4138, 'kirby': 4139, 'hacker': 4140, 'insist': 4141, 'tackle': 4142, 'interior': 4143, 'collect': 4144, 'exempt': 4145, 'colour': 4146, 'administrative': 4147, 'register': 4148, 'jean': 4149, 'kurd': 4150, 'kurdish': 4151, 'turkish': 4152, 'raqqa': 4153, 'toward': 4154, 'river': 4155, 'laying': 4156, 'clash': 4157, 'allied': 4158, 'turk': 4159, 'religious': 4160, 'insurgency': 4161, 'intends': 4162, 'physically': 4163, 'unite': 4164, 'warned': 4165, 'northeast': 4166, 'feud': 4167, 'grow': 4168, 'confusing': 4169, 'somewhat': 4170, 'knocking': 4171, 'palace': 4172, 'wherever': 4173, 'gained': 4174, 'tracking': 4175, 'shrinking': 4176, 'libertarian': 4177, 'gary': 4178, 'survey': 4179, 'v': 4180, 'contest': 4181, 'leaning': 4182, 'boost': 4183, 'margin': 4184, 'consistent': 4185, 'meet': 4186, 'headquarters': 4187, 'september': 4188, 'switzerland': 4189, 'mediterranean': 4190, 'lake': 4191, 'geneva': 4192, 'envoy': 4193, 'cyprus': 4194, 'outstanding': 4195, 'phase': 4196, 'commitment': 4197, 'settlement': 4198, 'unify': 4199, 'greece': 4200, 'ankara': 4201, 'soldier': 4202, 'enjoys': 4203, 'halloween': 4204, 'witch': 4205, 'celebrate': 4206, 'st': 4207, 'dress': 4208, 'costume': 4209, 'sacrifice': 4210, 'animal': 4211, 'shelter': 4212, 'adoption': 4213, 'trick': 4214, 'jack': 4215, 'festival': 4216, 'retail': 4217, 'analytics': 4218, 'celebration': 4219, 'tremendous': 4220, 'lord': 4221, 'spirit': 4222, 'escape': 4223, 'sun': 4224, 'calendar': 4225, 'wheel': 4226, 'subsequently': 4227, 'pronounced': 4228, 'sam': 4229, 'temporarily': 4230, 'communicating': 4231, 'ancestor': 4232, 'aged': 4233, 'practitioner': 4234, 'lit': 4235, 'guide': 4236, 'protective': 4237, 'pulling': 4238, 'traveling': 4239, 'ghost': 4240, 'wore': 4241, 'straw': 4242, 'paragraph': 4243, 'evolved': 4244, 'fastest': 4245, 'conduct': 4246, 'ritual': 4247, 'wikipedia': 4248, 'sacred': 4249, 'physical': 4250, 'healing': 4251, 'describe': 4252, 'instance': 4253, 'hair': 4254, 'wisdom': 4255, 'angeles': 4256, 'nelson': 4257, 'ex': 4258, 'mormon': 4259, 'worship': 4260, 'barely': 4261, 'grace': 4262, 'jesus': 4263, 'christ': 4264, 'smile': 4265, 'brief': 4266, 'ranging': 4267, 'tribe': 4268, 'shake': 4269, 'examining': 4270, 'eve': 4271, 'bible': 4272, 'pastor': 4273, 'invite': 4274, 'neighbor': 4275, 'judgment': 4276, 'attendance': 4277, 'gospel': 4278, 'celebrating': 4279, 'warn': 4280, 'revolution': 4281, 'electorate': 4282, 'resounding': 4283, 'bay': 4284, 'capitol': 4285, 'belong': 4286, 'roger': 4287, 'riot': 4288, 'compromise': 4289, 'whatsoever': 4290, 'stronger': 4291, 'rough': 4292, 'driver': 4293, 'depending': 4294, 'lived': 4295, 'flame': 4296, 'nut': 4297, 'hero': 4298, 'timothy': 4299, 'loaded': 4300, 'oklahoma': 4301, 'featured': 4302, 'pb': 4303, 'atlanta': 4304, 'literature': 4305, 'info': 4306, 'cellphone': 4307, 'household': 4308, 'purely': 4309, 'metadata': 4310, 'incredibly': 4311, 'enabled': 4312, 'nsa': 4313, 'collecting': 4314, 'coordinate': 4315, 'unusual': 4316, 'communicate': 4317, 'leaf': 4318, 'revealing': 4319, 'snowden': 4320, 'employer': 4321, 'cyber': 4322, 'division': 4323, 'enacted': 4324, 'flee': 4325, 'transparency': 4326, 'census': 4327, 'perpetrator': 4328, 'slaughtered': 4329, 'collaboration': 4330, 'dedicated': 4331, 'interesting': 4332, 'childhood': 4333, 'spy': 4334, 'graduated': 4335, 'german': 4336, 'friendship': 4337, 'married': 4338, 'mary': 4339, 'goat': 4340, 'master': 4341, 'ussr': 4342, 'coach': 4343, 'devoted': 4344, 'practical': 4345, 'training': 4346, 'defeat': 4347, 'illuminati': 4348, 'afraid': 4349, 'notorious': 4350, 'prosperity': 4351, 'jacob': 4352, 'alive': 4353, 'oligarch': 4354, 'mafia': 4355, 'realm': 4356, 'lay': 4357, 'borrowed': 4358, 'garden': 4359, 'unemployed': 4360, 'punishment': 4361, 'hanging': 4362, 'tribal': 4363, 'depends': 4364, 'lung': 4365, 'resident': 4366, 'strip': 4367, 'license': 4368, 'exploit': 4369, 'neighboring': 4370, 'blocked': 4371, 'demanded': 4372, 'satisfy': 4373, 'extending': 4374, 'responded': 4375, 'santa': 4376, 'jungle': 4377, 'clearing': 4378, 'april': 4379, 'landing': 4380, 'acre': 4381, 'export': 4382, 'juan': 4383, 'authored': 4384, 'highlight': 4385, 'ethnicity': 4386, 'rural': 4387, 'subsequent': 4388, 'coffee': 4389, 'barred': 4390, 'permit': 4391, 'negotiate': 4392, 'implemented': 4393, 'governmental': 4394, 'displaced': 4395, 'negotiated': 4396, 'disappointed': 4397, 'proposed': 4398, 'purchasing': 4399, 'contaminated': 4400, 'precious': 4401, 'decrease': 4402, 'solar': 4403, 'marched': 4404, 'rob': 4405, 'blocking': 4406, 'arrive': 4407, 'z': 4408, 'listening': 4409, 'concede': 4410, 'passing': 4411, 'conceded': 4412, 'tower': 4413, 'idaho': 4414, 'nervous': 4415, 'watching': 4416, 'damn': 4417, 'chris': 4418, 'christie': 4419, 'jeb': 4420, 'spoke': 4421, 'thrilled': 4422, 'notify': 4423, 'proceed': 4424, 'solve': 4425, 'math': 4426, 'doom': 4427, 'twice': 4428, 'weld': 4429, 'counted': 4430, 'checked': 4431, 'teach': 4432, 'spanish': 4433, 'caller': 4434, 'attending': 4435, 'repeal': 4436, 'requirement': 4437, 'english': 4438, 'proposition': 4439, 'measure': 4440, 'immigrant': 4441, 'poised': 4442, 'reverse': 4443, 'competitive': 4444, 'returning': 4445, 'favorable': 4446, 'emphasize': 4447, 'thrust': 4448, 'easier': 4449, 'taught': 4450, 'truthfeed': 4451, 'amy': 4452, 'moreno': 4453, 'biased': 4454, 'smell': 4455, 'loretta': 4456, 'lynch': 4457, 'outsider': 4458, 'resistance': 4459, 'lover': 4460, 'throne': 4461, 'posed': 4462, 'gordon': 4463, 'bilateral': 4464, 'ballistic': 4465, 'patrol': 4466, 'beijing': 4467, 'rapidly': 4468, 'evolving': 4469, 'persistent': 4470, 'potentially': 4471, 'driving': 4472, 'incredible': 4473, 'fruit': 4474, 'shed': 4475, 'contains': 4476, 'compound': 4477, 'laboratory': 4478, 'tumor': 4479, 'derived': 4480, 'clean': 4481, 'forming': 4482, 'activation': 4483, 'immune': 4484, 'developed': 4485, 'ethical': 4486, 'clinical': 4487, 'chemotherapy': 4488, 'elderly': 4489, 'northeastern': 4490, 'wondering': 4491, 'greenhouse': 4492, 'spot': 4493, 'diagnosed': 4494, 'disappear': 4495, 'reacted': 4496, 'removal': 4497, 'surgery': 4498, 'radiation': 4499, 'dire': 4500, 'hack': 4501, 'fec': 4502, 'installed': 4503, 'vulnerability': 4504, 'mathematically': 4505, 'snyder': 4506, 'february': 4507, 'increasing': 4508, 'taxpayer': 4509, 'functioning': 4510, 'printing': 4511, 'bunch': 4512, 'belongs': 4513, 'whenever': 4514, 'owe': 4515, 'starting': 4516, 'deposit': 4517, 'checking': 4518, 'certificate': 4519, 'anymore': 4520, 'fraction': 4521, 'writes': 4522, 'basically': 4523, 'apply': 4524, 'dramatically': 4525, 'borrowing': 4526, 'restoring': 4527, 'constitution': 4528, 'fundamentally': 4529, 'complaining': 4530, 'technical': 4531, 'purchased': 4532, 'figured': 4533, 'assume': 4534, 'payment': 4535, 'gdp': 4536, 'hook': 4537, 'accounting': 4538, 'threaten': 4539, 'hitler': 4540, 'ridiculous': 4541, 'equity': 4542, 'inclusion': 4543, 'aftermath': 4544, 'contentious': 4545, 'faculty': 4546, 'responsive': 4547, 'gerald': 4548, 'campus': 4549, 'ward': 4550, 'ethnic': 4551, 'psychological': 4552, 'governed': 4553, 'preserving': 4554, 'enrich': 4555, 'welcoming': 4556, 'elect': 4557, 'lucky': 4558, 'fury': 4559, 'deport': 4560, 'prompting': 4561, 'fallout': 4562, 'widespread': 4563, 'emerging': 4564, 'deported': 4565, 'rip': 4566, 'parking': 4567, 'deportation': 4568, 'mexican': 4569, 'minimum': 4570, 'rapist': 4571, 'dry': 4572, 'cheating': 4573, 'weigh': 4574, 'transgender': 4575, 'g': 4576, 'plain': 4577, 'petition': 4578, 'birth': 4579, 'ruled': 4580, 'relying': 4581, 'shower': 4582, 'comparable': 4583, 'appeal': 4584, 'circuit': 4585, 'reversed': 4586, 'relied': 4587, 'denying': 4588, 'dignity': 4589, 'lgbt': 4590, 'attacking': 4591, 'behaviour': 4592, 'declining': 4593, 'beneath': 4594, 'cake': 4595, 'fray': 4596, 'blunt': 4597, 'texas': 4598, 'commissioner': 4599, 'exposing': 4600, 'proud': 4601, 'namely': 4602, 'texan': 4603, 'drove': 4604, 'surge': 4605, 'hardest': 4606, 'painting': 4607, 'employed': 4608, 'stirred': 4609, 'hate': 4610, 'counterpart': 4611, 'enact': 4612, 'serial': 4613, 'doe': 4614, 'jane': 4615, 'attend': 4616, 'perform': 4617, 'oral': 4618, 'maria': 4619, 'encounter': 4620, 'witnessed': 4621, 'defendant': 4622, 'plaintiff': 4623, 'ken': 4624, 'fun': 4625, 'testified': 4626, 'registration': 4627, 'recruit': 4628, 'instructed': 4629, 'paint': 4630, 'grows': 4631, 'disparity': 4632, 'keith': 4633, 'pattern': 4634, 'nationwide': 4635, 'statewide': 4636, 'hill': 4637, 'median': 4638, 'nationally': 4639, 'older': 4640, 'advancing': 4641, 'economically': 4642, 'obtaining': 4643, 'equality': 4644, 'uninsured': 4645, 'medicaid': 4646, 'unnecessary': 4647, 'charlotte': 4648, 'backlash': 4649, 'brutality': 4650, 'factor': 4651, 'consequential': 4652, 'unfair': 4653, 'outlined': 4654, 'bragging': 4655, 'suppression': 4656, 'pac': 4657, 'admitting': 4658, 'targeting': 4659, 'cleveland': 4660, 'heat': 4661, 'frankly': 4662, 'suburban': 4663, 'stuff': 4664, 'operative': 4665, 'busted': 4666, 'undercover': 4667, 'dare': 4668, 'exercising': 4669, 'closing': 4670, 'waving': 4671, 'punish': 4672, 'juror': 4673, 'seizing': 4674, 'wildlife': 4675, 'formerly': 4676, 'deliberation': 4677, 'ammon': 4678, 'bundy': 4679, 'motion': 4680, 'dismiss': 4681, 'remark': 4682, 'marcus': 4683, 'mumford': 4684, 'questioning': 4685, 'interviewed': 4686, 'determining': 4687, 'opposed': 4688, 'additional': 4689, 'sarah': 4690, 'posse': 4691, 'dropping': 4692, 'electing': 4693, 'troubling': 4694, 'kremlin': 4695, 'gentleman': 4696, 'dear': 4697, 'violate': 4698, 'releasing': 4699, 'critical': 4700, 'rushed': 4701, 'explicit': 4702, 'guidance': 4703, 'examined': 4704, 'prohibited': 4705, 'directed': 4706, 'nomination': 4707, 'delayed': 4708, 'principled': 4709, 'servant': 4710, 'deepest': 4711, 'stick': 4712, 'panic': 4713, 'guess': 4714, 'tired': 4715, 'webb': 4716, 'agreeing': 4717, 'cheryl': 4718, 'immunity': 4719, 'kingdom': 4720, 'swipe': 4721, 'wonderful': 4722, 'maryland': 4723, 'switched': 4724, 'noting': 4725, 'concluded': 4726, 'complaint': 4727, 'properly': 4728, 'stormed': 4729, 'parker': 4730, 'pinterest': 4731, 'pocket': 4732, 'unhappy': 4733, 'attended': 4734, 'mob': 4735, 'amendment': 4736, 'fanatic': 4737, 'yelled': 4738, 'courage': 4739, 'assassination': 4740, 'roosevelt': 4741, 'bullet': 4742, 'chest': 4743, 'tweet': 4744, 'gray': 4745, 'precisely': 4746, 'carrying': 4747, 'scary': 4748, 'follower': 4749, 'urged': 4750, 'educated': 4751, 'initiative': 4752, 'sheriff': 4753, 'economist': 4754, 'setback': 4755, 'honored': 4756, 'boast': 4757, 'improvement': 4758, 'incentive': 4759, 'breakthrough': 4760, 'mobilize': 4761, 'pension': 4762, 'earnings': 4763, 'rely': 4764, 'processing': 4765, 'forefront': 4766, 'colin': 4767, 'oppression': 4768, 'ca': 4769, 'earning': 4770, 'burning': 4771, 'anthem': 4772, 'san': 4773, 'francisco': 4774, 'er': 4775, 'educate': 4776, 'hosted': 4777, 'latino': 4778, 'attendee': 4779, 'policing': 4780, 'skill': 4781, 'distrust': 4782, 'stunt': 4783, 'courageous': 4784, 'exciting': 4785, 'homeless': 4786, 'kit': 4787, 'trace': 4788, 'athlete': 4789, 'appearance': 4790, 'breakout': 4791, 'carefully': 4792, 'denial': 4793, 'handle': 4794, 'trailer': 4795, 'park': 4796, 'trash': 4797, 'hater': 4798, 'scare': 4799, 'exploded': 4800, 'anyway': 4801, 'tape': 4802, 'comeback': 4803, 'watergate': 4804, 'defender': 4805, 'ignored': 4806, 'flower': 4807, 'promotion': 4808, 'urging': 4809, 'trooper': 4810, 'readiness': 4811, 'rejected': 4812, 'verbal': 4813, 'sunk': 4814, 'guilt': 4815, 'essay': 4816, 'manufacturing': 4817, 'pot': 4818, 'finish': 4819, 'invitation': 4820, 'solid': 4821, 'sandoval': 4822, 'ease': 4823, 'barbara': 4824, 'austin': 4825, 'paycheck': 4826, 'earn': 4827, 'hunt': 4828, 'md': 4829, 'oppose': 4830, 'alcohol': 4831, 'carter': 4832, 'disastrous': 4833, 'hostage': 4834, 'unknown': 4835, 'proceeded': 4836, 'marijuana': 4837, 'herb': 4838, 'tom': 4839, 'contempt': 4840, 'jake': 4841, 'physician': 4842, 'maine': 4843, 'mental': 4844, 'phil': 4845, 'heel': 4846, 'closest': 4847, 'suggesting': 4848, 'intimate': 4849, 'explicitly': 4850, 'stored': 4851, 'disgraced': 4852, 'plane': 4853, 'beck': 4854, 'timeline': 4855, 'trove': 4856, 'tpp': 4857, 'ttip': 4858, 'trans': 4859, 'protested': 4860, 'dent': 4861, 'muscle': 4862, 'voiced': 4863, 'workforce': 4864, 'suffered': 4865, 'bloomberg': 4866, 'pause': 4867, 'eliminated': 4868, 'angela': 4869, 'merkel': 4870, 'secrecy': 4871, 'transparent': 4872, 'jump': 4873, 'restricted': 4874, 'quake': 4875, 'substantial': 4876, 'magnitude': 4877, 'earthquake': 4878, 'shattered': 4879, 'pile': 4880, 'debris': 4881, 'evening': 4882, 'downtown': 4883, 'shutdown': 4884, 'gawker': 4885, 'evacuated': 4886, 'steve': 4887, 'highway': 4888, 'bridge': 4889, 'shaking': 4890, 'loud': 4891, 'awful': 4892, 'tank': 4893, 'gov': 4894, 'tweeted': 4895, 'gillespie': 4896, 'mcdonald': 4897, 'stood': 4898, 'shook': 4899, 'alarmed': 4900, 'operator': 4901, 'sept': 4902, 'afterward': 4903, 'sway': 4904, 'clown': 4905, 'helicopter': 4906, 'mccarthy': 4907, 'noise': 4908, 'bed': 4909, 'challenging': 4910, 'pose': 4911, 'performing': 4912, 'meaningful': 4913, 'defect': 4914, 'hunting': 4915, 'cattle': 4916, 'laugh': 4917, 'entertaining': 4918, 'unpredictable': 4919, 'colleague': 4920, 'relationship': 4921, 'imperative': 4922, 'defeated': 4923, 'punished': 4924, 'brotherhood': 4925, 'touted': 4926, 'egypt': 4927, 'sparking': 4928, 'brokered': 4929, 'ceasefire': 4930, 'hamas': 4931, 'jordan': 4932, 'warhead': 4933, 'battleship': 4934, 'disaster': 4935, 'predicting': 4936, 'tight': 4937, 'pollster': 4938, 'reasonably': 4939, 'viewed': 4940, 'indicator': 4941, 'momentum': 4942, 'offense': 4943, 'fresh': 4944, 'vacuum': 4945, 'sum': 4946, 'upside': 4947, 'interfere': 4948, 'vt': 4949, 'em': 4950, 'volunteer': 4951, 'brennan': 4952, 'bitter': 4953, 'naval': 4954, 'admiral': 4955, 'historian': 4956, 'accident': 4957, 'implementing': 4958, 'imperial': 4959, 'navy': 4960, 'underway': 4961, 'lacked': 4962, 'aimed': 4963, 'formed': 4964, 'outbreak': 4965, 'matched': 4966, 'christopher': 4967, 'spotted': 4968, 'reinforce': 4969, 'harbor': 4970, 'runner': 4971, 'roman': 4972, 'vi': 4973, 'invaded': 4974, 'belgium': 4975, 'betrayed': 4976, 'pound': 4977, 'jerry': 4978, 'flow': 4979, 'submarine': 4980, 'battery': 4981, 'limitation': 4982, 'dishonest': 4983, 'sub': 4984, 'artificial': 4985, 'excellent': 4986, 'prop': 4987, 'armored': 4988, 'weakness': 4989, 'fatal': 4990, 'warship': 4991, 'sister': 4992, 'aircraft': 4993, 'italian': 4994, 'carrier': 4995, 'designated': 4996, 'veteran': 4997, 'ohio': 4998, 'custom': 4999, 'shipment': 5000, 'labeling': 5001, 'environmental': 5002, 'pollution': 5003, 'metal': 5004, 'ill': 5005, 'vegetable': 5006, 'yellow': 5007, 'producing': 5008, 'academy': 5009, 'farming': 5010, 'fish': 5011, 'chicken': 5012, 'flu': 5013, 'rice': 5014, 'processed': 5015, 'dinner': 5016, 'pepper': 5017, 'vendor': 5018, 'phony': 5019, 'questionable': 5020, 'indonesia': 5021, 'stark': 5022, 'strain': 5023, 'wsj': 5024, 'blasphemy': 5025, 'calm': 5026, 'prominent': 5027, 'elevated': 5028, 'liner': 5029, 'angered': 5030, 'apologized': 5031, 'cooperate': 5032, 'steam': 5033, 'conservatism': 5034, 'nonviolent': 5035, 'macy': 5036, 'radar': 5037, 'kuwait': 5038, 'assist': 5039, 'martha': 5040, 'grim': 5041, 'torn': 5042, 'repair': 5043, 'foe': 5044, 'pleaded': 5045, 'lawful': 5046, 'successfully': 5047, 'ukraine': 5048, 'stable': 5049, 'alarming': 5050, 'enters': 5051, 'preferable': 5052, 'automatically': 5053, 'spam': 5054, 'refer': 5055, 'mistakenly': 5056, 'italic': 5057, 'emphasized': 5058, 'quoting': 5059, 'span': 5060, 'appropriately': 5061, 'separated': 5062, 'preview': 5063, 'drinking': 5064, 'advocate': 5065, 'boycott': 5066, 'mate': 5067, 'joining': 5068, 'crook': 5069, 'knock': 5070, 'length': 5071, 'mount': 5072, 'throw': 5073, 'drink': 5074, 'wine': 5075, 'marching': 5076, 'embassy': 5077, 'telephone': 5078, 'scroll': 5079, 'ecuador': 5080, 'sympathetic': 5081, 'affected': 5082, 'definition': 5083, 'faster': 5084, 'convincing': 5085, 'thesis': 5086, 'polarization': 5087, 'hart': 5088, 'dakota': 5089, 'carol': 5090, 'surrounded': 5091, 'demonstrator': 5092, 'controversial': 5093, 'spray': 5094, 'demonstrating': 5095, 'occupied': 5096, 'sioux': 5097, 'reservation': 5098, 'drawing': 5099, 'reconsider': 5100, 'dapl': 5101, 'reprinted': 5102, 'presenting': 5103, 'void': 5104, 'intercept': 5105, 'prayer': 5106, 'van': 5107, 'approached': 5108, 'dragged': 5109, 'slammed': 5110, 'pregnant': 5111, 'advertisement': 5112, 'jailed': 5113, 'searched': 5114, 'committing': 5115, 'criticism': 5116, 'advocating': 5117, 'rubble': 5118, 'measured': 5119, 'km': 5120, 'fled': 5121, 'columnist': 5122, 'margaret': 5123, 'repeating': 5124, 'bragged': 5125, 'urgent': 5126, 'engaging': 5127, 'injustice': 5128, 'ferguson': 5129, 'palestine': 5130, 'neoliberal': 5131, 'onslaught': 5132, 'flint': 5133, 'moore': 5134, 'convert': 5135, 'lock': 5136, 'killer': 5137, 'angel': 5138, 'thread': 5139, 'rush': 5140, 'anniversary': 5141, 'resulted': 5142, 'accountability': 5143, 'financially': 5144, 'skeptical': 5145, 'winger': 5146, 'earnest': 5147, 'douglas': 5148, 'advice': 5149, 'rationale': 5150, 'recipient': 5151, 'acceptance': 5152, 'advanced': 5153, 'forgive': 5154, 'sounding': 5155, 'intend': 5156, 'bell': 5157, 'amnesty': 5158, 'pen': 5159, 'instagram': 5160, 'matt': 5161, 'lucas': 5162, 'posing': 5163, 'jay': 5164, 'riding': 5165, 'ufo': 5166, 'valley': 5167, 'iii': 5168, 'consume': 5169, 'crush': 5170, 'declares': 5171, 'mali': 5172, 'contradiction': 5173, 'resort': 5174, 'foolish': 5175, 'approve': 5176, 'settle': 5177, 'boot': 5178, 'cluster': 5179, 'random': 5180, 'atomic': 5181, 'rocket': 5182, 'zionist': 5183, 'missed': 5184, 'triumph': 5185, 'intervene': 5186, 'pissed': 5187, 'interrupted': 5188, 'successor': 5189, 'noticed': 5190, 'campaigning': 5191, 'salary': 5192, 'spends': 5193, 'insulting': 5194, 'kwn': 5195, 'looked': 5196, 'doug': 5197, 'sprott': 5198, 'ounce': 5199, 'accelerated': 5200, 'score': 5201, 'fixed': 5202, 'miner': 5203, 'hawkish': 5204, 'hike': 5205, 'extension': 5206, 'q': 5207, 'bonus': 5208, 'incorrect': 5209, 'accomplished': 5210, 'fascinating': 5211, 'remarkable': 5212, 'reserved': 5213, 'linking': 5214, 'gate': 5215, 'morocco': 5216, 'spain': 5217, 'bare': 5218, 'naked': 5219, 'gmail': 5220, 'invention': 5221, 'patent': 5222, 'justification': 5223, 'scholar': 5224, 'phenomenon': 5225, 'legally': 5226, 'entrepreneur': 5227, 'commonly': 5228, 'examiner': 5229, 'applicant': 5230, 'compelled': 5231, 'surfaced': 5232, 'ross': 5233, 'frequency': 5234, 'unaware': 5235, 'restrict': 5236, 'publication': 5237, 'harmful': 5238, 'ironic': 5239, 'steven': 5240, 'indicates': 5241, 'efficient': 5242, 'conversion': 5243, 'likewise': 5244, 'none': 5245, 'existing': 5246, 'remained': 5247, 'dana': 5248, 'priest': 5249, 'lasted': 5250, 'evidently': 5251, 'eisenhower': 5252, 'persist': 5253, 'combination': 5254, 'domain': 5255, 'suing': 5256, 'marc': 5257, 'counsel': 5258, 'desired': 5259, 'precise': 5260, 'reminder': 5261, 'awaiting': 5262, 'shall': 5263, 'payroll': 5264, 'employment': 5265, 'coupled': 5266, 'privilege': 5267, 'compensation': 5268, 'departure': 5269, 'contributing': 5270, 'independently': 5271, 'wealthy': 5272, 'illegals': 5273, 'genuinely': 5274, 'slur': 5275, 'unemployment': 5276, 'housing': 5277, 'workplace': 5278, 'permanent': 5279, 'combined': 5280, 'citizenry': 5281, 'swedish': 5282, 'exception': 5283, 'avoided': 5284, 'hardly': 5285, 'murdered': 5286, 'caring': 5287, 'elder': 5288, 'partial': 5289, 'abortion': 5290, 'causing': 5291, 'occupy': 5292, 'acceptable': 5293, 'remarkably': 5294, 'prediction': 5295, 'striking': 5296, 'sniper': 5297, 'sabotage': 5298, 'unrest': 5299, 'cent': 5300, 'sworn': 5301, 'existent': 5302, 'irs': 5303, 'grant': 5304, 'stolen': 5305, 'additionally': 5306, 'temperature': 5307, 'pace': 5308, 'flickr': 5309, 'undermining': 5310, 'nick': 5311, 'shrink': 5312, 'lacking': 5313, 'considerably': 5314, 'warming': 5315, 'upheaval': 5316, 'incumbent': 5317, 'correspondent': 5318, 'architect': 5319, 'brutally': 5320, 'slaughter': 5321, 'sparked': 5322, 'collar': 5323, 'grievance': 5324, 'consuming': 5325, 'temple': 5326, 'regularly': 5327, 'cage': 5328, 'burned': 5329, 'graphic': 5330, 'pit': 5331, 'baseball': 5332, 'kevin': 5333, 'biden': 5334, 'dominating': 5335, 'nationalism': 5336, 'correctness': 5337, 'lobby': 5338, 'smarter': 5339, 'semitic': 5340, 'jewish': 5341, 'jew': 5342, 'polite': 5343, 'seal': 5344, 'citizenship': 5345, 'throwing': 5346, 'monkey': 5347, 'nevertrump': 5348, 'appointment': 5349, 'gut': 5350, 'treason': 5351, 'highlighted': 5352, 'chamber': 5353, 'commerce': 5354, 'populist': 5355, 'unified': 5356, 'neoconservative': 5357, 'bigot': 5358, 'loser': 5359, 'commented': 5360, 'hated': 5361, 'tube': 5362, 'bright': 5363, 'navigate': 5364, 'mosul': 5365, 'accordance': 5366, 'fleeing': 5367, 'meantime': 5368, 'mankind': 5369, 'damascus': 5370, 'credibility': 5371, 'smear': 5372, 'battling': 5373, 'elaborate': 5374, 'lewis': 5375, 'cancel': 5376, 'quietly': 5377, 'scheduled': 5378, 'deleted': 5379, 'epic': 5380, 'mocking': 5381, 'realdonaldtrump': 5382, 'rolling': 5383, 'tampering': 5384, 'notion': 5385, 'answering': 5386, 'tendency': 5387, 'insurer': 5388, 'stephanie': 5389, 'depression': 5390, 'complication': 5391, 'barrier': 5392, 'manage': 5393, 'experiencing': 5394, 'equivalent': 5395, 'reflect': 5396, 'absence': 5397, 'maker': 5398, 'economics': 5399, 'finance': 5400, 'reasonable': 5401, 'misdemeanor': 5402, 'ramp': 5403, 'upward': 5404, 'strongest': 5405, 'ultra': 5406, 'klan': 5407, 'holder': 5408, 'yellen': 5409, 'substantive': 5410, 'unlimited': 5411, 'payer': 5412, 'torch': 5413, 'pressed': 5414, 'stomach': 5415, 'kenneth': 5416, 'waited': 5417, 'oscar': 5418, 'singer': 5419, 'filmmaker': 5420, 'entertainment': 5421, 'allen': 5422, 'mitchell': 5423, 'library': 5424, 'anchor': 5425, 'toy': 5426, 'marketing': 5427, 'startup': 5428, 'awarded': 5429, 'evan': 5430, 'huffington': 5431, 'financing': 5432, 'clearance': 5433, 'graduate': 5434, 'governing': 5435, 'tragic': 5436, 'unfortunate': 5437, 'spoken': 5438, 'devil': 5439, 'pursuit': 5440, 'carbon': 5441, 'emission': 5442, 'spur': 5443, 'renewal': 5444, 'pending': 5445, 'nancy': 5446, 'pathway': 5447, 'pant': 5448, 'viral': 5449, 'fundraiser': 5450, 'lisa': 5451, 'charleston': 5452, 'inability': 5453, 'viewing': 5454, 'syndrome': 5455, 'disorder': 5456, 'cognitive': 5457, 'trauma': 5458, 'upper': 5459, 'painted': 5460, 'improved': 5461, 'detect': 5462, 'detected': 5463, 'electrical': 5464, 'restore': 5465, 'banana': 5466, 'nowhere': 5467, 'chapter': 5468, 'houston': 5469, 'mysterious': 5470, 'acquired': 5471, 'utterly': 5472, 'undermine': 5473, 'skepticism': 5474, 'fabric': 5475, 'wallace': 5476, 'verified': 5477, 'accurately': 5478, 'verify': 5479, 'sean': 5480, 'hannity': 5481, 'switching': 5482, 'shoulder': 5483, 'harris': 5484, 'entitled': 5485, 'invited': 5486, 'stanford': 5487, 'burden': 5488, 'cabal': 5489, 'brien': 5490, 'activism': 5491, 'appearing': 5492, 'gasoline': 5493, 'wreckage': 5494, 'recover': 5495, 'manages': 5496, 'locked': 5497, 'endorsement': 5498, 'ugly': 5499, 'utter': 5500, 'magnesium': 5501, 'calcium': 5502, 'diabetes': 5503, 'diagnosis': 5504, 'deficiency': 5505, 'hormone': 5506, 'traumatic': 5507, 'stressed': 5508, 'dean': 5509, 'symptom': 5510, 'tissue': 5511, 'inbox': 5512, 'ineffective': 5513, 'technique': 5514, 'contraceptive': 5515, 'nutrient': 5516, 'consumed': 5517, 'drag': 5518, 'plastic': 5519, 'cannabis': 5520, 'cleansing': 5521, 'consistently': 5522, 'varying': 5523, 'clicking': 5524, 'survivor': 5525, 'hopefully': 5526, 'endeavor': 5527, 'bret': 5528, 'baier': 5529, 'highlighting': 5530, 'barring': 5531, 'obstruction': 5532, 'beast': 5533, 'emerge': 5534, 'warmonger': 5535, 'hammer': 5536, 'appointee': 5537, 'peter': 5538, 'kadzik': 5539, 'thwart': 5540, 'divide': 5541, 'rank': 5542, 'interpreted': 5543, 'debated': 5544, 'subpoena': 5545, 'voluntary': 5546, 'litigation': 5547, 'formally': 5548, 'blown': 5549, 'authorization': 5550, 'overt': 5551, 'disagreement': 5552, 'confronted': 5553, 'willingness': 5554, 'rightly': 5555, 'perception': 5556, 'permanently': 5557, 'donated': 5558, 'deed': 5559, 'advocacy': 5560, 'implying': 5561, 'exploited': 5562, 'flood': 5563, 'finished': 5564, 'contra': 5565, 'beltway': 5566, 'ripped': 5567, 'portfolio': 5568, 'lee': 5569, 'thinker': 5570, 'dated': 5571, 'sullivan': 5572, 'columbia': 5573, 'sentencing': 5574, 'impressive': 5575, 'somehow': 5576, 'automatic': 5577, 'deutsche': 5578, 'lean': 5579, 'manipulation': 5580, 'heightened': 5581, 'troll': 5582, 'blatant': 5583, 'brooklyn': 5584, 'neutral': 5585, 'philadelphia': 5586, 'whopping': 5587, 'insurgent': 5588, 'solidly': 5589, 'booth': 5590, 'defence': 5591, 'ambitious': 5592, 'forty': 5593, 'pipe': 5594, 'phoenix': 5595, 'output': 5596, 'adversary': 5597, 'embarrassing': 5598, 'briefly': 5599, 'contributor': 5600, 'imf': 5601, 'aiding': 5602, 'relating': 5603, 'leap': 5604, 'filter': 5605, 'basket': 5606, 'kicked': 5607, 'hot': 5608, 'blumenthal': 5609, 'ear': 5610, 'scrap': 5611, 'luck': 5612, 'applied': 5613, 'positioned': 5614, 'qualified': 5615, 'pursued': 5616, 'ray': 5617, 'southeast': 5618, 'disclosed': 5619, 'batch': 5620, 'advising': 5621, 'disappointment': 5622, 'glad': 5623, 'upheld': 5624, 'hint': 5625, 'explaining': 5626, 'reluctant': 5627, 'grab': 5628, 'craig': 5629, 'presstitutes': 5630, 'funny': 5631, 'duke': 5632, 'fascist': 5633, 'handful': 5634, 'goodman': 5635, 'ben': 5636, 'decency': 5637, 'nightmare': 5638, 'painful': 5639, 'inflicted': 5640, 'prefers': 5641, 'imposing': 5642, 'hysteria': 5643, 'ceta': 5644, 'multinational': 5645, 'geopolitical': 5646, 'axis': 5647, 'installation': 5648, 'baltic': 5649, 'hence': 5650, 'migration': 5651, 'chant': 5652, 'suburb': 5653, 'complain': 5654, 'sufficiently': 5655, 'equipped': 5656, 'waking': 5657, 'funeral': 5658, 'hollande': 5659, 'impose': 5660, 'dissident': 5661, 'denounced': 5662, 'defended': 5663, 'imminent': 5664, 'terror': 5665, 'benjamin': 5666, 'netanyahu': 5667, 'forgiveness': 5668, 'manipulated': 5669, 'ireland': 5670, 'extended': 5671, 'legitimacy': 5672, 'risen': 5673, 'fallen': 5674, 'swiss': 5675, 'abraham': 5676, 'loudly': 5677, 'believer': 5678, 'nyt': 5679, 'grip': 5680, 'characterized': 5681, 'tweeting': 5682, 'snl': 5683, 'unfit': 5684, 'spotlight': 5685, 'drew': 5686, 'pulled': 5687, 'distance': 5688, 'accordingly': 5689, 'abandoned': 5690, 'positioning': 5691, 'electric': 5692, 'secretly': 5693, 'covering': 5694, 'vietnam': 5695, 'vietnamese': 5696, 'attached': 5697, 'submission': 5698, 'plunged': 5699, 'cruise': 5700, 'fired': 5701, 'brutal': 5702, 'defined': 5703, 'nuanced': 5704, 'ideologically': 5705, 'sustained': 5706, 'aided': 5707, 'trained': 5708, 'kissinger': 5709, 'decent': 5710, 'trickle': 5711, 'spreading': 5712, 'murphy': 5713, 'quarter': 5714, 'crowded': 5715, 'aggressively': 5716, 'interventionist': 5717, 'whoever': 5718, 'predecessor': 5719, 'houthis': 5720, 'wanting': 5721, 'sovereign': 5722, 'cooperating': 5723, 'hegemony': 5724, 'mp': 5725, 'imperialist': 5726, 'frustration': 5727, 'raging': 5728, 'teenager': 5729, 'financed': 5730, 'stir': 5731, 'karl': 5732, 'oppressed': 5733, 'nonsense': 5734, 'fade': 5735, 'wedding': 5736, 'homosexual': 5737, 'bullshit': 5738, 'opposing': 5739, 'totalitarian': 5740, 'silly': 5741, 'grassroots': 5742, 'constantly': 5743, 'knight': 5744, 'boston': 5745, 'hat': 5746, 'snip': 5747, 'drought': 5748, 'arguably': 5749, 'peak': 5750, 'hey': 5751, 'popularity': 5752, 'ok': 5753, 'nyc': 5754, 'lengthy': 5755, 'blew': 5756, 'frightening': 5757, 'shoot': 5758, 'enforced': 5759, 'caliber': 5760, 'pistol': 5761, 'chelsea': 5762, 'enforce': 5763, 'reviewing': 5764, 'manhattan': 5765, 'drilling': 5766, 'uprising': 5767, 'imprisoned': 5768, 'ammunition': 5769, 'overseas': 5770, 'weaponry': 5771, 'vehicle': 5772, 'inevitable': 5773, 'prisoner': 5774, 'lethal': 5775, 'blueprint': 5776, 'involves': 5777, 'biological': 5778, 'refers': 5779, 'upholding': 5780, 'distributed': 5781, 'intelligent': 5782, 'broadcasting': 5783, 'eligibility': 5784, 'marxist': 5785, 'potus': 5786, 'presumed': 5787, 'dhs': 5788, 'trajectory': 5789, 'mainly': 5790, 'stretch': 5791, 'illegally': 5792, 'propose': 5793, 'sermon': 5794, 'wnd': 5795, 'midwest': 5796, 'photographer': 5797, 'walsh': 5798, 'georgia': 5799, 'investigated': 5800, 'charging': 5801, 'discrimination': 5802, 'seventh': 5803, 'lesbian': 5804, 'limbaugh': 5805, 'withdrew': 5806, 'sweeping': 5807, 'luther': 5808, 'discriminate': 5809, 'clearer': 5810, 'joked': 5811, 'captured': 5812, 'hung': 5813, 'thc': 5814, 'valid': 5815, 'relief': 5816, 'ing': 5817, 'trending': 5818, 'yves': 5819, 'publisher': 5820, 'wolf': 5821, 'reform': 5822, 'decree': 5823, 'collected': 5824, 'facial': 5825, 'nicholas': 5826, 'ga': 5827, 'establishing': 5828, 'extensive': 5829, 'rolled': 5830, 'visa': 5831, 'external': 5832, 'hungry': 5833, 'schedule': 5834, 'eurozone': 5835, 'consumption': 5836, 'mississippi': 5837, 'ellison': 5838, 'respondent': 5839, 'steadily': 5840, 'occasional': 5841, 'adjustment': 5842, 'wider': 5843, 'answered': 5844, 'agrees': 5845, 'inflation': 5846, 'problematic': 5847, 'partly': 5848, 'calif': 5849, 'wildly': 5850, 'violates': 5851, 'plausible': 5852, 'compelling': 5853, 'affecting': 5854, 'historically': 5855, 'minnesota': 5856, 'ethic': 5857, 'merit': 5858, 'pursuing': 5859, 'provision': 5860, 'deadline': 5861, 'injured': 5862, 'anytime': 5863, 'disruption': 5864, 'protestors': 5865, 'manipulate': 5866, 'martial': 5867, 'sponsor': 5868, 'acted': 5869, 'escalating': 5870, 'siege': 5871, 'moveon': 5872, 'dictate': 5873, 'evident': 5874, 'portray': 5875, 'echo': 5876, 'rockefeller': 5877, 'rent': 5878, 'thug': 5879, 'banning': 5880, 'inc': 5881, 'revenge': 5882, 'justin': 5883, 'separately': 5884, 'chancellor': 5885, 'teneo': 5886, 'leverage': 5887, 'charity': 5888, 'donating': 5889, 'hotel': 5890, 'tapped': 5891, 'thanked': 5892, 'golf': 5893, 'colombian': 5894, 'championed': 5895, 'revolutionary': 5896, 'glyphosate': 5897, 'floor': 5898, 'cocaine': 5899, 'disappeared': 5900, 'resistant': 5901, 'havana': 5902, 'faction': 5903, 'boss': 5904, 'concession': 5905, 'appealed': 5906, 'trapped': 5907, 'venture': 5908, 'janet': 5909, 'reno': 5910, 'npr': 5911, 'accomplishment': 5912, 'cabinet': 5913, 'waco': 5914, 'authorized': 5915, 'walter': 5916, 'eli': 5917, 'uncle': 5918, 'barry': 5919, 'tall': 5920, 'testify': 5921, 'legislature': 5922, 'solving': 5923, 'dubbed': 5924, 'inclined': 5925, 'aka': 5926, 'steel': 5927, 'gubernatorial': 5928, 'fla': 5929, 'decisive': 5930, 'enduring': 5931, 'solicitor': 5932, 'frequent': 5933, 'separation': 5934, 'evaluation': 5935, 'replied': 5936, 'comedian': 5937, 'glory': 5938, 'onion': 5939, 'react': 5940, 'clue': 5941, 'apology': 5942, 'ku': 5943, 'klux': 5944, 'supremacist': 5945, 'observation': 5946, 'description': 5947, 'contention': 5948, 'notable': 5949, 'clarity': 5950, 'straightforward': 5951, 'elementary': 5952, 'faithful': 5953, 'rd': 5954, 'dna': 5955, 'samuel': 5956, 'demonstrate': 5957, 'fifty': 5958, 'england': 5959, 'nickname': 5960, 'temperament': 5961, 'ideologue': 5962, 'implementation': 5963, 'takeaway': 5964, 'illustrates': 5965, 'accommodation': 5966, 'avoiding': 5967, 'clothing': 5968, 'escalate': 5969, 'greg': 5970, 'dominate': 5971, 'poured': 5972, 'criterion': 5973, 'manning': 5974, 'prevents': 5975, 'advertiser': 5976, 'glenn': 5977, 'tolerate': 5978, 'inaccurate': 5979, 'endured': 5980, 'systematic': 5981, 'msnbc': 5982, 'consideration': 5983, 'blogger': 5984, 'racially': 5985, 'kirk': 5986, 'challenger': 5987, 'tammy': 5988, 'duckworth': 5989, 'vet': 5990, 'descent': 5991, 'franklin': 5992, 'bow': 5993, 'detailing': 5994, 'tier': 5995, 'amongst': 5996, 'relentlessly': 5997, 'productive': 5998, 'restored': 5999, 'restoration': 6000, 'realization': 6001, 'glimpse': 6002, 'fairly': 6003, 'heated': 6004, 'peddling': 6005, 'disagreed': 6006, 'mccabe': 6007, 'mcauliffe': 6008, 'participant': 6009, 'formal': 6010, 'aug': 6011, 'reiterated': 6012, 'shopping': 6013, 'reopened': 6014, 'constructive': 6015, 'hyper': 6016, 'pardon': 6017, 'aired': 6018, 'testament': 6019, 'ivanka': 6020, 'proving': 6021, 'script': 6022, 'tomb': 6023, 'cbn': 6024, 'geographic': 6025, 'residence': 6026, 'profoundly': 6027, 'examination': 6028, 'engineer': 6029, 'backer': 6030, 'abdullah': 6031, 'monument': 6032, 'ft': 6033, 'lawrence': 6034, 'knee': 6035, 'michelle': 6036, 'idiot': 6037, 'ann': 6038, 'crushed': 6039, 'liked': 6040, 'tap': 6041, 'flip': 6042, 'sec': 6043, 'murray': 6044, 'kuznetsov': 6045, 'autonomous': 6046, 'shore': 6047, 'harsh': 6048, 'dutch': 6049, 'hillaryclinton': 6050, 'emily': 6051, 'hunter': 6052, 'philippine': 6053, 'obesity': 6054, 'corn': 6055, 'horrific': 6056, 'thomas': 6057, 'endorsed': 6058, 'explosion': 6059, 'firefighter': 6060, 'enrollment': 6061, 'selection': 6062, 'as': 6063, 'bullying': 6064, 'burst': 6065, 'attribution': 6066, 'odds': 6067, 'contend': 6068, 'prejudice': 6069, 'resentment': 6070, 'authoritarian': 6071, 'isolationist': 6072, 'proxy': 6073, 'understands': 6074, 'shortage': 6075, 'reopen': 6076, 'meddling': 6077, 'virtue': 6078, 'modest': 6079, 'chairwoman': 6080, 'debbie': 6081, 'wasserman': 6082, 'schultz': 6083, 'partisanship': 6084, 'airspace': 6085, 'advocated': 6086, 'tehran': 6087, 'trusted': 6088, 'garner': 6089, 'eligible': 6090, 'fueling': 6091, 'malaysia': 6092, 'withdrawal': 6093, 'dysfunctional': 6094, 'wrongly': 6095, 'readily': 6096, 'apparatus': 6097, 'suppress': 6098, 'fearful': 6099, 'ramification': 6100, 'flaw': 6101, 'lasting': 6102, 'logical': 6103, 'promising': 6104, 'loving': 6105, 'profitable': 6106, 'coward': 6107, 'wash': 6108, 'op': 6109, 'heaven': 6110, 'frontrunner': 6111, 'invented': 6112, 'cigarette': 6113, 'parade': 6114, 'ruth': 6115, 'invisible': 6116, 'beheading': 6117, 'essence': 6118, 'powell': 6119, 'punishing': 6120, 'surrender': 6121, 'bombed': 6122, 'dirt': 6123, 'cheered': 6124, 'intimidation': 6125, 'victoria': 6126, 'nuland': 6127, 'circulating': 6128, 'transferred': 6129, 'chase': 6130, 'mansion': 6131, 'defensive': 6132, 'strengthen': 6133, 'stalled': 6134, 'improving': 6135, 'deploy': 6136, 'fallon': 6137, 'projection': 6138, 'preparation': 6139, 'unbelievable': 6140, 'campaigned': 6141, 'praised': 6142, 'visited': 6143, 'staying': 6144, 'buzzfeed': 6145, 'oldest': 6146, 'vocal': 6147, 'anderson': 6148, 'expressing': 6149, 'virus': 6150, 'acid': 6151, 'protein': 6152, 'elizabeth': 6153, 'milk': 6154, 'statistic': 6155, 'participated': 6156, 'urban': 6157, 'lesion': 6158, 'exaggerated': 6159, 'heal': 6160, 'stepping': 6161, 'castro': 6162, 'clark': 6163, 'terry': 6164, 'whitewater': 6165, 'accepting': 6166, 'uphold': 6167, 'ranking': 6168, 'gladly': 6169, 'goldwater': 6170, 'pat': 6171, 'buchanan': 6172, 'dems': 6173, 'tapper': 6174, 'comedy': 6175, 'grabbing': 6176, 'musket': 6177, 'vicious': 6178, 'demagogue': 6179, 'elephant': 6180, 'deck': 6181, 'interaction': 6182, 'hosting': 6183, 'favored': 6184, 'rubber': 6185, 'blasted': 6186, 'cannon': 6187, 'judiciary': 6188, 'unarmed': 6189, 'unconstitutional': 6190, 'pair': 6191, 'fairness': 6192, 'reminds': 6193, 'serf': 6194, 'extremism': 6195, 'containing': 6196, 'crack': 6197, 'intensify': 6198, 'smoke': 6199, 'belgian': 6200, 'declaration': 6201, 'binding': 6202, 'touched': 6203, 'dec': 6204, 'commercial': 6205, 'disturbed': 6206, 'endorses': 6207, 'promoting': 6208, 'crusade': 6209, 'taxi': 6210, 'cheaper': 6211, 'ratio': 6212, 'nevertheless': 6213, 'applies': 6214, 'invested': 6215, 'premium': 6216, 'passenger': 6217, 'yorker': 6218, 'swamp': 6219, 'representation': 6220, 'cure': 6221, 'inflammatory': 6222, 'stopping': 6223, 'cholesterol': 6224, 'signaling': 6225, 'saint': 6226, 'endtime': 6227, 'biblical': 6228, 'jerusalem': 6229, 'sizable': 6230, 'promoted': 6231, 'attracted': 6232, 'fascism': 6233, 'bind': 6234, 'rid': 6235, 'tel': 6236, 'aviv': 6237, 'provocative': 6238, 'gradually': 6239, 'likud': 6240, 'philosopher': 6241, 'withdraw': 6242, 'settler': 6243, 'disdain': 6244, 'secular': 6245, 'song': 6246, 'ottoman': 6247, 'sphere': 6248, 'attributed': 6249, 'davis': 6250, 'shaping': 6251, 'democratically': 6252, 'forthcoming': 6253, 'kicking': 6254, 'egyptian': 6255, 'launching': 6256, 'kennedy': 6257, 'gulf': 6258, 'apartment': 6259, 'absent': 6260, 'bataclan': 6261, 'arrival': 6262, 'portrayed': 6263, 'melania': 6264, 'shorter': 6265, 'milwaukee': 6266, 'crooked': 6267, 'kenya': 6268, 'shouting': 6269, 'thumb': 6270, 'rain': 6271, 'chanted': 6272, 'bobby': 6273, 'undocumented': 6274, 'resignation': 6275, 'clarified': 6276, 'mindset': 6277, 'creates': 6278, 'inspire': 6279, 'lined': 6280, 'proposing': 6281, 'looming': 6282, 'swift': 6283, 'disgust': 6284, 'eliminate': 6285, 'ranked': 6286, 'indication': 6287, 'investing': 6288, 'businessman': 6289, 'audit': 6290, 'bigoted': 6291, 'echoing': 6292, 'defiant': 6293, 'retake': 6294, 'liberate': 6295, 'broadly': 6296, 'criticizing': 6297, 'parameter': 6298, 'thorough': 6299, 'sword': 6300, 'reminded': 6301, 'selma': 6302, 'alabama': 6303, 'definitive': 6304, 'mook': 6305, 'creamer': 6306, 'keefe': 6307, 'emphasizing': 6308, 'felon': 6309, 'graham': 6310, 'suck': 6311, 'lining': 6312, 'chemtrails': 6313, 'mercury': 6314, 'meal': 6315, 'frame': 6316, 'iodine': 6317, 'forth': 6318, 'positively': 6319, 'lazy': 6320, 'recession': 6321, 'dysfunction': 6322, 'dos': 6323, 'reproductive': 6324, 'nerve': 6325, 'renewable': 6326, 'cult': 6327, 'divine': 6328, 'poison': 6329, 'symbol': 6330, 'format': 6331, 'bottle': 6332, 'beauty': 6333, 'divorce': 6334, 'obstacle': 6335, 'manifest': 6336, 'sole': 6337, 'beneficiary': 6338, 'vatican': 6339, 'cite': 6340, 'mocked': 6341, 'boasted': 6342, 'dolly': 6343, 'kyle': 6344, 'encourages': 6345, 'strictly': 6346, 'hadi': 6347, 'mandated': 6348, 'resigned': 6349, 'ali': 6350, 'lawn': 6351, 'felony': 6352, 'yard': 6353, 'unhinged': 6354, 'knocked': 6355, 'yelling': 6356, 'larry': 6357, 'kentucky': 6358, 'profession': 6359, 'birkenfeld': 6360, 'irony': 6361, 'minus': 6362, 'deferred': 6363, 'correctional': 6364, 'recount': 6365, 'bennett': 6366, 'settling': 6367, 'custody': 6368, 'keen': 6369, 'howard': 6370, 'utility': 6371, 'ditch': 6372, 'madison': 6373, 'discouraged': 6374, 'slipped': 6375, 'condemn': 6376, 'carl': 6377, 'jimmy': 6378, 'fargo': 6379, 'sixth': 6380, 'vp': 6381, 'entered': 6382, 'horrified': 6383, 'identical': 6384, 'rope': 6385, 'boring': 6386, 'entrance': 6387, 'vermont': 6388, 'irresponsible': 6389, 'vigilant': 6390, 'operates': 6391, 'sided': 6392, 'bulk': 6393, 'opted': 6394, 'tanden': 6395, 'jordanian': 6396, 'hezbollah': 6397, 'lebanon': 6398, 'reasoning': 6399, 'hurting': 6400, 'beach': 6401, 'hateful': 6402, 'presumably': 6403, 'legion': 6404, 'slate': 6405, 'vox': 6406, 'singing': 6407, 'cohen': 6408, 'executed': 6409, 'denouncing': 6410, 'underscore': 6411, 'inciting': 6412, 'sand': 6413, 'nationalist': 6414, 'kagan': 6415, 'creature': 6416, 'fashioned': 6417, 'whip': 6418, 'berlin': 6419, 'millennials': 6420, 'philip': 6421, 'escaped': 6422, 'skilled': 6423, 'compassionate': 6424, 'disabled': 6425, 'acknowledge': 6426, 'refusal': 6427, 'textbook': 6428, 'distinct': 6429, 'ho': 6430, 'arrogance': 6431, 'kellyanne': 6432, 'conway': 6433, 'blitzer': 6434, 'endure': 6435, 'messy': 6436, 'misleading': 6437, 'insult': 6438, 'boo': 6439, 'rubio': 6440, 'marco': 6441, 'rebuke': 6442, 'rudy': 6443, 'giuliani': 6444, 'firewall': 6445, 'feeding': 6446, 'longest': 6447, 'meter': 6448, 'duterte': 6449, 'framed': 6450, 'hometown': 6451, 'abu': 6452, 'delegation': 6453, 'belt': 6454, 'nd': 6455, 'peril': 6456, 'destination': 6457, 'draft': 6458, 's': 6459, 'continental': 6460, 'pole': 6461, 'slip': 6462, 'bully': 6463, 'boeing': 6464, 'lockheed': 6465, 'princeton': 6466, 'berkeley': 6467, 'recruiting': 6468, 'diego': 6469, 'boundary': 6470, 'wmw': 6471, 'admin': 6472, 'chilling': 6473, 'bernstein': 6474, 'racket': 6475, 'plea': 6476, 'prohibition': 6477, 'polled': 6478, 'powder': 6479, 'tobacco': 6480, 'packed': 6481, 'corp': 6482, 'shout': 6483, 'jose': 6484, 'chanting': 6485, 'orbit': 6486, 'reflected': 6487, 'hindu': 6488, 'midnight': 6489, 'overwhelmed': 6490, 'discourse': 6491, 'traditionally': 6492, 'polarizing': 6493, 'jan': 6494, 'shia': 6495, 'slowed': 6496, 'impression': 6497, 'psychologist': 6498, 'katie': 6499, 'perry': 6500, 'cooper': 6501, 'cleared': 6502, 'rallied': 6503, 'load': 6504, 'guided': 6505, 'aviation': 6506, 'tactical': 6507, 'tracked': 6508, 'cairo': 6509, 'crackdown': 6510, 'disputed': 6511, 'safer': 6512, 'rail': 6513, 'authenticity': 6514, 'tiger': 6515, 'weighing': 6516, 'cow': 6517, 'distant': 6518, 'fossil': 6519, 'hpv': 6520, 'museum': 6521, 'mounting': 6522, 'firmly': 6523, 'accounted': 6524, 'pew': 6525, 'gen': 6526, 'lt': 6527, 'refrain': 6528, 'kashmir': 6529, 'afghan': 6530, 'package': 6531, 'defeating': 6532, 'jihadi': 6533, 'gravity': 6534, 'cautioned': 6535, 'posting': 6536, 'recruitment': 6537, 'wasted': 6538, 'fence': 6539, 'taliban': 6540, 'muhammad': 6541, 'excerpt': 6542, 'evangelicals': 6543, 'stockpile': 6544, 'qualification': 6545, 'calculated': 6546, 'comfortable': 6547, 'nobel': 6548, 'brink': 6549, 'likelihood': 6550, 'exceptional': 6551, 'unthinkable': 6552, 'brookings': 6553, 'lift': 6554, 'reminding': 6555, 'stereotype': 6556, 'dawn': 6557, 'chomsky': 6558, 'verdict': 6559, 'defining': 6560, 'arson': 6561, 'overreach': 6562, 'marshal': 6563, 'endangered': 6564, 'guaranteed': 6565, 'charitable': 6566, 'divisive': 6567, 'breach': 6568, 'listing': 6569, 'flown': 6570, 'jennifer': 6571, 'indiana': 6572, 'enthusiasm': 6573, 'intimidate': 6574, 'trailing': 6575, 'realclearpolitics': 6576, 'perceived': 6577, 'dispatch': 6578, 'concentrated': 6579, 'helpful': 6580, 'condemning': 6581, 'villain': 6582, 'cuomo': 6583, 'gesture': 6584, 'journalistic': 6585, 'critique': 6586, 'pussy': 6587, 'dogged': 6588, 'unauthorized': 6589, 'discount': 6590, 'coordinator': 6591, 'peacefully': 6592, 'sweat': 6593, 'unleashed': 6594, 'expire': 6595, 'fundraising': 6596, 'brazile': 6597, 'populism': 6598, 'meme': 6599, 'dominant': 6600, 'flawed': 6601, 'bankruptcy': 6602, 'rhetorical': 6603, 'marginal': 6604, 'stoltenberg': 6605, 'inauguration': 6606, 'lincoln': 6607, 'concludes': 6608, 'pledging': 6609, 'praying': 6610, 'aristocracy': 6611, 'inspector': 6612, 'pump': 6613, 'warren': 6614, 'meltdown': 6615, 'competing': 6616, 'talent': 6617, 'sympathy': 6618, 'dominance': 6619, 'sheikh': 6620, 'dubious': 6621, 'colony': 6622, 'pakistani': 6623, 'procedural': 6624, 'spill': 6625, 'notified': 6626, 'louis': 6627, 'overseeing': 6628, 'uncertainty': 6629, 'richest': 6630, 'internationally': 6631, 'jab': 6632, 'filibuster': 6633, 'aca': 6634, 'vaccination': 6635, 'exemption': 6636, 'policeman': 6637, 'signaled': 6638, 'memorable': 6639, 'brock': 6640, 'shifting': 6641, 'outreach': 6642, 'policymakers': 6643, 'espionage': 6644, 'marking': 6645, 'sectarian': 6646, 'ayatollah': 6647, 'yale': 6648, 'derail': 6649, 'puerto': 6650, 'adventure': 6651, 'battlefield': 6652, 'lyndon': 6653, 'ala': 6654, 'sweep': 6655, 'somalia': 6656, 'assurance': 6657, 'dick': 6658, 'unfolding': 6659, 'settled': 6660, 'albeit': 6661, 'substantially': 6662, 'arnaldo': 6663, 'rodgers': 6664, 'lopez': 6665, 'vnn': 6666, 'technician': 6667, 'criminally': 6668, 'karen': 6669, 'belonged': 6670, 'bruce': 6671, 'mccain': 6672, 'appoint': 6673, 'blessing': 6674, 'shirt': 6675, 'gowdy': 6676, 'groundwork': 6677, 'sting': 6678, 'unwilling': 6679, 'looting': 6680, 'visible': 6681, 'retaliation': 6682, 'optimism': 6683, 'dunford': 6684, 'chuck': 6685, 'todd': 6686, 'headlined': 6687, 'herman': 6688, 'escalation': 6689, 'observatory': 6690, 'reconciliation': 6691, 'amounted': 6692, 'islamist': 6693, 'moderator': 6694, 'arrives': 6695, 'va': 6696, 'vega': 6697, 'showdown': 6698, 'prohibit': 6699, 'hypothetical': 6700, 'farther': 6701, 'securing': 6702, 'courtroom': 6703, 'portland': 6704, 'badge': 6705, 'tightening': 6706, 'bent': 6707, 'peshmerga': 6708, 'booker': 6709, 'toss': 6710, 'stole': 6711, 'cloud': 6712, 'pa': 6713, 'dennis': 6714, 'hawk': 6715, 'caliphate': 6716, 'petraeus': 6717, 'prompted': 6718, 'cruel': 6719, 'execution': 6720, 'beloved': 6721, 'inmate': 6722, 'wrestling': 6723, 'dust': 6724, 'craft': 6725, 'urgency': 6726, 'undercut': 6727, 'harder': 6728, 'snap': 6729, 'extraterrestrial': 6730, 'mar': 6731, 'integration': 6732, 'milestone': 6733, 'maidan': 6734, 'cnbc': 6735, 'brad': 6736, 'nightly': 6737, 'spark': 6738, 'visitor': 6739, 'subtle': 6740, 'grasp': 6741, 'venue': 6742, 'mentor': 6743, 'connecticut': 6744, 'formidable': 6745, 'taxation': 6746, 'traveled': 6747, 'geo': 6748, 'millionaire': 6749, 'lgbtq': 6750, 'stadium': 6751, 'invade': 6752, 'cincinnati': 6753, 'factory': 6754, 'disliked': 6755, 'shoe': 6756, 'align': 6757, 'touting': 6758, 'scored': 6759, 'clarify': 6760, 'mouse': 6761, 'romantic': 6762, 'earliest': 6763, 'wary': 6764, 'zarif': 6765, 'educational': 6766, 'curb': 6767, 'walker': 6768, 'rated': 6769, 'algorithm': 6770, 'reversal': 6771, 'wayne': 6772, 'catching': 6773, 'huffpost': 6774, 'lending': 6775, 'wilson': 6776, 'catherine': 6777, 'veto': 6778, 'rant': 6779, 'terrain': 6780, 'keystone': 6781, 'xl': 6782, 'container': 6783, 'offset': 6784, 'nominate': 6785, 'elector': 6786, 'dividing': 6787, 'protestant': 6788, 'temper': 6789, 'scorpio': 6790, 'hemisphere': 6791, 'collectively': 6792, 'ash': 6793, 'chaotic': 6794, 'nebraska': 6795, 'blessed': 6796, 'grateful': 6797, 'searching': 6798, 'cheering': 6799, 'cyrus': 6800, 'mistry': 6801, 'tata': 6802, 'mock': 6803, 'jurisdiction': 6804, 'screen': 6805, 'symbolic': 6806, 'emailed': 6807, 'civic': 6808, 'mantra': 6809, 'viable': 6810, 'diminished': 6811, 'loyalty': 6812, 'stamp': 6813, 'lieutenant': 6814, 'pregnancy': 6815, 'provider': 6816, 'correction': 6817, 'orientation': 6818, 'desert': 6819, 'acknowledges': 6820, 'excluded': 6821, 'skeptic': 6822, 'rallying': 6823, 'cotton': 6824, 'jenner': 6825, 'outgoing': 6826, 'pivot': 6827, 'confronting': 6828, 'persona': 6829, 'stronghold': 6830, 'endorsing': 6831, 'slim': 6832, 'collins': 6833, 'harshly': 6834, 'favorably': 6835, 'zealand': 6836, 'vanished': 6837, 'injunction': 6838, 'fierce': 6839, 'controlling': 6840, 'parallel': 6841, 'contemporary': 6842, 'silicon': 6843, 'insecurity': 6844, 'sandler': 6845, 'sketch': 6846, 'picking': 6847, 'deduction': 6848, 'courthouse': 6849, 'overtime': 6850, 'taser': 6851, 'entrusted': 6852, 'botched': 6853, 'juvenile': 6854, 'tout': 6855, 'morris': 6856, 'robby': 6857, 'josh': 6858, 'jasta': 6859, 'salman': 6860, 'confederate': 6861, 'appealing': 6862, 'persian': 6863, 'conservation': 6864, 'apprentice': 6865, 'punched': 6866, 'kim': 6867, 'detroit': 6868, 'surveyed': 6869, 'mining': 6870, 'fracking': 6871, 'restaurant': 6872, 'arriving': 6873, 'morally': 6874, 'metaphor': 6875, 'boosting': 6876, 'empathy': 6877, 'attacker': 6878, 'exclude': 6879, 'nestle': 6880, 'gallon': 6881, 'loophole': 6882, 'hiring': 6883, 'feb': 6884, 'astronomer': 6885, 'exploring': 6886, 'luxury': 6887, 'hurdle': 6888, 'newcomer': 6889, 'strategically': 6890, 'shy': 6891, 'scalia': 6892, 'ginsburg': 6893, 'disappointing': 6894, 'unfairly': 6895, 'moines': 6896, 'slain': 6897, 'ernst': 6898, 'haley': 6899, 'mortality': 6900, 'guantanamo': 6901, 'intensified': 6902, 'reed': 6903, 'announces': 6904, 'vibration': 6905, 'tai': 6906, 'fivethirtyeight': 6907, 'teleprompter': 6908, 'millennial': 6909, 'checker': 6910, 'bishop': 6911, 'altered': 6912, 'gallup': 6913, 'mcmullin': 6914, 'stayed': 6915, 'wireless': 6916, 'tb': 6917, 'praising': 6918, 'risky': 6919, 'sudan': 6920, 'insistence': 6921, 'buzz': 6922, 'hail': 6923, 'exhausted': 6924, 'alaska': 6925, 'tennessee': 6926, 'aging': 6927, 'slot': 6928, 'merrill': 6929, 'supervisor': 6930, 'zika': 6931, 'mosquito': 6932, 'infected': 6933, 'microcephaly': 6934, 'toxicity': 6935, 'grief': 6936, 'spiral': 6937, 'unesco': 6938, 'haram': 6939, 'mosque': 6940, 'pleased': 6941, 'russell': 6942, 'unilateral': 6943, 'benefited': 6944, 'grid': 6945, 'breath': 6946, 'tail': 6947, 'clerk': 6948, 'neural': 6949, 'shell': 6950, 'bargaining': 6951, 'greeted': 6952, 'volatile': 6953, 'contingent': 6954, 'marshall': 6955, 'encountered': 6956, 'pragmatic': 6957, 'disadvantage': 6958, 'thanksgiving': 6959, 'socially': 6960, 'acronym': 6961, 'pelosi': 6962, 'legalizing': 6963, 'neil': 6964, 'narrowly': 6965, 'innovation': 6966, 'discretion': 6967, 'corrected': 6968, 'sandy': 6969, 'rift': 6970, 'spectacular': 6971, 'unfavorably': 6972, 'gaffe': 6973, 'disability': 6974, 'intact': 6975, 'slam': 6976, 'contender': 6977, 'nightclub': 6978, 'escalated': 6979, 'effectiveness': 6980, 'sampling': 6981, 'kunduz': 6982, 'kabul': 6983, 'danish': 6984, 'counterterrorism': 6985, 'orthodoxy': 6986, 'provoked': 6987, 'yanukovych': 6988, 'ebola': 6989, 'polarized': 6990, 'plotting': 6991, 'supercharge': 6992, 'weighed': 6993, 'retire': 6994, 'repealing': 6995, 'veiled': 6996, 'sailor': 6997, 'dangerously': 6998, 'hype': 6999, 'seeming': 7000, 'baltimore': 7001, 'imagination': 7002, 'epa': 7003, 'recognizes': 7004, 'mattered': 7005, 'crap': 7006, 'crashed': 7007, 'precinct': 7008, 'fetus': 7009, 'mall': 7010, 'converted': 7011, 'dotcom': 7012, 'understandable': 7013, 'globally': 7014, 'handing': 7015, 'reactor': 7016, 'incompetent': 7017, 'calais': 7018, 'worldview': 7019, 'scripted': 7020, 'embracing': 7021, 'disaffected': 7022, 'opt': 7023, 'schumer': 7024, 'embattled': 7025, 'startling': 7026, 'napolitano': 7027, 'enrolled': 7028, 'playbook': 7029, 'noble': 7030, 'ailes': 7031, 'struggled': 7032, 'climb': 7033, 'matchup': 7034, 'envelope': 7035, 'shiite': 7036, 'clashed': 7037, 'montana': 7038, 'jefferson': 7039, 'pageant': 7040, 'disciplined': 7041, 'baker': 7042, 'uphill': 7043, 'rachel': 7044, 'podium': 7045, 'perez': 7046, 'univision': 7047, 'suspend': 7048, 'myriad': 7049, 'handgun': 7050, 'televised': 7051, 'trustworthy': 7052, 'suv': 7053, 'psaki': 7054, 'forcefully': 7055, 'evangelical': 7056, 'frey': 7057, 'reformer': 7058, 'freshman': 7059, 'mitch': 7060, 'mcconnell': 7061, 'ethiopia': 7062, 'lesley': 7063, 'stahl': 7064, 'evolve': 7065, 'grocery': 7066, 'unlawful': 7067, 'woe': 7068, 'reince': 7069, 'priebus': 7070, 'superdelegates': 7071, 'circulated': 7072, 'affirmative': 7073, 'delaware': 7074, 'bernardino': 7075, 'fred': 7076, 'gavin': 7077, 'macfadyen': 7078, 'alleging': 7079, 'birther': 7080, 'vetting': 7081, 'carson': 7082, 'monte': 7083, 'hiv': 7084, 'drafted': 7085, 'beau': 7086, 'wiped': 7087, 'mammogram': 7088, 'digit': 7089, 'unsuccessful': 7090, 'blasting': 7091, 'adjusted': 7092, 'sounded': 7093, 'emirate': 7094, 'sometime': 7095, 'seattle': 7096, 'coal': 7097, 'kratom': 7098, 'nonpartisan': 7099, 'exam': 7100, 'mohammad': 7101, 'ptsd': 7102, 'denis': 7103, 'modi': 7104, 'sinai': 7105, 'orleans': 7106, 'adelson': 7107, 'baghdadi': 7108, 'bench': 7109, 'adapt': 7110, 'lapse': 7111, 'watcher': 7112, 'talented': 7113, 'tibet': 7114, 'tuition': 7115, 'gunman': 7116, 'manchester': 7117, 'bracket': 7118, 'neurosurgeon': 7119, 'akin': 7120, 'methane': 7121, 'foreclosure': 7122, 'surging': 7123, 'hogan': 7124, 'ayotte': 7125, 'portman': 7126, 'rhode': 7127, 'defund': 7128, 'duncan': 7129, 'centrifuge': 7130, 'qualify': 7131, 'malik': 7132, 'quinnipiac': 7133, 'generic': 7134, 'heartland': 7135, 'constituent': 7136, 'coin': 7137, 'zulu': 7138, 'slager': 7139, 'underscored': 7140, 'overhaul': 7141, 'sinjar': 7142, 'rust': 7143, 'nod': 7144, 'martian': 7145, 'override': 7146, 'bump': 7147, 'centrist': 7148, 'in': 7149, 'abandoning': 7150, 'favorability': 7151, 'kurtz': 7152, 'robbery': 7153, 'midterm': 7154, 'thiel': 7155, 'abadi': 7156, 'microphone': 7157, 'toughest': 7158, 'iarc': 7159, 'huckabee': 7160, 'baptist': 7161, 'vacancy': 7162, 'ariz': 7163, 'boer': 7164, 'breakfast': 7165, 'marry': 7166, 'applause': 7167, 'saakashvili': 7168, 'georgian': 7169, 'embargo': 7170, 'ky': 7171, 'reilly': 7172, 'dolezal': 7173, 'sotomayor': 7174, 'brook': 7175, 'machado': 7176, 'garland': 7177, 'presumptive': 7178, 'antonin': 7179, 'palmer': 7180, 'splc': 7181, 'mateen': 7182, 'farook': 7183, 'abdulazeez': 7184, 'indianapolis': 7185, 'schiff': 7186, 'tex': 7187, 'chattanooga': 7188, 'saponin': 7189, 'kouachi': 7190, 'freddie': 7191, 'camden': 7192, 'manhunt': 7193, 'nominating': 7194, 'contraception': 7195, 'forceful': 7196, 'condolence': 7197, 'haul': 7198, 'chafee': 7199, 'clinch': 7200, 'gavel': 7201, 'corker': 7202, 'evenly': 7203, 'marathon': 7204, 'curiel': 7205, 'coulibaly': 7206, 'orc': 7207, 'fnc': 7208, 'kobani': 7209, 'palin': 7210, 'jindal': 7211, 'lindsey': 7212, 'santorum': 7213, 'carly': 7214, 'fiorina': 7215, 'grassley': 7216, 'hewlett': 7217, 'packard': 7218, 'mediabuzz': 7219, 'flanagan': 7220, 'stephanopoulos': 7221, 'mullah': 7222, 'aumf': 7223, 'corey': 7224, 'lewandowski': 7225, 'nepal': 7226, 'mullen': 7227, 'pataki': 7228, 'durst': 7229, 'marquez': 7230, 'menendez': 7231, 'abdeslam': 7232, 'pagliano': 7233, 'egyptair': 7234, 'abaaoud': 7235, 'bevin': 7236, 'mosby': 7237, 'ame': 7238, 'nemtsov': 7239, 'bergdahl': 7240, 'dapa': 7241}\n"
     ]
    }
   ],
   "source": [
    "print(vectorizer.news_vocab._token_to_idx)"
   ]
  },
  {
   "cell_type": "code",
   "execution_count": 15,
   "metadata": {},
   "outputs": [
    {
     "name": "stdout",
     "output_type": "stream",
     "text": [
      "{'FAKE': 0, 'REAL': 1}\n"
     ]
    }
   ],
   "source": [
    "print(vectorizer.category_vocab._token_to_idx)"
   ]
  },
  {
   "cell_type": "code",
   "execution_count": 16,
   "metadata": {},
   "outputs": [
    {
     "data": {
      "text/plain": [
       "1002"
      ]
     },
     "execution_count": 16,
     "metadata": {},
     "output_type": "execute_result"
    }
   ],
   "source": [
    "dataset._max_seq_length"
   ]
  },
  {
   "cell_type": "markdown",
   "metadata": {},
   "source": [
    "### Training loop"
   ]
  },
  {
   "cell_type": "code",
   "execution_count": 17,
   "metadata": {
    "scrolled": true
   },
   "outputs": [
    {
     "data": {
      "application/vnd.jupyter.widget-view+json": {
       "model_id": "f674c91b4ede4d238e71cd7233286276",
       "version_major": 2,
       "version_minor": 0
      },
      "text/plain": [
       "training routine:   0%|          | 0/100 [00:00<?, ?it/s]"
      ]
     },
     "metadata": {},
     "output_type": "display_data"
    },
    {
     "data": {
      "application/vnd.jupyter.widget-view+json": {
       "model_id": "5402c583b9014740a6b7b47b1bcf11e0",
       "version_major": 2,
       "version_minor": 0
      },
      "text/plain": [
       "split=train:   0%|          | 0/69 [00:00<?, ?it/s]"
      ]
     },
     "metadata": {},
     "output_type": "display_data"
    },
    {
     "data": {
      "application/vnd.jupyter.widget-view+json": {
       "model_id": "e1e17eb53e0e4f318a1947873419b8a6",
       "version_major": 2,
       "version_minor": 0
      },
      "text/plain": [
       "split=val:   0%|          | 0/14 [00:00<?, ?it/s]"
      ]
     },
     "metadata": {},
     "output_type": "display_data"
    }
   ],
   "source": [
    "classifier = classifier.to(args.device)\n",
    "dataset.class_weights = dataset.class_weights.to(args.device)\n",
    "    \n",
    "loss_func = nn.CrossEntropyLoss(dataset.class_weights)\n",
    "optimizer = optim.Adam(classifier.parameters(), lr=args.learning_rate)\n",
    "scheduler = optim.lr_scheduler.ReduceLROnPlateau(optimizer=optimizer, mode='min', factor=0.5, patience=1)\n",
    "\n",
    "train_state = make_train_state(args)\n",
    "\n",
    "epoch_bar = tqdm(desc='training routine', total=args.num_epochs, position=0)\n",
    "\n",
    "dataset.set_split('train')\n",
    "train_bar = tqdm(desc='split=train', total=dataset.get_num_batches(args.batch_size), position=1, leave=True)\n",
    "\n",
    "dataset.set_split('val')\n",
    "val_bar = tqdm(desc='split=val', total=dataset.get_num_batches(args.batch_size), position=1, leave=True)\n",
    "\n",
    "try:\n",
    "    for epoch_index in range(args.num_epochs):\n",
    "        train_state['epoch_index'] = epoch_index\n",
    "\n",
    "        # Iterate over training dataset\n",
    "\n",
    "        # setup: batch generator, set loss and acc to 0, set train mode on\n",
    "\n",
    "        dataset.set_split('train')\n",
    "        batch_generator = generate_batches(dataset, \n",
    "                                           batch_size=args.batch_size, \n",
    "                                           device=args.device)\n",
    "        running_loss = 0.0\n",
    "        running_acc = 0.0\n",
    "        classifier.train()\n",
    "\n",
    "        for batch_index, batch_dict in enumerate(batch_generator):\n",
    "            # the training routine is these 5 steps:\n",
    "\n",
    "            # --------------------------------------\n",
    "            # step 1. zero the gradients\n",
    "            optimizer.zero_grad()\n",
    "\n",
    "            # step 2. compute the output\n",
    "            y_pred = classifier(batch_dict['x_data']) # (batch, seq_len) -> (batch, num_classes)\n",
    "\n",
    "            # step 3. compute the loss\n",
    "            loss = loss_func(y_pred, batch_dict['y_target'])\n",
    "            loss_t = loss.item()\n",
    "            running_loss += (loss_t - running_loss) / (batch_index + 1)\n",
    "\n",
    "            # step 4. use loss to produce gradients\n",
    "            loss.backward()\n",
    "\n",
    "            # step 5. use optimizer to take gradient step\n",
    "            optimizer.step()\n",
    "            # -----------------------------------------\n",
    "            # compute the accuracy\n",
    "            acc_t = compute_accuracy(y_pred, batch_dict['y_target'])\n",
    "            running_acc += (acc_t - running_acc) / (batch_index + 1)\n",
    "\n",
    "            # update bar\n",
    "            train_bar.set_postfix(loss=running_loss, acc=running_acc, \n",
    "                                  epoch=epoch_index)\n",
    "            train_bar.update()\n",
    "\n",
    "        train_state['train_loss'].append(running_loss)\n",
    "        train_state['train_acc'].append(running_acc)\n",
    "\n",
    "        # Iterate over val dataset\n",
    "\n",
    "        # setup: batch generator, set loss and acc to 0; set eval mode on\n",
    "        dataset.set_split('val')\n",
    "        batch_generator = generate_batches(dataset, \n",
    "                                           batch_size=args.batch_size, \n",
    "                                           device=args.device)\n",
    "        running_loss = 0.\n",
    "        running_acc = 0.\n",
    "        classifier.eval()\n",
    "\n",
    "        for batch_index, batch_dict in enumerate(batch_generator):\n",
    "\n",
    "            # compute the output\n",
    "            y_pred =  classifier(batch_dict['x_data'])\n",
    "\n",
    "            # step 3. compute the loss\n",
    "            loss = loss_func(y_pred, batch_dict['y_target'])\n",
    "            loss_t = loss.item()\n",
    "            running_loss += (loss_t - running_loss) / (batch_index + 1)\n",
    "\n",
    "            # compute the accuracy\n",
    "            acc_t = compute_accuracy(y_pred, batch_dict['y_target'])\n",
    "            running_acc += (acc_t - running_acc) / (batch_index + 1)\n",
    "            val_bar.set_postfix(loss=running_loss, acc=running_acc, \n",
    "                            epoch=epoch_index)\n",
    "            val_bar.update()\n",
    "\n",
    "        train_state['val_loss'].append(running_loss)\n",
    "        train_state['val_acc'].append(running_acc)\n",
    "\n",
    "        train_state = update_train_state(args=args, model=classifier,\n",
    "                                         train_state=train_state)\n",
    "\n",
    "        scheduler.step(train_state['val_loss'][-1])\n",
    "\n",
    "        if train_state['stop_early']:\n",
    "            break\n",
    "\n",
    "        train_bar.n = 0\n",
    "        val_bar.n = 0\n",
    "        epoch_bar.update()\n",
    "except KeyboardInterrupt:\n",
    "    print(\"Exiting loop\")\n"
   ]
  },
  {
   "cell_type": "code",
   "execution_count": 18,
   "metadata": {},
   "outputs": [
    {
     "data": {
      "image/png": "[encoded data removed]",
      "text/plain": [
       "<Figure size 640x480 with 1 Axes>"
      ]
     },
     "metadata": {},
     "output_type": "display_data"
    }
   ],
   "source": [
    "%matplotlib inline\n",
    "import matplotlib.pyplot as plt\n",
    "\n",
    "acc = train_state['train_acc']\n",
    "val_acc = train_state['val_acc']\n",
    "loss = train_state['train_loss']\n",
    "val_loss = train_state['val_loss']\n",
    "\n",
    "epochs = range(1, len(acc) + 1)\n",
    "\n",
    "# \"bo\" is for \"blue dot\"\n",
    "plt.plot(epochs, loss, 'bo', label='Training loss')\n",
    "# b is for \"solid blue line\"\n",
    "plt.plot(epochs, val_loss, 'b', label='Validation loss')\n",
    "plt.title('Training and validation loss')\n",
    "plt.xlabel('Epochs')\n",
    "plt.ylabel('Loss')\n",
    "plt.legend()\n",
    "\n",
    "plt.show()"
   ]
  },
  {
   "cell_type": "code",
   "execution_count": 19,
   "metadata": {},
   "outputs": [
    {
     "data": {
      "image/png": "[encoded data removed]",
      "text/plain": [
       "<Figure size 640x480 with 1 Axes>"
      ]
     },
     "metadata": {},
     "output_type": "display_data"
    }
   ],
   "source": [
    "plt.clf()   # clear figure\n",
    "\n",
    "plt.plot(epochs, acc, 'bo', label='Training acc')\n",
    "plt.plot(epochs, val_acc, 'b', label='Validation acc')\n",
    "plt.title('Training and validation accuracy')\n",
    "plt.xlabel('Epochs')\n",
    "plt.ylabel('Accuracy')\n",
    "plt.legend()\n",
    "\n",
    "plt.show()"
   ]
  },
  {
   "cell_type": "code",
   "execution_count": 20,
   "metadata": {},
   "outputs": [],
   "source": [
    "# compute the loss & accuracy on the test set using the best available model\n",
    "\n",
    "classifier.load_state_dict(torch.load(train_state['model_filename'])) # load the best model\n",
    "\n",
    "classifier = classifier.to(args.device)\n",
    "dataset.class_weights = dataset.class_weights.to(args.device)\n",
    "loss_func = nn.CrossEntropyLoss(dataset.class_weights)\n",
    "\n",
    "dataset.set_split('test')\n",
    "batch_generator = generate_batches(dataset, \n",
    "                                   batch_size=args.batch_size, \n",
    "                                   device=args.device)\n",
    "running_loss = 0.\n",
    "running_acc = 0.\n",
    "classifier.eval()\n",
    "\n",
    "y_pred_list = []         # store predicted values for confusion matrix\n",
    "y_category_list = []  # ground truth value\n",
    "\n",
    "for batch_index, batch_dict in enumerate(batch_generator):\n",
    "    # compute the output\n",
    "    y_pred =  classifier(batch_dict['x_data'])\n",
    "    \n",
    "    # store predicted values and ground truth values for calculating confusion matrix\n",
    "    y_pred_list.extend(y_pred.max(dim=1)[1].cpu().numpy())\n",
    "    y_category_list.extend(batch_dict['y_target'].cpu().numpy())\n",
    "    \n",
    "    # compute the loss\n",
    "    loss = loss_func(y_pred, batch_dict['y_target'])\n",
    "    loss_t = loss.item()\n",
    "    running_loss += (loss_t - running_loss) / (batch_index + 1)\n",
    "\n",
    "    # compute the accuracy\n",
    "    acc_t = compute_accuracy(y_pred, batch_dict['y_target'])\n",
    "    running_acc += (acc_t - running_acc) / (batch_index + 1)\n",
    "\n",
    "train_state['test_loss'] = running_loss\n",
    "train_state['test_acc'] = running_acc\n"
   ]
  },
  {
   "cell_type": "code",
   "execution_count": 21,
   "metadata": {},
   "outputs": [
    {
     "name": "stdout",
     "output_type": "stream",
     "text": [
      "Test loss: 0.24122860814843858;\n",
      "Test Accuracy: 92.07589285714286\n"
     ]
    }
   ],
   "source": [
    "print(\"Test loss: {};\".format(train_state['test_loss']))\n",
    "print(\"Test Accuracy: {}\".format(train_state['test_acc']))"
   ]
  },
  {
   "cell_type": "code",
   "execution_count": 22,
   "metadata": {},
   "outputs": [
    {
     "name": "stdout",
     "output_type": "stream",
     "text": [
      "['FAKE', 'REAL']\n"
     ]
    }
   ],
   "source": [
    "classes = []\n",
    "for i in range(len(dataset._vectorizer.category_vocab)):\n",
    "    classes.append(dataset._vectorizer.category_vocab.lookup_index(i))\n",
    "print(classes)"
   ]
  },
  {
   "cell_type": "code",
   "execution_count": 23,
   "metadata": {},
   "outputs": [
    {
     "name": "stdout",
     "output_type": "stream",
     "text": [
      "True       FAKE  REAL\n",
      "Predicted            \n",
      "FAKE        426    48\n",
      "REAL         23   399\n"
     ]
    }
   ],
   "source": [
    "import pandas as pd\n",
    "from sklearn.metrics import classification_report, confusion_matrix, accuracy_score\n",
    "\n",
    "cm = confusion_matrix(y_category_list, y_pred_list)\n",
    "cm_df = pd.DataFrame(cm.T, index=classes, columns=classes)\n",
    "cm_df.index.name = 'Predicted'\n",
    "cm_df.columns.name = 'True'\n",
    "print(cm_df)"
   ]
  },
  {
   "cell_type": "code",
   "execution_count": 24,
   "metadata": {},
   "outputs": [
    {
     "name": "stdout",
     "output_type": "stream",
     "text": [
      "              precision    recall  f1-score   support\n",
      "\n",
      "           0       0.90      0.95      0.92       449\n",
      "           1       0.95      0.89      0.92       447\n",
      "\n",
      "    accuracy                           0.92       896\n",
      "   macro avg       0.92      0.92      0.92       896\n",
      "weighted avg       0.92      0.92      0.92       896\n",
      "\n"
     ]
    }
   ],
   "source": [
    "print(classification_report(y_category_list, y_pred_list))"
   ]
  },
  {
   "cell_type": "markdown",
   "metadata": {},
   "source": [
    "### Inference"
   ]
  },
  {
   "cell_type": "code",
   "execution_count": 25,
   "metadata": {},
   "outputs": [],
   "source": [
    "# Preprocess the reviews\n",
    "def preprocess_text(text):\n",
    "    text = ' '.join(word.lower() for word in text.split(\" \"))\n",
    "    text = re.sub(r\"([.,!?])\", r\" \\1 \", text)\n",
    "    text = re.sub(r\"[^a-zA-Z.,!?]+\", r\" \", text)\n",
    "    return text "
   ]
  },
  {
   "cell_type": "code",
   "execution_count": 26,
   "metadata": {},
   "outputs": [],
   "source": [
    "def predict_category(title, classifier, vectorizer, max_length):\n",
    "    \"\"\"Predict a News category for a new title\n",
    "    \n",
    "    Args:\n",
    "        title (str): a raw title string\n",
    "        classifier (NewsClassifier): an instance of the trained classifier\n",
    "        vectorizer (NewsVectorizer): the corresponding vectorizer\n",
    "        max_length (int): the max sequence length\n",
    "            Note: CNNs are sensitive to the input data tensor size. \n",
    "                  This ensures to keep it the same size as the training data\n",
    "    \"\"\"\n",
    "    title = preprocess_text(title)\n",
    "    vectorized_title = \\\n",
    "        torch.tensor(vectorizer.vectorize(title, vector_length=max_length))\n",
    "    result = classifier(vectorized_title.unsqueeze(0), apply_softmax=True)\n",
    "    probability_values, indices = result.max(dim=1)\n",
    "    predicted_category = vectorizer.category_vocab.lookup_index(indices.item())\n",
    "\n",
    "    return {'category': predicted_category, \n",
    "            'probability': probability_values.item()}"
   ]
  },
  {
   "cell_type": "code",
   "execution_count": 27,
   "metadata": {},
   "outputs": [],
   "source": [
    "def get_samples():\n",
    "    samples = {}\n",
    "    for cat in dataset.val_df.category.unique():\n",
    "        samples[cat] = dataset.val_df.text[dataset.val_df.category==cat].tolist()[:5]\n",
    "    return samples\n",
    "\n",
    "val_samples = get_samples() # first 5 titles of each category from validation dataset"
   ]
  },
  {
   "cell_type": "code",
   "execution_count": 28,
   "metadata": {},
   "outputs": [
    {
     "name": "stdout",
     "output_type": "stream",
     "text": [
      "True Category: FAKE\n",
      "==============================\n",
      "Prediction: FAKE (p=1.00)\n",
      "\t + Sample: hillary clinton postapocalyptic hellscape plan hillary clinton postapocalyptic hellscape plan important avoid age peace hillary clinton postapocalyptic hellscape plan b look email even com wrong comdingdangaramaramaflimflam mail question comment site godlike production glp registered trademark zero point ltd godlike website design copyright godlikeproductions com page generated query\n",
      "Prediction: FAKE (p=1.00)\n",
      "\t + Sample: russophobia war party propaganda information russophobia war party propaganda world reactionary regime head chopping terror sponsoring saudi arabian kleptocracy awarded chair un human right council russia kicked travesty engineered superpower lie punish moscow resisting u led war sectarian massacre regime change syria war party march cheer corporate medium hillary even elected yet margaret kimberley attempt stop fighting rejected u nato sealed fate syrian people november information clearing house bar russia invade iraq kill one million people russia greater percentage population behind bar country world russia occupy haiti kidnapping president russian police allowed shoot child death without fear repercussion russia entering th year terror war people somalia crime take place direction united state yet full force propaganda influence world opinion directed russia whatever shortcoming hold candle america violating human right danger presented hillary clinton presidency overstated war party steadily working towards goal defies logic risk life earth regime change modus operandi hope make reality russia nearly every claim russian evil lie ruse meant put american fighting mood lose fear nuclear conflagration clear clinton rest would warrior actually realize risking mushroom cloud perhaps believe vladimir putin easily pushed around evidence point contrary unproven allegation interference presidential election casting blame russia sole cause suffering syria meant desensitize public age old ploy make war acceptable deemed necessity usual suspect helping eagerly corporate medium led newspaper like new york time washington post front center pushing tale russian villainy human right watch organization care nothing abuse committed united state ally also playing usual role choosing next regime change victim russia lost seat united nation human right council part american pressure public relation assistance human right industrial complex unhrc chaired saudi arabia saudi arabia absolute monarchy fund jihadist terrorist group caused syrian death saudi causing dislocation death starvation yemen american ally little opposition misdeed openly bigoted donald trump perfect foil hillary clinton rest democratic party leadership preferred rival made case discredited lesser evilism argument sensible statement avoiding enmity russia made even useful united state ally cause syria destruction effort overthrow president assad created humanitarian disaster complete isi al nusra fighter love chop head entertainment far cause catastrophe russia left ally fight alone four year even made overture negotiate assad fate united state attempt stop fighting rejected u nato sealed fate syrian people people east aleppo shelled american ally one know reading pass journalism newspaper television american role slaughter barely mentioned excused effort protect civilian population bloodshed made u could end government wanted anti russian propaganda effort worked perfection nato massing troop russia border clear provocation yet putin labeled bad guy said menacing country join threatening nation united state make phony claim russian war crime despite blood hand latest human right watch canard prosecuting assad come straight white house state department nothing concern syrian living fifth year hell lesser evil hillary clinton donald trump fully supported war party desire muscular foreign policy bizarre term mean death starvation million people clinton win landslide must denied victory magnitude opportunity claim mandate peace loving people must give vote green party ticket jill stein ajamu baraka alone rejecting premise imperialist country endless war united state dangerous country world reckless war loving president threat becomes existential prospect face hillary clinton presidency role villain cast world stage star show margaret kimberley freedom rider column appears weekly bar widely reprinted elsewhere maintains frequently updated blog well m kimberley life new york city reached via e mail margaret kimberley blackagendareport com russia kill civilian u promotes democracy washington mantra domestic consumption\n",
      "Prediction: FAKE (p=0.99)\n",
      "\t + Sample: world champion boxer manny pacquiao build home poor filipino earning million fighting floyd mayweather boxer politician used portion earnings construct home poor family hometown manny pacquiao world class athlete filipino politician compassionate activist paid home built help underprivileged family hometown via anonews earlier year pacquiao proclaimed good deed facebook happy giving house free constituent sarangani province pocket thousand family beneficiary star report born christian inspired help poor family duking floyd mayweather though lost boxing match still earned million dollar fight century felt duty give back wrote faithful steward god grace various form use whatever gift received serve others still building always believe bible say offer hospitality one another without grumbling act compassion could nothing calculated political move nonetheless family secure living space thanks senator generosity believe worth celebrating\n",
      "Prediction: FAKE (p=0.58)\n",
      "\t + Sample: hillary era coming worry photo veni cc trust one noticed rural area economically distressed neighborhood town city lawn sign donald trump everywhere hillary sign rarer tesla maseratis think understand trump sign cry defiance hillary supporter harder figure suspect would soon advertise intention november even think way stop trump understand voting hillary embarrassing lawn sign apart evidence trump kaput overwhelming seems finally done campaign extent even diehard anti trump fear monger concede inevitability clinton return white house trump campaign life support week pussy grabbing tape surfaced followed seemingly endless stream woman dozen already accusing donald groping worse third debate trump announced would wait see accepting legitimacy clinton victory seems final straw bona fide deplorables writing wall hillary win surely sun rise tomorrow well quite almost reason rejoice victory trump defeat even obvious seems hillary probably lesser evil thing considered trump likely le dangerous two man adolescent septuagenarian body tendency act least russophobe neocon humanitarian intervener intent regime change country resist american domination would include usual victim country incapable harming united state militarily russia china well relevant supposed lesser evil committed neoliberal wall street toady trump crooked hillary taunt hit target often consideration others like cause concern fine lesser evil voting general think threshold beneath lesser evil consideration apply need agonize issue however case trump became republican nominee lesser evil argument became moot would still case even voter quite willfully blind danger inherent clinton determination maintain american world domination mean necessary fondness military solution lesser evil consideration irrelevant trump always bound lose democrat even pressing point corollary anti trump hysteria distraction day one recently month ago hardly anyone agreed dollar every time taken task seeing parallel trump phenomenon rise nazism final year weimar republic would rich man today recognized trump chance becoming president practical purpose nil one pressing line day used limb longer would natural take pleasure turn event would fact trump defeat implies clinton victory prospect best slightly le nightmarish worse seem matter flagrant worrywart finally concede never president trump liberal centrist even foolish leftist still going hillary dead center soft left consensus view still time boost knock hillary campaign especially dozen state electoral college outcome could determined year ago absolute certainty remarkable many people let anti trump hysteria go focused trump misogyny temperamental instability narcissistic blather see thing need fear trump concerned speak fear however hillary case really something fear become commander chief lethal military force history world point supporter denial even people know better support sake remain determined waste vote adding total apparently think way send message trumpian fascism shall pas much better would would use vote build alternative neoliberal perpetual war regime hillary bill co thinker helped fashion best chance point jill stein campaign green party ticket stein win course vote protest vote nothing wrong hillary need know mandate end world know one many way convey message pundit claim otherwise dead wrong pile hillary wasting vote protest vote aimed hillary wasted would imagine least trump voter thinking along similar line racism nativism islamophobia candidate tarnish message vote convey therefore register real clarity message protest vote stein convey hand clear distinct garner least five percent total vote cast green access federal funding future election much easier time gaining ballot access fifty state would make much political revolution even bernie sander highly attenuated sense term would make future election le mind numbing degrading could ultimately lead far reaching transformation political scene trump killed gop duopoly party system jeopardy kind political realignments last become feasible contrarian went limb trump chance confidence way based inference polling data statistical extrapolation let blogosphere political junky corporate medium talking head knock useful entertaining people care horse race aspect presidential election distressing many american indulge spectator sport essentially apolitical confident right trump chance knew people tell pollster election seems far basically irrelevant predicting election outcome information people like voted past relevant much especially true case disdain one candidate dispositive factor many voter mind also fairly sure rightly wrongly people fear loathe trump fear loathe hillary outset would long trump certain undermine much dirt donald sleazy connection moral turpitude even god fearing republican capable believing almost nonsense bound eventually repulsed suspected trump never really wanted president got race promote brand egotist publicity hound trump hate lose however especially like hillary point must decided give campaign even meant bringing trump brand come shed crocodile tear brood ivanka especially worthwhile thing month ahead would work make happen everything possible assure damage done thing trump irreversible delightful irony would plenty hillary hater donald base hate hillary consider embodiment coercive goody goodyism think disdainful people like people deplorables demographic think leftwing idea leftwing nonsense course nearly leftwing enough anyone would think otherwise testament medium ability shape public perception degree political ignorance rampant quarter american electorate vast rightwing conspiracy hillary hater spot right rest two three bad even better reason dread prospect clinton presidency service hillary done go miscreant control commanding height america world capitalist order untrammeled ideologically driven bellicosity hillary know game system bill know benefit vaunted experience clueless world although fan boast pragmatism woman seriously inept undertakes ill conceived nearly turn badly short lesser evil great evil indeed take long move back white house start putting stamp empire depredation scale fall eye gullible supporter even sure trump defeat take even le joy proved right lie ahead hillary control horrible contemplate join debate facebook andrew levine senior scholar institute policy study author recently american ideology routledge political key word blackwell well many book article political philosophy recent book bad faith wrong opium people professor philosophy university wisconsin madison research professor philosophy university maryland college park contributor hopeless barack obama politics illusion ak press\n",
      "Prediction: FAKE (p=1.00)\n",
      "\t + Sample: connect series webinar oct financial market news cover dominating theme market share pattern analysis perspective empower member make better investment decision\n",
      "------------------------------\n",
      "\n",
      "True Category: REAL\n",
      "==============================\n",
      "Prediction: FAKE (p=0.89)\n",
      "\t + Sample: common core quietly war argentine president mauricio macri office rebutting report argentinian journalist set wave american medium\n",
      "Prediction: REAL (p=1.00)\n",
      "\t + Sample: u face call walk away iran talk leading republican critic iranian nuclear talk calling u walk away table negotiator missed key deadline lawmaker joined voicing concern iran could extract critical final hour concession scramble salvage agreement negotiation resumed switzerland wednesday almost immediately beset competing claim hour diplomat abandoned march deadline reach outline deal agreed press latest round hit week mark three six foreign minister involved left talk prospect agreement remaining uncertain amid confusion sen tom cotton r ark told fox news concerned framework deal could allow iran keep uranium stockpile continue enrich uranium underground bunker willing walk away table reapply leverage iran cotton said fact willing still sitting switzerland negotiating three negotiating partner already left demonstrates iran continue demand dangerous concession west speaking msnbc former democratic presidential candidate howard dean seemed agree said president obama right seek deal might time step away table make clear u backing key position including iran uranium stockpile pace sanction relief worried dean said rep martha mcsally r ariz also told fox news potentially nuclear infrastructure added know exactly behind closed door despite side agreeing blow deadline pursuit rough agreement even white house threatened abandon talk iran budge unwilling make kind commitment give u assurance u mean united state mean international community walk away negotiating table consider option may available u certainly possibility could happen white house press secretary josh earnest said tuesday earnest indicated wednesday still option called scenario hypothetical talk making progress said talk continue productive yet received specific tangible commitment international community require tuesday negotiator trying agree simply joint statement could justify talk continuing final june deadline iran deputy foreign minister abbas araghchi told reporter side make progress text joint statement could issued end day suggested statement would contain specific senior western official quickly pushed back saying nothing statement decided iran negotiating partner would accept document contained detail german foreign ministry tweeted nothing agreed although progress visible araghchi named difference sanction relief country one dispute along dispute iran uranium enrichment related research development definitely research development program high end centrifuge continue told iranian television u negotiating partner want crimp iranian effort improve performance centrifuge enrich uranium advancing technology could let iran produce material could used arm nuclear weapon much quickly present exchange reflected significant gap side came shortly end first post deadline meeting u secretary state john kerry british german counterpart iranian foreign minister mohammed javad zarif swiss town lausanne team continuing marathon effort bridge still significant gap hammer framework accord would serve basis final agreement end june eager avoid collapse discussion united state others claimed late tuesday enough progress made warrant extension six day intense bartering foreign minister china france russia departed lausanne overnight although significance absence clear kerry postponed planned tuesday departure stay lausanne iranian negotiator said team would stay long necessary clear remaining hurdle official say intention produce joint statement outlining general political commitment resolving concern iran nuclear program exchange sanction relief addition trying fashion document would lay detail step must take june meet goal additional document would allow side make case next round talk simply continuation negotiation already twice extended since interim agreement iran united state russia china britain france germany concluded november obama leader including iran said interested third extension party agree broad framework leaf key detail unresolved obama expect stiff opposition home member congress want move forward new stiffer iran sanction lawmaker agreed hold measure march party negotiated white house say new sanction would scuttle diplomatic effort contain iran nuclear work possibly lead israel act threat use military force accomplish goal israeli prime minister benjamin netanyahu continued question course talk wednesday said iran view israel destruction non negotiable evidently giving iran murderous regime clear path bomb negotiable unconscionable said time iran accelerating campaign terror subjugation conquest throughout region recently yemen netanyahu said better deal would significantly roll back iran nuclear infrastructure link lifting restriction nuclear program change iran behavior associated press contributed report\n",
      "Prediction: FAKE (p=0.53)\n",
      "\t + Sample: gun control becomes litmus test democratic primary move would make easier trump administration demolish exchange\n",
      "Prediction: REAL (p=0.99)\n",
      "\t + Sample: house gop budget gimmick six men green tie took stage house television studio tuesday house budget committee chairman tom price slight leprechaun man silver hair dark eyebrow approached microphone good mor top mornin ya price announced happy st patrick day altogether fitting republican rolled budget festival inebriation honor man magically apocryphally banished snake ireland republican done budget le fantastic employed lucky charm mystical pot gold make appear sober balancing budget actually rely gimmick creative accounting trick balance budget house republican say introduction fiscal budget true budget rely gimmick budget gimmick pretend keep strict limit defense spending called sequestration pump ten billion extra dollar slush fund called overseas contingency operation mean fund count emergency spending part pentagon budget assumes current tax cut allowed expire scheduled would amount billion tax increase nobody belief would allowed go effect proposes repeal obamacare count revenue saving obamacare law remained effect claim save trillion year fine print budget plan instruction committee asks identify billion saving time assumes trillion cut category known mandatory program specify cut would relies billion additional revenue dynamic scoring generous accounting method account billion plan negotiated increase doctor payment medicare extend child health care program difficulty concealing sleight hand might explain price hurry leave news conference tuesday predecessor rep paul ryan r wi liked give lengthy seminar conservative budgeting theory price took question six minute aide hollered last question chairman gone minute later reporter gave chase leprechaun budget pas one asked think price said locating confidence sure absolutely latest instance republican discovering difficult govern unified control congress past four year budget debut academic exercise would never agreement republican house democratic senate budget might actually mean something firebrand elected past three election need show would handle country finance turn govern much like came legislative smoke mirror rep rob woodall r ga one stage observed folk playing opportunity first time short congressional career actually bring budget united state playing good verb occasion price georgia republican ran conservative republican study committee delivered long statement imparting assurance believe america least three time held page budget camera minute preamble questioning quickly got tricky price ask committee come billion saving floor ceiling price said adding something opportunity provide positive solution american people desire andy taylor associated press asked billion tax increase obamacare revenue assumed budget believe american people believe growth replied price predicting higher expected economic growth would boost tax revenue jonathan weisman new york time asked price would detail trillion mandatory cut budget identify take peek balanced budget stronger america price replied holding budget camera looking weisman said specify sort trick republican longer get away charge read dana milbank archive follow twitter subscribe update facebook\n",
      "Prediction: REAL (p=0.95)\n",
      "\t + Sample: identity isi terrorist known jihadi john reportedly revealed true identity isi terrorist known jihadi john appeared several video showing beheading hostage reportedly revealed washington post first reported thursday citing friend human right worker familiar case man real name mohammed emwazi west london man detained counterterror official britain least two u government source spoke reuters thursday said investigator believe man emwazi according washington post bbc emwazi born kuwait studied computer programming university westminster university confirmed student name graduated allegation true shocked sickened news university said statement emwazi also thought traveled syria sometime around bbc reported british intelligence previously identified man chosen disclose name operational reason commander richard walton london metropolitan police counter terrorism command released statement saying previously asked medium outlet speculate detail investigation basis life risk going confirm identity anyone stage give update progress live counter terrorism investigation london based cage work muslim conflict british intelligence service said thursday research director asim qureshi saw strong similarity emwazi jihadi john hood worn militant way could percent certain center study radicalization political violence king college london closely track fighter syria also said believed identification correct masked hooded terrorist achieved instant notoriety appeared video released isi last august showed beheading american journalist james foley time many commentator analyst remarked man distinct london accent man believed appeared video showed beheading hostage including american journalist steven sotloff british aid worker david haines british taxi driver alan henning american aid worker peter kassig known abdul rahman apparent conversion islam captivity man recent appearance came last month video japanese hostage kenji goto haruna yukawa men also killed terror group terrorist given nickname jihadi john interview former isi hostage revealed part group british jihadist guarded hostage dubbed beatles bbc reported emwazi believed associate known terror suspect traveled somalia allegedly linked funding network somali based militant group al shabaab cage said contact emwazi two year accused british intelligence service harassing said alleged british spy preventing traveling country birth kuwait planned marry one answered door brick row house west london emwazi family alleged lived neighbor surrounding area public housing project either declined comment said know family neighbor janine kintenda said lived area year shocked news oh god told associated press lifting hand mouth bad bad shiraz maher king college radicalization center said investigating whether emwazi among group young west londoner traveled syria many dead including mohammad el araj ibrahim al mazwagi choukri ellekhlifi killed said emwazi background similar british jihadis disproved idea guy impoverished coming deprived background large upwardly mobile people well educated said associated press contributed report\n",
      "------------------------------\n",
      "\n"
     ]
    }
   ],
   "source": [
    "#title = input(\"Enter a news title to classify: \")\n",
    "classifier = classifier.to(\"cpu\")\n",
    "\n",
    "for truth, sample_group in val_samples.items():\n",
    "    print(f\"True Category: {truth}\")\n",
    "    print(\"=\"*30)\n",
    "    for sample in sample_group:\n",
    "        prediction = predict_category(sample, classifier, \n",
    "                                      vectorizer, dataset._max_seq_length)\n",
    "        print(\"Prediction: {} (p={:0.2f})\".format(prediction['category'],\n",
    "                                                  prediction['probability']))\n",
    "        print(\"\\t + Sample: {}\".format(sample))\n",
    "    print(\"-\"*30 + \"\\n\")"
   ]
  },
  {
   "cell_type": "markdown",
   "metadata": {},
   "source": [
    "### Excercise:\n",
    "\n",
    "1. Change F.max_pool1d() to F.avg_pool1d().\n",
    "2. Change use_glove=True to use_glove=False.\n",
    "3. Change other hyperparameters.\n"
   ]
  }
 ],
 "metadata": {
  "kernelspec": {
   "display_name": "Python 3 (ipykernel)",
   "language": "python",
   "name": "python3"
  },
  "language_info": {
   "codemirror_mode": {
    "name": "ipython",
    "version": 3
   },
   "file_extension": ".py",
   "mimetype": "text/x-python",
   "name": "python",
   "nbconvert_exporter": "python",
   "pygments_lexer": "ipython3",
   "version": "3.9.13"
  },
  "toc": {
   "colors": {
    "hover_highlight": "#DAA520",
    "running_highlight": "#FF0000",
    "selected_highlight": "#FFD700"
   },
   "moveMenuLeft": true,
   "nav_menu": {
    "height": "138px",
    "width": "252px"
   },
   "navigate_menu": true,
   "number_sections": true,
   "sideBar": true,
   "skip_h1_title": false,
   "threshold": "5",
   "title_cell": "Table of Contents",
   "title_sidebar": "Contents",
   "toc_cell": false,
   "toc_position": {},
   "toc_section_display": "block",
   "toc_window_display": false
  }
 },
 "nbformat": 4,
 "nbformat_minor": 2
}
