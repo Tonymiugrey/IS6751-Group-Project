{
 "cells": [
  {
   "cell_type": "markdown",
   "metadata": {},
   "source": [
    "# CNN News Classification"
   ]
  },
  {
   "cell_type": "markdown",
   "metadata": {},
   "source": [
    "## Imports"
   ]
  },
  {
   "cell_type": "code",
   "execution_count": 1,
   "metadata": {},
   "outputs": [
    {
     "name": "stderr",
     "output_type": "stream",
     "text": [
      "[nltk_data] Downloading package stopwords to\n",
      "[nltk_data]     C:\\Users\\miuGrey\\AppData\\Roaming\\nltk_data...\n",
      "[nltk_data]   Package stopwords is already up-to-date!\n",
      "[nltk_data] Downloading package wordnet to\n",
      "[nltk_data]     C:\\Users\\miuGrey\\AppData\\Roaming\\nltk_data...\n",
      "[nltk_data]   Package wordnet is already up-to-date!\n",
      "[nltk_data] Downloading package punkt to\n",
      "[nltk_data]     C:\\Users\\miuGrey\\AppData\\Roaming\\nltk_data...\n",
      "[nltk_data]   Package punkt is already up-to-date!\n",
      "[nltk_data] Downloading package omw-1.4 to\n",
      "[nltk_data]     C:\\Users\\miuGrey\\AppData\\Roaming\\nltk_data...\n",
      "[nltk_data]   Package omw-1.4 is already up-to-date!\n"
     ]
    }
   ],
   "source": [
    "import os\n",
    "from argparse import Namespace\n",
    "from collections import Counter\n",
    "import json\n",
    "import re\n",
    "import string\n",
    "\n",
    "import numpy as np\n",
    "import pandas as pd\n",
    "import torch\n",
    "import torch.nn as nn\n",
    "import torch.nn.functional as F\n",
    "import torch.optim as optim\n",
    "from torch.utils.data import Dataset, DataLoader\n",
    "from tqdm.notebook import tqdm\n",
    "\n",
    "import nltk\n",
    "nltk.download('stopwords')\n",
    "nltk.download('wordnet')\n",
    "nltk.download('punkt')\n",
    "nltk.download('omw-1.4')\n",
    "from nltk.corpus import stopwords # remove stopword\n",
    "from nltk.stem import WordNetLemmatizer\n",
    "from nltk.util import ngrams\n",
    "from nltk import word_tokenize"
   ]
  },
  {
   "cell_type": "markdown",
   "metadata": {},
   "source": [
    "## Data Vectorization classes"
   ]
  },
  {
   "cell_type": "markdown",
   "metadata": {},
   "source": [
    "### The Vocabulary"
   ]
  },
  {
   "cell_type": "code",
   "execution_count": 2,
   "metadata": {},
   "outputs": [],
   "source": [
    "class Vocabulary(object):\n",
    "    \"\"\"Class to process text and extract vocabulary for mapping\"\"\"\n",
    "\n",
    "    def __init__(self, token_to_idx=None):\n",
    "        \"\"\"\n",
    "        Args:\n",
    "            token_to_idx (dict): a pre-existing map of tokens to indices\n",
    "        \"\"\"\n",
    "\n",
    "        # news_vocab._token_to_idx: {'<MASK>': 0, '<UNK>': 1, '<BEGIN>': 2, '<END>': 3, 'jobs': 4, 'tax': 5, 'cuts': 6,  \n",
    "        #                             ......, 'shiite': 3407, 'ghraib': 3408}\n",
    "        # category_vocab._token_to_idx: {'Business': 0, 'Sci/Tech': 1, 'Sports': 2, 'World': 3}\n",
    "        \n",
    "        if token_to_idx is None:\n",
    "            token_to_idx = {}\n",
    "        self._token_to_idx = token_to_idx\n",
    "\n",
    "        self._idx_to_token = {idx: token \n",
    "                              for token, idx in self._token_to_idx.items()}\n",
    "        \n",
    "    def add_token(self, token):\n",
    "        \"\"\"Update mapping dicts based on the token.\n",
    "\n",
    "        Args:\n",
    "            token (str): the item to add into the Vocabulary\n",
    "        Returns:\n",
    "            index (int): the integer corresponding to the token\n",
    "        \"\"\"\n",
    "        if token in self._token_to_idx:\n",
    "            index = self._token_to_idx[token]\n",
    "        else:\n",
    "            index = len(self._token_to_idx)\n",
    "            self._token_to_idx[token] = index\n",
    "            self._idx_to_token[index] = token\n",
    "        return index\n",
    "            \n",
    "    def lookup_token(self, token):\n",
    "        \"\"\"Retrieve the index associated with the token \n",
    "        \n",
    "        Args:\n",
    "            token (str): the token to look up \n",
    "        Returns:\n",
    "            index (int): the index corresponding to the token\n",
    "        \"\"\"\n",
    "        return self._token_to_idx[token]\n",
    "\n",
    "    def lookup_index(self, index):\n",
    "        \"\"\"Return the token associated with the index\n",
    "        \n",
    "        Args: \n",
    "            index (int): the index to look up\n",
    "        Returns:\n",
    "            token (str): the token corresponding to the index\n",
    "        Raises:\n",
    "            KeyError: if the index is not in the Vocabulary\n",
    "        \"\"\"\n",
    "        if index not in self._idx_to_token:\n",
    "            raise KeyError(\"the index (%d) is not in the Vocabulary\" % index)\n",
    "        return self._idx_to_token[index]\n",
    "\n",
    "    def __str__(self):\n",
    "        return \"<Vocabulary(size=%d)>\" % len(self)\n",
    "\n",
    "    def __len__(self):\n",
    "        return len(self._token_to_idx)"
   ]
  },
  {
   "cell_type": "code",
   "execution_count": 3,
   "metadata": {},
   "outputs": [],
   "source": [
    "class SequenceVocabulary(Vocabulary):\n",
    "    def __init__(self, token_to_idx=None, unk_token=\"<UNK>\",\n",
    "                 mask_token=\"<MASK>\", begin_seq_token=\"<BEGIN>\",\n",
    "                 end_seq_token=\"<END>\"):\n",
    "\n",
    "        super(SequenceVocabulary, self).__init__(token_to_idx)\n",
    "\n",
    "        self._mask_token = mask_token             # for paddding, e.g., Wall St. Bears Claw Back Into the Black (Reuters)\n",
    "                                                  #               -> [2, 5, 6, 10, 10, 8, 7, 9, 19, ......., 3, 0, 0, 0, ..., 0]\n",
    "        self._unk_token = unk_token\n",
    "        self._begin_seq_token = begin_seq_token\n",
    "        self._end_seq_token = end_seq_token\n",
    "\n",
    "        self.mask_index = self.add_token(self._mask_token)            # mask_index is 0\n",
    "        self.unk_index = self.add_token(self._unk_token)              # unk_index is 1\n",
    "        self.begin_seq_index = self.add_token(self._begin_seq_token)  # begin_seq_index is 2\n",
    "        self.end_seq_index = self.add_token(self._end_seq_token)      # end_seq_index is 3\n",
    "\n",
    "    def lookup_token(self, token):\n",
    "        \"\"\"Retrieve the index associated with the token \n",
    "          or the UNK index if token isn't present.\n",
    "        \n",
    "        Args:\n",
    "            token (str): the token to look up \n",
    "        Returns:\n",
    "            index (int): the index corresponding to the token\n",
    "        Notes:\n",
    "            `unk_index` needs to be >=0 (having been added into the Vocabulary) \n",
    "              for the UNK functionality \n",
    "        \"\"\"\n",
    "        if self.unk_index >= 0:\n",
    "            return self._token_to_idx.get(token, self.unk_index)\n",
    "        else:\n",
    "            return self._token_to_idx[token]"
   ]
  },
  {
   "cell_type": "markdown",
   "metadata": {},
   "source": [
    "### The Vectorizer"
   ]
  },
  {
   "cell_type": "code",
   "execution_count": 4,
   "metadata": {},
   "outputs": [],
   "source": [
    "class NewsVectorizer(object):\n",
    "    \"\"\" The Vectorizer which coordinates the Vocabularies and puts them to use\"\"\"    \n",
    "    def __init__(self, news_vocab, category_vocab):\n",
    "        self.news_vocab = news_vocab\n",
    "        self.category_vocab = category_vocab\n",
    "\n",
    "    def vectorize(self, text, vector_length=-1):\n",
    "        \"\"\"\n",
    "        Args:\n",
    "            text (str): the string of words separated by a space\n",
    "            vector_length (int): an argument for forcing the length of index vector\n",
    "        Returns:\n",
    "            the vetorized text (numpy.array)\n",
    "        \"\"\"\n",
    "        \"\"\"    \n",
    "        mask_index is 0\n",
    "        unk_index is 1\n",
    "        begin_seq_index is 2\n",
    "        end_seq_index is 3\n",
    "        \n",
    "        When text is \"Wall St. Bears Claw Back Into the Black (Reuters)\"; max vector length is 29 in current dataset \n",
    "        \n",
    "        out_vector = [2, 5, 6, 10, 10, 8, 7, 9, 19, ......., 3, 0, 0, 0, ..., 0]\n",
    "        \n",
    "        \"\"\"\n",
    "        \n",
    "        indices = [self.news_vocab.begin_seq_index]\n",
    "        indices.extend(self.news_vocab.lookup_token(token) \n",
    "                       for token in text.split(\" \"))\n",
    "        indices.append(self.news_vocab.end_seq_index)\n",
    "\n",
    "        if vector_length < 0:\n",
    "            vector_length = len(indices)\n",
    "\n",
    "        out_vector = np.zeros(vector_length, dtype=np.int64)\n",
    "        out_vector[:len(indices)] = indices\n",
    "        out_vector[len(indices):] = self.news_vocab.mask_index\n",
    "\n",
    "        return out_vector\n",
    "\n",
    "    @classmethod\n",
    "    def from_dataframe(cls, news_df, cutoff=25):\n",
    "        \"\"\"Instantiate the vectorizer from the dataset dataframe\n",
    "        \n",
    "        Args:\n",
    "            news_df (pandas.DataFrame): the target dataset\n",
    "            cutoff (int): frequency threshold for including in Vocabulary \n",
    "        Returns:\n",
    "            an instance of the NewsVectorizer\n",
    "        \"\"\"\n",
    "        category_vocab = Vocabulary()        \n",
    "        for category in sorted(set(news_df.category)):\n",
    "            category_vocab.add_token(category)\n",
    "\n",
    "        word_counts = Counter()\n",
    "        for text in news_df.text:\n",
    "            for token in text.split(\" \"):\n",
    "                if token not in string.punctuation:\n",
    "                    word_counts[token] += 1\n",
    "        \n",
    "        news_vocab = SequenceVocabulary()\n",
    "        for word, word_count in word_counts.items():\n",
    "            if word_count >= cutoff:\n",
    "                news_vocab.add_token(word)\n",
    "        \n",
    "        return cls(news_vocab, category_vocab)"
   ]
  },
  {
   "cell_type": "markdown",
   "metadata": {},
   "source": [
    "### The Dataset"
   ]
  },
  {
   "cell_type": "code",
   "execution_count": 5,
   "metadata": {},
   "outputs": [
    {
     "data": {
      "text/plain": [
       "'sentence test effect preprocessing yeah cool fac feae ge fe ga'"
      ]
     },
     "execution_count": 5,
     "metadata": {},
     "output_type": "execute_result"
    }
   ],
   "source": [
    "def text_preprocessing(text):\n",
    "    text = text.lower() # case folding\n",
    "    text = re.sub(r\"[^a-z]+\", r\" \", text) # Regulation, remove special charecters\n",
    "    stop_words = set(stopwords.words('english'))\n",
    "    tokens = word_tokenize(text)\n",
    "    lemmatizer=WordNetLemmatizer()\n",
    "    # remove stopwords and lemmatization\n",
    "    result = [lemmatizer.lemmatize(i) for i in tokens if not i in stop_words]\n",
    "    #result = result[:3000]\n",
    "    # bigram\n",
    "    '''\n",
    "    bigram_result = []\n",
    "    bigram_list = ngrams(result, 2)\n",
    "    for word_set in bigram_list:\n",
    "        for word in word_set:\n",
    "            bigram_result.append(word)\n",
    "    '''\n",
    "    return result\n",
    "\n",
    "list = text_preprocessing(\"This is sentence to test the effect of preprocessing... Yeah~\\nCool!fac  feae ge fe ga 🪣🛀🎀 ☏☢︎⏥␘⍎ (>╹ω╹<)喵\")\n",
    "' '.join(list)"
   ]
  },
  {
   "cell_type": "code",
   "execution_count": 6,
   "metadata": {},
   "outputs": [],
   "source": [
    "class NewsDataset(Dataset):\n",
    "    def __init__(self, news_df, vectorizer):\n",
    "        \"\"\"\n",
    "        Args:\n",
    "            news_df (pandas.DataFrame): the dataset\n",
    "            vectorizer (NewsVectorizer): vectorizer instatiated from dataset\n",
    "        \"\"\"\n",
    "        self.news_df = news_df\n",
    "        self._vectorizer = vectorizer\n",
    "\n",
    "        # +1 if only using begin_seq, +2 if using both begin and end seq tokens\n",
    "        measure_len = lambda context: len(context.split(\" \"))\n",
    "        self._max_seq_length = max(map(measure_len, news_df.text)) + 2\n",
    "        \n",
    "\n",
    "        self.train_df = self.news_df[self.news_df.split=='train']\n",
    "        self.train_size = len(self.train_df)\n",
    "\n",
    "        self.val_df = self.news_df[self.news_df.split=='val']\n",
    "        self.validation_size = len(self.val_df)\n",
    "\n",
    "        self.test_df = self.news_df[self.news_df.split=='test']\n",
    "        self.test_size = len(self.test_df)\n",
    "\n",
    "        self._lookup_dict = {'train': (self.train_df, self.train_size),\n",
    "                             'val': (self.val_df, self.validation_size),\n",
    "                             'test': (self.test_df, self.test_size)}\n",
    "\n",
    "        self.set_split('train')\n",
    "\n",
    "        # Class weights\n",
    "        class_counts = news_df.category.value_counts().to_dict()\n",
    "        def sort_key(item):\n",
    "            return self._vectorizer.category_vocab.lookup_token(item[0])\n",
    "        sorted_counts = sorted(class_counts.items(), key=sort_key)\n",
    "        frequencies = [count for _, count in sorted_counts]\n",
    "        self.class_weights = 1.0 / torch.tensor(frequencies, dtype=torch.float32)\n",
    "        \n",
    "        \n",
    "    @classmethod\n",
    "    def load_dataset_and_make_vectorizer(cls, news_csv):\n",
    "        \"\"\"Load dataset and make a new vectorizer from scratch\n",
    "        \n",
    "        Args:\n",
    "            surname_csv (str): location of the dataset\n",
    "        Returns:\n",
    "            an instance of SurnameDataset\n",
    "        \"\"\"\n",
    "        news_df = pd.read_csv(news_csv)\n",
    "        \n",
    "        for index, text in enumerate(news_df.text):\n",
    "            processed_list = text_preprocessing(text)\n",
    "            news_df.text[index] = ' '.join(processed_list)\n",
    "\n",
    "        train_news_df = news_df[news_df.split=='train']\n",
    "        return cls(news_df, NewsVectorizer.from_dataframe(train_news_df))\n",
    "\n",
    "    def get_vectorizer(self):\n",
    "        \"\"\" returns the vectorizer \"\"\"\n",
    "        return self._vectorizer\n",
    "\n",
    "    def set_split(self, split=\"train\"):\n",
    "        \"\"\" selects the splits in the dataset using a column in the dataframe \"\"\"\n",
    "        self._target_split = split\n",
    "        self._target_df, self._target_size = self._lookup_dict[split]\n",
    "\n",
    "    def __len__(self):\n",
    "        return self._target_size\n",
    "\n",
    "    def __getitem__(self, index):\n",
    "        \"\"\"the primary entry point method for PyTorch datasets\n",
    "        \n",
    "        Args:\n",
    "            index (int): the index to the data point \n",
    "        Returns:\n",
    "            a dictionary holding the data point's features (x_data) and label (y_target)\n",
    "        \"\"\"\n",
    "        row = self._target_df.iloc[index]\n",
    "\n",
    "        news_vector = \\\n",
    "            self._vectorizer.vectorize(row.text, self._max_seq_length)\n",
    "\n",
    "        category_index = \\\n",
    "            self._vectorizer.category_vocab.lookup_token(row.category)\n",
    "\n",
    "        return {'x_data': news_vector,     # e.g., \"Wall St. Bears Claw Back Into the Black (Reuters)\" \n",
    "                                            # -> [2, 5, 6, 10, 10, 8, 7, 9, 19, ......., 3, 0, 0, 0, ..., 0]\n",
    "                'y_target': category_index} # e.g., 2\n",
    "\n",
    "    def get_num_batches(self, batch_size):\n",
    "        \"\"\"Given a batch size, return the number of batches in the dataset\n",
    "        \n",
    "        Args:\n",
    "            batch_size (int)\n",
    "        Returns:\n",
    "            number of batches in the dataset\n",
    "        \"\"\"\n",
    "        return len(self) // batch_size\n",
    "\n",
    "def generate_batches(dataset, batch_size, shuffle=True,\n",
    "                     drop_last=True, device=\"cpu\"): \n",
    "    \"\"\"\n",
    "    A generator function which wraps the PyTorch DataLoader. It will \n",
    "      ensure each tensor is on the write device location.\n",
    "    \"\"\"\n",
    "    dataloader = DataLoader(dataset=dataset, batch_size=batch_size,\n",
    "                            shuffle=shuffle, drop_last=drop_last)\n",
    "\n",
    "    for data_dict in dataloader:\n",
    "        out_data_dict = {}\n",
    "        for name, tensor in data_dict.items():\n",
    "            out_data_dict[name] = data_dict[name].to(device)\n",
    "        yield out_data_dict"
   ]
  },
  {
   "cell_type": "markdown",
   "metadata": {},
   "source": [
    "## The Model: NewsClassifier"
   ]
  },
  {
   "cell_type": "code",
   "execution_count": 7,
   "metadata": {},
   "outputs": [],
   "source": [
    "class NewsClassifier(nn.Module):\n",
    "    def __init__(self, embedding_size, num_embeddings, num_channels, \n",
    "                 hidden_dim, num_classes, dropout_p, \n",
    "                 pretrained_embeddings=None, padding_idx=0):\n",
    "        \"\"\"\n",
    "        Args:\n",
    "            embedding_size (int): size of the embedding vectors\n",
    "            num_embeddings (int): number of embedding vectors\n",
    "            filter_width (int): width of the convolutional kernels\n",
    "            num_channels (int): number of convolutional kernels per layer\n",
    "            hidden_dim (int): the size of the hidden dimension\n",
    "            num_classes (int): the number of classes in classification\n",
    "            dropout_p (float): a dropout parameter \n",
    "            pretrained_embeddings (numpy.array): previously trained word embeddings\n",
    "                default is None. If provided, \n",
    "            padding_idx (int): an index representing a null position\n",
    "        \"\"\"\n",
    "        super(NewsClassifier, self).__init__()\n",
    "\n",
    "        if pretrained_embeddings is None:\n",
    "            self.emb = nn.Embedding(embedding_dim=embedding_size,   # 100\n",
    "                                    num_embeddings=num_embeddings,  # 3409\n",
    "                                    padding_idx=padding_idx)        \n",
    "        else:\n",
    "            pretrained_embeddings = torch.from_numpy(pretrained_embeddings).float()\n",
    "            self.emb = nn.Embedding.from_pretrained(pretrained_embeddings) # when freeze=True (default), \n",
    "                                                                           # the tensor does not get updated in the learning process.\n",
    "               \n",
    "        # in_channels: embedding_size; out_channels: # of filters; kernel_size = n-gram size\n",
    "        # number of parameters: (# of filters, embedding_size, n-gram size), (100, 100, 2) for 2-gram\n",
    "        self.conv1d_4gram = nn.Conv1d(in_channels=embedding_size, out_channels=num_channels, kernel_size=4)       \n",
    "        self.conv1d_3gram = nn.Conv1d(in_channels=embedding_size, out_channels=num_channels, kernel_size=3)                          \n",
    "        self.conv1d_2gram = nn.Conv1d(in_channels=embedding_size, out_channels=num_channels, kernel_size=2)                   \n",
    "\n",
    "        self._dropout_p = dropout_p\n",
    "        self.fc1 = nn.Linear(num_channels*3, hidden_dim) # input:concatination of conv1d_4gram, conv1d_3gram, conv1d_2gram outputs \n",
    "        self.fc2 = nn.Linear(hidden_dim, num_classes)\n",
    "\n",
    "    def forward(self, x_in, apply_softmax=False):\n",
    "        \"\"\"The forward pass of the classifier\n",
    "        \n",
    "        Args:\n",
    "            x_in (torch.Tensor): an input data tensor. \n",
    "                x_in.shape should be (batch, dataset._max_seq_length)\n",
    "            apply_softmax (bool): a flag for the softmax activation\n",
    "                should be false if used with the Cross Entropy losses\n",
    "        Returns:\n",
    "            the resulting tensor. tensor.shape should be (batch, num_classes)\n",
    "        \"\"\"\n",
    "        \n",
    "        # embed and permute so features are channels\n",
    "        x_embedded = self.emb(x_in).permute(0, 2, 1)    # (batch, seq_len) -> (batch, seq_len, features)\n",
    "                                                        # rearange (batch, seq_len, features) to (batch, features, seq_len) \n",
    "                                                        # E.g.,    (128,   29,      100)      to (128,   100,      29)\n",
    "\n",
    "        features = F.elu(self.conv1d_4gram(x_embedded)) # features: (batch, num_channels, ?); e.g., (128, 100, ?)\n",
    "                                                        # activation function similar to leaky RELU(); can use F.relu() instead\n",
    "        # max/average and remove the extra dimension\n",
    "        remaining_size = features.size(dim=2)          # remaining_size: ? in (batch, num_channels, ?)\n",
    "        features_4gram = F.max_pool1d(features, remaining_size).squeeze(dim=2) # features_4gram: (batch, num_channels);kernel_size=remaining_size   \n",
    "        #features_4gram = F.avg_pool1d(features, remaining_size).squeeze(dim=2)   \n",
    "        \n",
    "        features = F.elu(self.conv1d_3gram(x_embedded)) # features: (batch, num_channels, ?); e.g., (128, 100, ?)\n",
    "        remaining_size = features.size(dim=2)          # remaining_size: ? in (batch, num_channels, ?)\n",
    "        features_3gram = F.max_pool1d(features, remaining_size).squeeze(dim=2)    # features_3gram: (batch, num_channels)\n",
    "\n",
    "        features = F.elu(self.conv1d_2gram(x_embedded)) # features: (batch, num_channels, ?); e.g., (128, 100, ?)\n",
    "        remaining_size = features.size(dim=2)          # remaining_size: ? in (batch, num_channels, ?)\n",
    "        features_2gram = F.max_pool1d(features, remaining_size).squeeze(dim=2)    # features_2gram: (batch, num_channels) \n",
    " \n",
    "        features = torch.cat([features_4gram, features_3gram, features_2gram], dim=1)\n",
    "            \n",
    "        features = F.dropout(features, p=self._dropout_p, training=self.training)\n",
    "        \n",
    "        # mlp classifier\n",
    "        intermediate_vector = F.dropout(F.relu(self.fc1(features)), p=self._dropout_p, training=self.training)\n",
    "        prediction_vector = self.fc2(intermediate_vector)  # (batch, num_classes)\n",
    "\n",
    "        if apply_softmax:\n",
    "            prediction_vector = F.softmax(prediction_vector, dim=1)\n",
    "\n",
    "        return prediction_vector"
   ]
  },
  {
   "cell_type": "markdown",
   "metadata": {},
   "source": [
    "## Training Routine"
   ]
  },
  {
   "cell_type": "markdown",
   "metadata": {},
   "source": [
    "### Helper functions"
   ]
  },
  {
   "cell_type": "code",
   "execution_count": 8,
   "metadata": {},
   "outputs": [],
   "source": [
    "def make_train_state(args):\n",
    "    return {'stop_early': False,\n",
    "            'early_stopping_step': 0,\n",
    "            'early_stopping_best_val': 1e8,\n",
    "            'learning_rate': args.learning_rate,\n",
    "            'epoch_index': 0,\n",
    "            'train_loss': [],\n",
    "            'train_acc': [],\n",
    "            'val_loss': [],\n",
    "            'val_acc': [],\n",
    "            'test_loss': -1,\n",
    "            'test_acc': -1,\n",
    "            'model_filename': args.model_state_file}\n",
    "\n",
    "def update_train_state(args, model, train_state):\n",
    "    \"\"\"Handle the training state updates.\n",
    "\n",
    "    Components:\n",
    "     - Early Stopping: Prevent overfitting.\n",
    "     - Model Checkpoint: Model is saved if the model is better\n",
    "\n",
    "    :param args: main arguments\n",
    "    :param model: model to train\n",
    "    :param train_state: a dictionary representing the training state values\n",
    "    :returns:\n",
    "        a new train_state\n",
    "    \"\"\"\n",
    "\n",
    "    # Save one model at least\n",
    "    if train_state['epoch_index'] == 0:\n",
    "        torch.save(model.state_dict(), train_state['model_filename'])\n",
    "        train_state['stop_early'] = False\n",
    "\n",
    "    # Save model if performance improved\n",
    "    elif train_state['epoch_index'] >= 1:\n",
    "        loss_tm1, loss_t = train_state['val_loss'][-2:]\n",
    "\n",
    "        # If loss worsened\n",
    "        if loss_t >= train_state['early_stopping_best_val']:\n",
    "            # Update step\n",
    "            train_state['early_stopping_step'] += 1\n",
    "        # Loss decreased\n",
    "        else:\n",
    "            # Save the best model\n",
    "            if loss_t < train_state['early_stopping_best_val']:\n",
    "                torch.save(model.state_dict(), train_state['model_filename'])\n",
    "                train_state['early_stopping_best_val'] = loss_t  # update 'early_stopping_best_val'\n",
    "\n",
    "            # Reset early stopping step\n",
    "            train_state['early_stopping_step'] = 0\n",
    "\n",
    "        # Stop early ?\n",
    "        train_state['stop_early'] = \\\n",
    "            train_state['early_stopping_step'] >= args.early_stopping_criteria\n",
    "\n",
    "    return train_state\n",
    "\n",
    "def compute_accuracy(y_pred, y_target):\n",
    "    _, y_pred_indices = y_pred.max(dim=1)\n",
    "    n_correct = torch.eq(y_pred_indices, y_target).sum().item()\n",
    "    return n_correct / len(y_pred_indices) * 100"
   ]
  },
  {
   "cell_type": "markdown",
   "metadata": {},
   "source": [
    "#### general utilities"
   ]
  },
  {
   "cell_type": "code",
   "execution_count": 9,
   "metadata": {},
   "outputs": [],
   "source": [
    "def set_seed_everywhere(seed, cuda):\n",
    "    np.random.seed(seed)\n",
    "    torch.manual_seed(seed)\n",
    "    if cuda:\n",
    "        torch.cuda.manual_seed_all(seed)\n",
    "\n",
    "def handle_dirs(dirpath):\n",
    "    if not os.path.exists(dirpath):\n",
    "        os.makedirs(dirpath)\n",
    "        \n",
    "def load_glove_from_file(glove_filepath):\n",
    "    \"\"\"\n",
    "    Load the GloVe embeddings \n",
    "    \n",
    "    Args:\n",
    "        glove_filepath (str): path to the glove embeddings file \n",
    "    Returns:\n",
    "        word_to_index (dict), embeddings (numpy.ndarary)\n",
    "    \"\"\"\n",
    "\n",
    "    word_to_index = {}\n",
    "    embeddings = []\n",
    "    with open(glove_filepath, \"r\", encoding='utf8') as fp:\n",
    "        for index, line in enumerate(fp):\n",
    "            line = line.split(\" \") # each line: word num1 num2 ...\n",
    "            word_to_index[line[0]] = index # word = line[0] \n",
    "            embedding_i = np.array([float(val) for val in line[1:]])\n",
    "            embeddings.append(embedding_i)\n",
    "    return word_to_index, np.stack(embeddings)\n",
    "\n",
    "def make_embedding_matrix(glove_filepath, words):\n",
    "    \"\"\"\n",
    "    Create embedding matrix for a specific set of words.\n",
    "    \n",
    "    Args:\n",
    "        glove_filepath (str): file path to the glove embeddigns\n",
    "        words (list): list of words in the dataset\n",
    "    \"\"\"\n",
    "    word_to_idx, glove_embeddings = load_glove_from_file(glove_filepath)\n",
    "    embedding_size = glove_embeddings.shape[1]\n",
    "    \n",
    "    final_embeddings = np.zeros((len(words), embedding_size))\n",
    "\n",
    "    for i, word in enumerate(words):\n",
    "        if word in word_to_idx:\n",
    "            final_embeddings[i, :] = glove_embeddings[word_to_idx[word]]\n",
    "        else:\n",
    "            embedding_i = torch.ones(1, embedding_size)\n",
    "            torch.nn.init.xavier_uniform_(embedding_i)\n",
    "            final_embeddings[i, :] = embedding_i\n",
    "\n",
    "    return final_embeddings"
   ]
  },
  {
   "cell_type": "markdown",
   "metadata": {},
   "source": [
    "### Settings and some prep work"
   ]
  },
  {
   "cell_type": "code",
   "execution_count": 10,
   "metadata": {},
   "outputs": [],
   "source": [
    "from argparse import Namespace"
   ]
  },
  {
   "cell_type": "code",
   "execution_count": 11,
   "metadata": {},
   "outputs": [
    {
     "name": "stdout",
     "output_type": "stream",
     "text": [
      "Expanded filepaths: \n",
      "\t../model_storage/News_Category\\model_cnn_News_Category.pth\n",
      "Using CUDA: True\n",
      "Using MPS: False\n"
     ]
    }
   ],
   "source": [
    "args = Namespace(\n",
    "    # Data and Path hyper parameters\n",
    "    news_csv=\"../data/processed/News_Category_Dataset_with_splits.csv\",\n",
    "    model_state_file=\"model_cnn_News_Category.pth\",\n",
    "    save_dir=\"../model_storage/News_Category\",\n",
    "    # Model hyper parameters\n",
    "    glove_filepath='../data/glove/glove.6B.100d.txt', \n",
    "    use_glove=True,\n",
    "    embedding_size=100, \n",
    "    hidden_dim=100, \n",
    "    num_channels=100, \n",
    "    # Training hyper parameter\n",
    "    seed=1337, \n",
    "    learning_rate=0.001, \n",
    "    dropout_p=0.1, \n",
    "    batch_size=64, \n",
    "    num_epochs=100, \n",
    "    early_stopping_criteria=5, \n",
    "    # Runtime option\n",
    "    cuda=True,\n",
    "    mps=True, \n",
    "    catch_keyboard_interrupt=True, \n",
    "    reload_from_files=False,\n",
    "    expand_filepaths_to_save_dir=True\n",
    ") \n",
    "\n",
    "if args.expand_filepaths_to_save_dir:\n",
    "    args.model_state_file = os.path.join(args.save_dir,\n",
    "                                         args.model_state_file)    \n",
    "    print(\"Expanded filepaths: \")\n",
    "    print(\"\\t{}\".format(args.model_state_file))\n",
    "    \n",
    "# Check CUDA for Nvidia\n",
    "if not torch.cuda.is_available():\n",
    "    args.cuda = False\n",
    "\n",
    "# Check MPS for Mac\n",
    "try:\n",
    "    if not torch.backends.mps.is_available() and torch.backends.mps.is_built():\n",
    "        args.mps = False\n",
    "except:\n",
    "    args.mps = False\n",
    "\n",
    "args.device = torch.device(\"cuda\" if args.cuda else \"mps\" if args.mps else \"cpu\")\n",
    "print(\"Using CUDA: {}\".format(args.cuda))\n",
    "print(\"Using MPS: {}\".format(args.mps))\n",
    "\n",
    "# Set seed for reproducibility\n",
    "set_seed_everywhere(args.seed, args.cuda)\n",
    "\n",
    "# handle dirs\n",
    "handle_dirs(args.save_dir)"
   ]
  },
  {
   "cell_type": "markdown",
   "metadata": {},
   "source": [
    "### Initializations"
   ]
  },
  {
   "cell_type": "code",
   "execution_count": 12,
   "metadata": {},
   "outputs": [],
   "source": [
    "args.use_glove = True"
   ]
  },
  {
   "cell_type": "code",
   "execution_count": 13,
   "metadata": {},
   "outputs": [
    {
     "name": "stdout",
     "output_type": "stream",
     "text": [
      "Using pre-trained embeddings\n"
     ]
    }
   ],
   "source": [
    "# create dataset and vectorizer\n",
    "dataset = NewsDataset.load_dataset_and_make_vectorizer(args.news_csv)\n",
    "vectorizer = dataset.get_vectorizer()\n",
    "\n",
    "# Use GloVe or randomly initialized embeddings\n",
    "if args.use_glove:\n",
    "    words = vectorizer.news_vocab._token_to_idx.keys()  # 3409 unique words\n",
    "    embeddings = make_embedding_matrix(glove_filepath=args.glove_filepath,     # embeddings: (3409, 100)\n",
    "                                       words=words)\n",
    "    print(\"Using pre-trained embeddings\")\n",
    "else:\n",
    "    print(\"Not using pre-trained embeddings\")\n",
    "    embeddings = None\n",
    "\n",
    "classifier = NewsClassifier(embedding_size=args.embedding_size,          # e.g, 100\n",
    "                            num_embeddings=len(vectorizer.news_vocab),  # e.g., 3409\n",
    "                            num_channels=args.num_channels,              # e.g., 100\n",
    "                            hidden_dim=args.hidden_dim,                  # e.g., 100\n",
    "                            num_classes=len(vectorizer.category_vocab),  # e.g., 4\n",
    "                            dropout_p=args.dropout_p,                    # e.g., 0.1\n",
    "                            pretrained_embeddings=embeddings,\n",
    "                            padding_idx=0)"
   ]
  },
  {
   "cell_type": "code",
   "execution_count": 14,
   "metadata": {},
   "outputs": [
    {
     "name": "stdout",
     "output_type": "stream",
     "text": [
      "{'<MASK>': 0, '<UNK>': 1, '<BEGIN>': 2, '<END>': 3, 'military': 4, 'profit': 5, 'defense': 6, 'firm': 7, 'chicago': 8, 'reuters': 9, 'demand': 10, 'equipment': 11, 'technology': 12, 'led': 13, 'four': 14, 'u': 15, 'company': 16, 'post': 17, 'higher': 18, 'quarterly': 19, 'wednesday': 20, 'jet': 21, 'maker': 22, 'boeing': 23, 'co': 24, 'lt': 25, 'href': 26, 'http': 27, 'www': 28, 'investor': 29, 'com': 30, 'fullquote': 31, 'aspx': 32, 'ticker': 33, 'n': 34, 'target': 35, 'stock': 36, 'quickinfo': 37, 'gt': 38, 'percent': 39, 'jump': 40, 'earnings': 41, 'despite': 42, 'decline': 43, 'commercial': 44, 'revenue': 45, 'fall': 46, 'warns': 47, 'sale': 48, 'largest': 49, 'tuesday': 50, 'reported': 51, 'drop': 52, 'even': 53, 'though': 54, 'southern': 55, 'california': 56, 'hit': 57, 'strike': 58, 'chief': 59, 'executive': 60, 'longer': 61, 'treasury': 62, 'new': 63, 'york': 64, 'monday': 65, 'debt': 66, 'would': 67, 'short': 68, 'end': 69, 'environment': 70, 'rising': 71, 'official': 72, 'interest': 73, 'rate': 74, 'others': 75, 'late': 76, 'yesterday': 77, 'said': 78, 'security': 79, 'total': 80, 'million': 81, 'information': 82, 'broker': 83, 'time': 84, 'kmart': 85, 'name': 86, 'ceo': 87, 'expert': 88, 'president': 89, 'officer': 90, 'nation': 91, 'third': 92, 'discount': 93, 'retailer': 94, 'soon': 95, 'start': 96, 'linux': 97, 'paris': 98, 'shift': 99, 'open': 100, 'source': 101, 'camp': 102, 'computer': 103, 'system': 104, 'known': 105, 'tough': 106, 'battle': 107, 'microsoft': 108, 'earlier': 109, 'year': 110, 'city': 111, 'decided': 112, 'change': 113, 'operating': 114, 'software': 115, 'government': 116, 'personal': 117, 'steve': 118, 'ballmer': 119, 'wait': 120, 'google': 121, 'set': 122, 'market': 123, 'debut': 124, 'share': 125, 'inc': 126, 'make': 127, 'nasdaq': 128, 'thursday': 129, 'initial': 130, 'public': 131, 'offering': 132, 'far': 133, 'estimate': 134, 'raising': 135, 'billion': 136, 'acquire': 137, 'plan': 138, 'three': 139, 'acquisition': 140, 'ltd': 141, 'provider': 142, 'voice': 143, 'based': 144, 'program': 145, 'cash': 146, 'performance': 147, 'potential': 148, 'buy': 149, 'common': 150, 'art': 151, 'advanced': 152, 'peoplesoft': 153, 'urged': 154, 'oracle': 155, 'corp': 156, 'letter': 157, 'withdraw': 158, 'hostile': 159, 'takeover': 160, 'bid': 161, 'le': 162, 'half': 163, 'offer': 164, 'deadline': 165, 'private': 166, 'capital': 167, 'management': 168, 'agreed': 169, 'real': 170, 'investment': 171, 'property': 172, 'free': 173, 'career': 174, 'test': 175, 'considering': 176, 'take': 177, 'find': 178, 'college': 179, 'future': 180, 'today': 181, 'keep': 182, 'turned': 183, 'wider': 184, 'q': 185, 'loss': 186, 'still': 187, 'track': 188, 'settle': 189, 'regulator': 190, 'tv': 191, 'pay': 192, 'payment': 193, 'ever': 194, 'accounting': 195, 'exchange': 196, 'commission': 197, 'action': 198, 'charge': 199, 'international': 200, 'sec': 201, 'cell': 202, 'phone': 203, 'cost': 204, 'due': 205, 'rule': 206, 'let': 207, 'number': 208, 'carrier': 209, 'giving': 210, 'without': 211, 'shot': 212, 'model': 213, 'flying': 214, 'twin': 215, 'engine': 216, 'scheduled': 217, 'enter': 218, 'service': 219, 'fourth': 220, 'quarter': 221, 'gm': 222, 'go': 223, 'green': 224, 'oil': 225, 'price': 226, 'recent': 227, 'week': 228, 'record': 229, 'high': 230, 'consumer': 231, 'opec': 232, 'recently': 233, 'ready': 234, 'black': 235, 'holding': 236, 'operation': 237, 'eight': 238, 'country': 239, 'annual': 240, 'steel': 241, 'production': 242, 'capacity': 243, 'bought': 244, 'asset': 245, 'japanese': 246, 'bank': 247, 'merger': 248, 'talk': 249, 'cut': 250, 'two': 251, 'major': 252, 'worker': 253, 'friday': 254, 'sharply': 255, 'outlook': 256, 'current': 257, 'fiscal': 258, 'struggle': 259, 'ease': 260, 'pc': 261, 'hot': 262, 'shipment': 263, 'second': 264, 'grew': 265, 'faster': 266, 'month': 267, 'period': 268, 'since': 269, 'citing': 270, 'continued': 271, 'replacement': 272, 'driving': 273, 'force': 274, 'behind': 275, 'surge': 276, 'health': 277, 'insurer': 278, 'industry': 279, 'group': 280, 'insurance': 281, 'spend': 282, 'smaller': 283, 'allow': 284, 'medical': 285, 'spending': 286, 'congress': 287, 'mutual': 288, 'fund': 289, 'study': 290, 'asked': 291, 'saturday': 292, 'send': 293, 'lawmaker': 294, 'report': 295, 'board': 296, 'independent': 297, 'chairman': 298, 'arm': 299, 'agrees': 300, 'london': 301, 'august': 302, 'rating': 303, 'circuit': 304, 'santander': 305, 'abbey': 306, 'tell': 307, 'national': 308, 'union': 309, 'job': 310, 'spanish': 311, 'successful': 312, 'jury': 313, 'sept': 314, 'attack': 315, 'separate': 316, 'act': 317, 'finding': 318, 'plane': 319, 'world': 320, 'trade': 321, 'center': 322, 'extra': 323, 'quot': 324, 'complete': 325, 'say': 326, 'leading': 327, 'used': 328, 'fuel': 329, 'vehicle': 330, 'joining': 331, 'motor': 332, 'result': 333, 'miss': 334, 'expects': 335, 'expectation': 336, 'per': 337, 'gain': 338, 'cent': 339, 'related': 340, 'certain': 341, 'tax': 342, 'matter': 343, 'holiday': 344, 'gift': 345, 'card': 346, 'get': 347, 'department': 348, 'store': 349, 'using': 350, 'shopper': 351, 'feel': 352, 'good': 353, 'agency': 354, 'sue': 355, 'saudi': 356, 'owner': 357, 'site': 358, 'announces': 359, 'day': 360, 'dollar': 361, 'may': 362, 'euro': 363, 'ahead': 364, 'greenspan': 365, 'rise': 366, 'asia': 367, 'first': 368, 'speculation': 369, 'federal': 370, 'reserve': 371, 'alan': 372, 'express': 373, 'economy': 374, 'british': 375, 'fee': 376, 'investigation': 377, 'practice': 378, 'attorney': 379, 'general': 380, 'spitzer': 381, 'wide': 382, 'failed': 383, 'attempt': 384, 'one': 385, 'sold': 386, 'street': 387, 'boston': 388, 'office': 389, 'work': 390, 'story': 391, 'building': 392, 'brown': 393, 'duty': 394, 'increase': 395, 'planned': 396, 'part': 397, 'political': 398, 'package': 399, 'measure': 400, 'designed': 401, 'win': 402, 'back': 403, 'labour': 404, 'lost': 405, 'supporter': 406, 'middle': 407, 'britain': 408, 'stewart': 409, 'sentence': 410, 'prison': 411, 'possible': 412, 'saying': 413, 'want': 414, 'put': 415, 'life': 416, 'bn': 417, 'fear': 418, 'grow': 419, 'hand': 420, 'shareholder': 421, 'thanks': 422, 'dividend': 423, 'sell': 424, 'chain': 425, 'rival': 426, 'pound': 427, 'toy': 428, 'safety': 429, 'released': 430, 'buying': 431, 'child': 432, 'could': 433, 'warning': 434, 'see': 435, 'crude': 436, 'analyst': 437, 'barrel': 438, 'expected': 439, 'decade': 440, 'come': 441, 'ex': 442, 'cabinet': 443, 'minister': 444, 'caught': 445, 'corruption': 446, 'scandal': 447, 'last': 448, 'pressure': 449, 'amp': 450, 'accused': 451, 'policy': 452, 'america': 453, 'changed': 454, 'strong': 455, 'china': 456, 'currency': 457, 'comment': 458, 'beijing': 459, 'dropped': 460, 'low': 461, 'tokyo': 462, 'fell': 463, 'level': 464, 'nearly': 465, 'five': 466, 'yen': 467, 'sa': 468, 'amid': 469, 'issue': 470, 'later': 471, 'begin': 472, 'probe': 473, 'issued': 474, 'business': 475, 'state': 476, 'richard': 477, 'ibm': 478, 'electronics': 479, 'joint': 480, 'venture': 481, 'machine': 482, 'alliance': 483, 'helped': 484, 'expand': 485, 'south': 486, 'korean': 487, 'mortgage': 488, 'around': 489, 'rose': 490, 'continue': 491, 'provide': 492, 'support': 493, 'housing': 494, 'merck': 495, 'vioxx': 496, 'drug': 497, 'justice': 498, 'prosecutor': 499, 'pharmaceutical': 500, 'giant': 501, 'defends': 502, 'fired': 503, 'fla': 504, 'michael': 505, 'fighting': 506, 'disney': 507, 'bos': 508, 'hiring': 509, 'former': 510, 'hollywood': 511, 'update': 512, 'air': 513, 'seek': 514, 'court': 515, 'wage': 516, 'benefit': 517, 'airway': 518, 'quote': 519, 'profile': 520, 'research': 521, 'employee': 522, 'save': 523, 'c': 524, 'net': 525, 'b': 526, 'toronto': 527, 'cp': 528, 'canadian': 529, 'away': 530, 'almost': 531, 'ago': 532, 'uk': 533, 'boost': 534, 'online': 535, 'sport': 536, 'content': 537, 'big': 538, 'event': 539, 'like': 540, 'airline': 541, 'including': 542, 'special': 543, 'retirement': 544, 'aircraft': 545, 'condition': 546, 'improve': 547, 'unemployment': 548, 'july': 549, 'began': 550, 'budget': 551, 'deficit': 552, 'afp': 553, 'united': 554, 'europe': 555, 'japan': 556, 'step': 557, 'economic': 558, 'growth': 559, 'director': 560, 'revealed': 561, 'halliburton': 562, 'army': 563, 'troop': 564, 'iraq': 565, 'washington': 566, 'charged': 567, 'concern': 568, 'russian': 569, 'petroleum': 570, 'yukos': 571, 'limited': 572, 'supply': 573, 'station': 574, 'material': 575, 'filed': 576, 'russia': 577, 'protection': 578, 'bankruptcy': 579, 'houston': 580, 'halt': 581, 'driven': 582, 'biggest': 583, 'producer': 584, 'slightly': 585, 'order': 586, 'long': 587, 'september': 588, 'held': 589, 'another': 590, 'sharp': 591, 'data': 592, 'showed': 593, 'french': 594, 'medium': 595, 'six': 596, 'larger': 597, 'finance': 598, 'january': 599, 'already': 600, 'device': 601, 'season': 602, 'think': 603, 'setback': 604, 'problem': 605, 'heart': 606, 'patient': 607, 'anti': 608, 'suffered': 609, 'found': 610, 'civil': 611, 'community': 612, 'development': 613, 'council': 614, 'stop': 615, 'african': 616, 'tour': 617, 'grand': 618, 'cbs': 619, 'mw': 620, 'looking': 621, 'non': 622, 'subsidiary': 623, 'option': 624, 'cable': 625, 'stake': 626, 'warner': 627, 'unit': 628, 'hold': 629, 'television': 630, 'move': 631, 'ap': 632, 'care': 633, 'hope': 634, 'st': 635, 'inch': 636, 'screen': 637, 'sector': 638, 'senator': 639, 'delay': 640, 'corporate': 641, 'bill': 642, 'senate': 643, 'sunday': 644, 'break': 645, 'final': 646, 'vote': 647, 'fight': 648, 'aimed': 649, 'helping': 650, 'income': 651, 'wall': 652, 'line': 653, 'continues': 654, 'image': 655, 'left': 656, 'pentagon': 657, 'choice': 658, 'weapon': 659, 'christmas': 660, 'financial': 661, 'car': 662, 'watch': 663, 'much': 664, 'nortel': 665, 'canada': 666, 'white': 667, 'crime': 668, 'many': 669, 'dozen': 670, 'criminal': 671, 'network': 672, 'familiar': 673, 'germany': 674, 'oct': 675, 'operator': 676, 'deutsche': 677, 'help': 678, 'curb': 679, 'manufacturing': 680, 'construction': 681, 'latest': 682, 'round': 683, 'mixed': 684, 'activity': 685, 'increased': 686, 'th': 687, 'consecutive': 688, 'surged': 689, 'travel': 690, 'quickly': 691, 'northwest': 692, 'decision': 693, 'domestic': 694, 'ticket': 695, 'global': 696, 'file': 697, 'struggling': 698, 'australian': 699, 'telephone': 700, 'los': 701, 'angeles': 702, 'plc': 703, 'el': 704, 'calif': 705, 'tech': 706, 'rally': 707, 'handed': 708, 'positive': 709, 'news': 710, 'bell': 711, 'pulled': 712, 'become': 713, 'aug': 714, 'form': 715, 'age': 716, 'amd': 717, 'cause': 718, 'approval': 719, 'panel': 720, 'food': 721, 'administration': 722, 'ford': 723, 'raised': 724, 'forecast': 725, 'announced': 726, 'restructuring': 727, 'division': 728, 'claim': 729, 'ended': 730, 'hurt': 731, 'settlement': 732, 'england': 733, 'france': 734, 'facility': 735, 'traditional': 736, 'film': 737, 'digital': 738, 'suicide': 739, 'suit': 740, 'l': 741, 'release': 742, 'lawsuit': 743, 'fix': 744, 'auction': 745, 'putting': 746, 'together': 747, 'emergency': 748, 'running': 749, 'prize': 750, 'december': 751, 'telecommunication': 752, 'try': 753, 'trading': 754, 'charles': 755, 'need': 756, 'pension': 757, 'struck': 758, 'damage': 759, 'brought': 760, 'launch': 761, 'msft': 762, 'unveiled': 763, 'version': 764, 'window': 765, 'xp': 766, 'adding': 767, 'feature': 768, 'instant': 769, 'messaging': 770, 'living': 771, 'room': 772, 'deal': 773, 'eu': 774, 'goal': 775, 'remains': 776, 'agreement': 777, 'side': 778, 'senior': 779, 'robert': 780, 'worry': 781, 'went': 782, 'saw': 783, 'chinese': 784, 'appeared': 785, 'toward': 786, 'ok': 787, 'passed': 788, 'closing': 789, 'bringing': 790, 'beat': 791, 'past': 792, 'filing': 793, 'right': 794, 'supreme': 795, 'case': 796, 'use': 797, 'term': 798, 'customer': 799, 'might': 800, 'hotel': 801, 'internet': 802, 'lower': 803, 'index': 804, 'pfizer': 805, 'head': 806, 'staff': 807, 'briefly': 808, 'key': 809, 'top': 810, 'contract': 811, 'lead': 812, 'foot': 813, 'output': 814, 'limit': 815, 'police': 816, 'royal': 817, 'fraud': 818, 'allegation': 819, 'founder': 820, 'edition': 821, 'eastern': 822, 'review': 823, 'hong': 824, 'kong': 825, 'magazine': 826, 'publisher': 827, 'dow': 828, 'jones': 829, 'confidence': 830, 'slip': 831, 'declined': 832, 'delta': 833, 'avoid': 834, 'gateway': 835, 'range': 836, 'focus': 837, 'flood': 838, 'race': 839, 'house': 840, 'newly': 841, 'kept': 842, 'web': 843, 'search': 844, 'selling': 845, 'face': 846, 'gary': 847, 'hundred': 848, 'headed': 849, 'export': 850, 'value': 851, 'australia': 852, 'energy': 853, 'drive': 854, 'fast': 855, 'responsible': 856, 'pacific': 857, 'dutch': 858, 'history': 859, 'tight': 860, 'hike': 861, 'intel': 862, 'product': 863, 'san': 864, 'francisco': 865, 'series': 866, 'video': 867, 'display': 868, 'chip': 869, 'previously': 870, 'introduce': 871, 'showdown': 872, 'texas': 873, 'growing': 874, 'likely': 875, 'spain': 876, 'according': 877, 'published': 878, 'parent': 879, 'cingular': 880, 'deliver': 881, 'g': 882, 'wireless': 883, 'speed': 884, 'mobile': 885, 'bar': 886, 'effort': 887, 'standard': 888, 'give': 889, 'candidate': 890, 'debate': 891, 'hollinger': 892, 'sun': 893, 'trail': 894, 'troubled': 895, 'telecom': 896, 'warned': 897, 'full': 898, 'rather': 899, 'peer': 900, 'gold': 901, 'field': 902, 'rejected': 903, 'mining': 904, 'create': 905, 'lawyer': 906, 'guy': 907, 'risk': 908, 'stroke': 909, 'thousand': 910, 'north': 911, 'sea': 912, 'raise': 913, 'saving': 914, 'double': 915, 'large': 916, 'trial': 917, 'arthritis': 918, 'following': 919, 'withdrawal': 920, 'class': 921, 'must': 922, 'reached': 923, 'dallas': 924, 'newspaper': 925, 'morning': 926, 'lift': 927, 'slide': 928, 'winter': 929, 'trader': 930, 'money': 931, 'return': 932, 'near': 933, 'mark': 934, 'november': 935, 'renewed': 936, 'heating': 937, 'corporation': 938, 'john': 939, 'voting': 940, 'best': 941, 'worst': 942, 'check': 943, 'fire': 944, 'outside': 945, 'way': 946, 'replace': 947, 'mid': 948, 'seeking': 949, 'buyer': 950, 'poised': 951, 'africa': 952, 'announce': 953, 'sydney': 954, 'foreign': 955, 'early': 956, 'coca': 957, 'cola': 958, 'european': 959, 'competition': 960, 'core': 961, 'retail': 962, 'banking': 963, 'caused': 964, 'central': 965, 'american': 966, 'press': 967, 'edge': 968, 'closer': 969, 'reach': 970, 'david': 971, 'seen': 972, 'slow': 973, 'coming': 974, 'improved': 975, 'survey': 976, 'stay': 977, 'remained': 978, 'natural': 979, 'gas': 980, 'turkey': 981, 'urge': 982, 'cutting': 983, 'also': 984, 'address': 985, 'labor': 986, 'told': 987, 'judge': 988, 'next': 989, 'de': 990, 'closed': 991, 'march': 992, 'creating': 993, 'premier': 994, 'brewer': 995, 'peru': 996, 'project': 997, 'road': 998, 'access': 999, 'mine': 1000, 'cisco': 1001, 'whether': 1002, 'space': 1003, 'ac': 1004, 'manager': 1005, 'started': 1006, 'note': 1007, 'credit': 1008, 'laden': 1009, 'tivo': 1010, 'sign': 1011, 'dvd': 1012, 'rental': 1013, 'movie': 1014, 'meet': 1015, 'visit': 1016, 'bangladesh': 1017, 'discus': 1018, 'power': 1019, 'plant': 1020, 'mart': 1021, 'opened': 1022, 'breaking': 1023, 'made': 1024, 'twice': 1025, 'ipo': 1026, 'leader': 1027, 'posted': 1028, 'sending': 1029, 'commerce': 1030, 'ending': 1031, 'border': 1032, 'wal': 1033, 'october': 1034, 'sent': 1035, 'auto': 1036, 'people': 1037, 'thing': 1038, 'roundup': 1039, 'e': 1040, 'mountain': 1041, 'view': 1042, 'close': 1043, 'river': 1044, 'sight': 1045, 'cap': 1046, 'k': 1047, 'instead': 1048, 'user': 1049, 'show': 1050, 'waiting': 1051, 'hear': 1052, 'fastest': 1053, 'nine': 1054, 'german': 1055, 'professional': 1056, 'monthly': 1057, 'home': 1058, 'relief': 1059, 'well': 1060, 'fed': 1061, 'named': 1062, 'university': 1063, 'statement': 1064, 'disease': 1065, 'resigned': 1066, 'cancer': 1067, 'lay': 1068, 'indianapolis': 1069, 'daily': 1070, 'enron': 1071, 'scene': 1072, 'studio': 1073, 'different': 1074, 'turn': 1075, 'point': 1076, 'fifth': 1077, 'rock': 1078, 'inflation': 1079, 'seattle': 1080, 'broadcast': 1081, 'radio': 1082, 'managed': 1083, 'family': 1084, 'science': 1085, 'agent': 1086, 'never': 1087, 'account': 1088, 'victory': 1089, 'district': 1090, 'ruled': 1091, 'advertising': 1092, 'brand': 1093, 'law': 1094, 'hour': 1095, 'confirmed': 1096, 'similar': 1097, 'missing': 1098, 'hurricane': 1099, 'ivan': 1100, 'along': 1101, 'mile': 1102, 'apparently': 1103, 'aid': 1104, 'hamilton': 1105, 'making': 1106, 'ipod': 1107, 'website': 1108, 'look': 1109, 'fact': 1110, 'marketing': 1111, 'blow': 1112, 'ad': 1113, 'highest': 1114, 'electronic': 1115, 'storm': 1116, 'build': 1117, 'ongoing': 1118, 'gulf': 1119, 'import': 1120, 'pre': 1121, 'inquiry': 1122, 'belief': 1123, 'finally': 1124, 'extended': 1125, 'soft': 1126, 'patch': 1127, 'eagle': 1128, 'pilot': 1129, 'accepted': 1130, 'includes': 1131, 'weaker': 1132, 'finished': 1133, 'taking': 1134, 'guilty': 1135, 'aol': 1136, 'several': 1137, 'organization': 1138, 'tried': 1139, 'got': 1140, 'pace': 1141, 'expansion': 1142, 'thought': 1143, 'toll': 1144, 'jumped': 1145, 'bush': 1146, 'social': 1147, 'blockbuster': 1148, 'entertainment': 1149, 'popular': 1150, 'previous': 1151, 'push': 1152, 'parmalat': 1153, 'milan': 1154, 'hearing': 1155, 'italian': 1156, 'collapse': 1157, 'italy': 1158, 'rover': 1159, 'know': 1160, 'partner': 1161, 'signed': 1162, 'shanghai': 1163, 'getting': 1164, 'dog': 1165, 'summer': 1166, 'assembly': 1167, 'shortage': 1168, 'nikkei': 1169, 'average': 1170, 'afternoon': 1171, 'course': 1172, 'sixth': 1173, 'motion': 1174, 'recovery': 1175, 'run': 1176, 'ran': 1177, 'main': 1178, 'aim': 1179, 'forest': 1180, 'lab': 1181, 'industrial': 1182, 'upcoming': 1183, 'smith': 1184, 'climb': 1185, 'election': 1186, 'george': 1187, 'w': 1188, 'miner': 1189, 'local': 1190, 'authority': 1191, 'hewlett': 1192, 'packard': 1193, 'server': 1194, 'rebound': 1195, 'nobel': 1196, 'dominated': 1197, 'surprise': 1198, 'slam': 1199, 'verizon': 1200, 'cellular': 1201, 'committee': 1202, 'proposal': 1203, 'idea': 1204, 'weekend': 1205, 'within': 1206, 'mother': 1207, 'fine': 1208, 'abuse': 1209, 'enough': 1210, 'lose': 1211, 'upgrade': 1212, 'pipeline': 1213, 'ny': 1214, 'governor': 1215, 'swing': 1216, 'sanction': 1217, 'called': 1218, 'threat': 1219, 'threatening': 1220, 'ivory': 1221, 'coast': 1222, 'protest': 1223, 'paid': 1224, 'earth': 1225, 'nec': 1226, 'supercomputer': 1227, 'blue': 1228, 'probably': 1229, 'id': 1230, 'pact': 1231, 'flu': 1232, 'improving': 1233, 'climate': 1234, 'draw': 1235, 'developing': 1236, 'v': 1237, 'gap': 1238, 'mission': 1239, 'pop': 1240, 'announcing': 1241, 'among': 1242, 'dramatic': 1243, 'confirms': 1244, 'factor': 1245, 'picture': 1246, 'jobless': 1247, 'little': 1248, 'singapore': 1249, 'golf': 1250, 'red': 1251, 'worth': 1252, 'list': 1253, 'took': 1254, 'advantage': 1255, 'bring': 1256, 'strategy': 1257, 'al': 1258, 'newsfactor': 1259, 'worldwide': 1260, 'disappointing': 1261, 'call': 1262, 'great': 1263, 'calling': 1264, 'minute': 1265, 'pair': 1266, 'king': 1267, 'sears': 1268, 'huge': 1269, 'base': 1270, 'nyse': 1271, 'advance': 1272, 'individual': 1273, 'trying': 1274, 'approve': 1275, 'straight': 1276, 'northern': 1277, 'poll': 1278, 'impact': 1279, 'jr': 1280, 'via': 1281, 'shopping': 1282, 'regional': 1283, 'surface': 1284, 'ruling': 1285, 'stand': 1286, 'association': 1287, 'antitrust': 1288, 'member': 1289, 'fresh': 1290, 'session': 1291, 'county': 1292, 'jim': 1293, 'nepal': 1294, 'rebel': 1295, 'nigeria': 1296, 'approach': 1297, 'inventory': 1298, 'moved': 1299, 'usa': 1300, 'atlantic': 1301, 'west': 1302, 'region': 1303, 'doubt': 1304, 'campaign': 1305, 'available': 1306, 'rest': 1307, 'swiss': 1308, 'rich': 1309, 'gear': 1310, 'piece': 1311, 'place': 1312, 'massive': 1313, 'confident': 1314, 'built': 1315, 'powerful': 1316, 'florida': 1317, 'pick': 1318, 'offered': 1319, 'semiconductor': 1320, 'flat': 1321, 'linked': 1322, 'automaker': 1323, 'appeal': 1324, 'request': 1325, 'block': 1326, 'spokesman': 1327, 'associate': 1328, 'detail': 1329, 'announcement': 1330, 'unveils': 1331, 'amount': 1332, 'journal': 1333, 'r': 1334, 'ground': 1335, 'reject': 1336, 'proposed': 1337, 'cross': 1338, 'subscriber': 1339, 'edward': 1340, 'extend': 1341, 'park': 1342, 'overall': 1343, 'steady': 1344, 'stage': 1345, 'going': 1346, 'dispute': 1347, 'manufacturer': 1348, 'guard': 1349, 'protocol': 1350, 'serious': 1351, 'carried': 1352, 'lot': 1353, 'box': 1354, 'weather': 1355, 'la': 1356, 'developer': 1357, 'treatment': 1358, 'mass': 1359, 'commissioner': 1360, 'driver': 1361, 'received': 1362, 'broken': 1363, 'night': 1364, 'situation': 1365, 'eye': 1366, 'zealand': 1367, 'effect': 1368, 'resource': 1369, 'client': 1370, 'communication': 1371, 'consider': 1372, 'enterprise': 1373, 'always': 1374, 'bad': 1375, 'ebay': 1376, 'poor': 1377, 'kill': 1378, 'east': 1379, 'nationwide': 1380, 'planning': 1381, 'area': 1382, 'flight': 1383, 'beginning': 1384, 'dec': 1385, 'airport': 1386, 'sony': 1387, 'patent': 1388, 'storage': 1389, 'figure': 1390, 'showing': 1391, 'hill': 1392, 'soccer': 1393, 'tournament': 1394, 'critical': 1395, 'vowed': 1396, 'promise': 1397, 'reportedly': 1398, 'paper': 1399, 'loses': 1400, 'loan': 1401, 'sound': 1402, 'classic': 1403, 'everyone': 1404, 'every': 1405, 'ring': 1406, 'angel': 1407, 'argentina': 1408, 'zone': 1409, 'shock': 1410, 'seven': 1411, 'added': 1412, 'widely': 1413, 'meeting': 1414, 'across': 1415, 'wake': 1416, 'factory': 1417, 'row': 1418, 'victim': 1419, 'game': 1420, 'title': 1421, 'nfl': 1422, 'republican': 1423, 'easy': 1424, 'answer': 1425, 'town': 1426, 'kind': 1427, 'yard': 1428, 'beach': 1429, 'kid': 1430, 'church': 1431, 'tim': 1432, 'father': 1433, 'j': 1434, 'johnson': 1435, 'titan': 1436, 'carolina': 1437, 'live': 1438, 'protect': 1439, 'dangerous': 1440, 'party': 1441, 'war': 1442, 'pull': 1443, 'indian': 1444, 'boosted': 1445, 'p': 1446, 'weak': 1447, 'spot': 1448, 'interview': 1449, 'au': 1450, 'least': 1451, 'seeing': 1452, 'schedule': 1453, 'reduce': 1454, 'size': 1455, 'novell': 1456, 'person': 1457, 'returned': 1458, 'turning': 1459, 'speech': 1460, 'club': 1461, 'men': 1462, 'woman': 1463, 'legal': 1464, 'nov': 1465, 'walk': 1466, 'approved': 1467, 'opening': 1468, 'small': 1469, 'india': 1470, 'threatened': 1471, 'controversial': 1472, 'june': 1473, 'light': 1474, 'able': 1475, 'stem': 1476, 'clash': 1477, 'old': 1478, 'heavy': 1479, 'eighth': 1480, 'glazer': 1481, 'involved': 1482, 'man': 1483, 'indonesia': 1484, 'forced': 1485, 'star': 1486, 'arrest': 1487, 'expect': 1488, 'philadelphia': 1489, 'hp': 1490, 'wind': 1491, 'position': 1492, 'die': 1493, 'decide': 1494, 'ordered': 1495, 'blame': 1496, 'school': 1497, 'asian': 1498, 'stronger': 1499, 'passenger': 1500, 'brazilian': 1501, 'desert': 1502, 'difficult': 1503, 'violence': 1504, 'evidence': 1505, 'yet': 1506, 'pushed': 1507, 'larry': 1508, 'page': 1509, 'launched': 1510, 'moving': 1511, 'virgin': 1512, 'prospect': 1513, 'airbus': 1514, 'delivery': 1515, 'believe': 1516, 'book': 1517, 'delhi': 1518, 'trust': 1519, 'brussels': 1520, 'drink': 1521, 'resignation': 1522, 'working': 1523, 'crisis': 1524, 'appears': 1525, 'prime': 1526, 'plus': 1527, 'exec': 1528, 'agree': 1529, 'document': 1530, 'presidential': 1531, 'bit': 1532, 'supplier': 1533, 'remain': 1534, 'word': 1535, 'watchdog': 1536, 'water': 1537, 'hardware': 1538, 'priority': 1539, 'secret': 1540, 'spent': 1541, 'pro': 1542, 'usatoday': 1543, 'nl': 1544, 'traffic': 1545, 'overtime': 1546, 'taken': 1547, 'opponent': 1548, 'rescue': 1549, 'shell': 1550, 'palmone': 1551, 'roll': 1552, 'treo': 1553, 'introduced': 1554, 'generation': 1555, 'compete': 1556, 'amazon': 1557, 'looked': 1558, 'player': 1559, 'map': 1560, 'ability': 1561, 'finish': 1562, 'shake': 1563, 'detroit': 1564, 'bigger': 1565, 'sought': 1566, 'human': 1567, 'buffalo': 1568, 'owned': 1569, 'awaited': 1570, 'message': 1571, 'sprint': 1572, 'developed': 1573, 'processor': 1574, 'strip': 1575, 'license': 1576, 'moscow': 1577, 'sure': 1578, 'colorado': 1579, 'link': 1580, 'blood': 1581, 'read': 1582, 'launching': 1583, 'given': 1584, 'ask': 1585, 'sbc': 1586, 'direct': 1587, 'control': 1588, 'negotiation': 1589, 'howard': 1590, 'coup': 1591, 'satellite': 1592, 'nextel': 1593, 'music': 1594, 'cold': 1595, 'mean': 1596, 'vice': 1597, 'switch': 1598, 'created': 1599, 'friendly': 1600, 'conflict': 1601, 'infrastructure': 1602, 'korea': 1603, 'forward': 1604, 'fannie': 1605, 'mae': 1606, 'browser': 1607, 'tomorrow': 1608, 'tap': 1609, 'gave': 1610, 'purchase': 1611, 'fcc': 1612, 'pm': 1613, 'tool': 1614, 'repair': 1615, 'resume': 1616, 'flaw': 1617, 'handset': 1618, 'task': 1619, 'role': 1620, 'wrong': 1621, 'add': 1622, 'application': 1623, 'gun': 1624, 'chase': 1625, 'mouse': 1626, 'fit': 1627, 'body': 1628, 'nigerian': 1629, 'preliminary': 1630, 'seventh': 1631, 'pakistan': 1632, 'voip': 1633, 'f': 1634, 'date': 1635, 'ship': 1636, 'wave': 1637, 'follow': 1638, 'craig': 1639, 'land': 1640, 'became': 1641, 'historic': 1642, 'reporter': 1643, 'headquarters': 1644, 'mac': 1645, 'whose': 1646, 'partnership': 1647, 'perfect': 1648, 'process': 1649, 'transfer': 1650, 'response': 1651, 'include': 1652, 'deputy': 1653, 'secretary': 1654, 'paul': 1655, 'leaving': 1656, 'barcelona': 1657, 'sir': 1658, 'gay': 1659, 'develop': 1660, 'missile': 1661, 'greece': 1662, 'vendor': 1663, 'prepared': 1664, 'forum': 1665, 'summit': 1666, 'boy': 1667, 'girl': 1668, 'begun': 1669, 'orange': 1670, 'adobe': 1671, 'ball': 1672, 'came': 1673, 'intelligence': 1674, 'database': 1675, 'terrorist': 1676, 'mount': 1677, 'critic': 1678, 'ninth': 1679, 'play': 1680, 'mexico': 1681, 'western': 1682, 'cuba': 1683, 'signal': 1684, 'memory': 1685, 'dream': 1686, 'becoming': 1687, 'arrived': 1688, 'standing': 1689, 'minnesota': 1690, 'dna': 1691, 'nokia': 1692, 'palestinian': 1693, 'leadership': 1694, 'evening': 1695, 'starting': 1696, 'deep': 1697, 'james': 1698, 'winning': 1699, 'unlikely': 1700, 'hospital': 1701, 'copyright': 1702, 'myanmar': 1703, 'arrested': 1704, 'picked': 1705, 'better': 1706, 'believed': 1707, 'falling': 1708, 'chart': 1709, 'opportunity': 1710, 'malaysia': 1711, 'centre': 1712, 'voter': 1713, 'alleged': 1714, 'theft': 1715, 'jail': 1716, 'sharon': 1717, 'connection': 1718, 'crowd': 1719, 'century': 1720, 'pass': 1721, 'negotiator': 1722, 'accept': 1723, 'montreal': 1724, 'crucial': 1725, 'claiming': 1726, 'bond': 1727, 'strength': 1728, 'hoping': 1729, 'vega': 1730, 'conference': 1731, 'politics': 1732, 'tonight': 1733, 'recall': 1734, 'utility': 1735, 'prevent': 1736, 'crash': 1737, 'miami': 1738, 'setting': 1739, 'route': 1740, 'language': 1741, 'wrap': 1742, 'mp': 1743, 'hole': 1744, 'apple': 1745, 'resident': 1746, 'dell': 1747, 'font': 1748, 'verdana': 1749, 'm': 1750, 'sans': 1751, 'serif': 1752, 'arial': 1753, 'helvetica': 1754, 'color': 1755, 'vow': 1756, 'significant': 1757, 'winner': 1758, 'writer': 1759, 'interim': 1760, 'iraqi': 1761, 'facing': 1762, 'question': 1763, 'challenge': 1764, 'ban': 1765, 'province': 1766, 'ca': 1767, 'ireland': 1768, 'leaf': 1769, 'engineer': 1770, 'photo': 1771, 'completed': 1772, 'spread': 1773, 'testing': 1774, 'jackson': 1775, 'promised': 1776, 'injury': 1777, 'platform': 1778, 'losing': 1779, 'team': 1780, 'jeff': 1781, 'micro': 1782, 'signing': 1783, 'baseball': 1784, 'nintendo': 1785, 'handheld': 1786, 'portable': 1787, 'carlos': 1788, 'denies': 1789, 'insisted': 1790, 'bay': 1791, 'bridge': 1792, 'oakland': 1793, 'safe': 1794, 'super': 1795, 'jakarta': 1796, 'graphic': 1797, 'failure': 1798, 'hitting': 1799, 'trip': 1800, 'wanted': 1801, 'trouble': 1802, 'chemical': 1803, 'regular': 1804, 'host': 1805, 'fan': 1806, 'train': 1807, 'activist': 1808, 'holy': 1809, 'najaf': 1810, 'truck': 1811, 'bird': 1812, 'famous': 1813, 'ally': 1814, 'seems': 1815, 'join': 1816, 'pas': 1817, 'rd': 1818, 'legislation': 1819, 'student': 1820, 'onto': 1821, 'moment': 1822, 'silver': 1823, 'ministry': 1824, 'really': 1825, 'young': 1826, 'progress': 1827, 'quite': 1828, 'needed': 1829, 'reform': 1830, 'appointed': 1831, 'met': 1832, 'jerusalem': 1833, 'tie': 1834, 'threw': 1835, 'count': 1836, 'taiwan': 1837, 'although': 1838, 'yahoo': 1839, 'opposition': 1840, 'venezuela': 1841, 'democratic': 1842, 'coalition': 1843, 'backed': 1844, 'remaining': 1845, 'ten': 1846, 'prove': 1847, 'brazil': 1848, 'ohio': 1849, 'striker': 1850, 'streak': 1851, 'israeli': 1852, 'important': 1853, 'armed': 1854, 'allowed': 1855, 'denver': 1856, 'oklahoma': 1857, 'piracy': 1858, 'leave': 1859, 'welcome': 1860, 'formula': 1861, 'racing': 1862, 'sen': 1863, 'democrat': 1864, 'delayed': 1865, 'philippine': 1866, 'gate': 1867, 'match': 1868, 'arab': 1869, 'tackle': 1870, 'witness': 1871, 'penalty': 1872, 'son': 1873, 'semi': 1874, 'discovered': 1875, 'tank': 1876, 'suspended': 1877, 'clear': 1878, 'specie': 1879, 'wife': 1880, 'virginia': 1881, 'diego': 1882, 'mail': 1883, 'single': 1884, 'broadband': 1885, 'greek': 1886, 'catch': 1887, 'veteran': 1888, 'reason': 1889, 'civilian': 1890, 'crew': 1891, 'prince': 1892, 'monitor': 1893, 'democracy': 1894, 'hard': 1895, 'microsystems': 1896, 'training': 1897, 'donald': 1898, 'touch': 1899, 'madrid': 1900, 'claimed': 1901, 'brother': 1902, 'allegedly': 1903, 'something': 1904, 'blast': 1905, 'warming': 1906, 'nuclear': 1907, 'often': 1908, 'hunt': 1909, 'door': 1910, 'design': 1911, 'style': 1912, 'sox': 1913, 'beyond': 1914, 'libya': 1915, 'joined': 1916, 'outsourcing': 1917, 'pittsburgh': 1918, 'front': 1919, 'crm': 1920, 'indonesian': 1921, 'diplomat': 1922, 'code': 1923, 'placed': 1924, 'cardinal': 1925, 'michigan': 1926, 'spyware': 1927, 'initiative': 1928, 'planet': 1929, 'split': 1930, 'rocket': 1931, 'island': 1932, 'voted': 1933, 'score': 1934, 'captured': 1935, 'israel': 1936, 'gaza': 1937, 'appear': 1938, 'putin': 1939, 'tree': 1940, 'seat': 1941, 'death': 1942, 'died': 1943, 'surgery': 1944, 'broke': 1945, 'ranked': 1946, 'success': 1947, 'defence': 1948, 'draft': 1949, 'associated': 1950, 'computing': 1951, 'kerry': 1952, 'atlanta': 1953, 'suspected': 1954, 'notebook': 1955, 'preview': 1956, 'dismissed': 1957, 'turkish': 1958, 'athens': 1959, 'ii': 1960, 'nothing': 1961, 'scientific': 1962, 'entire': 1963, 'heat': 1964, 'illegal': 1965, 'defeat': 1966, 'ray': 1967, 'spammer': 1968, 'dead': 1969, 'starter': 1970, 'backup': 1971, 'fox': 1972, 'officially': 1973, 'martin': 1974, 'beating': 1975, 'stadium': 1976, 'knew': 1977, 'love': 1978, 'spotlight': 1979, 'fly': 1980, 'assistant': 1981, 'assault': 1982, 'carrying': 1983, 'convention': 1984, 'jose': 1985, 'commander': 1986, 'award': 1987, 'produce': 1988, 'navy': 1989, 'van': 1990, 'sentenced': 1991, 'wild': 1992, 'desktop': 1993, 'pitch': 1994, 'hall': 1995, 'possibility': 1996, 'hacker': 1997, 'jersey': 1998, 'berlin': 1999, 'played': 2000, 'andrew': 2001, 'heard': 2002, 'injured': 2003, 'protester': 2004, 'ice': 2005, 'chance': 2006, 'bear': 2007, 'identity': 2008, 'done': 2009, 'doctor': 2010, 'irish': 2011, 'brings': 2012, 'smart': 2013, 'vladimir': 2014, 'flash': 2015, 'format': 2016, 'redskin': 2017, 'olympic': 2018, 'champion': 2019, 'cleveland': 2020, 'scotland': 2021, 'secure': 2022, 'militia': 2023, 'upset': 2024, 'download': 2025, 'song': 2026, 'shooting': 2027, 'dual': 2028, 'carry': 2029, 'era': 2030, 'dy': 2031, 'siege': 2032, 'republic': 2033, 'leg': 2034, 'compound': 2035, 'x': 2036, 'arsenal': 2037, 'researcher': 2038, 'baghdad': 2039, 'wayne': 2040, 'rooney': 2041, 'pack': 2042, 'attacked': 2043, 'suspect': 2044, 'attention': 2045, 'williams': 2046, 'league': 2047, 'ballot': 2048, 'declared': 2049, 'fighter': 2050, 'resolution': 2051, 'heavyweight': 2052, 'port': 2053, 'allows': 2054, 'tiger': 2055, 'quest': 2056, 'camera': 2057, 'capability': 2058, 'capture': 2059, 'davis': 2060, 'bomber': 2061, 'scientist': 2062, 'kansa': 2063, 'celtic': 2064, 'louis': 2065, 'tied': 2066, 'relationship': 2067, 'technical': 2068, 'prepare': 2069, 'networking': 2070, 'pakistani': 2071, 'singh': 2072, 'faced': 2073, 'olympics': 2074, 'defending': 2075, 'roger': 2076, 'master': 2077, 'info': 2078, 'religious': 2079, 'peace': 2080, 'tennessee': 2081, 'contact': 2082, 'inside': 2083, 'blamed': 2084, 'wi': 2085, 'fi': 2086, 'samsung': 2087, 'missed': 2088, 'brian': 2089, 'marathon': 2090, 'miller': 2091, 'tony': 2092, 'rare': 2093, 'lewis': 2094, 'tom': 2095, 'usc': 2096, 'receiver': 2097, 'football': 2098, 'terrorism': 2099, 'bomb': 2100, 'explosion': 2101, 'arizona': 2102, 'sharing': 2103, 'deadly': 2104, 'toshiba': 2105, 'console': 2106, 'jailed': 2107, 'ranking': 2108, 'briton': 2109, 'friend': 2110, 'thailand': 2111, 'violent': 2112, 'happy': 2113, 'mike': 2114, 'killing': 2115, 'manchester': 2116, 'arctic': 2117, 'liverpool': 2118, 'jacques': 2119, 'chirac': 2120, 'msn': 2121, 'virus': 2122, 'ie': 2123, 'beta': 2124, 'marine': 2125, 'cup': 2126, 'nasa': 2127, 'astronaut': 2128, 'shuttle': 2129, 'spam': 2130, 'aide': 2131, 'astronomer': 2132, 'explosive': 2133, 'worm': 2134, 'saturn': 2135, 'moon': 2136, 'spacecraft': 2137, 'solar': 2138, 'earthquake': 2139, 'killed': 2140, 'islamabad': 2141, 'email': 2142, 'extension': 2143, 'playstation': 2144, 'playing': 2145, 'sp': 2146, 'recording': 2147, 'jewish': 2148, 'iran': 2149, 'crashed': 2150, 'hostage': 2151, 'lee': 2152, 'scored': 2153, 'firefox': 2154, 'greatest': 2155, 'medal': 2156, 'blade': 2157, 'halo': 2158, 'mar': 2159, 'columbia': 2160, 'gone': 2161, 'itunes': 2162, 'blog': 2163, 'pda': 2164, 'wood': 2165, 'hat': 2166, 'explorer': 2167, 'solaris': 2168, 'spaceshipone': 2169, 'seed': 2170, 'disc': 2171, 'washingtonpost': 2172, 'jason': 2173, 'beckham': 2174, 'trick': 2175, 'murder': 2176, 'chris': 2177, 'seoul': 2178, 'doping': 2179, 'grid': 2180, 'o': 2181, 'robot': 2182, 'gunman': 2183, 'syria': 2184, 'jordan': 2185, 'mozilla': 2186, 'utah': 2187, 'georgia': 2188, 'rain': 2189, 'martinez': 2190, 'dolphin': 2191, 'alex': 2192, 'sweep': 2193, 'offensive': 2194, 'criticism': 2195, 'anniversary': 2196, 'journalist': 2197, 'baltimore': 2198, 'sex': 2199, 'un': 2200, 'parliament': 2201, 'plot': 2202, 'helicopter': 2203, 'yankee': 2204, 'raid': 2205, 'scott': 2206, 'par': 2207, 'relay': 2208, 'championship': 2209, 'remote': 2210, 'exploded': 2211, 'cub': 2212, 'prisoner': 2213, 'homer': 2214, 'scoring': 2215, 'qualifier': 2216, 'defeated': 2217, 'astros': 2218, 'islamic': 2219, 'tennis': 2220, 'english': 2221, 'expo': 2222, 'bowl': 2223, 'hewitt': 2224, 'steroid': 2225, 'sri': 2226, 'atomic': 2227, 'powell': 2228, 'piston': 2229, 'insurgent': 2230, 'lion': 2231, 'terror': 2232, 'auburn': 2233, 'raptor': 2234, 'soldier': 2235, 'wale': 2236, 'captain': 2237, 'qaeda': 2238, 'brave': 2239, 'touchdown': 2240, 'gymnastics': 2241, 'newcastle': 2242, 'rookie': 2243, 'qualifying': 2244, 'nba': 2245, 'basketball': 2246, 'cricket': 2247, 'wenger': 2248, 'bayern': 2249, 'coach': 2250, 'ncaa': 2251, 'ranger': 2252, 'mariner': 2253, 'patriot': 2254, 'unbeaten': 2255, 'owen': 2256, 'nascar': 2257, 'teammate': 2258, 'anaheim': 2259, 'vijay': 2260, 'offense': 2261, 'jay': 2262, 'dodger': 2263, 'steelers': 2264, 'kobe': 2265, 'bryant': 2266, 'ryder': 2267, 'wicket': 2268, 'trophy': 2269, 'premiership': 2270, 'hamm': 2271, 'colt': 2272, 'manning': 2273, 'sprinter': 2274, 'meter': 2275, 'tampa': 2276, 'quarterback': 2277, 'inning': 2278, 'chelsea': 2279, 'nhl': 2280, 'seeded': 2281, 'hockey': 2282, 'playoff': 2283, 'knee': 2284, 'raven': 2285, 'opener': 2286, 'defensive': 2287, 'mets': 2288, 'pitcher': 2289, 'semifinal': 2290, 'communist': 2291, 'schilling': 2292, 'pedro': 2293, 'phelps': 2294, 'er': 2295, 'drew': 2296, 'schumacher': 2297, 'prix': 2298, 'uefa': 2299, 'clinch': 2300, 'ali': 2301, 'federer': 2302, 'zimbabwe': 2303, 'mauresmo': 2304, 'ukraine': 2305, 'barry': 2306, 'colin': 2307, 'sharapova': 2308, 'maria': 2309, 'torn': 2310, 'kidnapped': 2311, 'haiti': 2312, 'bin': 2313, 'marriage': 2314, 'radical': 2315, 'embassy': 2316, 'wounded': 2317, 'kidnapper': 2318, 'fallujah': 2319, 'guerrilla': 2320, 'mosul': 2321, 'militant': 2322, 'darfur': 2323, 'sudan': 2324, 'uranium': 2325, 'egyptian': 2326, 'chechen': 2327, 'refugee': 2328, 'hamas': 2329, 'ariel': 2330, 'hassan': 2331, 'abu': 2332, 'freed': 2333, 'blair': 2334, 'saddam': 2335, 'hussein': 2336, 'tehran': 2337, 'wounding': 2338, 'mosque': 2339, 'kabul': 2340, 'afghanistan': 2341, 'afghan': 2342, 'arafat': 2343, 'yasser': 2344, 'shrine': 2345, 'shiite': 2346, 'cleric': 2347, 'sadr': 2348, 'kashmir': 2349, 'bombing': 2350, 'egypt': 2351, 'enrichment': 2352, 'jazeera': 2353, 'muslim': 2354, 'karzai': 2355, 'hamid': 2356, 'qaida': 2357, 'musharraf': 2358, 'sudanese': 2359, 'annan': 2360, 'separatist': 2361, 'congo': 2362, 'falluja': 2363}\n"
     ]
    }
   ],
   "source": [
    "print(vectorizer.news_vocab._token_to_idx)"
   ]
  },
  {
   "cell_type": "code",
   "execution_count": 15,
   "metadata": {},
   "outputs": [
    {
     "name": "stdout",
     "output_type": "stream",
     "text": [
      "{'Business': 0, 'Sci/Tech': 1, 'Sports': 2, 'World': 3}\n"
     ]
    }
   ],
   "source": [
    "print(vectorizer.category_vocab._token_to_idx)"
   ]
  },
  {
   "cell_type": "code",
   "execution_count": 16,
   "metadata": {},
   "outputs": [
    {
     "data": {
      "text/plain": [
       "132"
      ]
     },
     "execution_count": 16,
     "metadata": {},
     "output_type": "execute_result"
    }
   ],
   "source": [
    "dataset._max_seq_length"
   ]
  },
  {
   "cell_type": "markdown",
   "metadata": {},
   "source": [
    "### Training loop"
   ]
  },
  {
   "cell_type": "code",
   "execution_count": 17,
   "metadata": {
    "scrolled": true
   },
   "outputs": [
    {
     "data": {
      "application/vnd.jupyter.widget-view+json": {
       "model_id": "76912097f5d94fdc86dd6df773b3445e",
       "version_major": 2,
       "version_minor": 0
      },
      "text/plain": [
       "training routine:   0%|          | 0/100 [00:00<?, ?it/s]"
      ]
     },
     "metadata": {},
     "output_type": "display_data"
    },
    {
     "data": {
      "application/vnd.jupyter.widget-view+json": {
       "model_id": "f3291d4a712a4498a682bbc1add154d3",
       "version_major": 2,
       "version_minor": 0
      },
      "text/plain": [
       "split=train:   0%|          | 0/192 [00:00<?, ?it/s]"
      ]
     },
     "metadata": {},
     "output_type": "display_data"
    },
    {
     "data": {
      "application/vnd.jupyter.widget-view+json": {
       "model_id": "7a272d3ab0be4cab89fb3e8d50c7cd82",
       "version_major": 2,
       "version_minor": 0
      },
      "text/plain": [
       "split=val:   0%|          | 0/41 [00:00<?, ?it/s]"
      ]
     },
     "metadata": {},
     "output_type": "display_data"
    }
   ],
   "source": [
    "classifier = classifier.to(args.device)\n",
    "dataset.class_weights = dataset.class_weights.to(args.device)\n",
    "    \n",
    "loss_func = nn.CrossEntropyLoss(dataset.class_weights)\n",
    "optimizer = optim.Adam(classifier.parameters(), lr=args.learning_rate)\n",
    "scheduler = optim.lr_scheduler.ReduceLROnPlateau(optimizer=optimizer, mode='min', factor=0.5, patience=1)\n",
    "\n",
    "train_state = make_train_state(args)\n",
    "\n",
    "epoch_bar = tqdm(desc='training routine', total=args.num_epochs, position=0)\n",
    "\n",
    "dataset.set_split('train')\n",
    "train_bar = tqdm(desc='split=train', total=dataset.get_num_batches(args.batch_size), position=1, leave=True)\n",
    "\n",
    "dataset.set_split('val')\n",
    "val_bar = tqdm(desc='split=val', total=dataset.get_num_batches(args.batch_size), position=1, leave=True)\n",
    "\n",
    "try:\n",
    "    for epoch_index in range(args.num_epochs):\n",
    "        train_state['epoch_index'] = epoch_index\n",
    "\n",
    "        # Iterate over training dataset\n",
    "\n",
    "        # setup: batch generator, set loss and acc to 0, set train mode on\n",
    "\n",
    "        dataset.set_split('train')\n",
    "        batch_generator = generate_batches(dataset, \n",
    "                                           batch_size=args.batch_size, \n",
    "                                           device=args.device)\n",
    "        running_loss = 0.0\n",
    "        running_acc = 0.0\n",
    "        classifier.train()\n",
    "\n",
    "        for batch_index, batch_dict in enumerate(batch_generator):\n",
    "            # the training routine is these 5 steps:\n",
    "\n",
    "            # --------------------------------------\n",
    "            # step 1. zero the gradients\n",
    "            optimizer.zero_grad()\n",
    "\n",
    "            # step 2. compute the output\n",
    "            y_pred = classifier(batch_dict['x_data']) # (batch, seq_len) -> (batch, num_classes)\n",
    "\n",
    "            # step 3. compute the loss\n",
    "            loss = loss_func(y_pred, batch_dict['y_target'])\n",
    "            loss_t = loss.item()\n",
    "            running_loss += (loss_t - running_loss) / (batch_index + 1)\n",
    "\n",
    "            # step 4. use loss to produce gradients\n",
    "            loss.backward()\n",
    "\n",
    "            # step 5. use optimizer to take gradient step\n",
    "            optimizer.step()\n",
    "            # -----------------------------------------\n",
    "            # compute the accuracy\n",
    "            acc_t = compute_accuracy(y_pred, batch_dict['y_target'])\n",
    "            running_acc += (acc_t - running_acc) / (batch_index + 1)\n",
    "\n",
    "            # update bar\n",
    "            train_bar.set_postfix(loss=running_loss, acc=running_acc, \n",
    "                                  epoch=epoch_index)\n",
    "            train_bar.update()\n",
    "\n",
    "        train_state['train_loss'].append(running_loss)\n",
    "        train_state['train_acc'].append(running_acc)\n",
    "\n",
    "        # Iterate over val dataset\n",
    "\n",
    "        # setup: batch generator, set loss and acc to 0; set eval mode on\n",
    "        dataset.set_split('val')\n",
    "        batch_generator = generate_batches(dataset, \n",
    "                                           batch_size=args.batch_size, \n",
    "                                           device=args.device)\n",
    "        running_loss = 0.\n",
    "        running_acc = 0.\n",
    "        classifier.eval()\n",
    "\n",
    "        for batch_index, batch_dict in enumerate(batch_generator):\n",
    "\n",
    "            # compute the output\n",
    "            y_pred =  classifier(batch_dict['x_data'])\n",
    "\n",
    "            # step 3. compute the loss\n",
    "            loss = loss_func(y_pred, batch_dict['y_target'])\n",
    "            loss_t = loss.item()\n",
    "            running_loss += (loss_t - running_loss) / (batch_index + 1)\n",
    "\n",
    "            # compute the accuracy\n",
    "            acc_t = compute_accuracy(y_pred, batch_dict['y_target'])\n",
    "            running_acc += (acc_t - running_acc) / (batch_index + 1)\n",
    "            val_bar.set_postfix(loss=running_loss, acc=running_acc, \n",
    "                            epoch=epoch_index)\n",
    "            val_bar.update()\n",
    "\n",
    "        train_state['val_loss'].append(running_loss)\n",
    "        train_state['val_acc'].append(running_acc)\n",
    "\n",
    "        train_state = update_train_state(args=args, model=classifier,\n",
    "                                         train_state=train_state)\n",
    "\n",
    "        scheduler.step(train_state['val_loss'][-1])\n",
    "\n",
    "        if train_state['stop_early']:\n",
    "            break\n",
    "\n",
    "        train_bar.n = 0\n",
    "        val_bar.n = 0\n",
    "        epoch_bar.update()\n",
    "except KeyboardInterrupt:\n",
    "    print(\"Exiting loop\")\n"
   ]
  },
  {
   "cell_type": "code",
   "execution_count": 18,
   "metadata": {},
   "outputs": [
    {
     "data": {
      "image/png": "[encoded data removed]",
      "text/plain": [
       "<Figure size 640x480 with 1 Axes>"
      ]
     },
     "metadata": {},
     "output_type": "display_data"
    }
   ],
   "source": [
    "%matplotlib inline\n",
    "import matplotlib.pyplot as plt\n",
    "\n",
    "acc = train_state['train_acc']\n",
    "val_acc = train_state['val_acc']\n",
    "loss = train_state['train_loss']\n",
    "val_loss = train_state['val_loss']\n",
    "\n",
    "epochs = range(1, len(acc) + 1)\n",
    "\n",
    "# \"bo\" is for \"blue dot\"\n",
    "plt.plot(epochs, loss, 'bo', label='Training loss')\n",
    "# b is for \"solid blue line\"\n",
    "plt.plot(epochs, val_loss, 'b', label='Validation loss')\n",
    "plt.title('Training and validation loss')\n",
    "plt.xlabel('Epochs')\n",
    "plt.ylabel('Loss')\n",
    "plt.legend()\n",
    "\n",
    "plt.show()"
   ]
  },
  {
   "cell_type": "code",
   "execution_count": 19,
   "metadata": {},
   "outputs": [
    {
     "data": {
      "image/png": "[encoded data removed]",
      "text/plain": [
       "<Figure size 640x480 with 1 Axes>"
      ]
     },
     "metadata": {},
     "output_type": "display_data"
    }
   ],
   "source": [
    "plt.clf()   # clear figure\n",
    "\n",
    "plt.plot(epochs, acc, 'bo', label='Training acc')\n",
    "plt.plot(epochs, val_acc, 'b', label='Validation acc')\n",
    "plt.title('Training and validation accuracy')\n",
    "plt.xlabel('Epochs')\n",
    "plt.ylabel('Accuracy')\n",
    "plt.legend()\n",
    "\n",
    "plt.show()"
   ]
  },
  {
   "cell_type": "code",
   "execution_count": 20,
   "metadata": {},
   "outputs": [],
   "source": [
    "# compute the loss & accuracy on the test set using the best available model\n",
    "\n",
    "classifier.load_state_dict(torch.load(train_state['model_filename'])) # load the best model\n",
    "\n",
    "classifier = classifier.to(args.device)\n",
    "dataset.class_weights = dataset.class_weights.to(args.device)\n",
    "loss_func = nn.CrossEntropyLoss(dataset.class_weights)\n",
    "\n",
    "dataset.set_split('test')\n",
    "batch_generator = generate_batches(dataset, \n",
    "                                   batch_size=args.batch_size, \n",
    "                                   device=args.device)\n",
    "running_loss = 0.\n",
    "running_acc = 0.\n",
    "classifier.eval()\n",
    "\n",
    "y_pred_list = []         # store predicted values for confusion matrix\n",
    "y_category_list = []  # ground truth value\n",
    "\n",
    "for batch_index, batch_dict in enumerate(batch_generator):\n",
    "    # compute the output\n",
    "    y_pred =  classifier(batch_dict['x_data'])\n",
    "    \n",
    "    # store predicted values and ground truth values for calculating confusion matrix\n",
    "    y_pred_list.extend(y_pred.max(dim=1)[1].cpu().numpy())\n",
    "    y_category_list.extend(batch_dict['y_target'].cpu().numpy())\n",
    "    \n",
    "    # compute the loss\n",
    "    loss = loss_func(y_pred, batch_dict['y_target'])\n",
    "    loss_t = loss.item()\n",
    "    running_loss += (loss_t - running_loss) / (batch_index + 1)\n",
    "\n",
    "    # compute the accuracy\n",
    "    acc_t = compute_accuracy(y_pred, batch_dict['y_target'])\n",
    "    running_acc += (acc_t - running_acc) / (batch_index + 1)\n",
    "\n",
    "train_state['test_loss'] = running_loss\n",
    "train_state['test_acc'] = running_acc\n"
   ]
  },
  {
   "cell_type": "code",
   "execution_count": 21,
   "metadata": {},
   "outputs": [
    {
     "name": "stdout",
     "output_type": "stream",
     "text": [
      "Test loss: 0.3399513302052893;\n",
      "Test Accuracy: 88.83384146341461\n"
     ]
    }
   ],
   "source": [
    "print(\"Test loss: {};\".format(train_state['test_loss']))\n",
    "print(\"Test Accuracy: {}\".format(train_state['test_acc']))"
   ]
  },
  {
   "cell_type": "code",
   "execution_count": 22,
   "metadata": {},
   "outputs": [
    {
     "name": "stdout",
     "output_type": "stream",
     "text": [
      "['Business', 'Sci/Tech', 'Sports', 'World']\n"
     ]
    }
   ],
   "source": [
    "classes = []\n",
    "for i in range(len(dataset._vectorizer.category_vocab)):\n",
    "    classes.append(dataset._vectorizer.category_vocab.lookup_index(i))\n",
    "print(classes)"
   ]
  },
  {
   "cell_type": "code",
   "execution_count": 23,
   "metadata": {},
   "outputs": [
    {
     "name": "stdout",
     "output_type": "stream",
     "text": [
      "True       Business  Sci/Tech  Sports  World\n",
      "Predicted                                   \n",
      "Business        553        58       4     34\n",
      "Sci/Tech         51       563       4     24\n",
      "Sports           17        14     652     33\n",
      "World            24        19      11    563\n"
     ]
    }
   ],
   "source": [
    "import pandas as pd\n",
    "from sklearn.metrics import classification_report, confusion_matrix, accuracy_score\n",
    "\n",
    "cm = confusion_matrix(y_category_list, y_pred_list)\n",
    "cm_df = pd.DataFrame(cm.T, index=classes, columns=classes)\n",
    "cm_df.index.name = 'Predicted'\n",
    "cm_df.columns.name = 'True'\n",
    "print(cm_df)"
   ]
  },
  {
   "cell_type": "code",
   "execution_count": 24,
   "metadata": {},
   "outputs": [
    {
     "name": "stdout",
     "output_type": "stream",
     "text": [
      "              precision    recall  f1-score   support\n",
      "\n",
      "           0       0.85      0.86      0.85       645\n",
      "           1       0.88      0.86      0.87       654\n",
      "           2       0.91      0.97      0.94       671\n",
      "           3       0.91      0.86      0.89       654\n",
      "\n",
      "    accuracy                           0.89      2624\n",
      "   macro avg       0.89      0.89      0.89      2624\n",
      "weighted avg       0.89      0.89      0.89      2624\n",
      "\n"
     ]
    }
   ],
   "source": [
    "print(classification_report(y_category_list, y_pred_list))"
   ]
  },
  {
   "cell_type": "markdown",
   "metadata": {},
   "source": [
    "### Inference"
   ]
  },
  {
   "cell_type": "code",
   "execution_count": 25,
   "metadata": {},
   "outputs": [],
   "source": [
    "# Preprocess the reviews\n",
    "def preprocess_text(text):\n",
    "    text = ' '.join(word.lower() for word in text.split(\" \"))\n",
    "    text = re.sub(r\"([.,!?])\", r\" \\1 \", text)\n",
    "    text = re.sub(r\"[^a-zA-Z.,!?]+\", r\" \", text)\n",
    "    return text"
   ]
  },
  {
   "cell_type": "code",
   "execution_count": 26,
   "metadata": {},
   "outputs": [],
   "source": [
    "def predict_category(title, classifier, vectorizer, max_length):\n",
    "    \"\"\"Predict a News category for a new title\n",
    "    \n",
    "    Args:\n",
    "        title (str): a raw title string\n",
    "        classifier (NewsClassifier): an instance of the trained classifier\n",
    "        vectorizer (NewsVectorizer): the corresponding vectorizer\n",
    "        max_length (int): the max sequence length\n",
    "            Note: CNNs are sensitive to the input data tensor size. \n",
    "                  This ensures to keep it the same size as the training data\n",
    "    \"\"\"\n",
    "    title = preprocess_text(title)\n",
    "    vectorized_title = \\\n",
    "        torch.tensor(vectorizer.vectorize(title, vector_length=max_length))\n",
    "    result = classifier(vectorized_title.unsqueeze(0), apply_softmax=True)\n",
    "    probability_values, indices = result.max(dim=1)\n",
    "    predicted_category = vectorizer.category_vocab.lookup_index(indices.item())\n",
    "\n",
    "    return {'category': predicted_category, \n",
    "            'probability': probability_values.item()}"
   ]
  },
  {
   "cell_type": "code",
   "execution_count": 27,
   "metadata": {},
   "outputs": [],
   "source": [
    "def get_samples():\n",
    "    samples = {}\n",
    "    for cat in dataset.val_df.category.unique():\n",
    "        samples[cat] = dataset.val_df.text[dataset.val_df.category==cat].tolist()[:5]\n",
    "    return samples\n",
    "\n",
    "val_samples = get_samples() # first 5 titles of each category from validation dataset"
   ]
  },
  {
   "cell_type": "code",
   "execution_count": 28,
   "metadata": {},
   "outputs": [
    {
     "name": "stdout",
     "output_type": "stream",
     "text": [
      "True Category: Business\n",
      "==============================\n",
      "Prediction: Business (p=0.78)\n",
      "\t + Sample: india tata group acquires tyco network bargain price com new indication sale u built telecommunication infrastructure foreign interest fire sale price continuing tyco international announced monday selling tyco global network india tata group\n",
      "Prediction: Business (p=0.99)\n",
      "\t + Sample: update walgreen profit rise store planned walgreen co wag n quote profile research top u drugstore chain monday said quarterly profit rose percent strong sale prescription drug\n",
      "Prediction: Business (p=0.81)\n",
      "\t + Sample: gold field win appeal fight takeover gold field ltd appeal friday battle stave hostile billion takeover harmony gold mining co would create world largest gold mining company\n",
      "Prediction: Business (p=0.78)\n",
      "\t + Sample: sony led group acquire mgm b los angeles sept consortium led sony corp agreed principle acquire famed hollywood studio metro goldwyn mayer inc\n",
      "Prediction: Business (p=0.97)\n",
      "\t + Sample: airline raise fare offset fuel reuters reuters u airline trying offset record high jet fuel price boosted air fare north america much round trip flight\n",
      "------------------------------\n",
      "\n",
      "True Category: Sci/Tech\n",
      "==============================\n",
      "Prediction: Sci/Tech (p=0.89)\n",
      "\t + Sample: intel cancel top speed pentium chip intel corp intc quote profile research thursday canceled plan introduce highest speed desktop computer chip ending year run\n",
      "Prediction: World (p=0.68)\n",
      "\t + Sample: locust devastate mauritania crop others escape reuters reuters crop devouring locust caused major damage cereal mauritania west central african state suffered much le feared worst infestation decade u n said thursday\n",
      "Prediction: Sci/Tech (p=0.74)\n",
      "\t + Sample: fcc free voip service state regulation voip voice ip service offered vonage holding inc subject public utility regulation individual u state u federal communication commission fcc declared tuesday\n",
      "Prediction: Sci/Tech (p=0.88)\n",
      "\t + Sample: u home broadband connection total number home internet user reached plateau u use internet adopting broadband rapid pace according marc ryan senior director analysis audience measurement company\n",
      "Prediction: World (p=0.86)\n",
      "\t + Sample: russian cabinet approves kyoto protocol ap ap russia cabinet approved kyoto protocol global warming thursday clearing way worldwide adoption pact despite u opposition russian parliament ratifies expected\n",
      "------------------------------\n",
      "\n",
      "True Category: Sports\n",
      "==============================\n",
      "Prediction: Sports (p=0.99)\n",
      "\t + Sample: goal happy ajax feyenoord maintain perfect start champion ajax amsterdam came behind thrash nac breda sunday feyenoord hit four past willem ii tilburg regain early lead dutch first division\n",
      "Prediction: Sports (p=0.97)\n",
      "\t + Sample: army allure brought ross back sideline retirement changed bobby ross much waiting pregame goose bump always felt year coaching college pro football reverted old coaching habit relishing time spent new player starting often putting hour day\n",
      "Prediction: Sports (p=1.00)\n",
      "\t + Sample: maddux win th greg maddux day thursday cub starter th game logged th inning rapped two run single help chicago sweep pirate\n",
      "Prediction: Sports (p=0.98)\n",
      "\t + Sample: tiger wood marriage score hole one marriage help tiger wood golf game hurt wood rough time course lately first time since may slipped\n",
      "Prediction: Sports (p=0.99)\n",
      "\t + Sample: real madrid stay touch leader barcelona spanish lt b gt lt b gt four goal minute allowed real madrid destroy bernd schuster levante win frustrated fan secured second place spanish league standing\n",
      "------------------------------\n",
      "\n",
      "True Category: World\n",
      "==============================\n",
      "Prediction: World (p=1.00)\n",
      "\t + Sample: main point gaza disengagement plan ap ap main point israeli prime minister ariel sharon gaza withdrawal plan\n",
      "Prediction: World (p=1.00)\n",
      "\t + Sample: french captive fate mulled baghdad iraq islamic militant group claimed kidnapped two french journalist said would soon decide fate according message posted web site friday iraqi negotiator called chance release quot excellent\n",
      "Prediction: World (p=0.99)\n",
      "\t + Sample: victim plane crash zambia canada britain australia six people killed crash south african registered aircraft thursday zambia respectively canadian briton australian local mediareported friday\n",
      "Prediction: World (p=0.90)\n",
      "\t + Sample: cause indonesian plane crash probed ap ap investigator picked wreckage indonesian passenger plane crashed stormy weather killing least people county worst air accident six year\n",
      "Prediction: World (p=0.58)\n",
      "\t + Sample: translator hired titan beheaded insurgent translator employed san diego titan corp beheaded iraq yesterday insurgent also beheaded turkish contractor working u air base\n",
      "------------------------------\n",
      "\n"
     ]
    }
   ],
   "source": [
    "#title = input(\"Enter a news title to classify: \")\n",
    "classifier = classifier.to(\"cpu\")\n",
    "\n",
    "for truth, sample_group in val_samples.items():\n",
    "    print(f\"True Category: {truth}\")\n",
    "    print(\"=\"*30)\n",
    "    for sample in sample_group:\n",
    "        prediction = predict_category(sample, classifier, \n",
    "                                      vectorizer, dataset._max_seq_length)\n",
    "        print(\"Prediction: {} (p={:0.2f})\".format(prediction['category'],\n",
    "                                                  prediction['probability']))\n",
    "        print(\"\\t + Sample: {}\".format(sample))\n",
    "    print(\"-\"*30 + \"\\n\")"
   ]
  },
  {
   "cell_type": "markdown",
   "metadata": {},
   "source": [
    "### Excercise:\n",
    "\n",
    "1. Change F.max_pool1d() to F.avg_pool1d().\n",
    "2. Change use_glove=True to use_glove=False.\n",
    "3. Change other hyperparameters.\n"
   ]
  }
 ],
 "metadata": {
  "kernelspec": {
   "display_name": "Python 3 (ipykernel)",
   "language": "python",
   "name": "python3"
  },
  "language_info": {
   "codemirror_mode": {
    "name": "ipython",
    "version": 3
   },
   "file_extension": ".py",
   "mimetype": "text/x-python",
   "name": "python",
   "nbconvert_exporter": "python",
   "pygments_lexer": "ipython3",
   "version": "3.9.13"
  },
  "toc": {
   "colors": {
    "hover_highlight": "#DAA520",
    "running_highlight": "#FF0000",
    "selected_highlight": "#FFD700"
   },
   "moveMenuLeft": true,
   "nav_menu": {
    "height": "138px",
    "width": "252px"
   },
   "navigate_menu": true,
   "number_sections": true,
   "sideBar": true,
   "skip_h1_title": false,
   "threshold": "5",
   "title_cell": "Table of Contents",
   "title_sidebar": "Contents",
   "toc_cell": false,
   "toc_position": {},
   "toc_section_display": "block",
   "toc_window_display": false
  }
 },
 "nbformat": 4,
 "nbformat_minor": 2
}
