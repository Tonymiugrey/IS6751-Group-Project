{
 "cells": [
  {
   "cell_type": "markdown",
   "metadata": {},
   "source": [
    "# CNN News Classification"
   ]
  },
  {
   "cell_type": "markdown",
   "metadata": {},
   "source": [
    "## Imports"
   ]
  },
  {
   "cell_type": "code",
   "execution_count": 1,
   "metadata": {},
   "outputs": [
    {
     "name": "stderr",
     "output_type": "stream",
     "text": [
      "[nltk_data] Downloading package stopwords to\n",
      "[nltk_data]     C:\\Users\\miuGrey\\AppData\\Roaming\\nltk_data...\n",
      "[nltk_data]   Package stopwords is already up-to-date!\n",
      "[nltk_data] Downloading package wordnet to\n",
      "[nltk_data]     C:\\Users\\miuGrey\\AppData\\Roaming\\nltk_data...\n",
      "[nltk_data]   Package wordnet is already up-to-date!\n",
      "[nltk_data] Downloading package punkt to\n",
      "[nltk_data]     C:\\Users\\miuGrey\\AppData\\Roaming\\nltk_data...\n",
      "[nltk_data]   Package punkt is already up-to-date!\n",
      "[nltk_data] Downloading package omw-1.4 to\n",
      "[nltk_data]     C:\\Users\\miuGrey\\AppData\\Roaming\\nltk_data...\n",
      "[nltk_data]   Package omw-1.4 is already up-to-date!\n"
     ]
    }
   ],
   "source": [
    "import os\n",
    "from argparse import Namespace\n",
    "from collections import Counter\n",
    "import json\n",
    "import re\n",
    "import string\n",
    "\n",
    "import numpy as np\n",
    "import pandas as pd\n",
    "import torch\n",
    "import torch.nn as nn\n",
    "import torch.nn.functional as F\n",
    "import torch.optim as optim\n",
    "from torch.utils.data import Dataset, DataLoader\n",
    "from tqdm.notebook import tqdm\n",
    "\n",
    "import nltk\n",
    "nltk.download('stopwords')\n",
    "nltk.download('wordnet')\n",
    "nltk.download('punkt')\n",
    "nltk.download('omw-1.4')\n",
    "from nltk.corpus import stopwords # remove stopword\n",
    "from nltk.stem import WordNetLemmatizer\n",
    "from nltk.util import ngrams\n",
    "from nltk import word_tokenize"
   ]
  },
  {
   "cell_type": "markdown",
   "metadata": {},
   "source": [
    "## Data Vectorization classes"
   ]
  },
  {
   "cell_type": "markdown",
   "metadata": {},
   "source": [
    "### The Vocabulary"
   ]
  },
  {
   "cell_type": "code",
   "execution_count": 2,
   "metadata": {},
   "outputs": [],
   "source": [
    "class Vocabulary(object):\n",
    "    \"\"\"Class to process text and extract vocabulary for mapping\"\"\"\n",
    "\n",
    "    def __init__(self, token_to_idx=None):\n",
    "        \"\"\"\n",
    "        Args:\n",
    "            token_to_idx (dict): a pre-existing map of tokens to indices\n",
    "        \"\"\"\n",
    "\n",
    "        # news_vocab._token_to_idx: {'<MASK>': 0, '<UNK>': 1, '<BEGIN>': 2, '<END>': 3, 'jobs': 4, 'tax': 5, 'cuts': 6,  \n",
    "        #                             ......, 'shiite': 3407, 'ghraib': 3408}\n",
    "        # category_vocab._token_to_idx: {'Business': 0, 'Sci/Tech': 1, 'Sports': 2, 'World': 3}\n",
    "        \n",
    "        if token_to_idx is None:\n",
    "            token_to_idx = {}\n",
    "        self._token_to_idx = token_to_idx\n",
    "\n",
    "        self._idx_to_token = {idx: token \n",
    "                              for token, idx in self._token_to_idx.items()}\n",
    "        \n",
    "    def add_token(self, token):\n",
    "        \"\"\"Update mapping dicts based on the token.\n",
    "\n",
    "        Args:\n",
    "            token (str): the item to add into the Vocabulary\n",
    "        Returns:\n",
    "            index (int): the integer corresponding to the token\n",
    "        \"\"\"\n",
    "        if token in self._token_to_idx:\n",
    "            index = self._token_to_idx[token]\n",
    "        else:\n",
    "            index = len(self._token_to_idx)\n",
    "            self._token_to_idx[token] = index\n",
    "            self._idx_to_token[index] = token\n",
    "        return index\n",
    "            \n",
    "    def lookup_token(self, token):\n",
    "        \"\"\"Retrieve the index associated with the token \n",
    "        \n",
    "        Args:\n",
    "            token (str): the token to look up \n",
    "        Returns:\n",
    "            index (int): the index corresponding to the token\n",
    "        \"\"\"\n",
    "        return self._token_to_idx[token]\n",
    "\n",
    "    def lookup_index(self, index):\n",
    "        \"\"\"Return the token associated with the index\n",
    "        \n",
    "        Args: \n",
    "            index (int): the index to look up\n",
    "        Returns:\n",
    "            token (str): the token corresponding to the index\n",
    "        Raises:\n",
    "            KeyError: if the index is not in the Vocabulary\n",
    "        \"\"\"\n",
    "        if index not in self._idx_to_token:\n",
    "            raise KeyError(\"the index (%d) is not in the Vocabulary\" % index)\n",
    "        return self._idx_to_token[index]\n",
    "\n",
    "    def __str__(self):\n",
    "        return \"<Vocabulary(size=%d)>\" % len(self)\n",
    "\n",
    "    def __len__(self):\n",
    "        return len(self._token_to_idx)"
   ]
  },
  {
   "cell_type": "code",
   "execution_count": 3,
   "metadata": {},
   "outputs": [],
   "source": [
    "class SequenceVocabulary(Vocabulary):\n",
    "    def __init__(self, token_to_idx=None, unk_token=\"<UNK>\",\n",
    "                 mask_token=\"<MASK>\", begin_seq_token=\"<BEGIN>\",\n",
    "                 end_seq_token=\"<END>\"):\n",
    "\n",
    "        super(SequenceVocabulary, self).__init__(token_to_idx)\n",
    "\n",
    "        self._mask_token = mask_token             # for paddding, e.g., Wall St. Bears Claw Back Into the Black (Reuters)\n",
    "                                                  #               -> [2, 5, 6, 10, 10, 8, 7, 9, 19, ......., 3, 0, 0, 0, ..., 0]\n",
    "        self._unk_token = unk_token\n",
    "        self._begin_seq_token = begin_seq_token\n",
    "        self._end_seq_token = end_seq_token\n",
    "\n",
    "        self.mask_index = self.add_token(self._mask_token)            # mask_index is 0\n",
    "        self.unk_index = self.add_token(self._unk_token)              # unk_index is 1\n",
    "        self.begin_seq_index = self.add_token(self._begin_seq_token)  # begin_seq_index is 2\n",
    "        self.end_seq_index = self.add_token(self._end_seq_token)      # end_seq_index is 3\n",
    "\n",
    "    def lookup_token(self, token):\n",
    "        \"\"\"Retrieve the index associated with the token \n",
    "          or the UNK index if token isn't present.\n",
    "        \n",
    "        Args:\n",
    "            token (str): the token to look up \n",
    "        Returns:\n",
    "            index (int): the index corresponding to the token\n",
    "        Notes:\n",
    "            `unk_index` needs to be >=0 (having been added into the Vocabulary) \n",
    "              for the UNK functionality \n",
    "        \"\"\"\n",
    "        if self.unk_index >= 0:\n",
    "            return self._token_to_idx.get(token, self.unk_index)\n",
    "        else:\n",
    "            return self._token_to_idx[token]"
   ]
  },
  {
   "cell_type": "markdown",
   "metadata": {},
   "source": [
    "### The Vectorizer"
   ]
  },
  {
   "cell_type": "code",
   "execution_count": 4,
   "metadata": {},
   "outputs": [],
   "source": [
    "class NewsVectorizer(object):\n",
    "    \"\"\" The Vectorizer which coordinates the Vocabularies and puts them to use\"\"\"    \n",
    "    def __init__(self, news_vocab, category_vocab):\n",
    "        self.news_vocab = news_vocab\n",
    "        self.category_vocab = category_vocab\n",
    "\n",
    "    def vectorize(self, text, vector_length=-1):\n",
    "        \"\"\"\n",
    "        Args:\n",
    "            text (str): the string of words separated by a space\n",
    "            vector_length (int): an argument for forcing the length of index vector\n",
    "        Returns:\n",
    "            the vetorized text (numpy.array)\n",
    "        \"\"\"\n",
    "        \"\"\"    \n",
    "        mask_index is 0\n",
    "        unk_index is 1\n",
    "        begin_seq_index is 2\n",
    "        end_seq_index is 3\n",
    "        \n",
    "        When text is \"Wall St. Bears Claw Back Into the Black (Reuters)\"; max vector length is 29 in current dataset \n",
    "        \n",
    "        out_vector = [2, 5, 6, 10, 10, 8, 7, 9, 19, ......., 3, 0, 0, 0, ..., 0]\n",
    "        \n",
    "        \"\"\"\n",
    "        \n",
    "        indices = [self.news_vocab.begin_seq_index]\n",
    "        indices.extend(self.news_vocab.lookup_token(token) \n",
    "                       for token in text.split(\" \"))\n",
    "        indices.append(self.news_vocab.end_seq_index)\n",
    "\n",
    "        if vector_length < 0:\n",
    "            vector_length = len(indices)\n",
    "\n",
    "        out_vector = np.zeros(vector_length, dtype=np.int64)\n",
    "        out_vector[:len(indices)] = indices\n",
    "        out_vector[len(indices):] = self.news_vocab.mask_index\n",
    "\n",
    "        return out_vector\n",
    "\n",
    "    @classmethod\n",
    "    def from_dataframe(cls, news_df, cutoff=25):\n",
    "        \"\"\"Instantiate the vectorizer from the dataset dataframe\n",
    "        \n",
    "        Args:\n",
    "            news_df (pandas.DataFrame): the target dataset\n",
    "            cutoff (int): frequency threshold for including in Vocabulary \n",
    "        Returns:\n",
    "            an instance of the NewsVectorizer\n",
    "        \"\"\"\n",
    "        category_vocab = Vocabulary()        \n",
    "        for category in sorted(set(news_df.category)):\n",
    "            category_vocab.add_token(category)\n",
    "\n",
    "        word_counts = Counter()\n",
    "        for text in news_df.text:\n",
    "            for token in text.split(\" \"):\n",
    "                if token not in string.punctuation:\n",
    "                    word_counts[token] += 1\n",
    "        \n",
    "        news_vocab = SequenceVocabulary()\n",
    "        for word, word_count in word_counts.items():\n",
    "            if word_count >= cutoff:\n",
    "                news_vocab.add_token(word)\n",
    "        \n",
    "        return cls(news_vocab, category_vocab)"
   ]
  },
  {
   "cell_type": "markdown",
   "metadata": {},
   "source": [
    "### The Dataset"
   ]
  },
  {
   "cell_type": "code",
   "execution_count": 5,
   "metadata": {},
   "outputs": [
    {
     "data": {
      "text/plain": [
       "'glaxo settle paxil suicide pill suit new york reuters glaxosmithkline plc href target stock quickinfo fullquote l agreed release clinical study drug settle lawsuit accused withholding negative information antidepressant paxil new york attorney general office said thursday'"
      ]
     },
     "execution_count": 5,
     "metadata": {},
     "output_type": "execute_result"
    }
   ],
   "source": [
    "def text_preprocessing(text):\n",
    "    text = text.lower() # case folding\n",
    "    text = re.sub('&\\w*\\;\\w*', '', text)\n",
    "    text = re.sub('https?://\\S+|www\\.\\S+', '', text)\n",
    "    text = re.sub('\\[.*?\\]', '', text)\n",
    "    text = re.sub('<.*?>+', '', text)\n",
    "    text = re.sub('\\n', '', text)\n",
    "    text = re.sub(r\"[^a-z]+\", r\" \", text) # Regulation, remove special charecters\n",
    "    stop_words = set(stopwords.words('english'))\n",
    "    tokens = word_tokenize(text)\n",
    "    lemmatizer=WordNetLemmatizer()\n",
    "    # remove stopwords and lemmatization\n",
    "    result = [lemmatizer.lemmatize(i) for i in tokens if not i in stop_words]\n",
    "    result = result[:1000]\n",
    "    '''\n",
    "    # bigram\n",
    "    bigram_result = []\n",
    "    bigram_list = ngrams(result,2)\n",
    "    for word_set in bigram_list:\n",
    "        for word in word_set:\n",
    "            bigram_result.append(word)\n",
    "    '''\n",
    "    return result\n",
    "\n",
    "test_str_1 = \"This is sentence to test the effect of preprocessing... Yeah~\\nCool!fac  feae ge fe ga 🪣🛀🎀 ☏☢︎⏥␘⍎ (>╹ω╹<)喵\"\n",
    "test_str_2 = \"Glaxo Settles Paxil 'Suicide Pill' Suit.  NEW YORK (Reuters) - GlaxoSmithKline Plc &lt;A HREF=http://www.investor.reuters.com/FullQuote.aspx?ticker=GSK.L target=/stocks/quickinfo/fullquote\"\"&gt;GSK.L&lt;/A&gt; has agreed  to release all clinical studies of its drugs to settle a  lawsuit that accused it of withholding negative information  about the antidepressant Paxil, the New York Attorney General's  office said on Thursday.\"\n",
    "list = text_preprocessing(test_str_2)\n",
    "' '.join(list)"
   ]
  },
  {
   "cell_type": "code",
   "execution_count": 6,
   "metadata": {},
   "outputs": [],
   "source": [
    "class NewsDataset(Dataset):\n",
    "    def __init__(self, news_df, vectorizer):\n",
    "        \"\"\"\n",
    "        Args:\n",
    "            news_df (pandas.DataFrame): the dataset\n",
    "            vectorizer (NewsVectorizer): vectorizer instatiated from dataset\n",
    "        \"\"\"\n",
    "        self.news_df = news_df\n",
    "        self._vectorizer = vectorizer\n",
    "\n",
    "        # +1 if only using begin_seq, +2 if using both begin and end seq tokens\n",
    "        measure_len = lambda context: len(context.split(\" \"))\n",
    "        self._max_seq_length = max(map(measure_len, news_df.text)) + 2\n",
    "        \n",
    "\n",
    "        self.train_df = self.news_df[self.news_df.split=='train']\n",
    "        self.train_size = len(self.train_df)\n",
    "\n",
    "        self.val_df = self.news_df[self.news_df.split=='val']\n",
    "        self.validation_size = len(self.val_df)\n",
    "\n",
    "        self.test_df = self.news_df[self.news_df.split=='test']\n",
    "        self.test_size = len(self.test_df)\n",
    "\n",
    "        self._lookup_dict = {'train': (self.train_df, self.train_size),\n",
    "                             'val': (self.val_df, self.validation_size),\n",
    "                             'test': (self.test_df, self.test_size)}\n",
    "\n",
    "        self.set_split('train')\n",
    "\n",
    "        # Class weights\n",
    "        class_counts = news_df.category.value_counts().to_dict()\n",
    "        def sort_key(item):\n",
    "            return self._vectorizer.category_vocab.lookup_token(item[0])\n",
    "        sorted_counts = sorted(class_counts.items(), key=sort_key)\n",
    "        frequencies = [count for _, count in sorted_counts]\n",
    "        self.class_weights = 1.0 / torch.tensor(frequencies, dtype=torch.float32)\n",
    "        \n",
    "        \n",
    "    @classmethod\n",
    "    def load_dataset_and_make_vectorizer(cls, news_csv):\n",
    "        \"\"\"Load dataset and make a new vectorizer from scratch\n",
    "        \n",
    "        Args:\n",
    "            surname_csv (str): location of the dataset\n",
    "        Returns:\n",
    "            an instance of SurnameDataset\n",
    "        \"\"\"\n",
    "        news_df = pd.read_csv(news_csv)\n",
    "        \n",
    "        for index, text in enumerate(news_df.text):\n",
    "            processed_list = text_preprocessing(text)\n",
    "            news_df.text[index] = ' '.join(processed_list)\n",
    "\n",
    "        train_news_df = news_df[news_df.split=='train']\n",
    "        return cls(news_df, NewsVectorizer.from_dataframe(train_news_df))\n",
    "\n",
    "    def get_vectorizer(self):\n",
    "        \"\"\" returns the vectorizer \"\"\"\n",
    "        return self._vectorizer\n",
    "\n",
    "    def set_split(self, split=\"train\"):\n",
    "        \"\"\" selects the splits in the dataset using a column in the dataframe \"\"\"\n",
    "        self._target_split = split\n",
    "        self._target_df, self._target_size = self._lookup_dict[split]\n",
    "\n",
    "    def __len__(self):\n",
    "        return self._target_size\n",
    "\n",
    "    def __getitem__(self, index):\n",
    "        \"\"\"the primary entry point method for PyTorch datasets\n",
    "        \n",
    "        Args:\n",
    "            index (int): the index to the data point \n",
    "        Returns:\n",
    "            a dictionary holding the data point's features (x_data) and label (y_target)\n",
    "        \"\"\"\n",
    "        row = self._target_df.iloc[index]\n",
    "\n",
    "        news_vector = \\\n",
    "            self._vectorizer.vectorize(row.text, self._max_seq_length)\n",
    "\n",
    "        category_index = \\\n",
    "            self._vectorizer.category_vocab.lookup_token(row.category)\n",
    "\n",
    "        return {'x_data': news_vector,     # e.g., \"Wall St. Bears Claw Back Into the Black (Reuters)\" \n",
    "                                            # -> [2, 5, 6, 10, 10, 8, 7, 9, 19, ......., 3, 0, 0, 0, ..., 0]\n",
    "                'y_target': category_index} # e.g., 2\n",
    "\n",
    "    def get_num_batches(self, batch_size):\n",
    "        \"\"\"Given a batch size, return the number of batches in the dataset\n",
    "        \n",
    "        Args:\n",
    "            batch_size (int)\n",
    "        Returns:\n",
    "            number of batches in the dataset\n",
    "        \"\"\"\n",
    "        return len(self) // batch_size\n",
    "\n",
    "def generate_batches(dataset, batch_size, shuffle=True,\n",
    "                     drop_last=True, device=\"cpu\"): \n",
    "    \"\"\"\n",
    "    A generator function which wraps the PyTorch DataLoader. It will \n",
    "      ensure each tensor is on the write device location.\n",
    "    \"\"\"\n",
    "    dataloader = DataLoader(dataset=dataset, batch_size=batch_size,\n",
    "                            shuffle=shuffle, drop_last=drop_last)\n",
    "\n",
    "    for data_dict in dataloader:\n",
    "        out_data_dict = {}\n",
    "        for name, tensor in data_dict.items():\n",
    "            out_data_dict[name] = data_dict[name].to(device)\n",
    "        yield out_data_dict"
   ]
  },
  {
   "cell_type": "markdown",
   "metadata": {},
   "source": [
    "## The Model: NewsClassifier"
   ]
  },
  {
   "cell_type": "code",
   "execution_count": 7,
   "metadata": {},
   "outputs": [],
   "source": [
    "class NewsClassifier(nn.Module):\n",
    "    def __init__(self, embedding_size, num_embeddings, num_channels, \n",
    "                 hidden_dim, num_classes, dropout_p, \n",
    "                 pretrained_embeddings=None, padding_idx=0, emb_freeze=True):\n",
    "        \"\"\"\n",
    "        Args:\n",
    "            embedding_size (int): size of the embedding vectors\n",
    "            num_embeddings (int): number of embedding vectors\n",
    "            filter_width (int): width of the convolutional kernels\n",
    "            num_channels (int): number of convolutional kernels per layer\n",
    "            hidden_dim (int): the size of the hidden dimension\n",
    "            num_classes (int): the number of classes in classification\n",
    "            dropout_p (float): a dropout parameter \n",
    "            pretrained_embeddings (numpy.array): previously trained word embeddings\n",
    "                default is None. If provided, \n",
    "            padding_idx (int): an index representing a null position\n",
    "        \"\"\"\n",
    "        super(NewsClassifier, self).__init__()\n",
    "        \n",
    "        if pretrained_embeddings is None:\n",
    "            self.emb = nn.Embedding(embedding_dim=embedding_size,   # 100\n",
    "                                    num_embeddings=num_embeddings,  # 3409\n",
    "                                    padding_idx=padding_idx)        \n",
    "            self.emb.weight.requires_grad = True\n",
    "        else:\n",
    "            pretrained_embeddings = torch.from_numpy(pretrained_embeddings).float()\n",
    "            self.emb = nn.Embedding.from_pretrained(pretrained_embeddings, freeze=emb_freeze) # when freeze=True (default), \n",
    "                                                                           # the tensor does not get updated in the learning process\n",
    "                             \n",
    "        # in_channels: embedding_size; out_channels: # of filters; kernel_size = n-gram size\n",
    "        # number of parameters: (# of filters, embedding_size, n-gram size), (100, 100, 2) for 2-gram\n",
    "        self.conv1d_4gram = nn.Conv1d(in_channels=embedding_size, out_channels=num_channels, kernel_size=4)       \n",
    "        self.conv1d_3gram = nn.Conv1d(in_channels=embedding_size, out_channels=num_channels, kernel_size=3)                          \n",
    "        self.conv1d_2gram = nn.Conv1d(in_channels=embedding_size, out_channels=num_channels, kernel_size=2)                   \n",
    "\n",
    "        self._dropout_p = dropout_p\n",
    "        self.fc1 = nn.Linear(num_channels*3, hidden_dim) # input:concatination of conv1d_4gram, conv1d_3gram, conv1d_2gram outputs \n",
    "        self.fc2 = nn.Linear(hidden_dim, num_classes)\n",
    "\n",
    "    def forward(self, x_in, apply_softmax=False):\n",
    "        \"\"\"The forward pass of the classifier\n",
    "        \n",
    "        Args:\n",
    "            x_in (torch.Tensor): an input data tensor. \n",
    "                x_in.shape should be (batch, dataset._max_seq_length)\n",
    "            apply_softmax (bool): a flag for the softmax activation\n",
    "                should be false if used with the Cross Entropy losses\n",
    "        Returns:\n",
    "            the resulting tensor. tensor.shape should be (batch, num_classes)\n",
    "        \"\"\"\n",
    "        \n",
    "        # embed and permute so features are channels\n",
    "        x_embedded = self.emb(x_in).permute(0, 2, 1)    # (batch, seq_len) -> (batch, seq_len, features)\n",
    "                                                        # rearange (batch, seq_len, features) to (batch, features, seq_len) \n",
    "                                                        # E.g.,    (128,   29,      100)      to (128,   100,      29)\n",
    "\n",
    "        features = F.elu(self.conv1d_4gram(x_embedded)) # features: (batch, num_channels, ?); e.g., (128, 100, ?)\n",
    "                                                        # activation function similar to leaky RELU(); can use F.relu() instead\n",
    "        # max/average and remove the extra dimension\n",
    "        remaining_size = features.size(dim=2)          # remaining_size: ? in (batch, num_channels, ?)\n",
    "        features_4gram = F.max_pool1d(features, remaining_size).squeeze(dim=2) # features_4gram: (batch, num_channels);kernel_size=remaining_size   \n",
    "        #features_4gram = F.avg_pool1d(features, remaining_size).squeeze(dim=2)   \n",
    "        \n",
    "        features = F.elu(self.conv1d_3gram(x_embedded)) # features: (batch, num_channels, ?); e.g., (128, 100, ?)\n",
    "        remaining_size = features.size(dim=2)          # remaining_size: ? in (batch, num_channels, ?)\n",
    "        features_3gram = F.max_pool1d(features, remaining_size).squeeze(dim=2)    # features_3gram: (batch, num_channels)\n",
    "\n",
    "        features = F.elu(self.conv1d_2gram(x_embedded)) # features: (batch, num_channels, ?); e.g., (128, 100, ?)\n",
    "        remaining_size = features.size(dim=2)          # remaining_size: ? in (batch, num_channels, ?)\n",
    "        features_2gram = F.max_pool1d(features, remaining_size).squeeze(dim=2)    # features_2gram: (batch, num_channels) \n",
    " \n",
    "        features = torch.cat([features_4gram, features_3gram, features_2gram], dim=1)\n",
    "            \n",
    "        features = F.dropout(features, p=self._dropout_p, training=self.training)\n",
    "        \n",
    "        # mlp classifier\n",
    "        intermediate_vector = F.dropout(F.relu(self.fc1(features)), p=self._dropout_p, training=self.training)\n",
    "        prediction_vector = self.fc2(intermediate_vector)  # (batch, num_classes)\n",
    "\n",
    "        if apply_softmax:\n",
    "            prediction_vector = F.softmax(prediction_vector, dim=1)\n",
    "\n",
    "        return prediction_vector"
   ]
  },
  {
   "cell_type": "markdown",
   "metadata": {},
   "source": [
    "## Training Routine"
   ]
  },
  {
   "cell_type": "markdown",
   "metadata": {},
   "source": [
    "### Helper functions"
   ]
  },
  {
   "cell_type": "code",
   "execution_count": 8,
   "metadata": {},
   "outputs": [],
   "source": [
    "def make_train_state(args):\n",
    "    return {'stop_early': False,\n",
    "            'early_stopping_step': 0,\n",
    "            'early_stopping_best_val': 1e8,\n",
    "            'learning_rate': args.learning_rate,\n",
    "            'epoch_index': 0,\n",
    "            'train_loss': [],\n",
    "            'train_acc': [],\n",
    "            'val_loss': [],\n",
    "            'val_acc': [],\n",
    "            'test_loss': -1,\n",
    "            'test_acc': -1,\n",
    "            'model_filename': args.model_state_file}\n",
    "\n",
    "def update_train_state(args, model, train_state):\n",
    "    \"\"\"Handle the training state updates.\n",
    "\n",
    "    Components:\n",
    "     - Early Stopping: Prevent overfitting.\n",
    "     - Model Checkpoint: Model is saved if the model is better\n",
    "\n",
    "    :param args: main arguments\n",
    "    :param model: model to train\n",
    "    :param train_state: a dictionary representing the training state values\n",
    "    :returns:\n",
    "        a new train_state\n",
    "    \"\"\"\n",
    "\n",
    "    # Save one model at least\n",
    "    if train_state['epoch_index'] == 0:\n",
    "        torch.save(model.state_dict(), train_state['model_filename'])\n",
    "        train_state['stop_early'] = False\n",
    "\n",
    "    # Save model if performance improved\n",
    "    elif train_state['epoch_index'] >= 1:\n",
    "        loss_tm1, loss_t = train_state['val_loss'][-2:]\n",
    "\n",
    "        # If loss worsened\n",
    "        if loss_t >= train_state['early_stopping_best_val']:\n",
    "            # Update step\n",
    "            train_state['early_stopping_step'] += 1\n",
    "        # Loss decreased\n",
    "        else:\n",
    "            # Save the best model\n",
    "            if loss_t < train_state['early_stopping_best_val']:\n",
    "                torch.save(model.state_dict(), train_state['model_filename'])\n",
    "                train_state['early_stopping_best_val'] = loss_t  # update 'early_stopping_best_val'\n",
    "\n",
    "            # Reset early stopping step\n",
    "            train_state['early_stopping_step'] = 0\n",
    "\n",
    "        # Stop early ?\n",
    "        train_state['stop_early'] = \\\n",
    "            train_state['early_stopping_step'] >= args.early_stopping_criteria\n",
    "\n",
    "    return train_state\n",
    "\n",
    "def compute_accuracy(y_pred, y_target):\n",
    "    _, y_pred_indices = y_pred.max(dim=1)\n",
    "    n_correct = torch.eq(y_pred_indices, y_target).sum().item()\n",
    "    return n_correct / len(y_pred_indices) * 100"
   ]
  },
  {
   "cell_type": "markdown",
   "metadata": {},
   "source": [
    "#### general utilities"
   ]
  },
  {
   "cell_type": "code",
   "execution_count": 9,
   "metadata": {},
   "outputs": [],
   "source": [
    "def set_seed_everywhere(seed, cuda, mps):\n",
    "    np.random.seed(seed)\n",
    "    torch.manual_seed(seed)\n",
    "    if cuda:\n",
    "        torch.cuda.manual_seed_all(seed)\n",
    "    try:\n",
    "        if mps:\n",
    "            torch.mps.manual_seed(seed)\n",
    "    except:\n",
    "        pass\n",
    "\n",
    "def handle_dirs(dirpath):\n",
    "    if not os.path.exists(dirpath):\n",
    "        os.makedirs(dirpath)\n",
    "        \n",
    "def load_glove_from_file(glove_filepath):\n",
    "    \"\"\"\n",
    "    Load the GloVe embeddings \n",
    "    \n",
    "    Args:\n",
    "        glove_filepath (str): path to the glove embeddings file \n",
    "    Returns:\n",
    "        word_to_index (dict), embeddings (numpy.ndarary)\n",
    "    \"\"\"\n",
    "\n",
    "    word_to_index = {}\n",
    "    embeddings = []\n",
    "    with open(glove_filepath, \"r\", encoding='utf8') as fp:\n",
    "        for index, line in enumerate(fp):\n",
    "            line = line.split(\" \") # each line: word num1 num2 ...\n",
    "            word_to_index[line[0]] = index # word = line[0] \n",
    "            embedding_i = np.array([float(val) for val in line[1:]])\n",
    "            embeddings.append(embedding_i)\n",
    "    return word_to_index, np.stack(embeddings)\n",
    "\n",
    "def make_embedding_matrix(glove_filepath, words):\n",
    "    \"\"\"\n",
    "    Create embedding matrix for a specific set of words.\n",
    "    \n",
    "    Args:\n",
    "        glove_filepath (str): file path to the glove embeddigns\n",
    "        words (list): list of words in the dataset\n",
    "    \"\"\"\n",
    "    word_to_idx, glove_embeddings = load_glove_from_file(glove_filepath)\n",
    "    embedding_size = glove_embeddings.shape[1]\n",
    "    \n",
    "    final_embeddings = np.zeros((len(words), embedding_size))\n",
    "\n",
    "    for i, word in enumerate(words):\n",
    "        if word in word_to_idx:\n",
    "            final_embeddings[i, :] = glove_embeddings[word_to_idx[word]]\n",
    "        else:\n",
    "            embedding_i = torch.ones(1, embedding_size)\n",
    "            torch.nn.init.xavier_uniform_(embedding_i)\n",
    "            final_embeddings[i, :] = embedding_i\n",
    "\n",
    "    return final_embeddings"
   ]
  },
  {
   "cell_type": "markdown",
   "metadata": {},
   "source": [
    "### Settings and some prep work"
   ]
  },
  {
   "cell_type": "code",
   "execution_count": 10,
   "metadata": {},
   "outputs": [],
   "source": [
    "from argparse import Namespace"
   ]
  },
  {
   "cell_type": "code",
   "execution_count": 11,
   "metadata": {},
   "outputs": [
    {
     "name": "stdout",
     "output_type": "stream",
     "text": [
      "Expanded filepaths: \n",
      "\t../model_storage/News_Category\\model_cnn_News_Category.pth\n",
      "Using CUDA: True\n",
      "Using MPS: False\n"
     ]
    }
   ],
   "source": [
    "args = Namespace(\n",
    "    # Data and Path hyper parameters\n",
    "    news_csv=\"../data/processed/News_Category_Dataset_with_splits.csv\",\n",
    "    model_state_file=\"model_cnn_News_Category.pth\",\n",
    "    save_dir=\"../model_storage/News_Category\",\n",
    "    # Model hyper parameters\n",
    "    glove_filepath='../data/glove/glove.6B.100d.txt', \n",
    "    use_glove=True,\n",
    "    embedding_size=100, \n",
    "    hidden_dim=100, \n",
    "    num_channels=100, \n",
    "    # Training hyper parameter\n",
    "    seed=1337, \n",
    "    learning_rate=0.001, \n",
    "    dropout_p=0.1, \n",
    "    batch_size=64, \n",
    "    num_epochs=100, \n",
    "    emb_freeze=True,\n",
    "    early_stopping_criteria=5, \n",
    "    # Runtime option\n",
    "    cuda=True,\n",
    "    mps=True, \n",
    "    catch_keyboard_interrupt=True, \n",
    "    reload_from_files=False,\n",
    "    expand_filepaths_to_save_dir=True\n",
    ") \n",
    "\n",
    "if args.expand_filepaths_to_save_dir:\n",
    "    args.model_state_file = os.path.join(args.save_dir,\n",
    "                                         args.model_state_file)    \n",
    "    print(\"Expanded filepaths: \")\n",
    "    print(\"\\t{}\".format(args.model_state_file))\n",
    "    \n",
    "# Check CUDA for Nvidia\n",
    "if not torch.cuda.is_available():\n",
    "    args.cuda = False\n",
    "\n",
    "# Check MPS for Mac\n",
    "if not torch.backends.mps.is_available():\n",
    "    args.mps = False\n",
    "\n",
    "args.device = torch.device(\"cuda\" if args.cuda else \"mps\" if args.mps else \"cpu\")\n",
    "print(\"Using CUDA: {}\".format(args.cuda))\n",
    "print(\"Using MPS: {}\".format(args.mps))\n",
    "\n",
    "# Set seed for reproducibility\n",
    "set_seed_everywhere(args.seed, args.cuda, args.mps)\n",
    "\n",
    "# handle dirs\n",
    "handle_dirs(args.save_dir)"
   ]
  },
  {
   "cell_type": "markdown",
   "metadata": {},
   "source": [
    "### Initializations"
   ]
  },
  {
   "cell_type": "code",
   "execution_count": 12,
   "metadata": {},
   "outputs": [
    {
     "name": "stdout",
     "output_type": "stream",
     "text": [
      "Using pre-trained embeddings\n"
     ]
    }
   ],
   "source": [
    "# create dataset and vectorizer\n",
    "dataset = NewsDataset.load_dataset_and_make_vectorizer(args.news_csv)\n",
    "vectorizer = dataset.get_vectorizer()\n",
    "\n",
    "# Use GloVe or randomly initialized embeddings\n",
    "if args.use_glove:\n",
    "    words = vectorizer.news_vocab._token_to_idx.keys()  # 3409 unique words\n",
    "    embeddings = make_embedding_matrix(glove_filepath=args.glove_filepath,     # embeddings: (3409, 100)\n",
    "                                       words=words)\n",
    "    print(\"Using pre-trained embeddings\")\n",
    "else:\n",
    "    print(\"Not using pre-trained embeddings\")\n",
    "    embeddings = None"
   ]
  },
  {
   "cell_type": "code",
   "execution_count": 13,
   "metadata": {},
   "outputs": [
    {
     "name": "stdout",
     "output_type": "stream",
     "text": [
      "{'<MASK>': 0, '<UNK>': 1, '<BEGIN>': 2, '<END>': 3, 'sue': 4, 'drug': 5, 'republican': 6, 'governor': 7, 'bush': 8, 'administration': 9, 'policy': 10, 'federal': 11, 'court': 12, 'yesterday': 13, 'first': 14, 'time': 15, 'state': 16, 'legal': 17, 'battle': 18, 'canadian': 19, 'uk': 20, 'poor': 21, 'nation': 22, 'debt': 23, 'brown': 24, 'say': 25, 'share': 26, 'world': 27, 'country': 28, 'bank': 29, 'two': 30, 'hurricane': 31, 'many': 32, 'area': 33, 'suffered': 34, 'double': 35, 'blow': 36, 'france': 37, 'struck': 38, 'financial': 39, 'one': 40, 'insurance': 41, 'selling': 42, 'news': 43, 'international': 44, 'inc': 45, 'quote': 46, 'profile': 47, 'research': 48, 'jumped': 49, 'percent': 50, 'since': 51, 'early': 52, 'last': 53, 'week': 54, 'gun': 55, 'maker': 56, 'issued': 57, 'announcement': 58, 'brand': 59, 'offer': 60, 'billion': 61, 'update': 62, 'largest': 63, 'offered': 64, 'cash': 65, 'acquire': 66, 'robert': 67, 'corp': 68, 'lower': 69, 'price': 70, 'amp': 71, 'p': 72, 'slide': 73, 'nasdaq': 74, 'dow': 75, 'rise': 76, 'standard': 77, 'stock': 78, 'index': 79, 'three': 80, 'year': 81, 'high': 82, 'energy': 83, 'including': 84, 'crude': 85, 'oil': 86, 'dropped': 87, 'almost': 88, 'month': 89, 'buyer': 90, 'interest': 91, 'irish': 92, 'sydney': 93, 'national': 94, 'australia': 95, 'ltd': 96, 'biggest': 97, 'struggling': 98, 'prepared': 99, 'part': 100, 'european': 101, 'market': 102, 'u': 103, 'want': 104, 'named': 105, 'united': 106, 'pension': 107, 'aug': 108, 'ap': 109, 'airline': 110, 'plan': 111, 'company': 112, 'labor': 113, 'department': 114, 'said': 115, 'tuesday': 116, 'air': 117, 'pilot': 118, 'union': 119, 'benefit': 120, 'cut': 121, 'leader': 122, 'rebel': 123, 'group': 124, 'airway': 125, 'charged': 126, 'much': 127, 'employee': 128, 'oracle': 129, 'sweet': 130, 'peoplesoft': 131, 'hostile': 132, 'bid': 133, 'rival': 134, 'business': 135, 'software': 136, 'increase': 137, 'aimed': 138, 'long': 139, 'running': 140, 'takeover': 141, 'economic': 142, 'declined': 143, 'july': 144, 'measure': 145, 'future': 146, 'activity': 147, 'fell': 148, 'second': 149, 'consecutive': 150, 'evidence': 151, 'recovery': 152, 'general': 153, 'motor': 154, 'europe': 155, 'job': 156, 'gm': 157, 'n': 158, 'around': 159, 'fifth': 160, 'american': 161, 'eagle': 162, 'reach': 163, 'deal': 164, 'division': 165, 'contract': 166, 'agreement': 167, 'pay': 168, 'raise': 169, 'agree': 170, 'hotel': 171, 'bankruptcy': 172, 'thursday': 173, 'approved': 174, 'dollar': 175, 'record': 176, 'low': 177, 'euro': 178, 'currency': 179, 'gas': 180, 'supply': 181, 'data': 182, 'due': 183, 'san': 184, 'francisco': 185, 'cbs': 186, 'mw': 187, 'rally': 188, 'fresh': 189, 'gain': 190, 'four': 191, 'session': 192, 'pulled': 193, 'barrel': 194, 'higher': 195, 'wednesday': 196, 'ibm': 197, 'sell': 198, 'pc': 199, 'stake': 200, 'china': 201, 'computer': 202, 'today': 203, 'machine': 204, 'personal': 205, 'chinese': 206, 'acquisition': 207, 'ever': 208, 'profit': 209, 'good': 210, 'co': 211, 'monday': 212, 'posted': 213, 'better': 214, 'expected': 215, 'sending': 216, 'near': 217, 'heavy': 218, 'product': 219, 'sale': 220, 'flat': 221, 'retail': 222, 'opened': 223, 'little': 224, 'concern': 225, 'corporate': 226, 'investor': 227, 'also': 228, 'income': 229, 'take': 230, 'hit': 231, 'family': 232, 'become': 233, 'victim': 234, 'fannie': 235, 'mae': 236, 'official': 237, 'mission': 238, 'rate': 239, 'capital': 240, 'available': 241, 'mortgage': 242, 'loan': 243, 'panel': 244, 'seek': 245, 'limit': 246, 'commission': 247, 'industry': 248, 'executive': 249, 'issue': 250, 'report': 251, 'call': 252, 'linked': 253, 'global': 254, 'set': 255, 'fuel': 256, 'economy': 257, 'nuclear': 258, 'power': 259, 'outside': 260, 'milan': 261, 'judge': 262, 'ruled': 263, 'former': 264, 'stand': 265, 'trial': 266, 'january': 267, 'collapse': 268, 'italian': 269, 'food': 270, 'sec': 271, 'charge': 272, 'ex': 273, 'fraud': 274, 'washington': 275, 'reuters': 276, 'security': 277, 'exchange': 278, 'filed': 279, 'civil': 280, 'six': 281, 'senior': 282, 'officer': 283, 'system': 284, 'href': 285, 'target': 286, 'quickinfo': 287, 'fullquote': 288, 'cover': 289, 'massive': 290, 'accounting': 291, 'technology': 292, 'fda': 293, 'vioxx': 294, 'result': 295, 'expert': 296, 'agency': 297, 'study': 298, 'showing': 299, 'potential': 300, 'anti': 301, 'credit': 302, 'card': 303, 'keep': 304, 'eye': 305, 'may': 306, 'northwest': 307, 'ticket': 308, 'fee': 309, 'suit': 310, 'travel': 311, 'network': 312, 'district': 313, 'minnesota': 314, 'make': 315, 'carrier': 316, 'worker': 317, 'germany': 318, 'hold': 319, 'major': 320, 'protest': 321, 'ahead': 322, 'talk': 323, 'thousand': 324, 'german': 325, 'car': 326, 'giant': 327, 'held': 328, 'crucial': 329, 'round': 330, 'work': 331, 'council': 332, 'eu': 333, 'clear': 334, 'water': 335, 'row': 336, 'trade': 337, 'chief': 338, 'peter': 339, 'threatened': 340, 'action': 341, 'aid': 342, 'airbus': 343, 'friday': 344, 'toshiba': 345, 'image': 346, 'chip': 347, 'firm': 348, 'tokyo': 349, 'oct': 350, 'manufacturing': 351, 'end': 352, 'semiconductor': 353, 'expects': 354, 'think': 355, 'entertainment': 356, 'nyse': 357, 'could': 358, 'late': 359, 'operator': 360, 'merger': 361, 'partner': 362, 'social': 363, 'reform': 364, 'fund': 365, 'new': 366, 'york': 367, 'believe': 368, 'president': 369, 'handed': 370, 'mutual': 371, 'fall': 372, 'warns': 373, 'drop': 374, 'quarterly': 375, 'warned': 376, 'top': 377, 'strike': 378, 'southern': 379, 'california': 380, 'front': 381, 'page': 382, 'v': 383, 'main': 384, 'reason': 385, 'people': 386, 'quot': 387, 'look': 388, 'million': 389, 'mining': 390, 'resource': 391, 'agreed': 392, 'worth': 393, 'retailer': 394, 'post': 395, 'holiday': 396, 'england': 397, 'right': 398, 'test': 399, 'hand': 400, 'face': 401, 'store': 402, 'sunday': 403, 'nov': 404, 'david': 405, 'management': 406, 'television': 407, 'production': 408, 'studio': 409, 'joint': 410, 'venture': 411, 'limited': 412, 'value': 413, 'crm': 414, 'congress': 415, 'told': 416, 'failed': 417, 'public': 418, 'merck': 419, 'america': 420, 'another': 421, 'researcher': 422, 'fired': 423, 'bad': 424, 'half': 425, 'forecast': 426, 'fix': 427, 'meet': 428, 'paris': 429, 'discus': 430, 'ipo': 431, 'board': 432, 'meeting': 433, 'consider': 434, 'private': 435, 'independent': 436, 'investment': 437, 'buy': 438, 'google': 439, 'debut': 440, 'seattle': 441, 'made': 442, 'awaited': 443, 'rising': 444, 'sharply': 445, 'initial': 446, 'offering': 447, 'die': 448, 'delta': 449, 'line': 450, 'latest': 451, 'show': 452, 'point': 453, 'analyst': 454, 'must': 455, 'decide': 456, 'file': 457, 'daily': 458, 'michael': 459, 'appeared': 460, 'day': 461, 'shareholder': 462, 'lawsuit': 463, 'package': 464, 'ask': 465, 'emergency': 466, 'reached': 467, 'arthritis': 468, 'would': 469, 'stop': 470, 'found': 471, 'patient': 472, 'risk': 473, 'heart': 474, 'attack': 475, 'stroke': 476, 'added': 477, 'september': 478, 'unemployment': 479, 'according': 480, 'survey': 481, 'still': 482, 'q': 483, 'b': 484, 'despite': 485, 'effort': 486, 'growth': 487, 'domestic': 488, 'per': 489, 'cent': 490, 'quarter': 491, 'government': 492, 'reported': 493, 'bell': 494, 'army': 495, 'kick': 496, 'annual': 497, 'red': 498, 'program': 499, 'growing': 500, 'number': 501, 'best': 502, 'moved': 503, 'trading': 504, 'rose': 505, 'august': 506, 'previous': 507, 'inventory': 508, 'decline': 509, 'ceo': 510, 'leaf': 511, 'troubled': 512, 'aircraft': 513, 'saw': 514, 'toronto': 515, 'announced': 516, 'paul': 517, 'ford': 518, 'give': 519, 'lift': 520, 'blue': 521, 'advanced': 522, 'raised': 523, 'earnings': 524, 'wireless': 525, 'provider': 526, 'saying': 527, 'review': 528, 'reduce': 529, 'cisco': 530, 'lead': 531, 'tech': 532, 'doubt': 533, 'brokerage': 534, 'slow': 535, 'next': 536, 'dec': 537, 'bit': 538, 'though': 539, 'condition': 540, 'sound': 541, 'india': 542, 'unit': 543, 'electric': 544, 'indian': 545, 'arm': 546, 'chicago': 547, 'club': 548, 'cost': 549, 'possible': 550, 'war': 551, 'fate': 552, 'along': 553, 'way': 554, 'side': 555, 'regulator': 556, 'houston': 557, 'plant': 558, 'device': 559, 'broker': 560, 'shot': 561, 'called': 562, 'investigation': 563, 'turned': 564, 'old': 565, 'truck': 566, 'soldier': 567, 'wife': 568, 'decided': 569, 'bring': 570, 'back': 571, 'virginia': 572, 'home': 573, 'jump': 574, 'defense': 575, 'third': 576, 'led': 577, 'big': 578, 'rebound': 579, 'stay': 580, 'rich': 581, 'likely': 582, 'demand': 583, 'head': 584, 'move': 585, 'seeking': 586, 'money': 587, 'paid': 588, 'book': 589, 'protection': 590, 'owner': 591, 'help': 592, 'like': 593, 'amazon': 594, 'com': 595, 'mean': 596, 'change': 597, 'october': 598, 'start': 599, 'phone': 600, 'planning': 601, 'huge': 602, 'project': 603, 'sanction': 604, 'following': 605, 'export': 606, 'tax': 607, 'net': 608, 'enron': 609, 'get': 610, 'full': 611, 'nearly': 612, 'see': 613, 'thanks': 614, 'pressure': 615, 'corporation': 616, 'kodak': 617, 'team': 618, 'camera': 619, 'rating': 620, 'ny': 621, 'develop': 622, 'mass': 623, 'consumer': 624, 'digital': 625, 'kansa': 626, 'begin': 627, 'recent': 628, 'name': 629, 'ring': 630, 'resident': 631, 'local': 632, 'candidate': 633, 'room': 634, 'debate': 635, 'electronics': 636, 'manufacturer': 637, 'stronger': 638, 'electronic': 639, 'zealand': 640, 'jones': 641, 'current': 642, 'hope': 643, 'sprint': 644, 'asset': 645, 'traditional': 646, 'le': 647, 'marketing': 648, 'service': 649, 'victory': 650, 'wall': 651, 'street': 652, 'threw': 653, 'even': 654, 'control': 655, 'surge': 656, 'picked': 657, 'speed': 658, 'improving': 659, 'strong': 660, 'spending': 661, 'performance': 662, 'paper': 663, 'loses': 664, 'jet': 665, 'lost': 666, 'regional': 667, 'key': 668, 'saturday': 669, 'developing': 670, 'turn': 671, 'decade': 672, 'continue': 673, 'solid': 674, 'expansion': 675, 'beating': 676, 'expectation': 677, 'r': 678, 'van': 679, 'associate': 680, 'manager': 681, 'connection': 682, 'singapore': 683, 'violence': 684, 'iraq': 685, 'find': 686, 'county': 687, 'producer': 688, 'game': 689, 'ago': 690, 'boost': 691, 'processor': 692, 'option': 693, 'open': 694, 'opec': 695, 'iran': 696, 'tehran': 697, 'cutting': 698, 'minister': 699, 'response': 700, 'sharp': 701, 'final': 702, 'presidential': 703, 'election': 704, 'toy': 705, 'safety': 706, 'child': 707, 'received': 708, 'breaking': 709, 'five': 710, 'started': 711, 'broken': 712, 'city': 713, 'used': 714, 'sought': 715, 'dog': 716, 'park': 717, 'let': 718, 'run': 719, 'without': 720, 'appeal': 721, 'reject': 722, 'asbestos': 723, 'settlement': 724, 'rejected': 725, 'swiss': 726, 'win': 727, 'boosted': 728, 'health': 729, 'defence': 730, 'seen': 731, 'george': 732, 'w': 733, 'advance': 734, 'bond': 735, 'th': 736, 'amid': 737, 'fourth': 738, 'related': 739, 'sent': 740, 'highest': 741, 'level': 742, 'go': 743, 'getting': 744, 'every': 745, 'ready': 746, 'night': 747, 'rest': 748, 'dream': 749, 'britain': 750, 'british': 751, 'began': 752, 'office': 753, 'defending': 754, 'afp': 755, 'facing': 756, 'track': 757, 'revenue': 758, 'doctor': 759, 'dozen': 760, 'relief': 761, 'flight': 762, 'schedule': 763, 'philadelphia': 764, 'create': 765, 'fla': 766, 'settle': 767, 'sept': 768, 'banking': 769, 'brother': 770, 'holding': 771, 'trader': 772, 'source': 773, 'familiar': 774, 'case': 775, 'announces': 776, 'australian': 777, 'customer': 778, 'indianapolis': 779, 'filing': 780, 'alliance': 781, 'proposed': 782, 'fan': 783, 'boston': 784, 'rule': 785, 'taking': 786, 'foot': 787, 'add': 788, 'adding': 789, 'slightly': 790, 'twice': 791, 'web': 792, 'search': 793, 'leading': 794, 'based': 795, 'reportedly': 796, 'alleged': 797, 'conflict': 798, 'sign': 799, 'house': 800, 'property': 801, 'canada': 802, 'looking': 803, 'whether': 804, 'patch': 805, 'decision': 806, 'information': 807, 'fcc': 808, 'mobile': 809, 'use': 810, 'although': 811, 'cell': 812, 'ban': 813, 'remained': 814, 'place': 815, 'given': 816, 'confidence': 817, 'middle': 818, 'ease': 819, 'remain': 820, 'earlier': 821, 'increased': 822, 'fighting': 823, 'nigeria': 824, 'forced': 825, 'several': 826, 'fiscal': 827, 'helped': 828, 'witness': 829, 'lawyer': 830, 'client': 831, 'scandal': 832, 'message': 833, 'site': 834, 'staff': 835, 'release': 836, 'non': 837, 'later': 838, 'g': 839, 'worry': 840, 'peace': 841, 'thought': 842, 'warning': 843, 'operation': 844, 'short': 845, 'estimate': 846, 'advertising': 847, 'loss': 848, 'impact': 849, 'newspaper': 850, 'florida': 851, 'georgia': 852, 'deficit': 853, 'budget': 854, 'step': 855, 'support': 856, 'weather': 857, 'competition': 858, 'vehicle': 859, 'road': 860, 'auto': 861, 'f': 862, 'gold': 863, 'lifted': 864, 'london': 865, 'seven': 866, 'finance': 867, 'inflation': 868, 'fear': 869, 'close': 870, 'welcome': 871, 'black': 872, 'french': 873, 'disney': 874, 'tv': 875, 'los': 876, 'angeles': 877, 'walt': 878, 'movie': 879, 'stewart': 880, 'try': 881, 'base': 882, 'damage': 883, 'falling': 884, 'class': 885, 'opening': 886, 'treatment': 887, 'disease': 888, 'developer': 889, 'mark': 890, 'plc': 891, 'sea': 892, 'dutch': 893, 'grew': 894, 'pace': 895, 'expand': 896, 'capacity': 897, 'iraqi': 898, 'st': 899, 'eight': 900, 'south': 901, 'korean': 902, 'ivory': 903, 'coast': 904, 'kept': 905, 'edge': 906, 'reserve': 907, 'course': 908, 'matter': 909, 'hearing': 910, 'pact': 911, 'making': 912, 'japan': 913, 'come': 914, 'drive': 915, 'yen': 916, 'nikkei': 917, 'japanese': 918, 'sector': 919, 'additional': 920, 'e': 921, 'march': 922, 'already': 923, 'suspension': 924, 'michigan': 925, 'allow': 926, 'communication': 927, 'internet': 928, 'terrorist': 929, 'attorney': 930, 'l': 931, 'secret': 932, 'jersey': 933, 'term': 934, 'hospital': 935, 'special': 936, 'carry': 937, 'saving': 938, 'medical': 939, 'ivan': 940, 'popular': 941, 'traffic': 942, 'wake': 943, 'material': 944, 'great': 945, 'return': 946, 'aol': 947, 'online': 948, 'law': 949, 'known': 950, 'instant': 951, 'account': 952, 'photo': 953, 'film': 954, 'lab': 955, 'focus': 956, 'order': 957, 'saudi': 958, 'large': 959, 'indonesia': 960, 'seventh': 961, 'accused': 962, 'insurer': 963, 'push': 964, 'airport': 965, 'weekend': 966, 'linux': 967, 'shift': 968, 'camp': 969, 'tough': 970, 'microsoft': 971, 'operating': 972, 'steve': 973, 'ballmer': 974, 'bos': 975, 'verizon': 976, 'nextel': 977, 'opposition': 978, 'vice': 979, 'chairman': 980, 'charles': 981, 'university': 982, 'school': 983, 'launched': 984, 'desktop': 985, 'sold': 986, 'bn': 987, 'confirmed': 988, 'hard': 989, 'kmart': 990, 'super': 991, 'chain': 992, 'celtic': 993, 'auction': 994, 'russia': 995, 'faster': 996, 'showed': 997, 'gave': 998, 'peer': 999, 'africa': 1000, 'needed': 1001, 'foreign': 1002, 'baltimore': 1003, 'quit': 1004, 'putting': 1005, 'history': 1006, 'delay': 1007, 'commissioner': 1008, 'dispute': 1009, 'boeing': 1010, 'hike': 1011, 'detroit': 1012, 'model': 1013, 'force': 1014, 'white': 1015, 'asked': 1016, 'justice': 1017, 'secretary': 1018, 'james': 1019, 'proposal': 1020, 'backed': 1021, 'rescue': 1022, 'deputy': 1023, 'took': 1024, 'intel': 1025, 'defeat': 1026, 'amd': 1027, 'attempt': 1028, 'trust': 1029, 'asian': 1030, 'mixed': 1031, 'hong': 1032, 'kong': 1033, 'finished': 1034, 'positive': 1035, 'outlook': 1036, 'successful': 1037, 'ad': 1038, 'era': 1039, 'effect': 1040, 'owned': 1041, 'became': 1042, 'newly': 1043, 'steel': 1044, 'separate': 1045, 'continues': 1046, 'behind': 1047, 'play': 1048, 'bill': 1049, 'gate': 1050, 'hoping': 1051, 'among': 1052, 'style': 1053, 'young': 1054, 'student': 1055, 'parent': 1056, 'fire': 1057, 'spanish': 1058, 'buying': 1059, 'nine': 1060, 'central': 1061, 'preliminary': 1062, 'approval': 1063, 'wal': 1064, 'mart': 1065, 'member': 1066, 'build': 1067, 'john': 1068, 'passenger': 1069, 'warner': 1070, 'medium': 1071, 'inquiry': 1072, 'strategy': 1073, 'louis': 1074, 'publisher': 1075, 'arizona': 1076, 'considering': 1077, 'interview': 1078, 'output': 1079, 'au': 1080, 'quickly': 1081, 'link': 1082, 'race': 1083, 'generation': 1084, 'howard': 1085, 'stern': 1086, 'satellite': 1087, 'radio': 1088, 'shock': 1089, 'industrial': 1090, 'toward': 1091, 'looked': 1092, 'brazil': 1093, 'brazilian': 1094, 'suspended': 1095, 'pfizer': 1096, 'professional': 1097, 'campaign': 1098, 'director': 1099, 'leaving': 1100, 'cancer': 1101, 'left': 1102, 'raising': 1103, 'zone': 1104, 'fed': 1105, 'plea': 1106, 'southeast': 1107, 'morning': 1108, 'position': 1109, 'committee': 1110, 'problem': 1111, 'range': 1112, 'struggle': 1113, 'building': 1114, 'coming': 1115, 'commercial': 1116, 'announce': 1117, 'form': 1118, 'korea': 1119, 'preparing': 1120, 'read': 1121, 'channel': 1122, 'view': 1123, 'november': 1124, 'cross': 1125, 'border': 1126, 'confirms': 1127, 'average': 1128, 'away': 1129, 'declared': 1130, 'regular': 1131, 'status': 1132, 'whose': 1133, 'fine': 1134, 'probe': 1135, 'tell': 1136, 'continued': 1137, 'speculation': 1138, 'threat': 1139, 'starting': 1140, 'aim': 1141, 'slip': 1142, 'surprise': 1143, 'urge': 1144, 'terror': 1145, 'guard': 1146, 'fight': 1147, 'video': 1148, 'hot': 1149, 'driver': 1150, 'spain': 1151, 'yet': 1152, 'engine': 1153, 'afternoon': 1154, 'field': 1155, 'revealed': 1156, 'hat': 1157, 'jr': 1158, 'june': 1159, 'prison': 1160, 'cable': 1161, 'enterprise': 1162, 'pull': 1163, 'ireland': 1164, 'ruling': 1165, 'losing': 1166, 'formula': 1167, 'well': 1168, 'summer': 1169, 'shopping': 1170, 'pound': 1171, 'ending': 1172, 'mouse': 1173, 'real': 1174, 'might': 1175, 'christmas': 1176, 'tree': 1177, 'reporter': 1178, 'memory': 1179, 'serious': 1180, 'least': 1181, 'tie': 1182, 'closing': 1183, 'put': 1184, 'stem': 1185, 'region': 1186, 'note': 1187, 'turkish': 1188, 'progress': 1189, 'turkey': 1190, 'longer': 1191, 'block': 1192, 'ended': 1193, 'storm': 1194, 'mid': 1195, 'brought': 1196, 'moment': 1197, 'finding': 1198, 'perhaps': 1199, 'antitrust': 1200, 'smith': 1201, 'purchase': 1202, 'figure': 1203, 'expect': 1204, 'remains': 1205, 'signed': 1206, 'development': 1207, 'total': 1208, 'enough': 1209, 'increasing': 1210, 'chance': 1211, 'winning': 1212, 'closed': 1213, 'texas': 1214, 'introduced': 1215, 'pitch': 1216, 'provide': 1217, 'mac': 1218, 'straight': 1219, 'lack': 1220, 'cold': 1221, 'december': 1222, 'care': 1223, 'johnson': 1224, 'word': 1225, 'founder': 1226, 'associated': 1227, 'subscriber': 1228, 'vote': 1229, 'appears': 1230, 'son': 1231, 'promise': 1232, 'political': 1233, 'code': 1234, 'rock': 1235, 'forward': 1236, 'negotiation': 1237, 'labour': 1238, 'planned': 1239, 'period': 1240, 'giving': 1241, 'north': 1242, 'watchdog': 1243, 'others': 1244, 'tool': 1245, 'factory': 1246, 'star': 1247, 'partnership': 1248, 'unless': 1249, 'ally': 1250, 'far': 1251, 'deep': 1252, 'turning': 1253, 'rout': 1254, 'bus': 1255, 'improve': 1256, 'tour': 1257, 'got': 1258, 'version': 1259, 'wi': 1260, 'fi': 1261, 'successor': 1262, 'access': 1263, 'putin': 1264, 'russian': 1265, 'vladimir': 1266, 'telephone': 1267, 'sure': 1268, 'land': 1269, 'mar': 1270, 'challenge': 1271, 'woman': 1272, 'deadline': 1273, 'pass': 1274, 'free': 1275, 'complete': 1276, 'currently': 1277, 'instead': 1278, 'hour': 1279, 'season': 1280, 'send': 1281, 'lawmaker': 1282, 'grand': 1283, 'jury': 1284, 'success': 1285, 'produce': 1286, 'life': 1287, 'authority': 1288, 'important': 1289, 'prime': 1290, 'display': 1291, 'symantec': 1292, 'storage': 1293, 'soon': 1294, 'calling': 1295, 'person': 1296, 'worldwide': 1297, 'designed': 1298, 'green': 1299, 'wave': 1300, 'going': 1301, 'critical': 1302, 'treasury': 1303, 'astronaut': 1304, 'moon': 1305, 'beyond': 1306, 'asia': 1307, 'eastern': 1308, 'released': 1309, 'break': 1310, 'small': 1311, 'list': 1312, 'shopper': 1313, 'carolina': 1314, 'edition': 1315, 'yukos': 1316, 'application': 1317, 'apple': 1318, 'hundred': 1319, 'equipment': 1320, 'resigned': 1321, 'avoid': 1322, 'speech': 1323, 'forest': 1324, 'retirement': 1325, 'statement': 1326, 'phelps': 1327, 'mine': 1328, 'process': 1329, 'allegation': 1330, 'allowed': 1331, 'certain': 1332, 'recall': 1333, 'body': 1334, 'organization': 1335, 'stage': 1336, 'idea': 1337, 'chart': 1338, 'claim': 1339, 'supercomputer': 1340, 'fastest': 1341, 'developed': 1342, 'cingular': 1343, 'hurt': 1344, 'admitted': 1345, 'controversial': 1346, 'al': 1347, 'played': 1348, 'caused': 1349, 'rocket': 1350, 'science': 1351, 'cause': 1352, 'wide': 1353, 'ebay': 1354, 'recently': 1355, 'sony': 1356, 'portable': 1357, 'launch': 1358, 'claimed': 1359, 'helping': 1360, 'ground': 1361, 'age': 1362, 'taken': 1363, 'beat': 1364, 'c': 1365, 'created': 1366, 'association': 1367, 'gap': 1368, 'bay': 1369, 'kerry': 1370, 'easy': 1371, 'ranked': 1372, 'sixth': 1373, 'royal': 1374, 'winner': 1375, 'lot': 1376, 'voice': 1377, 'telecom': 1378, 'african': 1379, 'dramatic': 1380, 'tap': 1381, 'larry': 1382, 'lay': 1383, 'criminal': 1384, 'chase': 1385, 'west': 1386, 'king': 1387, 'spokesman': 1388, 'surgery': 1389, 'jose': 1390, 'calif': 1391, 'size': 1392, 'came': 1393, 'closer': 1394, 'goal': 1395, 'belief': 1396, 'pm': 1397, 'urged': 1398, 'argentina': 1399, 'document': 1400, 'space': 1401, 'different': 1402, 'protect': 1403, 'samsung': 1404, 'safe': 1405, 'halo': 1406, 'score': 1407, 'broke': 1408, 'licensing': 1409, 'supreme': 1410, 'winter': 1411, 'ok': 1412, 'save': 1413, 'picture': 1414, 'fish': 1415, 'mile': 1416, 'river': 1417, 'pacific': 1418, 'j': 1419, 'suggests': 1420, 'cp': 1421, 'setting': 1422, 'injury': 1423, 'detail': 1424, 'replace': 1425, 'plus': 1426, 'light': 1427, 'self': 1428, 'senate': 1429, 'guilty': 1430, 'within': 1431, 'interim': 1432, 'pre': 1433, 'check': 1434, 'century': 1435, 'act': 1436, 'allows': 1437, 'bar': 1438, 'dvd': 1439, 'together': 1440, 'bridge': 1441, 'oakland': 1442, 'plane': 1443, 'northern': 1444, 'dell': 1445, 'extended': 1446, 'donald': 1447, 'suicide': 1448, 'join': 1449, 'crowd': 1450, 'thing': 1451, 'town': 1452, 'titan': 1453, 'illegal': 1454, 'internal': 1455, 'practice': 1456, 'terrorism': 1457, 'comment': 1458, 'tomorrow': 1459, 'suspected': 1460, 'format': 1461, 'box': 1462, 'server': 1463, 'ball': 1464, 'bowl': 1465, 'kid': 1466, 'individual': 1467, 'discovered': 1468, 'question': 1469, 'nortel': 1470, 'facility': 1471, 'sun': 1472, 'moscow': 1473, 'battery': 1474, 'man': 1475, 'mp': 1476, 'twin': 1477, 'nintendo': 1478, 'handheld': 1479, 'upgrade': 1480, 'know': 1481, 'press': 1482, 'conference': 1483, 'user': 1484, 'testing': 1485, 'spot': 1486, 'cabinet': 1487, 'philippine': 1488, 'living': 1489, 'mexico': 1490, 'watch': 1491, 'hear': 1492, 'extend': 1493, 'attention': 1494, 'fast': 1495, 'community': 1496, 'walk': 1497, 'mount': 1498, 'leave': 1499, 'using': 1500, 'negotiator': 1501, 'series': 1502, 'western': 1503, 'previously': 1504, 'express': 1505, 'port': 1506, 'virgin': 1507, 'went': 1508, 'ministry': 1509, 'shell': 1510, 'tom': 1511, 'mother': 1512, 'er': 1513, 'lee': 1514, 'station': 1515, 'need': 1516, 'patent': 1517, 'overhaul': 1518, 'creating': 1519, 'dallas': 1520, 'jail': 1521, 'human': 1522, 'scientist': 1523, 'published': 1524, 'agrees': 1525, 'verdana': 1526, 'm': 1527, 'sans': 1528, 'serif': 1529, 'arial': 1530, 'helvetica': 1531, 'color': 1532, 'font': 1533, 'past': 1534, 'feature': 1535, 'death': 1536, 'flu': 1537, 'italy': 1538, 'tim': 1539, 'apparently': 1540, 'miami': 1541, 'voting': 1542, 'miss': 1543, 'improved': 1544, 'missed': 1545, 'classic': 1546, 'music': 1547, 'pick': 1548, 'networking': 1549, 'prosecutor': 1550, 'count': 1551, 'beijing': 1552, 'draw': 1553, 'similar': 1554, 'trying': 1555, 'able': 1556, 'ordered': 1557, 'core': 1558, 'diego': 1559, 'worst': 1560, 'crisis': 1561, 'title': 1562, 'bear': 1563, 'live': 1564, 'vendor': 1565, 'screen': 1566, 'wounded': 1567, 'piracy': 1568, 'sharing': 1569, 'copyright': 1570, 'event': 1571, 'x': 1572, 'scheduled': 1573, 'center': 1574, 'master': 1575, 'suspect': 1576, 'opportunity': 1577, 'host': 1578, 'choice': 1579, 'weapon': 1580, 'hole': 1581, 'beginning': 1582, 'notebook': 1583, 'un': 1584, 'resolution': 1585, 'roundup': 1586, 'never': 1587, 'story': 1588, 'crash': 1589, 'request': 1590, 'tennessee': 1591, 'la': 1592, 'agent': 1593, 'resume': 1594, 'deadly': 1595, 'date': 1596, 'ten': 1597, 'enter': 1598, 'nobel': 1599, 'dominated': 1600, 'prize': 1601, 'hall': 1602, 'ipod': 1603, 'broadband': 1604, 'unveiled': 1605, 'smaller': 1606, 'flying': 1607, 'yahoo': 1608, 'content': 1609, 'killing': 1610, 'killed': 1611, 'visit': 1612, 'ran': 1613, 'troop': 1614, 'glazer': 1615, 'died': 1616, 'wait': 1617, 'recording': 1618, 'crime': 1619, 'passed': 1620, 'smart': 1621, 'laden': 1622, 'east': 1623, 'champion': 1624, 'song': 1625, 'wrap': 1626, 'across': 1627, 'hollywood': 1628, 'failure': 1629, 'done': 1630, 'download': 1631, 'stadium': 1632, 'eighth': 1633, 'powerful': 1634, 'cap': 1635, 'mail': 1636, 'feared': 1637, 'really': 1638, 'moving': 1639, 'lose': 1640, 'ohio': 1641, 'microsystems': 1642, 'colorado': 1643, 'bomb': 1644, 'military': 1645, 'jakarta': 1646, 'venezuela': 1647, 'cardinal': 1648, 'spyware': 1649, 'seat': 1650, 'athens': 1651, 'olympics': 1652, 'threatening': 1653, 'novell': 1654, 'martin': 1655, 'placed': 1656, 'fly': 1657, 'wind': 1658, 'province': 1659, 'abuse': 1660, 'preview': 1661, 'palmone': 1662, 'built': 1663, 'player': 1664, 'ship': 1665, 'bringing': 1666, 'fox': 1667, 'ray': 1668, 'palestinian': 1669, 'working': 1670, 'direct': 1671, 'surface': 1672, 'offensive': 1673, 'wrong': 1674, 'believed': 1675, 'something': 1676, 'friend': 1677, 'browser': 1678, 'najaf': 1679, 'sport': 1680, 'pro': 1681, 'oklahoma': 1682, 'priority': 1683, 'secure': 1684, 'blair': 1685, 'tony': 1686, 'indiana': 1687, 'dead': 1688, 'missing': 1689, 'flood': 1690, 'opponent': 1691, 'tonight': 1692, 'flaw': 1693, 'voter': 1694, 'poll': 1695, 'veteran': 1696, 'party': 1697, 'myanmar': 1698, 'broadcast': 1699, 'single': 1700, 'arrested': 1701, 'college': 1702, 'democratic': 1703, 'saddam': 1704, 'door': 1705, 'manchester': 1706, 'blame': 1707, 'finish': 1708, 'worm': 1709, 'finally': 1710, 'website': 1711, 'davis': 1712, 'spent': 1713, 'shanghai': 1714, 'premier': 1715, 'appear': 1716, 'disc': 1717, 'streak': 1718, 'men': 1719, 'israel': 1720, 'gaza': 1721, 'strip': 1722, 'returned': 1723, 'democracy': 1724, 'attacked': 1725, 'headquarters': 1726, 'intelligence': 1727, 'police': 1728, 'extra': 1729, 'orleans': 1730, 'virus': 1731, 'dual': 1732, 'bangladesh': 1733, 'console': 1734, 'identity': 1735, 'theft': 1736, 'earth': 1737, 'accept': 1738, 'window': 1739, 'met': 1740, 'kill': 1741, 'israeli': 1742, 'sex': 1743, 'trip': 1744, 'clash': 1745, 'crew': 1746, 'convention': 1747, 'engineer': 1748, 'armed': 1749, 'roll': 1750, 'de': 1751, 'ryder': 1752, 'coalition': 1753, 'jeff': 1754, 'sen': 1755, 'joe': 1756, 'heat': 1757, 'sox': 1758, 'league': 1759, 'baseball': 1760, 'role': 1761, 'wood': 1762, 'republic': 1763, 'leg': 1764, 'atlanta': 1765, 'gary': 1766, 'toll': 1767, 'wanted': 1768, 'officially': 1769, 'hp': 1770, 'hewlett': 1771, 'nfl': 1772, 'xp': 1773, 'cleveland': 1774, 'island': 1775, 'madrid': 1776, 'singh': 1777, 'arrived': 1778, 'usatoday': 1779, 'par': 1780, 'unveils': 1781, 'throw': 1782, 'gone': 1783, 'prince': 1784, 'voip': 1785, 'nokia': 1786, 'seoul': 1787, 'ninth': 1788, 'career': 1789, 'gene': 1790, 'rare': 1791, 'rover': 1792, 'ii': 1793, 'adobe': 1794, 'taiwan': 1795, 'standing': 1796, 'inside': 1797, 'journalist': 1798, 'williams': 1799, 'blast': 1800, 'raid': 1801, 'specie': 1802, 'training': 1803, 'pas': 1804, 'commander': 1805, 'award': 1806, 'draft': 1807, 'el': 1808, 'historic': 1809, 'showdown': 1810, 'defensive': 1811, 'explosive': 1812, 'computing': 1813, 'abu': 1814, 'fighter': 1815, 'climate': 1816, 'olympic': 1817, 'lineup': 1818, 'democrat': 1819, 'nasa': 1820, 'spacecraft': 1821, 'trojan': 1822, 'earthquake': 1823, 'shuttle': 1824, 'father': 1825, 'explorer': 1826, 'firefox': 1827, 'solar': 1828, 'washingtonpost': 1829, 'hacker': 1830, 'assassination': 1831, 'remote': 1832, 'greek': 1833, 'dy': 1834, 'graphic': 1835, 'itunes': 1836, 'gunman': 1837, 'capable': 1838, 'platform': 1839, 'newsfactor': 1840, 'captain': 1841, 'cup': 1842, 'o': 1843, 'wild': 1844, 'saturn': 1845, 'bird': 1846, 'violent': 1847, 'spam': 1848, 'cassini': 1849, 'shark': 1850, 'parliament': 1851, 'msn': 1852, 'tiger': 1853, 'sp': 1854, 'assault': 1855, 'dna': 1856, 'playing': 1857, 'receiver': 1858, 'mozilla': 1859, 'girl': 1860, 'boy': 1861, 'planet': 1862, 'cub': 1863, 'mike': 1864, 'minute': 1865, 'arrest': 1866, 'diplomat': 1867, 'athlete': 1868, 'guy': 1869, 'blog': 1870, 'match': 1871, 'bryant': 1872, 'nba': 1873, 'thailand': 1874, 'seed': 1875, 'powell': 1876, 'ballot': 1877, 'yankee': 1878, 'beckham': 1879, 'football': 1880, 'hill': 1881, 'beslan': 1882, 'zimbabwe': 1883, 'baghdad': 1884, 'marine': 1885, 'soccer': 1886, 'contest': 1887, 'yard': 1888, 'arsenal': 1889, 'insurgent': 1890, 'holy': 1891, 'medal': 1892, 'atomic': 1893, 'explosion': 1894, 'meter': 1895, 'exploded': 1896, 'captured': 1897, 'english': 1898, 'dolphin': 1899, 'upset': 1900, 'rain': 1901, 'doping': 1902, 'congo': 1903, 'egyptian': 1904, 'sweep': 1905, 'tennis': 1906, 'championship': 1907, 'tournament': 1908, 'greece': 1909, 'golf': 1910, 'aide': 1911, 'jackson': 1912, 'darfur': 1913, 'nascar': 1914, 'pittsburgh': 1915, 'colin': 1916, 'scored': 1917, 'hockey': 1918, 'torn': 1919, 'knee': 1920, 'coach': 1921, 'trophy': 1922, 'basketball': 1923, 'inning': 1924, 'cricket': 1925, 'angel': 1926, 'injured': 1927, 'rookie': 1928, 'newcastle': 1929, 'nl': 1930, 'pedro': 1931, 'mets': 1932, 'martinez': 1933, 'pitcher': 1934, 'silver': 1935, 'homer': 1936, 'opener': 1937, 'astros': 1938, 'roger': 1939, 'nhl': 1940, 'quarterback': 1941, 'chelsea': 1942, 'jay': 1943, 'patriot': 1944, 'hewitt': 1945, 'semifinal': 1946, 'pacer': 1947, 'colt': 1948, 'striker': 1949, 'premiership': 1950, 'scoring': 1951, 'touchdown': 1952, 'prix': 1953, 'notre': 1954, 'dame': 1955, 'playoff': 1956, 'mauresmo': 1957, 'ichiro': 1958, 'embassy': 1959, 'jason': 1960, 'hamm': 1961, 'pakistan': 1962, 'qualifying': 1963, 'mariner': 1964, 'jacques': 1965, 'schilling': 1966, 'manning': 1967, 'redskin': 1968, 'brave': 1969, 'federer': 1970, 'egypt': 1971, 'arab': 1972, 'ukraine': 1973, 'sri': 1974, 'kidnapper': 1975, 'bomber': 1976, 'hostage': 1977, 'islamic': 1978, 'muslim': 1979, 'murder': 1980, 'missile': 1981, 'bin': 1982, 'kidnapped': 1983, 'coup': 1984, 'sharon': 1985, 'jerusalem': 1986, 'ariel': 1987, 'hamas': 1988, 'kabul': 1989, 'afghanistan': 1990, 'afghan': 1991, 'refugee': 1992, 'sudanese': 1993, 'sudan': 1994, 'uranium': 1995, 'arafat': 1996, 'yasser': 1997, 'bombing': 1998, 'cleric': 1999, 'militant': 2000, 'fallujah': 2001, 'prisoner': 2002, 'musharraf': 2003, 'hamid': 2004, 'karzai': 2005, 'sadr': 2006, 'mosque': 2007, 'wounding': 2008, 'qaeda': 2009, 'haiti': 2010, 'pakistani': 2011, 'kashmir': 2012, 'shiite': 2013}\n"
     ]
    }
   ],
   "source": [
    "print(vectorizer.news_vocab._token_to_idx)"
   ]
  },
  {
   "cell_type": "code",
   "execution_count": 14,
   "metadata": {},
   "outputs": [
    {
     "name": "stdout",
     "output_type": "stream",
     "text": [
      "{'Business': 0, 'Sci/Tech': 1, 'Sports': 2, 'World': 3}\n"
     ]
    }
   ],
   "source": [
    "print(vectorizer.category_vocab._token_to_idx)"
   ]
  },
  {
   "cell_type": "code",
   "execution_count": 15,
   "metadata": {},
   "outputs": [
    {
     "data": {
      "text/plain": [
       "88"
      ]
     },
     "execution_count": 15,
     "metadata": {},
     "output_type": "execute_result"
    }
   ],
   "source": [
    "dataset._max_seq_length"
   ]
  },
  {
   "cell_type": "markdown",
   "metadata": {},
   "source": [
    "### Grid Search"
   ]
  },
  {
   "cell_type": "code",
   "execution_count": 16,
   "metadata": {},
   "outputs": [],
   "source": [
    "import time\n",
    "\n",
    "def train_for_fine_tune(embedding_size, num_channels, hidden_dim, dropout_p, pretrained_embeddings, emb_freeze, batch_size):\n",
    "    set_seed_everywhere(args.seed, args.cuda, args.mps)\n",
    "    \n",
    "    args.batch_size = batch_size\n",
    "    classifier = NewsClassifier(embedding_size=embedding_size,          # e.g, 100\n",
    "                                num_embeddings=len(vectorizer.news_vocab),  # e.g., 3409\n",
    "                                num_channels=num_channels,              # e.g., 100\n",
    "                                hidden_dim=args.hidden_dim,                  # e.g., 100\n",
    "                                num_classes=len(vectorizer.category_vocab),  # e.g., 4\n",
    "                                dropout_p=dropout_p,                    # e.g., 0.1\n",
    "                                pretrained_embeddings=pretrained_embeddings,\n",
    "                                padding_idx=0,\n",
    "                                emb_freeze=emb_freeze)\n",
    "    \n",
    "    if pretrained_embeddings is None:\n",
    "        is_pretrained_embeddings = False\n",
    "    else:\n",
    "        is_pretrained_embeddings = True\n",
    "        \n",
    "    classifier = classifier.to(args.device)\n",
    "    dataset.class_weights = dataset.class_weights.to(args.device)\n",
    "        \n",
    "    loss_func = nn.CrossEntropyLoss(dataset.class_weights)\n",
    "    optimizer = optim.Adam(classifier.parameters(), lr=args.learning_rate)\n",
    "    scheduler = optim.lr_scheduler.ReduceLROnPlateau(optimizer=optimizer, mode='min', factor=0.5, patience=1)\n",
    "\n",
    "    train_state = make_train_state(args)\n",
    "\n",
    "    epoch_bar = tqdm(desc='training routine', total=args.num_epochs, position=0)\n",
    "\n",
    "    dataset.set_split('train')\n",
    "    train_bar = tqdm(desc='split=train', total=dataset.get_num_batches(args.batch_size), position=1, leave=True)\n",
    "\n",
    "    dataset.set_split('val')\n",
    "    val_bar = tqdm(desc='split=val', total=dataset.get_num_batches(args.batch_size), position=1, leave=True)\n",
    "\n",
    "    try:\n",
    "        for epoch_index in range(args.num_epochs):\n",
    "            train_state['epoch_index'] = epoch_index\n",
    "\n",
    "            # Iterate over training dataset\n",
    "\n",
    "            # setup: batch generator, set loss and acc to 0, set train mode on\n",
    "\n",
    "            dataset.set_split('train')\n",
    "            batch_generator = generate_batches(dataset, \n",
    "                                            batch_size=args.batch_size, \n",
    "                                            device=args.device)\n",
    "            running_loss = 0.0\n",
    "            running_acc = 0.0\n",
    "            classifier.train()\n",
    "\n",
    "            for batch_index, batch_dict in enumerate(batch_generator):\n",
    "                # the training routine is these 5 steps:\n",
    "\n",
    "                # --------------------------------------\n",
    "                # step 1. zero the gradients\n",
    "                optimizer.zero_grad()\n",
    "\n",
    "                # step 2. compute the output\n",
    "                y_pred = classifier(batch_dict['x_data']) # (batch, seq_len) -> (batch, num_classes)\n",
    "\n",
    "                # step 3. compute the loss\n",
    "                loss = loss_func(y_pred, batch_dict['y_target'])\n",
    "                loss_t = loss.item()\n",
    "                running_loss += (loss_t - running_loss) / (batch_index + 1)\n",
    "\n",
    "                # step 4. use loss to produce gradients\n",
    "                loss.backward()\n",
    "\n",
    "                # step 5. use optimizer to take gradient step\n",
    "                optimizer.step()\n",
    "                # -----------------------------------------\n",
    "                # compute the accuracy\n",
    "                acc_t = compute_accuracy(y_pred, batch_dict['y_target'])\n",
    "                running_acc += (acc_t - running_acc) / (batch_index + 1)\n",
    "\n",
    "                # update bar\n",
    "                train_bar.set_postfix(loss=running_loss, acc=running_acc, \n",
    "                                   epoch=epoch_index)\n",
    "                train_bar.update()\n",
    "\n",
    "            train_state['train_loss'].append(running_loss)\n",
    "            train_state['train_acc'].append(running_acc)\n",
    "\n",
    "            # Iterate over val dataset\n",
    "\n",
    "            # setup: batch generator, set loss and acc to 0; set eval mode on\n",
    "            dataset.set_split('val')\n",
    "            batch_generator = generate_batches(dataset, \n",
    "                                            batch_size=args.batch_size, \n",
    "                                            device=args.device)\n",
    "            running_loss = 0.\n",
    "            running_acc = 0.\n",
    "            classifier.eval()\n",
    "\n",
    "            for batch_index, batch_dict in enumerate(batch_generator):\n",
    "\n",
    "                # compute the output\n",
    "                y_pred =  classifier(batch_dict['x_data'])\n",
    "\n",
    "                # step 3. compute the loss\n",
    "                loss = loss_func(y_pred, batch_dict['y_target'])\n",
    "                loss_t = loss.item()\n",
    "                running_loss += (loss_t - running_loss) / (batch_index + 1)\n",
    "\n",
    "                # compute the accuracy\n",
    "                acc_t = compute_accuracy(y_pred, batch_dict['y_target'])\n",
    "                running_acc += (acc_t - running_acc) / (batch_index + 1)\n",
    "                val_bar.set_postfix(loss=running_loss, acc=running_acc, \n",
    "                                epoch=epoch_index)\n",
    "                val_bar.update()\n",
    "\n",
    "            train_state['val_loss'].append(running_loss)\n",
    "            train_state['val_acc'].append(running_acc)\n",
    "\n",
    "            train_state = update_train_state(args=args, model=classifier,\n",
    "                                            train_state=train_state)\n",
    "\n",
    "            scheduler.step(train_state['val_loss'][-1])\n",
    "\n",
    "            if train_state['stop_early']:\n",
    "                break\n",
    "\n",
    "            train_bar.n = 0\n",
    "            val_bar.n = 0\n",
    "            epoch_bar.update()\n",
    "            \n",
    "    except KeyboardInterrupt:\n",
    "        print(\"Exiting loop\")\n",
    "\n",
    "    acc = train_state['train_acc']\n",
    "    val_acc = train_state['val_acc']\n",
    "    loss = train_state['train_loss']\n",
    "    val_loss = train_state['val_loss']\n",
    "\n",
    "    epochs = range(1, len(acc) + 1)\n",
    "    \n",
    "    # compute the loss & accuracy on the test set using the best available model\n",
    "\n",
    "    classifier.load_state_dict(torch.load(train_state['model_filename'])) # load the best model\n",
    "\n",
    "    classifier = classifier.to(args.device)\n",
    "    dataset.class_weights = dataset.class_weights.to(args.device)\n",
    "    loss_func = nn.CrossEntropyLoss(dataset.class_weights)\n",
    "\n",
    "    dataset.set_split('test')\n",
    "    batch_generator = generate_batches(dataset, \n",
    "                                    batch_size=args.batch_size, \n",
    "                                    device=args.device)\n",
    "    running_loss = 0.\n",
    "    running_acc = 0.\n",
    "    classifier.eval()\n",
    "\n",
    "    y_pred_list = []         # store predicted values for confusion matrix\n",
    "    y_category_list = []  # ground truth value\n",
    "\n",
    "    for batch_index, batch_dict in enumerate(batch_generator):\n",
    "        # compute the output\n",
    "        y_pred =  classifier(batch_dict['x_data'])\n",
    "        \n",
    "        # store predicted values and ground truth values for calculating confusion matrix\n",
    "        y_pred_list.extend(y_pred.max(dim=1)[1].cpu().numpy())\n",
    "        y_category_list.extend(batch_dict['y_target'].cpu().numpy())\n",
    "        \n",
    "        # compute the loss\n",
    "        loss = loss_func(y_pred, batch_dict['y_target'])\n",
    "        loss_t = loss.item()\n",
    "        running_loss += (loss_t - running_loss) / (batch_index + 1)\n",
    "\n",
    "        # compute the accuracy\n",
    "        acc_t = compute_accuracy(y_pred, batch_dict['y_target'])\n",
    "        running_acc += (acc_t - running_acc) / (batch_index + 1)\n",
    "\n",
    "    train_state['test_loss'] = running_loss\n",
    "    train_state['test_acc'] = running_acc\n",
    "    \n",
    "    set_seed_everywhere(args.seed, args.cuda, args.mps)\n",
    "    \n",
    "    return [embedding_size, num_channels, hidden_dim, dropout_p, is_pretrained_embeddings, emb_freeze, batch_size, train_state['val_loss'][-1], train_state['val_acc'][-1], train_state['test_loss'], train_state['test_acc']]\n",
    "\n",
    "def simple_grid_search(embedding_size_values, num_channels_values, hidden_dim_values, dropout_p_values, batch_size_values, pretrained_embeddings_values, emb_freeze_values):    \n",
    "    print(\"embedding_size_values:\", embedding_size_values)\n",
    "    print(\"num_channels_values:\", num_channels_values)\n",
    "    print(\"hidden_dim_values:\", hidden_dim_values)\n",
    "    print(\"dropout_p_values:\", dropout_p_values)\n",
    "    print(\"batch_size_values: \", batch_size_values)\n",
    "    \n",
    "    best_by_val_loss = []\n",
    "    best_by_val_acc = []\n",
    "    best_by_test_loss = []\n",
    "    best_by_test_acc = []\n",
    "    \n",
    "    log_path = 'Log_CNN_News_Category.txt'\n",
    "    if os.path.exists(log_path):\n",
    "        os.remove(log_path)\n",
    "        \n",
    "    with open(log_path, 'a') as log:\n",
    "        for pretrained_embeddings_value in pretrained_embeddings_values:\n",
    "            if pretrained_embeddings_value is not None:\n",
    "                print(\"------------Use Pretrain------------\")\n",
    "                log.write(\"------------Use Pretrain------------\\n\")\n",
    "                for emb_freeze_value in emb_freeze_values:\n",
    "                    for num_channels_value in num_channels_values:  \n",
    "                        for hidden_dim_value in hidden_dim_values:\n",
    "                            for dropout_p_value in dropout_p_values:\n",
    "                                for batch_size_value in batch_size_values:\n",
    "                                    print(f\"------args-----\\nnum_channels: {num_channels_value} | hidden_dim: {hidden_dim_value} | dropout_p: {dropout_p_value} | batch_size: {batch_size_value} | emb_freeze: {emb_freeze_value}\")\n",
    "                                    log.write(f\"------args-----\\nnum_channels: {num_channels_value} | hidden_dim: {hidden_dim_value} | dropout_p: {dropout_p_value} | batch_size: {batch_size_value} | emb_freeze: {emb_freeze_value}\\n\")\n",
    "                                    start_time = time.time()\n",
    "                                    result = train_for_fine_tune(100, num_channels_value, hidden_dim_value, dropout_p_value, pretrained_embeddings_value, emb_freeze_value, batch_size_value)\n",
    "                                    end_time = time.time()\n",
    "                                    torch.cuda.empty_cache()\n",
    "                                    if best_by_val_loss == [] or best_by_val_loss[7] > result[7]:\n",
    "                                        best_by_val_loss = result\n",
    "                                    if best_by_val_acc == [] or best_by_val_acc[8] < result[8]:\n",
    "                                        best_by_val_acc = result\n",
    "                                    if best_by_test_loss == [] or best_by_test_loss[9] > result[9]:\n",
    "                                        best_by_test_loss = result\n",
    "                                    if best_by_test_acc == [] or best_by_test_acc[10] < result[10]:\n",
    "                                        best_by_test_acc = result\n",
    "                                    elapsed_time = end_time - start_time\n",
    "                                    print(f\"------perf.-----\\nval_loss: {result[7]} | val_acc: {result[8]}\\ntest_loss: {result[9]} | test_acc: {result[10]}\")\n",
    "                                    print(f\"took {elapsed_time:.2f} seconds.\\nbest by va_loss: {best_by_val_loss[:7]} | best by va_acc: {best_by_val_acc[:7]}\\nbest by te_loss: {best_by_test_loss[:7]} | best by te_acc: {best_by_test_acc[:7]}\\n\")\n",
    "                                    log.write(f\"------perf.-----\\nval_loss: {result[7]} | val_acc: {result[8]}\\ntest_loss: {result[9]} | test_acc: {result[10]}\\n\")\n",
    "                                    log.write(f\"took {elapsed_time:.2f} seconds.\\nbest by va_loss: {best_by_val_loss[:7]} | best by va_acc: {best_by_val_acc[:7]}\\nbest by te_loss: {best_by_test_loss[:7]} | best by te_acc: {best_by_test_acc[:7]}\\n\\n\")\n",
    "            else:\n",
    "                print(\"------Not Use Pretrain------\")\n",
    "                log.write(\"------------Not Use Pretrain------------\\n\")\n",
    "                for embedding_size_value in embedding_size_values:\n",
    "                    for hidden_dim_value in hidden_dim_values:\n",
    "                        for num_channels_value in num_channels_values:  \n",
    "                            for hidden_dim_value in hidden_dim_values:\n",
    "                                for dropout_p_value in dropout_p_values:\n",
    "                                    for batch_size_value in batch_size_values:\n",
    "                                        print(f\"------args-----\\nembedding_size: {embedding_size_value} | num_channels: {num_channels_value} | hidden_dim: {hidden_dim_value} | dropout_p: {dropout_p_value} | batch_size: {batch_size_value}\")\n",
    "                                        log.write(f\"------args-----\\nembedding_size: {embedding_size_value} | num_channels: {num_channels_value} | hidden_dim: {hidden_dim_value} | dropout_p: {dropout_p_value} | batch_size: {batch_size_value}\")\n",
    "                                        start_time = time.time()\n",
    "                                        result = train_for_fine_tune(embedding_size_value, num_channels_value, hidden_dim_value, dropout_p_value, pretrained_embeddings_value, True, batch_size_value)\n",
    "                                        end_time = time.time()\n",
    "                                        torch.cuda.empty_cache()\n",
    "                                        if best_by_val_loss == [] or best_by_val_loss[7] > result[7]:\n",
    "                                            best_by_val_loss = result\n",
    "                                        if best_by_val_acc == [] or best_by_val_acc[8] < result[8]:\n",
    "                                            best_by_val_acc = result\n",
    "                                        if best_by_test_loss == [] or best_by_test_loss[9] > result[9]:\n",
    "                                            best_by_test_loss = result\n",
    "                                        if best_by_test_acc == [] or best_by_test_acc[10] < result[10]:\n",
    "                                            best_by_test_acc = result\n",
    "                                        elapsed_time = end_time - start_time\n",
    "                                        print(f\"------perf.-----\\nval_loss: {result[7]} | val_acc: {result[8]}\\ntest_loss: {result[9]} | test_acc: {result[10]}\")\n",
    "                                        print(f\"took {elapsed_time:.2f} seconds.\\nbest by va_loss: {best_by_val_loss[:7]} | best by va_acc: {best_by_val_acc[:7]}\\nbest by te_loss: {best_by_test_loss[:7]} | best by te_acc: {best_by_test_acc[:7]}\\n\")\n",
    "                                        log.write(f\"------perf.-----\\nval_loss: {result[7]} | val_acc: {result[8]}\\ntest_loss: {result[9]} | test_acc: {result[10]}\\n\")\n",
    "                                        log.write(f\"took {elapsed_time:.2f} seconds.\\nbest by va_loss: {best_by_val_loss[:7]} | best by va_acc: {best_by_val_acc[:7]}\\nbest by te_loss: {best_by_test_loss[:7]} | best by te_acc: {best_by_test_acc[:7]}\\n\\n\")\n",
    "                                                                  \n",
    "        print(\"--------------Best Val Loss--------------\")\n",
    "        print(f\"embedding_size: {best_by_val_loss[0]}\\nnum_channels: {best_by_val_loss[1]}\\nhidden_dim: {best_by_val_loss[2]}\\ndropout_p: {best_by_val_loss[3]}\\nis_pretrained_embeddings: {best_by_val_loss[4]}\\nemb_freeze: {best_by_val_loss[5]}\\nbatch_size: {best_by_val_loss[6]}\\n\")\n",
    "        \n",
    "        print(\"--------------Best Val Acc--------------\")\n",
    "        print(f\"embedding_size: {best_by_val_acc[0]}\\nnum_channels: {best_by_val_acc[1]}\\nhidden_dim: {best_by_val_acc[2]}\\ndropout_p: {best_by_val_acc[3]}\\nis_pretrained_embeddings: {best_by_val_acc[4]}\\nemb_freeze: {best_by_val_acc[5]}\\nbatch_size: {best_by_val_acc[6]}\\n\")\n",
    "        \n",
    "        print(\"--------------Best Test Loss--------------\")\n",
    "        print(f\"embedding_size: {best_by_test_loss[0]}\\nnum_channels: {best_by_test_loss[1]}\\nhidden_dim: {best_by_test_loss[2]}\\ndropout_p: {best_by_test_loss[3]}\\nis_pretrained_embeddings: {best_by_test_loss[4]}\\nemb_freeze: {best_by_test_loss[5]}\\nbatch_size: {best_by_test_loss[6]}\\n\")\n",
    "        \n",
    "        print(\"--------------Best Test Acc--------------\")\n",
    "        print(f\"embedding_size: {best_by_test_acc[0]}\\nnum_channels: {best_by_test_acc[1]}\\nhidden_dim: {best_by_test_acc[2]}\\ndropout_p: {best_by_test_acc[3]}\\nis_pretrained_embeddings: {best_by_test_acc[4]}\\nemb_freeze: {best_by_test_acc[5]}\\nbatch_size: {best_by_test_acc[6]}\\n\")\n",
    "\n",
    "        log.write(\"--------------Best Val Loss--------------\\n\")\n",
    "        log.write(f\"embedding_size: {best_by_val_loss[0]}\\nnum_channels: {best_by_val_loss[1]}\\nhidden_dim: {best_by_val_loss[2]}\\ndropout_p: {best_by_val_loss[3]}\\nis_pretrained_embeddings: {best_by_val_loss[4]}\\nemb_freeze: {best_by_val_loss[5]}\\nbatch_size: {best_by_val_loss[6]}\\n\\n\")\n",
    "        \n",
    "        log.write(\"--------------Best Val Acc--------------\\n\")\n",
    "        log.write(f\"embedding_size: {best_by_val_acc[0]}\\nnum_channels: {best_by_val_acc[1]}\\nhidden_dim: {best_by_val_acc[2]}\\ndropout_p: {best_by_val_acc[3]}\\nis_pretrained_embeddings: {best_by_val_acc[4]}\\nemb_freeze: {best_by_val_acc[5]}\\nbatch_size: {best_by_val_acc[6]}\\n\\n\")\n",
    "        \n",
    "        log.write(\"--------------Best Test Loss--------------\\n\")\n",
    "        log.write(f\"embedding_size: {best_by_test_loss[0]}\\nnum_channels: {best_by_test_loss[1]}\\nhidden_dim: {best_by_test_loss[2]}\\ndropout_p: {best_by_test_loss[3]}\\nis_pretrained_embeddings: {best_by_test_loss[4]}\\nemb_freeze: {best_by_test_loss[5]}\\nbatch_size: {best_by_test_loss[6]}\\n\\n\")\n",
    "        \n",
    "        log.write(\"--------------Best Test Acc--------------\\n\")\n",
    "        log.write(f\"embedding_size: {best_by_test_acc[0]}\\nnum_channels: {best_by_test_acc[1]}\\nhidden_dim: {best_by_test_acc[2]}\\ndropout_p: {best_by_test_acc[3]}\\nis_pretrained_embeddings: {best_by_test_acc[4]}\\nemb_freeze: {best_by_test_acc[5]}\\nbatch_size: {best_by_test_acc[6]}\\n\\n\")"
   ]
  },
  {
   "cell_type": "markdown",
   "metadata": {},
   "source": [
    "#### Search Range"
   ]
  },
  {
   "cell_type": "code",
   "execution_count": 17,
   "metadata": {},
   "outputs": [
    {
     "name": "stdout",
     "output_type": "stream",
     "text": [
      "embedding_size_values: [100, 200]\n",
      "num_channels_values: [100, 200]\n",
      "hidden_dim_values: [64, 128]\n",
      "dropout_p_values: [0.1, 0.2]\n",
      "batch_size_values:  [64, 128]\n",
      "------Not Use Pretrain------\n",
      "------args-----\n",
      "embedding_size: 100 | num_channels: 100 | hidden_dim: 64 | dropout_p: 0.1 | batch_size: 64\n"
     ]
    },
    {
     "data": {
      "application/vnd.jupyter.widget-view+json": {
       "model_id": "3efefc9d341546189462e7ced28e66b6",
       "version_major": 2,
       "version_minor": 0
      },
      "text/plain": [
       "training routine:   0%|          | 0/100 [00:00<?, ?it/s]"
      ]
     },
     "metadata": {},
     "output_type": "display_data"
    },
    {
     "data": {
      "application/vnd.jupyter.widget-view+json": {
       "model_id": "a965ff0b45154926a3e0205ffcfa17c7",
       "version_major": 2,
       "version_minor": 0
      },
      "text/plain": [
       "split=train:   0%|          | 0/159 [00:00<?, ?it/s]"
      ]
     },
     "metadata": {},
     "output_type": "display_data"
    },
    {
     "data": {
      "application/vnd.jupyter.widget-view+json": {
       "model_id": "f645d9914582486289ce4525d40b706d",
       "version_major": 2,
       "version_minor": 0
      },
      "text/plain": [
       "split=val:   0%|          | 0/34 [00:00<?, ?it/s]"
      ]
     },
     "metadata": {},
     "output_type": "display_data"
    },
    {
     "name": "stdout",
     "output_type": "stream",
     "text": [
      "Exiting loop\n",
      "------perf.-----\n",
      "val_loss: 0.5692976502811208 | val_acc: 80.00919117647061\n",
      "test_loss: 0.5588167704203549 | test_acc: 80.97426470588236\n",
      "took 26.36 seconds.\n",
      "best by va_loss: [100, 100, 64, 0.1, False, True, 64] | best by va_acc: [100, 100, 64, 0.1, False, True, 64]\n",
      "best by te_loss: [100, 100, 64, 0.1, False, True, 64] | best by te_acc: [100, 100, 64, 0.1, False, True, 64]\n",
      "\n",
      "------args-----\n",
      "embedding_size: 100 | num_channels: 100 | hidden_dim: 64 | dropout_p: 0.1 | batch_size: 128\n"
     ]
    },
    {
     "data": {
      "application/vnd.jupyter.widget-view+json": {
       "model_id": "2df0982cb9a74843a13e7a46b410dab9",
       "version_major": 2,
       "version_minor": 0
      },
      "text/plain": [
       "training routine:   0%|          | 0/100 [00:00<?, ?it/s]"
      ]
     },
     "metadata": {},
     "output_type": "display_data"
    },
    {
     "data": {
      "application/vnd.jupyter.widget-view+json": {
       "model_id": "fe5b17339b154c4580fe1d0df4aaf996",
       "version_major": 2,
       "version_minor": 0
      },
      "text/plain": [
       "split=train:   0%|          | 0/79 [00:00<?, ?it/s]"
      ]
     },
     "metadata": {},
     "output_type": "display_data"
    },
    {
     "data": {
      "application/vnd.jupyter.widget-view+json": {
       "model_id": "5a370afe420446858c720e7aa2aca81e",
       "version_major": 2,
       "version_minor": 0
      },
      "text/plain": [
       "split=val:   0%|          | 0/17 [00:00<?, ?it/s]"
      ]
     },
     "metadata": {},
     "output_type": "display_data"
    }
   ],
   "source": [
    "embedding_size_values = [i for i in range(64, 161, 32)]\n",
    "num_channels_values = [i for i in range(50, 201, 50)]\n",
    "dropout_p_values = [0.2, 0.5]\n",
    "hidden_dim_values = [i for i in range(64, 513, 64)]\n",
    "batch_size_values = [i for i in range(64, 193, 32)]\n",
    "pretrained_embeddings_values = [embeddings, None]\n",
    "emb_freeze_values = [True, False]\n",
    "\n",
    "simple_grid_search(embedding_size_values, num_channels_values, hidden_dim_values, dropout_p_values, batch_size_values, pretrained_embeddings_values, emb_freeze_values)"
   ]
  },
  {
   "cell_type": "code",
   "execution_count": null,
   "metadata": {},
   "outputs": [],
   "source": [
    "args.embedding_size=100\n",
    "args.num_channels=128\n",
    "args.hidden_dim=4\n",
    "args.dropout_p=0.1\n",
    "args.use_glove=True\n",
    "args.emb_freeze=False\n",
    "args.batch_size=128"
   ]
  },
  {
   "cell_type": "code",
   "execution_count": null,
   "metadata": {},
   "outputs": [],
   "source": [
    "# Use GloVe or randomly initialized embeddings\n",
    "set_seed_everywhere(args.seed, args.cuda, args.mps)\n",
    "\n",
    "if args.use_glove:\n",
    "    words = vectorizer.news_vocab._token_to_idx.keys()  # 3409 unique words\n",
    "    embeddings = make_embedding_matrix(glove_filepath=args.glove_filepath,     # embeddings: (3409, 100)\n",
    "                                       words=words)\n",
    "    print(\"Using pre-trained embeddings\")\n",
    "else:\n",
    "    print(\"Not using pre-trained embeddings\")\n",
    "    embeddings = None\n",
    "    \n",
    "classifier = NewsClassifier(embedding_size=args.embedding_size,          # e.g, 100\n",
    "                            num_embeddings=len(vectorizer.news_vocab),  # e.g., 3409\n",
    "                            num_channels=args.num_channels,              # e.g., 100\n",
    "                            hidden_dim=args.hidden_dim,                  # e.g., 100\n",
    "                            num_classes=len(vectorizer.category_vocab),  # e.g., 4\n",
    "                            dropout_p=args.dropout_p,                    # e.g., 0.1\n",
    "                            pretrained_embeddings=embeddings,\n",
    "                            padding_idx=0,\n",
    "                            emb_freeze=args.emb_freeze)"
   ]
  },
  {
   "cell_type": "markdown",
   "metadata": {},
   "source": [
    "### Training loop"
   ]
  },
  {
   "cell_type": "code",
   "execution_count": null,
   "metadata": {
    "scrolled": true
   },
   "outputs": [
    {
     "data": {
      "application/vnd.jupyter.widget-view+json": {
       "model_id": "f674c91b4ede4d238e71cd7233286276",
       "version_major": 2,
       "version_minor": 0
      },
      "text/plain": [
       "training routine:   0%|          | 0/100 [00:00<?, ?it/s]"
      ]
     },
     "metadata": {},
     "output_type": "display_data"
    },
    {
     "data": {
      "application/vnd.jupyter.widget-view+json": {
       "model_id": "5402c583b9014740a6b7b47b1bcf11e0",
       "version_major": 2,
       "version_minor": 0
      },
      "text/plain": [
       "split=train:   0%|          | 0/69 [00:00<?, ?it/s]"
      ]
     },
     "metadata": {},
     "output_type": "display_data"
    },
    {
     "data": {
      "application/vnd.jupyter.widget-view+json": {
       "model_id": "e1e17eb53e0e4f318a1947873419b8a6",
       "version_major": 2,
       "version_minor": 0
      },
      "text/plain": [
       "split=val:   0%|          | 0/14 [00:00<?, ?it/s]"
      ]
     },
     "metadata": {},
     "output_type": "display_data"
    }
   ],
   "source": [
    "set_seed_everywhere(args.seed, args.cuda, args.mps)\n",
    "\n",
    "classifier = classifier.to(args.device)\n",
    "dataset.class_weights = dataset.class_weights.to(args.device)\n",
    "    \n",
    "loss_func = nn.CrossEntropyLoss(dataset.class_weights)\n",
    "optimizer = optim.Adam(classifier.parameters(), lr=args.learning_rate)\n",
    "scheduler = optim.lr_scheduler.ReduceLROnPlateau(optimizer=optimizer, mode='min', factor=0.5, patience=1)\n",
    "\n",
    "train_state = make_train_state(args)\n",
    "\n",
    "epoch_bar = tqdm(desc='training routine', total=args.num_epochs, position=0)\n",
    "\n",
    "dataset.set_split('train')\n",
    "train_bar = tqdm(desc='split=train', total=dataset.get_num_batches(args.batch_size), position=1, leave=True)\n",
    "\n",
    "dataset.set_split('val')\n",
    "val_bar = tqdm(desc='split=val', total=dataset.get_num_batches(args.batch_size), position=1, leave=True)\n",
    "\n",
    "try:\n",
    "    for epoch_index in range(args.num_epochs):\n",
    "        train_state['epoch_index'] = epoch_index\n",
    "\n",
    "        # Iterate over training dataset\n",
    "\n",
    "        # setup: batch generator, set loss and acc to 0, set train mode on\n",
    "\n",
    "        dataset.set_split('train')\n",
    "        batch_generator = generate_batches(dataset, \n",
    "                                           batch_size=args.batch_size, \n",
    "                                           device=args.device)\n",
    "        running_loss = 0.0\n",
    "        running_acc = 0.0\n",
    "        classifier.train()\n",
    "\n",
    "        for batch_index, batch_dict in enumerate(batch_generator):\n",
    "            # the training routine is these 5 steps:\n",
    "\n",
    "            # --------------------------------------\n",
    "            # step 1. zero the gradients\n",
    "            optimizer.zero_grad()\n",
    "\n",
    "            # step 2. compute the output\n",
    "            y_pred = classifier(batch_dict['x_data']) # (batch, seq_len) -> (batch, num_classes)\n",
    "\n",
    "            # step 3. compute the loss\n",
    "            loss = loss_func(y_pred, batch_dict['y_target'])\n",
    "            loss_t = loss.item()\n",
    "            running_loss += (loss_t - running_loss) / (batch_index + 1)\n",
    "\n",
    "            # step 4. use loss to produce gradients\n",
    "            loss.backward()\n",
    "\n",
    "            # step 5. use optimizer to take gradient step\n",
    "            optimizer.step()\n",
    "            # -----------------------------------------\n",
    "            # compute the accuracy\n",
    "            acc_t = compute_accuracy(y_pred, batch_dict['y_target'])\n",
    "            running_acc += (acc_t - running_acc) / (batch_index + 1)\n",
    "\n",
    "            # update bar\n",
    "            train_bar.set_postfix(loss=running_loss, acc=running_acc, \n",
    "                                  epoch=epoch_index)\n",
    "            train_bar.update()\n",
    "\n",
    "        train_state['train_loss'].append(running_loss)\n",
    "        train_state['train_acc'].append(running_acc)\n",
    "\n",
    "        # Iterate over val dataset\n",
    "\n",
    "        # setup: batch generator, set loss and acc to 0; set eval mode on\n",
    "        dataset.set_split('val')\n",
    "        batch_generator = generate_batches(dataset, \n",
    "                                           batch_size=args.batch_size, \n",
    "                                           device=args.device)\n",
    "        running_loss = 0.\n",
    "        running_acc = 0.\n",
    "        classifier.eval()\n",
    "\n",
    "        for batch_index, batch_dict in enumerate(batch_generator):\n",
    "\n",
    "            # compute the output\n",
    "            y_pred =  classifier(batch_dict['x_data'])\n",
    "\n",
    "            # step 3. compute the loss\n",
    "            loss = loss_func(y_pred, batch_dict['y_target'])\n",
    "            loss_t = loss.item()\n",
    "            running_loss += (loss_t - running_loss) / (batch_index + 1)\n",
    "\n",
    "            # compute the accuracy\n",
    "            acc_t = compute_accuracy(y_pred, batch_dict['y_target'])\n",
    "            running_acc += (acc_t - running_acc) / (batch_index + 1)\n",
    "            val_bar.set_postfix(loss=running_loss, acc=running_acc, \n",
    "                            epoch=epoch_index)\n",
    "            val_bar.update()\n",
    "\n",
    "        train_state['val_loss'].append(running_loss)\n",
    "        train_state['val_acc'].append(running_acc)\n",
    "\n",
    "        train_state = update_train_state(args=args, model=classifier,\n",
    "                                         train_state=train_state)\n",
    "\n",
    "        scheduler.step(train_state['val_loss'][-1])\n",
    "\n",
    "        if train_state['stop_early']:\n",
    "            break\n",
    "\n",
    "        train_bar.n = 0\n",
    "        val_bar.n = 0\n",
    "        epoch_bar.update()\n",
    "except KeyboardInterrupt:\n",
    "    print(\"Exiting loop\")\n"
   ]
  },
  {
   "cell_type": "code",
   "execution_count": null,
   "metadata": {},
   "outputs": [
    {
     "data": {
      "image/png": "[encoded data removed]",
      "text/plain": [
       "<Figure size 640x480 with 1 Axes>"
      ]
     },
     "metadata": {},
     "output_type": "display_data"
    }
   ],
   "source": [
    "%matplotlib inline\n",
    "import matplotlib.pyplot as plt\n",
    "\n",
    "acc = train_state['train_acc']\n",
    "val_acc = train_state['val_acc']\n",
    "loss = train_state['train_loss']\n",
    "val_loss = train_state['val_loss']\n",
    "\n",
    "epochs = range(1, len(acc) + 1)\n",
    "\n",
    "# \"bo\" is for \"blue dot\"\n",
    "plt.plot(epochs, loss, 'bo', label='Training loss')\n",
    "# b is for \"solid blue line\"\n",
    "plt.plot(epochs, val_loss, 'b', label='Validation loss')\n",
    "plt.title('Training and validation loss')\n",
    "plt.xlabel('Epochs')\n",
    "plt.ylabel('Loss')\n",
    "plt.legend()\n",
    "\n",
    "plt.show()"
   ]
  },
  {
   "cell_type": "code",
   "execution_count": null,
   "metadata": {},
   "outputs": [
    {
     "data": {
      "image/png": "[encoded data removed]",
      "text/plain": [
       "<Figure size 640x480 with 1 Axes>"
      ]
     },
     "metadata": {},
     "output_type": "display_data"
    }
   ],
   "source": [
    "plt.clf()   # clear figure\n",
    "\n",
    "plt.plot(epochs, acc, 'bo', label='Training acc')\n",
    "plt.plot(epochs, val_acc, 'b', label='Validation acc')\n",
    "plt.title('Training and validation accuracy')\n",
    "plt.xlabel('Epochs')\n",
    "plt.ylabel('Accuracy')\n",
    "plt.legend()\n",
    "\n",
    "plt.show()"
   ]
  },
  {
   "cell_type": "code",
   "execution_count": null,
   "metadata": {},
   "outputs": [],
   "source": [
    "# compute the loss & accuracy on the test set using the best available model\n",
    "set_seed_everywhere(args.seed, args.cuda, args.mps)\n",
    "\n",
    "classifier.load_state_dict(torch.load(train_state['model_filename'])) # load the best model\n",
    "\n",
    "classifier = classifier.to(args.device)\n",
    "dataset.class_weights = dataset.class_weights.to(args.device)\n",
    "loss_func = nn.CrossEntropyLoss(dataset.class_weights)\n",
    "\n",
    "dataset.set_split('test')\n",
    "batch_generator = generate_batches(dataset, \n",
    "                                   batch_size=args.batch_size, \n",
    "                                   device=args.device)\n",
    "running_loss = 0.\n",
    "running_acc = 0.\n",
    "classifier.eval()\n",
    "\n",
    "y_pred_list = []         # store predicted values for confusion matrix\n",
    "y_category_list = []  # ground truth value\n",
    "\n",
    "for batch_index, batch_dict in enumerate(batch_generator):\n",
    "    # compute the output\n",
    "    y_pred =  classifier(batch_dict['x_data'])\n",
    "    \n",
    "    # store predicted values and ground truth values for calculating confusion matrix\n",
    "    y_pred_list.extend(y_pred.max(dim=1)[1].cpu().numpy())\n",
    "    y_category_list.extend(batch_dict['y_target'].cpu().numpy())\n",
    "    \n",
    "    # compute the loss\n",
    "    loss = loss_func(y_pred, batch_dict['y_target'])\n",
    "    loss_t = loss.item()\n",
    "    running_loss += (loss_t - running_loss) / (batch_index + 1)\n",
    "\n",
    "    # compute the accuracy\n",
    "    acc_t = compute_accuracy(y_pred, batch_dict['y_target'])\n",
    "    running_acc += (acc_t - running_acc) / (batch_index + 1)\n",
    "\n",
    "train_state['test_loss'] = running_loss\n",
    "train_state['test_acc'] = running_acc\n"
   ]
  },
  {
   "cell_type": "code",
   "execution_count": null,
   "metadata": {},
   "outputs": [
    {
     "name": "stdout",
     "output_type": "stream",
     "text": [
      "Test loss: 0.24122860814843858;\n",
      "Test Accuracy: 92.07589285714286\n"
     ]
    }
   ],
   "source": [
    "print(\"Test loss: {};\".format(train_state['test_loss']))\n",
    "print(\"Test Accuracy: {}\".format(train_state['test_acc']))"
   ]
  },
  {
   "cell_type": "code",
   "execution_count": null,
   "metadata": {},
   "outputs": [
    {
     "name": "stdout",
     "output_type": "stream",
     "text": [
      "['FAKE', 'REAL']\n"
     ]
    }
   ],
   "source": [
    "classes = []\n",
    "for i in range(len(dataset._vectorizer.category_vocab)):\n",
    "    classes.append(dataset._vectorizer.category_vocab.lookup_index(i))\n",
    "print(classes)"
   ]
  },
  {
   "cell_type": "code",
   "execution_count": null,
   "metadata": {},
   "outputs": [
    {
     "name": "stdout",
     "output_type": "stream",
     "text": [
      "True       FAKE  REAL\n",
      "Predicted            \n",
      "FAKE        426    48\n",
      "REAL         23   399\n"
     ]
    }
   ],
   "source": [
    "import pandas as pd\n",
    "from sklearn.metrics import classification_report, confusion_matrix, accuracy_score\n",
    "\n",
    "cm = confusion_matrix(y_category_list, y_pred_list)\n",
    "cm_df = pd.DataFrame(cm.T, index=classes, columns=classes)\n",
    "cm_df.index.name = 'Predicted'\n",
    "cm_df.columns.name = 'True'\n",
    "print(cm_df)"
   ]
  },
  {
   "cell_type": "code",
   "execution_count": null,
   "metadata": {},
   "outputs": [
    {
     "name": "stdout",
     "output_type": "stream",
     "text": [
      "              precision    recall  f1-score   support\n",
      "\n",
      "           0       0.90      0.95      0.92       449\n",
      "           1       0.95      0.89      0.92       447\n",
      "\n",
      "    accuracy                           0.92       896\n",
      "   macro avg       0.92      0.92      0.92       896\n",
      "weighted avg       0.92      0.92      0.92       896\n",
      "\n"
     ]
    }
   ],
   "source": [
    "print(classification_report(y_category_list, y_pred_list))"
   ]
  },
  {
   "cell_type": "markdown",
   "metadata": {},
   "source": [
    "### Inference"
   ]
  },
  {
   "cell_type": "code",
   "execution_count": null,
   "metadata": {},
   "outputs": [],
   "source": [
    "# Preprocess the reviews\n",
    "def preprocess_text(text):\n",
    "    text = ' '.join(word.lower() for word in text.split(\" \"))\n",
    "    text = re.sub(r\"([.,!?])\", r\" \\1 \", text)\n",
    "    text = re.sub(r\"[^a-zA-Z.,!?]+\", r\" \", text)\n",
    "    return text "
   ]
  },
  {
   "cell_type": "code",
   "execution_count": null,
   "metadata": {},
   "outputs": [],
   "source": [
    "def predict_category(title, classifier, vectorizer, max_length):\n",
    "    \"\"\"Predict a News category for a new title\n",
    "    \n",
    "    Args:\n",
    "        title (str): a raw title string\n",
    "        classifier (NewsClassifier): an instance of the trained classifier\n",
    "        vectorizer (NewsVectorizer): the corresponding vectorizer\n",
    "        max_length (int): the max sequence length\n",
    "            Note: CNNs are sensitive to the input data tensor size. \n",
    "                  This ensures to keep it the same size as the training data\n",
    "    \"\"\"\n",
    "    title = preprocess_text(title)\n",
    "    vectorized_title = \\\n",
    "        torch.tensor(vectorizer.vectorize(title, vector_length=max_length))\n",
    "    result = classifier(vectorized_title.unsqueeze(0), apply_softmax=True)\n",
    "    probability_values, indices = result.max(dim=1)\n",
    "    predicted_category = vectorizer.category_vocab.lookup_index(indices.item())\n",
    "\n",
    "    return {'category': predicted_category, \n",
    "            'probability': probability_values.item()}"
   ]
  },
  {
   "cell_type": "code",
   "execution_count": null,
   "metadata": {},
   "outputs": [],
   "source": [
    "def get_samples():\n",
    "    samples = {}\n",
    "    for cat in dataset.val_df.category.unique():\n",
    "        samples[cat] = dataset.val_df.text[dataset.val_df.category==cat].tolist()[:5]\n",
    "    return samples\n",
    "\n",
    "val_samples = get_samples() # first 5 titles of each category from validation dataset"
   ]
  },
  {
   "cell_type": "code",
   "execution_count": null,
   "metadata": {},
   "outputs": [
    {
     "name": "stdout",
     "output_type": "stream",
     "text": [
      "True Category: FAKE\n",
      "==============================\n",
      "Prediction: FAKE (p=1.00)\n",
      "\t + Sample: hillary clinton postapocalyptic hellscape plan hillary clinton postapocalyptic hellscape plan important avoid age peace hillary clinton postapocalyptic hellscape plan b look email even com wrong comdingdangaramaramaflimflam mail question comment site godlike production glp registered trademark zero point ltd godlike website design copyright godlikeproductions com page generated query\n",
      "Prediction: FAKE (p=1.00)\n",
      "\t + Sample: russophobia war party propaganda information russophobia war party propaganda world reactionary regime head chopping terror sponsoring saudi arabian kleptocracy awarded chair un human right council russia kicked travesty engineered superpower lie punish moscow resisting u led war sectarian massacre regime change syria war party march cheer corporate medium hillary even elected yet margaret kimberley attempt stop fighting rejected u nato sealed fate syrian people november information clearing house bar russia invade iraq kill one million people russia greater percentage population behind bar country world russia occupy haiti kidnapping president russian police allowed shoot child death without fear repercussion russia entering th year terror war people somalia crime take place direction united state yet full force propaganda influence world opinion directed russia whatever shortcoming hold candle america violating human right danger presented hillary clinton presidency overstated war party steadily working towards goal defies logic risk life earth regime change modus operandi hope make reality russia nearly every claim russian evil lie ruse meant put american fighting mood lose fear nuclear conflagration clear clinton rest would warrior actually realize risking mushroom cloud perhaps believe vladimir putin easily pushed around evidence point contrary unproven allegation interference presidential election casting blame russia sole cause suffering syria meant desensitize public age old ploy make war acceptable deemed necessity usual suspect helping eagerly corporate medium led newspaper like new york time washington post front center pushing tale russian villainy human right watch organization care nothing abuse committed united state ally also playing usual role choosing next regime change victim russia lost seat united nation human right council part american pressure public relation assistance human right industrial complex unhrc chaired saudi arabia saudi arabia absolute monarchy fund jihadist terrorist group caused syrian death saudi causing dislocation death starvation yemen american ally little opposition misdeed openly bigoted donald trump perfect foil hillary clinton rest democratic party leadership preferred rival made case discredited lesser evilism argument sensible statement avoiding enmity russia made even useful united state ally cause syria destruction effort overthrow president assad created humanitarian disaster complete isi al nusra fighter love chop head entertainment far cause catastrophe russia left ally fight alone four year even made overture negotiate assad fate united state attempt stop fighting rejected u nato sealed fate syrian people people east aleppo shelled american ally one know reading pass journalism newspaper television american role slaughter barely mentioned excused effort protect civilian population bloodshed made u could end government wanted anti russian propaganda effort worked perfection nato massing troop russia border clear provocation yet putin labeled bad guy said menacing country join threatening nation united state make phony claim russian war crime despite blood hand latest human right watch canard prosecuting assad come straight white house state department nothing concern syrian living fifth year hell lesser evil hillary clinton donald trump fully supported war party desire muscular foreign policy bizarre term mean death starvation million people clinton win landslide must denied victory magnitude opportunity claim mandate peace loving people must give vote green party ticket jill stein ajamu baraka alone rejecting premise imperialist country endless war united state dangerous country world reckless war loving president threat becomes existential prospect face hillary clinton presidency role villain cast world stage star show margaret kimberley freedom rider column appears weekly bar widely reprinted elsewhere maintains frequently updated blog well m kimberley life new york city reached via e mail margaret kimberley blackagendareport com russia kill civilian u promotes democracy washington mantra domestic consumption\n",
      "Prediction: FAKE (p=0.99)\n",
      "\t + Sample: world champion boxer manny pacquiao build home poor filipino earning million fighting floyd mayweather boxer politician used portion earnings construct home poor family hometown manny pacquiao world class athlete filipino politician compassionate activist paid home built help underprivileged family hometown via anonews earlier year pacquiao proclaimed good deed facebook happy giving house free constituent sarangani province pocket thousand family beneficiary star report born christian inspired help poor family duking floyd mayweather though lost boxing match still earned million dollar fight century felt duty give back wrote faithful steward god grace various form use whatever gift received serve others still building always believe bible say offer hospitality one another without grumbling act compassion could nothing calculated political move nonetheless family secure living space thanks senator generosity believe worth celebrating\n",
      "Prediction: FAKE (p=0.58)\n",
      "\t + Sample: hillary era coming worry photo veni cc trust one noticed rural area economically distressed neighborhood town city lawn sign donald trump everywhere hillary sign rarer tesla maseratis think understand trump sign cry defiance hillary supporter harder figure suspect would soon advertise intention november even think way stop trump understand voting hillary embarrassing lawn sign apart evidence trump kaput overwhelming seems finally done campaign extent even diehard anti trump fear monger concede inevitability clinton return white house trump campaign life support week pussy grabbing tape surfaced followed seemingly endless stream woman dozen already accusing donald groping worse third debate trump announced would wait see accepting legitimacy clinton victory seems final straw bona fide deplorables writing wall hillary win surely sun rise tomorrow well quite almost reason rejoice victory trump defeat even obvious seems hillary probably lesser evil thing considered trump likely le dangerous two man adolescent septuagenarian body tendency act least russophobe neocon humanitarian intervener intent regime change country resist american domination would include usual victim country incapable harming united state militarily russia china well relevant supposed lesser evil committed neoliberal wall street toady trump crooked hillary taunt hit target often consideration others like cause concern fine lesser evil voting general think threshold beneath lesser evil consideration apply need agonize issue however case trump became republican nominee lesser evil argument became moot would still case even voter quite willfully blind danger inherent clinton determination maintain american world domination mean necessary fondness military solution lesser evil consideration irrelevant trump always bound lose democrat even pressing point corollary anti trump hysteria distraction day one recently month ago hardly anyone agreed dollar every time taken task seeing parallel trump phenomenon rise nazism final year weimar republic would rich man today recognized trump chance becoming president practical purpose nil one pressing line day used limb longer would natural take pleasure turn event would fact trump defeat implies clinton victory prospect best slightly le nightmarish worse seem matter flagrant worrywart finally concede never president trump liberal centrist even foolish leftist still going hillary dead center soft left consensus view still time boost knock hillary campaign especially dozen state electoral college outcome could determined year ago absolute certainty remarkable many people let anti trump hysteria go focused trump misogyny temperamental instability narcissistic blather see thing need fear trump concerned speak fear however hillary case really something fear become commander chief lethal military force history world point supporter denial even people know better support sake remain determined waste vote adding total apparently think way send message trumpian fascism shall pas much better would would use vote build alternative neoliberal perpetual war regime hillary bill co thinker helped fashion best chance point jill stein campaign green party ticket stein win course vote protest vote nothing wrong hillary need know mandate end world know one many way convey message pundit claim otherwise dead wrong pile hillary wasting vote protest vote aimed hillary wasted would imagine least trump voter thinking along similar line racism nativism islamophobia candidate tarnish message vote convey therefore register real clarity message protest vote stein convey hand clear distinct garner least five percent total vote cast green access federal funding future election much easier time gaining ballot access fifty state would make much political revolution even bernie sander highly attenuated sense term would make future election le mind numbing degrading could ultimately lead far reaching transformation political scene trump killed gop duopoly party system jeopardy kind political realignments last become feasible contrarian went limb trump chance confidence way based inference polling data statistical extrapolation let blogosphere political junky corporate medium talking head knock useful entertaining people care horse race aspect presidential election distressing many american indulge spectator sport essentially apolitical confident right trump chance knew people tell pollster election seems far basically irrelevant predicting election outcome information people like voted past relevant much especially true case disdain one candidate dispositive factor many voter mind also fairly sure rightly wrongly people fear loathe trump fear loathe hillary outset would long trump certain undermine much dirt donald sleazy connection moral turpitude even god fearing republican capable believing almost nonsense bound eventually repulsed suspected trump never really wanted president got race promote brand egotist publicity hound trump hate lose however especially like hillary point must decided give campaign even meant bringing trump brand come shed crocodile tear brood ivanka especially worthwhile thing month ahead would work make happen everything possible assure damage done thing trump irreversible delightful irony would plenty hillary hater donald base hate hillary consider embodiment coercive goody goodyism think disdainful people like people deplorables demographic think leftwing idea leftwing nonsense course nearly leftwing enough anyone would think otherwise testament medium ability shape public perception degree political ignorance rampant quarter american electorate vast rightwing conspiracy hillary hater spot right rest two three bad even better reason dread prospect clinton presidency service hillary done go miscreant control commanding height america world capitalist order untrammeled ideologically driven bellicosity hillary know game system bill know benefit vaunted experience clueless world although fan boast pragmatism woman seriously inept undertakes ill conceived nearly turn badly short lesser evil great evil indeed take long move back white house start putting stamp empire depredation scale fall eye gullible supporter even sure trump defeat take even le joy proved right lie ahead hillary control horrible contemplate join debate facebook andrew levine senior scholar institute policy study author recently american ideology routledge political key word blackwell well many book article political philosophy recent book bad faith wrong opium people professor philosophy university wisconsin madison research professor philosophy university maryland college park contributor hopeless barack obama politics illusion ak press\n",
      "Prediction: FAKE (p=1.00)\n",
      "\t + Sample: connect series webinar oct financial market news cover dominating theme market share pattern analysis perspective empower member make better investment decision\n",
      "------------------------------\n",
      "\n",
      "True Category: REAL\n",
      "==============================\n",
      "Prediction: FAKE (p=0.89)\n",
      "\t + Sample: common core quietly war argentine president mauricio macri office rebutting report argentinian journalist set wave american medium\n",
      "Prediction: REAL (p=1.00)\n",
      "\t + Sample: u face call walk away iran talk leading republican critic iranian nuclear talk calling u walk away table negotiator missed key deadline lawmaker joined voicing concern iran could extract critical final hour concession scramble salvage agreement negotiation resumed switzerland wednesday almost immediately beset competing claim hour diplomat abandoned march deadline reach outline deal agreed press latest round hit week mark three six foreign minister involved left talk prospect agreement remaining uncertain amid confusion sen tom cotton r ark told fox news concerned framework deal could allow iran keep uranium stockpile continue enrich uranium underground bunker willing walk away table reapply leverage iran cotton said fact willing still sitting switzerland negotiating three negotiating partner already left demonstrates iran continue demand dangerous concession west speaking msnbc former democratic presidential candidate howard dean seemed agree said president obama right seek deal might time step away table make clear u backing key position including iran uranium stockpile pace sanction relief worried dean said rep martha mcsally r ariz also told fox news potentially nuclear infrastructure added know exactly behind closed door despite side agreeing blow deadline pursuit rough agreement even white house threatened abandon talk iran budge unwilling make kind commitment give u assurance u mean united state mean international community walk away negotiating table consider option may available u certainly possibility could happen white house press secretary josh earnest said tuesday earnest indicated wednesday still option called scenario hypothetical talk making progress said talk continue productive yet received specific tangible commitment international community require tuesday negotiator trying agree simply joint statement could justify talk continuing final june deadline iran deputy foreign minister abbas araghchi told reporter side make progress text joint statement could issued end day suggested statement would contain specific senior western official quickly pushed back saying nothing statement decided iran negotiating partner would accept document contained detail german foreign ministry tweeted nothing agreed although progress visible araghchi named difference sanction relief country one dispute along dispute iran uranium enrichment related research development definitely research development program high end centrifuge continue told iranian television u negotiating partner want crimp iranian effort improve performance centrifuge enrich uranium advancing technology could let iran produce material could used arm nuclear weapon much quickly present exchange reflected significant gap side came shortly end first post deadline meeting u secretary state john kerry british german counterpart iranian foreign minister mohammed javad zarif swiss town lausanne team continuing marathon effort bridge still significant gap hammer framework accord would serve basis final agreement end june eager avoid collapse discussion united state others claimed late tuesday enough progress made warrant extension six day intense bartering foreign minister china france russia departed lausanne overnight although significance absence clear kerry postponed planned tuesday departure stay lausanne iranian negotiator said team would stay long necessary clear remaining hurdle official say intention produce joint statement outlining general political commitment resolving concern iran nuclear program exchange sanction relief addition trying fashion document would lay detail step must take june meet goal additional document would allow side make case next round talk simply continuation negotiation already twice extended since interim agreement iran united state russia china britain france germany concluded november obama leader including iran said interested third extension party agree broad framework leaf key detail unresolved obama expect stiff opposition home member congress want move forward new stiffer iran sanction lawmaker agreed hold measure march party negotiated white house say new sanction would scuttle diplomatic effort contain iran nuclear work possibly lead israel act threat use military force accomplish goal israeli prime minister benjamin netanyahu continued question course talk wednesday said iran view israel destruction non negotiable evidently giving iran murderous regime clear path bomb negotiable unconscionable said time iran accelerating campaign terror subjugation conquest throughout region recently yemen netanyahu said better deal would significantly roll back iran nuclear infrastructure link lifting restriction nuclear program change iran behavior associated press contributed report\n",
      "Prediction: FAKE (p=0.53)\n",
      "\t + Sample: gun control becomes litmus test democratic primary move would make easier trump administration demolish exchange\n",
      "Prediction: REAL (p=0.99)\n",
      "\t + Sample: house gop budget gimmick six men green tie took stage house television studio tuesday house budget committee chairman tom price slight leprechaun man silver hair dark eyebrow approached microphone good mor top mornin ya price announced happy st patrick day altogether fitting republican rolled budget festival inebriation honor man magically apocryphally banished snake ireland republican done budget le fantastic employed lucky charm mystical pot gold make appear sober balancing budget actually rely gimmick creative accounting trick balance budget house republican say introduction fiscal budget true budget rely gimmick budget gimmick pretend keep strict limit defense spending called sequestration pump ten billion extra dollar slush fund called overseas contingency operation mean fund count emergency spending part pentagon budget assumes current tax cut allowed expire scheduled would amount billion tax increase nobody belief would allowed go effect proposes repeal obamacare count revenue saving obamacare law remained effect claim save trillion year fine print budget plan instruction committee asks identify billion saving time assumes trillion cut category known mandatory program specify cut would relies billion additional revenue dynamic scoring generous accounting method account billion plan negotiated increase doctor payment medicare extend child health care program difficulty concealing sleight hand might explain price hurry leave news conference tuesday predecessor rep paul ryan r wi liked give lengthy seminar conservative budgeting theory price took question six minute aide hollered last question chairman gone minute later reporter gave chase leprechaun budget pas one asked think price said locating confidence sure absolutely latest instance republican discovering difficult govern unified control congress past four year budget debut academic exercise would never agreement republican house democratic senate budget might actually mean something firebrand elected past three election need show would handle country finance turn govern much like came legislative smoke mirror rep rob woodall r ga one stage observed folk playing opportunity first time short congressional career actually bring budget united state playing good verb occasion price georgia republican ran conservative republican study committee delivered long statement imparting assurance believe america least three time held page budget camera minute preamble questioning quickly got tricky price ask committee come billion saving floor ceiling price said adding something opportunity provide positive solution american people desire andy taylor associated press asked billion tax increase obamacare revenue assumed budget believe american people believe growth replied price predicting higher expected economic growth would boost tax revenue jonathan weisman new york time asked price would detail trillion mandatory cut budget identify take peek balanced budget stronger america price replied holding budget camera looking weisman said specify sort trick republican longer get away charge read dana milbank archive follow twitter subscribe update facebook\n",
      "Prediction: REAL (p=0.95)\n",
      "\t + Sample: identity isi terrorist known jihadi john reportedly revealed true identity isi terrorist known jihadi john appeared several video showing beheading hostage reportedly revealed washington post first reported thursday citing friend human right worker familiar case man real name mohammed emwazi west london man detained counterterror official britain least two u government source spoke reuters thursday said investigator believe man emwazi according washington post bbc emwazi born kuwait studied computer programming university westminster university confirmed student name graduated allegation true shocked sickened news university said statement emwazi also thought traveled syria sometime around bbc reported british intelligence previously identified man chosen disclose name operational reason commander richard walton london metropolitan police counter terrorism command released statement saying previously asked medium outlet speculate detail investigation basis life risk going confirm identity anyone stage give update progress live counter terrorism investigation london based cage work muslim conflict british intelligence service said thursday research director asim qureshi saw strong similarity emwazi jihadi john hood worn militant way could percent certain center study radicalization political violence king college london closely track fighter syria also said believed identification correct masked hooded terrorist achieved instant notoriety appeared video released isi last august showed beheading american journalist james foley time many commentator analyst remarked man distinct london accent man believed appeared video showed beheading hostage including american journalist steven sotloff british aid worker david haines british taxi driver alan henning american aid worker peter kassig known abdul rahman apparent conversion islam captivity man recent appearance came last month video japanese hostage kenji goto haruna yukawa men also killed terror group terrorist given nickname jihadi john interview former isi hostage revealed part group british jihadist guarded hostage dubbed beatles bbc reported emwazi believed associate known terror suspect traveled somalia allegedly linked funding network somali based militant group al shabaab cage said contact emwazi two year accused british intelligence service harassing said alleged british spy preventing traveling country birth kuwait planned marry one answered door brick row house west london emwazi family alleged lived neighbor surrounding area public housing project either declined comment said know family neighbor janine kintenda said lived area year shocked news oh god told associated press lifting hand mouth bad bad shiraz maher king college radicalization center said investigating whether emwazi among group young west londoner traveled syria many dead including mohammad el araj ibrahim al mazwagi choukri ellekhlifi killed said emwazi background similar british jihadis disproved idea guy impoverished coming deprived background large upwardly mobile people well educated said associated press contributed report\n",
      "------------------------------\n",
      "\n"
     ]
    }
   ],
   "source": [
    "#title = input(\"Enter a news title to classify: \")\n",
    "classifier = classifier.to(\"cpu\")\n",
    "\n",
    "for truth, sample_group in val_samples.items():\n",
    "    print(f\"True Category: {truth}\")\n",
    "    print(\"=\"*30)\n",
    "    for sample in sample_group:\n",
    "        prediction = predict_category(sample, classifier, \n",
    "                                      vectorizer, dataset._max_seq_length)\n",
    "        print(\"Prediction: {} (p={:0.2f})\".format(prediction['category'],\n",
    "                                                  prediction['probability']))\n",
    "        print(\"\\t + Sample: {}\".format(sample))\n",
    "    print(\"-\"*30 + \"\\n\")"
   ]
  },
  {
   "cell_type": "markdown",
   "metadata": {},
   "source": [
    "### Excercise:\n",
    "\n",
    "1. Change F.max_pool1d() to F.avg_pool1d().\n",
    "2. Change use_glove=True to use_glove=False.\n",
    "3. Change other hyperparameters.\n"
   ]
  }
 ],
 "metadata": {
  "kernelspec": {
   "display_name": "Python 3 (ipykernel)",
   "language": "python",
   "name": "python3"
  },
  "language_info": {
   "codemirror_mode": {
    "name": "ipython",
    "version": 3
   },
   "file_extension": ".py",
   "mimetype": "text/x-python",
   "name": "python",
   "nbconvert_exporter": "python",
   "pygments_lexer": "ipython3",
   "version": "3.10.12"
  },
  "toc": {
   "colors": {
    "hover_highlight": "#DAA520",
    "running_highlight": "#FF0000",
    "selected_highlight": "#FFD700"
   },
   "moveMenuLeft": true,
   "nav_menu": {
    "height": "138px",
    "width": "252px"
   },
   "navigate_menu": true,
   "number_sections": true,
   "sideBar": true,
   "skip_h1_title": false,
   "threshold": "5",
   "title_cell": "Table of Contents",
   "title_sidebar": "Contents",
   "toc_cell": false,
   "toc_position": {},
   "toc_section_display": "block",
   "toc_window_display": false
  }
 },
 "nbformat": 4,
 "nbformat_minor": 2
}
