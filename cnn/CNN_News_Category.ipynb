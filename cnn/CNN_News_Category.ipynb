{
 "cells": [
  {
   "cell_type": "markdown",
   "metadata": {},
   "source": [
    "# CNN News Classification"
   ]
  },
  {
   "cell_type": "markdown",
   "metadata": {},
   "source": [
    "## Imports"
   ]
  },
  {
   "cell_type": "code",
   "execution_count": 1,
   "metadata": {},
   "outputs": [
    {
     "name": "stderr",
     "output_type": "stream",
     "text": [
      "[nltk_data] Downloading package stopwords to\n",
      "[nltk_data]     C:\\Users\\miuGrey\\AppData\\Roaming\\nltk_data...\n",
      "[nltk_data]   Package stopwords is already up-to-date!\n",
      "[nltk_data] Downloading package wordnet to\n",
      "[nltk_data]     C:\\Users\\miuGrey\\AppData\\Roaming\\nltk_data...\n",
      "[nltk_data]   Package wordnet is already up-to-date!\n",
      "[nltk_data] Downloading package punkt to\n",
      "[nltk_data]     C:\\Users\\miuGrey\\AppData\\Roaming\\nltk_data...\n",
      "[nltk_data]   Package punkt is already up-to-date!\n",
      "[nltk_data] Downloading package omw-1.4 to\n",
      "[nltk_data]     C:\\Users\\miuGrey\\AppData\\Roaming\\nltk_data...\n",
      "[nltk_data]   Package omw-1.4 is already up-to-date!\n"
     ]
    }
   ],
   "source": [
    "import os\n",
    "from argparse import Namespace\n",
    "from collections import Counter\n",
    "import json\n",
    "import re\n",
    "import string\n",
    "\n",
    "import numpy as np\n",
    "import pandas as pd\n",
    "import torch\n",
    "import torch.nn as nn\n",
    "import torch.nn.functional as F\n",
    "import torch.optim as optim\n",
    "from torch.utils.data import Dataset, DataLoader\n",
    "from tqdm.notebook import tqdm\n",
    "\n",
    "import nltk\n",
    "nltk.download('stopwords')\n",
    "nltk.download('wordnet')\n",
    "nltk.download('punkt')\n",
    "nltk.download('omw-1.4')\n",
    "from nltk.corpus import stopwords # remove stopword\n",
    "from nltk.stem import WordNetLemmatizer\n",
    "from nltk.util import ngrams\n",
    "from nltk import word_tokenize"
   ]
  },
  {
   "cell_type": "markdown",
   "metadata": {},
   "source": [
    "## Data Vectorization classes"
   ]
  },
  {
   "cell_type": "markdown",
   "metadata": {},
   "source": [
    "### The Vocabulary"
   ]
  },
  {
   "cell_type": "code",
   "execution_count": 2,
   "metadata": {},
   "outputs": [],
   "source": [
    "class Vocabulary(object):\n",
    "    \"\"\"Class to process text and extract vocabulary for mapping\"\"\"\n",
    "\n",
    "    def __init__(self, token_to_idx=None):\n",
    "        \"\"\"\n",
    "        Args:\n",
    "            token_to_idx (dict): a pre-existing map of tokens to indices\n",
    "        \"\"\"\n",
    "\n",
    "        # news_vocab._token_to_idx: {'<MASK>': 0, '<UNK>': 1, '<BEGIN>': 2, '<END>': 3, 'jobs': 4, 'tax': 5, 'cuts': 6,  \n",
    "        #                             ......, 'shiite': 3407, 'ghraib': 3408}\n",
    "        # category_vocab._token_to_idx: {'Business': 0, 'Sci/Tech': 1, 'Sports': 2, 'World': 3}\n",
    "        \n",
    "        if token_to_idx is None:\n",
    "            token_to_idx = {}\n",
    "        self._token_to_idx = token_to_idx\n",
    "\n",
    "        self._idx_to_token = {idx: token \n",
    "                              for token, idx in self._token_to_idx.items()}\n",
    "        \n",
    "    def add_token(self, token):\n",
    "        \"\"\"Update mapping dicts based on the token.\n",
    "\n",
    "        Args:\n",
    "            token (str): the item to add into the Vocabulary\n",
    "        Returns:\n",
    "            index (int): the integer corresponding to the token\n",
    "        \"\"\"\n",
    "        if token in self._token_to_idx:\n",
    "            index = self._token_to_idx[token]\n",
    "        else:\n",
    "            index = len(self._token_to_idx)\n",
    "            self._token_to_idx[token] = index\n",
    "            self._idx_to_token[index] = token\n",
    "        return index\n",
    "            \n",
    "    def lookup_token(self, token):\n",
    "        \"\"\"Retrieve the index associated with the token \n",
    "        \n",
    "        Args:\n",
    "            token (str): the token to look up \n",
    "        Returns:\n",
    "            index (int): the index corresponding to the token\n",
    "        \"\"\"\n",
    "        return self._token_to_idx[token]\n",
    "\n",
    "    def lookup_index(self, index):\n",
    "        \"\"\"Return the token associated with the index\n",
    "        \n",
    "        Args: \n",
    "            index (int): the index to look up\n",
    "        Returns:\n",
    "            token (str): the token corresponding to the index\n",
    "        Raises:\n",
    "            KeyError: if the index is not in the Vocabulary\n",
    "        \"\"\"\n",
    "        if index not in self._idx_to_token:\n",
    "            raise KeyError(\"the index (%d) is not in the Vocabulary\" % index)\n",
    "        return self._idx_to_token[index]\n",
    "\n",
    "    def __str__(self):\n",
    "        return \"<Vocabulary(size=%d)>\" % len(self)\n",
    "\n",
    "    def __len__(self):\n",
    "        return len(self._token_to_idx)"
   ]
  },
  {
   "cell_type": "code",
   "execution_count": 3,
   "metadata": {},
   "outputs": [],
   "source": [
    "class SequenceVocabulary(Vocabulary):\n",
    "    def __init__(self, token_to_idx=None, unk_token=\"<UNK>\",\n",
    "                 mask_token=\"<MASK>\", begin_seq_token=\"<BEGIN>\",\n",
    "                 end_seq_token=\"<END>\"):\n",
    "\n",
    "        super(SequenceVocabulary, self).__init__(token_to_idx)\n",
    "\n",
    "        self._mask_token = mask_token             # for paddding, e.g., Wall St. Bears Claw Back Into the Black (Reuters)\n",
    "                                                  #               -> [2, 5, 6, 10, 10, 8, 7, 9, 19, ......., 3, 0, 0, 0, ..., 0]\n",
    "        self._unk_token = unk_token\n",
    "        self._begin_seq_token = begin_seq_token\n",
    "        self._end_seq_token = end_seq_token\n",
    "\n",
    "        self.mask_index = self.add_token(self._mask_token)            # mask_index is 0\n",
    "        self.unk_index = self.add_token(self._unk_token)              # unk_index is 1\n",
    "        self.begin_seq_index = self.add_token(self._begin_seq_token)  # begin_seq_index is 2\n",
    "        self.end_seq_index = self.add_token(self._end_seq_token)      # end_seq_index is 3\n",
    "\n",
    "    def lookup_token(self, token):\n",
    "        \"\"\"Retrieve the index associated with the token \n",
    "          or the UNK index if token isn't present.\n",
    "        \n",
    "        Args:\n",
    "            token (str): the token to look up \n",
    "        Returns:\n",
    "            index (int): the index corresponding to the token\n",
    "        Notes:\n",
    "            `unk_index` needs to be >=0 (having been added into the Vocabulary) \n",
    "              for the UNK functionality \n",
    "        \"\"\"\n",
    "        if self.unk_index >= 0:\n",
    "            return self._token_to_idx.get(token, self.unk_index)\n",
    "        else:\n",
    "            return self._token_to_idx[token]"
   ]
  },
  {
   "cell_type": "markdown",
   "metadata": {},
   "source": [
    "### The Vectorizer"
   ]
  },
  {
   "cell_type": "code",
   "execution_count": 4,
   "metadata": {},
   "outputs": [],
   "source": [
    "class NewsVectorizer(object):\n",
    "    \"\"\" The Vectorizer which coordinates the Vocabularies and puts them to use\"\"\"    \n",
    "    def __init__(self, news_vocab, category_vocab):\n",
    "        self.news_vocab = news_vocab\n",
    "        self.category_vocab = category_vocab\n",
    "\n",
    "    def vectorize(self, text, vector_length=-1):\n",
    "        \"\"\"\n",
    "        Args:\n",
    "            text (str): the string of words separated by a space\n",
    "            vector_length (int): an argument for forcing the length of index vector\n",
    "        Returns:\n",
    "            the vetorized text (numpy.array)\n",
    "        \"\"\"\n",
    "        \"\"\"    \n",
    "        mask_index is 0\n",
    "        unk_index is 1\n",
    "        begin_seq_index is 2\n",
    "        end_seq_index is 3\n",
    "        \n",
    "        When text is \"Wall St. Bears Claw Back Into the Black (Reuters)\"; max vector length is 29 in current dataset \n",
    "        \n",
    "        out_vector = [2, 5, 6, 10, 10, 8, 7, 9, 19, ......., 3, 0, 0, 0, ..., 0]\n",
    "        \n",
    "        \"\"\"\n",
    "        \n",
    "        indices = [self.news_vocab.begin_seq_index]\n",
    "        indices.extend(self.news_vocab.lookup_token(token) \n",
    "                       for token in text.split(\" \"))\n",
    "        indices.append(self.news_vocab.end_seq_index)\n",
    "\n",
    "        if vector_length < 0:\n",
    "            vector_length = len(indices)\n",
    "\n",
    "        out_vector = np.zeros(vector_length, dtype=np.int64)\n",
    "        out_vector[:len(indices)] = indices\n",
    "        out_vector[len(indices):] = self.news_vocab.mask_index\n",
    "\n",
    "        return out_vector\n",
    "\n",
    "    @classmethod\n",
    "    def from_dataframe(cls, news_df, cutoff=25):\n",
    "        \"\"\"Instantiate the vectorizer from the dataset dataframe\n",
    "        \n",
    "        Args:\n",
    "            news_df (pandas.DataFrame): the target dataset\n",
    "            cutoff (int): frequency threshold for including in Vocabulary \n",
    "        Returns:\n",
    "            an instance of the NewsVectorizer\n",
    "        \"\"\"\n",
    "        category_vocab = Vocabulary()        \n",
    "        for category in sorted(set(news_df.category)):\n",
    "            category_vocab.add_token(category)\n",
    "\n",
    "        word_counts = Counter()\n",
    "        for text in news_df.text:\n",
    "            for token in text.split(\" \"):\n",
    "                if token not in string.punctuation:\n",
    "                    word_counts[token] += 1\n",
    "        \n",
    "        news_vocab = SequenceVocabulary()\n",
    "        for word, word_count in word_counts.items():\n",
    "            if word_count >= cutoff:\n",
    "                news_vocab.add_token(word)\n",
    "        \n",
    "        return cls(news_vocab, category_vocab)"
   ]
  },
  {
   "cell_type": "markdown",
   "metadata": {},
   "source": [
    "### The Dataset"
   ]
  },
  {
   "cell_type": "code",
   "execution_count": 5,
   "metadata": {},
   "outputs": [
    {
     "data": {
      "text/plain": [
       "'glaxo settle paxil suicide pill suit new york reuters glaxosmithkline plc href target stock quickinfo fullquote l agreed release clinical study drug settle lawsuit accused withholding negative information antidepressant paxil new york attorney general office said thursday'"
      ]
     },
     "execution_count": 5,
     "metadata": {},
     "output_type": "execute_result"
    }
   ],
   "source": [
    "def text_preprocessing(text):\n",
    "    text = text.lower() # case folding\n",
    "    text = re.sub('&\\w*\\;\\w*', '', text)\n",
    "    text = re.sub('https?://\\S+|www\\.\\S+', '', text)\n",
    "    text = re.sub('\\[.*?\\]', '', text)\n",
    "    text = re.sub('<.*?>+', '', text)\n",
    "    text = re.sub('\\n', '', text)\n",
    "    text = re.sub(r\"[^a-z]+\", r\" \", text) # Regulation, remove special charecters\n",
    "    stop_words = set(stopwords.words('english'))\n",
    "    tokens = word_tokenize(text)\n",
    "    lemmatizer=WordNetLemmatizer()\n",
    "    # remove stopwords and lemmatization\n",
    "    result = [lemmatizer.lemmatize(i) for i in tokens if not i in stop_words]\n",
    "    #result = result[:3000]\n",
    "    # bigram\n",
    "    '''\n",
    "    bigram_result = []\n",
    "    bigram_list = ngrams(result, 2)\n",
    "    for word_set in bigram_list:\n",
    "        for word in word_set:\n",
    "            bigram_result.append(word)\n",
    "    '''\n",
    "    return result\n",
    "\n",
    "test_str_1 = \"This is sentence to test the effect of preprocessing... Yeah~\\nCool!fac  feae ge fe ga 🪣🛀🎀 ☏☢︎⏥␘⍎ (>╹ω╹<)喵\"\n",
    "test_str_2 = \"Glaxo Settles Paxil 'Suicide Pill' Suit.  NEW YORK (Reuters) - GlaxoSmithKline Plc &lt;A HREF=http://www.investor.reuters.com/FullQuote.aspx?ticker=GSK.L target=/stocks/quickinfo/fullquote\"\"&gt;GSK.L&lt;/A&gt; has agreed  to release all clinical studies of its drugs to settle a  lawsuit that accused it of withholding negative information  about the antidepressant Paxil, the New York Attorney General's  office said on Thursday.\"\n",
    "list = text_preprocessing(test_str_2)\n",
    "' '.join(list)"
   ]
  },
  {
   "cell_type": "code",
   "execution_count": 6,
   "metadata": {},
   "outputs": [],
   "source": [
    "class NewsDataset(Dataset):\n",
    "    def __init__(self, news_df, vectorizer):\n",
    "        \"\"\"\n",
    "        Args:\n",
    "            news_df (pandas.DataFrame): the dataset\n",
    "            vectorizer (NewsVectorizer): vectorizer instatiated from dataset\n",
    "        \"\"\"\n",
    "        self.news_df = news_df\n",
    "        self._vectorizer = vectorizer\n",
    "\n",
    "        # +1 if only using begin_seq, +2 if using both begin and end seq tokens\n",
    "        measure_len = lambda context: len(context.split(\" \"))\n",
    "        self._max_seq_length = max(map(measure_len, news_df.text)) + 2\n",
    "        \n",
    "\n",
    "        self.train_df = self.news_df[self.news_df.split=='train']\n",
    "        self.train_size = len(self.train_df)\n",
    "\n",
    "        self.val_df = self.news_df[self.news_df.split=='val']\n",
    "        self.validation_size = len(self.val_df)\n",
    "\n",
    "        self.test_df = self.news_df[self.news_df.split=='test']\n",
    "        self.test_size = len(self.test_df)\n",
    "\n",
    "        self._lookup_dict = {'train': (self.train_df, self.train_size),\n",
    "                             'val': (self.val_df, self.validation_size),\n",
    "                             'test': (self.test_df, self.test_size)}\n",
    "\n",
    "        self.set_split('train')\n",
    "\n",
    "        # Class weights\n",
    "        class_counts = news_df.category.value_counts().to_dict()\n",
    "        def sort_key(item):\n",
    "            return self._vectorizer.category_vocab.lookup_token(item[0])\n",
    "        sorted_counts = sorted(class_counts.items(), key=sort_key)\n",
    "        frequencies = [count for _, count in sorted_counts]\n",
    "        self.class_weights = 1.0 / torch.tensor(frequencies, dtype=torch.float32)\n",
    "        \n",
    "        \n",
    "    @classmethod\n",
    "    def load_dataset_and_make_vectorizer(cls, news_csv):\n",
    "        \"\"\"Load dataset and make a new vectorizer from scratch\n",
    "        \n",
    "        Args:\n",
    "            surname_csv (str): location of the dataset\n",
    "        Returns:\n",
    "            an instance of SurnameDataset\n",
    "        \"\"\"\n",
    "        news_df = pd.read_csv(news_csv)\n",
    "        \n",
    "        for index, text in enumerate(news_df.text):\n",
    "            processed_list = text_preprocessing(text)\n",
    "            news_df.text[index] = ' '.join(processed_list)\n",
    "\n",
    "        train_news_df = news_df[news_df.split=='train']\n",
    "        return cls(news_df, NewsVectorizer.from_dataframe(train_news_df))\n",
    "\n",
    "    def get_vectorizer(self):\n",
    "        \"\"\" returns the vectorizer \"\"\"\n",
    "        return self._vectorizer\n",
    "\n",
    "    def set_split(self, split=\"train\"):\n",
    "        \"\"\" selects the splits in the dataset using a column in the dataframe \"\"\"\n",
    "        self._target_split = split\n",
    "        self._target_df, self._target_size = self._lookup_dict[split]\n",
    "\n",
    "    def __len__(self):\n",
    "        return self._target_size\n",
    "\n",
    "    def __getitem__(self, index):\n",
    "        \"\"\"the primary entry point method for PyTorch datasets\n",
    "        \n",
    "        Args:\n",
    "            index (int): the index to the data point \n",
    "        Returns:\n",
    "            a dictionary holding the data point's features (x_data) and label (y_target)\n",
    "        \"\"\"\n",
    "        row = self._target_df.iloc[index]\n",
    "\n",
    "        news_vector = \\\n",
    "            self._vectorizer.vectorize(row.text, self._max_seq_length)\n",
    "\n",
    "        category_index = \\\n",
    "            self._vectorizer.category_vocab.lookup_token(row.category)\n",
    "\n",
    "        return {'x_data': news_vector,     # e.g., \"Wall St. Bears Claw Back Into the Black (Reuters)\" \n",
    "                                            # -> [2, 5, 6, 10, 10, 8, 7, 9, 19, ......., 3, 0, 0, 0, ..., 0]\n",
    "                'y_target': category_index} # e.g., 2\n",
    "\n",
    "    def get_num_batches(self, batch_size):\n",
    "        \"\"\"Given a batch size, return the number of batches in the dataset\n",
    "        \n",
    "        Args:\n",
    "            batch_size (int)\n",
    "        Returns:\n",
    "            number of batches in the dataset\n",
    "        \"\"\"\n",
    "        return len(self) // batch_size\n",
    "\n",
    "def generate_batches(dataset, batch_size, shuffle=True,\n",
    "                     drop_last=True, device=\"cpu\"): \n",
    "    \"\"\"\n",
    "    A generator function which wraps the PyTorch DataLoader. It will \n",
    "      ensure each tensor is on the write device location.\n",
    "    \"\"\"\n",
    "    dataloader = DataLoader(dataset=dataset, batch_size=batch_size,\n",
    "                            shuffle=shuffle, drop_last=drop_last)\n",
    "\n",
    "    for data_dict in dataloader:\n",
    "        out_data_dict = {}\n",
    "        for name, tensor in data_dict.items():\n",
    "            out_data_dict[name] = data_dict[name].to(device)\n",
    "        yield out_data_dict"
   ]
  },
  {
   "cell_type": "markdown",
   "metadata": {},
   "source": [
    "## The Model: NewsClassifier"
   ]
  },
  {
   "cell_type": "code",
   "execution_count": 7,
   "metadata": {},
   "outputs": [],
   "source": [
    "class NewsClassifier(nn.Module):\n",
    "    def __init__(self, embedding_size, num_embeddings, num_channels, \n",
    "                 hidden_dim, num_classes, dropout_p, \n",
    "                 pretrained_embeddings=None, padding_idx=0):\n",
    "        \"\"\"\n",
    "        Args:\n",
    "            embedding_size (int): size of the embedding vectors\n",
    "            num_embeddings (int): number of embedding vectors\n",
    "            filter_width (int): width of the convolutional kernels\n",
    "            num_channels (int): number of convolutional kernels per layer\n",
    "            hidden_dim (int): the size of the hidden dimension\n",
    "            num_classes (int): the number of classes in classification\n",
    "            dropout_p (float): a dropout parameter \n",
    "            pretrained_embeddings (numpy.array): previously trained word embeddings\n",
    "                default is None. If provided, \n",
    "            padding_idx (int): an index representing a null position\n",
    "        \"\"\"\n",
    "        super(NewsClassifier, self).__init__()\n",
    "\n",
    "        if pretrained_embeddings is None:\n",
    "            self.emb = nn.Embedding(embedding_dim=embedding_size,   # 100\n",
    "                                    num_embeddings=num_embeddings,  # 3409\n",
    "                                    padding_idx=padding_idx)        \n",
    "        else:\n",
    "            pretrained_embeddings = torch.from_numpy(pretrained_embeddings).float()\n",
    "            self.emb = nn.Embedding.from_pretrained(pretrained_embeddings, freeze=True) # when freeze=True (default), \n",
    "                                                                           # the tensor does not get updated in the learning process.\n",
    "               \n",
    "        # in_channels: embedding_size; out_channels: # of filters; kernel_size = n-gram size\n",
    "        # number of parameters: (# of filters, embedding_size, n-gram size), (100, 100, 2) for 2-gram\n",
    "        self.conv1d_4gram = nn.Conv1d(in_channels=embedding_size, out_channels=num_channels, kernel_size=4)       \n",
    "        self.conv1d_3gram = nn.Conv1d(in_channels=embedding_size, out_channels=num_channels, kernel_size=3)                          \n",
    "        self.conv1d_2gram = nn.Conv1d(in_channels=embedding_size, out_channels=num_channels, kernel_size=2)                   \n",
    "\n",
    "        self._dropout_p = dropout_p\n",
    "        self.fc1 = nn.Linear(num_channels*3, hidden_dim) # input:concatination of conv1d_4gram, conv1d_3gram, conv1d_2gram outputs \n",
    "        self.fc2 = nn.Linear(hidden_dim, num_classes)\n",
    "\n",
    "    def forward(self, x_in, apply_softmax=False):\n",
    "        \"\"\"The forward pass of the classifier\n",
    "        \n",
    "        Args:\n",
    "            x_in (torch.Tensor): an input data tensor. \n",
    "                x_in.shape should be (batch, dataset._max_seq_length)\n",
    "            apply_softmax (bool): a flag for the softmax activation\n",
    "                should be false if used with the Cross Entropy losses\n",
    "        Returns:\n",
    "            the resulting tensor. tensor.shape should be (batch, num_classes)\n",
    "        \"\"\"\n",
    "        \n",
    "        # embed and permute so features are channels\n",
    "        x_embedded = self.emb(x_in).permute(0, 2, 1)    # (batch, seq_len) -> (batch, seq_len, features)\n",
    "                                                        # rearange (batch, seq_len, features) to (batch, features, seq_len) \n",
    "                                                        # E.g.,    (128,   29,      100)      to (128,   100,      29)\n",
    "\n",
    "        features = F.elu(self.conv1d_4gram(x_embedded)) # features: (batch, num_channels, ?); e.g., (128, 100, ?)\n",
    "                                                        # activation function similar to leaky RELU(); can use F.relu() instead\n",
    "        # max/average and remove the extra dimension\n",
    "        remaining_size = features.size(dim=2)          # remaining_size: ? in (batch, num_channels, ?)\n",
    "        features_4gram = F.max_pool1d(features, remaining_size).squeeze(dim=2) # features_4gram: (batch, num_channels);kernel_size=remaining_size   \n",
    "        #features_4gram = F.avg_pool1d(features, remaining_size).squeeze(dim=2)   \n",
    "        \n",
    "        features = F.elu(self.conv1d_3gram(x_embedded)) # features: (batch, num_channels, ?); e.g., (128, 100, ?)\n",
    "        remaining_size = features.size(dim=2)          # remaining_size: ? in (batch, num_channels, ?)\n",
    "        features_3gram = F.max_pool1d(features, remaining_size).squeeze(dim=2)    # features_3gram: (batch, num_channels)\n",
    "\n",
    "        features = F.elu(self.conv1d_2gram(x_embedded)) # features: (batch, num_channels, ?); e.g., (128, 100, ?)\n",
    "        remaining_size = features.size(dim=2)          # remaining_size: ? in (batch, num_channels, ?)\n",
    "        features_2gram = F.max_pool1d(features, remaining_size).squeeze(dim=2)    # features_2gram: (batch, num_channels) \n",
    " \n",
    "        features = torch.cat([features_4gram, features_3gram, features_2gram], dim=1)\n",
    "            \n",
    "        features = F.dropout(features, p=self._dropout_p, training=self.training)\n",
    "        \n",
    "        # mlp classifier\n",
    "        intermediate_vector = F.dropout(F.relu(self.fc1(features)), p=self._dropout_p, training=self.training)\n",
    "        prediction_vector = self.fc2(intermediate_vector)  # (batch, num_classes)\n",
    "\n",
    "        if apply_softmax:\n",
    "            prediction_vector = F.softmax(prediction_vector, dim=1)\n",
    "\n",
    "        return prediction_vector"
   ]
  },
  {
   "cell_type": "markdown",
   "metadata": {},
   "source": [
    "## Training Routine"
   ]
  },
  {
   "cell_type": "markdown",
   "metadata": {},
   "source": [
    "### Helper functions"
   ]
  },
  {
   "cell_type": "code",
   "execution_count": 8,
   "metadata": {},
   "outputs": [],
   "source": [
    "def make_train_state(args):\n",
    "    return {'stop_early': False,\n",
    "            'early_stopping_step': 0,\n",
    "            'early_stopping_best_val': 1e8,\n",
    "            'learning_rate': args.learning_rate,\n",
    "            'epoch_index': 0,\n",
    "            'train_loss': [],\n",
    "            'train_acc': [],\n",
    "            'val_loss': [],\n",
    "            'val_acc': [],\n",
    "            'test_loss': -1,\n",
    "            'test_acc': -1,\n",
    "            'model_filename': args.model_state_file}\n",
    "\n",
    "def update_train_state(args, model, train_state):\n",
    "    \"\"\"Handle the training state updates.\n",
    "\n",
    "    Components:\n",
    "     - Early Stopping: Prevent overfitting.\n",
    "     - Model Checkpoint: Model is saved if the model is better\n",
    "\n",
    "    :param args: main arguments\n",
    "    :param model: model to train\n",
    "    :param train_state: a dictionary representing the training state values\n",
    "    :returns:\n",
    "        a new train_state\n",
    "    \"\"\"\n",
    "\n",
    "    # Save one model at least\n",
    "    if train_state['epoch_index'] == 0:\n",
    "        torch.save(model.state_dict(), train_state['model_filename'])\n",
    "        train_state['stop_early'] = False\n",
    "\n",
    "    # Save model if performance improved\n",
    "    elif train_state['epoch_index'] >= 1:\n",
    "        loss_tm1, loss_t = train_state['val_loss'][-2:]\n",
    "\n",
    "        # If loss worsened\n",
    "        if loss_t >= train_state['early_stopping_best_val']:\n",
    "            # Update step\n",
    "            train_state['early_stopping_step'] += 1\n",
    "        # Loss decreased\n",
    "        else:\n",
    "            # Save the best model\n",
    "            if loss_t < train_state['early_stopping_best_val']:\n",
    "                torch.save(model.state_dict(), train_state['model_filename'])\n",
    "                train_state['early_stopping_best_val'] = loss_t  # update 'early_stopping_best_val'\n",
    "\n",
    "            # Reset early stopping step\n",
    "            train_state['early_stopping_step'] = 0\n",
    "\n",
    "        # Stop early ?\n",
    "        train_state['stop_early'] = \\\n",
    "            train_state['early_stopping_step'] >= args.early_stopping_criteria\n",
    "\n",
    "    return train_state\n",
    "\n",
    "def compute_accuracy(y_pred, y_target):\n",
    "    _, y_pred_indices = y_pred.max(dim=1)\n",
    "    n_correct = torch.eq(y_pred_indices, y_target).sum().item()\n",
    "    return n_correct / len(y_pred_indices) * 100"
   ]
  },
  {
   "cell_type": "markdown",
   "metadata": {},
   "source": [
    "#### general utilities"
   ]
  },
  {
   "cell_type": "code",
   "execution_count": 9,
   "metadata": {},
   "outputs": [],
   "source": [
    "def set_seed_everywhere(seed, cuda, mps):\n",
    "    np.random.seed(seed)\n",
    "    torch.manual_seed(seed)\n",
    "    if cuda:\n",
    "        print(\"cuda manual seed\", seed)\n",
    "        torch.cuda.manual_seed_all(seed)\n",
    "    try:\n",
    "        if mps:\n",
    "            print(\"mps manual seed\", seed)\n",
    "            torch.mps.manual_seed(seed)\n",
    "    except:\n",
    "        pass\n",
    "\n",
    "def handle_dirs(dirpath):\n",
    "    if not os.path.exists(dirpath):\n",
    "        os.makedirs(dirpath)\n",
    "        \n",
    "def load_glove_from_file(glove_filepath):\n",
    "    \"\"\"\n",
    "    Load the GloVe embeddings \n",
    "    \n",
    "    Args:\n",
    "        glove_filepath (str): path to the glove embeddings file \n",
    "    Returns:\n",
    "        word_to_index (dict), embeddings (numpy.ndarary)\n",
    "    \"\"\"\n",
    "\n",
    "    word_to_index = {}\n",
    "    embeddings = []\n",
    "    with open(glove_filepath, \"r\", encoding='utf8') as fp:\n",
    "        for index, line in enumerate(fp):\n",
    "            line = line.split(\" \") # each line: word num1 num2 ...\n",
    "            word_to_index[line[0]] = index # word = line[0] \n",
    "            embedding_i = np.array([float(val) for val in line[1:]])\n",
    "            embeddings.append(embedding_i)\n",
    "    return word_to_index, np.stack(embeddings)\n",
    "\n",
    "def make_embedding_matrix(glove_filepath, words):\n",
    "    \"\"\"\n",
    "    Create embedding matrix for a specific set of words.\n",
    "    \n",
    "    Args:\n",
    "        glove_filepath (str): file path to the glove embeddigns\n",
    "        words (list): list of words in the dataset\n",
    "    \"\"\"\n",
    "    word_to_idx, glove_embeddings = load_glove_from_file(glove_filepath)\n",
    "    embedding_size = glove_embeddings.shape[1]\n",
    "    \n",
    "    final_embeddings = np.zeros((len(words), embedding_size))\n",
    "\n",
    "    for i, word in enumerate(words):\n",
    "        if word in word_to_idx:\n",
    "            final_embeddings[i, :] = glove_embeddings[word_to_idx[word]]\n",
    "        else:\n",
    "            embedding_i = torch.ones(1, embedding_size)\n",
    "            torch.nn.init.xavier_uniform_(embedding_i)\n",
    "            final_embeddings[i, :] = embedding_i\n",
    "\n",
    "    return final_embeddings"
   ]
  },
  {
   "cell_type": "markdown",
   "metadata": {},
   "source": [
    "### Settings and some prep work"
   ]
  },
  {
   "cell_type": "code",
   "execution_count": 10,
   "metadata": {},
   "outputs": [],
   "source": [
    "from argparse import Namespace"
   ]
  },
  {
   "cell_type": "code",
   "execution_count": 11,
   "metadata": {},
   "outputs": [
    {
     "name": "stdout",
     "output_type": "stream",
     "text": [
      "Expanded filepaths: \n",
      "\t../model_storage/News_Category\\model_cnn_News_Category.pth\n",
      "Using CUDA: True\n",
      "Using MPS: False\n",
      "cuda manual seed 1337\n"
     ]
    }
   ],
   "source": [
    "args = Namespace(\n",
    "    # Data and Path hyper parameters\n",
    "    news_csv=\"../data/processed/News_Category_Dataset_with_splits.csv\",\n",
    "    model_state_file=\"model_cnn_News_Category.pth\",\n",
    "    save_dir=\"../model_storage/News_Category\",\n",
    "    # Model hyper parameters\n",
    "    glove_filepath='../data/glove/glove.6B.100d.txt', \n",
    "    use_glove=True,\n",
    "    embedding_size=100, \n",
    "    hidden_dim=100, \n",
    "    num_channels=100, \n",
    "    # Training hyper parameter\n",
    "    seed=1337, \n",
    "    learning_rate=0.001, \n",
    "    dropout_p=0.1, \n",
    "    batch_size=64, \n",
    "    num_epochs=100, \n",
    "    early_stopping_criteria=5, \n",
    "    # Runtime option\n",
    "    cuda=True,\n",
    "    mps=True, \n",
    "    catch_keyboard_interrupt=True, \n",
    "    reload_from_files=False,\n",
    "    expand_filepaths_to_save_dir=True\n",
    ") \n",
    "\n",
    "if args.expand_filepaths_to_save_dir:\n",
    "    args.model_state_file = os.path.join(args.save_dir,\n",
    "                                         args.model_state_file)    \n",
    "    print(\"Expanded filepaths: \")\n",
    "    print(\"\\t{}\".format(args.model_state_file))\n",
    "    \n",
    "# Check CUDA for Nvidia\n",
    "if not torch.cuda.is_available():\n",
    "    args.cuda = False\n",
    "\n",
    "# Check MPS for Mac\n",
    "try:\n",
    "    if not torch.backends.mps.is_available():\n",
    "        args.mps = False\n",
    "except:\n",
    "    args.mps = False\n",
    "\n",
    "args.device = torch.device(\"cuda\" if args.cuda else \"mps\" if args.mps else \"cpu\")\n",
    "print(\"Using CUDA: {}\".format(args.cuda))\n",
    "print(\"Using MPS: {}\".format(args.mps))\n",
    "\n",
    "# Set seed for reproducibility\n",
    "set_seed_everywhere(args.seed, args.cuda, args.mps)\n",
    "\n",
    "# handle dirs\n",
    "handle_dirs(args.save_dir)"
   ]
  },
  {
   "cell_type": "markdown",
   "metadata": {},
   "source": [
    "### Initializations"
   ]
  },
  {
   "cell_type": "code",
   "execution_count": 12,
   "metadata": {},
   "outputs": [],
   "source": [
    "args.use_glove = True"
   ]
  },
  {
   "cell_type": "code",
   "execution_count": 13,
   "metadata": {},
   "outputs": [
    {
     "name": "stdout",
     "output_type": "stream",
     "text": [
      "Using pre-trained embeddings\n"
     ]
    }
   ],
   "source": [
    "# create dataset and vectorizer\n",
    "dataset = NewsDataset.load_dataset_and_make_vectorizer(args.news_csv)\n",
    "vectorizer = dataset.get_vectorizer()\n",
    "\n",
    "# Use GloVe or randomly initialized embeddings\n",
    "if args.use_glove:\n",
    "    words = vectorizer.news_vocab._token_to_idx.keys()  # 3409 unique words\n",
    "    embeddings = make_embedding_matrix(glove_filepath=args.glove_filepath,     # embeddings: (3409, 100)\n",
    "                                       words=words)\n",
    "    print(\"Using pre-trained embeddings\")\n",
    "else:\n",
    "    print(\"Not using pre-trained embeddings\")\n",
    "    embeddings = None\n",
    "\n",
    "classifier = NewsClassifier(embedding_size=args.embedding_size,          # e.g, 100\n",
    "                            num_embeddings=len(vectorizer.news_vocab),  # e.g., 3409\n",
    "                            num_channels=args.num_channels,              # e.g., 100\n",
    "                            hidden_dim=args.hidden_dim,                  # e.g., 100\n",
    "                            num_classes=len(vectorizer.category_vocab),  # e.g., 4\n",
    "                            dropout_p=args.dropout_p,                    # e.g., 0.1\n",
    "                            pretrained_embeddings=embeddings,\n",
    "                            padding_idx=0)"
   ]
  },
  {
   "cell_type": "code",
   "execution_count": 14,
   "metadata": {},
   "outputs": [
    {
     "name": "stdout",
     "output_type": "stream",
     "text": [
      "{'<MASK>': 0, '<UNK>': 1, '<BEGIN>': 2, '<END>': 3, 'johnson': 4, 'indianapolis': 5, 'dec': 6, 'announcement': 7, 'thursday': 8, 'morning': 9, 'end': 10, 'week': 11, 'speculation': 12, 'mean': 13, 'shareholder': 14, 'sign': 15, 'indiana': 16, 'lose': 17, 'one': 18, 'company': 19, 'british': 20, 'energy': 21, 'seek': 22, 'approval': 23, 'stock': 24, 'market': 25, 'fight': 26, 'plan': 27, 'rebel': 28, 'restructuring': 29, 'buy': 30, 'back': 31, 'raise': 32, 'dividend': 33, 'update': 34, 'general': 35, 'electric': 36, 'co': 37, 'biggest': 38, 'value': 39, 'said': 40, 'much': 41, 'billion': 42, 'three': 43, 'year': 44, 'raised': 45, 'quarterly': 46, 'percent': 47, 'analyst': 48, 'confidence': 49, 'china': 50, 'played': 51, 'chinese': 52, 'economy': 53, 'friday': 54, 'demand': 55, 'would': 56, 'quot': 57, 'long': 58, 'term': 59, 'asian': 60, 'lower': 61, 'awaited': 62, 'singapore': 63, 'reuters': 64, 'wednesday': 65, 'profit': 66, 'taking': 67, 'set': 68, 'two': 69, 'day': 70, 'gain': 71, 'dollar': 72, 'ahead': 73, 'comment': 74, 'fed': 75, 'chief': 76, 'alan': 77, 'expected': 78, 'case': 79, 'u': 80, 'rate': 81, 'rise': 82, 'say': 83, 'pulled': 84, 'deficit': 85, 'fiscal': 86, 'current': 87, 'account': 88, 'low': 89, 'interest': 90, 'driving': 91, 'currency': 92, 'fast': 93, 'far': 94, 'go': 95, 'bank': 96, 'canada': 97, 'governor': 98, 'david': 99, 'wireless': 100, 'network': 101, 'developer': 102, 'eye': 103, 'defense': 104, 'contract': 105, 'chicago': 106, 'inc': 107, 'wi': 108, 'fi': 109, 'based': 110, 'technology': 111, 'help': 112, 'land': 113, 'growing': 114, 'government': 115, 'business': 116, 'shake': 117, 'retailer': 118, 'london': 119, 'mark': 120, 'amp': 121, 'announced': 122, 'management': 123, 'tuesday': 124, 'cost': 125, 'six': 126, 'senior': 127, 'executive': 128, 'job': 129, 'sale': 130, 'home': 131, 'first': 132, 'half': 133, 'report': 134, 'mass': 135, 'wind': 136, 'power': 137, 'plant': 138, 'proposed': 139, 'water': 140, 'south': 141, 'major': 142, 'bird': 143, 'marine': 144, 'life': 145, 'could': 146, 'lead': 147, 'significant': 148, 'public': 149, 'health': 150, 'benefit': 151, 'peoplesoft': 152, 'get': 153, 'closer': 154, 'ibm': 155, 'threat': 156, 'hostile': 157, 'takeover': 158, 'oracle': 159, 'bn': 160, 'partnership': 161, 'user': 162, 'conference': 163, 'san': 164, 'francisco': 165, 'yesterday': 166, 'union': 167, 'fear': 168, 'chairman': 169, 'central': 170, 'spanish': 171, 'national': 172, 'tell': 173, 'today': 174, 'successful': 175, 'acquisition': 176, 'result': 177, 'le': 178, 'warning': 179, 'sa': 180, 'share': 181, 'amid': 182, 'world': 183, 'second': 184, 'largest': 185, 'issue': 186, 'post': 187, 'third': 188, 'quarter': 189, 'revenue': 190, 'later': 191, 'britain': 192, 'new': 193, 'fell': 194, 'latest': 195, 'according': 196, 'official': 197, 'data': 198, 'released': 199, 'way': 200, 'split': 201, 'unit': 202, 'group': 203, 'louis': 204, 'c': 205, 'might': 206, 'independent': 207, 'construction': 208, 'industrial': 209, 'give': 210, 'mixed': 211, 'spending': 212, 'surged': 213, 'august': 214, 'highest': 215, 'level': 216, 'record': 217, 'manufacturing': 218, 'grew': 219, 'pace': 220, 'september': 221, 'offering': 222, 'strength': 223, 'hire': 224, 'engineer': 225, 'japan': 226, 'planned': 227, 'newspaper': 228, 'push': 229, 'backed': 230, 'investment': 231, 'million': 232, 'euro': 233, 'nikkei': 234, 'close': 235, 'tokyo': 236, 'average': 237, 'rose': 238, 'four': 239, 'hope': 240, 'rally': 241, 'buying': 242, 'wide': 243, 'range': 244, 'tech': 245, 'extend': 246, 'asia': 247, 'crude': 248, 'oil': 249, 'price': 250, 'near': 251, 'barrel': 252, 'key': 253, 'economic': 254, 'auto': 255, 'sept': 256, 'led': 257, 'surge': 258, 'motor': 259, 'increase': 260, 'toyota': 261, 'gm': 262, 'wall': 263, 'street': 264, 'focus': 265, 'return': 266, 'york': 267, 'loss': 268, 'investor': 269, 'rising': 270, 'strong': 271, 'brother': 272, 'sprint': 273, 'nextel': 274, 'communication': 275, 'air': 276, 'court': 277, 'labor': 278, 'airway': 279, 'asked': 280, 'passenger': 281, 'service': 282, 'agent': 283, 'flight': 284, 'worker': 285, 'replace': 286, 'india': 287, 'nov': 288, 'indian': 289, 'held': 290, 'family': 291, 'industry': 292, 'country': 293, 'expert': 294, 'talk': 295, 'yet': 296, 'month': 297, 'prison': 298, 'frank': 299, 'banking': 300, 'com': 301, 'sentenced': 302, 'federal': 303, 'camp': 304, 'calif': 305, 'still': 306, 'eight': 307, 'outside': 308, 'remain': 309, 'without': 310, 'deal': 311, 'scheduled': 312, 'since': 313, 'june': 314, 'city': 315, 'manager': 316, 'jeff': 317, 'arrived': 318, 'founder': 319, 'step': 320, 'bos': 321, 'last': 322, 'night': 323, 'decision': 324, 'helped': 325, 'found': 326, 'ago': 327, 'buyer': 328, 'christmas': 329, 'box': 330, 'hard': 331, 'put': 332, 'right': 333, 'american': 334, 'eagle': 335, 'reach': 336, 'pilot': 337, 'leader': 338, 'division': 339, 'airline': 340, 'agreement': 341, 'includes': 342, 'pay': 343, 'hit': 344, 'top': 345, 'impact': 346, 'consumer': 347, 'survey': 348, 'sunday': 349, 'showed': 350, 'verizon': 351, 'opposition': 352, 'quote': 353, 'profile': 354, 'research': 355, 'europe': 356, 'clash': 357, 'boeing': 358, 'airbus': 359, 'competition': 360, 'giant': 361, 'aircraft': 362, 'maker': 363, 'heating': 364, 'european': 365, 'boost': 366, 'prospect': 367, 'save': 368, 'rescue': 369, 'try': 370, 'stop': 371, 'keep': 372, 'customer': 373, 'check': 374, 'point': 375, 'equity': 376, 'rating': 377, 'target': 378, 'software': 379, 'nasdaq': 380, 'news': 381, 'people': 382, 'although': 383, 'wait': 384, 'google': 385, 'debut': 386, 'make': 387, 'anticipated': 388, 'initial': 389, 'estimate': 390, 'raising': 391, 'ever': 392, 'global': 393, 'sir': 394, 'martin': 395, 'placed': 396, 'position': 397, 'rival': 398, 'advertising': 399, 'yahoo': 400, 'adding': 401, 'search': 402, 'engine': 403, 'tool': 404, 'following': 405, 'recent': 406, 'trend': 407, 'internet': 408, 'create': 409, 'personal': 410, 'link': 411, 'others': 412, 'settle': 413, 'part': 414, 'pension': 415, 'lawsuit': 416, 'international': 417, 'machine': 418, 'corp': 419, 'least': 420, 'claimed': 421, 'firm': 422, 'information': 423, 'system': 424, 'whose': 425, 'trade': 426, 'access': 427, 'judge': 428, 'microsoft': 429, 'e': 430, 'mail': 431, 'evidence': 432, 'antitrust': 433, 'suit': 434, 'july': 435, 'output': 436, 'factory': 437, 'run': 438, 'faster': 439, 'washington': 440, 'advanced': 441, 'capacity': 442, 'reserve': 443, 'yen': 444, 'japanese': 445, 'growth': 446, 'worry': 447, 'paper': 448, 'loses': 449, 'loan': 450, 'jet': 451, 'lost': 452, 'nearly': 453, 'regional': 454, 'reported': 455, 'saturday': 456, 'high': 457, 'struggling': 458, 'zealand': 459, 'dramatic': 460, 'may': 461, 'big': 462, 'operator': 463, 'iraq': 464, 'drop': 465, 'monday': 466, 'continued': 467, 'producer': 468, 'opec': 469, 'coming': 470, 'iraqi': 471, 'export': 472, 'insurer': 473, 'fee': 474, 'insurance': 475, 'named': 476, 'attorney': 477, 'investigation': 478, 'practice': 479, 'use': 480, 'center': 481, 'probe': 482, 'battle': 483, 'seen': 484, 'getting': 485, 'control': 486, 'house': 487, 'turn': 488, 'full': 489, 'ruling': 490, 'victory': 491, 'rule': 492, 'east': 493, 'continue': 494, 'drive': 495, 'next': 496, 'fastest': 497, 'region': 498, 'reached': 499, 'expansion': 500, 'picture': 501, 'show': 502, 'working': 503, 'film': 504, 'dvd': 505, 'rock': 506, 'boston': 507, 'scientific': 508, 'n': 509, 'already': 510, 'popular': 511, 'heart': 512, 'device': 513, 'recall': 514, 'jones': 515, 'mid': 516, 'href': 517, 'quickinfo': 518, 'fullquote': 519, 'worth': 520, 'move': 521, 'expand': 522, 'human': 523, 'q': 524, 'science': 525, 'posted': 526, 'hurt': 527, 'charge': 528, 'retirement': 529, 'officer': 530, 'satellite': 531, 'television': 532, 'ltd': 533, 'stake': 534, 'sky': 535, 'america': 536, 'operation': 537, 'retail': 538, 'platform': 539, 'completed': 540, 'driver': 541, 'annual': 542, 'agrees': 543, 'united': 544, 'online': 545, 'california': 546, 'provider': 547, 'agreed': 548, 'networking': 549, 'change': 550, 'certain': 551, 'nortel': 552, 'accounting': 553, 'equipment': 554, 'aim': 555, 'id': 556, 'phone': 557, 'number': 558, 'order': 559, 'telephone': 560, 'identity': 561, 'bomber': 562, 'despite': 563, 'congress': 564, 'commission': 565, 'commercial': 566, 'suicide': 567, 'security': 568, 'sought': 569, 'fda': 570, 'head': 571, 'senate': 572, 'finance': 573, 'committee': 574, 'called': 575, 'department': 576, 'launch': 577, 'allegation': 578, 'food': 579, 'drug': 580, 'administration': 581, 'went': 582, 'damage': 583, 'cbs': 584, 'mw': 585, 'field': 586, 'korea': 587, 'semiconductor': 588, 'state': 589, 'flash': 590, 'memory': 591, 'patent': 592, 'putin': 593, 'yukos': 594, 'asset': 595, 'russian': 596, 'president': 597, 'vladimir': 598, 'bid': 599, 'tax': 600, 'nation': 601, 'gas': 602, 'hold': 603, 'supply': 604, 'let': 605, 'gulf': 606, 'hurricane': 607, 'ivan': 608, 'uk': 609, 'cisco': 610, 'pressure': 611, 'sent': 612, 'overall': 613, 'little': 614, 'widely': 615, 'hike': 616, 'cut': 617, 'forecast': 618, 'earnings': 619, 'product': 620, 'war': 621, 'decade': 622, 'struggle': 623, 'france': 624, 'meet': 625, 'met': 626, 'organization': 627, 'series': 628, 'electronic': 629, 'delay': 630, 'computer': 631, 'delayed': 632, 'release': 633, 'review': 634, 'problem': 635, 'trial': 636, 'safety': 637, 'best': 638, 'selling': 639, 'linked': 640, 'death': 641, 'injury': 642, 'strike': 643, 'halt': 644, 'production': 645, 'north': 646, 'eastern': 647, 'work': 648, 'chain': 649, 'chip': 650, 'manufacturer': 651, 'avoid': 652, 'began': 653, 'intel': 654, 'financial': 655, 'showing': 656, 'continues': 657, 'sell': 658, 'remains': 659, 'slow': 660, 'montreal': 661, 'disappointing': 662, 'summer': 663, 'saying': 664, 'brazil': 665, 'ceo': 666, 'recovery': 667, 'speed': 668, 'free': 669, 'cash': 670, 'previous': 671, 'look': 672, 'flat': 673, 'future': 674, 'open': 675, 'corporate': 676, 'dutch': 677, 'prosecutor': 678, 'settlement': 679, 'ended': 680, 'development': 681, 'including': 682, 'deadly': 683, 'attack': 684, 'saudi': 685, 'role': 686, 'draft': 687, 'disney': 688, 'michael': 689, 'jury': 690, 'tennessee': 691, 'ordered': 692, 'dispute': 693, 'bill': 694, 'designed': 695, 'green': 696, 'touch': 697, 'blue': 698, 'red': 699, 'image': 700, 'star': 701, 'wave': 702, 'need': 703, 'ad': 704, 'publisher': 705, 'see': 706, 'pick': 707, 'fourth': 708, 'fall': 709, 'slide': 710, 'trading': 711, 'concern': 712, 'school': 713, 'college': 714, 'grand': 715, 'university': 716, 'bell': 717, 'decided': 718, 'date': 719, 'november': 720, 'due': 721, 'opening': 722, 'away': 723, 'ok': 724, 'cause': 725, 'related': 726, 'woman': 727, 'slightly': 728, 'barely': 729, 'inflation': 730, 'approach': 731, 'airport': 732, 'bought': 733, 'net': 734, 'men': 735, 'almost': 736, 'eu': 737, 'side': 738, 'even': 739, 'though': 740, 'filed': 741, 'brief': 742, 'fire': 743, 'protection': 744, 'prepared': 745, 'corporation': 746, 'october': 747, 'picked': 748, 'improving': 749, 'performance': 750, 'board': 751, 'option': 752, 'begin': 753, 'warns': 754, 'toronto': 755, 'warned': 756, 'preliminary': 757, 'b': 758, 'cp': 759, 'needed': 760, 'canadian': 761, 'seven': 762, 'activity': 763, 'area': 764, 'southeast': 765, 'march': 766, 'commerce': 767, 'came': 768, 'jump': 769, 'houston': 770, 'medical': 771, 'ex': 772, 'exec': 773, 'face': 774, 'sec': 775, 'action': 776, 'regulator': 777, 'former': 778, 'th': 779, 'straight': 780, 'risk': 781, 'soaring': 782, 'resource': 783, 'treasury': 784, 'secretary': 785, 'bush': 786, 'john': 787, 'stay': 788, 'ending': 789, 'foot': 790, 'soldier': 791, 'download': 792, 'cent': 793, 'seattle': 794, 'per': 795, 'song': 796, 'music': 797, 'place': 798, 'medium': 799, 'movie': 800, 'discus': 801, 'staff': 802, 'writer': 803, 'ground': 804, 'alliance': 805, 'owner': 806, 'ran': 807, 'store': 808, 'possible': 809, 'ruled': 810, 'black': 811, 'gold': 812, 'coca': 813, 'cola': 814, 'improved': 815, 'brand': 816, 'operating': 817, 'support': 818, 'index': 819, 'higher': 820, 'sector': 821, 'delta': 822, 'line': 823, 'unveiled': 824, 'carrier': 825, 'bankruptcy': 826, 'traffic': 827, 'increasing': 828, 'worldwide': 829, 'association': 830, 'cancer': 831, 'resigned': 832, 'disease': 833, 'cingular': 834, 'cell': 835, 'venture': 836, 'idea': 837, 'joint': 838, 'employee': 839, 'space': 840, 'building': 841, 'st': 842, 'bay': 843, 'f': 844, 'p': 845, 'dow': 846, 'better': 847, 'associate': 848, 'guilty': 849, 'ny': 850, 'journal': 851, 'afternoon': 852, 'citing': 853, 'source': 854, 'proposal': 855, 'brought': 856, 'failed': 857, 'clear': 858, 'sue': 859, 'winter': 860, 'announcing': 861, 'merck': 862, 'vioxx': 863, 'document': 864, 'pharmaceutical': 865, 'atlanta': 866, 'relief': 867, 'mile': 868, 'flying': 869, 'hear': 870, 'station': 871, 'material': 872, 'exchange': 873, 'aol': 874, 'marketing': 875, 'provide': 876, 'subscriber': 877, 'slip': 878, 'ranking': 879, 'declined': 880, 'five': 881, 'effort': 882, 'private': 883, 'capital': 884, 'real': 885, 'property': 886, 'pentagon': 887, 'study': 888, 'find': 889, 'total': 890, 'gap': 891, 'likely': 892, 'moving': 893, 'among': 894, 'agency': 895, 'thousand': 896, 'holiday': 897, 'toll': 898, 'many': 899, 'seems': 900, 'looking': 901, 'tv': 902, 'ap': 903, 'care': 904, 'soon': 905, 'screen': 906, 'develop': 907, 'short': 908, 'emergency': 909, 'draw': 910, 'prepare': 911, 'main': 912, 'toy': 913, 'january': 914, 'amazon': 915, 'team': 916, 'fraud': 917, 'filing': 918, 'several': 919, 'spammer': 920, 'fund': 921, 'given': 922, 'danger': 923, 'blockbuster': 924, 'hollywood': 925, 'campaign': 926, 'video': 927, 'parent': 928, 'turned': 929, 'consecutive': 930, 'spitzer': 931, 'accused': 932, 'broker': 933, 'broke': 934, 'donald': 935, 'time': 936, 'fix': 937, 'overnight': 938, 'another': 939, 'german': 940, 'mine': 941, 'utility': 942, 'want': 943, 'young': 944, 'call': 945, 'label': 946, 'around': 947, 'police': 948, 'told': 949, 'warner': 950, 'potential': 951, 'fine': 952, 'finish': 953, 'finally': 954, 'legal': 955, 'promise': 956, 'germany': 957, 'worst': 958, 'view': 959, 'crowd': 960, 'different': 961, 'thing': 962, 'stand': 963, 'success': 964, 'electronics': 965, 'file': 966, 'measure': 967, 'vote': 968, 'office': 969, 'charged': 970, 'shift': 971, 'toward': 972, 'left': 973, 'small': 974, 'hand': 975, 'party': 976, 'member': 977, 'considering': 978, 'civil': 979, 'press': 980, 'cutting': 981, 'facility': 982, 'site': 983, 'rallied': 984, 'late': 985, 'decline': 986, 'edge': 987, 'beat': 988, 'used': 989, 'child': 990, 'criminal': 991, 'send': 992, 'flood': 993, 'come': 994, 'website': 995, 'double': 996, 'trouble': 997, 'social': 998, 'shopping': 999, 'launched': 1000, 'feature': 1001, 'alert': 1002, 'take': 1003, 'issued': 1004, 'sun': 1005, 'acquire': 1006, 'voice': 1007, 'program': 1008, 'additional': 1009, 'common': 1010, 'plc': 1011, 'debt': 1012, 'headed': 1013, 'seemed': 1014, 'act': 1015, 'thomas': 1016, 'council': 1017, 'count': 1018, 'earlier': 1019, 'quit': 1020, 'russia': 1021, 'enron': 1022, 'natural': 1023, 'pipeline': 1024, 'military': 1025, 'reporting': 1026, 'dangerous': 1027, 'anti': 1028, 'australia': 1029, 'la': 1030, 'think': 1031, 'west': 1032, 'port': 1033, 'signed': 1034, 'purchase': 1035, 'justice': 1036, 'commissioner': 1037, 'made': 1038, 'appeared': 1039, 'positive': 1040, 'early': 1041, 'rejected': 1042, 'attempt': 1043, 'block': 1044, 'interview': 1045, 'sydney': 1046, 'confirmed': 1047, 'steady': 1048, 'figure': 1049, 'deutsche': 1050, 'barcelona': 1051, 'reject': 1052, 'longer': 1053, 'democratic': 1054, 'coalition': 1055, 'flu': 1056, 'vaccine': 1057, 'lot': 1058, 'standard': 1059, 'fuel': 1060, 'became': 1061, 'ford': 1062, 'car': 1063, 'outlook': 1064, 'mortgage': 1065, 'cable': 1066, 'via': 1067, 'round': 1068, 'increased': 1069, 'afp': 1070, 'facing': 1071, 'threatened': 1072, 'opened': 1073, 'meeting': 1074, 'track': 1075, 'malaysia': 1076, 'join': 1077, 'hotel': 1078, 'bad': 1079, 'good': 1080, 'period': 1081, 'received': 1082, 'philadelphia': 1083, 'troubled': 1084, 'mobile': 1085, 'hong': 1086, 'kong': 1087, 'base': 1088, 'solid': 1089, 'deadline': 1090, 'partner': 1091, 'pm': 1092, 'withdraw': 1093, 'australian': 1094, 'sears': 1095, 'shot': 1096, 'trust': 1097, 'holding': 1098, 'paris': 1099, 'ipo': 1100, 'consider': 1101, 'suspended': 1102, 'unless': 1103, 'leading': 1104, 'climate': 1105, 'hewlett': 1106, 'packard': 1107, 'ipod': 1108, 'miami': 1109, 'player': 1110, 'introduced': 1111, 'lineup': 1112, 'digital': 1113, 'cloud': 1114, 'automaker': 1115, 'single': 1116, 'credit': 1117, 'nyse': 1118, 'sony': 1119, 'studio': 1120, 'wal': 1121, 'mart': 1122, 'defeat': 1123, 'ballot': 1124, 'los': 1125, 'angeles': 1126, 'ag': 1127, 'paul': 1128, 'expects': 1129, 'spokesman': 1130, 'trying': 1131, 'olympic': 1132, 'greece': 1133, 'budget': 1134, 'hole': 1135, 'athens': 1136, 'olympics': 1137, 'greek': 1138, 'defence': 1139, 'separate': 1140, 'behind': 1141, 'peer': 1142, 'across': 1143, 'claim': 1144, 'korean': 1145, 'illegal': 1146, 'ministry': 1147, 'foreign': 1148, 'affair': 1149, 'urge': 1150, 'jakarta': 1151, 'taken': 1152, 'bring': 1153, 'g': 1154, 'fails': 1155, 'rich': 1156, 'club': 1157, 'advance': 1158, 'shell': 1159, 'royal': 1160, 'merger': 1161, 'netherlands': 1162, 'sharply': 1163, 'package': 1164, 'director': 1165, 'safe': 1166, 'beginning': 1167, 'question': 1168, 'super': 1169, 'status': 1170, 'schedule': 1171, 'fla': 1172, 'effect': 1173, 'size': 1174, 'telecommunication': 1175, 'nigerian': 1176, 'nigeria': 1177, 'passed': 1178, 'resolution': 1179, 'community': 1180, 'going': 1181, 'smaller': 1182, 'sport': 1183, 'vehicle': 1184, 'symantec': 1185, 'moved': 1186, 'joining': 1187, 'storage': 1188, 'v': 1189, 'well': 1190, 'breaking': 1191, 'took': 1192, 'prove': 1193, 'northern': 1194, 'win': 1195, 'controversial': 1196, 'known': 1197, 'fifth': 1198, 'weather': 1199, 'domestic': 1200, 'ticket': 1201, 'jumped': 1202, 'driven': 1203, 'park': 1204, 'broadcast': 1205, 'edition': 1206, 'previously': 1207, 'express': 1208, 'summit': 1209, 'prime': 1210, 'minister': 1211, 'manmohan': 1212, 'singh': 1213, 'tonight': 1214, 'strategic': 1215, 'aid': 1216, 'presidential': 1217, 'election': 1218, 'pc': 1219, 'seat': 1220, 'hardware': 1221, 'opportunity': 1222, 'unveils': 1223, 'arm': 1224, 'large': 1225, 'georgia': 1226, 'offer': 1227, 'reduce': 1228, 'game': 1229, 'halo': 1230, 'testing': 1231, 'spot': 1232, 'cabinet': 1233, 'reportedly': 1234, 'forward': 1235, 'december': 1236, 'ten': 1237, 'treatment': 1238, 'twice': 1239, 'web': 1240, 'start': 1241, 'crucial': 1242, 'season': 1243, 'reason': 1244, 'brazilian': 1245, 'george': 1246, 'w': 1247, 'kerry': 1248, 'agree': 1249, 'probably': 1250, 'sharp': 1251, 'associated': 1252, 'light': 1253, 'rebound': 1254, 'got': 1255, 'lift': 1256, 'disk': 1257, 'planning': 1258, 'assembly': 1259, 'book': 1260, 'compete': 1261, 'like': 1262, 'seeking': 1263, 'law': 1264, 'corruption': 1265, 'stage': 1266, 'offered': 1267, 'title': 1268, 'appears': 1269, 'supercomputer': 1270, 'champion': 1271, 'condition': 1272, 'terror': 1273, 'terrorism': 1274, 'debate': 1275, 'map': 1276, 'amount': 1277, 'special': 1278, 'moment': 1279, 'announces': 1280, 'money': 1281, 'saddam': 1282, 'hussein': 1283, 'statement': 1284, 'radical': 1285, 'nobel': 1286, 'prize': 1287, 'along': 1288, 'taiwan': 1289, 'island': 1290, 'tough': 1291, 'surprise': 1292, 'french': 1293, 'tribunal': 1294, 'gave': 1295, 'able': 1296, 'tie': 1297, 'every': 1298, 'supreme': 1299, 'card': 1300, 'african': 1301, 'miner': 1302, 'failure': 1303, 'siege': 1304, 'shrine': 1305, 'dell': 1306, 'extended': 1307, 'strategy': 1308, 'improve': 1309, 'income': 1310, 'session': 1311, 'trader': 1312, 'starting': 1313, 'brussels': 1314, 'challenge': 1315, 'de': 1316, 'un': 1317, 'especially': 1318, 'developing': 1319, 'closed': 1320, 'shi': 1321, 'peace': 1322, 'najaf': 1323, 'mutual': 1324, 'expect': 1325, 'boosted': 1326, 'lifted': 1327, 'panel': 1328, 'produce': 1329, 'labour': 1330, 'nokia': 1331, 'falling': 1332, 'threatening': 1333, 'ivory': 1334, 'coast': 1335, 'protest': 1336, 'paid': 1337, 'indonesian': 1338, 'diplomat': 1339, 'indonesia': 1340, 'quickly': 1341, 'form': 1342, 'l': 1343, 'ask': 1344, 'catch': 1345, 'hoping': 1346, 'page': 1347, 'mexico': 1348, 'florida': 1349, 'supplier': 1350, 'kind': 1351, 'gary': 1352, 'ball': 1353, 'caused': 1354, 'army': 1355, 'message': 1356, 'giving': 1357, 'also': 1358, 'r': 1359, 'wanted': 1360, 'struggled': 1361, 'solution': 1362, 'motion': 1363, 'italian': 1364, 'collapse': 1365, 'choice': 1366, 'robert': 1367, 'fired': 1368, 'man': 1369, 'ups': 1370, 'sending': 1371, 'telecom': 1372, 'racing': 1373, 'limited': 1374, 'poor': 1375, 'expectation': 1376, 'ebay': 1377, 'whether': 1378, 'plane': 1379, 'recently': 1380, 'ata': 1381, 'lay': 1382, 'hundred': 1383, 'siemens': 1384, 'flaw': 1385, 'ring': 1386, 'model': 1387, 'handset': 1388, 'decide': 1389, 'class': 1390, 'alleged': 1391, 'deputy': 1392, 'appointed': 1393, 'scandal': 1394, 'add': 1395, 'gun': 1396, 'protect': 1397, 'approved': 1398, 'allows': 1399, 'connection': 1400, 'fly': 1401, 'nuclear': 1402, 'final': 1403, 'often': 1404, 'century': 1405, 'become': 1406, 'monthly': 1407, 'really': 1408, 'pound': 1409, 'pakistan': 1410, 'payment': 1411, 'river': 1412, 'progress': 1413, 'heavy': 1414, 'oct': 1415, 'guard': 1416, 'door': 1417, 'signing': 1418, 'version': 1419, 'window': 1420, 'xp': 1421, 'instant': 1422, 'living': 1423, 'room': 1424, 'spread': 1425, 'massive': 1426, 'cincinnati': 1427, 'pact': 1428, 'local': 1429, 'doubt': 1430, 'kept': 1431, 'voter': 1432, 'poll': 1433, 'fannie': 1434, 'mae': 1435, 'turning': 1436, 'pass': 1437, 'force': 1438, 'generation': 1439, 'hot': 1440, 'developed': 1441, 'travel': 1442, 'weekend': 1443, 'kill': 1444, 'middle': 1445, 'nd': 1446, 'build': 1447, 'admitted': 1448, 'race': 1449, 'enough': 1450, 'beyond': 1451, 'white': 1452, 'aide': 1453, 'pfizer': 1454, 'allow': 1455, 'owned': 1456, 'body': 1457, 'putting': 1458, 'together': 1459, 'running': 1460, 'auction': 1461, 'piracy': 1462, 'road': 1463, 'kansa': 1464, 'aug': 1465, 'chase': 1466, 'chance': 1467, 'within': 1468, 'chart': 1469, 'wild': 1470, 'leaving': 1471, 'moscow': 1472, 'dozen': 1473, 'creating': 1474, 'response': 1475, 'jim': 1476, 'jan': 1477, 'saving': 1478, 'losing': 1479, 'break': 1480, 'old': 1481, 'created': 1482, 'patient': 1483, 'ability': 1484, 'ready': 1485, 'allegedly': 1486, 'arizona': 1487, 'possibly': 1488, 'newly': 1489, 'withdrawal': 1490, 'entire': 1491, 'forced': 1492, 'steel': 1493, 'person': 1494, 'stroke': 1495, 'huge': 1496, 'rocket': 1497, 'something': 1498, 'enterprise': 1499, 'wake': 1500, 'apparently': 1501, 'piece': 1502, 'officially': 1503, 'test': 1504, 'shipping': 1505, 'bar': 1506, 'server': 1507, 'watchdog': 1508, 'diego': 1509, 'winning': 1510, 'fresh': 1511, 'environmental': 1512, 'hour': 1513, 'limit': 1514, 'usa': 1515, 'failing': 1516, 'published': 1517, 'beating': 1518, 'michigan': 1519, 'ban': 1520, 'van': 1521, 'individual': 1522, 'abuse': 1523, 'cnn': 1524, 'charles': 1525, 'prince': 1526, 'processor': 1527, 'appeal': 1528, 'micro': 1529, 'vega': 1530, 'entertainment': 1531, 'weak': 1532, 'photo': 1533, 'added': 1534, 'apple': 1535, 'portable': 1536, 'display': 1537, 'rather': 1538, 'ride': 1539, 'bit': 1540, 'violence': 1541, 'weapon': 1542, 'al': 1543, 'spent': 1544, 'howard': 1545, 'radio': 1546, 'setback': 1547, 'traditional': 1548, 'bond': 1549, 'kodak': 1550, 'camera': 1551, 'available': 1552, 'visit': 1553, 'story': 1554, 'saw': 1555, 'county': 1556, 'reform': 1557, 'evening': 1558, 'resident': 1559, 'broadband': 1560, 'nine': 1561, 'renewed': 1562, 'project': 1563, 'policy': 1564, 'cleveland': 1565, 'technical': 1566, 'remained': 1567, 'injured': 1568, 'texas': 1569, 'past': 1570, 'x': 1571, 'thought': 1572, 'java': 1573, 'microsystems': 1574, 'republican': 1575, 'vowed': 1576, 'closing': 1577, 'detail': 1578, 'style': 1579, 'plus': 1580, 'detroit': 1581, 'word': 1582, 'caught': 1583, 'killed': 1584, 'struck': 1585, 'friend': 1586, 'making': 1587, 'laden': 1588, 'kick': 1589, 'suffered': 1590, 'missed': 1591, 'watch': 1592, 'hospital': 1593, 'scotland': 1594, 'helping': 1595, 'rest': 1596, 'training': 1597, 'commander': 1598, 'award': 1599, 'conflict': 1600, 'armed': 1601, 'mac': 1602, 'blow': 1603, 'political': 1604, 'spain': 1605, 'complete': 1606, 'representative': 1607, 'vendor': 1608, 'believe': 1609, 'handed': 1610, 'format': 1611, 'j': 1612, 'negotiation': 1613, 'deep': 1614, 'sold': 1615, 'started': 1616, 'nothing': 1617, 'western': 1618, 'pacific': 1619, 'claiming': 1620, 'name': 1621, 'vice': 1622, 'blast': 1623, 'king': 1624, 'dallas': 1625, 'bear': 1626, 'inside': 1627, 'pledge': 1628, 'beijing': 1629, 'tour': 1630, 'dropped': 1631, 'crown': 1632, 'trip': 1633, 'england': 1634, 'semi': 1635, 'steve': 1636, 'golf': 1637, 'priority': 1638, 'crime': 1639, 'familiar': 1640, 'extra': 1641, 'richard': 1642, 'broken': 1643, 'mr': 1644, 'fellow': 1645, 'introduce': 1646, 'student': 1647, 'age': 1648, 'province': 1649, 'powerful': 1650, 'linux': 1651, 'train': 1652, 'patch': 1653, 'leaf': 1654, 'live': 1655, 'sea': 1656, 'upcoming': 1657, 'request': 1658, 'stem': 1659, 'front': 1660, 'runner': 1661, 'ireland': 1662, 'either': 1663, 'lack': 1664, 'daily': 1665, 'miller': 1666, 'james': 1667, 'theft': 1668, 'justin': 1669, 'planet': 1670, 'militia': 1671, 'crm': 1672, 'convention': 1673, 'ninth': 1674, 'history': 1675, 'explorer': 1676, 'thanks': 1677, 'oakland': 1678, 'gone': 1679, 'unlikely': 1680, 'perhaps': 1681, 'wife': 1682, 'lawyer': 1683, 'centre': 1684, 'forest': 1685, 'miss': 1686, 'goal': 1687, 'shock': 1688, 'application': 1689, 'involved': 1690, 'gate': 1691, 'calling': 1692, 'roll': 1693, 'accept': 1694, 'italy': 1695, 'minnesota': 1696, 'license': 1697, 'slam': 1698, 'course': 1699, 'storm': 1700, 'offensive': 1701, 'database': 1702, 'stewart': 1703, 'friendly': 1704, 'design': 1705, 'secure': 1706, 'authority': 1707, 'announce': 1708, 'revealed': 1709, 'address': 1710, 'row': 1711, 'easy': 1712, 'urged': 1713, 'crisis': 1714, 'competitor': 1715, 'va': 1716, 'list': 1717, 'fox': 1718, 'channel': 1719, 'professional': 1720, 'writes': 1721, 'matter': 1722, 'majority': 1723, 'pushed': 1724, 'similar': 1725, 'suspension': 1726, 'distance': 1727, 'minute': 1728, 'built': 1729, 'son': 1730, 'administrator': 1731, 'au': 1732, 'setting': 1733, 'cross': 1734, 'border': 1735, 'era': 1736, 'multi': 1737, 'tim': 1738, 'aimed': 1739, 'upgrade': 1740, 'disc': 1741, 'iran': 1742, 'uranium': 1743, 'sanction': 1744, 'must': 1745, 'pre': 1746, 'instead': 1747, 'defends': 1748, 'speech': 1749, 'lawmaker': 1750, 'voting': 1751, 'eighth': 1752, 'event': 1753, 'dream': 1754, 'copyright': 1755, 'arab': 1756, 'core': 1757, 'southern': 1758, 'cooperation': 1759, 'infrastructure': 1760, 'wrong': 1761, 'tried': 1762, 'overtime': 1763, 'hearing': 1764, 'brown': 1765, 'mp': 1766, 'ship': 1767, 'streak': 1768, 'interim': 1769, 'heat': 1770, 'glazer': 1771, 'town': 1772, 'amd': 1773, 'process': 1774, 'fighter': 1775, 'critical': 1776, 'play': 1777, 'winner': 1778, 'celtic': 1779, 'zone': 1780, 'fan': 1781, 'crew': 1782, 'el': 1783, 'veteran': 1784, 'researcher': 1785, 'deliver': 1786, 'virgin': 1787, 'using': 1788, 'assistant': 1789, 'serious': 1790, 'however': 1791, 'surgery': 1792, 'maryland': 1793, 'sharing': 1794, 'opponent': 1795, 'becoming': 1796, 'never': 1797, 'know': 1798, 'love': 1799, 'sure': 1800, 'milan': 1801, 'ally': 1802, 'important': 1803, 'secret': 1804, 'waiting': 1805, 'disaster': 1806, 'sbc': 1807, 'girl': 1808, 'begun': 1809, 'direct': 1810, 'answer': 1811, 'sixth': 1812, 'ohio': 1813, 'prevent': 1814, 'paying': 1815, 'cap': 1816, 'rare': 1817, 'ca': 1818, 'argentina': 1819, 'phelps': 1820, 'client': 1821, 'firefox': 1822, 'browser': 1823, 'master': 1824, 'hill': 1825, 'ray': 1826, 'plea': 1827, 'pro': 1828, 'usatoday': 1829, 'football': 1830, 'wrap': 1831, 'perfect': 1832, 'parliament': 1833, 'looked': 1834, 'pull': 1835, 'seventh': 1836, 'crashed': 1837, 'philippine': 1838, 'career': 1839, 'pack': 1840, 'blame': 1841, 'host': 1842, 'myanmar': 1843, 'copy': 1844, 'fighting': 1845, 'coach': 1846, 'tomorrow': 1847, 'baseball': 1848, 'homer': 1849, 'leave': 1850, 'nascar': 1851, 'carolina': 1852, 'preview': 1853, 'carry': 1854, 'battery': 1855, 'capability': 1856, 'capture': 1857, 'walk': 1858, 'believed': 1859, 'returned': 1860, 'mount': 1861, 'victim': 1862, 'rout': 1863, 'finished': 1864, 'premier': 1865, 'peter': 1866, 'classic': 1867, 'shut': 1868, 'computing': 1869, 'irish': 1870, 'switch': 1871, 'playing': 1872, 'williams': 1873, 'defending': 1874, 'terrorist': 1875, 'sen': 1876, 'enter': 1877, 'africa': 1878, 'blood': 1879, 'doctor': 1880, 'crash': 1881, 'sentence': 1882, 'scientist': 1883, 'twin': 1884, 'handheld': 1885, 'boy': 1886, 'initiative': 1887, 'tape': 1888, 'bin': 1889, 'novell': 1890, 'jackson': 1891, 'great': 1892, 'escape': 1893, 'warming': 1894, 'graphic': 1895, 'lab': 1896, 'earth': 1897, 'fact': 1898, 'republic': 1899, 'leg': 1900, 'blog': 1901, 'league': 1902, 'israel': 1903, 'gaza': 1904, 'strip': 1905, 'candidate': 1906, 'msn': 1907, 'itunes': 1908, 'tony': 1909, 'blair': 1910, 'er': 1911, 'abu': 1912, 'resume': 1913, 'hostage': 1914, 'hp': 1915, 'troop': 1916, 'critic': 1917, 'packer': 1918, 'died': 1919, 'suspect': 1920, 'palestinian': 1921, 'israeli': 1922, 'content': 1923, 'hat': 1924, 'helicopter': 1925, 'raid': 1926, 'meter': 1927, 'delhi': 1928, 'briton': 1929, 'joe': 1930, 'finding': 1931, 'rain': 1932, 'mike': 1933, 'pas': 1934, 'village': 1935, 'smith': 1936, 'desktop': 1937, 'plot': 1938, 'cuba': 1939, 'color': 1940, 'ryder': 1941, 'freed': 1942, 'investigator': 1943, 'discovered': 1944, 'franchise': 1945, 'docomo': 1946, 'journalist': 1947, 'happy': 1948, 'spyware': 1949, 'jail': 1950, 'appearance': 1951, 'attacked': 1952, 'intelligence': 1953, 'declared': 1954, 'witness': 1955, 'match': 1956, 'colorado': 1957, 'nl': 1958, 'turkey': 1959, 'titan': 1960, 'ron': 1961, 'monitor': 1962, 'historic': 1963, 'virginia': 1964, 'jose': 1965, 'lion': 1966, 'rover': 1967, 'redskin': 1968, 'father': 1969, 'baghdad': 1970, 'code': 1971, 'threw': 1972, 'fined': 1973, 'explosive': 1974, 'belief': 1975, 'score': 1976, 'ranked': 1977, 'orleans': 1978, 'liverpool': 1979, 'capable': 1980, 'mar': 1981, 'islamabad': 1982, 'spur': 1983, 'explosion': 1984, 'suspected': 1985, 'dual': 1986, 'criticism': 1987, 'cardinal': 1988, 'roger': 1989, 'sox': 1990, 'standing': 1991, 'done': 1992, 'arrest': 1993, 'carrying': 1994, 'sweep': 1995, 'pitch': 1996, 'notebook': 1997, 'spam': 1998, 'smart': 1999, 'par': 2000, 'supporter': 2001, 'bomb': 2002, 'regular': 2003, 'verdana': 2004, 'm': 2005, 'sans': 2006, 'serif': 2007, 'arial': 2008, 'helvetica': 2009, 'font': 2010, 'dna': 2011, 'trojan': 2012, 'virus': 2013, 'astronomer': 2014, 'solar': 2015, 'infoworld': 2016, 'nasa': 2017, 'mission': 2018, 'specie': 2019, 'seoul': 2020, 'surface': 2021, 'democrat': 2022, 'fish': 2023, 'console': 2024, 'spacecraft': 2025, 'newsfactor': 2026, 'shuttle': 2027, 'spaceshipone': 2028, 'sp': 2029, 'falcon': 2030, 'remote': 2031, 'moon': 2032, 'hacker': 2033, 'blu': 2034, 'worm': 2035, 'baltimore': 2036, 'saturn': 2037, 'captured': 2038, 'cassini': 2039, 'beta': 2040, 'soccer': 2041, 'beckham': 2042, 'sex': 2043, 'lycos': 2044, 'killing': 2045, 'arrested': 2046, 'capsule': 2047, 'utah': 2048, 'thailand': 2049, 'violent': 2050, 'hall': 2051, 'scored': 2052, 'washingtonpost': 2053, 'o': 2054, 'chris': 2055, 'tiny': 2056, 'prisoner': 2057, 'bus': 2058, 'dy': 2059, 'expo': 2060, 'ziff': 2061, 'davis': 2062, 'earthquake': 2063, 'grid': 2064, 'bowl': 2065, 'sri': 2066, 'lanka': 2067, 'knee': 2068, 'atomic': 2069, 'patriot': 2070, 'tiger': 2071, 'congo': 2072, 'missing': 2073, 'jason': 2074, 'murder': 2075, 'assault': 2076, 'arsenal': 2077, 'dead': 2078, 'tackle': 2079, 'doping': 2080, 'islamic': 2081, 'colin': 2082, 'seed': 2083, 'medal': 2084, 'receiver': 2085, 'pakistani': 2086, 'pittsburgh': 2087, 'civilian': 2088, 'nfl': 2089, 'tom': 2090, 'bryant': 2091, 'nba': 2092, 'kobe': 2093, 'exploded': 2094, 'tournament': 2095, 'holy': 2096, 'banned': 2097, 'striker': 2098, 'marathon': 2099, 'tennis': 2100, 'championship': 2101, 'cup': 2102, 'dolphin': 2103, 'shooting': 2104, 'denver': 2105, 'madrid': 2106, 'qualifier': 2107, 'gunman': 2108, 'upset': 2109, 'opener': 2110, 'manchester': 2111, 'missile': 2112, 'yankee': 2113, 'yard': 2114, 'alex': 2115, 'militant': 2116, 'muslim': 2117, 'basketball': 2118, 'wood': 2119, 'manning': 2120, 'wizard': 2121, 'oklahoma': 2122, 'steelers': 2123, 'sharapova': 2124, 'uefa': 2125, 'hockey': 2126, 'rookie': 2127, 'nhl': 2128, 'barry': 2129, 'notre': 2130, 'dame': 2131, 'vijay': 2132, 'playoff': 2133, 'hamm': 2134, 'captain': 2135, 'pitcher': 2136, 'schilling': 2137, 'premiership': 2138, 'dodger': 2139, 'pitched': 2140, 'mariner': 2141, 'ranger': 2142, 'chelsea': 2143, 'quarterback': 2144, 'touchdown': 2145, 'teammate': 2146, 'seeded': 2147, 'pedro': 2148, 'martinez': 2149, 'mets': 2150, 'formula': 2151, 'tampa': 2152, 'athletics': 2153, 'inning': 2154, 'ticker': 2155, 'pacer': 2156, 'jay': 2157, 'offense': 2158, 'agassi': 2159, 'cricket': 2160, 'english': 2161, 'qualifying': 2162, 'defensive': 2163, 'brave': 2164, 'sprinter': 2165, 'raven': 2166, 'prix': 2167, 'newcastle': 2168, 'hewitt': 2169, 'stadium': 2170, 'colt': 2171, 'angel': 2172, 'federer': 2173, 'preseason': 2174, 'semifinal': 2175, 'astros': 2176, 'mauresmo': 2177, 'auburn': 2178, 'trophy': 2179, 'typhoon': 2180, 'ukraine': 2181, 'cub': 2182, 'kidnapped': 2183, 'ankle': 2184, 'powell': 2185, 'communist': 2186, 'bangladesh': 2187, 'embassy': 2188, 'haiti': 2189, 'colombia': 2190, 'egypt': 2191, 'wounded': 2192, 'egyptian': 2193, 'afghan': 2194, 'kidnapper': 2195, 'kashmir': 2196, 'tehran': 2197, 'afghanistan': 2198, 'kabul': 2199, 'sadr': 2200, 'jewish': 2201, 'musharraf': 2202, 'pervez': 2203, 'hamid': 2204, 'karzai': 2205, 'insurgent': 2206, 'bombing': 2207, 'fallujah': 2208, 'qaeda': 2209, 'sudanese': 2210, 'darfur': 2211, 'refugee': 2212, 'sudan': 2213, 'enrichment': 2214, 'arafat': 2215, 'yasser': 2216, 'democracy': 2217, 'guantanamo': 2218, 'sharon': 2219, 'jerusalem': 2220, 'ariel': 2221, 'hamas': 2222, 'mosque': 2223, 'convoy': 2224, 'cleric': 2225, 'shiite': 2226, 'beslan': 2227, 'annan': 2228, 'wounding': 2229, 'nepal': 2230}\n"
     ]
    }
   ],
   "source": [
    "print(vectorizer.news_vocab._token_to_idx)"
   ]
  },
  {
   "cell_type": "code",
   "execution_count": 15,
   "metadata": {},
   "outputs": [
    {
     "name": "stdout",
     "output_type": "stream",
     "text": [
      "{'Business': 0, 'Sci/Tech': 1, 'Sports': 2, 'World': 3}\n"
     ]
    }
   ],
   "source": [
    "print(vectorizer.category_vocab._token_to_idx)"
   ]
  },
  {
   "cell_type": "code",
   "execution_count": 16,
   "metadata": {},
   "outputs": [
    {
     "data": {
      "text/plain": [
       "88"
      ]
     },
     "execution_count": 16,
     "metadata": {},
     "output_type": "execute_result"
    }
   ],
   "source": [
    "dataset._max_seq_length"
   ]
  },
  {
   "cell_type": "markdown",
   "metadata": {},
   "source": [
    "### Training loop"
   ]
  },
  {
   "cell_type": "code",
   "execution_count": 17,
   "metadata": {
    "scrolled": true
   },
   "outputs": [
    {
     "data": {
      "application/vnd.jupyter.widget-view+json": {
       "model_id": "f955fe2c266e44b3ac4f92c984bc0fd3",
       "version_major": 2,
       "version_minor": 0
      },
      "text/plain": [
       "training routine:   0%|          | 0/100 [00:00<?, ?it/s]"
      ]
     },
     "metadata": {},
     "output_type": "display_data"
    },
    {
     "data": {
      "application/vnd.jupyter.widget-view+json": {
       "model_id": "0c7c06fde0ee4018b6973cea90b45482",
       "version_major": 2,
       "version_minor": 0
      },
      "text/plain": [
       "split=train:   0%|          | 0/181 [00:00<?, ?it/s]"
      ]
     },
     "metadata": {},
     "output_type": "display_data"
    },
    {
     "data": {
      "application/vnd.jupyter.widget-view+json": {
       "model_id": "c2368d2d589c40369f197bdb7e75e1fc",
       "version_major": 2,
       "version_minor": 0
      },
      "text/plain": [
       "split=val:   0%|          | 0/38 [00:00<?, ?it/s]"
      ]
     },
     "metadata": {},
     "output_type": "display_data"
    }
   ],
   "source": [
    "classifier = classifier.to(args.device)\n",
    "dataset.class_weights = dataset.class_weights.to(args.device)\n",
    "    \n",
    "loss_func = nn.CrossEntropyLoss(dataset.class_weights)\n",
    "optimizer = optim.Adam(classifier.parameters(), lr=args.learning_rate)\n",
    "scheduler = optim.lr_scheduler.ReduceLROnPlateau(optimizer=optimizer, mode='min', factor=0.5, patience=1)\n",
    "\n",
    "train_state = make_train_state(args)\n",
    "\n",
    "epoch_bar = tqdm(desc='training routine', total=args.num_epochs, position=0)\n",
    "\n",
    "dataset.set_split('train')\n",
    "train_bar = tqdm(desc='split=train', total=dataset.get_num_batches(args.batch_size), position=1, leave=True)\n",
    "\n",
    "dataset.set_split('val')\n",
    "val_bar = tqdm(desc='split=val', total=dataset.get_num_batches(args.batch_size), position=1, leave=True)\n",
    "\n",
    "try:\n",
    "    for epoch_index in range(args.num_epochs):\n",
    "        train_state['epoch_index'] = epoch_index\n",
    "\n",
    "        # Iterate over training dataset\n",
    "\n",
    "        # setup: batch generator, set loss and acc to 0, set train mode on\n",
    "\n",
    "        dataset.set_split('train')\n",
    "        batch_generator = generate_batches(dataset, \n",
    "                                           batch_size=args.batch_size, \n",
    "                                           device=args.device)\n",
    "        running_loss = 0.0\n",
    "        running_acc = 0.0\n",
    "        classifier.train()\n",
    "\n",
    "        for batch_index, batch_dict in enumerate(batch_generator):\n",
    "            # the training routine is these 5 steps:\n",
    "\n",
    "            # --------------------------------------\n",
    "            # step 1. zero the gradients\n",
    "            optimizer.zero_grad()\n",
    "\n",
    "            # step 2. compute the output\n",
    "            y_pred = classifier(batch_dict['x_data']) # (batch, seq_len) -> (batch, num_classes)\n",
    "\n",
    "            # step 3. compute the loss\n",
    "            loss = loss_func(y_pred, batch_dict['y_target'])\n",
    "            loss_t = loss.item()\n",
    "            running_loss += (loss_t - running_loss) / (batch_index + 1)\n",
    "\n",
    "            # step 4. use loss to produce gradients\n",
    "            loss.backward()\n",
    "\n",
    "            # step 5. use optimizer to take gradient step\n",
    "            optimizer.step()\n",
    "            # -----------------------------------------\n",
    "            # compute the accuracy\n",
    "            acc_t = compute_accuracy(y_pred, batch_dict['y_target'])\n",
    "            running_acc += (acc_t - running_acc) / (batch_index + 1)\n",
    "\n",
    "            # update bar\n",
    "            train_bar.set_postfix(loss=running_loss, acc=running_acc, \n",
    "                                  epoch=epoch_index)\n",
    "            train_bar.update()\n",
    "\n",
    "        train_state['train_loss'].append(running_loss)\n",
    "        train_state['train_acc'].append(running_acc)\n",
    "\n",
    "        # Iterate over val dataset\n",
    "\n",
    "        # setup: batch generator, set loss and acc to 0; set eval mode on\n",
    "        dataset.set_split('val')\n",
    "        batch_generator = generate_batches(dataset, \n",
    "                                           batch_size=args.batch_size, \n",
    "                                           device=args.device)\n",
    "        running_loss = 0.\n",
    "        running_acc = 0.\n",
    "        classifier.eval()\n",
    "\n",
    "        for batch_index, batch_dict in enumerate(batch_generator):\n",
    "\n",
    "            # compute the output\n",
    "            y_pred =  classifier(batch_dict['x_data'])\n",
    "\n",
    "            # step 3. compute the loss\n",
    "            loss = loss_func(y_pred, batch_dict['y_target'])\n",
    "            loss_t = loss.item()\n",
    "            running_loss += (loss_t - running_loss) / (batch_index + 1)\n",
    "\n",
    "            # compute the accuracy\n",
    "            acc_t = compute_accuracy(y_pred, batch_dict['y_target'])\n",
    "            running_acc += (acc_t - running_acc) / (batch_index + 1)\n",
    "            val_bar.set_postfix(loss=running_loss, acc=running_acc, \n",
    "                            epoch=epoch_index)\n",
    "            val_bar.update()\n",
    "\n",
    "        train_state['val_loss'].append(running_loss)\n",
    "        train_state['val_acc'].append(running_acc)\n",
    "\n",
    "        train_state = update_train_state(args=args, model=classifier,\n",
    "                                         train_state=train_state)\n",
    "\n",
    "        scheduler.step(train_state['val_loss'][-1])\n",
    "\n",
    "        if train_state['stop_early']:\n",
    "            break\n",
    "\n",
    "        train_bar.n = 0\n",
    "        val_bar.n = 0\n",
    "        epoch_bar.update()\n",
    "except KeyboardInterrupt:\n",
    "    print(\"Exiting loop\")\n"
   ]
  },
  {
   "cell_type": "code",
   "execution_count": 18,
   "metadata": {},
   "outputs": [
    {
     "data": {
      "image/png": "[encoded data removed]",
      "text/plain": [
       "<Figure size 640x480 with 1 Axes>"
      ]
     },
     "metadata": {},
     "output_type": "display_data"
    }
   ],
   "source": [
    "%matplotlib inline\n",
    "import matplotlib.pyplot as plt\n",
    "\n",
    "acc = train_state['train_acc']\n",
    "val_acc = train_state['val_acc']\n",
    "loss = train_state['train_loss']\n",
    "val_loss = train_state['val_loss']\n",
    "\n",
    "epochs = range(1, len(acc) + 1)\n",
    "\n",
    "# \"bo\" is for \"blue dot\"\n",
    "plt.plot(epochs, loss, 'bo', label='Training loss')\n",
    "# b is for \"solid blue line\"\n",
    "plt.plot(epochs, val_loss, 'b', label='Validation loss')\n",
    "plt.title('Training and validation loss')\n",
    "plt.xlabel('Epochs')\n",
    "plt.ylabel('Loss')\n",
    "plt.legend()\n",
    "\n",
    "plt.show()"
   ]
  },
  {
   "cell_type": "code",
   "execution_count": 19,
   "metadata": {},
   "outputs": [
    {
     "data": {
      "image/png": "[encoded data removed]",
      "text/plain": [
       "<Figure size 640x480 with 1 Axes>"
      ]
     },
     "metadata": {},
     "output_type": "display_data"
    }
   ],
   "source": [
    "plt.clf()   # clear figure\n",
    "\n",
    "plt.plot(epochs, acc, 'bo', label='Training acc')\n",
    "plt.plot(epochs, val_acc, 'b', label='Validation acc')\n",
    "plt.title('Training and validation accuracy')\n",
    "plt.xlabel('Epochs')\n",
    "plt.ylabel('Accuracy')\n",
    "plt.legend()\n",
    "\n",
    "plt.show()"
   ]
  },
  {
   "cell_type": "code",
   "execution_count": 20,
   "metadata": {},
   "outputs": [],
   "source": [
    "# compute the loss & accuracy on the test set using the best available model\n",
    "\n",
    "classifier.load_state_dict(torch.load(train_state['model_filename'])) # load the best model\n",
    "\n",
    "classifier = classifier.to(args.device)\n",
    "dataset.class_weights = dataset.class_weights.to(args.device)\n",
    "loss_func = nn.CrossEntropyLoss(dataset.class_weights)\n",
    "\n",
    "dataset.set_split('test')\n",
    "batch_generator = generate_batches(dataset, \n",
    "                                   batch_size=args.batch_size, \n",
    "                                   device=args.device)\n",
    "running_loss = 0.\n",
    "running_acc = 0.\n",
    "classifier.eval()\n",
    "\n",
    "y_pred_list = []         # store predicted values for confusion matrix\n",
    "y_category_list = []  # ground truth value\n",
    "\n",
    "for batch_index, batch_dict in enumerate(batch_generator):\n",
    "    # compute the output\n",
    "    y_pred =  classifier(batch_dict['x_data'])\n",
    "    \n",
    "    # store predicted values and ground truth values for calculating confusion matrix\n",
    "    y_pred_list.extend(y_pred.max(dim=1)[1].cpu().numpy())\n",
    "    y_category_list.extend(batch_dict['y_target'].cpu().numpy())\n",
    "    \n",
    "    # compute the loss\n",
    "    loss = loss_func(y_pred, batch_dict['y_target'])\n",
    "    loss_t = loss.item()\n",
    "    running_loss += (loss_t - running_loss) / (batch_index + 1)\n",
    "\n",
    "    # compute the accuracy\n",
    "    acc_t = compute_accuracy(y_pred, batch_dict['y_target'])\n",
    "    running_acc += (acc_t - running_acc) / (batch_index + 1)\n",
    "\n",
    "train_state['test_loss'] = running_loss\n",
    "train_state['test_acc'] = running_acc\n"
   ]
  },
  {
   "cell_type": "code",
   "execution_count": 21,
   "metadata": {},
   "outputs": [
    {
     "name": "stdout",
     "output_type": "stream",
     "text": [
      "Test loss: 0.3327402350933928;\n",
      "Test Accuracy: 89.35032894736844\n"
     ]
    }
   ],
   "source": [
    "print(\"Test loss: {};\".format(train_state['test_loss']))\n",
    "print(\"Test Accuracy: {}\".format(train_state['test_acc']))"
   ]
  },
  {
   "cell_type": "code",
   "execution_count": 22,
   "metadata": {},
   "outputs": [
    {
     "name": "stdout",
     "output_type": "stream",
     "text": [
      "['Business', 'Sci/Tech', 'Sports', 'World']\n"
     ]
    }
   ],
   "source": [
    "classes = []\n",
    "for i in range(len(dataset._vectorizer.category_vocab)):\n",
    "    classes.append(dataset._vectorizer.category_vocab.lookup_index(i))\n",
    "print(classes)"
   ]
  },
  {
   "cell_type": "code",
   "execution_count": 23,
   "metadata": {},
   "outputs": [
    {
     "name": "stdout",
     "output_type": "stream",
     "text": [
      "True       Business  Sci/Tech  Sports  World\n",
      "Predicted                                   \n",
      "Business        512        55       6     28\n",
      "Sci/Tech         57       525       6     20\n",
      "Sports           12         9     601     20\n",
      "World            24        16       6    535\n"
     ]
    }
   ],
   "source": [
    "import pandas as pd\n",
    "from sklearn.metrics import classification_report, confusion_matrix, accuracy_score\n",
    "\n",
    "cm = confusion_matrix(y_category_list, y_pred_list)\n",
    "cm_df = pd.DataFrame(cm.T, index=classes, columns=classes)\n",
    "cm_df.index.name = 'Predicted'\n",
    "cm_df.columns.name = 'True'\n",
    "print(cm_df)"
   ]
  },
  {
   "cell_type": "code",
   "execution_count": 24,
   "metadata": {},
   "outputs": [
    {
     "name": "stdout",
     "output_type": "stream",
     "text": [
      "              precision    recall  f1-score   support\n",
      "\n",
      "           0       0.85      0.85      0.85       605\n",
      "           1       0.86      0.87      0.87       605\n",
      "           2       0.94      0.97      0.95       619\n",
      "           3       0.92      0.89      0.90       603\n",
      "\n",
      "    accuracy                           0.89      2432\n",
      "   macro avg       0.89      0.89      0.89      2432\n",
      "weighted avg       0.89      0.89      0.89      2432\n",
      "\n"
     ]
    }
   ],
   "source": [
    "print(classification_report(y_category_list, y_pred_list))"
   ]
  },
  {
   "cell_type": "markdown",
   "metadata": {},
   "source": [
    "### Inference"
   ]
  },
  {
   "cell_type": "code",
   "execution_count": 25,
   "metadata": {},
   "outputs": [],
   "source": [
    "# Preprocess the reviews\n",
    "def preprocess_text(text):\n",
    "    text = ' '.join(word.lower() for word in text.split(\" \"))\n",
    "    text = re.sub(r\"([.,!?])\", r\" \\1 \", text)\n",
    "    text = re.sub(r\"[^a-zA-Z.,!?]+\", r\" \", text)\n",
    "    return text"
   ]
  },
  {
   "cell_type": "code",
   "execution_count": 26,
   "metadata": {},
   "outputs": [],
   "source": [
    "def predict_category(title, classifier, vectorizer, max_length):\n",
    "    \"\"\"Predict a News category for a new title\n",
    "    \n",
    "    Args:\n",
    "        title (str): a raw title string\n",
    "        classifier (NewsClassifier): an instance of the trained classifier\n",
    "        vectorizer (NewsVectorizer): the corresponding vectorizer\n",
    "        max_length (int): the max sequence length\n",
    "            Note: CNNs are sensitive to the input data tensor size. \n",
    "                  This ensures to keep it the same size as the training data\n",
    "    \"\"\"\n",
    "    title = preprocess_text(title)\n",
    "    vectorized_title = \\\n",
    "        torch.tensor(vectorizer.vectorize(title, vector_length=max_length))\n",
    "    result = classifier(vectorized_title.unsqueeze(0), apply_softmax=True)\n",
    "    probability_values, indices = result.max(dim=1)\n",
    "    predicted_category = vectorizer.category_vocab.lookup_index(indices.item())\n",
    "\n",
    "    return {'category': predicted_category, \n",
    "            'probability': probability_values.item()}"
   ]
  },
  {
   "cell_type": "code",
   "execution_count": 27,
   "metadata": {},
   "outputs": [],
   "source": [
    "def get_samples():\n",
    "    samples = {}\n",
    "    for cat in dataset.val_df.category.unique():\n",
    "        samples[cat] = dataset.val_df.text[dataset.val_df.category==cat].tolist()[:5]\n",
    "    return samples\n",
    "\n",
    "val_samples = get_samples() # first 5 titles of each category from validation dataset"
   ]
  },
  {
   "cell_type": "code",
   "execution_count": 28,
   "metadata": {},
   "outputs": [
    {
     "name": "stdout",
     "output_type": "stream",
     "text": [
      "True Category: Business\n",
      "==============================\n",
      "Prediction: Business (p=0.96)\n",
      "\t + Sample: cash america expands california fort worth based cash america international inc nyse pwn said monday bought operation cash advance location southern california\n",
      "Prediction: Sci/Tech (p=0.65)\n",
      "\t + Sample: howard stern show air uncensored satellite radio b howard stern risqu radio rhetoric broadcast listener across country uncensored ia satellite radio beginning january\n",
      "Prediction: Business (p=0.50)\n",
      "\t + Sample: china build tie brazil china president hu jintao visit brazil bid secure trade deal satisfy country burgeoning demand foreign good\n",
      "Prediction: Business (p=0.85)\n",
      "\t + Sample: defense lawyer disney trial try discredit witness defense lawyer walt disney trial friday tried undermine credibility witness testified company director neglected oversight\n",
      "Prediction: Sci/Tech (p=0.53)\n",
      "\t + Sample: samsung plan invest bn chip samsung electronics world second largest computer chip manufacturer yesterday said would invest bn bn semiconductor business generate\n",
      "------------------------------\n",
      "\n",
      "True Category: Sci/Tech\n",
      "==============================\n",
      "Prediction: Sci/Tech (p=0.95)\n",
      "\t + Sample: microsoft delay antitrust compliance requirement microsoft behind schedule complying court order document proprietary communication protocol according u authority monitoring behaviour\n",
      "Prediction: Sports (p=0.65)\n",
      "\t + Sample: testimony end evolution sticker trial atlanta testimony concluded wednesday lawsuit cobb county georgia school placing disclaimer sticker evolution high school biology text\n",
      "Prediction: Sci/Tech (p=0.60)\n",
      "\t + Sample: dependent specie risk extinction global extinction crisis worse thought thousand quot affiliated quot specie also risk figure calculation\n",
      "Prediction: Business (p=0.86)\n",
      "\t + Sample: inhale drug feel better maker flumist said looking whether make inhalable flu vaccine help federal government deal looming flu vaccine shortage\n",
      "Prediction: Sci/Tech (p=0.98)\n",
      "\t + Sample: sprint stupid found via boingboing morning new treo today long time fan treo looking forward asked past one everything phone feature could want one device without compromise look like palmone delivered x screen removable battery upgraded o better camera bluetooth oops quite treocentral reporting sprint version treo allow use bluetooth dial networking computer apparently carrier sprint see sprint sell connection card pccards allow dial\n",
      "------------------------------\n",
      "\n",
      "True Category: Sports\n",
      "==============================\n",
      "Prediction: Sports (p=0.94)\n",
      "\t + Sample: al notable jason giambi went walk long drive right field warning track first start yankee since july recovering benign tumor intestinal parasite strained groin respiratory infection hitless last bat\n",
      "Prediction: Sports (p=0.87)\n",
      "\t + Sample: islamic threaten woman soccer tournament bangladesh organizer bangladesh first woman soccer tournament promised keep playing despite protest muslim group called event quot indecent islamic norm quot\n",
      "Prediction: Sports (p=0.96)\n",
      "\t + Sample: deacon defeat friar justin gray lead wake forest point despite suffering gashed face top ranked demon deacon beat providence\n",
      "Prediction: Sports (p=0.99)\n",
      "\t + Sample: attention detail make manning great easy reel option colt quarterback peyton manning disposal soon free agent wrs marvin harrison brandon stokley rb edgerrin james te dallas\n",
      "Prediction: Sports (p=0.99)\n",
      "\t + Sample: mccain optimistic steroid test deal ap ap sen john mccain guardedly optimistic major league baseball player could reach agreement tougher testing steroid\n",
      "------------------------------\n",
      "\n",
      "True Category: World\n",
      "==============================\n",
      "Prediction: World (p=1.00)\n",
      "\t + Sample: dead kashmir violence new delhi fourteen people killed kashmir increase violence since visit indian prime minister mid november\n",
      "Prediction: World (p=1.00)\n",
      "\t + Sample: sharon want speed gaza plan source jerusalem israel could begin withdrawing occupied gaza early next year accelerated timetable prime minister ariel sharon plan present lawmaker likud party tuesday political source said\n",
      "Prediction: World (p=0.87)\n",
      "\t + Sample: northern irish protestant group pledge end violence northern ireland main pro british paramilitary group ulster defence association uda pledged end violence work towards complete disarmament\n",
      "Prediction: World (p=1.00)\n",
      "\t + Sample: u jet bomb insurgent held iraq city baghdad iraq u jet thursday pounded rebel stronghold fallujah town near syrian border come control insurgent killing dozen people official witness said\n",
      "Prediction: World (p=1.00)\n",
      "\t + Sample: kerry say fighting mood ap ap democratic sen john kerry said saturday fighting mood two month go presidential ally defended question valor vietnam\n",
      "------------------------------\n",
      "\n"
     ]
    }
   ],
   "source": [
    "#title = input(\"Enter a news title to classify: \")\n",
    "classifier = classifier.to(\"cpu\")\n",
    "\n",
    "for truth, sample_group in val_samples.items():\n",
    "    print(f\"True Category: {truth}\")\n",
    "    print(\"=\"*30)\n",
    "    for sample in sample_group:\n",
    "        prediction = predict_category(sample, classifier, \n",
    "                                      vectorizer, dataset._max_seq_length)\n",
    "        print(\"Prediction: {} (p={:0.2f})\".format(prediction['category'],\n",
    "                                                  prediction['probability']))\n",
    "        print(\"\\t + Sample: {}\".format(sample))\n",
    "    print(\"-\"*30 + \"\\n\")"
   ]
  },
  {
   "cell_type": "markdown",
   "metadata": {},
   "source": [
    "### Excercise:\n",
    "\n",
    "1. Change F.max_pool1d() to F.avg_pool1d().\n",
    "2. Change use_glove=True to use_glove=False.\n",
    "3. Change other hyperparameters.\n"
   ]
  }
 ],
 "metadata": {
  "kernelspec": {
   "display_name": "Python 3 (ipykernel)",
   "language": "python",
   "name": "python3"
  },
  "language_info": {
   "codemirror_mode": {
    "name": "ipython",
    "version": 3
   },
   "file_extension": ".py",
   "mimetype": "text/x-python",
   "name": "python",
   "nbconvert_exporter": "python",
   "pygments_lexer": "ipython3",
   "version": "3.10.12"
  },
  "toc": {
   "colors": {
    "hover_highlight": "#DAA520",
    "running_highlight": "#FF0000",
    "selected_highlight": "#FFD700"
   },
   "moveMenuLeft": true,
   "nav_menu": {
    "height": "138px",
    "width": "252px"
   },
   "navigate_menu": true,
   "number_sections": true,
   "sideBar": true,
   "skip_h1_title": false,
   "threshold": "5",
   "title_cell": "Table of Contents",
   "title_sidebar": "Contents",
   "toc_cell": false,
   "toc_position": {},
   "toc_section_display": "block",
   "toc_window_display": false
  }
 },
 "nbformat": 4,
 "nbformat_minor": 2
}
