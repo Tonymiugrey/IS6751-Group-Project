{
 "cells": [
  {
   "cell_type": "markdown",
   "metadata": {},
   "source": [
    "# Data Preparation for classifying news categories with a Convolutional Neural Network (NEW)"
   ]
  },
  {
   "cell_type": "code",
   "execution_count": 11,
   "metadata": {},
   "outputs": [],
   "source": [
    "import collections\n",
    "import numpy as np\n",
    "import pandas as pd\n",
    "import re\n",
    "\n",
    "from argparse import Namespace\n",
    "from matplotlib import pyplot as plt"
   ]
  },
  {
   "cell_type": "code",
   "execution_count": 12,
   "metadata": {},
   "outputs": [],
   "source": [
    "args = Namespace(\n",
    "    raw_dataset_csv_1=\"../data/original/ag_news_train.csv\",\n",
    "    raw_dataset_csv_2=\"../data/original/ag_news_test.csv\",\n",
    "    train_proportion=0.7,\n",
    "    val_proportion=0.15,\n",
    "    test_proportion=0.15,\n",
    "    output_munged_csv=\"../data/processed/News_Category_Dataset_with_splits.csv\",\n",
    "    seed=1337\n",
    ")"
   ]
  },
  {
   "cell_type": "code",
   "execution_count": 13,
   "metadata": {},
   "outputs": [
    {
     "data": {
      "text/html": [
       "<div>\n",
       "<style scoped>\n",
       "    .dataframe tbody tr th:only-of-type {\n",
       "        vertical-align: middle;\n",
       "    }\n",
       "\n",
       "    .dataframe tbody tr th {\n",
       "        vertical-align: top;\n",
       "    }\n",
       "\n",
       "    .dataframe thead th {\n",
       "        text-align: right;\n",
       "    }\n",
       "</style>\n",
       "<table border=\"1\" class=\"dataframe\">\n",
       "  <thead>\n",
       "    <tr style=\"text-align: right;\">\n",
       "      <th></th>\n",
       "      <th>category</th>\n",
       "      <th>text</th>\n",
       "    </tr>\n",
       "  </thead>\n",
       "  <tbody>\n",
       "    <tr>\n",
       "      <th>0</th>\n",
       "      <td>3</td>\n",
       "      <td>Dodge Charger image released. NEW YORK (CNN/Mo...</td>\n",
       "    </tr>\n",
       "    <tr>\n",
       "      <th>1</th>\n",
       "      <td>3</td>\n",
       "      <td>Wal-Mart fights Prop 72 in California. World #...</td>\n",
       "    </tr>\n",
       "    <tr>\n",
       "      <th>2</th>\n",
       "      <td>2</td>\n",
       "      <td>Back in the Saddle. Howard senior Marcos Moren...</td>\n",
       "    </tr>\n",
       "    <tr>\n",
       "      <th>3</th>\n",
       "      <td>4</td>\n",
       "      <td>German software pirate, and his father, get ja...</td>\n",
       "    </tr>\n",
       "    <tr>\n",
       "      <th>4</th>\n",
       "      <td>3</td>\n",
       "      <td>San Diego #39;s credit rating suspended. SAN D...</td>\n",
       "    </tr>\n",
       "    <tr>\n",
       "      <th>...</th>\n",
       "      <td>...</td>\n",
       "      <td>...</td>\n",
       "    </tr>\n",
       "    <tr>\n",
       "      <th>16595</th>\n",
       "      <td>1</td>\n",
       "      <td>Around the world. Ukrainian presidential candi...</td>\n",
       "    </tr>\n",
       "    <tr>\n",
       "      <th>16596</th>\n",
       "      <td>2</td>\n",
       "      <td>Void is filled with Clement. With the supply o...</td>\n",
       "    </tr>\n",
       "    <tr>\n",
       "      <th>16597</th>\n",
       "      <td>2</td>\n",
       "      <td>Martinez leaves bitter. Like Roger Clemens did...</td>\n",
       "    </tr>\n",
       "    <tr>\n",
       "      <th>16598</th>\n",
       "      <td>3</td>\n",
       "      <td>5 of arthritis patients in Singapore take Bext...</td>\n",
       "    </tr>\n",
       "    <tr>\n",
       "      <th>16599</th>\n",
       "      <td>3</td>\n",
       "      <td>EBay gets into rentals. EBay plans to buy the ...</td>\n",
       "    </tr>\n",
       "  </tbody>\n",
       "</table>\n",
       "<p>16600 rows × 2 columns</p>\n",
       "</div>"
      ],
      "text/plain": [
       "       category                                               text\n",
       "0             3  Dodge Charger image released. NEW YORK (CNN/Mo...\n",
       "1             3  Wal-Mart fights Prop 72 in California. World #...\n",
       "2             2  Back in the Saddle. Howard senior Marcos Moren...\n",
       "3             4  German software pirate, and his father, get ja...\n",
       "4             3  San Diego #39;s credit rating suspended. SAN D...\n",
       "...         ...                                                ...\n",
       "16595         1  Around the world. Ukrainian presidential candi...\n",
       "16596         2  Void is filled with Clement. With the supply o...\n",
       "16597         2  Martinez leaves bitter. Like Roger Clemens did...\n",
       "16598         3  5 of arthritis patients in Singapore take Bext...\n",
       "16599         3  EBay gets into rentals. EBay plans to buy the ...\n",
       "\n",
       "[16600 rows x 2 columns]"
      ]
     },
     "execution_count": 13,
     "metadata": {},
     "output_type": "execute_result"
    }
   ],
   "source": [
    "# Read raw data\n",
    "news_1 = pd.read_csv(args.raw_dataset_csv_1, header=0)\n",
    "news_1 = news_1.sample(9000)\n",
    "news_2 = pd.read_csv(args.raw_dataset_csv_2, header=0)\n",
    "news = pd.merge(news_1, news_2, how=\"outer\")\n",
    "news[\"text\"] = news[\"Title\"] + \". \" + news[\"Description\"]\n",
    "news.rename(columns={\"Class Index\":\"category\"}, inplace=True)\n",
    "news.drop(axis=1, columns=[\"Title\", \"Description\"], inplace=True)\n",
    "news"
   ]
  },
  {
   "cell_type": "code",
   "execution_count": 14,
   "metadata": {},
   "outputs": [],
   "source": [
    "# Splitting train by category\n",
    "# Create dict\n",
    "label_dict = {1:\"World\", 2:\"Sports\", 3:\"Business\", 4:\"Sci/Tech\"}\n",
    "by_label = collections.defaultdict(list)\n",
    "for _, row in news.iterrows():\n",
    "    row.category = label_dict[row.category]\n",
    "    by_label[row.category].append(row.to_dict())"
   ]
  },
  {
   "cell_type": "code",
   "execution_count": 15,
   "metadata": {},
   "outputs": [],
   "source": [
    "# Create split data\n",
    "final_list = []\n",
    "np.random.seed(args.seed)\n",
    "for _, item_list in sorted(by_label.items()):\n",
    "    np.random.shuffle(item_list)\n",
    "    n = len(item_list)\n",
    "    n_train = int(args.train_proportion*n)\n",
    "    n_val = int(args.val_proportion*n)\n",
    "    n_test = int(args.test_proportion*n)\n",
    "    \n",
    "    # Give data point a split attribute\n",
    "    for item in item_list[:n_train]:\n",
    "        item['split'] = 'train'\n",
    "    for item in item_list[n_train:n_train+n_val]:\n",
    "        item['split'] = 'val'\n",
    "    for item in item_list[n_train+n_val:]:\n",
    "        item['split'] = 'test'  \n",
    "    \n",
    "    # Add to final list\n",
    "    final_list.extend(item_list)"
   ]
  },
  {
   "cell_type": "code",
   "execution_count": 16,
   "metadata": {},
   "outputs": [],
   "source": [
    "# Write split data to file\n",
    "final_news = pd.DataFrame(final_list)"
   ]
  },
  {
   "cell_type": "code",
   "execution_count": 17,
   "metadata": {},
   "outputs": [
    {
     "data": {
      "text/plain": [
       "split\n",
       "train    11619\n",
       "test      2494\n",
       "val       2487\n",
       "Name: count, dtype: int64"
      ]
     },
     "execution_count": 17,
     "metadata": {},
     "output_type": "execute_result"
    }
   ],
   "source": [
    "final_news.split.value_counts()"
   ]
  },
  {
   "cell_type": "code",
   "execution_count": 18,
   "metadata": {},
   "outputs": [
    {
     "data": {
      "text/html": [
       "<div>\n",
       "<style scoped>\n",
       "    .dataframe tbody tr th:only-of-type {\n",
       "        vertical-align: middle;\n",
       "    }\n",
       "\n",
       "    .dataframe tbody tr th {\n",
       "        vertical-align: top;\n",
       "    }\n",
       "\n",
       "    .dataframe thead th {\n",
       "        text-align: right;\n",
       "    }\n",
       "</style>\n",
       "<table border=\"1\" class=\"dataframe\">\n",
       "  <thead>\n",
       "    <tr style=\"text-align: right;\">\n",
       "      <th></th>\n",
       "      <th>category</th>\n",
       "      <th>text</th>\n",
       "      <th>split</th>\n",
       "    </tr>\n",
       "  </thead>\n",
       "  <tbody>\n",
       "    <tr>\n",
       "      <th>0</th>\n",
       "      <td>Business</td>\n",
       "      <td>Guidant merges with Johnson and Johnson. India...</td>\n",
       "      <td>train</td>\n",
       "    </tr>\n",
       "    <tr>\n",
       "      <th>1</th>\n",
       "      <td>Business</td>\n",
       "      <td>British Energy seeks to delist. British Energy...</td>\n",
       "      <td>train</td>\n",
       "    </tr>\n",
       "    <tr>\n",
       "      <th>2</th>\n",
       "      <td>Business</td>\n",
       "      <td>GE to Buy Back \\$15 Bln in Stock, Raises Divid...</td>\n",
       "      <td>train</td>\n",
       "    </tr>\n",
       "    <tr>\n",
       "      <th>3</th>\n",
       "      <td>Business</td>\n",
       "      <td>BHP retains confidence in China. BHP Billiton ...</td>\n",
       "      <td>train</td>\n",
       "    </tr>\n",
       "    <tr>\n",
       "      <th>4</th>\n",
       "      <td>Business</td>\n",
       "      <td>Asian Stocks Lower, Greenspan Awaited.  SINGAP...</td>\n",
       "      <td>train</td>\n",
       "    </tr>\n",
       "  </tbody>\n",
       "</table>\n",
       "</div>"
      ],
      "text/plain": [
       "   category                                               text  split\n",
       "0  Business  Guidant merges with Johnson and Johnson. India...  train\n",
       "1  Business  British Energy seeks to delist. British Energy...  train\n",
       "2  Business  GE to Buy Back \\$15 Bln in Stock, Raises Divid...  train\n",
       "3  Business  BHP retains confidence in China. BHP Billiton ...  train\n",
       "4  Business  Asian Stocks Lower, Greenspan Awaited.  SINGAP...  train"
      ]
     },
     "execution_count": 18,
     "metadata": {},
     "output_type": "execute_result"
    }
   ],
   "source": [
    "final_news.head()"
   ]
  },
  {
   "cell_type": "code",
   "execution_count": 19,
   "metadata": {},
   "outputs": [],
   "source": [
    "# Write munged data to CSV\n",
    "final_news.to_csv(args.output_munged_csv, index=False)"
   ]
  },
  {
   "cell_type": "code",
   "execution_count": 20,
   "metadata": {},
   "outputs": [
    {
     "data": {
      "text/html": [
       "<div>\n",
       "<style scoped>\n",
       "    .dataframe tbody tr th:only-of-type {\n",
       "        vertical-align: middle;\n",
       "    }\n",
       "\n",
       "    .dataframe tbody tr th {\n",
       "        vertical-align: top;\n",
       "    }\n",
       "\n",
       "    .dataframe thead th {\n",
       "        text-align: right;\n",
       "    }\n",
       "</style>\n",
       "<table border=\"1\" class=\"dataframe\">\n",
       "  <thead>\n",
       "    <tr style=\"text-align: right;\">\n",
       "      <th></th>\n",
       "      <th>category</th>\n",
       "      <th>text</th>\n",
       "      <th>split</th>\n",
       "      <th>length</th>\n",
       "    </tr>\n",
       "  </thead>\n",
       "  <tbody>\n",
       "    <tr>\n",
       "      <th>0</th>\n",
       "      <td>Business</td>\n",
       "      <td>Guidant merges with Johnson and Johnson. India...</td>\n",
       "      <td>train</td>\n",
       "      <td>228</td>\n",
       "    </tr>\n",
       "    <tr>\n",
       "      <th>1</th>\n",
       "      <td>Business</td>\n",
       "      <td>British Energy seeks to delist. British Energy...</td>\n",
       "      <td>train</td>\n",
       "      <td>173</td>\n",
       "    </tr>\n",
       "    <tr>\n",
       "      <th>2</th>\n",
       "      <td>Business</td>\n",
       "      <td>GE to Buy Back \\$15 Bln in Stock, Raises Divid...</td>\n",
       "      <td>train</td>\n",
       "      <td>276</td>\n",
       "    </tr>\n",
       "    <tr>\n",
       "      <th>3</th>\n",
       "      <td>Business</td>\n",
       "      <td>BHP retains confidence in China. BHP Billiton ...</td>\n",
       "      <td>train</td>\n",
       "      <td>196</td>\n",
       "    </tr>\n",
       "    <tr>\n",
       "      <th>4</th>\n",
       "      <td>Business</td>\n",
       "      <td>Asian Stocks Lower, Greenspan Awaited.  SINGAP...</td>\n",
       "      <td>train</td>\n",
       "      <td>286</td>\n",
       "    </tr>\n",
       "    <tr>\n",
       "      <th>...</th>\n",
       "      <td>...</td>\n",
       "      <td>...</td>\n",
       "      <td>...</td>\n",
       "      <td>...</td>\n",
       "    </tr>\n",
       "    <tr>\n",
       "      <th>16595</th>\n",
       "      <td>World</td>\n",
       "      <td>Turkish engineer for US firm killed in Afghani...</td>\n",
       "      <td>test</td>\n",
       "      <td>266</td>\n",
       "    </tr>\n",
       "    <tr>\n",
       "      <th>16596</th>\n",
       "      <td>World</td>\n",
       "      <td>Senate Hears Testimony on Porn Addiction (AP)....</td>\n",
       "      <td>test</td>\n",
       "      <td>221</td>\n",
       "    </tr>\n",
       "    <tr>\n",
       "      <th>16597</th>\n",
       "      <td>World</td>\n",
       "      <td>Flawed cable insulation suspected for causing ...</td>\n",
       "      <td>test</td>\n",
       "      <td>268</td>\n",
       "    </tr>\n",
       "    <tr>\n",
       "      <th>16598</th>\n",
       "      <td>World</td>\n",
       "      <td>Afghan-Coalition Soldiers Kill 3, Wound 2 at C...</td>\n",
       "      <td>test</td>\n",
       "      <td>233</td>\n",
       "    </tr>\n",
       "    <tr>\n",
       "      <th>16599</th>\n",
       "      <td>World</td>\n",
       "      <td>Reclusive Amish could be thrown into election ...</td>\n",
       "      <td>test</td>\n",
       "      <td>233</td>\n",
       "    </tr>\n",
       "  </tbody>\n",
       "</table>\n",
       "<p>16600 rows × 4 columns</p>\n",
       "</div>"
      ],
      "text/plain": [
       "       category                                               text  split  \\\n",
       "0      Business  Guidant merges with Johnson and Johnson. India...  train   \n",
       "1      Business  British Energy seeks to delist. British Energy...  train   \n",
       "2      Business  GE to Buy Back \\$15 Bln in Stock, Raises Divid...  train   \n",
       "3      Business  BHP retains confidence in China. BHP Billiton ...  train   \n",
       "4      Business  Asian Stocks Lower, Greenspan Awaited.  SINGAP...  train   \n",
       "...         ...                                                ...    ...   \n",
       "16595     World  Turkish engineer for US firm killed in Afghani...   test   \n",
       "16596     World  Senate Hears Testimony on Porn Addiction (AP)....   test   \n",
       "16597     World  Flawed cable insulation suspected for causing ...   test   \n",
       "16598     World  Afghan-Coalition Soldiers Kill 3, Wound 2 at C...   test   \n",
       "16599     World  Reclusive Amish could be thrown into election ...   test   \n",
       "\n",
       "       length  \n",
       "0         228  \n",
       "1         173  \n",
       "2         276  \n",
       "3         196  \n",
       "4         286  \n",
       "...       ...  \n",
       "16595     266  \n",
       "16596     221  \n",
       "16597     268  \n",
       "16598     233  \n",
       "16599     233  \n",
       "\n",
       "[16600 rows x 4 columns]"
      ]
     },
     "metadata": {},
     "output_type": "display_data"
    },
    {
     "data": {
      "text/plain": [
       "<function matplotlib.pyplot.show(close=None, block=None)>"
      ]
     },
     "execution_count": 20,
     "metadata": {},
     "output_type": "execute_result"
    },
    {
     "data": {
      "image/png": "[encoded data removed]",
      "text/plain": [
       "<Figure size 640x480 with 1 Axes>"
      ]
     },
     "metadata": {},
     "output_type": "display_data"
    }
   ],
   "source": [
    "final_news['length'] = final_news['text'].apply(lambda x: len(x))\n",
    "len_train = final_news.groupby('length').count()\n",
    "\n",
    "sent_length = len_train.index.tolist()\n",
    "sent_freq = len_train['text'].tolist()\n",
    "display(final_news)\n",
    "# 绘制句子长度及出现频数统计图\n",
    "plt.bar(sent_length, sent_freq,2)\n",
    "plt.title(\"Frequency of Sentence Length\")\n",
    "plt.xlabel(\"Length\")\n",
    "plt.ylabel(\"Frequency\")\n",
    "plt.show"
   ]
  },
  {
   "cell_type": "code",
   "execution_count": null,
   "metadata": {},
   "outputs": [],
   "source": []
  }
 ],
 "metadata": {
  "kernelspec": {
   "display_name": "Python 3 (ipykernel)",
   "language": "python",
   "name": "python3"
  },
  "language_info": {
   "codemirror_mode": {
    "name": "ipython",
    "version": 3
   },
   "file_extension": ".py",
   "mimetype": "text/x-python",
   "name": "python",
   "nbconvert_exporter": "python",
   "pygments_lexer": "ipython3",
   "version": "3.10.12"
  },
  "toc": {
   "colors": {
    "hover_highlight": "#DAA520",
    "running_highlight": "#FF0000",
    "selected_highlight": "#FFD700"
   },
   "moveMenuLeft": true,
   "nav_menu": {
    "height": "12px",
    "width": "252px"
   },
   "navigate_menu": true,
   "number_sections": true,
   "sideBar": true,
   "threshold": "5",
   "toc_cell": false,
   "toc_section_display": "block",
   "toc_window_display": false
  }
 },
 "nbformat": 4,
 "nbformat_minor": 2
}
