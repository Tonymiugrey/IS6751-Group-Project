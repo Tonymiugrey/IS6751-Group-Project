{
 "cells": [
  {
   "cell_type": "markdown",
   "metadata": {},
   "source": [
    "# Data Preparation for classifying news categories with a Convolutional Neural Network (NEW)"
   ]
  },
  {
   "cell_type": "code",
   "execution_count": 11,
   "metadata": {},
   "outputs": [],
   "source": [
    "import collections\n",
    "import numpy as np\n",
    "import pandas as pd\n",
    "import re\n",
    "\n",
    "from argparse import Namespace\n",
    "from matplotlib import pyplot as plt"
   ]
  },
  {
   "cell_type": "code",
   "execution_count": 12,
   "metadata": {},
   "outputs": [],
   "source": [
    "args = Namespace(\n",
    "    raw_dataset_csv_1=\"../data/original/ag_news_train.csv\",\n",
    "    raw_dataset_csv_2=\"../data/original/ag_news_test.csv\",\n",
    "    train_proportion=0.7,\n",
    "    val_proportion=0.15,\n",
    "    test_proportion=0.15,\n",
    "    output_munged_csv=\"../data/processed/News_Category_Dataset_with_splits.csv\",\n",
    "    seed=1337\n",
    ")"
   ]
  },
  {
   "cell_type": "code",
   "execution_count": 13,
   "metadata": {},
   "outputs": [
    {
     "data": {
      "text/html": [
       "<div>\n",
       "<style scoped>\n",
       "    .dataframe tbody tr th:only-of-type {\n",
       "        vertical-align: middle;\n",
       "    }\n",
       "\n",
       "    .dataframe tbody tr th {\n",
       "        vertical-align: top;\n",
       "    }\n",
       "\n",
       "    .dataframe thead th {\n",
       "        text-align: right;\n",
       "    }\n",
       "</style>\n",
       "<table border=\"1\" class=\"dataframe\">\n",
       "  <thead>\n",
       "    <tr style=\"text-align: right;\">\n",
       "      <th></th>\n",
       "      <th>category</th>\n",
       "      <th>text</th>\n",
       "    </tr>\n",
       "  </thead>\n",
       "  <tbody>\n",
       "    <tr>\n",
       "      <th>0</th>\n",
       "      <td>1</td>\n",
       "      <td>Militants Turn Over Keys to Najaf Shrine. NAJA...</td>\n",
       "    </tr>\n",
       "    <tr>\n",
       "      <th>1</th>\n",
       "      <td>4</td>\n",
       "      <td>Study Eyes Salmonella, Typhoid, Monkeypox (AP)...</td>\n",
       "    </tr>\n",
       "    <tr>\n",
       "      <th>2</th>\n",
       "      <td>3</td>\n",
       "      <td>The Local Scene-Some local talk about Sears-Km...</td>\n",
       "    </tr>\n",
       "    <tr>\n",
       "      <th>3</th>\n",
       "      <td>3</td>\n",
       "      <td>Martha Stewart asks to serve sentence now. Mil...</td>\n",
       "    </tr>\n",
       "    <tr>\n",
       "      <th>4</th>\n",
       "      <td>4</td>\n",
       "      <td>Bad Fit? Bad Color? Good Riddance. If you can ...</td>\n",
       "    </tr>\n",
       "    <tr>\n",
       "      <th>...</th>\n",
       "      <td>...</td>\n",
       "      <td>...</td>\n",
       "    </tr>\n",
       "    <tr>\n",
       "      <th>17595</th>\n",
       "      <td>1</td>\n",
       "      <td>Around the world. Ukrainian presidential candi...</td>\n",
       "    </tr>\n",
       "    <tr>\n",
       "      <th>17596</th>\n",
       "      <td>2</td>\n",
       "      <td>Void is filled with Clement. With the supply o...</td>\n",
       "    </tr>\n",
       "    <tr>\n",
       "      <th>17597</th>\n",
       "      <td>2</td>\n",
       "      <td>Martinez leaves bitter. Like Roger Clemens did...</td>\n",
       "    </tr>\n",
       "    <tr>\n",
       "      <th>17598</th>\n",
       "      <td>3</td>\n",
       "      <td>5 of arthritis patients in Singapore take Bext...</td>\n",
       "    </tr>\n",
       "    <tr>\n",
       "      <th>17599</th>\n",
       "      <td>3</td>\n",
       "      <td>EBay gets into rentals. EBay plans to buy the ...</td>\n",
       "    </tr>\n",
       "  </tbody>\n",
       "</table>\n",
       "<p>17600 rows × 2 columns</p>\n",
       "</div>"
      ],
      "text/plain": [
       "       category                                               text\n",
       "0             1  Militants Turn Over Keys to Najaf Shrine. NAJA...\n",
       "1             4  Study Eyes Salmonella, Typhoid, Monkeypox (AP)...\n",
       "2             3  The Local Scene-Some local talk about Sears-Km...\n",
       "3             3  Martha Stewart asks to serve sentence now. Mil...\n",
       "4             4  Bad Fit? Bad Color? Good Riddance. If you can ...\n",
       "...         ...                                                ...\n",
       "17595         1  Around the world. Ukrainian presidential candi...\n",
       "17596         2  Void is filled with Clement. With the supply o...\n",
       "17597         2  Martinez leaves bitter. Like Roger Clemens did...\n",
       "17598         3  5 of arthritis patients in Singapore take Bext...\n",
       "17599         3  EBay gets into rentals. EBay plans to buy the ...\n",
       "\n",
       "[17600 rows x 2 columns]"
      ]
     },
     "execution_count": 13,
     "metadata": {},
     "output_type": "execute_result"
    }
   ],
   "source": [
    "# Read raw data\n",
    "news_1 = pd.read_csv(args.raw_dataset_csv_1, header=0)\n",
    "news_1 = news_1.sample(10000)\n",
    "news_2 = pd.read_csv(args.raw_dataset_csv_2, header=0)\n",
    "news = pd.merge(news_1, news_2, how=\"outer\")\n",
    "news[\"text\"] = news[\"Title\"] + \". \" + news[\"Description\"]\n",
    "news.rename(columns={\"Class Index\":\"category\"}, inplace=True)\n",
    "news.drop(axis=1, columns=[\"Title\", \"Description\"], inplace=True)\n",
    "news"
   ]
  },
  {
   "cell_type": "code",
   "execution_count": 14,
   "metadata": {},
   "outputs": [],
   "source": [
    "# Splitting train by category\n",
    "# Create dict\n",
    "label_dict = {1:\"World\", 2:\"Sports\", 3:\"Business\", 4:\"Sci/Tech\"}\n",
    "by_label = collections.defaultdict(list)\n",
    "for _, row in news.iterrows():\n",
    "    row.category = label_dict[row.category]\n",
    "    by_label[row.category].append(row.to_dict())"
   ]
  },
  {
   "cell_type": "code",
   "execution_count": 15,
   "metadata": {},
   "outputs": [],
   "source": [
    "# Create split data\n",
    "final_list = []\n",
    "np.random.seed(args.seed)\n",
    "for _, item_list in sorted(by_label.items()):\n",
    "    np.random.shuffle(item_list)\n",
    "    n = len(item_list)\n",
    "    n_train = int(args.train_proportion*n)\n",
    "    n_val = int(args.val_proportion*n)\n",
    "    n_test = int(args.test_proportion*n)\n",
    "    \n",
    "    # Give data point a split attribute\n",
    "    for item in item_list[:n_train]:\n",
    "        item['split'] = 'train'\n",
    "    for item in item_list[n_train:n_train+n_val]:\n",
    "        item['split'] = 'val'\n",
    "    for item in item_list[n_train+n_val:]:\n",
    "        item['split'] = 'test'  \n",
    "    \n",
    "    # Add to final list\n",
    "    final_list.extend(item_list)"
   ]
  },
  {
   "cell_type": "code",
   "execution_count": 16,
   "metadata": {},
   "outputs": [],
   "source": [
    "# Write split data to file\n",
    "final_news = pd.DataFrame(final_list)"
   ]
  },
  {
   "cell_type": "code",
   "execution_count": 17,
   "metadata": {},
   "outputs": [
    {
     "data": {
      "text/plain": [
       "train    12318\n",
       "test      2644\n",
       "val       2638\n",
       "Name: split, dtype: int64"
      ]
     },
     "execution_count": 17,
     "metadata": {},
     "output_type": "execute_result"
    }
   ],
   "source": [
    "final_news.split.value_counts()"
   ]
  },
  {
   "cell_type": "code",
   "execution_count": 18,
   "metadata": {},
   "outputs": [
    {
     "data": {
      "text/html": [
       "<div>\n",
       "<style scoped>\n",
       "    .dataframe tbody tr th:only-of-type {\n",
       "        vertical-align: middle;\n",
       "    }\n",
       "\n",
       "    .dataframe tbody tr th {\n",
       "        vertical-align: top;\n",
       "    }\n",
       "\n",
       "    .dataframe thead th {\n",
       "        text-align: right;\n",
       "    }\n",
       "</style>\n",
       "<table border=\"1\" class=\"dataframe\">\n",
       "  <thead>\n",
       "    <tr style=\"text-align: right;\">\n",
       "      <th></th>\n",
       "      <th>category</th>\n",
       "      <th>text</th>\n",
       "      <th>split</th>\n",
       "    </tr>\n",
       "  </thead>\n",
       "  <tbody>\n",
       "    <tr>\n",
       "      <th>0</th>\n",
       "      <td>Business</td>\n",
       "      <td>Military Buoys Profit at Defense Firms.  CHICA...</td>\n",
       "      <td>train</td>\n",
       "    </tr>\n",
       "    <tr>\n",
       "      <th>1</th>\n",
       "      <td>Business</td>\n",
       "      <td>Kroger profit falls, warns on sales. Kroger (K...</td>\n",
       "      <td>train</td>\n",
       "    </tr>\n",
       "    <tr>\n",
       "      <th>2</th>\n",
       "      <td>Business</td>\n",
       "      <td>Longer-Dated Treasuries in Demand.  NEW YORK (...</td>\n",
       "      <td>train</td>\n",
       "    </tr>\n",
       "    <tr>\n",
       "      <th>3</th>\n",
       "      <td>Business</td>\n",
       "      <td>Merrill, Wachovia, others fined for late repor...</td>\n",
       "      <td>train</td>\n",
       "    </tr>\n",
       "    <tr>\n",
       "      <th>4</th>\n",
       "      <td>Business</td>\n",
       "      <td>Kmart names new CEO. Kmart yesterday hired a r...</td>\n",
       "      <td>train</td>\n",
       "    </tr>\n",
       "  </tbody>\n",
       "</table>\n",
       "</div>"
      ],
      "text/plain": [
       "   category                                               text  split\n",
       "0  Business  Military Buoys Profit at Defense Firms.  CHICA...  train\n",
       "1  Business  Kroger profit falls, warns on sales. Kroger (K...  train\n",
       "2  Business  Longer-Dated Treasuries in Demand.  NEW YORK (...  train\n",
       "3  Business  Merrill, Wachovia, others fined for late repor...  train\n",
       "4  Business  Kmart names new CEO. Kmart yesterday hired a r...  train"
      ]
     },
     "execution_count": 18,
     "metadata": {},
     "output_type": "execute_result"
    }
   ],
   "source": [
    "final_news.head()"
   ]
  },
  {
   "cell_type": "code",
   "execution_count": 19,
   "metadata": {},
   "outputs": [],
   "source": [
    "# Write munged data to CSV\n",
    "final_news.to_csv(args.output_munged_csv, index=False)"
   ]
  },
  {
   "cell_type": "code",
   "execution_count": 20,
   "metadata": {},
   "outputs": [
    {
     "data": {
      "text/html": [
       "<div>\n",
       "<style scoped>\n",
       "    .dataframe tbody tr th:only-of-type {\n",
       "        vertical-align: middle;\n",
       "    }\n",
       "\n",
       "    .dataframe tbody tr th {\n",
       "        vertical-align: top;\n",
       "    }\n",
       "\n",
       "    .dataframe thead th {\n",
       "        text-align: right;\n",
       "    }\n",
       "</style>\n",
       "<table border=\"1\" class=\"dataframe\">\n",
       "  <thead>\n",
       "    <tr style=\"text-align: right;\">\n",
       "      <th></th>\n",
       "      <th>category</th>\n",
       "      <th>text</th>\n",
       "      <th>split</th>\n",
       "      <th>length</th>\n",
       "    </tr>\n",
       "  </thead>\n",
       "  <tbody>\n",
       "    <tr>\n",
       "      <th>0</th>\n",
       "      <td>Business</td>\n",
       "      <td>Military Buoys Profit at Defense Firms.  CHICA...</td>\n",
       "      <td>train</td>\n",
       "      <td>435</td>\n",
       "    </tr>\n",
       "    <tr>\n",
       "      <th>1</th>\n",
       "      <td>Business</td>\n",
       "      <td>Kroger profit falls, warns on sales. Kroger (K...</td>\n",
       "      <td>train</td>\n",
       "      <td>223</td>\n",
       "    </tr>\n",
       "    <tr>\n",
       "      <th>2</th>\n",
       "      <td>Business</td>\n",
       "      <td>Longer-Dated Treasuries in Demand.  NEW YORK (...</td>\n",
       "      <td>train</td>\n",
       "      <td>222</td>\n",
       "    </tr>\n",
       "    <tr>\n",
       "      <th>3</th>\n",
       "      <td>Business</td>\n",
       "      <td>Merrill, Wachovia, others fined for late repor...</td>\n",
       "      <td>train</td>\n",
       "      <td>263</td>\n",
       "    </tr>\n",
       "    <tr>\n",
       "      <th>4</th>\n",
       "      <td>Business</td>\n",
       "      <td>Kmart names new CEO. Kmart yesterday hired a r...</td>\n",
       "      <td>train</td>\n",
       "      <td>203</td>\n",
       "    </tr>\n",
       "    <tr>\n",
       "      <th>...</th>\n",
       "      <td>...</td>\n",
       "      <td>...</td>\n",
       "      <td>...</td>\n",
       "      <td>...</td>\n",
       "    </tr>\n",
       "    <tr>\n",
       "      <th>17595</th>\n",
       "      <td>World</td>\n",
       "      <td>Hostages plight clouds meeting of Blairs party...</td>\n",
       "      <td>test</td>\n",
       "      <td>302</td>\n",
       "    </tr>\n",
       "    <tr>\n",
       "      <th>17596</th>\n",
       "      <td>World</td>\n",
       "      <td>Turkey on Chirac-Schroeder agenda. President J...</td>\n",
       "      <td>test</td>\n",
       "      <td>261</td>\n",
       "    </tr>\n",
       "    <tr>\n",
       "      <th>17597</th>\n",
       "      <td>World</td>\n",
       "      <td>Terror Suspect Escapes From Bahrain Court. A t...</td>\n",
       "      <td>test</td>\n",
       "      <td>178</td>\n",
       "    </tr>\n",
       "    <tr>\n",
       "      <th>17598</th>\n",
       "      <td>World</td>\n",
       "      <td>After Delays, Milosevic Opens Defense.  THE HA...</td>\n",
       "      <td>test</td>\n",
       "      <td>296</td>\n",
       "    </tr>\n",
       "    <tr>\n",
       "      <th>17599</th>\n",
       "      <td>World</td>\n",
       "      <td>Rivers Run Black, and Chinese Die of Cancer. A...</td>\n",
       "      <td>test</td>\n",
       "      <td>172</td>\n",
       "    </tr>\n",
       "  </tbody>\n",
       "</table>\n",
       "<p>17600 rows × 4 columns</p>\n",
       "</div>"
      ],
      "text/plain": [
       "       category                                               text  split  \\\n",
       "0      Business  Military Buoys Profit at Defense Firms.  CHICA...  train   \n",
       "1      Business  Kroger profit falls, warns on sales. Kroger (K...  train   \n",
       "2      Business  Longer-Dated Treasuries in Demand.  NEW YORK (...  train   \n",
       "3      Business  Merrill, Wachovia, others fined for late repor...  train   \n",
       "4      Business  Kmart names new CEO. Kmart yesterday hired a r...  train   \n",
       "...         ...                                                ...    ...   \n",
       "17595     World  Hostages plight clouds meeting of Blairs party...   test   \n",
       "17596     World  Turkey on Chirac-Schroeder agenda. President J...   test   \n",
       "17597     World  Terror Suspect Escapes From Bahrain Court. A t...   test   \n",
       "17598     World  After Delays, Milosevic Opens Defense.  THE HA...   test   \n",
       "17599     World  Rivers Run Black, and Chinese Die of Cancer. A...   test   \n",
       "\n",
       "       length  \n",
       "0         435  \n",
       "1         223  \n",
       "2         222  \n",
       "3         263  \n",
       "4         203  \n",
       "...       ...  \n",
       "17595     302  \n",
       "17596     261  \n",
       "17597     178  \n",
       "17598     296  \n",
       "17599     172  \n",
       "\n",
       "[17600 rows x 4 columns]"
      ]
     },
     "metadata": {},
     "output_type": "display_data"
    },
    {
     "data": {
      "text/plain": [
       "<function matplotlib.pyplot.show(close=None, block=None)>"
      ]
     },
     "execution_count": 20,
     "metadata": {},
     "output_type": "execute_result"
    },
    {
     "data": {
      "image/png": "[encoded data removed]",
      "text/plain": [
       "<Figure size 640x480 with 1 Axes>"
      ]
     },
     "metadata": {},
     "output_type": "display_data"
    }
   ],
   "source": [
    "final_news['length'] = final_news['text'].apply(lambda x: len(x))\n",
    "len_train = final_news.groupby('length').count()\n",
    "\n",
    "sent_length = len_train.index.tolist()\n",
    "sent_freq = len_train['text'].tolist()\n",
    "display(final_news)\n",
    "# 绘制句子长度及出现频数统计图\n",
    "plt.bar(sent_length, sent_freq,2)\n",
    "plt.title(\"Frequency of Sentence Length\")\n",
    "plt.xlabel(\"Length\")\n",
    "plt.ylabel(\"Frequency\")\n",
    "plt.show"
   ]
  },
  {
   "cell_type": "code",
   "execution_count": null,
   "metadata": {},
   "outputs": [],
   "source": []
  }
 ],
 "metadata": {
  "kernelspec": {
   "display_name": "Python 3 (ipykernel)",
   "language": "python",
   "name": "python3"
  },
  "language_info": {
   "codemirror_mode": {
    "name": "ipython",
    "version": 3
   },
   "file_extension": ".py",
   "mimetype": "text/x-python",
   "name": "python",
   "nbconvert_exporter": "python",
   "pygments_lexer": "ipython3",
   "version": "3.9.13"
  },
  "toc": {
   "colors": {
    "hover_highlight": "#DAA520",
    "running_highlight": "#FF0000",
    "selected_highlight": "#FFD700"
   },
   "moveMenuLeft": true,
   "nav_menu": {
    "height": "12px",
    "width": "252px"
   },
   "navigate_menu": true,
   "number_sections": true,
   "sideBar": true,
   "threshold": "5",
   "toc_cell": false,
   "toc_section_display": "block",
   "toc_window_display": false
  }
 },
 "nbformat": 4,
 "nbformat_minor": 2
}
